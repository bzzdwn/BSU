{
 "cells": [
  {
   "cell_type": "markdown",
   "id": "b1954758-8d7a-4fb9-a473-ef98426ef8f2",
   "metadata": {},
   "source": [
    "# Исследование устойчивости разностных схем"
   ]
  },
  {
   "cell_type": "markdown",
   "id": "e52e8183-4ca3-40e0-957b-4ce7e2fdb6b0",
   "metadata": {},
   "source": [
    "Дана дифференциальная задача для уравнения переноса\n",
    "\t\\begin{equation}\n",
    "\t\t\\begin{dcases}\n",
    "\t\t\t\\dfrac{\\partial u}{\\partial t} + a \\dfrac{\\partial u}{\\partial x} = 0,\\ 0 < x < \\infty,\\ t>0,\\\\\n",
    "\t\tu(x,0) = u_0(x),\\ x \\geq 0\\\\\n",
    "        u(0,t) = \\mu_0(t),\\ t \\geq 0\n",
    "\t\t\\end{dcases}\n",
    "\t\\end{equation}\n",
    "\tгде\n",
    "    \n",
    "- $a=10$;\n",
    "\n",
    "- $u_0(x) = x^2$;\n",
    "\n",
    "- $\\mu_0(t) = 100t^2$.\n",
    "\n",
    "Определим входные данные компьютерно"
   ]
  },
  {
   "cell_type": "code",
   "execution_count": 3,
   "id": "8c88fc1b-dcc5-4217-a0fc-2db0b936bf29",
   "metadata": {},
   "outputs": [],
   "source": [
    "a = 10\n",
    "\n",
    "def u_0(x):\n",
    "    return x**2\n",
    "\n",
    "def mu_0(t):\n",
    "    return 100*t**2"
   ]
  },
  {
   "cell_type": "markdown",
   "id": "5883a293-35d6-4cf4-b2f9-6d278de9e196",
   "metadata": {},
   "source": [
    "## Построение разностной схемы, погрешность аппроксимации"
   ]
  },
  {
   "cell_type": "markdown",
   "id": "ca63ec04-f079-4ba7-99e4-f85a6317a46c",
   "metadata": {},
   "source": [
    "Для поставленной дифференциальной задачи известно точное решение\n",
    "$$u(x,t) = \\begin{cases}\n",
    "u_0(x-at),\\ t \\leq \\dfrac x a,\\\\\n",
    "\\mu_0\\left(t - \\dfrac x a\\right),\\ t \\geq \\dfrac x a.\n",
    "\\end{cases}$$\n",
    "Подставляя известные функции, получим точное решение задачи вида\n",
    "$$u(x,t) = \\begin{cases}\n",
    "(x-10t)^2,\\ t \\leq \\dfrac x {10},\\\\\n",
    "100\\left(t - \\dfrac x {10}\\right)^2,\\ t \\geq \\dfrac x {10}.\n",
    "\\end{cases}$$\n",
    "Определим компьютерно функцию, соответствующую точному решению."
   ]
  },
  {
   "cell_type": "code",
   "execution_count": 4,
   "id": "880a00fe-8bd5-4a18-b150-cb56d06e4282",
   "metadata": {},
   "outputs": [],
   "source": [
    "def u(x, t):\n",
    "    if a * t <= x:\n",
    "        return u_0(x - a * t)\n",
    "    if a * t > x:\n",
    "        return mu_0(t - x / a)"
   ]
  },
  {
   "cell_type": "markdown",
   "id": "93c5453b-ea6c-41b6-820e-277b1feaeeda",
   "metadata": {},
   "source": [
    "Пусть задана равномерная сетка узлов\n",
    "$$\\omega_{h\\tau} = \\omega_h \\times \\omega_\\tau,$$\n",
    "где\n",
    "$$\\omega_h = \\left\\{x_k = kh,\\ k = 0,1,\\ldots, h>0\\right\\},\\ \\omega_\\tau = \\left\\{t_j = j\\tau,\\ j=0,1,\\ldots, \\ \\tau > 0\\right\\}.$$\n",
    "Зададим компьютерно сетки узлов. На вход эта функция принимает правую границу для сетки узлов и число разбиений отрезка, а возвращает шаг и узлы сетки."
   ]
  },
  {
   "cell_type": "code",
   "execution_count": 10,
   "id": "5a9c09e0-4c87-4199-98d9-73adeab21fa3",
   "metadata": {},
   "outputs": [],
   "source": [
    "import numpy as np\n",
    "\n",
    "def generate_grid(right_border, num_splits):\n",
    "    step = right_border / num_points\n",
    "    grid = np.linspace(0, right_border, num_splits+1)\n",
    "    return step, grid"
   ]
  },
  {
   "cell_type": "markdown",
   "id": "9d83d3ae-9dcc-4d8a-b883-f1a38b65ccab",
   "metadata": {},
   "source": [
    "По условию также задан следующий шаблон\n",
    "$$\\text{Ш}(x,t) = \\{(x-h,t),\\ (x,t),\\ (x+h,t),\\ (x,t-\\tau),\\ (x,t+\\tau)\\}.$$\n",
    "$$\n",
    "\\includegraphics[scale=0.5]{images/img_1}\n",
    "$$\n",
    "Используя предложенный шаблон на заданной сетке узлов построим разностную схему в безиндексной форме, заменяя дифференциальные производные разностными аналогами\n",
    "\\begin{equation}\n",
    "    \\begin{cases}\n",
    "        y_{\\overset{\\circ} t} + ay_{\\overset{\\circ} x} = 0,\\ (x,t) \\in \\omega_{h\\tau},\\\\\n",
    "    y(x,0) = u_0(x),\\ x \\in \\omega_h,\\\\\n",
    "    y(0,t) = \\mu_0(t),\\ t \\in \\omega_\\tau.\n",
    "    \\end{cases}\n",
    "\\end{equation}\n",
    "Разностная схема также может быть записана в индексной форме в виде\n",
    "\\begin{equation}\n",
    "    \\begin{dcases}\n",
    "        \\dfrac{y_k^{j+1} - y_k^{j-1}}{2\\tau} + a \\dfrac{y_{k+1}^j - y_{k-1}^j}{2h}=0,\\  k=1,2,\\ldots, j = 1,2\\ldots,\\\\\n",
    "        y_k^0 = u_0(x_k),\\ k = 0, 1,\\ldots,\\\\\n",
    "        y_0^j = \\mu_0(t_j),\\ j = 0, 1,\\ldots,\\\\\n",
    "    \\end{dcases}\n",
    "\\end{equation}\n",
    "Нужно вычислить погрешность аппроксимации разностной схемы. Начальное и граничное условия аппроксимируются точно, так что погрешность аппроксимации разностной схемы определяется только погрешностью аппроксимации дифференциального уравнения. Поэтому для любой точки $(x,t) \\in \\omega_{h\\tau}$ погрешность аппроксимации будет равна\n",
    "$$\\Psi(x,t) = u_{\\overset{\\circ} t} + au_{\\overset{\\circ} x} = \\dfrac{\\partial u}{\\partial t} - \\dfrac{\\tau^2}{6}\\cdot \\dfrac{\\partial^3 u}{\\partial^3 t}  + O(\\tau^4) + \\dfrac{\\partial u}{\\partial x} - \\dfrac{h^2}{6}\\cdot \\dfrac{\\partial^3 u}{\\partial^3 x}  + O(h^4) = O(h^2+\\tau^2),$$ то есть данная разностная схема обладает вторым порядком аппроксимации по $x$ и вторым порядком аппроксимации по $t$."
   ]
  },
  {
   "cell_type": "markdown",
   "id": "aea54fde-8bd8-4c8c-98fe-6fe7425a1a52",
   "metadata": {},
   "source": [
    "## Исследование устойчивости разностной схемы спектральным методом"
   ]
  },
  {
   "cell_type": "markdown",
   "id": "0c368e9b-e640-4677-a690-7fb516fe1e5e",
   "metadata": {},
   "source": [
    "Исследование устойчивости по спектральному методу предусматривает подстановку следующего выражения в разностное уравнение\n",
    "$$y_k^j = q^j e^{ik\\varphi},\\ \\varphi \\in (0, 2\\pi).$$\n",
    "Итак, подставляя это выражение в разностное уравнение схемы (3), получим\n",
    "$$\\dfrac{q^{j+1} e^{ik\\varphi} - q^j e^{ik\\varphi}}{\\tau} + a \\dfrac{q^j e^{ik\\varphi} - q^j e^{i(k-1)\\varphi}}{h}=0.$$\n",
    "Сокращая общие множители, получим\n",
    "$$\\dfrac{q - 1}{\\tau} + a \\dfrac{1 - e^{-i\\varphi}}{h} = 0.$$\n",
    "Таким образом, можно выразить\n",
    "$$q = 1 - \\gamma (1 - e^{-i\\varphi}),\\ \\gamma = \\dfrac {a\\tau}{h}.$$\n",
    "Далее по спектральному методу для устойчивости необходимо выполнение условия $|q|^2 \\leq 1$. Рассмотрим это условие\n",
    "\\begin{multline*}\n",
    "    |q|^2 = |1 - \\gamma(1 - \\cos \\varphi + i\\sin\\varphi)|^2 = (1 - \\gamma(1-\\cos \\varphi))^2 + (\\gamma \\sin\\varphi)^2 = \\\\\n",
    "    = 1 - 2\\gamma (1-\\cos\\varphi) + \\gamma^2 ( 1-\\cos\\varphi)^2 + \\gamma^2 \\sin^2\\varphi = 1 -  2\\gamma (1-\\cos\\varphi) + \\gamma^2 - 2\\gamma^2\\cos \\varphi + \\gamma^2 = \\\\\n",
    "    = 1 - 2\\gamma(1-\\cos\\varphi) + 2 \\gamma^2 (1 - \\cos\\varphi) = 1 + 2\\gamma(\\gamma - 1)(1-\\cos\\varphi) \\leq 1.\n",
    "\\end{multline*}\n",
    "Отсюда\n",
    "$$2\\gamma(\\gamma - 1)(1-\\cos\\varphi) \\leq 0.$$\n",
    "Поскольку $1-\\cos\\varphi > 0,\\ \\varphi\\in (0,2\\pi)$, то получаем систему условий для устойчивости\n",
    "\\begin{equation}\n",
    "    \\begin{cases}\n",
    "        \\gamma \\geq 0,\\\\\n",
    "        \\gamma \\leq 1.\n",
    "    \\end{cases}\n",
    "\\end{equation}\n",
    "То есть при выполнении условий (4) разностная схема будет устойчива по спектральному методу.\\\\\\\\\n",
    "Подставляя известное нам значение $a=1$, получим, что\n",
    "$$0 \\leq \\dfrac \\tau h \\leq 1,$$\n",
    "или\n",
    "$$0 \\leq \\tau \\leq h.$$"
   ]
  },
  {
   "cell_type": "code",
   "execution_count": null,
   "id": "0ac7eecf-c93e-440f-af3b-8bc1bbe2eb24",
   "metadata": {},
   "outputs": [],
   "source": []
  },
  {
   "cell_type": "code",
   "execution_count": 9,
   "id": "c43818db-3b59-44f5-8576-80f31897f63b",
   "metadata": {},
   "outputs": [],
   "source": [
    "x_grid = generate_grid(1, 5)\n",
    "t_grid = generate_grid(1, 5)"
   ]
  }
 ],
 "metadata": {
  "kernelspec": {
   "display_name": "Python 3 (ipykernel)",
   "language": "python",
   "name": "python3"
  },
  "language_info": {
   "codemirror_mode": {
    "name": "ipython",
    "version": 3
   },
   "file_extension": ".py",
   "mimetype": "text/x-python",
   "name": "python",
   "nbconvert_exporter": "python",
   "pygments_lexer": "ipython3",
   "version": "3.12.3"
  }
 },
 "nbformat": 4,
 "nbformat_minor": 5
}
