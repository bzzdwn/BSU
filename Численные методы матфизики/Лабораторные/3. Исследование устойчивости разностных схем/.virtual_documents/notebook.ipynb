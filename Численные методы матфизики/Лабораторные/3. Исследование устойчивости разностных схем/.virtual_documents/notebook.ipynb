


import numpy as np
import matplotlib.pyplot as plt
import seaborn as sns
from matplotlib.animation import FuncAnimation





def generate_grids(left_border, right_border, num_x_points, upper_bound, num_t_points):

  h = (right_border-left_border) / num_x_points
  nodes_x = np.linspace(left_border, right_border, num_x_points+1)

  tau = upper_bound / num_t_points
  nodes_t = np.linspace(0, upper_bound, num_t_points+1)

  print('h =', h)
  print('tau =', tau)

  return nodes_x, nodes_t, h, tau





def u(x, t, a, u_0):
    return u_0(x-a*t)

a = 1
def u_0(x):
    return x**2





def diff_scheme_solve(nodes_x, nodes_t, h, tau, u_0, a):
    gamma = a * tau / h

    y = np.zeros((len(nodes_x), len(nodes_t)))

    for k in range(len(nodes_x)):
        y[k, 0] = u_0(nodes_x[k])

    for k in range(len(nodes_x)-1):
      for j in range(len(nodes_t)-1):
            y[k, j+1] = (1-gamma) * y[k, j] + gamma * y[k+1, j]

    return y





nodes_x, nodes_t, h, tau = generate_grids(0, 1, 5, 0.25, 5)





y = diff_scheme_solve(nodes_x, nodes_t, h, tau, u_0, a)





for j, t in enumerate(nodes_t):
  plt.figure(figsize=(16, 8))
  plt.plot(nodes_x[:-1], y[:-1, j], label='numerical solution')
  plt.plot(nodes_x, u(nodes_x, t, a, u_0), label='exact solution')
  plt.grid(True)
  plt.xlabel('x')
  plt.ylabel('u(x,t)')
  plt.title('Approximation in t_' + str(j) + '=' + str(round(t, 2)))
  plt.legend()
  plt.show()








fig, ax = plt.subplots(figsize=(16, 8))
ax.set_xlim(0, 1)
ax.set_ylim(0, 0.5)
line_numeric, = ax.plot([], [], lw=2, label='Numerical')
line_exact, = ax.plot([], [], lw=2, label='Exact')

def init():
    line_numeric.set_data([], [])
    line_exact.set_data([], [])
    return line_numeric, line_exact

def animate(j):
    # Численное решение
    line_numeric.set_data(nodes_x, y[:, j])
    # Точное решение
    exact_y = u(nodes_x, nodes_t[j], 1, u_0)
    line_exact.set_data(nodes_x, exact_y)
    return line_numeric, line_exact

ani = FuncAnimation(fig, animate, init_func=init, frames=len(nodes_t), interval=20, blit=True)

plt.grid(True)
plt.xlabel('x')
plt.ylabel('u(x, t)')
plt.legend()
plt.title('Wave Function Animation')
ani.save('stable_wave_animation.gif', writer='pillow', fps=3)





nodes_x, nodes_t, h, tau = generate_grids(0, 1, 5, 2, 5)
y = diff_scheme_solve(nodes_x, nodes_t, h, tau, u_0, a)





for j, t in enumerate(nodes_t):
  plt.figure(figsize=(16, 8))
  plt.plot(nodes_x[:-1], y[:-1, j], label='numerical solution')
  plt.plot(nodes_x, u(nodes_x, t, a, u_0), label='exact solution')
  plt.grid(True)
  plt.xlabel('x')
  plt.ylabel('u(x,t)')
  plt.title('Approximation in t_' + str(j) + '=' + str(round(t, 2)))
  plt.legend()
  plt.show()








fig, ax = plt.subplots(figsize=(16, 8))
ax.set_xlim(0, 1)
ax.set_ylim(-1, 1)
line_numeric, = ax.plot([], [], lw=2, label='Numerical')
line_exact, = ax.plot([], [], lw=2, label='Exact')

def init():
    line_numeric.set_data([], [])
    line_exact.set_data([], [])
    return line_numeric, line_exact

def animate(j):
    # Численное решение
    line_numeric.set_data(nodes_x, y[:, j])
    # Точное решение
    exact_y = u(nodes_x, nodes_t[j], 1, u_0)
    line_exact.set_data(nodes_x, exact_y)
    return line_numeric, line_exact

ani = FuncAnimation(fig, animate, init_func=init, frames=len(nodes_t), interval=20, blit=True)

plt.grid(True)
plt.xlabel('x')
plt.ylabel('u(x, t)')
plt.legend()
plt.title('Wave Function Animation')
ani.save('unstable_wave_animation.gif', writer='pillow', fps=3)
