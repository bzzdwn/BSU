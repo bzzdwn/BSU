{
 "cells": [
  {
   "cell_type": "code",
   "execution_count": 67,
   "id": "97d41a13",
   "metadata": {},
   "outputs": [
    {
     "data": {
      "text/plain": [
       "[5.0004110816888385, 2.0008110360968936, 0.9995124700749397]"
      ]
     },
     "execution_count": 67,
     "metadata": {},
     "output_type": "execute_result"
    }
   ],
   "source": [
    "import math\n",
    "import pandas as pd\n",
    "import numpy as np\n",
    "epsilon = 1e-1\n",
    "iterations = []\n",
    "x_i = []\n",
    "def lobachevsky_method(a):\n",
    "    k = 1\n",
    "    x_k = [0, 0, 0, 0]\n",
    "    a_k = a.copy()\n",
    "    a_k1 = a.copy()\n",
    "    iterations.append(a_k1.copy())\n",
    "    x_k1 = [-a_k[1] / a_k[0], -a_k[2] / a_k[1], -a_k[3] / a_k[2]]\n",
    "    x_i.append(x_k1)\n",
    "    while abs(x_k1[2] - x_k[2]) >= epsilon:\n",
    "        a_k1[0] = a_k[0]**2\n",
    "        a_k1[1] = 2*a_k[0]*a_k[2] - a_k[1]**2\n",
    "        a_k1[2] = - 2*a_k[1]*a_k[3] + a_k[2]**2\n",
    "        a_k1[3] = - a_k[3]**2\n",
    "        iterations.append(a_k1.copy())\n",
    "        a_k = a_k1.copy()\n",
    "        x_k = x_k1\n",
    "        x_k1 = [(-a_k[1] / a_k[0])**(1/2**k), (-a_k[2] / a_k[1])**(1/2**k), (-a_k[3] / a_k[2])**(1/2**k)]\n",
    "        x_i.append(x_k1)\n",
    "        k+=1\n",
    "    return x_k1\n",
    "lobachevsky_method([1, -6, 3, 10])"
   ]
  },
  {
   "cell_type": "code",
   "execution_count": 68,
   "id": "7f240462",
   "metadata": {},
   "outputs": [
    {
     "data": {
      "text/html": [
       "<div>\n",
       "<style scoped>\n",
       "    .dataframe tbody tr th:only-of-type {\n",
       "        vertical-align: middle;\n",
       "    }\n",
       "\n",
       "    .dataframe tbody tr th {\n",
       "        vertical-align: top;\n",
       "    }\n",
       "\n",
       "    .dataframe thead th {\n",
       "        text-align: right;\n",
       "    }\n",
       "</style>\n",
       "<table border=\"1\" class=\"dataframe\">\n",
       "  <thead>\n",
       "    <tr style=\"text-align: right;\">\n",
       "      <th></th>\n",
       "      <th>0</th>\n",
       "      <th>1</th>\n",
       "      <th>2</th>\n",
       "      <th>3</th>\n",
       "    </tr>\n",
       "  </thead>\n",
       "  <tbody>\n",
       "    <tr>\n",
       "      <th>a_0</th>\n",
       "      <td>1.0000</td>\n",
       "      <td>1.0000</td>\n",
       "      <td>1.0000</td>\n",
       "      <td>1.0000</td>\n",
       "    </tr>\n",
       "    <tr>\n",
       "      <th>a_1</th>\n",
       "      <td>-6.0000</td>\n",
       "      <td>-30.0000</td>\n",
       "      <td>-642.0000</td>\n",
       "      <td>-390,882.0000</td>\n",
       "    </tr>\n",
       "    <tr>\n",
       "      <th>a_2</th>\n",
       "      <td>3.0000</td>\n",
       "      <td>129.0000</td>\n",
       "      <td>10,641.0000</td>\n",
       "      <td>100,390,881.0000</td>\n",
       "    </tr>\n",
       "    <tr>\n",
       "      <th>a_3</th>\n",
       "      <td>10.0000</td>\n",
       "      <td>-100.0000</td>\n",
       "      <td>-10,000.0000</td>\n",
       "      <td>-100,000,000.0000</td>\n",
       "    </tr>\n",
       "    <tr>\n",
       "      <th>x_1</th>\n",
       "      <td>6.0000</td>\n",
       "      <td>5.4772</td>\n",
       "      <td>5.0337</td>\n",
       "      <td>5.0004</td>\n",
       "    </tr>\n",
       "    <tr>\n",
       "      <th>x_2</th>\n",
       "      <td>0.5000</td>\n",
       "      <td>2.0736</td>\n",
       "      <td>2.0177</td>\n",
       "      <td>2.0008</td>\n",
       "    </tr>\n",
       "    <tr>\n",
       "      <th>x_3</th>\n",
       "      <td>-3.3333</td>\n",
       "      <td>0.8805</td>\n",
       "      <td>0.9846</td>\n",
       "      <td>0.9995</td>\n",
       "    </tr>\n",
       "  </tbody>\n",
       "</table>\n",
       "</div>"
      ],
      "text/plain": [
       "          0         1            2                 3\n",
       "a_0  1.0000    1.0000       1.0000            1.0000\n",
       "a_1 -6.0000  -30.0000    -642.0000     -390,882.0000\n",
       "a_2  3.0000  129.0000  10,641.0000  100,390,881.0000\n",
       "a_3 10.0000 -100.0000 -10,000.0000 -100,000,000.0000\n",
       "x_1  6.0000    5.4772       5.0337            5.0004\n",
       "x_2  0.5000    2.0736       2.0177            2.0008\n",
       "x_3 -3.3333    0.8805       0.9846            0.9995"
      ]
     },
     "execution_count": 68,
     "metadata": {},
     "output_type": "execute_result"
    }
   ],
   "source": [
    "pd.options.display.float_format ='{:,.4f}'.format\n",
    "table = pd.concat([pd.DataFrame(iterations, columns=[\"a_0\", \"a_1\", \"a_2\", \"a_3\"]).T, pd.DataFrame(x_i, columns=['x_1', 'x_2', 'x_3']).T]).fillna(' ')\n",
    "table "
   ]
  },
  {
   "cell_type": "code",
   "execution_count": 64,
   "id": "6a296652",
   "metadata": {},
   "outputs": [
    {
     "data": {
      "text/plain": [
       "True"
      ]
     },
     "execution_count": 64,
     "metadata": {},
     "output_type": "execute_result"
    }
   ],
   "source": [
    "0.9995 - 0.9846 < epsilon"
   ]
  },
  {
   "cell_type": "code",
   "execution_count": null,
   "id": "7a3a5ee0",
   "metadata": {},
   "outputs": [],
   "source": []
  }
 ],
 "metadata": {
  "kernelspec": {
   "display_name": "Python 3 (ipykernel)",
   "language": "python",
   "name": "python3"
  },
  "language_info": {
   "codemirror_mode": {
    "name": "ipython",
    "version": 3
   },
   "file_extension": ".py",
   "mimetype": "text/x-python",
   "name": "python",
   "nbconvert_exporter": "python",
   "pygments_lexer": "ipython3",
   "version": "3.11.5"
  }
 },
 "nbformat": 4,
 "nbformat_minor": 5
}
