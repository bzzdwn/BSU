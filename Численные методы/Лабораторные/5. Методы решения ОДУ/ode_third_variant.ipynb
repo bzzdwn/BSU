{
 "cells": [
  {
   "cell_type": "markdown",
   "id": "921c367b-30c0-4c00-9cce-83c8b73f9fe9",
   "metadata": {
    "jp-MarkdownHeadingCollapsed": true,
    "tags": []
   },
   "source": [
    "# Задача 1"
   ]
  },
  {
   "cell_type": "markdown",
   "id": "ec46dd71-c148-4132-80c5-3ed365449f57",
   "metadata": {},
   "source": [
    "Построить интерполяционный метод Адамса четвертого порядка (дать представление в двух формах).\n",
    "\n",
    "Интерполяционный метод Адамса задается формулами\n",
    "\\begin{equation}\n",
    "y_{j+1} = y_j + \\tau\\sum_{i=-1}^{k}A_i f(t_{j-i}. y_{j-i}),\\quad A_i = \\dfrac{(-1)^{i+1}}{(i+1)! (k-i)!}\\int\\limits_0^1 \\dfrac{(\\alpha-1)\\alpha(\\alpha+1)\\ldots(\\alpha+k)}{\\alpha+i}d\\alpha.\n",
    "\\end{equation}\n",
    "\n",
    "Построим метод по этой формуле. Для этого задаем $k=2$ и вычисляем коэффициенты $A_i$:\n",
    "$$A_{-1} = \\dfrac{1}{3!}\\int\\limits_0^1 \\dfrac{(\\alpha-1)\\alpha(\\alpha+1)(\\alpha+2)}{\\alpha-1}d\\alpha=\\dfrac16\\int\\limits_0^1 \\alpha^3 + 3\\alpha^2 + 2\\alpha d\\alpha = \\dfrac{9}{24}.$$\n",
    "$$A_{0} = \\dfrac{-1}{2!}\\int\\limits_0^1 \\dfrac{(\\alpha-1)\\alpha(\\alpha+1)(\\alpha+2)}{\\alpha}d\\alpha=-\\dfrac12\\int\\limits_0^1 \\alpha^3 + 2\\alpha^2 - \\alpha - 2 d\\alpha = \\dfrac{19}{24}.$$\n",
    "$$A_{1} = \\dfrac{1}{2!}\\int\\limits_0^1 \\dfrac{(\\alpha-1)\\alpha(\\alpha+1)(\\alpha+2)}{\\alpha+1}d\\alpha=\\dfrac12\\int\\limits_0^1 \\alpha^3 + \\alpha^2 - 2\\alpha d\\alpha = -\\dfrac{5}{24}.$$\n",
    "$$A_{2} = \\dfrac{-1}{3!}\\int\\limits_0^1 \\dfrac{(\\alpha-1)\\alpha(\\alpha+1)(\\alpha+2)}{\\alpha+2}d\\alpha=-\\dfrac16\\int\\limits_0^1 \\alpha^3 - \\alpha d\\alpha = \\dfrac{1}{24}.$$\n",
    "\n",
    "Сравним полученные результаты с программным алгоритмом:"
   ]
  },
  {
   "cell_type": "code",
   "execution_count": 21,
   "id": "48363dc7-1266-4761-a631-59c8224b825e",
   "metadata": {
    "tags": []
   },
   "outputs": [
    {
     "name": "stdout",
     "output_type": "stream",
     "text": [
      "0.375 0.7916666666666666 -0.20833333333333334 0.041666666666666664\n"
     ]
    }
   ],
   "source": [
    "import scipy.integrate as integrate\n",
    "import scipy.special as special\n",
    "import math\n",
    "\n",
    "def f(x, i, k):\n",
    "    result = 1 / (x + i)\n",
    "    for j in range(-1, k+1):\n",
    "        result *= (x + j)\n",
    "    return result\n",
    "        \n",
    "k = 2\n",
    "A = []\n",
    "for i in range(-1, k+1):\n",
    "    A.append((-1)**(i+1) / (math.factorial(i+1) * math.factorial(k-i)) * integrate.quad(lambda x: f(x, i, k), 0, 1)[0])\n",
    "print(*A)"
   ]
  },
  {
   "cell_type": "markdown",
   "id": "383fe3d5-d9b0-4e5c-b8ee-a407bf81e00e",
   "metadata": {},
   "source": [
    "Полученные программно значения совпадают со значениями, вычисленными аналитически. Тогда формула интерполяционного метода Адамса примет вид\n",
    "$$y_{j+1} = y_j + \\dfrac{\\tau}{24}\\left(9 f_{j+1} + 19 f_j - 5f_{j-1} + f_{j-2}\\right).$$\n",
    "\n",
    "Построим представление через конечные разности по формулам\n",
    "\\begin{equation}\n",
    "y_{j+1} = y_j + \\tau \\sum_{i=0}^{k+1}C_i \\Delta ^i f_{j+1-i},\\ C_i =\\dfrac{1}{i!}\\int\\limits_{-1}^0\\alpha(\\alpha+1)\\ldots (\\alpha+i-1)d\\alpha.\n",
    "\\end{equation}\n",
    "Для этого задаем $k=2$ и снова вычисляем коэффициенты $C_i$:\n",
    "$$C_0 =\\dfrac{1}{0!} = 1,\\ C_1 = \\dfrac{1}{1!} \\int\\limits_{-1}^0 \\alpha d\\alpha = - \\dfrac12,\\ C_2 = \\dfrac{1}{2!} \\int\\limits_{-1}^0 \\alpha(\\alpha+1) d\\alpha = -\\dfrac{1}{12}, C_3 = \\dfrac{1}{3!} \\int\\limits_{-1}^0 \\alpha(\\alpha+1)(\\alpha+2) d\\alpha = -\\dfrac{1}{24}.$$\n",
    "\n",
    "Сравним полученные значения с программным алгоритмом:"
   ]
  },
  {
   "cell_type": "code",
   "execution_count": 25,
   "id": "77604a5a-e894-4d43-b4db-a58e471666a5",
   "metadata": {
    "tags": []
   },
   "outputs": [
    {
     "name": "stdout",
     "output_type": "stream",
     "text": [
      "1.0 -0.5 -0.08333333333333334 -0.041666666666666664\n"
     ]
    }
   ],
   "source": [
    "def g(x, i):\n",
    "    result = 1\n",
    "    for j in range(0, i):\n",
    "        result *= (x + j)\n",
    "    return result\n",
    "\n",
    "C = []\n",
    "for i in range(0, k+2):\n",
    "    C.append(1/math.factorial(i) * integrate.quad(lambda x: g(x, i), -1, 0)[0])\n",
    "print(*C)"
   ]
  },
  {
   "cell_type": "markdown",
   "id": "b4ce4f2f-d6f2-4055-9e58-1c784fc66b69",
   "metadata": {},
   "source": [
    "Полученные программно значения совпадают со значениями, вычисленными аналитически. Тогда формула интерполяционного метода Адамса через конечные разности примет вид\n",
    "$$y_{j+1} = y_j + \\tau \\left(f_{j+1} - \\dfrac12 \\Delta f_{j} - \\dfrac{1}{12} \\Delta^2 f_{j-1} - \\dfrac{1}{24}\\Delta^3 f_{j-2}\\right).$$"
   ]
  },
  {
   "cell_type": "markdown",
   "id": "78960f2c-7adc-4c26-8bc8-e81891ab6073",
   "metadata": {
    "jp-MarkdownHeadingCollapsed": true,
    "tags": []
   },
   "source": [
    "# Задача 2"
   ]
  },
  {
   "cell_type": "markdown",
   "id": "dec5e807-27e6-4996-8446-84e69b4b4f68",
   "metadata": {},
   "source": [
    "Определить порядок точности метода \n",
    "$$\n",
    "\\begin{cases}\n",
    "y_{j+1} = y_j + \\dfrac\\tau 6 (k_1 + 4k_2 + k_3),\\\\\n",
    "k_1 = f(t_j, y_j),\\\\\n",
    "k_2 = f\\left(t_j + \\dfrac \\tau 2, y_j + \\dfrac\\tau 2 k_1\\right),\\\\\n",
    "k_3 = f(t_j + \\tau, y_j - \\tau(k_1 - 2k_2)).\n",
    "\\end{cases}\n",
    "$$\n"
   ]
  },
  {
   "cell_type": "markdown",
   "id": "b5fb99b8-fcbc-4b9f-a824-4c8145990dab",
   "metadata": {},
   "source": [
    "Этот метод относится к методам типа Рунге-Кутта. Для определения его порядка точности можно воспользоваться таблицей Батчера и соответствующими ей соотношениями. Сам метод в виде таблицы можно представить следующим образом\n",
    "$$\\begin{matrix} \n",
    "c_1 & | & a_{11} & a_{12} & a_{13}\\\\\n",
    "c_2 & | & a_{21} & a_{22} & a_{23}\\\\\n",
    "c_3 & | & a_{31} & a_{32} & a_{33}\\\\ \\hline\n",
    " & | & b_1 & b_2 & b_3\n",
    "\\end{matrix} = \\begin{matrix} \n",
    "0 & | & 0 & 0 & 0\\\\\n",
    "\\frac13 & | & \\frac13 & 0 & 0\\\\\n",
    "\\frac23 & |& 0 & \\frac13 & 0\\\\ \\hline\n",
    " & | & \\frac14 & 0 & \\frac34\n",
    "\\end{matrix}$$\n",
    "Для каждого порядка точности строятся соотношения:\n",
    "$$\\sum_j a_{ij} = c_i,$$\n",
    "- для 1-ого порядка:\n",
    "$$\\sum_j b_j = 1,$$\n",
    "- для 2-ого порядка\n",
    "$$\\sum_j b_jc_j = \\dfrac12$$\n",
    "- для 3-его порядка\n",
    "$$\\sum_j b_jc_j^2 = \\dfrac13, \\ \\sum_{j,k} b_j a_{jk} c_k = \\dfrac16,$$\n",
    "- для 4-ого порядка\n",
    "$$\\sum_j b_jc_j^3 = \\dfrac14, \\ \\sum_{j,k} b_jc_j a_{jk} c_k = \\dfrac18,\\  \\sum_{j,k} b_j a_{jk} c_k^2 = \\dfrac{1}{12},\\ \\sum_{j,k, l} b_j a_{jk} a_{kl} c_l = \\dfrac{1}{24}.$$\n",
    "Необходимо в соответствии с таблицей подставить значения и проверить, выполняются ли равенства. Для подсчетов реализуем компьютерный метод, который будет вычислять значение каждой из сумм и сравнивать их с нужными значениями из правой части равенств. Вообще говоря, известно, что эта формула задает аналог метода Симпсона и является методом третьего порядка точности."
   ]
  },
  {
   "cell_type": "code",
   "execution_count": 106,
   "id": "8e6b5b5b-1784-434f-aec1-322437dec8f4",
   "metadata": {
    "tags": []
   },
   "outputs": [
    {
     "name": "stdout",
     "output_type": "stream",
     "text": [
      "Метод имеет порядок не ниже первого\n",
      "Метод имеет порядок не ниже второго\n",
      "Метод имеет порядок не ниже третьего\n",
      "Метод имеет третий порядок не выполнено условие 2\n",
      "Сумма равна 0.16666666666666666 а должна быть 0.125\n"
     ]
    }
   ],
   "source": [
    "c = [0, 1/2, 1]\n",
    "b = [1/6, 4/6, 1/6]\n",
    "a = [[0, 0, 0], \n",
    "     [1/2, 0, 0], \n",
    "     [-1, 2, 0]]\n",
    "n = 3\n",
    "\n",
    "# Проверка на 1-ый порядок\n",
    "res = [0 for _ in range(n)]\n",
    "for j in range(n):\n",
    "    res[j] = sum(a[j])\n",
    "if res == c:\n",
    "    res = b[0]\n",
    "    for j in range(1, n):\n",
    "        res += b[j]\n",
    "    if res - 1 < 1e-10:\n",
    "        print('Метод имеет порядок не ниже первого')\n",
    "else:\n",
    "    print('Метод некорректен')\n",
    "    \n",
    "# Проверка на 2-ой порядок\n",
    "res = 0\n",
    "for j in range(n):\n",
    "    res += c[j]*b[j]\n",
    "if res == 1/2:\n",
    "    print('Метод имеет порядок не ниже второго')\n",
    "else:\n",
    "    print('Метод имеет первый порядок')\n",
    "\n",
    "# Проверка на 3-ий порядок\n",
    "res = 0\n",
    "for j in range(n):\n",
    "    res += b[j]*c[j]**2\n",
    "if res == 1/3:\n",
    "    res = 0\n",
    "    for j in range(n):\n",
    "        for k in range(n):\n",
    "            res += b[j]*a[j][k]*c[k]\n",
    "    if res == 1/6:\n",
    "        print('Метод имеет порядок не ниже третьего')\n",
    "    else:\n",
    "        print('Метод имеет второй порядок не выполнено условие 2')\n",
    "        print('Сумма равна', res, 'а должна быть', 1/6)\n",
    "else:\n",
    "    print('Метод имеет второй порядок не выполнено условие 1')\n",
    "    print('Сумма равна', res, 'а должна быть', 1/3)\n",
    "\n",
    "# Проверка на 4-ый порядок\n",
    "res = 0\n",
    "for j in range(n):\n",
    "    res += b[j]*c[j]**3\n",
    "if res == 1/4:\n",
    "    res = 0\n",
    "    for j in range(n):\n",
    "        for k in range(n):\n",
    "            res += b[j]*c[j]*a[j][k]*c[k]\n",
    "    if res == 1/8:\n",
    "        res = 0\n",
    "        for j in range(n):\n",
    "            for k in range(n):\n",
    "                res += b[j]*a[j][k]*c[k]**2\n",
    "        if res == 1/12:\n",
    "            res = 0\n",
    "            for j in range(n):\n",
    "                for k in range(n):\n",
    "                    for l in range(n):\n",
    "                        res += b[j]*a[j][k]*a[k][l]*c[l]\n",
    "            if res == 1/24:\n",
    "                print('Метод имеет порядок не ниже четвертого')\n",
    "            else:\n",
    "                print('Метод имеет третий порядок не выполнено условие 4')\n",
    "                print('Сумма равна', res, 'а должна быть', 1/24)\n",
    "        else:\n",
    "            print('Метод имеет третий порядок не выполнено условие 3')\n",
    "            print('Сумма равна', res, 'а должна быть', 1/12)\n",
    "    else:\n",
    "        print('Метод имеет третий порядок не выполнено условие 2')\n",
    "        print('Сумма равна', res, 'а должна быть', 1/8)\n",
    "else:\n",
    "    print('Метод имеет третий порядок, не выполнено условие 1')\n",
    "    print('Сумма равна', res, 'а должна быть', 1/4)"
   ]
  },
  {
   "cell_type": "markdown",
   "id": "8fd88ae3-9552-4014-9ced-dfda087b2d5c",
   "metadata": {},
   "source": [
    "Метод имеет третий порядок точности, что и требовалось доказать."
   ]
  },
  {
   "cell_type": "markdown",
   "id": "b2dc7f37-6ce6-426e-910f-68117dc56a7b",
   "metadata": {
    "jp-MarkdownHeadingCollapsed": true,
    "tags": []
   },
   "source": [
    "# Задача 3"
   ]
  },
  {
   "cell_type": "markdown",
   "id": "4962eca3-f36a-4e9c-9adf-a1360be10067",
   "metadata": {},
   "source": [
    "Найти интервал устойчивости метода\n",
    "$$\n",
    "\\begin{cases}\n",
    "y_{j+1} = y_j + \\dfrac\\tau 6 (k_1 + 4k_2 + k_3),\\\\\n",
    "k_1 = f(t_j, y_j),\\\\\n",
    "k_2 = f\\left(t_j + \\dfrac \\tau 2, y_j + \\dfrac\\tau 2 k_1\\right),\\\\\n",
    "k_3 = f(t_j + \\tau, y_j - \\tau(k_1 - 2k_2)).\n",
    "\\end{cases}\n",
    "$$\n",
    "\n",
    "Из модельного уравнения $$u'(t) = \\lambda u(t),\\ \\operatorname{Re}\\lambda < 0,\\ \\lambda \\in \\mathbb C$$\n",
    "имеем $$f(t_j, y(t_j)) = \\lambda y(t_j).$$\n",
    "Подставим это во все уравнения метода, тогда, применяя замену $\\lambda \\tau = z$, получим\n",
    "$$\n",
    "\\begin{cases}\n",
    "y_{j+1} = y_j + \\dfrac\\tau 6 (k_1 + 4k_2 + k_3),\\\\\n",
    "k_1 = \\lambda y_j,\\\\\n",
    "k_2 = \\lambda \\left(y_j + \\dfrac\\tau 2 \\lambda y_j\\right) = \\lambda y_j \\left(1+\\dfrac z2\\right),\\\\\n",
    "k_3 = \\lambda \\left(y_j - \\tau (\\lambda y_j -2 \\lambda y_j\\left(1+\\dfrac z2\\right)\\right) = \\lambda y_j \\left(1 + z + z^2\\right).\n",
    "\\end{cases}\n",
    "$$\n",
    "Отсюда получим\n",
    "$$y_{j+1} = y_j \\left(1 + z + \\dfrac z2 + \\dfrac{z^3}{6} \\right).$$\n",
    "Для торго, чтобы метод был устойчив, необходимо выполнение условия $$\\left|1 + z + \\dfrac{z^2}{2} + \\dfrac{z^3}{6}\\right|<1.$$\n",
    "Раскрываем модуль и получаем систему неравенств\n",
    "$$\n",
    "\\begin{cases}\n",
    "1 + z + \\dfrac{z^2}{2} + \\dfrac{z^3}{6} < 1,\\\\\n",
    "1 + z + \\dfrac{z^2}{2} + \\dfrac{z^3}{6} > -1.\n",
    "\\end{cases}\n",
    "$$\n",
    "Найдем решение первого неравенства:\n",
    "$$1 + z + \\dfrac{z^2}{2} + \\dfrac{z^3}{6} < 1 \\Rightarrow z(z^2 + 3z + 6) < 0.$$\n",
    "Левая часть неравенства обращается в ноль при $z=0$, а множитель $(z^2 + 3z + 6)>0$. Тогда для выполнения неравенства необходимо, чтобы $$z<0.$$\n",
    "Найдем решение второго неравенства:\n",
    "$$1 + z + \\dfrac{z^2}{2} + \\dfrac{z^3}{6} > -1 \\Rightarrow z^3 + 3z^2 +6z + 12 > 0.$$\n",
    "Найдем корни уравнения $z^3 + 3z^2 +6z + 12 = 0$. Для этого преобразуем уравнение следующим образом\n",
    "$$z^3 + 3z^2 +6z + 12 = (z+1)^3 + 3(z+1) + 8 = 0.$$\n",
    "Заменим $x = z+1$ и получим $$x^3 + 3x + 8 = 0.$$\n",
    "Решение данного уравнения будем искать в виде $$x_0 = x + \\dfrac{\\alpha} {x},$$ где $\\alpha$ --- это определяемый параметр.\n",
    "Подставим это решение в уравнение \n",
    "$$x^3 + +3x\\alpha + 3\\dfrac \\alpha x + \\dfrac{\\alpha^3}{x^3} + 3 \\left(x + \\dfrac \\alpha x\\right) + 8 =0.$$\n",
    "Отсюда\n",
    "$$x^3 + \\dfrac{\\alpha^3}{x^3} + 3\\alpha\\left(x + \\dfrac \\alpha x\\right) 3 \\left(x + \\dfrac \\alpha x\\right)+ 8 = 0.$$\n",
    "Тогда определим $\\alpha = -1$ и получим уравнение \n",
    "$$x^3 - \\dfrac1 {x^3} + 8 = 0.$$\n",
    "Домножим на $x^3$ и получим\n",
    "$$x^6 + 8 x^3 - 1 = 0.$$\n",
    "Заменим $t = x^3$, тогда получим квадратное уравнение $$t^3 + 8t - 1 = 0.$$\n",
    "Его корни будут равны $$t_{1,2} = \\dfrac{-8 \\pm 2\\sqrt {17}}{2} = -4 \\pm \\sqrt{17}.$$\n",
    "Сделаем обратную замену и получим $$x^3 = -4 \\pm \\sqrt{17}.$$\n",
    "Данное уравнение имеет 2 комплексных решения и 1 действительное. Поскольку нас интересуют только действительные решения, то $$x = \\sqrt[3]{-4 +\\sqrt{17}}.$$\n",
    "Подставим это значение в тот вид, в котором мы искали решение, и получим\n",
    "$$x_0 = \\sqrt[3]{-4 +\\sqrt{17}} - \\dfrac{1}{\\sqrt[3]{-4 +\\sqrt{17}}} = z+1.$$\n",
    "Таким образом, решение уравнения $$z = \\sqrt[3]{-4 +\\sqrt{17}} - \\dfrac{1}{\\sqrt[3]{-4 +\\sqrt{17}}} - 1.$$\n",
    "А значит исходное неравенство верно при $$z > \\sqrt[3]{-4 +\\sqrt{17}} - \\dfrac{1}{\\sqrt[3]{-4 +\\sqrt{17}}} - 1.$$\n",
    "В итоге для устойчивости метода необходимо, чтобы $$z \\in \\left[\\sqrt[3]{-4 +\\sqrt{17}} - \\dfrac{1}{\\sqrt[3]{-4 +\\sqrt{17}}} - 1, 0\\right).$$"
   ]
  },
  {
   "cell_type": "markdown",
   "id": "dd2941e1-6cdf-4af0-8585-7d6156707003",
   "metadata": {
    "tags": []
   },
   "source": [
    "# Задача 4"
   ]
  },
  {
   "cell_type": "markdown",
   "id": "896c94aa-fa59-4d8d-a068-2283dd4ab6fd",
   "metadata": {},
   "source": [
    "С заданной точностью $\\varepsilon = 10^{-4}$ найти решение задачи Коши с помощью:\n",
    "\n",
    "1. неявного метода трапеций;\n",
    "\n",
    "2. явного метода Рунге-Кутта четвертого порядка;\n",
    "\n",
    "3. экстраполяционного метода Адамса четвертого порядка\n",
    "$$\\begin{cases} \n",
    "u' = \\dfrac15 \\begin{pmatrix} -104 & -198 \\\\ -198 & -401 \\end{pmatrix} u,\\\\\n",
    "u(0) = \\begin{pmatrix} 5 \\\\ 10 \\end{pmatrix},\n",
    "\\end{cases}\\ t \\in [0,5].$$"
   ]
  },
  {
   "cell_type": "code",
   "execution_count": 62,
   "id": "9d50fe77-726b-44fa-822a-ad5b1df09d7b",
   "metadata": {
    "tags": []
   },
   "outputs": [],
   "source": [
    "import numpy as np\n",
    "import matplotlib.pyplot as plt\n",
    "\n",
    "def f(u, t):\n",
    "    dudt = 1/5 * np.dot(np.array([[-104, -198], [-198, -401]]), u)\n",
    "    return dudt\n",
    "\n",
    "u0 = [5, 10]\n",
    "t_start = 0\n",
    "t_end = 5"
   ]
  },
  {
   "cell_type": "markdown",
   "id": "3b7fe77d-bd08-43d6-87a6-2a1ab88daef9",
   "metadata": {},
   "source": [
    "Аналитическое решение $$u_1(t) = 5e^{-100 t},\\ u_2(t) = 10e^{-100 t}.$$"
   ]
  },
  {
   "cell_type": "code",
   "execution_count": 165,
   "id": "c962ea60-e934-4127-8945-1f46cecb8d92",
   "metadata": {
    "tags": []
   },
   "outputs": [
    {
     "data": {
      "image/png": "[encoded data removed]",
      "text/plain": [
       "<Figure size 640x480 with 1 Axes>"
      ]
     },
     "metadata": {},
     "output_type": "display_data"
    }
   ],
   "source": [
    "def solution(nodes):\n",
    "    t = np.array(nodes)\n",
    "    return np.array([5*np.e**(-100*t), 10*np.e**(-100*t)]).T\n",
    "\n",
    "t = np.linspace(t_start, t_end, 1000)\n",
    "plt.plot(t, solution(t)[:, 0], label='u_1(t)')\n",
    "plt.plot(t, solution(t)[:, 1], label='u_2(t)')\n",
    "plt.grid(True)\n",
    "plt.xlabel('t')\n",
    "plt.ylabel('u(t)')\n",
    "plt.legend()\n",
    "plt.show()"
   ]
  },
  {
   "cell_type": "markdown",
   "id": "d5e768d4-14d7-43f2-8bcc-bb789026541a",
   "metadata": {
    "tags": []
   },
   "source": [
    "Неявный метод трапеций:\n",
    "$$y_{j+1} = y_j + \\dfrac h2 (f_j + f_{j+1}).$$\n",
    "По МПИ\n",
    "$$y^{k+1}_{j+1} = y_j + \\dfrac h2 (f_j + f(t_j + h, y_{j+1}^k)),\\ y^0_{j+1} = y_j.$$"
   ]
  },
  {
   "cell_type": "code",
   "execution_count": 162,
   "id": "fec29dc1-c7bc-404c-9643-5347a86743e9",
   "metadata": {
    "tags": []
   },
   "outputs": [
    {
     "data": {
      "image/png": "[encoded data removed]",
      "text/plain": [
       "<Figure size 640x480 with 1 Axes>"
      ]
     },
     "metadata": {},
     "output_type": "display_data"
    }
   ],
   "source": [
    "def trapezoids(f, y0, t_start, t_end, epsilon):\n",
    "    y = [np.array(y0)]\n",
    "    t = t_start\n",
    "    nodes = [t_start]\n",
    "    j = 0\n",
    "    h1 = epsilon**(1/2)\n",
    "    k = 1.005\n",
    "    while True:\n",
    "         \n",
    "        while True:\n",
    "            y_h1_k = y[j]\n",
    "            y_h1 = y[j]\n",
    "            while True:\n",
    "                y_h1 = y[j] + h1/2 * (f(y[j], t) + f(y_h1_k, t+h1))\n",
    "                if np.max(np.absolute(y_h1 - y_h1_k)) < epsilon * 1e-2:\n",
    "                    break\n",
    "                y_h1_k = y_h1\n",
    "            \n",
    "            h2 = h1/2\n",
    "            y_h2_k = y[j]\n",
    "            y_h2 = y[j]\n",
    "            while True:\n",
    "                y_h2 = y[j] + h2/2 * (f(y[j], t) + f(y_h2_k, t+h2))\n",
    "                if np.max(np.absolute(y_h2 - y_h2_k)) < epsilon * 1e-2:\n",
    "                    break\n",
    "                y_h2_k = y_h2\n",
    "            \n",
    "            if np.max(y_h2 - y_h1) / (1 - (h2 / h1)**2) < epsilon:\n",
    "                y.append(y_h1)\n",
    "                break \n",
    "            else:\n",
    "                h1 /= 2\n",
    "                \n",
    "        j += 1\n",
    "        if t + h1 > t_end: \n",
    "            nodes.append(t_end) \n",
    "            break\n",
    "        else:\n",
    "            t += h1 \n",
    "            nodes.append(t)\n",
    "            h1 *= k\n",
    "    \n",
    "    return np.stack(y, axis=0), nodes\n",
    "\n",
    "# вычисление решения\n",
    "approx_solution, nodes = trapezoids(f, u0, t_start, t_end, 1e-4)\n",
    "\n",
    "# вычисление отклонения аналитического решения от приближенного\n",
    "print('Отклонение от аналитического решения:', np.max(np.absolute(approx_solution - solution(nodes))))\n",
    "\n",
    "#график\n",
    "plt.plot(nodes, approx_solution[:, 0], label='u_1(t)')\n",
    "plt.plot(nodes, approx_solution[:, 1], label='u_2(t)')\n",
    "plt.grid(True)\n",
    "plt.xlabel('t')\n",
    "plt.ylabel('u(t)')\n",
    "plt.legend()\n",
    "plt.show()"
   ]
  },
  {
   "cell_type": "markdown",
   "id": "25d1650a-0af4-4bc1-9c6a-605f0e8940a3",
   "metadata": {},
   "source": [
    "$$\\begin{cases}\n",
    "\t\t\ty_{j+1} = y_j + \\dfrac16 (\\varphi_0 + 2\\varphi_1 + 2\\varphi_2 + \\varphi_3),\\\\\n",
    "\t\t\t\\varphi_0 = hf_j,\\\\\n",
    "\t\t\t\\varphi_1 = hf\\left(x_j + \\dfrac12h, y_j + \\dfrac12\\varphi_0\\right),\\\\\n",
    "\t\t\t\\varphi_2 = hf\\left(x_j + \\dfrac 12h, y_j + \\dfrac12 \\varphi_1\\right),\\\\\n",
    "\t\t\t\\varphi_3 = hf(x_j + h, y_j + \\varphi_2).\n",
    "\t\t\\end{cases}$$ "
   ]
  },
  {
   "cell_type": "code",
   "execution_count": 163,
   "id": "bef1de96-7a73-48b3-b70f-16935abb2b67",
   "metadata": {
    "tags": []
   },
   "outputs": [
    {
     "data": {
      "image/png": "[encoded data removed]",
      "text/plain": [
       "<Figure size 640x480 with 1 Axes>"
      ]
     },
     "metadata": {},
     "output_type": "display_data"
    }
   ],
   "source": [
    "def runge_kutta(f, y0, t_start, t_end, epsilon):\n",
    "    y = [np.array(y0)]\n",
    "    t = t_start\n",
    "    nodes = [t_start]\n",
    "    j = 0\n",
    "    h1 = epsilon**(1/2)\n",
    "    k = 1.005\n",
    "    while True:\n",
    "        \n",
    "        while True:\n",
    "            phi_0_h1 = h1 * f(y[j], t)\n",
    "            phi_1_h1 = h1 * f(y[j] + 1/2 * phi_0_h1, t + 1/2 * h1)\n",
    "            phi_2_h1 = h1 * f(y[j] + 1/2 * phi_1_h1, t + 1/2 * h1)\n",
    "            phi_3_h1 = h1 * f(y[j] + phi_1_h1, t + h1)\n",
    "            y_h1 = y[j] + 1/6 * (phi_0_h1 + 2*phi_1_h1 + 2*phi_2_h1 + phi_3_h1)\n",
    "            \n",
    "            h2 = h1 / 2\n",
    "            phi_0_h2 = h2 * f(y[j], t)\n",
    "            phi_1_h2 = h2 * f(y[j] + 1/2 * phi_0_h2, t + 1/2 * h2)\n",
    "            phi_2_h2 = h2 * f(y[j] + 1/2 * phi_1_h2, t + 1/2 * h2)\n",
    "            phi_3_h2 = h2 * f(y[j] + phi_1_h2, t + h2)\n",
    "            y_h2 = y[j] + 1/6 * (phi_0_h2 + 2*phi_1_h2 + 2*phi_2_h2 + phi_3_h2)\n",
    "            \n",
    "            if np.max(y_h2 - y_h1) / (1 - (h2 / h1)**3) < epsilon:\n",
    "                y.append(y_h1)\n",
    "                break \n",
    "            else:\n",
    "                h1 /= 2\n",
    "                \n",
    "        j += 1\n",
    "        if t + h1 > t_end: \n",
    "            nodes.append(t_end) \n",
    "            break\n",
    "        else:\n",
    "            t += h1 \n",
    "            nodes.append(t)\n",
    "            h1 *= k\n",
    "    \n",
    "    return np.stack(y, axis=0), nodes\n",
    "\n",
    "# вычисление решения\n",
    "approx_solution_2, nodes_2 = runge_kutta(f, u0, t_start, t_end, 1e-4)\n",
    "\n",
    "# вычисление отклонения аналитического решения от приближенного\n",
    "np.max(np.absolute(approx_solution_2 - solution(nodes_2)))\n",
    "\n",
    "#график\n",
    "plt.plot(nodes_2, approx_solution_2[:, 0], label='u_1(t)')\n",
    "plt.plot(nodes_2, approx_solution_2[:, 1], label='u_2(t)')\n",
    "plt.grid(True)\n",
    "plt.xlabel('t')\n",
    "plt.ylabel('u(t)')\n",
    "plt.legend()\n",
    "plt.show()"
   ]
  },
  {
   "cell_type": "markdown",
   "id": "103c2e29-de8e-4012-bf8f-f7440b8bb2fb",
   "metadata": {},
   "source": [
    "$$y_{j+1} = y_j + \\dfrac{h}{24} (53 f_j - 59 f_{j-1} +37f_{j-2} - 9f_{j-3}).$$\n",
    "Значения $y_1, y_2, y_3$ возьмем из предыдущего метода."
   ]
  },
  {
   "cell_type": "code",
   "execution_count": 164,
   "id": "27584330-1d87-43c3-96fb-1c5fcdf96dba",
   "metadata": {
    "tags": []
   },
   "outputs": [
    {
     "data": {
      "image/png": "[encoded data removed]",
      "text/plain": [
       "<Figure size 640x480 with 1 Axes>"
      ]
     },
     "metadata": {},
     "output_type": "display_data"
    }
   ],
   "source": [
    "def adams(f, y0, t_start, t_end, epsilon):\n",
    "    y = y0.tolist()\n",
    "    t = t_start[-1]\n",
    "    nodes = t_start\n",
    "    j = 3\n",
    "    h1 = epsilon**(1/2)\n",
    "    k = 1.005\n",
    "    while True:\n",
    "        \n",
    "        while True:\n",
    "            y_h1 = y[j] + h1 / 24 * (53 * f(y[j], nodes[j]) - 59 * f(y[j-1], nodes[j-1]) + 37 * f(y[j-2], nodes[j-2]) - 9 * f(y[j-3], nodes[j-3]))\n",
    "            \n",
    "            h2 = h1 / 2\n",
    "            \n",
    "            y_h2 = y[j] + h2 / 24 * (53 * f(y[j], nodes[j]) - 59 * f(y[j-1], nodes[j-1]) + 37 * f(y[j-2], nodes[j-2]) - 9 * f(y[j-3], nodes[j-3]))\n",
    "\n",
    "            if np.max(y_h2 - y_h1) / (1 - (h2 / h1)**4) < epsilon:\n",
    "                y.append(y_h1)\n",
    "                break \n",
    "            else:\n",
    "                h1 /= 2\n",
    "                \n",
    "        j += 1\n",
    "        if t + h1 > t_end: \n",
    "            nodes.append(t_end) \n",
    "            break\n",
    "        else:\n",
    "            t += h1 \n",
    "            nodes.append(t)\n",
    "            h1 *= k\n",
    "    \n",
    "    return np.stack(y, axis=0), nodes\n",
    "\n",
    "#вычисление решения\n",
    "approx_solution_3, nodes_3 = adams(f, approx_solution_2[:4], nodes_2[:4], t_end, 1e-4)\n",
    "\n",
    "#график\n",
    "plt.plot(nodes_3, approx_solution_3[:, 0], label='u_1(t)')\n",
    "plt.plot(nodes_3, approx_solution_3[:, 1], label='u_2(t)')\n",
    "plt.grid(True)\n",
    "plt.xlabel('t')\n",
    "plt.ylabel('u(t)')\n",
    "plt.legend()\n",
    "plt.show()"
   ]
  }
 ],
 "metadata": {
  "kernelspec": {
   "display_name": "Python 3 (ipykernel)",
   "language": "python",
   "name": "python3"
  },
  "language_info": {
   "codemirror_mode": {
    "name": "ipython",
    "version": 3
   },
   "file_extension": ".py",
   "mimetype": "text/x-python",
   "name": "python",
   "nbconvert_exporter": "python",
   "pygments_lexer": "ipython3",
   "version": "3.11.5"
  }
 },
 "nbformat": 4,
 "nbformat_minor": 5
}
