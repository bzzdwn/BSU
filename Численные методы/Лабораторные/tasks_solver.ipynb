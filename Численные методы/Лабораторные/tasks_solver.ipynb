{
 "cells": [
  {
   "cell_type": "markdown",
   "id": "89102254-396c-4a0e-9887-6f99b31ef1f4",
   "metadata": {},
   "source": [
    "# Задачи из 1 секции"
   ]
  },
  {
   "cell_type": "markdown",
   "id": "5606a758-e237-4281-bd9b-43331be69324",
   "metadata": {},
   "source": [
    "## Определить АСТ КФ:"
   ]
  },
  {
   "cell_type": "code",
   "execution_count": 46,
   "id": "7d92b1d8-8a34-4f31-9269-b5ea49ed2007",
   "metadata": {
    "tags": []
   },
   "outputs": [
    {
     "name": "stdout",
     "output_type": "stream",
     "text": [
      "Степень 0\n",
      "Интеграл слева равен 3.141592653589793\n",
      "Квадратурная сумма равна 3.141592653589793\n",
      "Степень 1\n",
      "Интеграл слева равен 4.934802200544679\n",
      "Квадратурная сумма равна 4.934802200544679\n",
      "Степень 2\n",
      "Интеграл слева равен 10.335425560099939\n",
      "Квадратурная сумма равна 10.335425560099939\n",
      "Степень 3\n",
      "Интеграл слева равен 24.35227275850061\n",
      "Квадратурная сумма равна 24.352272758500604\n",
      "Степень 4\n",
      "Интеграл слева равен 61.2039369570563\n",
      "Квадратурная сумма равна 60.56639594708694\n",
      "АСТ = 3\n"
     ]
    }
   ],
   "source": [
    "import scipy.integrate as integrate\n",
    "import scipy.special as special\n",
    "import math\n",
    "import numpy as np\n",
    "\n",
    "#--------------------Задаваемая область----------------------------------------\n",
    "A = [math.pi/3, math.pi/3, math.pi/3]\n",
    "x = [math.pi/2*(1-math.sqrt(2)/2), math.pi/2, math.pi/2*(1+math.sqrt(2)/2)]\n",
    "\n",
    "def p(x):\n",
    "    return 1\n",
    "a, b = 0, math.pi\n",
    "#--------------------Программа------------------------------------------------\n",
    "\n",
    "k=0\n",
    "while True:\n",
    "    print('Степень', k)\n",
    "    integral = integrate.quad(lambda x: x**k * p(x), a, b)[0]\n",
    "    print('Интеграл слева равен', integral)\n",
    "    quadr_sum = 0\n",
    "    for i in range(len(A)):\n",
    "        quadr_sum += A[i] * x[i]**k\n",
    "    print('Квадратурная сумма равна', quadr_sum)\n",
    "    if abs(integral - quadr_sum) > 1e-10:\n",
    "        print('АСТ =', k-1)\n",
    "        break\n",
    "    k+=1"
   ]
  },
  {
   "cell_type": "markdown",
   "id": "054d333a-9c54-4781-b5c5-2985f513a494",
   "metadata": {},
   "source": [
    "# Задачи из 2 секции"
   ]
  },
  {
   "cell_type": "markdown",
   "id": "7338e874-db80-432a-8421-d1dd2c6c590e",
   "metadata": {},
   "source": [
    "## Оценить погрешность вычисления интеграла по составной КФ средних прямоугольников"
   ]
  },
  {
   "cell_type": "code",
   "execution_count": 36,
   "id": "86725b11-128e-4af0-a3fc-77b4264f8813",
   "metadata": {
    "tags": []
   },
   "outputs": [],
   "source": [
    "def f(x):\n",
    "    return np.e**(x**2)\n",
    "\n",
    "a, b = 0, 2\n",
    "N = 100"
   ]
  },
  {
   "cell_type": "markdown",
   "id": "d9234299-46f0-4f4e-a8e3-0e11a85fb0b2",
   "metadata": {},
   "source": [
    "$$f'(x) = 2xe^{x^2},\\ f''(x) = (2+4x^2) e^{x^2}.$$ "
   ]
  },
  {
   "cell_type": "code",
   "execution_count": 40,
   "id": "e613cb00-522e-4395-86aa-9b68502ab205",
   "metadata": {
    "tags": []
   },
   "outputs": [
    {
     "data": {
      "text/plain": [
       "982.7667005965961"
      ]
     },
     "execution_count": 40,
     "metadata": {},
     "output_type": "execute_result"
    }
   ],
   "source": [
    "def der_f(x):\n",
    "    return (2+4*x**2)*np.e**(x**2)\n",
    "\n",
    "x = np.linspace(a, b, 10000)\n",
    "M_2 = np.max(abs(der_f(x)))\n",
    "M_2"
   ]
  },
  {
   "cell_type": "code",
   "execution_count": 42,
   "id": "c31faaf2-066f-4601-98ff-c197c9511b55",
   "metadata": {
    "tags": []
   },
   "outputs": [
    {
     "data": {
      "text/plain": [
       "0.03275889001988654"
      ]
     },
     "execution_count": 42,
     "metadata": {},
     "output_type": "execute_result"
    }
   ],
   "source": [
    "epsilon = (b-a)**3 / (24 * N**2) * M_2\n",
    "epsilon"
   ]
  },
  {
   "cell_type": "markdown",
   "id": "313c3ac4-e8bf-4c48-ae72-46243783b905",
   "metadata": {},
   "source": [
    "# Задачи из 4 секции"
   ]
  },
  {
   "cell_type": "markdown",
   "id": "f5c2eac1-59db-40f0-8fc4-61c065f0ede0",
   "metadata": {
    "jp-MarkdownHeadingCollapsed": true,
    "tags": []
   },
   "source": [
    "## Построить интерполяционный метод Адамса четвертого порядка."
   ]
  },
  {
   "cell_type": "markdown",
   "id": "8dc95958-5911-4e15-820d-682297a81a31",
   "metadata": {
    "tags": []
   },
   "source": [
    "Интерполяционный метод Адамса задается формулаим\n",
    "\\begin{equation}\n",
    "y_{j+1} = y_j + \\tau\\sum_{i=-1}^{k}A_i f(t_{j-i}. y_{j-i}),\\quad A_i = \\dfrac{(-1)^{i+1}}{(i+1)! (k-i)!}\\int\\limits_0^1 \\dfrac{(\\alpha-1)\\alpha(\\alpha+1)\\ldots(\\alpha+k)}{\\alpha+i}d\\alpha.\n",
    "\\end{equation}\n",
    "\n",
    "Построим метод по этой формуле. Для этого задаем $k=2$ и вычисляем коэффициенты $A_i$:\n",
    "$$A_{-1} = \\dfrac{1}{3!}\\int\\limits_0^1 \\dfrac{(\\alpha-1)\\alpha(\\alpha+1)(\\alpha+2)}{\\alpha-1}d\\alpha=\\dfrac16\\int\\limits_0^1 \\alpha^3 + 3\\alpha^2 + 2\\alpha d\\alpha = \\dfrac{9}{24}.$$\n",
    "$$A_{0} = \\dfrac{-1}{2!}\\int\\limits_0^1 \\dfrac{(\\alpha-1)\\alpha(\\alpha+1)(\\alpha+2)}{\\alpha}d\\alpha=-\\dfrac12\\int\\limits_0^1 \\alpha^3 + 2\\alpha^2 - \\alpha - 2 d\\alpha = \\dfrac{19}{24}.$$\n",
    "$$A_{1} = \\dfrac{1}{2!}\\int\\limits_0^1 \\dfrac{(\\alpha-1)\\alpha(\\alpha+1)(\\alpha+2)}{\\alpha+1}d\\alpha=\\dfrac12\\int\\limits_0^1 \\alpha^3 + \\alpha^2 - 2\\alpha d\\alpha = -\\dfrac{5}{24}.$$\n",
    "$$A_{2} = \\dfrac{-1}{3!}\\int\\limits_0^1 \\dfrac{(\\alpha-1)\\alpha(\\alpha+1)(\\alpha+2)}{\\alpha+2}d\\alpha=-\\dfrac16\\int\\limits_0^1 \\alpha^3 - \\alpha d\\alpha = \\dfrac{1}{24}.$$\n",
    "\n",
    "Сравним полученные результаты с программным алгоритмом:"
   ]
  },
  {
   "cell_type": "code",
   "execution_count": 22,
   "id": "4e1fa1e3-ee30-46e1-bcf5-8479397517c7",
   "metadata": {
    "tags": []
   },
   "outputs": [
    {
     "name": "stdout",
     "output_type": "stream",
     "text": [
      "A[-1]= 0.375\n",
      "A[0]= 0.7916666666666666\n",
      "A[1]= -0.20833333333333334\n",
      "A[2]= 0.041666666666666664\n"
     ]
    }
   ],
   "source": [
    "#--------------------Задаваемая область----------------------------------------\n",
    "k = 2\n",
    "#--------------------Программа------------------------------------------------\n",
    "\n",
    "def f(x, i, k):\n",
    "    result = 1 / (x + i)\n",
    "    for j in range(-1, k+1):\n",
    "        result *= (x + j)\n",
    "    return result\n",
    "\n",
    "A = []\n",
    "for i in range(-1, k+1):\n",
    "    A.append((-1)**(i+1) / (math.factorial(i+1) * math.factorial(k-i)) * integrate.quad(lambda x: f(x, i, k), 0, 1)[0])\n",
    "    print('A[' + str(i) + ']= ' + str(A[-1]))"
   ]
  },
  {
   "cell_type": "markdown",
   "id": "0d85332e-64d5-4594-a06a-e412f34e96e7",
   "metadata": {},
   "source": [
    "Полученные программно значения совпадают со значениями, вычисленными аналитически. Тогда формула интерполяционного метода Адамса примет вид\n",
    "$$y_{j+1} = y_j + \\dfrac{\\tau}{24}\\left(9 f_{j+1} + 19 f_j - 5f_{j-1} + f_{j-2}\\right).$$"
   ]
  },
  {
   "cell_type": "markdown",
   "id": "7a9fa30c-53ab-47da-b22c-40f6f31e68b6",
   "metadata": {
    "tags": []
   },
   "source": [
    "## Построить экстраполяционный метод Адамса четвертого порядка."
   ]
  },
  {
   "cell_type": "markdown",
   "id": "2607ffc4-ee22-4a7a-8228-1bc76aeb120a",
   "metadata": {},
   "source": [
    "\n",
    "\n",
    "Интерполяционный метод Адамса задается формулаим\n",
    "\\begin{equation}\n",
    "y_{j+1} = y_j + \\tau\\sum_{i=0}^{k}A_i f(t_{j-i}. y_{j-i}),\\quad A_i = \\dfrac{(-1)^{i}}{i! (k-i)!}\\int\\limits_0^1 \\dfrac{\\alpha(\\alpha+1)\\ldots(\\alpha+k)}{\\alpha+i}d\\alpha.\n",
    "\\end{equation}\n",
    "\n",
    "Построим метод по этой формуле. Для этого задаем $k=3$ и вычисляем коэффициенты $A_i$:\n",
    "$$A_{0} = \\dfrac{1}{3!}\\int\\limits_0^1 \\dfrac{\\alpha(\\alpha+1)(\\alpha+2)(\\alpha+3)}{\\alpha}d\\alpha=\\dfrac{54}{24}.$$\n",
    "$$A_{1} = -\\dfrac{1}{2!}\\int\\limits_0^1 \\dfrac{\\alpha(\\alpha+1)(\\alpha+2)(\\alpha+3)}{\\alpha+1}d\\alpha = -\\dfrac{59}{24}.$$\n",
    "$$A_{2} = \\dfrac{1}{2!}\\int\\limits_0^1 \\dfrac{\\alpha(\\alpha+1)(\\alpha+2)(\\alpha+3)}{\\alpha+2}d\\alpha =\\dfrac{37}{24}.$$\n",
    "$$A_{3} = -\\dfrac{1}{3!}\\int\\limits_0^1 \\dfrac{\\alpha(\\alpha+1)(\\alpha+2)(\\alpha+3)}{\\alpha+3}d\\alpha = -\\dfrac{9}{24}.$$\n",
    "\n",
    "Сравним полученные результаты с программным алгоритмом:"
   ]
  },
  {
   "cell_type": "code",
   "execution_count": 25,
   "id": "8dd5f105-0958-4217-95f4-91ad982f8a2e",
   "metadata": {
    "tags": []
   },
   "outputs": [
    {
     "name": "stdout",
     "output_type": "stream",
     "text": [
      "A[0]= 2.2916666666666665\n",
      "A[1]= -2.4583333333333335\n",
      "A[2]= 1.5416666666666667\n",
      "A[3]= -0.375\n"
     ]
    }
   ],
   "source": [
    "#--------------------Задаваемая область----------------------------------------\n",
    "k = 3\n",
    "#--------------------Программа------------------------------------------------\n",
    "\n",
    "def f(x, i, k):\n",
    "    result = 1 / (x + i)\n",
    "    for j in range(0, k+1):\n",
    "        result *= (x + j)\n",
    "    return result\n",
    "\n",
    "A = []\n",
    "for i in range(0, k+1):\n",
    "    A.append((-1)**i / (math.factorial(i) * math.factorial(k-i)) * integrate.quad(lambda x: f(x, i, k), 0, 1)[0])\n",
    "    print('A[' + str(i) + ']= ' + str(A[-1]))"
   ]
  },
  {
   "cell_type": "markdown",
   "id": "2cbf610c-24f2-4180-9ebd-21ef428db311",
   "metadata": {
    "tags": []
   },
   "source": [
    "## Определить порядок точности метода Рунге-Кутта"
   ]
  },
  {
   "cell_type": "code",
   "execution_count": 13,
   "id": "bca9133e-c19a-423e-81e9-bf7094938fb8",
   "metadata": {
    "tags": []
   },
   "outputs": [
    {
     "name": "stdout",
     "output_type": "stream",
     "text": [
      "Метод имеет порядок не ниже первого\n",
      "Метод имеет порядок не ниже второго\n",
      "Метод имеет порядок не ниже третьего\n",
      "Метод имеет третий порядок не выполнено условие 2\n",
      "Сумма равна 0.16666666666666666 а должна быть 0.125\n"
     ]
    }
   ],
   "source": [
    "#--------------------Задаваемая область----------------------------------------\n",
    "c = [0, 1/2, 1]\n",
    "b = [1/6, 4/6, 1/6]\n",
    "a = [[0, 0, 0], \n",
    "     [1/2, 0, 0], \n",
    "     [-1, 2, 0]]\n",
    "n = 3\n",
    "#--------------------Программа------------------------------------------------\n",
    "\n",
    "# Проверка на 1-ый порядок\n",
    "res = [0 for _ in range(n)]\n",
    "for j in range(n):\n",
    "    res[j] = sum(a[j])\n",
    "if res == c:\n",
    "    res = b[0]\n",
    "    for j in range(1, n):\n",
    "        res += b[j]\n",
    "    if res - 1 < 1e-10:\n",
    "        print('Метод имеет порядок не ниже первого')\n",
    "else:\n",
    "    print('Метод некорректен')\n",
    "    \n",
    "# Проверка на 2-ой порядок\n",
    "res = 0\n",
    "for j in range(n):\n",
    "    res += c[j]*b[j]\n",
    "if res == 1/2:\n",
    "    print('Метод имеет порядок не ниже второго')\n",
    "else:\n",
    "    print('Метод имеет первый порядок')\n",
    "\n",
    "# Проверка на 3-ий порядок\n",
    "res = 0\n",
    "for j in range(n):\n",
    "    res += b[j]*c[j]**2\n",
    "if res == 1/3:\n",
    "    res = 0\n",
    "    for j in range(n):\n",
    "        for k in range(n):\n",
    "            res += b[j]*a[j][k]*c[k]\n",
    "    if res == 1/6:\n",
    "        print('Метод имеет порядок не ниже третьего')\n",
    "    else:\n",
    "        print('Метод имеет второй порядок не выполнено условие 2')\n",
    "        print('Сумма равна', res, 'а должна быть', 1/6)\n",
    "else:\n",
    "    print('Метод имеет второй порядок не выполнено условие 1')\n",
    "    print('Сумма равна', res, 'а должна быть', 1/3)\n",
    "\n",
    "# Проверка на 4-ый порядок\n",
    "res = 0\n",
    "for j in range(n):\n",
    "    res += b[j]*c[j]**3\n",
    "if res == 1/4:\n",
    "    res = 0\n",
    "    for j in range(n):\n",
    "        for k in range(n):\n",
    "            res += b[j]*c[j]*a[j][k]*c[k]\n",
    "    if res == 1/8:\n",
    "        res = 0\n",
    "        for j in range(n):\n",
    "            for k in range(n):\n",
    "                res += b[j]*a[j][k]*c[k]**2\n",
    "        if res == 1/12:\n",
    "            res = 0\n",
    "            for j in range(n):\n",
    "                for k in range(n):\n",
    "                    for l in range(n):\n",
    "                        res += b[j]*a[j][k]*a[k][l]*c[l]\n",
    "            if res == 1/24:\n",
    "                print('Метод имеет порядок не ниже четвертого')\n",
    "            else:\n",
    "                print('Метод имеет третий порядок не выполнено условие 4')\n",
    "                print('Сумма равна', res, 'а должна быть', 1/24)\n",
    "        else:\n",
    "            print('Метод имеет третий порядок не выполнено условие 3')\n",
    "            print('Сумма равна', res, 'а должна быть', 1/12)\n",
    "    else:\n",
    "        print('Метод имеет третий порядок не выполнено условие 2')\n",
    "        print('Сумма равна', res, 'а должна быть', 1/8)\n",
    "else:\n",
    "    print('Метод имеет третий порядок, не выполнено условие 1')\n",
    "    print('Сумма равна', res, 'а должна быть', 1/4)"
   ]
  },
  {
   "cell_type": "markdown",
   "id": "d0c9d378-5bfd-45ec-a69d-e05d83df2916",
   "metadata": {},
   "source": [
    "# Для заметок"
   ]
  },
  {
   "cell_type": "code",
   "execution_count": 29,
   "id": "3769ac65-ea86-4541-bfc9-17082c515748",
   "metadata": {
    "tags": []
   },
   "outputs": [
    {
     "data": {
      "text/plain": [
       "982.7667005965961"
      ]
     },
     "execution_count": 29,
     "metadata": {},
     "output_type": "execute_result"
    }
   ],
   "source": [
    "18*np.e**4"
   ]
  },
  {
   "cell_type": "code",
   "execution_count": 31,
   "id": "5654b761-3cec-4c7e-ace1-f6ba34f74483",
   "metadata": {
    "tags": []
   },
   "outputs": [
    {
     "data": {
      "text/plain": [
       "982.7667005965961"
      ]
     },
     "execution_count": 31,
     "metadata": {},
     "output_type": "execute_result"
    }
   ],
   "source": []
  },
  {
   "cell_type": "code",
   "execution_count": 33,
   "id": "0346963a-bf77-4799-a7a9-1c9242e3a076",
   "metadata": {
    "tags": []
   },
   "outputs": [
    {
     "data": {
      "text/plain": [
       "327.58889999999997"
      ]
     },
     "execution_count": 33,
     "metadata": {},
     "output_type": "execute_result"
    }
   ],
   "source": [
    "2**3 / (24) * 982.7667 "
   ]
  },
  {
   "cell_type": "code",
   "execution_count": 47,
   "id": "870bca34-e559-4de4-87c3-2afe6bd294af",
   "metadata": {
    "tags": []
   },
   "outputs": [
    {
     "data": {
      "text/plain": [
       "0.1769999999999996"
      ]
     },
     "execution_count": 47,
     "metadata": {},
     "output_type": "execute_result"
    }
   ],
   "source": [
    "10.1822 - 10.0052"
   ]
  },
  {
   "cell_type": "code",
   "execution_count": 53,
   "id": "78ee289b-c12b-4931-aef1-3d999174e868",
   "metadata": {
    "tags": []
   },
   "outputs": [
    {
     "data": {
      "text/plain": [
       "0.07452631578947368"
      ]
     },
     "execution_count": 53,
     "metadata": {},
     "output_type": "execute_result"
    }
   ],
   "source": [
    "0.1770/(((1/20) / (1/30))**3 - 1)"
   ]
  },
  {
   "cell_type": "code",
   "execution_count": 52,
   "id": "a9b1ae82-9d51-4d7f-bbb5-2a7704dec72b",
   "metadata": {
    "tags": []
   },
   "outputs": [
    {
     "data": {
      "text/plain": [
       "10.2567"
      ]
     },
     "execution_count": 52,
     "metadata": {},
     "output_type": "execute_result"
    }
   ],
   "source": [
    "10.0052 + 0.2515"
   ]
  },
  {
   "cell_type": "code",
   "execution_count": null,
   "id": "3fa9493d-d94d-48ca-adb7-2bc647e7dd93",
   "metadata": {},
   "outputs": [],
   "source": []
  }
 ],
 "metadata": {
  "kernelspec": {
   "display_name": "Python 3 (ipykernel)",
   "language": "python",
   "name": "python3"
  },
  "language_info": {
   "codemirror_mode": {
    "name": "ipython",
    "version": 3
   },
   "file_extension": ".py",
   "mimetype": "text/x-python",
   "name": "python",
   "nbconvert_exporter": "python",
   "pygments_lexer": "ipython3",
   "version": "3.11.5"
  }
 },
 "nbformat": 4,
 "nbformat_minor": 5
}
