{
 "cells": [
  {
   "cell_type": "code",
   "execution_count": 36,
   "id": "4c029b5e-be79-4a41-b167-f87be732cfd1",
   "metadata": {},
   "outputs": [
    {
     "name": "stdout",
     "output_type": "stream",
     "text": [
      "[ 0.17960243  0.20737615 -0.05708441]\n",
      "[ 0.20737615  0.37941007 -0.360863  ]\n",
      "[-0.05708441 -0.360863    0.63969869]\n"
     ]
    }
   ],
   "source": [
    "import numpy as np\n",
    "import math\n",
    "\n",
    "A = np.array([\n",
    "    [6.25, -1, 0.5],\n",
    "\t[-1, 5, 2.12],\n",
    "\t[0.5, 2.12, 3.6]])\n",
    "B = np.array([[7.5], [-8.68], [-0.24]])\n",
    "\n",
    "C = np.eye(A.shape[0]) - (np.dot(A.T, A)) / max(np.linalg.eigvals(np.dot(A.T, A)))\n",
    "\n",
    "print(*C, sep='\\n')"
   ]
  },
  {
   "cell_type": "code",
   "execution_count": 37,
   "id": "b2cdcfd3-8c11-4a51-95db-271e9f644d20",
   "metadata": {},
   "outputs": [
    {
     "name": "stdout",
     "output_type": "stream",
     "text": [
      "[1.12815477]\n",
      "[-1.04621778]\n",
      "[-0.31575716]\n"
     ]
    }
   ],
   "source": [
    "D = (np.dot(A.T, B) / max(np.linalg.eigvals(np.dot(A.T, A))))\n",
    "print(*D, sep='\\n')"
   ]
  },
  {
   "cell_type": "code",
   "execution_count": 38,
   "id": "00ce7d52-a35f-4213-8155-ab16f85544be",
   "metadata": {},
   "outputs": [
    {
     "name": "stdout",
     "output_type": "stream",
     "text": [
      "0.9309731403755809 9.628392918029083e-17 0.2677380489149452\n"
     ]
    }
   ],
   "source": [
    "print(*abs(np.linalg.eigvals(C)))"
   ]
  },
  {
   "cell_type": "code",
   "execution_count": 57,
   "id": "cbb39186-5e9d-4053-8991-31d0a7718609",
   "metadata": {},
   "outputs": [
    {
     "name": "stdout",
     "output_type": "stream",
     "text": [
      "compression coefficient: 0.9309731403755804\n",
      "apriori number of iterations: 173\n",
      "aposteriori number of iterations: 136\n",
      "solution: \n",
      "[[ 0.80002193]\n",
      " [-1.99994162]\n",
      " [ 0.99992337]]\n"
     ]
    }
   ],
   "source": [
    "def F(X_n):\n",
    "    return np.dot(C, X_n) + D\n",
    "    \n",
    "def aposteriori(X_n, X_n1, alpha):\n",
    "    return alpha / (1 - alpha) * np.linalg.norm(X_n - X_n1, 2)\n",
    "\n",
    "def apriori(X_0, X_1, epsilon, alpha):\n",
    "    return math.floor(math.log(epsilon * (1 - alpha) / (np.linalg.norm(X_0 - X_1, 2)), alpha)) + 1\n",
    "\n",
    "def msa(X_0, X_1, alpha, epsilon):\n",
    "    iterations = 0\n",
    "    while True:\n",
    "        iterations += 1\n",
    "        X_0 = X_1\n",
    "        X_1 = F(X_0)\n",
    "        if aposteriori(X_1, X_0, alpha) <= epsilon:\n",
    "            break\n",
    "    return X_1, iterations\n",
    "\n",
    "X_0 = np.zeros([3,1])\n",
    "alpha = np.linalg.norm(C, 2)\n",
    "epsilon = 1e-4\n",
    "\n",
    "print('compression coefficient: ' + str(alpha))\n",
    "\n",
    "n_apr = apriori(X_0, F(X_0), epsilon, alpha)\n",
    "print('apriori number of iterations: ' + str(n_apr))\n",
    "\n",
    "last_iteration, iterations = msa(X_0, F(X_0), alpha, epsilon)\n",
    "print('aposteriori number of iterations: ' + str(iterations))\n",
    "print('solution: \\n' + str(last_iteration))"
   ]
  },
  {
   "cell_type": "code",
   "execution_count": 40,
   "id": "68cbacf4-4dc9-4c6b-80ef-11f33769aadd",
   "metadata": {},
   "outputs": [],
   "source": [
    "def matrix_norm(matrix):\n",
    "    columns = []\n",
    "    rows = []\n",
    "    for i in range(matrix.shape[0]):\n",
    "        row_abs = [abs(matrix[i][j]) for j in range(matrix.shape[0])]\n",
    "        columns.append(sum(row_abs))\n",
    "    \n",
    "    for j in range(matrix.shape[0]):\n",
    "        col_abs = [abs(matrix[i][j]) for i in range(matrix.shape[0])]\n",
    "        rows.append(sum(col_abs))\n",
    "\n",
    "    return max(columns), max(rows)"
   ]
  },
  {
   "cell_type": "code",
   "execution_count": 55,
   "id": "a3d61ffd-8c12-4783-809a-2ab150898188",
   "metadata": {},
   "outputs": [
    {
     "data": {
      "text/plain": [
       "(1.0758760630087343, 1.0758760630087343)"
      ]
     },
     "execution_count": 55,
     "metadata": {},
     "output_type": "execute_result"
    }
   ],
   "source": [
    "matrix_norm(C)"
   ]
  },
  {
   "cell_type": "code",
   "execution_count": 8,
   "id": "b2bf2274-ae50-4a22-b02e-dbb493746fe4",
   "metadata": {},
   "outputs": [
    {
     "data": {
      "text/plain": [
       "0.9309731403755804"
      ]
     },
     "execution_count": 8,
     "metadata": {},
     "output_type": "execute_result"
    }
   ],
   "source": [
    "np.linalg.norm(C, 2)"
   ]
  },
  {
   "cell_type": "code",
   "execution_count": 21,
   "id": "28d8c6b0-175b-414a-9640-46de5241528c",
   "metadata": {},
   "outputs": [
    {
     "data": {
      "text/plain": [
       "0.9648694939604946"
      ]
     },
     "execution_count": 21,
     "metadata": {},
     "output_type": "execute_result"
    }
   ],
   "source": [
    "np.sqrt(max(np.linalg.eigvals(C)))"
   ]
  },
  {
   "cell_type": "code",
   "execution_count": 56,
   "id": "e8cc532f-01ad-48f9-85a9-219fe9a4be22",
   "metadata": {},
   "outputs": [
    {
     "data": {
      "text/plain": [
       "array([[ 7.5000404 ],\n",
       "       [-8.67989248],\n",
       "       [-0.24014113]])"
      ]
     },
     "execution_count": 56,
     "metadata": {},
     "output_type": "execute_result"
    }
   ],
   "source": [
    "A @ last_iteration"
   ]
  },
  {
   "cell_type": "code",
   "execution_count": null,
   "id": "9fb71fac-0943-447f-8af0-f71d08b02406",
   "metadata": {},
   "outputs": [],
   "source": []
  }
 ],
 "metadata": {
  "kernelspec": {
   "display_name": "Python 3 (ipykernel)",
   "language": "python",
   "name": "python3"
  },
  "language_info": {
   "codemirror_mode": {
    "name": "ipython",
    "version": 3
   },
   "file_extension": ".py",
   "mimetype": "text/x-python",
   "name": "python",
   "nbconvert_exporter": "python",
   "pygments_lexer": "ipython3",
   "version": "3.10.9"
  }
 },
 "nbformat": 4,
 "nbformat_minor": 5
}
