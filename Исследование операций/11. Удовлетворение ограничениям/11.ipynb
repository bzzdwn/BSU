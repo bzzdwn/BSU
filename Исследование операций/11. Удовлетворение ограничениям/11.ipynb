{
 "cells": [
  {
   "cell_type": "markdown",
   "id": "fc047d45-719c-43ab-8c48-77939dca2435",
   "metadata": {
    "tags": []
   },
   "source": [
    "# Постановка задачи"
   ]
  },
  {
   "cell_type": "markdown",
   "id": "faa38fdb-8bce-4a48-9463-9bc7db72303f",
   "metadata": {},
   "source": [
    "Сформулируйте заданную проблему как проблему удовлетворения ограничений. Определите переменные, домены и ограничения. Создайте модель. Решите задачу OR-Tools. "
   ]
  },
  {
   "cell_type": "code",
   "execution_count": 1,
   "id": "afe19d01-7c09-4ff7-8e40-c0ac34312dc9",
   "metadata": {
    "tags": []
   },
   "outputs": [],
   "source": [
    "from ortools.sat.python import cp_model"
   ]
  },
  {
   "cell_type": "markdown",
   "id": "6abd07b8-4b1b-4efb-951e-a5043b996fdd",
   "metadata": {},
   "source": [
    "# Общее условие"
   ]
  },
  {
   "cell_type": "markdown",
   "id": "67ae8d34-6659-4521-ad02-e9908bdf8ad7",
   "metadata": {
    "tags": []
   },
   "source": [
    "У вас есть сумка, которая может нести 20 кг. У вас есть набор вещей, которые вы хотите взять с собой, и их вес:"
   ]
  },
  {
   "cell_type": "code",
   "execution_count": 2,
   "id": "50d88a67-8036-41fc-81b5-8a7080272803",
   "metadata": {
    "tags": []
   },
   "outputs": [],
   "source": [
    "items = ['book', 'jacket', 'washbag', 'computer', 'boots', 'alarmclock', 'anorak', 'food']\n",
    "weight = [2, 4, 3, 8, 7, 1, 2, 6]"
   ]
  },
  {
   "cell_type": "markdown",
   "id": "bb520889-253f-4d98-9c4a-a4d499b07b5a",
   "metadata": {},
   "source": [
    "Сформулируем поставленную задачу как задачу целочисленного линейного программирования.\n",
    "\n",
    "Каждый предмет обозначим отдельной переменной:\n",
    "\n",
    "- $x_1 = \\{\\text{book}\\}$;\n",
    "\n",
    "- $x_2 = \\{\\text{jacket}\\}$; \n",
    "\n",
    "- $x_3 = \\{\\text{washbag}\\}$; \n",
    "\n",
    "- $x_4 = \\{\\text{computer}\\}$; \n",
    "\n",
    "- $x_5 = \\{\\text{boots}\\}$;\n",
    "\n",
    "- $x_6 = \\{\\text{alarmclock}\\}$;\n",
    "\n",
    "- $x_7 = \\{\\text{anorak}\\}$;\n",
    "\n",
    "- $x_8 = \\{\\text{food}\\}$. \n",
    "\n",
    "Также поставим условия $$x_i \\in \\{0, 1\\},$$\n",
    "которые означают, что, поскольку у нас по одной единице каждой из вещей, то вещь мы можем либо взять, либо не взять.\n",
    "\n",
    "Каждая вещь обладает своим весом, причем унести мы можем не больше $20$ кг. Это позволяет сформулировать ограничения:\n",
    "\n",
    "$$2x_1 + 4x_2 + 3x_3 + 8 x_4 + 7x_5 + x_6 + 2x_7 + 6x_8 \\leq 20.$$"
   ]
  },
  {
   "cell_type": "markdown",
   "id": "0330e88d-e627-457a-b273-ada0e9e0acda",
   "metadata": {},
   "source": [
    "# Первое подзадание"
   ]
  },
  {
   "cell_type": "markdown",
   "id": "e108233c-a4af-4ed2-ab24-e79ecca575ce",
   "metadata": {},
   "source": [
    "## Условие"
   ]
  },
  {
   "cell_type": "markdown",
   "id": "8bd89884-4d9c-43ee-a862-6325a16c003a",
   "metadata": {
    "tags": []
   },
   "source": [
    "Эти предметы имеют для вас определенную ценность:"
   ]
  },
  {
   "cell_type": "code",
   "execution_count": 3,
   "id": "1d092e88-9f83-430c-80b2-3799c8bca7f9",
   "metadata": {
    "tags": []
   },
   "outputs": [],
   "source": [
    "value = [6, 10, 8, 25, 22, 4, 5, 20]"
   ]
  },
  {
   "cell_type": "markdown",
   "id": "3438eb99-9512-45fe-ab6b-cf6cb84a9ec3",
   "metadata": {},
   "source": [
    "Упакуйте предметы, которые вы можете носить в своей сумке, которые принесут вам максимально возможную общую ценность."
   ]
  },
  {
   "cell_type": "markdown",
   "id": "cb0aa7a1-75bd-49cd-b4dc-5b5151f3275c",
   "metadata": {},
   "source": [
    "Нам нужно максимизировать ценность, соответственно это позволяет нам сформулировать целевую функцию для задачи ЦЛП:\n",
    "$$6x_1 + 10x_2 + 8 x_3 + 25 x_4 + 22 x_5 + 4 x_6 + 5 x_7 + 20 x_8 \\to \\max.$$\n",
    "\n",
    "В итоге, собрав все введенные формулы, мы имеем задачу ЦЛП вида:\n",
    "$$6x_1 + 10x_2 + 8 x_3 + 25 x_4 + 22 x_5 + 4 x_6 + 5 x_7 + 20 x_8 \\to \\max,$$\n",
    "$$2x_1 + 4x_2 + 3x_3 + 8 x_4 + 7x_5 + x_6 + 2x_7 + 6x_8 \\leq 20,$$\n",
    "$$x_i \\in \\{0,1\\}.$$\n",
    " \n",
    "Далее мы можем найти ее решение, применяя библиотеку OR-Tools."
   ]
  },
  {
   "cell_type": "markdown",
   "id": "ca67ef3a-28ee-4d13-a31e-a069a608a5ff",
   "metadata": {},
   "source": [
    "## Решение в OR-Tools"
   ]
  },
  {
   "cell_type": "markdown",
   "id": "c8d8f6aa-f47d-4fb5-9605-f4742ec2ab91",
   "metadata": {},
   "source": [
    "Составим функцию, применяя библиотеку OR-Tools, которая будет находить максимальное значение для задачи целочисленного программирования"
   ]
  },
  {
   "cell_type": "code",
   "execution_count": 4,
   "id": "2ec19b83-23f9-49da-9253-2e4c94d2a36b",
   "metadata": {
    "tags": []
   },
   "outputs": [],
   "source": [
    "def maximize_value(items, weight, value):\n",
    "    # Создание модели задачи\n",
    "    model = cp_model.CpModel()\n",
    "    \n",
    "    # Создаем булевы переменные\n",
    "    x = [model.NewBoolVar(f'x[{i}]') for i in range(len(items))]\n",
    "\n",
    "    # Ограничения на вес\n",
    "    model.Add(sum(weight[i] * x[i] for i in range(len(items))) <= 20)\n",
    "\n",
    "    # Целевая функция\n",
    "    objective = sum(value[i] * x[i] for i in range(len(items)))\n",
    "    model.Maximize(objective)\n",
    "    \n",
    "    # Отыскание решения для модели солвером\n",
    "    solver = cp_model.CpSolver()\n",
    "    status = solver.Solve(model)\n",
    "\n",
    "    if status == cp_model.OPTIMAL:\n",
    "        selected_items = [items[i] for i in range(len(items)) if solver.Value(x[i]) == 1]\n",
    "        total_value = solver.ObjectiveValue()\n",
    "\n",
    "        return selected_items, total_value\n",
    "\n",
    "    return [], 0"
   ]
  },
  {
   "cell_type": "markdown",
   "id": "32c490c9-83f6-4fd7-a8f1-70b3010b45f1",
   "metadata": {},
   "source": [
    "Подставим в данную функцию известные нам значения и получим решение задачи:"
   ]
  },
  {
   "cell_type": "code",
   "execution_count": 5,
   "id": "f7919078-20bd-4940-8db3-9a00f8a56866",
   "metadata": {
    "tags": []
   },
   "outputs": [
    {
     "name": "stdout",
     "output_type": "stream",
     "text": [
      "Selected items: ['book', 'washbag', 'computer', 'alarmclock', 'food']\n",
      "Total value: 63.0\n"
     ]
    }
   ],
   "source": [
    "selected_items, total_value = maximize_value(items, weight, value)\n",
    "print(\"Selected items:\", selected_items)\n",
    "print(\"Total value:\", total_value)"
   ]
  },
  {
   "cell_type": "markdown",
   "id": "213cd205-ac72-41b6-91e1-e46b0c8e0695",
   "metadata": {},
   "source": [
    "# Второе подзадание"
   ]
  },
  {
   "cell_type": "markdown",
   "id": "5ea3a054-5c2b-4a3c-9eab-5510d14dbd30",
   "metadata": {},
   "source": [
    "Рюкзак также имеет ограниченную вместимость, а общий объем предметов, которые он может поместить внутрь, составляет 2000 см2. Каждый предмет имеет не только вес, но и объем:"
   ]
  },
  {
   "cell_type": "code",
   "execution_count": 6,
   "id": "760a4fea-f3e3-46a7-9e3b-0b0d0e2de048",
   "metadata": {
    "tags": []
   },
   "outputs": [],
   "source": [
    "volume = [250, 500, 300, 250, 650, 130, 150, 600] "
   ]
  },
  {
   "cell_type": "markdown",
   "id": "022ec2de-16b7-45d0-aab8-f93d70c29b91",
   "metadata": {},
   "source": [
    "Найдите лучшее решение, как и в первой подзадаче, но общий объем предметов в рюкзаке не может быть больше вместимости рюкзака."
   ]
  },
  {
   "cell_type": "markdown",
   "id": "d773353f-a533-4e79-9baa-147f6bbe45d9",
   "metadata": {},
   "source": [
    "Данное условие позволяет нам сфорулировать еще одно ограничение на поставленную задачу:\n",
    "\n",
    "$$250x_1 + 500x_2 + 300x_3 + 250x_4 + 650x_5 + 130x_6 + 150x_7 + 600 x_8 \\leq 2000.$$\n",
    "\n",
    "Таким образом, задача ЦЛП переформулируется и будет иметь следующий вид:\n",
    "$$6x_1 + 10x_2 + 8 x_3 + 25 x_4 + 22 x_5 + 4 x_6 + 5 x_7 + 20 x_8 \\to \\max,$$\n",
    "$$2x_1 + 4x_2 + 3x_3 + 8 x_4 + 7x_5 + x_6 + 2x_7 + 6x_8 \\leq 20,$$\n",
    "$$250x_1 + 500x_2 + 300x_3 + 250x_4 + 650x_5 + 130x_6 + 150x_7 + 600 x_8 \\leq 2000,$$\n",
    "$$x_i \\in \\{0,1\\}.$$"
   ]
  },
  {
   "cell_type": "markdown",
   "id": "9946517a-f49d-4f7c-81b2-9081a66a17d0",
   "metadata": {},
   "source": [
    "## Решение в OR-Tools"
   ]
  },
  {
   "cell_type": "markdown",
   "id": "3a48e0d1-f7b0-4adb-b5f4-938285095d6a",
   "metadata": {},
   "source": [
    "Скопируем функцию из предыдущего подзадания, но добавим в нее новые ограничения:"
   ]
  },
  {
   "cell_type": "code",
   "execution_count": 7,
   "id": "0326db7a-2e2d-4751-bc7d-383b1a5da54c",
   "metadata": {
    "tags": []
   },
   "outputs": [],
   "source": [
    "def maximize_value(items, weight, value, volume):\n",
    "    # Создание модели задачи\n",
    "    model = cp_model.CpModel()\n",
    "    \n",
    "    # Создаем булевы переменные\n",
    "    x = [model.NewBoolVar(f'x[{i}]') for i in range(len(items))]\n",
    "\n",
    "    # Ограничения на вес\n",
    "    model.Add(sum(weight[i] * x[i] for i in range(len(items))) <= 20)\n",
    "    \n",
    "    # Ограничения на объем\n",
    "    model.Add(sum(volume[i] * x[i] for i in range(len(items))) <= 2000)\n",
    "\n",
    "    # Целевая функция\n",
    "    objective = sum(value[i] * x[i] for i in range(len(items)))\n",
    "    model.Maximize(objective)\n",
    "    \n",
    "    # Отыскание решения для модели солвером\n",
    "    solver = cp_model.CpSolver()\n",
    "    status = solver.Solve(model)\n",
    "\n",
    "    if status == cp_model.OPTIMAL:\n",
    "        selected_items = [items[i] for i in range(len(items)) if solver.Value(x[i]) == 1]\n",
    "        total_value = solver.ObjectiveValue()\n",
    "\n",
    "        return selected_items, total_value\n",
    "\n",
    "    return [], 0"
   ]
  },
  {
   "cell_type": "code",
   "execution_count": 8,
   "id": "2c44ca92-aece-4be6-8e35-29dcfc39d7d8",
   "metadata": {
    "tags": []
   },
   "outputs": [
    {
     "name": "stdout",
     "output_type": "stream",
     "text": [
      "Selected items: ['book', 'washbag', 'computer', 'alarmclock', 'food']\n",
      "Total value: 63.0\n"
     ]
    }
   ],
   "source": [
    "selected_items, total_value = maximize_value(items, weight, value, volume)\n",
    "print(\"Selected items:\", selected_items)\n",
    "print(\"Total value:\", total_value)"
   ]
  },
  {
   "cell_type": "markdown",
   "id": "fd94526e-9095-49e1-9451-9f2d8a556e61",
   "metadata": {},
   "source": [
    "Таким образом, введение дополнительных условий не повлияло на решение задачи ЦЛП."
   ]
  },
  {
   "cell_type": "markdown",
   "id": "9615c1ca-50f8-498c-afd9-3af03b10e8a9",
   "metadata": {},
   "source": [
    "# Третье подзадание"
   ]
  },
  {
   "cell_type": "markdown",
   "id": "8143efe9-50e3-4608-ab88-f6593bdfd69c",
   "metadata": {},
   "source": [
    "## Условие"
   ]
  },
  {
   "cell_type": "markdown",
   "id": "e29fbfcf-1c46-4cab-ac18-c65bf816f3eb",
   "metadata": {},
   "source": [
    "Некоторые вещи в сочетании стоят больше, а некоторые меньше. Вот дополнительный (или уменьшенный) балл, который вы получаете за каждую пару:"
   ]
  },
  {
   "cell_type": "code",
   "execution_count": 9,
   "id": "6cae14e6-8968-4350-8c07-594e3ca5ca67",
   "metadata": {
    "tags": []
   },
   "outputs": [],
   "source": [
    "extra_value = [    [0, 0, 0, -5, 0, 0, 0, 0],\n",
    "                   [0, 0, 0, 0, 3, 0, -2, 0],\n",
    "                   [0, 0, 0, 0, 0, 0, 0, 0],\n",
    "                   [-5, 0, 0, 0, 0, -2, 0, 0],\n",
    "                   [0, 3, 0, 0, 0, 0, 0, 0],\n",
    "                   [0, 0, 0, -2, 0, 0, 0, 0],\n",
    "                   [0, -2, 0, 0, 0, 0, 0, 0],\n",
    "                   [0, 0, 0, 0, 0, 0, 0, 0]    ]"
   ]
  },
  {
   "cell_type": "markdown",
   "id": "ef0f9251-3696-43f5-9ffa-7183861f9e3b",
   "metadata": {},
   "source": [
    "Если extra_value[i1, i2] = 3 и предметы i1 и i2 находятся в вашей сумке, то общая стоимость вашей сумки увеличивается на 3. Естественно, если extra_value[i1, i2] = −2, то она уменьшается на 2.\n",
    "Расширьте свою модель для первой подзадачи, чтобы максимизировать общую сумму с измененными значениями.\n"
   ]
  },
  {
   "cell_type": "markdown",
   "id": "59d7680a-4dc5-4c7e-9974-24d3a2211ff2",
   "metadata": {},
   "source": [
    "Эти дополнительные условия позволяют переформулировать целевую функцию. Но для этого введем некоторые обозначения:\n",
    "\n",
    "- $x = (x_1,\\ldots, x_8)^T$ -- вектор всех предметов, $x_i \\in \\{0, 1\\}$;\n",
    "\n",
    "- $\\mathcal V_{extra}$ -- матрица дополнительного балла за каждую пару данная по условию;\n",
    "\n",
    "- $\\omega$ -- вектор весов данный в общем условии;\n",
    "\n",
    "- $v$ -- вектор ценности данный в первом подзадании;\n",
    "\n",
    "- $\\mathcal v$ -- вектор ценности данный во втором подзадании.\n",
    "\n",
    "В итоге задача ЦЛП станет иметь вид\n",
    "$$v^T x + \\mathcal V_{extra} (x^Tx) \\to \\max,$$\n",
    "$$\\omega^T x \\leq 20,$$\n",
    "$$\\mathcal v ^T x \\leq 2000,$$\n",
    "$$x_i \\in \\{0,1\\}.$$"
   ]
  },
  {
   "cell_type": "markdown",
   "id": "2773db12-a17a-49a2-a80b-9c50c25ab15f",
   "metadata": {},
   "source": [
    "## Решение в OR-Tools"
   ]
  },
  {
   "cell_type": "markdown",
   "id": "389c1c02-ed55-4d92-bc0e-be6f1d252b91",
   "metadata": {
    "tags": []
   },
   "source": [
    "Возьмем функцию из второго подзадания и добавим к целевой функции новое условие:"
   ]
  },
  {
   "cell_type": "code",
   "execution_count": 10,
   "id": "22ae6b51-7d60-438d-ac14-8e82aa90a54a",
   "metadata": {
    "tags": []
   },
   "outputs": [],
   "source": [
    "def maximize_value(items, weight, value, volume, extra_value):\n",
    "    # Создание модели задачи\n",
    "    model = cp_model.CpModel()\n",
    "    \n",
    "    # Создаем булевы переменные\n",
    "    x = [model.NewBoolVar(f'x[{i}]') for i in range(len(items))]\n",
    "\n",
    "    # Ограничения на вес\n",
    "    model.Add(sum(weight[i] * x[i] for i in range(len(items))) <= 20)\n",
    "    \n",
    "    # Ограничения на объем\n",
    "    model.Add(sum(volume[i] * x[i] for i in range(len(items))) <= 2000)\n",
    "\n",
    "    # Целевая функция\n",
    "    objective = sum(value[i] * x[i] for i in range(len(items)))\n",
    "    for i1 in range(len(items)):\n",
    "        for i2 in range(len(items)):\n",
    "            var = model.NewBoolVar('')\n",
    "            model.AddBoolAnd([x[i1], x[i2]]).OnlyEnforceIf(var)\n",
    "            objective += extra_value[i1][i2] * var\n",
    "    model.Maximize(objective)\n",
    "    \n",
    "    # Отыскание решения для модели солвером\n",
    "    solver = cp_model.CpSolver()\n",
    "    status = solver.Solve(model)\n",
    "\n",
    "    if status == cp_model.OPTIMAL:\n",
    "        selected_items = [items[i] for i in range(len(items)) if solver.Value(x[i]) == 1]\n",
    "        total_value = solver.ObjectiveValue()\n",
    "\n",
    "        return selected_items, total_value\n",
    "\n",
    "    return [], 0"
   ]
  },
  {
   "cell_type": "code",
   "execution_count": 11,
   "id": "9a7d248c-88d6-47c4-9d44-e8b8363674fb",
   "metadata": {
    "tags": []
   },
   "outputs": [
    {
     "name": "stdout",
     "output_type": "stream",
     "text": [
      "Selected items: ['jacket', 'computer', 'boots', 'alarmclock']\n",
      "Total value: 67.0\n"
     ]
    }
   ],
   "source": [
    "selected_items, total_value = maximize_value(items, weight, value, volume, extra_value)\n",
    "print(\"Selected items:\", selected_items)\n",
    "print(\"Total value:\", total_value)"
   ]
  },
  {
   "cell_type": "markdown",
   "id": "4ac4a9b9-91b9-462f-bb89-9b704cc710e4",
   "metadata": {},
   "source": [
    "Таким образом, результат изменился по сравнению с предыдущем подзаданием.\n",
    "\n",
    "В итоге, собрав все условия в единую задачу, мы получили решение:\n",
    "$$\\max\\Big(v^T x + \\mathcal V_{extra} (x^Tx) \\Big) = 67,\\quad x = (0,1,0,1,1,1,0,0)^T.$$"
   ]
  }
 ],
 "metadata": {
  "kernelspec": {
   "display_name": "Python 3 (ipykernel)",
   "language": "python",
   "name": "python3"
  },
  "language_info": {
   "codemirror_mode": {
    "name": "ipython",
    "version": 3
   },
   "file_extension": ".py",
   "mimetype": "text/x-python",
   "name": "python",
   "nbconvert_exporter": "python",
   "pygments_lexer": "ipython3",
   "version": "3.11.5"
  }
 },
 "nbformat": 4,
 "nbformat_minor": 5
}
