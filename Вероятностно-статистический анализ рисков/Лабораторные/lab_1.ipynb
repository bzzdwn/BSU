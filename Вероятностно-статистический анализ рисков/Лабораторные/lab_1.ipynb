{
 "cells": [
  {
   "cell_type": "markdown",
   "metadata": {},
   "source": [
    "# Лабораторная №1"
   ]
  },
  {
   "cell_type": "markdown",
   "metadata": {},
   "source": [
    "## Вариант 1"
   ]
  },
  {
   "cell_type": "code",
   "execution_count": 15,
   "metadata": {},
   "outputs": [],
   "source": [
    "import numpy as np\n",
    "from scipy.optimize import fsolve"
   ]
  },
  {
   "cell_type": "markdown",
   "metadata": {},
   "source": [
    "Мы предполагаем, что имеется 3 состояния в момент 1. В нашей модели имеются три агента, и каждый из них имеет начальный капитал в 16 единиц в момент 0 и 50 единиц в момент 1 в каждом состоянии."
   ]
  },
  {
   "cell_type": "code",
   "execution_count": 14,
   "metadata": {
    "collapsed": false,
    "jupyter": {
     "outputs_hidden": false
    }
   },
   "outputs": [],
   "source": [
    "e0 = 16  # Начальный капитал в t=0\n",
    "e1 = 50  # Капитал в t=1"
   ]
  },
  {
   "cell_type": "markdown",
   "metadata": {},
   "source": [
    "Все агенты имеют одинаковые функции полезности вида $$U(c,C)=\\sqrt c +\\sqrt C.$$"
   ]
  },
  {
   "cell_type": "code",
   "execution_count": 17,
   "metadata": {},
   "outputs": [],
   "source": [
    "def u(c):\n",
    "    return np.sqrt(c)"
   ]
  },
  {
   "cell_type": "markdown",
   "metadata": {},
   "source": [
    "Агенты имеютразличные субъективные вероятности состояний в момент 1"
   ]
  },
  {
   "cell_type": "code",
   "execution_count": 16,
   "metadata": {},
   "outputs": [],
   "source": [
    "P = np.array([\n",
    "    [0.5, 0.25, 0.25],\n",
    "    [0.25, 0.5, 0.25],\n",
    "    [0.25, 0.25, 0.5]\n",
    "])"
   ]
  },
  {
   "cell_type": "markdown",
   "metadata": {},
   "source": [
    "Требуется\n",
    "\n",
    "1. Найти оптимальное распределение потребления агентов в условиях равновесия.\n",
    "\n",
    "2. Найти безрисковую процентную ставку."
   ]
  },
  {
   "cell_type": "markdown",
   "metadata": {},
   "source": [
    "Итак, у нас имеется 15 неизвестных:\n",
    "\n",
    "- $c_1, c_2, c_3$ -- текущее потребление;\n",
    "\n",
    "- $C_{11}, C_{12}, C_{13}, C_{21},\\ldots, C_{33}$ -- потребления в состояниях;\n",
    "\n",
    "- $\\psi_1, \\psi_2, \\psi_3$ -- цены состояний.\n",
    "\n",
    "Для их вычисления мы составим систему из 15 уравнений. Уравнения будут следующих типов:\n",
    "\n",
    "1. **Условия первого порядка.** Для каждого агента $i$ и состояния $j$ выполняется $$/dfrac{P_{ij} \\cdot U(c_i)}{U(C_{ij}} = \\psi_j,\\ i = \\overline{1,3},\\ j = \\overline{1,3}.$$ Эти 9 уравнений выводятся из условия максимизации полезности с учётом вероятностей состояний и соответствующих цен состояний.\n",
    "\n",
    "2. **Бюджетные ограничения.** Для каждого агента $i$ выполняется $$c_i + \\sum_{j=1}^3\\psi _j C_{ij} = e_0 + e_1\\cdot \\sum _{j=1}^3 \\psi_j.$$ Эти 3 уравнения отражают баланс между текущим потреблением и будущими затратами, скорректированными на цены состояний.\n",
    "\n",
    "3. **Рыночное равновесие.** Для каждого состояния $j$ $$\\sum_{j=1}^3 C_{ij} = 3e_1.$$ Это уравнение гарантирует, что общее потребление в каждом состоянии равно общему доступному капиталу. "
   ]
  },
  {
   "cell_type": "code",
   "execution_count": 18,
   "metadata": {},
   "outputs": [],
   "source": [
    "def equations(vars):\n",
    "    c = vars[:3]               # c1, c2, c3 - потребление агентов\n",
    "    C = vars[3:12].reshape(3, 3)  # C11, C12, ..., C33 - потребление в состояниях для агентов\n",
    "    psi = vars[12:]              # psi1, psi2, psi3 - цены состояний\n",
    "\n",
    "    eqs = []\n",
    "\n",
    "    # Условия первого порядка\n",
    "    for i in range(3): # по агентам\n",
    "        for s in range(3): # по состояниям\n",
    "            eqs.append(P[i, s] * u(c[i]) / u(C[i, s]) - psi[s])\n",
    "\n",
    "    # Бюджетные ограничения для каждого агента\n",
    "    for i in range(3):\n",
    "        eqs.append(c[i] + np.dot(psi, C[i, :]) - (e0 + e1 * np.sum(psi)))\n",
    "\n",
    "    # Рыночное равновесие\n",
    "    for s in range(3):\n",
    "        eqs.append(np.sum(C[:, s]) - 3 * e1)\n",
    "\n",
    "    return eqs\n",
    "\n",
    "initial_guess = np.ones(15) # Начальное приближение\n",
    "solution = fsolve(equations, initial_guess) # Решение системы"
   ]
  },
  {
   "cell_type": "code",
   "execution_count": 19,
   "metadata": {
    "collapsed": false,
    "jupyter": {
     "outputs_hidden": false
    }
   },
   "outputs": [
    {
     "name": "stdout",
     "output_type": "stream",
     "text": [
      "Текущее потребление (с): [16. 16. 16.]\n",
      "\n",
      "Потребления в состояниях (С):\n",
      "[[100.  25.  25.]\n",
      " [ 25. 100.  25.]\n",
      " [ 25.  25. 100.]]\n",
      "\n",
      "Цены  для состояний (psi): [0.2 0.2 0.2]\n",
      "\n"
     ]
    }
   ],
   "source": [
    "# Разбиваем результаты\n",
    "c_sol = solution[:3]            # Равновесное текущее потребление\n",
    "C_sol = solution[3:12].reshape(3, 3)  # Равновесное потребление в состояниях\n",
    "psi_sol = solution[12:]           # Цены состояний\n",
    "\n",
    "print(\"Текущее потребление (с):\", c_sol, end=\"\\n\\n\")\n",
    "print(\"Потребления в состояниях (С):\")\n",
    "print(C_sol, end=\"\\n\\n\")\n",
    "print(\"Цены  для состояний (psi):\", psi_sol, end=\"\\n\\n\")"
   ]
  },
  {
   "cell_type": "markdown",
   "metadata": {},
   "source": [
    "Безрисковая процентная ставка $r_f$ рассчитывается как:\n",
    "$$r_f = \\dfrac{1}{\\sum_{j=1}^3 \\psi_j} -1.$$\n",
    "Эта ставка показывает доходность безрискового актива в условиях равновесия."
   ]
  },
  {
   "cell_type": "code",
   "execution_count": 20,
   "metadata": {},
   "outputs": [
    {
     "name": "stdout",
     "output_type": "stream",
     "text": [
      "Безрисковая процентная ставка (r_f): 0.6666666666666397\n"
     ]
    }
   ],
   "source": [
    "r_f = 1 / np.sum(psi_sol) - 1  # Безрисковая процентная ставка\n",
    "print(\"Безрисковая процентная ставка (r_f):\", r_f)"
   ]
  },
  {
   "cell_type": "markdown",
   "metadata": {},
   "source": [
    "## Вариант 2"
   ]
  },
  {
   "cell_type": "markdown",
   "metadata": {},
   "source": [
    "Все агенты имеют одинаковые функции полезности вида $$U(c,C)= c-\\dfrac{c^2}{340} + C-\\dfrac{C^2}{340}.$$"
   ]
  },
  {
   "cell_type": "code",
   "execution_count": 21,
   "metadata": {},
   "outputs": [],
   "source": [
    "def u(c):\n",
    "    return c - c**2 / 340"
   ]
  },
  {
   "cell_type": "code",
   "execution_count": null,
   "metadata": {},
   "outputs": [],
   "source": []
  }
 ],
 "metadata": {
  "kernelspec": {
   "display_name": "Python 3 (ipykernel)",
   "language": "python",
   "name": "python3"
  },
  "language_info": {
   "codemirror_mode": {
    "name": "ipython",
    "version": 3
   },
   "file_extension": ".py",
   "mimetype": "text/x-python",
   "name": "python",
   "nbconvert_exporter": "python",
   "pygments_lexer": "ipython3",
   "version": "3.12.3"
  }
 },
 "nbformat": 4,
 "nbformat_minor": 4
}
