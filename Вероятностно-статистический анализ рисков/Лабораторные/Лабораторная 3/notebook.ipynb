{
 "cells": [
  {
   "cell_type": "code",
   "execution_count": 1,
   "id": "19e930f8-ae1f-4a6a-9198-1398c18b9453",
   "metadata": {},
   "outputs": [],
   "source": [
    "import pandas as pd\n",
    "import numpy as np"
   ]
  },
  {
   "cell_type": "code",
   "execution_count": 4,
   "id": "1e3d19ef-7ff7-493e-be45-1405128c9d14",
   "metadata": {},
   "outputs": [
    {
     "data": {
      "text/html": [
       "<div>\n",
       "<style scoped>\n",
       "    .dataframe tbody tr th:only-of-type {\n",
       "        vertical-align: middle;\n",
       "    }\n",
       "\n",
       "    .dataframe tbody tr th {\n",
       "        vertical-align: top;\n",
       "    }\n",
       "\n",
       "    .dataframe thead th {\n",
       "        text-align: right;\n",
       "    }\n",
       "</style>\n",
       "<table border=\"1\" class=\"dataframe\">\n",
       "  <thead>\n",
       "    <tr style=\"text-align: right;\">\n",
       "      <th></th>\n",
       "      <th>Газпром</th>\n",
       "      <th>Лукойл</th>\n",
       "      <th>Роснефть</th>\n",
       "      <th>Сбербанк</th>\n",
       "      <th>Ростелеком</th>\n",
       "    </tr>\n",
       "    <tr>\n",
       "      <th>Дата</th>\n",
       "      <th></th>\n",
       "      <th></th>\n",
       "      <th></th>\n",
       "      <th></th>\n",
       "      <th></th>\n",
       "    </tr>\n",
       "  </thead>\n",
       "  <tbody>\n",
       "    <tr>\n",
       "      <th>28.12.2012</th>\n",
       "      <td>144,31</td>\n",
       "      <td>2 005,90</td>\n",
       "      <td>269,51</td>\n",
       "      <td>92,85</td>\n",
       "      <td>119,75</td>\n",
       "    </tr>\n",
       "    <tr>\n",
       "      <th>27.12.2012</th>\n",
       "      <td>145,00</td>\n",
       "      <td>2 014,00</td>\n",
       "      <td>267,86</td>\n",
       "      <td>92,67</td>\n",
       "      <td>118,88</td>\n",
       "    </tr>\n",
       "    <tr>\n",
       "      <th>26.12.2012</th>\n",
       "      <td>144,90</td>\n",
       "      <td>2 018,40</td>\n",
       "      <td>267,18</td>\n",
       "      <td>92,27</td>\n",
       "      <td>118,65</td>\n",
       "    </tr>\n",
       "    <tr>\n",
       "      <th>25.12.2012</th>\n",
       "      <td>144,54</td>\n",
       "      <td>2 014,00</td>\n",
       "      <td>265,29</td>\n",
       "      <td>92,70</td>\n",
       "      <td>118,38</td>\n",
       "    </tr>\n",
       "    <tr>\n",
       "      <th>24.12.2012</th>\n",
       "      <td>145,24</td>\n",
       "      <td>2 016,10</td>\n",
       "      <td>265,59</td>\n",
       "      <td>92,77</td>\n",
       "      <td>119,65</td>\n",
       "    </tr>\n",
       "  </tbody>\n",
       "</table>\n",
       "</div>"
      ],
      "text/plain": [
       "              Газпром      Лукойл   Роснефть  Сбербанк Ростелеком\n",
       "Дата                                                             \n",
       "28.12.2012     144,31    2 005,90     269,51     92,85     119,75\n",
       "27.12.2012     145,00    2 014,00     267,86     92,67     118,88\n",
       "26.12.2012     144,90    2 018,40     267,18     92,27     118,65\n",
       "25.12.2012     144,54    2 014,00     265,29     92,70     118,38\n",
       "24.12.2012     145,24    2 016,10     265,59     92,77     119,65"
      ]
     },
     "execution_count": 4,
     "metadata": {},
     "output_type": "execute_result"
    }
   ],
   "source": [
    "data = pd.read_csv('data.csv', index_col=0)\n",
    "data.head()"
   ]
  },
  {
   "cell_type": "code",
   "execution_count": null,
   "id": "2256d6f5-ca05-42b6-9f46-948cea27e93d",
   "metadata": {},
   "outputs": [],
   "source": []
  }
 ],
 "metadata": {
  "kernelspec": {
   "display_name": "Python 3 (ipykernel)",
   "language": "python",
   "name": "python3"
  },
  "language_info": {
   "codemirror_mode": {
    "name": "ipython",
    "version": 3
   },
   "file_extension": ".py",
   "mimetype": "text/x-python",
   "name": "python",
   "nbconvert_exporter": "python",
   "pygments_lexer": "ipython3",
   "version": "3.12.4"
  }
 },
 "nbformat": 4,
 "nbformat_minor": 5
}
