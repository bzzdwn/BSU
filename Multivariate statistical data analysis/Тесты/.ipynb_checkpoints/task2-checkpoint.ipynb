{
 "cells": [
  {
   "cell_type": "markdown",
   "id": "267d542f-d6ac-4a60-aa9c-96f9c878f640",
   "metadata": {},
   "source": [
    "data.csv\n",
    "Провести предварительный анализ данных (могут быть пропущенные значения и ошибки в данных).\n",
    "Создать модели для прогнозирования цены (kNN, decision tree, linear regression) и сравнить показатели.\n",
    "Произвести анализ остатков наилучшей модели.\n",
    "\n",
    "Пожалуйста, пишите больше комментариев с выводами!\n",
    "\n",
    "Отчет сдать в папку \"Работы 22.11\""
   ]
  },
  {
   "cell_type": "code",
   "execution_count": 166,
   "id": "575d5322-a9c2-431d-9906-049fc35def17",
   "metadata": {},
   "outputs": [],
   "source": [
    "import pandas as pd\n",
    "import numpy as np"
   ]
  },
  {
   "cell_type": "code",
   "execution_count": 167,
   "id": "9b9c7183-1d4b-4171-9ecf-002991daf0f6",
   "metadata": {},
   "outputs": [],
   "source": [
    "data = pd.read_csv('data.csv')"
   ]
  },
  {
   "cell_type": "code",
   "execution_count": 168,
   "id": "1c0ac77b-f02a-4554-9e45-9b3819ee8de4",
   "metadata": {},
   "outputs": [
    {
     "data": {
      "text/html": [
       "<div>\n",
       "<style scoped>\n",
       "    .dataframe tbody tr th:only-of-type {\n",
       "        vertical-align: middle;\n",
       "    }\n",
       "\n",
       "    .dataframe tbody tr th {\n",
       "        vertical-align: top;\n",
       "    }\n",
       "\n",
       "    .dataframe thead th {\n",
       "        text-align: right;\n",
       "    }\n",
       "</style>\n",
       "<table border=\"1\" class=\"dataframe\">\n",
       "  <thead>\n",
       "    <tr style=\"text-align: right;\">\n",
       "      <th></th>\n",
       "      <th>Area</th>\n",
       "      <th>NumberOfRooms</th>\n",
       "      <th>Zip</th>\n",
       "      <th>price</th>\n",
       "      <th>latitude</th>\n",
       "      <th>longitude</th>\n",
       "    </tr>\n",
       "  </thead>\n",
       "  <tbody>\n",
       "    <tr>\n",
       "      <th>0</th>\n",
       "      <td>44.0</td>\n",
       "      <td>2.0</td>\n",
       "      <td>1057</td>\n",
       "      <td>225000</td>\n",
       "      <td>52.367071</td>\n",
       "      <td>4.853112</td>\n",
       "    </tr>\n",
       "    <tr>\n",
       "      <th>1</th>\n",
       "      <td>298.0</td>\n",
       "      <td>6.0</td>\n",
       "      <td>1081</td>\n",
       "      <td>2298000</td>\n",
       "      <td>52.333770</td>\n",
       "      <td>4.852240</td>\n",
       "    </tr>\n",
       "    <tr>\n",
       "      <th>2</th>\n",
       "      <td>141.0</td>\n",
       "      <td>5.0</td>\n",
       "      <td>1027</td>\n",
       "      <td>750000</td>\n",
       "      <td>52.411901</td>\n",
       "      <td>4.962458</td>\n",
       "    </tr>\n",
       "    <tr>\n",
       "      <th>3</th>\n",
       "      <td>371.0</td>\n",
       "      <td>5.0</td>\n",
       "      <td>1018</td>\n",
       "      <td>1750000</td>\n",
       "      <td>52.368387</td>\n",
       "      <td>4.918091</td>\n",
       "    </tr>\n",
       "    <tr>\n",
       "      <th>4</th>\n",
       "      <td>168.0</td>\n",
       "      <td>6.0</td>\n",
       "      <td>1060</td>\n",
       "      <td>490000</td>\n",
       "      <td>40.804673</td>\n",
       "      <td>-73.963420</td>\n",
       "    </tr>\n",
       "    <tr>\n",
       "      <th>5</th>\n",
       "      <td>82.0</td>\n",
       "      <td>3.0</td>\n",
       "      <td>1064</td>\n",
       "      <td>230000</td>\n",
       "      <td>52.372459</td>\n",
       "      <td>4.819220</td>\n",
       "    </tr>\n",
       "    <tr>\n",
       "      <th>6</th>\n",
       "      <td>66.0</td>\n",
       "      <td>3.0</td>\n",
       "      <td>1057</td>\n",
       "      <td>349000</td>\n",
       "      <td>52.367071</td>\n",
       "      <td>4.853112</td>\n",
       "    </tr>\n",
       "    <tr>\n",
       "      <th>7</th>\n",
       "      <td>82.0</td>\n",
       "      <td>3.0</td>\n",
       "      <td>1055</td>\n",
       "      <td>345000</td>\n",
       "      <td>52.381707</td>\n",
       "      <td>4.854023</td>\n",
       "    </tr>\n",
       "    <tr>\n",
       "      <th>8</th>\n",
       "      <td>75.0</td>\n",
       "      <td>3.0</td>\n",
       "      <td>1015</td>\n",
       "      <td>450000</td>\n",
       "      <td>52.379093</td>\n",
       "      <td>4.885109</td>\n",
       "    </tr>\n",
       "    <tr>\n",
       "      <th>9</th>\n",
       "      <td>85.0</td>\n",
       "      <td>3.0</td>\n",
       "      <td>1087</td>\n",
       "      <td>295000</td>\n",
       "      <td>52.355590</td>\n",
       "      <td>5.000561</td>\n",
       "    </tr>\n",
       "    <tr>\n",
       "      <th>10</th>\n",
       "      <td>200.0</td>\n",
       "      <td>7.0</td>\n",
       "      <td>1016</td>\n",
       "      <td>1200000</td>\n",
       "      <td>52.371147</td>\n",
       "      <td>4.883705</td>\n",
       "    </tr>\n",
       "    <tr>\n",
       "      <th>11</th>\n",
       "      <td>118.0</td>\n",
       "      <td>5.0</td>\n",
       "      <td>1035</td>\n",
       "      <td>335000</td>\n",
       "      <td>52.416895</td>\n",
       "      <td>4.906767</td>\n",
       "    </tr>\n",
       "    <tr>\n",
       "      <th>12</th>\n",
       "      <td>90.0</td>\n",
       "      <td>3.0</td>\n",
       "      <td>1011</td>\n",
       "      <td>449000</td>\n",
       "      <td>52.372976</td>\n",
       "      <td>4.903956</td>\n",
       "    </tr>\n",
       "    <tr>\n",
       "      <th>13</th>\n",
       "      <td>90.0</td>\n",
       "      <td>5.0</td>\n",
       "      <td>1075</td>\n",
       "      <td>499000</td>\n",
       "      <td>52.351564</td>\n",
       "      <td>4.856651</td>\n",
       "    </tr>\n",
       "    <tr>\n",
       "      <th>14</th>\n",
       "      <td>137.0</td>\n",
       "      <td>6.0</td>\n",
       "      <td>1104</td>\n",
       "      <td>Prijs op aanvraag</td>\n",
       "      <td>52.316447</td>\n",
       "      <td>4.980202</td>\n",
       "    </tr>\n",
       "    <tr>\n",
       "      <th>15</th>\n",
       "      <td>84.0</td>\n",
       "      <td>3.0</td>\n",
       "      <td>1016</td>\n",
       "      <td>735000</td>\n",
       "      <td>52.371147</td>\n",
       "      <td>4.883705</td>\n",
       "    </tr>\n",
       "    <tr>\n",
       "      <th>16</th>\n",
       "      <td>35.0</td>\n",
       "      <td>2.0</td>\n",
       "      <td>1066</td>\n",
       "      <td>165000</td>\n",
       "      <td>52.343193</td>\n",
       "      <td>4.817434</td>\n",
       "    </tr>\n",
       "    <tr>\n",
       "      <th>17</th>\n",
       "      <td>173.0</td>\n",
       "      <td>4.0</td>\n",
       "      <td>1082</td>\n",
       "      <td>950000</td>\n",
       "      <td>52.331430</td>\n",
       "      <td>4.876693</td>\n",
       "    </tr>\n",
       "    <tr>\n",
       "      <th>18</th>\n",
       "      <td>56.0</td>\n",
       "      <td>3.0</td>\n",
       "      <td>1076</td>\n",
       "      <td>339000</td>\n",
       "      <td>52.344089</td>\n",
       "      <td>4.860684</td>\n",
       "    </tr>\n",
       "    <tr>\n",
       "      <th>19</th>\n",
       "      <td>60.0</td>\n",
       "      <td>3.0</td>\n",
       "      <td>1069</td>\n",
       "      <td>167500</td>\n",
       "      <td>52.357638</td>\n",
       "      <td>4.790123</td>\n",
       "    </tr>\n",
       "  </tbody>\n",
       "</table>\n",
       "</div>"
      ],
      "text/plain": [
       "     Area  NumberOfRooms   Zip              price   latitude  longitude\n",
       "0    44.0            2.0  1057             225000  52.367071   4.853112\n",
       "1   298.0            6.0  1081            2298000  52.333770   4.852240\n",
       "2   141.0            5.0  1027             750000  52.411901   4.962458\n",
       "3   371.0            5.0  1018            1750000  52.368387   4.918091\n",
       "4   168.0            6.0  1060             490000  40.804673 -73.963420\n",
       "5    82.0            3.0  1064             230000  52.372459   4.819220\n",
       "6    66.0            3.0  1057             349000  52.367071   4.853112\n",
       "7    82.0            3.0  1055             345000  52.381707   4.854023\n",
       "8    75.0            3.0  1015             450000  52.379093   4.885109\n",
       "9    85.0            3.0  1087             295000  52.355590   5.000561\n",
       "10  200.0            7.0  1016            1200000  52.371147   4.883705\n",
       "11  118.0            5.0  1035             335000  52.416895   4.906767\n",
       "12   90.0            3.0  1011             449000  52.372976   4.903956\n",
       "13   90.0            5.0  1075             499000  52.351564   4.856651\n",
       "14  137.0            6.0  1104  Prijs op aanvraag  52.316447   4.980202\n",
       "15   84.0            3.0  1016             735000  52.371147   4.883705\n",
       "16   35.0            2.0  1066             165000  52.343193   4.817434\n",
       "17  173.0            4.0  1082             950000  52.331430   4.876693\n",
       "18   56.0            3.0  1076             339000  52.344089   4.860684\n",
       "19   60.0            3.0  1069             167500  52.357638   4.790123"
      ]
     },
     "execution_count": 168,
     "metadata": {},
     "output_type": "execute_result"
    }
   ],
   "source": [
    "data.head(20)"
   ]
  },
  {
   "cell_type": "code",
   "execution_count": 169,
   "id": "60c8a3d4-3acc-4d6f-b5c4-48be6874494d",
   "metadata": {},
   "outputs": [
    {
     "name": "stdout",
     "output_type": "stream",
     "text": [
      "<class 'pandas.core.frame.DataFrame'>\n",
      "RangeIndex: 2191 entries, 0 to 2190\n",
      "Data columns (total 6 columns):\n",
      " #   Column         Non-Null Count  Dtype  \n",
      "---  ------         --------------  -----  \n",
      " 0   Area           2191 non-null   float64\n",
      " 1   NumberOfRooms  2163 non-null   float64\n",
      " 2   Zip            2191 non-null   int64  \n",
      " 3   price          2191 non-null   object \n",
      " 4   latitude       2191 non-null   float64\n",
      " 5   longitude      2191 non-null   float64\n",
      "dtypes: float64(4), int64(1), object(1)\n",
      "memory usage: 102.8+ KB\n"
     ]
    }
   ],
   "source": [
    "data.info()"
   ]
  },
  {
   "cell_type": "markdown",
   "id": "9785a615-d9d8-4208-b47b-3e8a198e98bd",
   "metadata": {},
   "source": [
    "Заметно, что присутствуют пропущенные данные. Для нначала отформатируем названия столбцов"
   ]
  },
  {
   "cell_type": "code",
   "execution_count": 170,
   "id": "1f2ff308-419b-4ddc-ba34-7c9757c010e3",
   "metadata": {},
   "outputs": [
    {
     "data": {
      "text/html": [
       "<div>\n",
       "<style scoped>\n",
       "    .dataframe tbody tr th:only-of-type {\n",
       "        vertical-align: middle;\n",
       "    }\n",
       "\n",
       "    .dataframe tbody tr th {\n",
       "        vertical-align: top;\n",
       "    }\n",
       "\n",
       "    .dataframe thead th {\n",
       "        text-align: right;\n",
       "    }\n",
       "</style>\n",
       "<table border=\"1\" class=\"dataframe\">\n",
       "  <thead>\n",
       "    <tr style=\"text-align: right;\">\n",
       "      <th></th>\n",
       "      <th>area</th>\n",
       "      <th>number_of_rooms</th>\n",
       "      <th>zip</th>\n",
       "      <th>price</th>\n",
       "      <th>latitude</th>\n",
       "      <th>longitude</th>\n",
       "    </tr>\n",
       "  </thead>\n",
       "  <tbody>\n",
       "    <tr>\n",
       "      <th>0</th>\n",
       "      <td>44.0</td>\n",
       "      <td>2.0</td>\n",
       "      <td>1057</td>\n",
       "      <td>225000</td>\n",
       "      <td>52.367071</td>\n",
       "      <td>4.853112</td>\n",
       "    </tr>\n",
       "    <tr>\n",
       "      <th>1</th>\n",
       "      <td>298.0</td>\n",
       "      <td>6.0</td>\n",
       "      <td>1081</td>\n",
       "      <td>2298000</td>\n",
       "      <td>52.333770</td>\n",
       "      <td>4.852240</td>\n",
       "    </tr>\n",
       "    <tr>\n",
       "      <th>2</th>\n",
       "      <td>141.0</td>\n",
       "      <td>5.0</td>\n",
       "      <td>1027</td>\n",
       "      <td>750000</td>\n",
       "      <td>52.411901</td>\n",
       "      <td>4.962458</td>\n",
       "    </tr>\n",
       "    <tr>\n",
       "      <th>3</th>\n",
       "      <td>371.0</td>\n",
       "      <td>5.0</td>\n",
       "      <td>1018</td>\n",
       "      <td>1750000</td>\n",
       "      <td>52.368387</td>\n",
       "      <td>4.918091</td>\n",
       "    </tr>\n",
       "    <tr>\n",
       "      <th>4</th>\n",
       "      <td>168.0</td>\n",
       "      <td>6.0</td>\n",
       "      <td>1060</td>\n",
       "      <td>490000</td>\n",
       "      <td>40.804673</td>\n",
       "      <td>-73.963420</td>\n",
       "    </tr>\n",
       "    <tr>\n",
       "      <th>...</th>\n",
       "      <td>...</td>\n",
       "      <td>...</td>\n",
       "      <td>...</td>\n",
       "      <td>...</td>\n",
       "      <td>...</td>\n",
       "      <td>...</td>\n",
       "    </tr>\n",
       "    <tr>\n",
       "      <th>2186</th>\n",
       "      <td>207.0</td>\n",
       "      <td>5.0</td>\n",
       "      <td>1015</td>\n",
       "      <td>1290000</td>\n",
       "      <td>52.379093</td>\n",
       "      <td>4.885109</td>\n",
       "    </tr>\n",
       "    <tr>\n",
       "      <th>2187</th>\n",
       "      <td>105.0</td>\n",
       "      <td>4.0</td>\n",
       "      <td>1067</td>\n",
       "      <td>330000</td>\n",
       "      <td>52.376579</td>\n",
       "      <td>4.783460</td>\n",
       "    </tr>\n",
       "    <tr>\n",
       "      <th>2188</th>\n",
       "      <td>115.0</td>\n",
       "      <td>4.0</td>\n",
       "      <td>1054</td>\n",
       "      <td>849000</td>\n",
       "      <td>52.361233</td>\n",
       "      <td>4.865359</td>\n",
       "    </tr>\n",
       "    <tr>\n",
       "      <th>2189</th>\n",
       "      <td>136.0</td>\n",
       "      <td>4.0</td>\n",
       "      <td>1075</td>\n",
       "      <td>1250000</td>\n",
       "      <td>52.351564</td>\n",
       "      <td>4.856651</td>\n",
       "    </tr>\n",
       "    <tr>\n",
       "      <th>2190</th>\n",
       "      <td>51.0</td>\n",
       "      <td>2.0</td>\n",
       "      <td>1095</td>\n",
       "      <td>275000</td>\n",
       "      <td>52.359026</td>\n",
       "      <td>4.961197</td>\n",
       "    </tr>\n",
       "  </tbody>\n",
       "</table>\n",
       "<p>2191 rows × 6 columns</p>\n",
       "</div>"
      ],
      "text/plain": [
       "       area  number_of_rooms   zip    price   latitude  longitude\n",
       "0      44.0              2.0  1057   225000  52.367071   4.853112\n",
       "1     298.0              6.0  1081  2298000  52.333770   4.852240\n",
       "2     141.0              5.0  1027   750000  52.411901   4.962458\n",
       "3     371.0              5.0  1018  1750000  52.368387   4.918091\n",
       "4     168.0              6.0  1060   490000  40.804673 -73.963420\n",
       "...     ...              ...   ...      ...        ...        ...\n",
       "2186  207.0              5.0  1015  1290000  52.379093   4.885109\n",
       "2187  105.0              4.0  1067   330000  52.376579   4.783460\n",
       "2188  115.0              4.0  1054   849000  52.361233   4.865359\n",
       "2189  136.0              4.0  1075  1250000  52.351564   4.856651\n",
       "2190   51.0              2.0  1095   275000  52.359026   4.961197\n",
       "\n",
       "[2191 rows x 6 columns]"
      ]
     },
     "execution_count": 170,
     "metadata": {},
     "output_type": "execute_result"
    }
   ],
   "source": [
    "data = data.rename(columns={'Area' : 'area', 'NumberOfRooms' : 'number_of_rooms', 'Zip' : 'zip'})\n",
    "data"
   ]
  },
  {
   "cell_type": "markdown",
   "id": "7723296e-ddc4-4e20-9e6b-deb15f8db79d",
   "metadata": {},
   "source": [
    "В столбце price имеется засоренное значение. За счет этого он имеет тип 'object'.\n",
    "В столбце longitude имеются отрицательные значения, а таковые не могут там находиться.\n",
    "Принято решение удалить подобные объекты из выборки."
   ]
  },
  {
   "cell_type": "code",
   "execution_count": 171,
   "id": "e7c295dd-e862-492d-85f2-3572b4915345",
   "metadata": {},
   "outputs": [],
   "source": [
    "data = data.loc[data['price'] != 'Prijs op aanvraag']\n",
    "data = data.loc[data['longitude'] > 0]"
   ]
  },
  {
   "cell_type": "code",
   "execution_count": 172,
   "id": "cb1fb03e-e0e3-4192-a63c-4c8f3efc0c97",
   "metadata": {},
   "outputs": [],
   "source": [
    "data['price'] = data['price'].astype(float)"
   ]
  },
  {
   "cell_type": "code",
   "execution_count": 173,
   "id": "53136a48-a6ee-4c1e-a530-68b6d090d916",
   "metadata": {},
   "outputs": [
    {
     "name": "stdout",
     "output_type": "stream",
     "text": [
      "<class 'pandas.core.frame.DataFrame'>\n",
      "Int64Index: 2127 entries, 0 to 2190\n",
      "Data columns (total 6 columns):\n",
      " #   Column           Non-Null Count  Dtype  \n",
      "---  ------           --------------  -----  \n",
      " 0   area             2127 non-null   float64\n",
      " 1   number_of_rooms  2099 non-null   float64\n",
      " 2   zip              2127 non-null   int64  \n",
      " 3   price            2127 non-null   float64\n",
      " 4   latitude         2127 non-null   float64\n",
      " 5   longitude        2127 non-null   float64\n",
      "dtypes: float64(5), int64(1)\n",
      "memory usage: 116.3 KB\n"
     ]
    }
   ],
   "source": [
    "data.info()"
   ]
  },
  {
   "cell_type": "markdown",
   "id": "319e8d7a-54a0-45d3-96da-d3949c2692fc",
   "metadata": {},
   "source": [
    "Удалим пропущенные значения из выборки"
   ]
  },
  {
   "cell_type": "code",
   "execution_count": 174,
   "id": "78b18a23-100c-40d3-90ef-f853b921649b",
   "metadata": {},
   "outputs": [],
   "source": [
    "data = data.loc[data['number_of_rooms'].isna() == False]"
   ]
  },
  {
   "cell_type": "code",
   "execution_count": 175,
   "id": "f18171af-66f9-4d11-aecc-158e15300ed7",
   "metadata": {},
   "outputs": [
    {
     "name": "stdout",
     "output_type": "stream",
     "text": [
      "<class 'pandas.core.frame.DataFrame'>\n",
      "Int64Index: 2099 entries, 0 to 2190\n",
      "Data columns (total 6 columns):\n",
      " #   Column           Non-Null Count  Dtype  \n",
      "---  ------           --------------  -----  \n",
      " 0   area             2099 non-null   float64\n",
      " 1   number_of_rooms  2099 non-null   float64\n",
      " 2   zip              2099 non-null   int64  \n",
      " 3   price            2099 non-null   float64\n",
      " 4   latitude         2099 non-null   float64\n",
      " 5   longitude        2099 non-null   float64\n",
      "dtypes: float64(5), int64(1)\n",
      "memory usage: 114.8 KB\n"
     ]
    }
   ],
   "source": [
    "data.info()"
   ]
  },
  {
   "cell_type": "code",
   "execution_count": 176,
   "id": "13a1be9e-7376-45af-9179-73966248673a",
   "metadata": {},
   "outputs": [
    {
     "data": {
      "text/plain": [
       "area               0\n",
       "number_of_rooms    0\n",
       "zip                0\n",
       "price              0\n",
       "latitude           0\n",
       "longitude          0\n",
       "dtype: int64"
      ]
     },
     "execution_count": 176,
     "metadata": {},
     "output_type": "execute_result"
    }
   ],
   "source": [
    "data.isna().sum()"
   ]
  },
  {
   "cell_type": "code",
   "execution_count": 177,
   "id": "9d6cd1b0-9551-4987-b500-7673b1f04e53",
   "metadata": {},
   "outputs": [],
   "source": [
    "from sklearn import neighbors\n",
    "from sklearn.model_selection import train_test_split\n",
    "from sklearn.linear_model import LinearRegression\n",
    "from sklearn.metrics import accuracy_score\n",
    "from sklearn.tree import DecisionTreeClassifier"
   ]
  },
  {
   "cell_type": "markdown",
   "id": "0ee3c802-0e1c-4fcb-8e6e-f813f60c1e78",
   "metadata": {},
   "source": [
    "Разделим выборку на обучающую и тестовую"
   ]
  },
  {
   "cell_type": "code",
   "execution_count": 178,
   "id": "64b49224-f4f7-4b2a-99bb-cab162b90c9d",
   "metadata": {},
   "outputs": [],
   "source": [
    "y = data.price\n",
    "X = data[['area', 'number_of_rooms', 'zip', 'latitude', 'longitude']]\n",
    "X_train, X_test, y_train, y_test = train_test_split(X, y, test_size=0.33, random_state=42)"
   ]
  },
  {
   "cell_type": "markdown",
   "id": "5472b650-bad4-4f2e-ae51-22c22f387108",
   "metadata": {},
   "source": [
    "Сама по себе задача предсказывания цены является задачей регрессии. Но попробуем применить классификаторы, раз этого требует условие."
   ]
  },
  {
   "cell_type": "markdown",
   "id": "7be24ef9-b32b-4070-94d8-f047ad751049",
   "metadata": {},
   "source": [
    "## kNN"
   ]
  },
  {
   "cell_type": "markdown",
   "id": "8331820a-6f72-4546-bce7-0a8811059a67",
   "metadata": {},
   "source": [
    "С помощью gridsearchcv подберем лучшие параметры для модели, изменяя метрику и число соседей."
   ]
  },
  {
   "cell_type": "code",
   "execution_count": 179,
   "id": "2429d4ac-d3c9-41ed-a35b-234e2cc28a1d",
   "metadata": {},
   "outputs": [
    {
     "name": "stderr",
     "output_type": "stream",
     "text": [
      "C:\\Users\\User\\anaconda3\\lib\\site-packages\\sklearn\\model_selection\\_split.py:676: UserWarning: The least populated class in y has only 1 members, which is less than n_splits=5.\n",
      "  warnings.warn(\n"
     ]
    },
    {
     "data": {
      "text/plain": [
       "{'metric': 'minkowski', 'n_neighbors': 1}"
      ]
     },
     "execution_count": 179,
     "metadata": {},
     "output_type": "execute_result"
    }
   ],
   "source": [
    "from sklearn.model_selection import GridSearchCV\n",
    "param_grid = {\n",
    "    'n_neighbors': [1, 2, 3, 4, 5, 10],\n",
    "    'metric': ['minkowski', 'euclidean', 'manhattan'],\n",
    "}\n",
    "knn = neighbors.KNeighborsClassifier(n_neighbors=1, metric='euclidean')\n",
    "grid = GridSearchCV(knn, param_grid, n_jobs= -1, cv=5)\n",
    "grid.fit(X_train, y_train)\n",
    "grid.best_params_"
   ]
  },
  {
   "cell_type": "code",
   "execution_count": 180,
   "id": "72e36cb6-ed40-4372-b6ac-9366c28ea9ad",
   "metadata": {},
   "outputs": [
    {
     "name": "stderr",
     "output_type": "stream",
     "text": [
      "C:\\Users\\User\\anaconda3\\lib\\site-packages\\sklearn\\neighbors\\_classification.py:228: FutureWarning: Unlike other reduction functions (e.g. `skew`, `kurtosis`), the default behavior of `mode` typically preserves the axis it acts along. In SciPy 1.11.0, this behavior will change: the default value of `keepdims` will become False, the `axis` over which the statistic is taken will be eliminated, and the value None will no longer be accepted. Set `keepdims` to True or False to avoid this warning.\n",
      "  mode, _ = stats.mode(_y[neigh_ind, k], axis=1)\n"
     ]
    },
    {
     "data": {
      "text/plain": [
       "0.06060606060606061"
      ]
     },
     "execution_count": 180,
     "metadata": {},
     "output_type": "execute_result"
    }
   ],
   "source": [
    "grid_predictions = grid.predict(X_test)\n",
    "accuracy_score(y_test, grid_predictions)"
   ]
  },
  {
   "cell_type": "markdown",
   "id": "fc493a6e-dbef-40d0-a280-bb0302de3d65",
   "metadata": {},
   "source": [
    "Результат далеко не лучший. Попробуем применить решающее дерево"
   ]
  },
  {
   "cell_type": "markdown",
   "id": "0b344964-082d-476e-8044-012e2019cfbf",
   "metadata": {},
   "source": [
    "## DecisionTree"
   ]
  },
  {
   "cell_type": "markdown",
   "id": "dc784952-7fda-4f95-b1a3-624c27cd718c",
   "metadata": {},
   "source": [
    "Аналогично подберем лучшие параметры, меняя лоссс и максимальную глубину дерева."
   ]
  },
  {
   "cell_type": "code",
   "execution_count": 181,
   "id": "5ce1daf1-7cba-48e7-8175-9469bcf0d65f",
   "metadata": {},
   "outputs": [
    {
     "name": "stderr",
     "output_type": "stream",
     "text": [
      "C:\\Users\\User\\anaconda3\\lib\\site-packages\\sklearn\\model_selection\\_split.py:676: UserWarning: The least populated class in y has only 1 members, which is less than n_splits=5.\n",
      "  warnings.warn(\n",
      "C:\\Users\\User\\anaconda3\\lib\\site-packages\\sklearn\\model_selection\\_validation.py:372: FitFailedWarning: \n",
      "15 fits failed out of a total of 45.\n",
      "The score on these train-test partitions for these parameters will be set to nan.\n",
      "If these failures are not expected, you can try to debug them by setting error_score='raise'.\n",
      "\n",
      "Below are more details about the failures:\n",
      "--------------------------------------------------------------------------------\n",
      "15 fits failed with the following error:\n",
      "Traceback (most recent call last):\n",
      "  File \"C:\\Users\\User\\anaconda3\\lib\\site-packages\\sklearn\\model_selection\\_validation.py\", line 680, in _fit_and_score\n",
      "    estimator.fit(X_train, y_train, **fit_params)\n",
      "  File \"C:\\Users\\User\\anaconda3\\lib\\site-packages\\sklearn\\tree\\_classes.py\", line 937, in fit\n",
      "    super().fit(\n",
      "  File \"C:\\Users\\User\\anaconda3\\lib\\site-packages\\sklearn\\tree\\_classes.py\", line 352, in fit\n",
      "    criterion = CRITERIA_CLF[self.criterion](\n",
      "KeyError: 'log_loss'\n",
      "\n",
      "  warnings.warn(some_fits_failed_message, FitFailedWarning)\n",
      "C:\\Users\\User\\anaconda3\\lib\\site-packages\\sklearn\\model_selection\\_search.py:969: UserWarning: One or more of the test scores are non-finite: [0.05477651 0.0647283  0.06473082 0.05120517 0.05974105 0.05974105\n",
      "        nan        nan        nan]\n",
      "  warnings.warn(\n"
     ]
    },
    {
     "data": {
      "text/plain": [
       "{'criterion': 'gini', 'max_depth': 10}"
      ]
     },
     "execution_count": 181,
     "metadata": {},
     "output_type": "execute_result"
    }
   ],
   "source": [
    "from sklearn.tree import DecisionTreeClassifier\n",
    "param_grid = {\n",
    "    'criterion': ['gini', 'entropy', 'log_loss'],\n",
    "    'max_depth': [10, 20, 30],\n",
    "}\n",
    "clf = DecisionTreeClassifier(random_state=0)\n",
    "grid = GridSearchCV(clf, param_grid, n_jobs= -1, cv=5)\n",
    "grid.fit(X_train, y_train)\n",
    "grid.best_params_"
   ]
  },
  {
   "cell_type": "code",
   "execution_count": 182,
   "id": "77b1c78c-6934-4273-81bd-41687b2a2c0e",
   "metadata": {},
   "outputs": [
    {
     "data": {
      "text/plain": [
       "0.07215007215007214"
      ]
     },
     "execution_count": 182,
     "metadata": {},
     "output_type": "execute_result"
    }
   ],
   "source": [
    "grid_predictions = grid.predict(X_test)\n",
    "accuracy_score(y_test, grid_predictions)"
   ]
  },
  {
   "cell_type": "markdown",
   "id": "49896a72-3fbd-4cb5-830a-a11db3440faf",
   "metadata": {},
   "source": [
    "Результат чуть лучше, чем у kNN, но так же плох. Соответственно применим линейную регрессию"
   ]
  },
  {
   "cell_type": "markdown",
   "id": "ec2126cf-b3ae-4371-8403-1ffea84ea894",
   "metadata": {},
   "source": [
    "## LinReg"
   ]
  },
  {
   "cell_type": "markdown",
   "id": "f9717295-5ab2-4d58-bb75-fee8fdd2f5b2",
   "metadata": {},
   "source": [
    "Построим матрицу корреляции для отыскания мультиколлинеарных признаков."
   ]
  },
  {
   "cell_type": "code",
   "execution_count": 183,
   "id": "2f403a9d-953b-477b-a372-e726d879d024",
   "metadata": {},
   "outputs": [
    {
     "data": {
      "image/png": "[encoded data removed]",
      "text/plain": [
       "<Figure size 640x480 with 2 Axes>"
      ]
     },
     "metadata": {},
     "output_type": "display_data"
    }
   ],
   "source": [
    "import seaborn as sns\n",
    "sns.heatmap(data.corr(), annot = True)\n",
    "None"
   ]
  },
  {
   "cell_type": "markdown",
   "id": "789d6883-cf18-49b6-a1ca-fec08fde2f61",
   "metadata": {},
   "source": [
    "У нас есть сильная зависимость между zip и latitude"
   ]
  },
  {
   "cell_type": "code",
   "execution_count": 184,
   "id": "0ebec3eb-73ba-47ad-a051-5bb045dca666",
   "metadata": {},
   "outputs": [
    {
     "data": {
      "text/html": [
       "<table class=\"simpletable\">\n",
       "<caption>OLS Regression Results</caption>\n",
       "<tr>\n",
       "  <th>Dep. Variable:</th>          <td>price</td>      <th>  R-squared:         </th> <td>   0.779</td> \n",
       "</tr>\n",
       "<tr>\n",
       "  <th>Model:</th>                   <td>OLS</td>       <th>  Adj. R-squared:    </th> <td>   0.778</td> \n",
       "</tr>\n",
       "<tr>\n",
       "  <th>Method:</th>             <td>Least Squares</td>  <th>  F-statistic:       </th> <td>   1472.</td> \n",
       "</tr>\n",
       "<tr>\n",
       "  <th>Date:</th>             <td>Wed, 22 Nov 2023</td> <th>  Prob (F-statistic):</th>  <td>  0.00</td>  \n",
       "</tr>\n",
       "<tr>\n",
       "  <th>Time:</th>                 <td>14:17:48</td>     <th>  Log-Likelihood:    </th> <td> -29412.</td> \n",
       "</tr>\n",
       "<tr>\n",
       "  <th>No. Observations:</th>      <td>  2099</td>      <th>  AIC:               </th> <td>5.884e+04</td>\n",
       "</tr>\n",
       "<tr>\n",
       "  <th>Df Residuals:</th>          <td>  2093</td>      <th>  BIC:               </th> <td>5.887e+04</td>\n",
       "</tr>\n",
       "<tr>\n",
       "  <th>Df Model:</th>              <td>     5</td>      <th>                     </th>     <td> </td>    \n",
       "</tr>\n",
       "<tr>\n",
       "  <th>Covariance Type:</th>      <td>nonrobust</td>    <th>                     </th>     <td> </td>    \n",
       "</tr>\n",
       "</table>\n",
       "<table class=\"simpletable\">\n",
       "<tr>\n",
       "         <td></td>            <th>coef</th>     <th>std err</th>      <th>t</th>      <th>P>|t|</th>  <th>[0.025</th>    <th>0.975]</th>  \n",
       "</tr>\n",
       "<tr>\n",
       "  <th>const</th>           <td> 1.193e+08</td> <td> 2.26e+07</td> <td>    5.289</td> <td> 0.000</td> <td>  7.5e+07</td> <td> 1.63e+08</td>\n",
       "</tr>\n",
       "<tr>\n",
       "  <th>area</th>            <td> 8307.9565</td> <td>  116.982</td> <td>   71.019</td> <td> 0.000</td> <td> 8078.543</td> <td> 8537.369</td>\n",
       "</tr>\n",
       "<tr>\n",
       "  <th>number_of_rooms</th> <td>  -3.9e+04</td> <td> 5188.709</td> <td>   -7.517</td> <td> 0.000</td> <td>-4.92e+04</td> <td>-2.88e+04</td>\n",
       "</tr>\n",
       "<tr>\n",
       "  <th>zip</th>             <td>-2512.2970</td> <td>  328.154</td> <td>   -7.656</td> <td> 0.000</td> <td>-3155.840</td> <td>-1868.754</td>\n",
       "</tr>\n",
       "<tr>\n",
       "  <th>latitude</th>        <td>-2.179e+06</td> <td> 4.24e+05</td> <td>   -5.139</td> <td> 0.000</td> <td>-3.01e+06</td> <td>-1.35e+06</td>\n",
       "</tr>\n",
       "<tr>\n",
       "  <th>longitude</th>       <td>-5.378e+05</td> <td> 1.32e+05</td> <td>   -4.062</td> <td> 0.000</td> <td>-7.97e+05</td> <td>-2.78e+05</td>\n",
       "</tr>\n",
       "</table>\n",
       "<table class=\"simpletable\">\n",
       "<tr>\n",
       "  <th>Omnibus:</th>       <td>1389.578</td> <th>  Durbin-Watson:     </th> <td>   1.972</td> \n",
       "</tr>\n",
       "<tr>\n",
       "  <th>Prob(Omnibus):</th>  <td> 0.000</td>  <th>  Jarque-Bera (JB):  </th> <td>68035.565</td>\n",
       "</tr>\n",
       "<tr>\n",
       "  <th>Skew:</th>           <td> 2.490</td>  <th>  Prob(JB):          </th> <td>    0.00</td> \n",
       "</tr>\n",
       "<tr>\n",
       "  <th>Kurtosis:</th>       <td>30.443</td>  <th>  Cond. No.          </th> <td>3.73e+06</td> \n",
       "</tr>\n",
       "</table><br/><br/>Notes:<br/>[1] Standard Errors assume that the covariance matrix of the errors is correctly specified.<br/>[2] The condition number is large, 3.73e+06. This might indicate that there are<br/>strong multicollinearity or other numerical problems."
      ],
      "text/plain": [
       "<class 'statsmodels.iolib.summary.Summary'>\n",
       "\"\"\"\n",
       "                            OLS Regression Results                            \n",
       "==============================================================================\n",
       "Dep. Variable:                  price   R-squared:                       0.779\n",
       "Model:                            OLS   Adj. R-squared:                  0.778\n",
       "Method:                 Least Squares   F-statistic:                     1472.\n",
       "Date:                Wed, 22 Nov 2023   Prob (F-statistic):               0.00\n",
       "Time:                        14:17:48   Log-Likelihood:                -29412.\n",
       "No. Observations:                2099   AIC:                         5.884e+04\n",
       "Df Residuals:                    2093   BIC:                         5.887e+04\n",
       "Df Model:                           5                                         \n",
       "Covariance Type:            nonrobust                                         \n",
       "===================================================================================\n",
       "                      coef    std err          t      P>|t|      [0.025      0.975]\n",
       "-----------------------------------------------------------------------------------\n",
       "const            1.193e+08   2.26e+07      5.289      0.000     7.5e+07    1.63e+08\n",
       "area             8307.9565    116.982     71.019      0.000    8078.543    8537.369\n",
       "number_of_rooms   -3.9e+04   5188.709     -7.517      0.000   -4.92e+04   -2.88e+04\n",
       "zip             -2512.2970    328.154     -7.656      0.000   -3155.840   -1868.754\n",
       "latitude        -2.179e+06   4.24e+05     -5.139      0.000   -3.01e+06   -1.35e+06\n",
       "longitude       -5.378e+05   1.32e+05     -4.062      0.000   -7.97e+05   -2.78e+05\n",
       "==============================================================================\n",
       "Omnibus:                     1389.578   Durbin-Watson:                   1.972\n",
       "Prob(Omnibus):                  0.000   Jarque-Bera (JB):            68035.565\n",
       "Skew:                           2.490   Prob(JB):                         0.00\n",
       "Kurtosis:                      30.443   Cond. No.                     3.73e+06\n",
       "==============================================================================\n",
       "\n",
       "Notes:\n",
       "[1] Standard Errors assume that the covariance matrix of the errors is correctly specified.\n",
       "[2] The condition number is large, 3.73e+06. This might indicate that there are\n",
       "strong multicollinearity or other numerical problems.\n",
       "\"\"\""
      ]
     },
     "execution_count": 184,
     "metadata": {},
     "output_type": "execute_result"
    }
   ],
   "source": [
    "import statsmodels.api as sm\n",
    "import statsmodels.formula.api as smf\n",
    "X = sm.add_constant(X)\n",
    "results = sm.OLS(y, X).fit()\n",
    "results.summary()"
   ]
  },
  {
   "cell_type": "markdown",
   "id": "9fd855a5-bbcf-49c2-892e-4eadd520e864",
   "metadata": {},
   "source": [
    "Удалим признак latitude и перестроим модель, разбив выборку н обучающую и тестовую"
   ]
  },
  {
   "cell_type": "code",
   "execution_count": 185,
   "id": "f2fe5dbc-d040-4f6b-8f49-2701e98a975f",
   "metadata": {},
   "outputs": [],
   "source": [
    "y = data.price\n",
    "X = data[['area', 'number_of_rooms', 'zip', 'longitude']]\n",
    "data = data[['area', 'number_of_rooms', 'zip', 'price', 'longitude']]\n",
    "X_train, X_test, y_train, y_test = train_test_split(X, y, test_size=0.33, random_state=42)"
   ]
  },
  {
   "cell_type": "code",
   "execution_count": 186,
   "id": "04b2e5ed-f6ab-462a-bdad-2a1553d6803b",
   "metadata": {},
   "outputs": [
    {
     "data": {
      "image/png": "[encoded data removed]",
      "text/plain": [
       "<Figure size 640x480 with 2 Axes>"
      ]
     },
     "metadata": {},
     "output_type": "display_data"
    }
   ],
   "source": [
    "sns.heatmap(data.corr(), annot = True)\n",
    "None"
   ]
  },
  {
   "cell_type": "markdown",
   "id": "5634c6f3-6fa0-4908-aa89-79bbf769dca0",
   "metadata": {},
   "source": [
    "Из матрицы корреляции видно, что у нас больше нет мультиколлинерных признаков. Построим модель регрессии"
   ]
  },
  {
   "cell_type": "code",
   "execution_count": 201,
   "id": "c3c02df4-8911-4514-8d5c-98d3d7263420",
   "metadata": {},
   "outputs": [
    {
     "data": {
      "text/html": [
       "<table class=\"simpletable\">\n",
       "<caption>OLS Regression Results</caption>\n",
       "<tr>\n",
       "  <th>Dep. Variable:</th>          <td>price</td>      <th>  R-squared:         </th> <td>   0.785</td> \n",
       "</tr>\n",
       "<tr>\n",
       "  <th>Model:</th>                   <td>OLS</td>       <th>  Adj. R-squared:    </th> <td>   0.784</td> \n",
       "</tr>\n",
       "<tr>\n",
       "  <th>Method:</th>             <td>Least Squares</td>  <th>  F-statistic:       </th> <td>   1279.</td> \n",
       "</tr>\n",
       "<tr>\n",
       "  <th>Date:</th>             <td>Wed, 22 Nov 2023</td> <th>  Prob (F-statistic):</th>  <td>  0.00</td>  \n",
       "</tr>\n",
       "<tr>\n",
       "  <th>Time:</th>                 <td>14:19:44</td>     <th>  Log-Likelihood:    </th> <td> -19584.</td> \n",
       "</tr>\n",
       "<tr>\n",
       "  <th>No. Observations:</th>      <td>  1406</td>      <th>  AIC:               </th> <td>3.918e+04</td>\n",
       "</tr>\n",
       "<tr>\n",
       "  <th>Df Residuals:</th>          <td>  1401</td>      <th>  BIC:               </th> <td>3.920e+04</td>\n",
       "</tr>\n",
       "<tr>\n",
       "  <th>Df Model:</th>              <td>     4</td>      <th>                     </th>     <td> </td>    \n",
       "</tr>\n",
       "<tr>\n",
       "  <th>Covariance Type:</th>      <td>nonrobust</td>    <th>                     </th>     <td> </td>    \n",
       "</tr>\n",
       "</table>\n",
       "<table class=\"simpletable\">\n",
       "<tr>\n",
       "         <td></td>            <th>coef</th>     <th>std err</th>      <th>t</th>      <th>P>|t|</th>  <th>[0.025</th>    <th>0.975]</th>  \n",
       "</tr>\n",
       "<tr>\n",
       "  <th>const</th>           <td> 3.564e+06</td> <td> 7.27e+05</td> <td>    4.904</td> <td> 0.000</td> <td> 2.14e+06</td> <td> 4.99e+06</td>\n",
       "</tr>\n",
       "<tr>\n",
       "  <th>area</th>            <td> 8281.7232</td> <td>  139.821</td> <td>   59.231</td> <td> 0.000</td> <td> 8007.442</td> <td> 8556.004</td>\n",
       "</tr>\n",
       "<tr>\n",
       "  <th>number_of_rooms</th> <td>-3.907e+04</td> <td> 5923.208</td> <td>   -6.596</td> <td> 0.000</td> <td>-5.07e+04</td> <td>-2.75e+04</td>\n",
       "</tr>\n",
       "<tr>\n",
       "  <th>zip</th>             <td>-1387.5595</td> <td>  252.427</td> <td>   -5.497</td> <td> 0.000</td> <td>-1882.736</td> <td> -892.383</td>\n",
       "</tr>\n",
       "<tr>\n",
       "  <th>longitude</th>       <td>-4.583e+05</td> <td> 1.49e+05</td> <td>   -3.072</td> <td> 0.002</td> <td>-7.51e+05</td> <td>-1.66e+05</td>\n",
       "</tr>\n",
       "</table>\n",
       "<table class=\"simpletable\">\n",
       "<tr>\n",
       "  <th>Omnibus:</th>       <td>731.191</td> <th>  Durbin-Watson:     </th> <td>   1.972</td> \n",
       "</tr>\n",
       "<tr>\n",
       "  <th>Prob(Omnibus):</th> <td> 0.000</td>  <th>  Jarque-Bera (JB):  </th> <td>20937.736</td>\n",
       "</tr>\n",
       "<tr>\n",
       "  <th>Skew:</th>          <td> 1.842</td>  <th>  Prob(JB):          </th> <td>    0.00</td> \n",
       "</tr>\n",
       "<tr>\n",
       "  <th>Kurtosis:</th>      <td>21.543</td>  <th>  Cond. No.          </th> <td>1.09e+05</td> \n",
       "</tr>\n",
       "</table><br/><br/>Notes:<br/>[1] Standard Errors assume that the covariance matrix of the errors is correctly specified.<br/>[2] The condition number is large, 1.09e+05. This might indicate that there are<br/>strong multicollinearity or other numerical problems."
      ],
      "text/plain": [
       "<class 'statsmodels.iolib.summary.Summary'>\n",
       "\"\"\"\n",
       "                            OLS Regression Results                            \n",
       "==============================================================================\n",
       "Dep. Variable:                  price   R-squared:                       0.785\n",
       "Model:                            OLS   Adj. R-squared:                  0.784\n",
       "Method:                 Least Squares   F-statistic:                     1279.\n",
       "Date:                Wed, 22 Nov 2023   Prob (F-statistic):               0.00\n",
       "Time:                        14:19:44   Log-Likelihood:                -19584.\n",
       "No. Observations:                1406   AIC:                         3.918e+04\n",
       "Df Residuals:                    1401   BIC:                         3.920e+04\n",
       "Df Model:                           4                                         \n",
       "Covariance Type:            nonrobust                                         \n",
       "===================================================================================\n",
       "                      coef    std err          t      P>|t|      [0.025      0.975]\n",
       "-----------------------------------------------------------------------------------\n",
       "const            3.564e+06   7.27e+05      4.904      0.000    2.14e+06    4.99e+06\n",
       "area             8281.7232    139.821     59.231      0.000    8007.442    8556.004\n",
       "number_of_rooms -3.907e+04   5923.208     -6.596      0.000   -5.07e+04   -2.75e+04\n",
       "zip             -1387.5595    252.427     -5.497      0.000   -1882.736    -892.383\n",
       "longitude       -4.583e+05   1.49e+05     -3.072      0.002   -7.51e+05   -1.66e+05\n",
       "==============================================================================\n",
       "Omnibus:                      731.191   Durbin-Watson:                   1.972\n",
       "Prob(Omnibus):                  0.000   Jarque-Bera (JB):            20937.736\n",
       "Skew:                           1.842   Prob(JB):                         0.00\n",
       "Kurtosis:                      21.543   Cond. No.                     1.09e+05\n",
       "==============================================================================\n",
       "\n",
       "Notes:\n",
       "[1] Standard Errors assume that the covariance matrix of the errors is correctly specified.\n",
       "[2] The condition number is large, 1.09e+05. This might indicate that there are\n",
       "strong multicollinearity or other numerical problems.\n",
       "\"\"\""
      ]
     },
     "execution_count": 201,
     "metadata": {},
     "output_type": "execute_result"
    }
   ],
   "source": [
    "import statsmodels.api as sm\n",
    "import statsmodels.formula.api as smf\n",
    "X_train = sm.add_constant(X_train)\n",
    "results = sm.OLS(y_train, X_train).fit()\n",
    "results.summary()"
   ]
  },
  {
   "cell_type": "code",
   "execution_count": 203,
   "id": "b4f54059-743a-4170-be33-ec2538d136eb",
   "metadata": {},
   "outputs": [],
   "source": [
    "X_test = sm.add_constant(X_test)\n",
    "linreg = LinearRegression()\n",
    "linreg.fit(X_train, y_train)\n",
    "y_pred = linreg.predict(X_test)\n",
    "residuals = y_test - y_pred"
   ]
  },
  {
   "cell_type": "markdown",
   "id": "e8a05be2-d8b1-4dfb-befc-4fb4432be3d1",
   "metadata": {},
   "source": [
    "Оценим результат с помощью коэффициента детерминации. Его значение достаточно хорошее"
   ]
  },
  {
   "cell_type": "code",
   "execution_count": 220,
   "id": "32a2daae-9e37-4cef-a02e-fd858475b452",
   "metadata": {},
   "outputs": [
    {
     "name": "stdout",
     "output_type": "stream",
     "text": [
      "Coefficient of determination: 0.76\n"
     ]
    }
   ],
   "source": [
    "from sklearn.metrics import mean_squared_error, r2_score\n",
    "print(\"Coefficient of determination: %.2f\" % r2_score(y_test, y_pred))"
   ]
  },
  {
   "cell_type": "markdown",
   "id": "de837cf4-8a0e-48d9-a807-1d74a95fd377",
   "metadata": {},
   "source": [
    "Построим распределение остатков. Исследуем их на нормальность и независимость от предсказанных значений"
   ]
  },
  {
   "cell_type": "code",
   "execution_count": 205,
   "id": "c29b626d-5c96-43f8-9650-5a86912bdf0f",
   "metadata": {},
   "outputs": [
    {
     "data": {
      "image/png": "[encoded data removed]",
      "text/plain": [
       "<Figure size 640x480 with 1 Axes>"
      ]
     },
     "metadata": {},
     "output_type": "display_data"
    }
   ],
   "source": [
    "sns.histplot(data=residuals, kde=True)\n",
    "None"
   ]
  },
  {
   "cell_type": "code",
   "execution_count": 207,
   "id": "61cc38c6-9d95-4a7c-bc69-842b84c910e7",
   "metadata": {},
   "outputs": [
    {
     "data": {
      "image/png": "[encoded data removed]",
      "text/plain": [
       "<Figure size 640x480 with 1 Axes>"
      ]
     },
     "metadata": {},
     "output_type": "display_data"
    }
   ],
   "source": [
    "import matplotlib.pyplot as plt\n",
    "fig = sm.qqplot(residuals, line='s')\n",
    "plt.show()"
   ]
  },
  {
   "cell_type": "code",
   "execution_count": 210,
   "id": "ea3a6e2c-16fd-48ad-a1c7-132ed64ca78b",
   "metadata": {},
   "outputs": [
    {
     "data": {
      "image/png": "[encoded data removed]",
      "text/plain": [
       "<Figure size 640x480 with 1 Axes>"
      ]
     },
     "metadata": {},
     "output_type": "display_data"
    }
   ],
   "source": [
    "sns.regplot(\n",
    "    x=y_pred, \n",
    "    y=residuals)\n",
    "None"
   ]
  },
  {
   "cell_type": "markdown",
   "id": "8a3afdc5-6a12-4bff-94d4-83fa192b8723",
   "metadata": {},
   "source": [
    "Как можно видеть, остатки распределены вполне нормально и сильно разбросаны относительно предсказанных значений"
   ]
  },
  {
   "cell_type": "code",
   "execution_count": null,
   "id": "6578f37e-7578-450c-a5e3-7f2792c424a4",
   "metadata": {},
   "outputs": [],
   "source": []
  }
 ],
 "metadata": {
  "kernelspec": {
   "display_name": "Python 3 (ipykernel)",
   "language": "python",
   "name": "python3"
  },
  "language_info": {
   "codemirror_mode": {
    "name": "ipython",
    "version": 3
   },
   "file_extension": ".py",
   "mimetype": "text/x-python",
   "name": "python",
   "nbconvert_exporter": "python",
   "pygments_lexer": "ipython3",
   "version": "3.10.9"
  }
 },
 "nbformat": 4,
 "nbformat_minor": 5
}
