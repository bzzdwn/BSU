{
 "cells": [
  {
   "cell_type": "markdown",
   "id": "47c2503f-68f4-44ed-948a-175cd3057653",
   "metadata": {},
   "source": [
    "# Задание\n",
    "Fat.csv\n",
    "Провести предварительный анализ данных.\n",
    "Создать наилучшую модель для прогнозирования жировой массы тела.\n",
    "Произвести анализ модели.\n",
    "\n",
    "Life Expectancy.csv\n",
    "Провести предварительный анализ данных.\n",
    "Объяснить ожидаемую продолжительность жизни женщин через ожидаемую продолжительность жизни мужчин.\n",
    "Исследовать использование показателя \"Births/Woman\" в стране для прогнозирования \"Life Expectancy\".\n",
    "Произвести анализ модели.\n",
    "\n",
    "Сдать отчёт формате .ipynb или .py (выводы оформлять в виде многострочного комментария после соответствующей строки) в папку \"Работы 15.11\" до 14:30. В противном случае вы получите максимально 6 баллов за выполнение практического задания.\n",
    "\n",
    "Максимальные баллы:\n",
    "Кто пришел и сдал вовремя = 10\n",
    "Кто сдаст позже = 6\n",
    "Кто не пришел без причины = 2\n",
    "Кто не пришел по уважительной делает в сл раз другие задания = 10\n",
    "Кто сдал похожие работы = 2 обоим"
   ]
  },
  {
   "cell_type": "code",
   "execution_count": 169,
   "id": "d7342e9b-9af9-4641-9bbd-d23254758a92",
   "metadata": {},
   "outputs": [],
   "source": [
    "import pandas as pd\n",
    "import numpy as np\n",
    "from sklearn import neighbors\n",
    "from sklearn.model_selection import train_test_split\n",
    "from sklearn.linear_model import LinearRegression\n",
    "from sklearn.metrics import accuracy_score\n",
    "import seaborn as sns\n",
    "%matplotlib inline\n",
    "import matplotlib.pyplot as plt\n",
    "from scipy.stats import norm, skew, kurtosis, shapiro, chisquare, gaussian_kde, kstest, ttest_ind, spearmanr\n",
    "from statistics import correlation\n",
    "from scipy import stats"
   ]
  },
  {
   "cell_type": "code",
   "execution_count": 124,
   "id": "8c5af3bc-301f-40ce-98fc-3474e28ae08e",
   "metadata": {},
   "outputs": [],
   "source": [
    "fat_df = pd.read_csv('Fat.csv', sep=';')\n",
    "life_expectancny_df = pd.read_csv('Life Expectancy.csv', sep=';')"
   ]
  },
  {
   "cell_type": "code",
   "execution_count": 17,
   "id": "7249ffbd-bc5f-45d4-bd7e-95e22903b1e2",
   "metadata": {},
   "outputs": [
    {
     "data": {
      "text/html": [
       "<div>\n",
       "<style scoped>\n",
       "    .dataframe tbody tr th:only-of-type {\n",
       "        vertical-align: middle;\n",
       "    }\n",
       "\n",
       "    .dataframe tbody tr th {\n",
       "        vertical-align: top;\n",
       "    }\n",
       "\n",
       "    .dataframe thead th {\n",
       "        text-align: right;\n",
       "    }\n",
       "</style>\n",
       "<table border=\"1\" class=\"dataframe\">\n",
       "  <thead>\n",
       "    <tr style=\"text-align: right;\">\n",
       "      <th></th>\n",
       "      <th>Body Fat</th>\n",
       "      <th>Waist</th>\n",
       "      <th>Weight</th>\n",
       "    </tr>\n",
       "  </thead>\n",
       "  <tbody>\n",
       "    <tr>\n",
       "      <th>0</th>\n",
       "      <td>6</td>\n",
       "      <td>81,28</td>\n",
       "      <td>79,379</td>\n",
       "    </tr>\n",
       "    <tr>\n",
       "      <th>1</th>\n",
       "      <td>21</td>\n",
       "      <td>91,44</td>\n",
       "      <td>82,1</td>\n",
       "    </tr>\n",
       "    <tr>\n",
       "      <th>2</th>\n",
       "      <td>15</td>\n",
       "      <td>96,52</td>\n",
       "      <td>90,719</td>\n",
       "    </tr>\n",
       "    <tr>\n",
       "      <th>3</th>\n",
       "      <td>6</td>\n",
       "      <td>83,82</td>\n",
       "      <td>72,121</td>\n",
       "    </tr>\n",
       "    <tr>\n",
       "      <th>4</th>\n",
       "      <td>22</td>\n",
       "      <td>99,06</td>\n",
       "      <td>88,904</td>\n",
       "    </tr>\n",
       "  </tbody>\n",
       "</table>\n",
       "</div>"
      ],
      "text/plain": [
       "   Body Fat  Waist  Weight\n",
       "0         6  81,28  79,379\n",
       "1        21  91,44    82,1\n",
       "2        15  96,52  90,719\n",
       "3         6  83,82  72,121\n",
       "4        22  99,06  88,904"
      ]
     },
     "execution_count": 17,
     "metadata": {},
     "output_type": "execute_result"
    }
   ],
   "source": [
    "fat_df.head()"
   ]
  },
  {
   "cell_type": "code",
   "execution_count": 18,
   "id": "9fdfcbd0-17b5-44d0-a0de-7cc1e835c791",
   "metadata": {},
   "outputs": [
    {
     "data": {
      "text/plain": [
       "Index(['Body Fat', 'Waist', 'Weight'], dtype='object')"
      ]
     },
     "execution_count": 18,
     "metadata": {},
     "output_type": "execute_result"
    }
   ],
   "source": [
    "fat_df.columns"
   ]
  },
  {
   "cell_type": "code",
   "execution_count": 22,
   "id": "9a33848f-cd82-4ee7-b703-91fc8824e06f",
   "metadata": {},
   "outputs": [
    {
     "data": {
      "text/html": [
       "<div>\n",
       "<style scoped>\n",
       "    .dataframe tbody tr th:only-of-type {\n",
       "        vertical-align: middle;\n",
       "    }\n",
       "\n",
       "    .dataframe tbody tr th {\n",
       "        vertical-align: top;\n",
       "    }\n",
       "\n",
       "    .dataframe thead th {\n",
       "        text-align: right;\n",
       "    }\n",
       "</style>\n",
       "<table border=\"1\" class=\"dataframe\">\n",
       "  <thead>\n",
       "    <tr style=\"text-align: right;\">\n",
       "      <th></th>\n",
       "      <th>body_fat</th>\n",
       "      <th>waist</th>\n",
       "      <th>weight</th>\n",
       "    </tr>\n",
       "  </thead>\n",
       "  <tbody>\n",
       "    <tr>\n",
       "      <th>0</th>\n",
       "      <td>6</td>\n",
       "      <td>81.28</td>\n",
       "      <td>79.379</td>\n",
       "    </tr>\n",
       "    <tr>\n",
       "      <th>1</th>\n",
       "      <td>21</td>\n",
       "      <td>91.44</td>\n",
       "      <td>82.100</td>\n",
       "    </tr>\n",
       "    <tr>\n",
       "      <th>2</th>\n",
       "      <td>15</td>\n",
       "      <td>96.52</td>\n",
       "      <td>90.719</td>\n",
       "    </tr>\n",
       "    <tr>\n",
       "      <th>3</th>\n",
       "      <td>6</td>\n",
       "      <td>83.82</td>\n",
       "      <td>72.121</td>\n",
       "    </tr>\n",
       "    <tr>\n",
       "      <th>4</th>\n",
       "      <td>22</td>\n",
       "      <td>99.06</td>\n",
       "      <td>88.904</td>\n",
       "    </tr>\n",
       "    <tr>\n",
       "      <th>5</th>\n",
       "      <td>31</td>\n",
       "      <td>101.60</td>\n",
       "      <td>87.090</td>\n",
       "    </tr>\n",
       "    <tr>\n",
       "      <th>6</th>\n",
       "      <td>32</td>\n",
       "      <td>104.14</td>\n",
       "      <td>92.987</td>\n",
       "    </tr>\n",
       "    <tr>\n",
       "      <th>7</th>\n",
       "      <td>21</td>\n",
       "      <td>88.90</td>\n",
       "      <td>78.472</td>\n",
       "    </tr>\n",
       "    <tr>\n",
       "      <th>8</th>\n",
       "      <td>25</td>\n",
       "      <td>96.52</td>\n",
       "      <td>84.822</td>\n",
       "    </tr>\n",
       "    <tr>\n",
       "      <th>9</th>\n",
       "      <td>30</td>\n",
       "      <td>96.52</td>\n",
       "      <td>85.275</td>\n",
       "    </tr>\n",
       "    <tr>\n",
       "      <th>10</th>\n",
       "      <td>10</td>\n",
       "      <td>83.82</td>\n",
       "      <td>85.275</td>\n",
       "    </tr>\n",
       "    <tr>\n",
       "      <th>11</th>\n",
       "      <td>20</td>\n",
       "      <td>101.60</td>\n",
       "      <td>108.862</td>\n",
       "    </tr>\n",
       "    <tr>\n",
       "      <th>12</th>\n",
       "      <td>22</td>\n",
       "      <td>91.44</td>\n",
       "      <td>79.379</td>\n",
       "    </tr>\n",
       "    <tr>\n",
       "      <th>13</th>\n",
       "      <td>9</td>\n",
       "      <td>81.28</td>\n",
       "      <td>76.204</td>\n",
       "    </tr>\n",
       "    <tr>\n",
       "      <th>14</th>\n",
       "      <td>38</td>\n",
       "      <td>111.76</td>\n",
       "      <td>111.584</td>\n",
       "    </tr>\n",
       "    <tr>\n",
       "      <th>15</th>\n",
       "      <td>10</td>\n",
       "      <td>83.82</td>\n",
       "      <td>72.575</td>\n",
       "    </tr>\n",
       "    <tr>\n",
       "      <th>16</th>\n",
       "      <td>27</td>\n",
       "      <td>104.14</td>\n",
       "      <td>97.522</td>\n",
       "    </tr>\n",
       "    <tr>\n",
       "      <th>17</th>\n",
       "      <td>12</td>\n",
       "      <td>86.36</td>\n",
       "      <td>72.121</td>\n",
       "    </tr>\n",
       "    <tr>\n",
       "      <th>18</th>\n",
       "      <td>10</td>\n",
       "      <td>86.36</td>\n",
       "      <td>66.225</td>\n",
       "    </tr>\n",
       "    <tr>\n",
       "      <th>19</th>\n",
       "      <td>28</td>\n",
       "      <td>111.76</td>\n",
       "      <td>99.337</td>\n",
       "    </tr>\n",
       "  </tbody>\n",
       "</table>\n",
       "</div>"
      ],
      "text/plain": [
       "    body_fat   waist   weight\n",
       "0          6   81.28   79.379\n",
       "1         21   91.44   82.100\n",
       "2         15   96.52   90.719\n",
       "3          6   83.82   72.121\n",
       "4         22   99.06   88.904\n",
       "5         31  101.60   87.090\n",
       "6         32  104.14   92.987\n",
       "7         21   88.90   78.472\n",
       "8         25   96.52   84.822\n",
       "9         30   96.52   85.275\n",
       "10        10   83.82   85.275\n",
       "11        20  101.60  108.862\n",
       "12        22   91.44   79.379\n",
       "13         9   81.28   76.204\n",
       "14        38  111.76  111.584\n",
       "15        10   83.82   72.575\n",
       "16        27  104.14   97.522\n",
       "17        12   86.36   72.121\n",
       "18        10   86.36   66.225\n",
       "19        28  111.76   99.337"
      ]
     },
     "execution_count": 22,
     "metadata": {},
     "output_type": "execute_result"
    }
   ],
   "source": [
    "fat_df = fat_df.rename(columns={'Body Fat' : 'body_fat', 'Waist' : 'waist', 'Weight' : 'weight'})\n",
    "fat_df['waist'] = fat_df['waist'].str.replace(\",\", \".\").astype(float)\n",
    "fat_df['weight'] = fat_df['weight'].str.replace(\",\", \".\").astype(float)\n",
    "fat_df"
   ]
  },
  {
   "cell_type": "markdown",
   "id": "17960901-a78b-42ba-b427-7c2ce21dde6a",
   "metadata": {},
   "source": [
    "В данном случае задача классификации. Мы предсказываем зависимую переменную body_fat на основе независимых переменных waist и weight. Переобозначим переменные Y = body_fat, X = {waist, weight}"
   ]
  },
  {
   "cell_type": "code",
   "execution_count": 114,
   "id": "5f8a4762-611b-444e-8112-60b2843c87b6",
   "metadata": {},
   "outputs": [],
   "source": [
    "y = fat_df.body_fat\n",
    "X = fat_df[['waist', 'weight']]"
   ]
  },
  {
   "cell_type": "markdown",
   "id": "5bb03f9d-38fe-49f2-9e08-e9b84f45e793",
   "metadata": {},
   "source": [
    "Разделим выборку на обущающую и тестовую"
   ]
  },
  {
   "cell_type": "code",
   "execution_count": 109,
   "id": "de60458a-0761-4f9c-a6b7-61efab681e0f",
   "metadata": {},
   "outputs": [],
   "source": [
    "X_train, X_test, y_train, y_test = train_test_split(X, y, test_size=0.2, random_state=42)"
   ]
  },
  {
   "cell_type": "code",
   "execution_count": 132,
   "id": "eccea652-1e4f-41e5-9a7c-d37284ab66ea",
   "metadata": {},
   "outputs": [
    {
     "name": "stderr",
     "output_type": "stream",
     "text": [
      "C:\\Users\\User\\anaconda3\\lib\\site-packages\\sklearn\\neighbors\\_classification.py:228: FutureWarning: Unlike other reduction functions (e.g. `skew`, `kurtosis`), the default behavior of `mode` typically preserves the axis it acts along. In SciPy 1.11.0, this behavior will change: the default value of `keepdims` will become False, the `axis` over which the statistic is taken will be eliminated, and the value None will no longer be accepted. Set `keepdims` to True or False to avoid this warning.\n",
      "  mode, _ = stats.mode(_y[neigh_ind, k], axis=1)\n"
     ]
    },
    {
     "data": {
      "text/plain": [
       "0.5"
      ]
     },
     "execution_count": 132,
     "metadata": {},
     "output_type": "execute_result"
    }
   ],
   "source": [
    "n_neighbors = 2\n",
    "knn = neighbors.KNeighborsClassifier(n_neighbors=n_neighbors)\n",
    "knn.fit(X_train, y_train)\n",
    "y_pred = knn.predict(X_test).astype(int)\n",
    "accuracy_score = sum((y_pred==y_test).astype(float)) / y_test.size\n",
    "accuracy_score"
   ]
  },
  {
   "cell_type": "code",
   "execution_count": 122,
   "id": "509a2d79-e66e-440e-aebc-c9b6a963d749",
   "metadata": {},
   "outputs": [
    {
     "data": {
      "text/plain": [
       "0.0"
      ]
     },
     "execution_count": 122,
     "metadata": {},
     "output_type": "execute_result"
    }
   ],
   "source": [
    "from sklearn.model_selection import cross_val_score\n",
    "from sklearn.tree import DecisionTreeClassifier\n",
    "clf = DecisionTreeClassifier(random_state=0)\n",
    "clf.fit(X_train, y_train)\n",
    "y_pred = clf.predict(X_test)\n",
    "accuracy_score = sum((y_pred==y_test).astype(float)) / y_test.size\n",
    "accuracy_score"
   ]
  },
  {
   "cell_type": "markdown",
   "id": "6e3c9a11-1ff5-4307-a73f-0e0752333a05",
   "metadata": {},
   "source": [
    "kNN лучше показал себя, чем дерево решений для предсказания класса"
   ]
  },
  {
   "cell_type": "code",
   "execution_count": 127,
   "id": "068cae4f-9994-4e79-9209-06b3457c16c2",
   "metadata": {},
   "outputs": [
    {
     "data": {
      "text/html": [
       "<div>\n",
       "<style scoped>\n",
       "    .dataframe tbody tr th:only-of-type {\n",
       "        vertical-align: middle;\n",
       "    }\n",
       "\n",
       "    .dataframe tbody tr th {\n",
       "        vertical-align: top;\n",
       "    }\n",
       "\n",
       "    .dataframe thead th {\n",
       "        text-align: right;\n",
       "    }\n",
       "</style>\n",
       "<table border=\"1\" class=\"dataframe\">\n",
       "  <thead>\n",
       "    <tr style=\"text-align: right;\">\n",
       "      <th></th>\n",
       "      <th>Country</th>\n",
       "      <th>Births/Woman</th>\n",
       "      <th>Life Expectancy</th>\n",
       "      <th>Female</th>\n",
       "      <th>Male</th>\n",
       "    </tr>\n",
       "  </thead>\n",
       "  <tbody>\n",
       "    <tr>\n",
       "      <th>0</th>\n",
       "      <td>Sweden</td>\n",
       "      <td>1,54</td>\n",
       "      <td>79,97</td>\n",
       "      <td>82,78</td>\n",
       "      <td>77,31</td>\n",
       "    </tr>\n",
       "    <tr>\n",
       "      <th>1</th>\n",
       "      <td>Australia</td>\n",
       "      <td>1,76</td>\n",
       "      <td>80,13</td>\n",
       "      <td>83,13</td>\n",
       "      <td>77,27</td>\n",
       "    </tr>\n",
       "    <tr>\n",
       "      <th>2</th>\n",
       "      <td>Italy</td>\n",
       "      <td>1,26</td>\n",
       "      <td>79,4</td>\n",
       "      <td>82,52</td>\n",
       "      <td>76,47</td>\n",
       "    </tr>\n",
       "    <tr>\n",
       "      <th>3</th>\n",
       "      <td>Canada</td>\n",
       "      <td>1,61</td>\n",
       "      <td>79,83</td>\n",
       "      <td>83,38</td>\n",
       "      <td>76,44</td>\n",
       "    </tr>\n",
       "    <tr>\n",
       "      <th>4</th>\n",
       "      <td>Greece</td>\n",
       "      <td>1,35</td>\n",
       "      <td>78,89</td>\n",
       "      <td>81,65</td>\n",
       "      <td>76,32</td>\n",
       "    </tr>\n",
       "  </tbody>\n",
       "</table>\n",
       "</div>"
      ],
      "text/plain": [
       "     Country Births/Woman Life Expectancy Female   Male\n",
       "0     Sweden         1,54           79,97  82,78  77,31\n",
       "1  Australia         1,76           80,13  83,13  77,27\n",
       "2      Italy         1,26            79,4  82,52  76,47\n",
       "3     Canada         1,61           79,83  83,38  76,44\n",
       "4     Greece         1,35           78,89  81,65  76,32"
      ]
     },
     "execution_count": 127,
     "metadata": {},
     "output_type": "execute_result"
    }
   ],
   "source": [
    "life_expectancny_df.head()"
   ]
  },
  {
   "cell_type": "code",
   "execution_count": 128,
   "id": "99854dbb-9db1-4960-b3c8-642b575c6485",
   "metadata": {},
   "outputs": [
    {
     "data": {
      "text/html": [
       "<div>\n",
       "<style scoped>\n",
       "    .dataframe tbody tr th:only-of-type {\n",
       "        vertical-align: middle;\n",
       "    }\n",
       "\n",
       "    .dataframe tbody tr th {\n",
       "        vertical-align: top;\n",
       "    }\n",
       "\n",
       "    .dataframe thead th {\n",
       "        text-align: right;\n",
       "    }\n",
       "</style>\n",
       "<table border=\"1\" class=\"dataframe\">\n",
       "  <thead>\n",
       "    <tr style=\"text-align: right;\">\n",
       "      <th></th>\n",
       "      <th>country</th>\n",
       "      <th>bd_woman</th>\n",
       "      <th>life_expectancy</th>\n",
       "      <th>female</th>\n",
       "      <th>male</th>\n",
       "    </tr>\n",
       "  </thead>\n",
       "  <tbody>\n",
       "    <tr>\n",
       "      <th>0</th>\n",
       "      <td>Sweden</td>\n",
       "      <td>1.54</td>\n",
       "      <td>79.97</td>\n",
       "      <td>82.78</td>\n",
       "      <td>77.31</td>\n",
       "    </tr>\n",
       "    <tr>\n",
       "      <th>1</th>\n",
       "      <td>Australia</td>\n",
       "      <td>1.76</td>\n",
       "      <td>80.13</td>\n",
       "      <td>83.13</td>\n",
       "      <td>77.27</td>\n",
       "    </tr>\n",
       "    <tr>\n",
       "      <th>2</th>\n",
       "      <td>Italy</td>\n",
       "      <td>1.26</td>\n",
       "      <td>79.40</td>\n",
       "      <td>82.52</td>\n",
       "      <td>76.47</td>\n",
       "    </tr>\n",
       "    <tr>\n",
       "      <th>3</th>\n",
       "      <td>Canada</td>\n",
       "      <td>1.61</td>\n",
       "      <td>79.83</td>\n",
       "      <td>83.38</td>\n",
       "      <td>76.44</td>\n",
       "    </tr>\n",
       "    <tr>\n",
       "      <th>4</th>\n",
       "      <td>Greece</td>\n",
       "      <td>1.35</td>\n",
       "      <td>78.89</td>\n",
       "      <td>81.65</td>\n",
       "      <td>76.32</td>\n",
       "    </tr>\n",
       "    <tr>\n",
       "      <th>5</th>\n",
       "      <td>Spain</td>\n",
       "      <td>1.26</td>\n",
       "      <td>79.23</td>\n",
       "      <td>82.80</td>\n",
       "      <td>75.87</td>\n",
       "    </tr>\n",
       "    <tr>\n",
       "      <th>6</th>\n",
       "      <td>Netherlands</td>\n",
       "      <td>1.65</td>\n",
       "      <td>78.74</td>\n",
       "      <td>81.76</td>\n",
       "      <td>75.85</td>\n",
       "    </tr>\n",
       "    <tr>\n",
       "      <th>7</th>\n",
       "      <td>UK</td>\n",
       "      <td>1.66</td>\n",
       "      <td>78.16</td>\n",
       "      <td>80.70</td>\n",
       "      <td>75.74</td>\n",
       "    </tr>\n",
       "    <tr>\n",
       "      <th>8</th>\n",
       "      <td>France</td>\n",
       "      <td>1.85</td>\n",
       "      <td>79.28</td>\n",
       "      <td>83.11</td>\n",
       "      <td>75.63</td>\n",
       "    </tr>\n",
       "    <tr>\n",
       "      <th>9</th>\n",
       "      <td>Germany</td>\n",
       "      <td>1.37</td>\n",
       "      <td>78.42</td>\n",
       "      <td>81.55</td>\n",
       "      <td>75.46</td>\n",
       "    </tr>\n",
       "    <tr>\n",
       "      <th>10</th>\n",
       "      <td>NZ</td>\n",
       "      <td>1.79</td>\n",
       "      <td>78.32</td>\n",
       "      <td>81.44</td>\n",
       "      <td>75.34</td>\n",
       "    </tr>\n",
       "    <tr>\n",
       "      <th>11</th>\n",
       "      <td>Belgium</td>\n",
       "      <td>1.62</td>\n",
       "      <td>78.29</td>\n",
       "      <td>81.78</td>\n",
       "      <td>74.97</td>\n",
       "    </tr>\n",
       "    <tr>\n",
       "      <th>12</th>\n",
       "      <td>Ireland</td>\n",
       "      <td>1.89</td>\n",
       "      <td>77.35</td>\n",
       "      <td>80.31</td>\n",
       "      <td>74.58</td>\n",
       "    </tr>\n",
       "    <tr>\n",
       "      <th>13</th>\n",
       "      <td>Denmark</td>\n",
       "      <td>1.73</td>\n",
       "      <td>77.10</td>\n",
       "      <td>79.87</td>\n",
       "      <td>74.48</td>\n",
       "    </tr>\n",
       "    <tr>\n",
       "      <th>14</th>\n",
       "      <td>US</td>\n",
       "      <td>2.07</td>\n",
       "      <td>77.14</td>\n",
       "      <td>80.05</td>\n",
       "      <td>74.37</td>\n",
       "    </tr>\n",
       "    <tr>\n",
       "      <th>15</th>\n",
       "      <td>Finland</td>\n",
       "      <td>1.70</td>\n",
       "      <td>77.92</td>\n",
       "      <td>81.68</td>\n",
       "      <td>74.28</td>\n",
       "    </tr>\n",
       "    <tr>\n",
       "      <th>16</th>\n",
       "      <td>Mexico</td>\n",
       "      <td>2.53</td>\n",
       "      <td>72.30</td>\n",
       "      <td>75.49</td>\n",
       "      <td>69.26</td>\n",
       "    </tr>\n",
       "    <tr>\n",
       "      <th>17</th>\n",
       "      <td>Brazil</td>\n",
       "      <td>2.01</td>\n",
       "      <td>71.13</td>\n",
       "      <td>75.30</td>\n",
       "      <td>67.16</td>\n",
       "    </tr>\n",
       "    <tr>\n",
       "      <th>18</th>\n",
       "      <td>Argentina</td>\n",
       "      <td>2.28</td>\n",
       "      <td>75.48</td>\n",
       "      <td>79.44</td>\n",
       "      <td>71.72</td>\n",
       "    </tr>\n",
       "    <tr>\n",
       "      <th>19</th>\n",
       "      <td>Chile</td>\n",
       "      <td>2.09</td>\n",
       "      <td>76.35</td>\n",
       "      <td>79.82</td>\n",
       "      <td>73.04</td>\n",
       "    </tr>\n",
       "    <tr>\n",
       "      <th>20</th>\n",
       "      <td>Peru</td>\n",
       "      <td>2.81</td>\n",
       "      <td>70.88</td>\n",
       "      <td>73.43</td>\n",
       "      <td>68.45</td>\n",
       "    </tr>\n",
       "  </tbody>\n",
       "</table>\n",
       "</div>"
      ],
      "text/plain": [
       "        country  bd_woman  life_expectancy  female   male\n",
       "0        Sweden      1.54            79.97   82.78  77.31\n",
       "1     Australia      1.76            80.13   83.13  77.27\n",
       "2         Italy      1.26            79.40   82.52  76.47\n",
       "3        Canada      1.61            79.83   83.38  76.44\n",
       "4        Greece      1.35            78.89   81.65  76.32\n",
       "5         Spain      1.26            79.23   82.80  75.87\n",
       "6   Netherlands      1.65            78.74   81.76  75.85\n",
       "7            UK      1.66            78.16   80.70  75.74\n",
       "8        France      1.85            79.28   83.11  75.63\n",
       "9       Germany      1.37            78.42   81.55  75.46\n",
       "10           NZ      1.79            78.32   81.44  75.34\n",
       "11      Belgium      1.62            78.29   81.78  74.97\n",
       "12      Ireland      1.89            77.35   80.31  74.58\n",
       "13      Denmark      1.73            77.10   79.87  74.48\n",
       "14           US      2.07            77.14   80.05  74.37\n",
       "15      Finland      1.70            77.92   81.68  74.28\n",
       "16       Mexico      2.53            72.30   75.49  69.26\n",
       "17       Brazil      2.01            71.13   75.30  67.16\n",
       "18    Argentina      2.28            75.48   79.44  71.72\n",
       "19        Chile      2.09            76.35   79.82  73.04\n",
       "20         Peru      2.81            70.88   73.43  68.45"
      ]
     },
     "execution_count": 128,
     "metadata": {},
     "output_type": "execute_result"
    }
   ],
   "source": [
    "life_expectancny_df = life_expectancny_df.rename(columns={'Country' : 'country', 'Births/Woman' : 'bd_woman', 'Life Expectancy' : 'life_expectancy', 'Male' : 'male', 'Female': 'female'})\n",
    "life_expectancny_df['bd_woman'] = life_expectancny_df['bd_woman'].str.replace(\",\", \".\").astype(float)\n",
    "life_expectancny_df['life_expectancy'] = life_expectancny_df['life_expectancy'].str.replace(\",\", \".\").astype(float)\n",
    "life_expectancny_df['female'] = life_expectancny_df['female'].str.replace(\",\", \".\").astype(float)\n",
    "life_expectancny_df['male'] = life_expectancny_df['male'].str.replace(\",\", \".\").astype(float)\n",
    "life_expectancny_df"
   ]
  },
  {
   "cell_type": "markdown",
   "id": "e92c2cf5-4b4f-4292-a944-73768e611f1d",
   "metadata": {},
   "source": [
    "Объяснить ожидаемую продолжительность жизни женщин через ожидаемую продолжительность жизни мужчин."
   ]
  },
  {
   "cell_type": "code",
   "execution_count": 170,
   "id": "eeea8b08-11cf-445d-8d75-df19a9af9ff4",
   "metadata": {},
   "outputs": [
    {
     "data": {
      "image/png": "[encoded data removed]",
      "text/plain": [
       "<Figure size 640x480 with 1 Axes>"
      ]
     },
     "metadata": {},
     "output_type": "display_data"
    }
   ],
   "source": [
    "sns.regplot(\n",
    "    x='male', \n",
    "    y='female', \n",
    "    data=life_expectancny_df)\n",
    "None"
   ]
  },
  {
   "cell_type": "code",
   "execution_count": 173,
   "id": "a22fc0d4-42dc-4990-878a-71e675ca152e",
   "metadata": {},
   "outputs": [
    {
     "name": "stdout",
     "output_type": "stream",
     "text": [
      "Kolmogorov-Smirnov test: 0.6028129403170835\n"
     ]
    }
   ],
   "source": [
    "expected = norm(loc=life_expectancny_df['male'].mean(), scale=life_expectancny_df[['male']].std()).rvs(size=life_expectancny_df[['bd_woman']].size)\n",
    "ks_test = kstest(life_expectancny_df['male'], expected)\n",
    "print('Kolmogorov-Smirnov test: ' + str(ks_test.pvalue))"
   ]
  },
  {
   "cell_type": "code",
   "execution_count": 171,
   "id": "3defef09-1fbc-44fd-a4c1-fc8065392410",
   "metadata": {},
   "outputs": [
    {
     "name": "stdout",
     "output_type": "stream",
     "text": [
      "pearson correlation coefficient: 0.9477096744291083\n",
      "T-test P-value: 7.004357980472583e-09\n"
     ]
    }
   ],
   "source": [
    "corr = correlation(life_expectancny_df['female'], life_expectancny_df['male'])\n",
    "print('pearson correlation coefficient: ' + str(corr))\n",
    "ttest_result = stats.ttest_ind(life_expectancny_df['female'], life_expectancny_df['male'])\n",
    "print('T-test P-value: ' + str(ttest_result.pvalue))"
   ]
  },
  {
   "cell_type": "markdown",
   "id": "7da3db08-bec4-419d-b78d-dde62ac7f2c0",
   "metadata": {},
   "source": [
    "Исследовать использование показателя \"Births/Woman\" в стране для прогнозирования \"Life Expectancy\". Произвести анализ модели."
   ]
  },
  {
   "cell_type": "code",
   "execution_count": 143,
   "id": "d9c82432-20be-4d64-9cca-0c4526ad6bd5",
   "metadata": {},
   "outputs": [
    {
     "data": {
      "image/png": "[encoded data removed]",
      "text/plain": [
       "<Figure size 640x480 with 1 Axes>"
      ]
     },
     "metadata": {},
     "output_type": "display_data"
    }
   ],
   "source": [
    "sns.regplot(\n",
    "    x='bd_woman', \n",
    "    y='life_expectancy', \n",
    "    data=life_expectancny_df)\n",
    "None"
   ]
  },
  {
   "cell_type": "code",
   "execution_count": 145,
   "id": "9009dcca-1197-448b-9044-b34f6b227f32",
   "metadata": {},
   "outputs": [
    {
     "data": {
      "image/png": "[encoded data removed]",
      "text/plain": [
       "<Figure size 640x480 with 1 Axes>"
      ]
     },
     "metadata": {},
     "output_type": "display_data"
    }
   ],
   "source": [
    "sns.histplot(data=life_expectancny_df[['bd_woman']], kde=True)\n",
    "None"
   ]
  },
  {
   "cell_type": "code",
   "execution_count": 153,
   "id": "ecbd2b63-84b7-4030-9ce6-470dd8b0895c",
   "metadata": {},
   "outputs": [
    {
     "name": "stdout",
     "output_type": "stream",
     "text": [
      "Kolmogorov-Smirnov test: 0.36497950870925666\n"
     ]
    }
   ],
   "source": [
    "expected = norm(loc=life_expectancny_df['bd_woman'].mean(), scale=life_expectancny_df[['bd_woman']].std()).rvs(size=life_expectancny_df[['bd_woman']].size)\n",
    "ks_test = kstest(life_expectancny_df['bd_woman'], expected)\n",
    "print('Kolmogorov-Smirnov test: ' + str(ks_test.pvalue))"
   ]
  },
  {
   "cell_type": "code",
   "execution_count": 158,
   "id": "b6b9f2bb-f568-43ec-b4ea-23635e2ceb6c",
   "metadata": {},
   "outputs": [
    {
     "name": "stdout",
     "output_type": "stream",
     "text": [
      "pearson correlation coefficient: -0.8124129425649304\n",
      "T-test P-value: 1.9493779197320366e-53\n"
     ]
    }
   ],
   "source": [
    "corr = correlation(life_expectancny_df['bd_woman'], life_expectancny_df['life_expectancy'])\n",
    "print('pearson correlation coefficient: ' + str(corr))\n",
    "ttest_result = stats.ttest_ind(life_expectancny_df['bd_woman'], life_expectancny_df['life_expectancy'])\n",
    "print('T-test P-value: ' + str(ttest_result.pvalue))"
   ]
  },
  {
   "cell_type": "code",
   "execution_count": 159,
   "id": "f2391846-6b9d-4034-a015-887783408ef6",
   "metadata": {},
   "outputs": [
    {
     "data": {
      "text/html": [
       "<table class=\"simpletable\">\n",
       "<caption>OLS Regression Results</caption>\n",
       "<tr>\n",
       "  <th>Dep. Variable:</th>     <td>life_expectancy</td> <th>  R-squared:         </th> <td>   0.660</td>\n",
       "</tr>\n",
       "<tr>\n",
       "  <th>Model:</th>                   <td>OLS</td>       <th>  Adj. R-squared:    </th> <td>   0.642</td>\n",
       "</tr>\n",
       "<tr>\n",
       "  <th>Method:</th>             <td>Least Squares</td>  <th>  F-statistic:       </th> <td>   36.88</td>\n",
       "</tr>\n",
       "<tr>\n",
       "  <th>Date:</th>             <td>Wed, 15 Nov 2023</td> <th>  Prob (F-statistic):</th> <td>7.69e-06</td>\n",
       "</tr>\n",
       "<tr>\n",
       "  <th>Time:</th>                 <td>14:14:24</td>     <th>  Log-Likelihood:    </th> <td> -39.192</td>\n",
       "</tr>\n",
       "<tr>\n",
       "  <th>No. Observations:</th>      <td>    21</td>      <th>  AIC:               </th> <td>   82.38</td>\n",
       "</tr>\n",
       "<tr>\n",
       "  <th>Df Residuals:</th>          <td>    19</td>      <th>  BIC:               </th> <td>   84.47</td>\n",
       "</tr>\n",
       "<tr>\n",
       "  <th>Df Model:</th>              <td>     1</td>      <th>                     </th>     <td> </td>   \n",
       "</tr>\n",
       "<tr>\n",
       "  <th>Covariance Type:</th>      <td>nonrobust</td>    <th>                     </th>     <td> </td>   \n",
       "</tr>\n",
       "</table>\n",
       "<table class=\"simpletable\">\n",
       "<tr>\n",
       "      <td></td>        <th>coef</th>     <th>std err</th>      <th>t</th>      <th>P>|t|</th>  <th>[0.025</th>    <th>0.975]</th>  \n",
       "</tr>\n",
       "<tr>\n",
       "  <th>const</th>    <td>   87.4679</td> <td>    1.704</td> <td>   51.316</td> <td> 0.000</td> <td>   83.900</td> <td>   91.035</td>\n",
       "</tr>\n",
       "<tr>\n",
       "  <th>bd_woman</th> <td>   -5.6177</td> <td>    0.925</td> <td>   -6.073</td> <td> 0.000</td> <td>   -7.554</td> <td>   -3.682</td>\n",
       "</tr>\n",
       "</table>\n",
       "<table class=\"simpletable\">\n",
       "<tr>\n",
       "  <th>Omnibus:</th>       <td>12.944</td> <th>  Durbin-Watson:     </th> <td>   2.218</td>\n",
       "</tr>\n",
       "<tr>\n",
       "  <th>Prob(Omnibus):</th> <td> 0.002</td> <th>  Jarque-Bera (JB):  </th> <td>  12.489</td>\n",
       "</tr>\n",
       "<tr>\n",
       "  <th>Skew:</th>          <td>-1.251</td> <th>  Prob(JB):          </th> <td> 0.00194</td>\n",
       "</tr>\n",
       "<tr>\n",
       "  <th>Kurtosis:</th>      <td> 5.831</td> <th>  Cond. No.          </th> <td>    11.2</td>\n",
       "</tr>\n",
       "</table><br/><br/>Notes:<br/>[1] Standard Errors assume that the covariance matrix of the errors is correctly specified."
      ],
      "text/plain": [
       "<class 'statsmodels.iolib.summary.Summary'>\n",
       "\"\"\"\n",
       "                            OLS Regression Results                            \n",
       "==============================================================================\n",
       "Dep. Variable:        life_expectancy   R-squared:                       0.660\n",
       "Model:                            OLS   Adj. R-squared:                  0.642\n",
       "Method:                 Least Squares   F-statistic:                     36.88\n",
       "Date:                Wed, 15 Nov 2023   Prob (F-statistic):           7.69e-06\n",
       "Time:                        14:14:24   Log-Likelihood:                -39.192\n",
       "No. Observations:                  21   AIC:                             82.38\n",
       "Df Residuals:                      19   BIC:                             84.47\n",
       "Df Model:                           1                                         \n",
       "Covariance Type:            nonrobust                                         \n",
       "==============================================================================\n",
       "                 coef    std err          t      P>|t|      [0.025      0.975]\n",
       "------------------------------------------------------------------------------\n",
       "const         87.4679      1.704     51.316      0.000      83.900      91.035\n",
       "bd_woman      -5.6177      0.925     -6.073      0.000      -7.554      -3.682\n",
       "==============================================================================\n",
       "Omnibus:                       12.944   Durbin-Watson:                   2.218\n",
       "Prob(Omnibus):                  0.002   Jarque-Bera (JB):               12.489\n",
       "Skew:                          -1.251   Prob(JB):                      0.00194\n",
       "Kurtosis:                       5.831   Cond. No.                         11.2\n",
       "==============================================================================\n",
       "\n",
       "Notes:\n",
       "[1] Standard Errors assume that the covariance matrix of the errors is correctly specified.\n",
       "\"\"\""
      ]
     },
     "execution_count": 159,
     "metadata": {},
     "output_type": "execute_result"
    }
   ],
   "source": [
    "import statsmodels.api as sm\n",
    "import statsmodels.formula.api as smf\n",
    "y=life_expectancny_df[['life_expectancy']]\n",
    "X=life_expectancny_df[['bd_woman']]\n",
    "X = sm.add_constant(X)\n",
    "results = sm.OLS(y, X).fit()\n",
    "results.summary()"
   ]
  },
  {
   "cell_type": "code",
   "execution_count": 162,
   "id": "3951392e-7272-46de-91bb-a3ed5676ecea",
   "metadata": {},
   "outputs": [
    {
     "data": {
      "image/png": "[encoded data removed]",
      "text/plain": [
       "<Figure size 640x480 with 1 Axes>"
      ]
     },
     "metadata": {},
     "output_type": "display_data"
    }
   ],
   "source": [
    "linreg = LinearRegression()\n",
    "linreg.fit(X, y)\n",
    "predicted_values = linreg.predict(X)\n",
    "residuals = (y.to_numpy().T - predicted_values.T).T\n",
    "sns.histplot(data=pd.Series(residuals.T[0]), kde=True)\n",
    "None"
   ]
  },
  {
   "cell_type": "code",
   "execution_count": 174,
   "id": "94e71a24-9621-4c3e-ae0b-0279eb290f89",
   "metadata": {},
   "outputs": [
    {
     "data": {
      "image/png": "[encoded data removed]",
      "text/plain": [
       "<Figure size 640x480 with 1 Axes>"
      ]
     },
     "metadata": {},
     "output_type": "display_data"
    }
   ],
   "source": [
    "fig = sm.qqplot(pd.Series(residuals.T[0]), line='s')\n",
    "plt.show()"
   ]
  },
  {
   "cell_type": "code",
   "execution_count": 165,
   "id": "41b70964-0b8a-4744-aa36-e04a0a1d937b",
   "metadata": {},
   "outputs": [
    {
     "data": {
      "image/png": "[encoded data removed]",
      "text/plain": [
       "<Figure size 640x480 with 1 Axes>"
      ]
     },
     "metadata": {},
     "output_type": "display_data"
    }
   ],
   "source": [
    "predicted_residuals = pd.concat([pd.Series(data=residuals.T[0]), \n",
    "                                              pd.Series(data=predicted_values.T[0])], axis=1,\n",
    "                               keys= ['residuals', 'predicted'])\n",
    "\n",
    "sns.regplot(\n",
    "    x='predicted', \n",
    "    y='residuals', \n",
    "    data=predicted_residuals)\n",
    "None"
   ]
  },
  {
   "cell_type": "code",
   "execution_count": 167,
   "id": "0d797dcd-b3c2-4c64-8348-2bd15c55284d",
   "metadata": {},
   "outputs": [
    {
     "data": {
      "text/html": [
       "<div>\n",
       "<style scoped>\n",
       "    .dataframe tbody tr th:only-of-type {\n",
       "        vertical-align: middle;\n",
       "    }\n",
       "\n",
       "    .dataframe tbody tr th {\n",
       "        vertical-align: top;\n",
       "    }\n",
       "\n",
       "    .dataframe thead th {\n",
       "        text-align: right;\n",
       "    }\n",
       "</style>\n",
       "<table border=\"1\" class=\"dataframe\">\n",
       "  <thead>\n",
       "    <tr style=\"text-align: right;\">\n",
       "      <th></th>\n",
       "      <th>sum_sq</th>\n",
       "      <th>df</th>\n",
       "      <th>F</th>\n",
       "      <th>PR(&gt;F)</th>\n",
       "    </tr>\n",
       "  </thead>\n",
       "  <tbody>\n",
       "    <tr>\n",
       "      <th>bd_woman</th>\n",
       "      <td>99.737689</td>\n",
       "      <td>1.0</td>\n",
       "      <td>36.884784</td>\n",
       "      <td>0.000008</td>\n",
       "    </tr>\n",
       "    <tr>\n",
       "      <th>Residual</th>\n",
       "      <td>51.376635</td>\n",
       "      <td>19.0</td>\n",
       "      <td>NaN</td>\n",
       "      <td>NaN</td>\n",
       "    </tr>\n",
       "  </tbody>\n",
       "</table>\n",
       "</div>"
      ],
      "text/plain": [
       "             sum_sq    df          F    PR(>F)\n",
       "bd_woman  99.737689   1.0  36.884784  0.000008\n",
       "Residual  51.376635  19.0        NaN       NaN"
      ]
     },
     "execution_count": 167,
     "metadata": {},
     "output_type": "execute_result"
    }
   ],
   "source": [
    "import statsmodels.api as sm\n",
    "from statsmodels.formula.api import ols\n",
    "\n",
    "model = ols('life_expectancy ~ bd_woman', data=life_expectancny_df).fit()\n",
    "anova_table = sm.stats.anova_lm(model, typ=2)\n",
    "anova_table"
   ]
  },
  {
   "cell_type": "markdown",
   "id": "9f11e5b6-5a44-485b-8dfc-44a5139ae125",
   "metadata": {},
   "source": [
    "Дисперсионный анализ сведетельствует в пользу того, что модель лучше наивного прогноза"
   ]
  },
  {
   "cell_type": "code",
   "execution_count": null,
   "id": "6cac469b-4ea1-4800-8611-e300c2b05f10",
   "metadata": {},
   "outputs": [],
   "source": []
  }
 ],
 "metadata": {
  "kernelspec": {
   "display_name": "Python 3 (ipykernel)",
   "language": "python",
   "name": "python3"
  },
  "language_info": {
   "codemirror_mode": {
    "name": "ipython",
    "version": 3
   },
   "file_extension": ".py",
   "mimetype": "text/x-python",
   "name": "python",
   "nbconvert_exporter": "python",
   "pygments_lexer": "ipython3",
   "version": "3.10.9"
  }
 },
 "nbformat": 4,
 "nbformat_minor": 5
}
