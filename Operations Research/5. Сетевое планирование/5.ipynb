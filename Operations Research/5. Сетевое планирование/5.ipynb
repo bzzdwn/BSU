{
 "cells": [
  {
   "cell_type": "code",
   "execution_count": 2,
   "id": "8e3295fa-c22a-43c9-89c9-0a65fe87ae61",
   "metadata": {
    "tags": []
   },
   "outputs": [],
   "source": [
    "from collections import namedtuple\n",
    "\n",
    "input_model = namedtuple(\"input_model\", [\"time\", \"set_k\"])\n",
    "row = namedtuple(\"row\", [\"i\", \"time\", \"set_k\", \"rn\", \"rk\", \"pn\", \"pk\", \"r\"])"
   ]
  },
  {
   "cell_type": "code",
   "execution_count": 11,
   "id": "c415979d-ea77-4902-948e-b0c5398afc3c",
   "metadata": {
    "tags": []
   },
   "outputs": [],
   "source": [
    "t = [10, 13, 5, 7, 9, 14, 12, 10, 6, 11, 9]\n",
    "b = [{}, {}, {1}, {1}, {2}, {2}, {4,5}, {3,4,5}, {6,7}, {6,7}, {8,9}]"
   ]
  },
  {
   "cell_type": "code",
   "execution_count": 15,
   "id": "a46ee5c2-f301-48d3-915e-287e70ff1f73",
   "metadata": {
    "tags": []
   },
   "outputs": [],
   "source": [
    "t = [5, 8, 3, 6, 4, 1, 2, 6, 3, 9, 7]\n",
    "b = [{}, {}, {}, {1}, {1}, {3}, {2,5,6}, {2,5,6}, {4,7}, {3}, {2,5,6,10}]"
   ]
  },
  {
   "cell_type": "code",
   "execution_count": 1,
   "id": "ad13e34d-0f2e-448a-bf5d-0c1ff2d4369f",
   "metadata": {
    "tags": []
   },
   "outputs": [],
   "source": [
    "t = [15, 7, 5, 6, 8, 6, 10, 8, 9, 11, 10, 9]\n",
    "b = [{}, {}, {1}, {2}, {2}, {3,4}, {3,4}, {5,6}, {5,6}, {5,6}, {2}, {7,8,9}]"
   ]
  },
  {
   "cell_type": "code",
   "execution_count": 37,
   "id": "3448a124-8593-4c1b-b159-93656638f8fd",
   "metadata": {
    "tags": []
   },
   "outputs": [],
   "source": [
    "models: dict[int, input_model] = dict()"
   ]
  },
  {
   "cell_type": "code",
   "execution_count": 38,
   "id": "ef7eee59-9492-4e9e-a2cf-29d760801e0e",
   "metadata": {
    "tags": []
   },
   "outputs": [],
   "source": [
    "for i in range(1, len(t) + 1):\n",
    "    models[i] = input_model(t[i-1], b[i-1])"
   ]
  },
  {
   "cell_type": "code",
   "execution_count": 39,
   "id": "ff232364-9936-4899-83d6-f39da02782b6",
   "metadata": {
    "tags": []
   },
   "outputs": [
    {
     "data": {
      "text/plain": [
       "{1: input_model(time=5, set_k={}),\n",
       " 2: input_model(time=8, set_k={}),\n",
       " 3: input_model(time=3, set_k={}),\n",
       " 4: input_model(time=6, set_k={1}),\n",
       " 5: input_model(time=4, set_k={1}),\n",
       " 6: input_model(time=1, set_k={3}),\n",
       " 7: input_model(time=2, set_k={2, 5, 6}),\n",
       " 8: input_model(time=6, set_k={2, 5, 6}),\n",
       " 9: input_model(time=3, set_k={4, 7}),\n",
       " 10: input_model(time=9, set_k={3}),\n",
       " 11: input_model(time=7, set_k={2, 10, 5, 6})}"
      ]
     },
     "execution_count": 39,
     "metadata": {},
     "output_type": "execute_result"
    }
   ],
   "source": [
    "models"
   ]
  },
  {
   "cell_type": "code",
   "execution_count": 40,
   "id": "1e459078-843f-4e0b-a997-c1c2c3a8d527",
   "metadata": {
    "tags": []
   },
   "outputs": [],
   "source": [
    "table: dict[int, row] = dict()"
   ]
  },
  {
   "cell_type": "code",
   "execution_count": 41,
   "id": "815412bb-322c-4767-94c4-f6c096a19ec4",
   "metadata": {
    "tags": []
   },
   "outputs": [],
   "source": [
    "for number, model in models.items():\n",
    "    time = model.time\n",
    "    set_k = model.set_k\n",
    "    if len(set_k) == 0:\n",
    "        rn = 0\n",
    "    else:\n",
    "        rn = max([table[s].rk for s in set_k])\n",
    "    rk = rn + model.time \n",
    "    table[number] = row(i=number, time=time, set_k=set_k, rn=rn, rk=rk, pn=None, pk=None, r=None)"
   ]
  },
  {
   "cell_type": "code",
   "execution_count": 42,
   "id": "fdaaea8b-5283-4a31-b866-319f544253d4",
   "metadata": {
    "tags": []
   },
   "outputs": [
    {
     "data": {
      "text/plain": [
       "{1: row(i=1, time=5, set_k={}, rn=0, rk=5, pn=None, pk=None, r=None),\n",
       " 2: row(i=2, time=8, set_k={}, rn=0, rk=8, pn=None, pk=None, r=None),\n",
       " 3: row(i=3, time=3, set_k={}, rn=0, rk=3, pn=None, pk=None, r=None),\n",
       " 4: row(i=4, time=6, set_k={1}, rn=5, rk=11, pn=None, pk=None, r=None),\n",
       " 5: row(i=5, time=4, set_k={1}, rn=5, rk=9, pn=None, pk=None, r=None),\n",
       " 6: row(i=6, time=1, set_k={3}, rn=3, rk=4, pn=None, pk=None, r=None),\n",
       " 7: row(i=7, time=2, set_k={2, 5, 6}, rn=9, rk=11, pn=None, pk=None, r=None),\n",
       " 8: row(i=8, time=6, set_k={2, 5, 6}, rn=9, rk=15, pn=None, pk=None, r=None),\n",
       " 9: row(i=9, time=3, set_k={4, 7}, rn=11, rk=14, pn=None, pk=None, r=None),\n",
       " 10: row(i=10, time=9, set_k={3}, rn=3, rk=12, pn=None, pk=None, r=None),\n",
       " 11: row(i=11, time=7, set_k={2, 10, 5, 6}, rn=12, rk=19, pn=None, pk=None, r=None)}"
      ]
     },
     "execution_count": 42,
     "metadata": {},
     "output_type": "execute_result"
    }
   ],
   "source": [
    "table"
   ]
  },
  {
   "cell_type": "code",
   "execution_count": 43,
   "id": "f0bdbd16-b715-48c7-b23c-8f4a23b9fe71",
   "metadata": {
    "tags": []
   },
   "outputs": [],
   "source": [
    "def search_next_numbers(work_idx: int) -> set[int]:\n",
    "    \"\"\"Поиск следующих номеров работ, которые зависят от данной.\"\"\"\n",
    "    next_nums = {idx for idx, model in models.items()\n",
    "                 if work_idx in model.set_k and idx != work_idx}  # Проверка на цикличность\n",
    "    for next_num in next_nums.copy():\n",
    "        next_nums.update(search_next_numbers(next_num))\n",
    "    next_nums.discard(work_idx)\n",
    "    return next_nums"
   ]
  },
  {
   "cell_type": "code",
   "execution_count": 44,
   "id": "6305a8f0-82fa-4fd2-b170-cfef6590b4c6",
   "metadata": {
    "tags": []
   },
   "outputs": [],
   "source": [
    "for number, model in list(models.items())[::-1]:\n",
    "    visited = search_next_numbers(number)\n",
    "    current_row = table[number]\n",
    "    if visited:\n",
    "        k = min(visited, key=lambda num: table[num].pn if table[num].pn is not None else 10000000000)\n",
    "        pk = table[k].pn\n",
    "    else:\n",
    "        pk = current_row.rk\n",
    "    pn = pk - current_row.time\n",
    "    r = pn - current_row.rn\n",
    "    assert r == pk - current_row.rk and r >= 0, print(f\"{current_row}, r={r}, {pk - current_row.rk}\")\n",
    "    table[number] = table[number]._replace(pk=pk, pn=pn, r=r)"
   ]
  },
  {
   "cell_type": "code",
   "execution_count": 45,
   "id": "bebd2765-9945-433f-a8e0-906c535908e7",
   "metadata": {
    "tags": []
   },
   "outputs": [
    {
     "name": "stdout",
     "output_type": "stream",
     "text": [
      "+----+------+---------------+----------+----------+----------+----------+------+\n",
      "| i  | t(i) |      K(i)     | t(rn, i) | t(rk, i) | t(pn, i) | t(pk, i) | r(i) |\n",
      "+----+------+---------------+----------+----------+----------+----------+------+\n",
      "| 1  |  5   |       {}      |    0     |    5     |    0     |    5     |  0   |\n",
      "| 2  |  8   |       {}      |    0     |    8     |    1     |    9     |  1   |\n",
      "| 3  |  3   |       {}      |    0     |    3     |    0     |    3     |  0   |\n",
      "| 4  |  6   |      {1}      |    5     |    11    |    5     |    11    |  0   |\n",
      "| 5  |  4   |      {1}      |    5     |    9     |    5     |    9     |  0   |\n",
      "| 6  |  1   |      {3}      |    3     |    4     |    8     |    9     |  5   |\n",
      "| 7  |  2   |   {2, 5, 6}   |    9     |    11    |    9     |    11    |  0   |\n",
      "| 8  |  6   |   {2, 5, 6}   |    9     |    15    |    9     |    15    |  0   |\n",
      "| 9  |  3   |     {4, 7}    |    11    |    14    |    11    |    14    |  0   |\n",
      "| 10 |  9   |      {3}      |    3     |    12    |    3     |    12    |  0   |\n",
      "| 11 |  7   | {2, 10, 5, 6} |    12    |    19    |    12    |    19    |  0   |\n",
      "+----+------+---------------+----------+----------+----------+----------+------+\n"
     ]
    }
   ],
   "source": [
    "from prettytable import PrettyTable\n",
    "\n",
    "\n",
    "def print_table(data: dict[int, row]):\n",
    "    pretty_table = PrettyTable()\n",
    "\n",
    "    pretty_table.field_names = [\"i\", \"t(i)\", \"K(i)\", \"t(rn, i)\", \"t(rk, i)\", \"t(pn, i)\", \"t(pk, i)\", \"r(i)\"]\n",
    "\n",
    "    for line in data.values():\n",
    "        pretty_set = line.set_k if len(line.set_k) > 0 else \"{}\"\n",
    "        pretty_table.add_row([line.i, line.time, pretty_set, line.rn, line.rk, line.pn, line.pk, line.r])\n",
    "\n",
    "    print(pretty_table)\n",
    "\n",
    "\n",
    "print_table(table)"
   ]
  },
  {
   "cell_type": "code",
   "execution_count": null,
   "id": "8e029d0e-aed0-485b-9288-4aaaeca6675a",
   "metadata": {},
   "outputs": [],
   "source": []
  }
 ],
 "metadata": {
  "kernelspec": {
   "display_name": "Python 3 (ipykernel)",
   "language": "python",
   "name": "python3"
  },
  "language_info": {
   "codemirror_mode": {
    "name": "ipython",
    "version": 3
   },
   "file_extension": ".py",
   "mimetype": "text/x-python",
   "name": "python",
   "nbconvert_exporter": "python",
   "pygments_lexer": "ipython3",
   "version": "3.11.5"
  }
 },
 "nbformat": 4,
 "nbformat_minor": 5
}
