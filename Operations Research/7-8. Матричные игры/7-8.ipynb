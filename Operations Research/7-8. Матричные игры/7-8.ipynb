{
 "cells": [
  {
   "cell_type": "markdown",
   "id": "36a9a094",
   "metadata": {},
   "source": [
    "# Задача 1"
   ]
  },
  {
   "cell_type": "markdown",
   "id": "586e37a3",
   "metadata": {},
   "source": [
    "Найдите решение игры заданной матрицей $$A = \\begin{bmatrix} 3 & 4 \\\\ 5 & 1 \\end{bmatrix}$$"
   ]
  },
  {
   "cell_type": "markdown",
   "id": "80db6237",
   "metadata": {},
   "source": [
    "Нижняя цена игры:\n",
    "$$\\alpha(A)=\\max\\limits_{1\\leq j\\leq 2}\\min\\limits_{1\\leq i\\leq 2}a_{ij}=3.$$\n",
    "Верхняя цена игры:\n",
    "$$\\beta(A)=\\min\\limits_{1\\leq i\\leq 2}\\max\\limits_{1\\leq j\\leq 2}a_{ij}=4.$$\n",
    "Таким образом, $\\alpha(A)\\neq \\beta(A)$. \n",
    "\n",
    "Реализуем программно данную проверку:"
   ]
  },
  {
   "cell_type": "code",
   "execution_count": 39,
   "id": "c86fc647",
   "metadata": {},
   "outputs": [],
   "source": [
    "import numpy as np\n",
    "A = np.array([[3, 4], [5, 1]])\n",
    "\n",
    "def lower_bound_price(A):\n",
    "        return A.min(axis=1).max()\n",
    "    \n",
    "def upper_bound_price(A):\n",
    "        return A.max(axis=0).min()"
   ]
  },
  {
   "cell_type": "code",
   "execution_count": 40,
   "id": "c3a2a44b",
   "metadata": {},
   "outputs": [
    {
     "data": {
      "text/plain": [
       "3"
      ]
     },
     "execution_count": 40,
     "metadata": {},
     "output_type": "execute_result"
    }
   ],
   "source": [
    "lower_bound_price(A)"
   ]
  },
  {
   "cell_type": "code",
   "execution_count": 41,
   "id": "c5065290",
   "metadata": {},
   "outputs": [
    {
     "data": {
      "text/plain": [
       "4"
      ]
     },
     "execution_count": 41,
     "metadata": {},
     "output_type": "execute_result"
    }
   ],
   "source": [
    "upper_bound_price(A)"
   ]
  },
  {
   "cell_type": "code",
   "execution_count": 42,
   "id": "8a07570d",
   "metadata": {},
   "outputs": [
    {
     "data": {
      "text/plain": [
       "False"
      ]
     },
     "execution_count": 42,
     "metadata": {},
     "output_type": "execute_result"
    }
   ],
   "source": [
    "lower_bound_price(A) == upper_bound_price(A)"
   ]
  },
  {
   "cell_type": "markdown",
   "id": "22797063",
   "metadata": {},
   "source": [
    "Решать задачу будем в смешанных стратегиях.\n",
    "\n",
    "Для первого игрока:\n",
    "$$\\begin{cases} 3p_1 + 4 p _2 = \\nu,\\\\ 5p_1 + p_2 = \\nu,\\\\ p_1 + p_2 = 1. \\end{cases}$$\n",
    "Для второго игрока:\n",
    "$$\\begin{cases} 3q_1 + 5q _2 = \\nu,\\\\ 4q_1 + p_2 = \\nu,\\\\ q_1 + q_2 = 1. \\end{cases}$$\n",
    "Построим программную реализацию решения данных СЛАУ. Матрицу системы для 1-го игрока обозначим через $P$, а матрицу системы для второго игрока через $Q$."
   ]
  },
  {
   "cell_type": "code",
   "execution_count": 43,
   "id": "ed51028c",
   "metadata": {},
   "outputs": [],
   "source": [
    "b = np.array([0, 0, 1])\n",
    "P = np.append(np.append(A, [[-1],[-1]], axis=1), [[1, 1, 0]], axis = 0)\n",
    "Q = np.append(np.append(A.T, [[-1],[-1]], axis=1), [[1, 1, 0]], axis = 0)"
   ]
  },
  {
   "cell_type": "code",
   "execution_count": 44,
   "id": "4c563a13",
   "metadata": {},
   "outputs": [
    {
     "data": {
      "text/plain": [
       "array([[ 3,  4, -1],\n",
       "       [ 5,  1, -1],\n",
       "       [ 1,  1,  0]])"
      ]
     },
     "execution_count": 44,
     "metadata": {},
     "output_type": "execute_result"
    }
   ],
   "source": [
    "P"
   ]
  },
  {
   "cell_type": "code",
   "execution_count": 45,
   "id": "c8c06e7f",
   "metadata": {},
   "outputs": [
    {
     "data": {
      "text/plain": [
       "array([[ 3,  5, -1],\n",
       "       [ 4,  1, -1],\n",
       "       [ 1,  1,  0]])"
      ]
     },
     "execution_count": 45,
     "metadata": {},
     "output_type": "execute_result"
    }
   ],
   "source": [
    "Q"
   ]
  },
  {
   "cell_type": "markdown",
   "id": "efb6f6b1",
   "metadata": {},
   "source": [
    "Тогда решения систем уравнений будут иметь вид"
   ]
  },
  {
   "cell_type": "code",
   "execution_count": 46,
   "id": "5162c533",
   "metadata": {},
   "outputs": [
    {
     "data": {
      "text/plain": [
       "array([0.6, 0.4, 3.4])"
      ]
     },
     "execution_count": 46,
     "metadata": {},
     "output_type": "execute_result"
    }
   ],
   "source": [
    "np.linalg.solve(P, b)"
   ]
  },
  {
   "cell_type": "code",
   "execution_count": 47,
   "id": "cd4f1001",
   "metadata": {},
   "outputs": [
    {
     "data": {
      "text/plain": [
       "array([0.8, 0.2, 3.4])"
      ]
     },
     "execution_count": 47,
     "metadata": {},
     "output_type": "execute_result"
    }
   ],
   "source": [
    "np.linalg.solve(Q, b)"
   ]
  },
  {
   "cell_type": "markdown",
   "id": "a544a834",
   "metadata": {},
   "source": [
    "Таким образом, оптимальные смешанные стратегии и цена игры равны соответственно $$p = [0.6, 0.4],\\quad q = [0.8, 0.2],\\quad \\nu = 3.4.$$"
   ]
  },
  {
   "cell_type": "markdown",
   "id": "5e6b1193",
   "metadata": {},
   "source": [
    "# Задача 2"
   ]
  },
  {
   "attachments": {},
   "cell_type": "markdown",
   "id": "fd0029f3",
   "metadata": {},
   "source": [
    "Найдите решение игр, заданных матрицами $A_1$ и $A_2$:\n",
    "$$A_1 = \\begin{bmatrix} -2 & 3 & -2 & 3\\\\ 6 & -2 & 1 & 0 \\end{bmatrix},\\quad A_2 = \\begin{bmatrix} 2 & 3 \\\\ 6 & -2 \\\\ 0 & 2\\end{bmatrix}.$$"
   ]
  },
  {
   "cell_type": "markdown",
   "id": "b11ed299",
   "metadata": {},
   "source": [
    "## Игра с матрицей $A_1$\n",
    "Найдем решение игры для матрицы $A_1$. \n",
    "$$A_1 = \\begin{bmatrix} -2 & 3 & -2 & 3\\\\ 6 & -2 & 1 & 0 \\end{bmatrix}$$\n",
    "Нижняя цена игры:\n",
    "$$\\alpha(A_1)=\\max\\limits_{1\\leq j\\leq 4}\\min\\limits_{1\\leq i\\leq 2}a_{ij}=-2.$$\n",
    "Верхняя цена игры:\n",
    "$$\\beta(A_1)=\\min\\limits_{1\\leq i\\leq 2}\\max\\limits_{1\\leq j\\leq 4}a_{ij}=1.$$"
   ]
  },
  {
   "cell_type": "code",
   "execution_count": 49,
   "id": "23313814",
   "metadata": {},
   "outputs": [
    {
     "data": {
      "text/plain": [
       "-2"
      ]
     },
     "execution_count": 49,
     "metadata": {},
     "output_type": "execute_result"
    }
   ],
   "source": [
    "A_1 = np.array([[-2, 3, -2, 3],\n",
    "                [6, -2, 1, 0]])\n",
    "\n",
    "lower_bound_price(A_1)"
   ]
  },
  {
   "cell_type": "code",
   "execution_count": 50,
   "id": "f4e69dcb",
   "metadata": {},
   "outputs": [
    {
     "data": {
      "text/plain": [
       "1"
      ]
     },
     "execution_count": 50,
     "metadata": {},
     "output_type": "execute_result"
    }
   ],
   "source": [
    "upper_bound_price(A_1)"
   ]
  },
  {
   "attachments": {
    "graph1.png": {
     "image/png": "[encoded data removed]"
    }
   },
   "cell_type": "markdown",
   "id": "f7e3c600",
   "metadata": {},
   "source": [
    "Таким образом, $\\alpha(A_1)\\neq \\beta(A_1)$. Решать задачу будем в смешанных стратегиях графическим методом.\n",
    "\n",
    "Предполагаем, что игрок 1 использует свою смешанную стратегию $$p^0 = (p_1, p_2)^T = (x, 1-x)^T,$$\n",
    "а игрок 2 использует свою чистую стратегию $j$. Тогда средний выигрыш игрока 1 равен $$g_j(x) = x a_{j1} + (1-x) a_{j2}.$$\n",
    "Чтобы нарисовать графики функций $y = g_j(x)$ на координатной плоскости $(x,y)$, мы проводим две вертикальных координатных оси, проходящие через точки $x=0$ и $x=1$.\n",
    "\n",
    "Затем рисуем графики функций $$y = g_1(x) = -2x + 6(1-x),$$\n",
    "$$y = g_2(x) = 3x -2(1-x),$$\n",
    "$$y = g_3(x) = -2x + (1-x),$$\n",
    "$$y = g_4(x) = 3x.$$\n",
    "![graph1.png](attachment:graph1.png)\n",
    "Функция $g(x) = \\min_{j\\in\\{1,2,3,4\\}} g_j(x)$ есть функция выигрышей игрока 1. Рисуем график $y=g(x)$ как нижнюю огибающую семейчтва прямых $y=g_j(x)$. Стремясь максимизировать свой выигрыщ, игрок 1 должен найти точку $x_0$ максимума функции $g(x)$. Тогда $(x_0,1-x_0)$ есть оптимальная стратегия игрока 1, $g(x_0)$ есть цена игры $\\nu(A_1)$.\n",
    "\n",
    "Точку $x_0$ можно вычислить как точку пересечения прямых $y=g_2(x)$ и $y=g_3(x)$. Тогда $$3x_0 -2(1-x_0) = -2x_0 + (1-x_0).$$\n",
    "Выражая отсюда $x_0$, получим $$x_0 = \\dfrac38.$$\n",
    "Отсюда оптимальная смешанная стратегия игрока 1 $$p^0 = \\left(\\dfrac38, \\dfrac58\\right).$$\n",
    "А цена игры высиялется как значение $g_2(x_0)$ или $g_3(x_0)$:\n",
    "$$\\nu(A_1)=g_2(x_0) = g_3(x_0) = -\\dfrac18.$$\n",
    "Теперь вычислим стратегию игрока 2. Использование неактивных стратегий не может увеличить выигрыш игрока 2. Если игрок 2 откажется от любой своей неактивной стратегии, то функция проигрышей игрока 1 может измениться, но минимум новой функции будет достигаться в той же самой точке $x_0$. Следовательно, можно считать, что игрок 1 применяет свои неактивные стратегии с нулевой вероятностью. В данном случае активными являются стратегии 2 и 3, а неактивными -- 1 и 4. Тогда\n",
    "$$q_1 = q_4 = 0,\\quad q_3 = 1-q_2.$$\n",
    "Найдем $q^0$, решая игру с учесенной матрицей $$A' = \\begin{bmatrix} 3 & -2 \\\\ -2 & 1\\end{bmatrix},$$ которая получается путем обрасывания столбцов матрицы, соответствующих неактивным стратегиям 1 и 4. \n",
    "\n",
    "Зная, что $q_3 = 1-q_2$, по первой строке матрицы $A'$ мы можем построить уравнение $$3q_2 - 2(1-q_2) = -\\dfrac18 = \\nu(A_1).$$\n",
    "Таким образом, $$q_2 = \\dfrac38.$$\n",
    "А отсюда имеем оптимальную стратегию игрока 2 равную $$q^0 = \\left(0, \\dfrac38, \\dfrac58, 0\\right)$$"
   ]
  },
  {
   "cell_type": "markdown",
   "id": "3a2a2096",
   "metadata": {},
   "source": [
    "## Игра с матрицей $A_2$\n",
    "Найдем решение игры для матрицы $A_2$.\n",
    "$$A_2 = \\begin{bmatrix} 2 & 3 \\\\ 6 & -2 \\\\ 0 & 2\\end{bmatrix}.$$\n",
    "Нижняя цена игры:\n",
    "$$\\alpha(A_2)=\\max\\limits_{1\\leq j\\leq 4}\\min\\limits_{1\\leq i\\leq 2}a_{ij}=2.$$\n",
    "Верхняя цена игры:\n",
    "$$\\beta(A_2)=\\min\\limits_{1\\leq i\\leq 2}\\max\\limits_{1\\leq j\\leq 4}a_{ij}=3.$$"
   ]
  },
  {
   "cell_type": "code",
   "execution_count": 52,
   "id": "7d06bbb9",
   "metadata": {},
   "outputs": [
    {
     "data": {
      "text/plain": [
       "2"
      ]
     },
     "execution_count": 52,
     "metadata": {},
     "output_type": "execute_result"
    }
   ],
   "source": [
    "A_2 = np.array([[2, 3],\n",
    "                [6, -2],\n",
    "                [0, 2]])\n",
    "\n",
    "lower_bound_price(A_2)"
   ]
  },
  {
   "cell_type": "code",
   "execution_count": 53,
   "id": "0e3f6773",
   "metadata": {},
   "outputs": [
    {
     "data": {
      "text/plain": [
       "3"
      ]
     },
     "execution_count": 53,
     "metadata": {},
     "output_type": "execute_result"
    }
   ],
   "source": [
    "upper_bound_price(A_2)"
   ]
  },
  {
   "attachments": {
    "graph2.png": {
     "image/png": "[encoded data removed]"
    }
   },
   "cell_type": "markdown",
   "id": "c074b13c",
   "metadata": {},
   "source": [
    "Таким образом, $\\alpha(A_2)\\neq \\beta(A_2)$. Решать задачу будем в смешанных стратегиях графическим методом.\n",
    "\n",
    "Предполагаем, что игрок 2 использует свою смешанную стратегию $$q^0 = (q_1, q_2)^T = (x, 1-x)^T,$$\n",
    "а игрок 1 использует свою чистую стратегию $i$. Тогда средний выигрыш игрока 1 2 равен $$g_i(x) = x a_{i1} + (1-x) a_{i2}.$$\n",
    "Чтобы нарисовать графики функций $y = g_i(x)$ на координатной плоскости $(x,y)$, мы проводим две вертикальных координатных оси, проходящие через точки $x=0$ и $x=1$.\n",
    "\n",
    "Затем рисуем графики функций \n",
    "$$y = g_1(x) = 2x + 3(1-x),$$\n",
    "$$y = g_2(x) = 6x -2(1-x),$$\n",
    "$$y = g_3(x) = 2(1-x),$$\n",
    "![graph2.png](attachment:graph2.png)\n",
    "Функция $g(x) = \\max_{i\\in\\{1,2,3\\}} g_i(x)$ есть функция проигрышей игрока 2. Рисуем график $y=g(x)$ как нижнюю огибающую семейчтва прямых $y=g_j(x)$. Стремясь минимизировать свой проигрыш, игрок 2 должен найти точку $x_0$ минимума функции $g(x)$. Тогда $(x_0,1-x_0)$ есть оптимальная стратегия игрока 1, $g(x_0)$ есть цена игры $\\nu(A_2)$.\n",
    "\n",
    "Точку $x_0$ можно вычислить как точку пересечения прямых $y=g_1(x)$ и $y=g_2(x)$. Тогда $$2x_0  + 3(1-x_0) = 6x_0 -2(1-x_0).$$\n",
    "Выражая отсюда $x_0$, получим $$x_0 = \\dfrac59.$$\n",
    "Отсюда оптимальная смешанная стратегия игрока 2 $$q^0 = \\left(\\dfrac59, \\dfrac49\\right).$$\n",
    "А цена игры вычисляется как значение $g_1(x_0)$ или $g_2(x_0)$:\n",
    "$$\\nu(A_2)=g_1(x_0) = g_2(x_0) = \\dfrac{22}9.$$\n",
    "Теперь вычислим стратегию игрока 1. В данном случае активными являются стратегии 1 и 2, а неактивными -- 3. Тогда\n",
    "$$p_2 = 1-p_1, \\quad p_3 = 0.$$\n",
    "Найдем $p^0$, решая игру с учесенной матрицей $$A' = \\begin{bmatrix} 2 & 3 \\\\ 6 & -2\\end{bmatrix},$$ которая получается путем обрасывания строки матрицы, соответствующей неактивной стратегии 3. \n",
    "\n",
    "Зная, что $p_2 = 1-p_1$, по первой строке матрицы $A'$ мы можем построить уравнение $$2p_1  + 3(1-p_1) = \\dfrac{22}9 = \\nu(A_2).$$\n",
    "Таким образом, $$p_1 = \\dfrac59.$$\n",
    "А отсюда имеем оптимальную стратегию игрока 1 равную $$p^0 = \\left(\\dfrac59, \\dfrac49, 0\\right).\n",
    "$$"
   ]
  },
  {
   "cell_type": "markdown",
   "id": "324d2138",
   "metadata": {},
   "source": [
    "# Задача 3"
   ]
  },
  {
   "cell_type": "markdown",
   "id": "e5d4546d",
   "metadata": {},
   "source": [
    "Планирование посева.\n",
    "\\begin{enumerate} \n",
    "  \\item Фермеру необходимо определить, в каких пропорциях сеять свое поле $5$ культурами, если урожайность этих культур, а, значит, и прибыль, зависят от того, каким будет лето: прохладным и дождливым, нормальным, или жарки и сухим.\n",
    "  \\item Фермер подсчитал чистую прибыль с $1$ га от разных культур в зависимости от погоды:\\\\\n",
    "\\begin{tabular}{ |p{2.5cm}|p{2cm}|p{2cm}|p{2cm}|p{2cm}|p{2cm}|}\n",
    " \\hline\n",
    "  & погода $1$ & погода $2$ & погода $3$ & погода $4$ & погода $5$  \\\\\n",
    " \\hline\n",
    " Культура 1& 2 & 4 & 1 & 4 & 2\\\\\n",
    "  \\hline\n",
    " Культура 2& 1 & 3 & 2 & 2 & 4\\\\\n",
    "  \\hline\n",
    " Культура 3& 3 & 2 & 5 & 2 & 3\\\\\n",
    "  \\hline\n",
    " Культура 4& 1 & 3 & 2 & 5 & 2\\\\\n",
    "  \\hline\n",
    " Культура 5& 2 & 1 & 3 & 3 & 2\\\\\n",
    " \\hline\n",
    "\\end{tabular}\n",
    "\\item здесь  фермера нет реального противника.\n",
    "\\item Но, если фермер планирует свою деятельность в расчете на наихудшие погодные условия, то можно считать Природу активным субъектом, который пытается создать наихудшую (с точки зрения фермера) погоду.\n",
    "\\item В таком случае, мы можем смоделировать задачу фермера как матричную игру, в которой фермер является игроком 1, а Природа -- игроком 2.\n",
    "\\item Матрица $A$ выигрышей в данной игре -- это таблица доходов фермера.\n",
    "\\end{enumerate}"
   ]
  },
  {
   "cell_type": "markdown",
   "id": "1ae2407a",
   "metadata": {},
   "source": [
    "Построим матрицу, соответствующую условию задачи:\n",
    "$$A = \\begin{bmatrix}\n",
    " 2 & 4 & 1 & 4 & 2\\\\\n",
    "1 & 3 & 2 & 2 & 4\\\\\n",
    "3 & 2 & 5 & 2 & 3\\\\\n",
    "1 & 3 & 2 & 5 & 2\\\\\n",
    "2 & 1 & 3 & 3 & 2\\\\\n",
    "\\end{bmatrix}.$$\n",
    "Вычислим нижнюю и верхнюю цены игры."
   ]
  },
  {
   "cell_type": "code",
   "execution_count": 59,
   "id": "059a5e12",
   "metadata": {},
   "outputs": [
    {
     "data": {
      "text/plain": [
       "2"
      ]
     },
     "execution_count": 59,
     "metadata": {},
     "output_type": "execute_result"
    }
   ],
   "source": [
    "A = np.array([[2, 4, 1, 4, 2],\n",
    "              [1, 3, 2, 2, 4],\n",
    "              [3, 2, 5, 2, 3],\n",
    "              [1, 3, 2, 5, 2],\n",
    "              [2, 1, 3, 3, 2]])\n",
    "\n",
    "lower_bound_price(A)"
   ]
  },
  {
   "cell_type": "code",
   "execution_count": 58,
   "id": "25f6563b",
   "metadata": {},
   "outputs": [
    {
     "data": {
      "text/plain": [
       "3"
      ]
     },
     "execution_count": 58,
     "metadata": {},
     "output_type": "execute_result"
    }
   ],
   "source": [
    "upper_bound_price(A)"
   ]
  },
  {
   "cell_type": "markdown",
   "id": "c13ebaec",
   "metadata": {},
   "source": [
    "Таким образом, $\\alpha(A) = 2 < 3 = \\beta(A)$, то есть игра не имеет решения в чистых стратегиях.\n",
    "\n",
    "Решим игру в смешанныз стратегиях. Поскольку $\\alpha = 2>0$, то матрицу $A$ не нужно модифицировать. \n",
    "\n",
    "Сведем решение матричной игры к решению задачи линейного программирования. Запишем получившуюся задачу линейного программирования:\n",
    "$$x_1 + x_2 + x_3 + x_4 + x_5 \\to \\max$$\n",
    "$$\\begin{cases}\n",
    "2x_1 +4x_2 +x_3 +4x_4 +2x_5 \\leq 1,\\\\\n",
    "x_1 +3x_2 +2x_3 +2x_4 +4x_5 \\leq 1,\\\\\n",
    "3x_1 + 2x_2 + 5x_3 + 2x_4 + 3x_5 \\leq 1,\\\\\n",
    "x_1 + 3x_2 + 2x_3 + 5x_4 + 2x_5 \\leq 1,\\\\\n",
    "2x_1 + 1x_2 + 3x_3 + 3x_4 + 2x_5 \\leq 1,\\\\\n",
    "\\end{cases}$$\n",
    "$$x_1, x_2, x_3, x_4, x_5 \\geq 0.$$\n",
    "\n",
    "С помощью библиотеки OR-Tools найдем решение данной задачи линейного программирования"
   ]
  },
  {
   "cell_type": "code",
   "execution_count": 73,
   "id": "cd88a9f4",
   "metadata": {},
   "outputs": [],
   "source": [
    "#!pip install ortools"
   ]
  },
  {
   "cell_type": "code",
   "execution_count": 93,
   "id": "6d417ad5",
   "metadata": {},
   "outputs": [
    {
     "name": "stdout",
     "output_type": "stream",
     "text": [
      "Solving with Glop solver v9.9.3963\n",
      "Objective value = 0.375\n",
      "x[1]  =  0.25\n",
      "x[2]  =  0.125\n",
      "x[3]  =  0.0\n",
      "x[4]  =  0.0\n",
      "x[5]  =  0.0\n",
      "\n",
      "Problem solved in 2 iterations\n"
     ]
    }
   ],
   "source": [
    "from ortools.linear_solver import pywraplp\n",
    "\n",
    "\n",
    "def create_data_model():\n",
    "    data = {}\n",
    "    data[\"constraint_coeffs\"] = [\n",
    "            [2, 4, 1, 4, 2],\n",
    "            [1, 3, 2, 2, 4],\n",
    "            [3, 2, 5, 2, 3],\n",
    "            [1, 3, 2, 5, 2],\n",
    "            [2, 1, 3, 3, 2],\n",
    "    ]\n",
    "    data[\"bounds\"] = [1, 1, 1, 1, 1]\n",
    "    data[\"obj_coeffs\"] = [1, 1, 1, 1, 1]\n",
    "    data[\"num_vars\"] = 5\n",
    "    data[\"num_constraints\"] = 5\n",
    "    return data\n",
    "\n",
    "\n",
    "def LinearProgramming():\n",
    "    data = create_data_model()\n",
    "    solver = pywraplp.Solver.CreateSolver(\"GLOP\")\n",
    "    if not solver:\n",
    "        return\n",
    "\n",
    "    infinity = solver.infinity()\n",
    "    x = {}\n",
    "    for j in range(data[\"num_vars\"]):\n",
    "        x[j] = solver.IntVar(0, infinity, \"x[%i]\" % (j+1))\n",
    "\n",
    "    for i in range(data['num_constraints']):\n",
    "        constraint_expr = [data['constraint_coeffs'][i][j] * x[j] for j in range(data['num_vars'])]\n",
    "        solver.Add(sum(constraint_expr) <= data['bounds'][i])\n",
    "\n",
    "    objective = solver.Objective()\n",
    "    for j in range(data[\"num_vars\"]):\n",
    "        obj_expr = [data['obj_coeffs'][j] * x[j] for j in range(data['num_vars'])]\n",
    "    solver.Maximize(solver.Sum(obj_expr))\n",
    "\n",
    "    print(f\"Solving with {solver.SolverVersion()}\")\n",
    "    status = solver.Solve()\n",
    "\n",
    "    if status == pywraplp.Solver.OPTIMAL:\n",
    "        print(\"Objective value =\", solver.Objective().Value())\n",
    "        for j in range(data[\"num_vars\"]):\n",
    "            print(x[j].name(), \" = \", x[j].solution_value())\n",
    "        print()\n",
    "        print(f\"Problem solved in {solver.iterations():d} iterations\")\n",
    "    else:\n",
    "        print(\"The problem does not have an optimal solution.\")\n",
    "\n",
    "LinearProgramming()"
   ]
  },
  {
   "cell_type": "markdown",
   "id": "8cd6fdb8",
   "metadata": {},
   "source": [
    "Составим задачу линейного программирования двойственную к составленной нами ранее\n",
    "$$y_1 + y_2 + y_3 + y_4 + y_5 \\to \\min$$\n",
    "$$\\begin{cases}\n",
    "2y_1 +4y_2 +y_3 +4y_4 +2y_5 \\geq 1,\\\\\n",
    "y_1 +3y_2 +2y_3 +2y_4 +4y_5 \\geq 1,\\\\\n",
    "3y_1 + 2y_2 + 5y_3 + 2y_4 + 3y_5 \\geq 1,\\\\\n",
    "y_1 + 3y_2 + 2y_3 + 5y_4 + 2y_5 \\geq 1,\\\\\n",
    "2y_1 + 1y_2 + 3y_3 + 3y_4 + 2y_5 \\geq 1,\\\\\n",
    "\\end{cases}$$\n",
    "$$y_1, y_2, y_3, y_4, y_5 \\geq 0.$$\n",
    "Также с помощью OR-Tools найдем решение двойственной задачи ЛП."
   ]
  },
  {
   "cell_type": "code",
   "execution_count": 94,
   "id": "c08925d1",
   "metadata": {},
   "outputs": [
    {
     "name": "stdout",
     "output_type": "stream",
     "text": [
      "Solving with Glop solver v9.9.3963\n",
      "Objective value = 0.375\n",
      "y[1]  =  0.0\n",
      "y[2]  =  0.0\n",
      "y[3]  =  0.08333333333333338\n",
      "y[4]  =  0.16666666666666666\n",
      "y[5]  =  0.12499999999999997\n",
      "\n",
      "Problem solved in 5 iterations\n"
     ]
    }
   ],
   "source": [
    "def DualLinearProgramming():\n",
    "    data = create_data_model()\n",
    "    solver = pywraplp.Solver.CreateSolver(\"GLOP\")\n",
    "    if not solver:\n",
    "        return\n",
    "\n",
    "    infinity = solver.infinity()\n",
    "    y = {}\n",
    "    for j in range(data[\"num_vars\"]):\n",
    "        y[j] = solver.IntVar(0, infinity, \"y[%i]\" % (j+1))\n",
    "\n",
    "    for i in range(data['num_constraints']):\n",
    "        constraint_expr = [data['constraint_coeffs'][i][j] * y[j] for j in range(data['num_vars'])]\n",
    "        solver.Add(sum(constraint_expr) >= data['bounds'][i])\n",
    "\n",
    "    objective = solver.Objective()\n",
    "    for j in range(data[\"num_vars\"]):\n",
    "        obj_expr = [data['obj_coeffs'][j] * y[j] for j in range(data['num_vars'])]\n",
    "    solver.Minimize(solver.Sum(obj_expr))\n",
    "\n",
    "    print(f\"Solving with {solver.SolverVersion()}\")\n",
    "    status = solver.Solve()\n",
    "\n",
    "    if status == pywraplp.Solver.OPTIMAL:\n",
    "        print(\"Objective value =\", solver.Objective().Value())\n",
    "        for j in range(data[\"num_vars\"]):\n",
    "            print(y[j].name(), \" = \", y[j].solution_value())\n",
    "        print()\n",
    "        print(f\"Problem solved in {solver.iterations():d} iterations\")\n",
    "    else:\n",
    "        print(\"The problem does not have an optimal solution.\")\n",
    "\n",
    "DualLinearProgramming()"
   ]
  },
  {
   "cell_type": "markdown",
   "id": "28f11db3",
   "metadata": {},
   "source": [
    "Итого имеем оптимальное решение исходной и двойственной к ней задач\n",
    "$$x^0 = \\begin{bmatrix} 0.25 \\\\ 0.125 \\\\ 0 \\\\ 0\\\\ 0\\end{bmatrix},\\quad y^0 = \\begin{bmatrix} 0 \\\\ 0 \\\\ \\frac{1}{12} \\\\ \\frac{1}{6} \\\\ \\frac{1}8\\end{bmatrix}$$\n",
    "Найдем цену игры:\n",
    "$$\\nu(A) = \\dfrac{1}{y_1^0 + y_2^0 + y_3^0 + y_4^0 + y_5^0} = \\dfrac{1}{\\frac{2}{24} + \\frac{4}{24} + \\frac{3}{24}} = \\dfrac{24}{9}\\approx 2.67.$$\n",
    "\n",
    "Тогда оптимальная стратегия игрока 1 равна $$p^0 = \\nu(A) y^0 = \\left(0, 0, \\dfrac29, \\dfrac49, \\dfrac39\\right).$$\n",
    "Оптимальная стратегия игрока 2 (природы) равна $$q^0 = \\nu(A) x^0 = \\left(\\dfrac23, \\dfrac13, 0, 0, 0\\right).$$\n",
    "\n",
    "Таким образом, смешанная стратегия рекомендует фермеру засеять $2/9$ поля культурной 3, $3/9$ культурой 4, $4/9$ культурой 5. При любой погоде доход фермера будет не меньшим цены $\\nu(A) = \\dfrac{24}9$ данной игры."
   ]
  },
  {
   "cell_type": "markdown",
   "id": "918e2d4b",
   "metadata": {},
   "source": [
    "# Задача 4"
   ]
  },
  {
   "cell_type": "markdown",
   "id": "6a498b9f",
   "metadata": {},
   "source": [
    "Магазин имеет некоторый запас товаров ассортиментного минимума. Если\n",
    "запас товаров недостаточен, то необходимо завести его с базы; если запас превышает спрос, то\n",
    "магазин несет расходы по хранению нереализованного товара. Пусть спрос на товары лежит в\n",
    "пределах $S$ ($5 \\leq S \\leq 8$ единиц), расходы по хранению одной единицы товара составляют $c$ руб., а\n",
    "расходы по завозу единицы товара $k$ руб., цена за единицу товара составляет $p$ руб. Составить\n",
    "платежную матрицу, элементами которой является прибыль магазина (доход от продажи с\n",
    "учетом расходов по хранению или по завозу). Определить оптимальную стратегию магазина\n",
    "по завозу товаров, используя критерии Вальда, Сэвиджа, Гурвица при $\\alpha = 0.5$, Лапласа.\n",
    "\n",
    "В соответствии с вариантом входные данные:\n",
    "\n",
    "- $p=350$ -- цена за единицу товара;\n",
    "\n",
    "- $c=60$ -- расход по хранению одной единицы товара;\n",
    "\n",
    "- $k=70$ -- расходы по завозу одной единицы товара.\n",
    "\n",
    "Матрица в общем виде, где по горизонтали необходимое количество товара, а по вертикали количество товара, которое есть в наличие, при условии, что количество товара изменяется от $5$ до $8$, имеет вид:\n",
    "$$\\begin{bmatrix}\n",
    "    5p & 6p-k & 7p-2k & 8p-3k\\\\\n",
    "    5p-c & 6p & 7p-k & 8p-2k\\\\\n",
    "    5p-2c & 6p-c & 7p & 8p-k\\\\\n",
    "    5p-3c & 6p-2c & 7p-c & 8p\n",
    "\\end{bmatrix}$$\n",
    "\n",
    "Вычислим программно вид матрицы при подставленных входных данных:"
   ]
  },
  {
   "cell_type": "code",
   "execution_count": 143,
   "id": "58fc81ba",
   "metadata": {},
   "outputs": [],
   "source": [
    "def init_matrix(p, c, k):\n",
    "    n = 4\n",
    "    matrix = np.zeros((n, n))\n",
    "    for i in range(n):\n",
    "        for j in range(n):\n",
    "            if i == j:\n",
    "                matrix[i, j] = (5+i)*p\n",
    "            for l in range(1, 4):\n",
    "                if i == j-l:\n",
    "                    matrix[i, j] = (5+j)*p - l*k\n",
    "            for l in range(1, 4):\n",
    "                if i == j+l:\n",
    "                    matrix[i, j] = (5+j)*p - l*c\n",
    "    return matrix"
   ]
  },
  {
   "cell_type": "code",
   "execution_count": 184,
   "id": "a2e191e0",
   "metadata": {},
   "outputs": [
    {
     "data": {
      "text/plain": [
       "array([[1750., 2030., 2310., 2590.],\n",
       "       [1690., 2100., 2380., 2660.],\n",
       "       [1630., 2040., 2450., 2730.],\n",
       "       [1570., 1980., 2390., 2800.]])"
      ]
     },
     "execution_count": 184,
     "metadata": {},
     "output_type": "execute_result"
    }
   ],
   "source": [
    "C = init_matrix(300, 50, 70)\n",
    "B = init_matrix(210, 20, 60)\n",
    "A = init_matrix(350, 60, 70)\n",
    "A"
   ]
  },
  {
   "cell_type": "markdown",
   "id": "5cc61aef",
   "metadata": {},
   "source": [
    "Воспользуемся критерием Вальда:\n",
    "$$W=\\max\\limits_i\\min\\limits_j a_{ij}.$$\n",
    "Программно реализуем функцию, которая будет вычислять значение W."
   ]
  },
  {
   "cell_type": "code",
   "execution_count": 158,
   "id": "5efa21de",
   "metadata": {},
   "outputs": [
    {
     "data": {
      "text/plain": [
       "1750.0"
      ]
     },
     "execution_count": 158,
     "metadata": {},
     "output_type": "execute_result"
    }
   ],
   "source": [
    "def W(A):\n",
    "        return A.min(axis=1).max()\n",
    "    \n",
    "W(A)"
   ]
  },
  {
   "cell_type": "markdown",
   "id": "156f1df4",
   "metadata": {},
   "source": [
    "То есть оптимальная стратегия -- завоз 5 единиц.\n",
    "\n",
    "Воспользуемся критерием Сэвиджа $$S=\\min\\limits_i\\max\\limits_j r_{ij}$$\n",
    "$$b_j=\\max\\limits_i a_{ij}$$\n",
    "$$r_{ij}=b_j-a_{ij}=a_{\\max j}-a_{ij}$$\n",
    "\n",
    "Составим компьютерный метод, который будем вычислять по соответствующим формулам матрицу $(r_{ij})$ и находить число $S$."
   ]
  },
  {
   "cell_type": "code",
   "execution_count": 203,
   "id": "0b2aac65",
   "metadata": {},
   "outputs": [],
   "source": [
    "def S(A):\n",
    "    r = np.array(A.shape)\n",
    "    b = A.max(axis=1)\n",
    "    r = np.array([b for _ in range(4)]) - A\n",
    "    S = r.max(axis=1).min()\n",
    "    return r, S"
   ]
  },
  {
   "cell_type": "code",
   "execution_count": 204,
   "id": "1e0812b2",
   "metadata": {},
   "outputs": [
    {
     "data": {
      "text/plain": [
       "(array([[ 840.,  630.,  420.,  210.],\n",
       "        [ 900.,  560.,  350.,  140.],\n",
       "        [ 960.,  620.,  280.,   70.],\n",
       "        [1020.,  680.,  340.,    0.]]),\n",
       " 840.0)"
      ]
     },
     "execution_count": 204,
     "metadata": {},
     "output_type": "execute_result"
    }
   ],
   "source": [
    "S(A)"
   ]
  },
  {
   "cell_type": "markdown",
   "id": "3f321056",
   "metadata": {},
   "source": [
    "Таким образом, максимальное значение риска по каждой строке равно $[840, 900, 960, 1020]$, а значение критерия Сэвиджа равно $S = 840$. Отсюда следует, что оптимальная стратегия -- завоз 5 товаров.\n",
    "\n",
    "Воспользуемся критерием Гурвица ($\\lambda=0.5$):\n",
    "$$H=\\max\\limits_i (\\lambda \\max\\limits_j a_{ij}+(1-\\lambda) \\min\\limits_j a_{ij})$$\n",
    "Составим программный метод, который возвращает получившийся вектор и максимальное значение в нем."
   ]
  },
  {
   "cell_type": "code",
   "execution_count": 214,
   "id": "dfed0b6d",
   "metadata": {},
   "outputs": [],
   "source": [
    "def H(A, l):\n",
    "    h = l * A.max(axis=1) + (1-l)*A.min(axis=1)\n",
    "    return h, h.max()"
   ]
  },
  {
   "cell_type": "code",
   "execution_count": 215,
   "id": "7fcd2098",
   "metadata": {},
   "outputs": [
    {
     "data": {
      "text/plain": [
       "(array([1275., 1295., 1315., 1335.]), 1335.0)"
      ]
     },
     "execution_count": 215,
     "metadata": {},
     "output_type": "execute_result"
    }
   ],
   "source": [
    "H(B, 0.5)"
   ]
  },
  {
   "cell_type": "markdown",
   "id": "a58f1dc5",
   "metadata": {},
   "source": [
    "Таким образом, вектор равен $[1275, 1295, 1315, 1335]$, а значение критерия Гурвица равно $H = 1335$.\n",
    "\n",
    "Воспользуемся критерием Лапласа:\n",
    "$$L=\\max\\limits_{i\\in \\overline{1,m}}\\frac{1}{n}\\sum\\limits_{j=1}^n a_{ij}.$$\n",
    "Составим программный метод, который возвращает получившийся вектор и максимальное значение в нем."
   ]
  },
  {
   "cell_type": "code",
   "execution_count": 221,
   "id": "fee2e41a",
   "metadata": {},
   "outputs": [],
   "source": [
    "def L(A):\n",
    "    l = np.mean(A, axis=1)\n",
    "    return l, l.max()"
   ]
  },
  {
   "cell_type": "code",
   "execution_count": 223,
   "id": "31445448",
   "metadata": {},
   "outputs": [
    {
     "data": {
      "text/plain": [
       "(array([2170. , 2207.5, 2212.5, 2185. ]), 2212.5)"
      ]
     },
     "execution_count": 223,
     "metadata": {},
     "output_type": "execute_result"
    }
   ],
   "source": [
    "L(A)"
   ]
  },
  {
   "cell_type": "markdown",
   "id": "442ce8e3",
   "metadata": {},
   "source": [
    "Таким образом, вектор равен $[2170, 2207.5, 2212.5, 2185]$, а значение критерия Лапласа равно $L = 2212.5$."
   ]
  }
 ],
 "metadata": {
  "kernelspec": {
   "display_name": "Python 3 (ipykernel)",
   "language": "python",
   "name": "python3"
  },
  "language_info": {
   "codemirror_mode": {
    "name": "ipython",
    "version": 3
   },
   "file_extension": ".py",
   "mimetype": "text/x-python",
   "name": "python",
   "nbconvert_exporter": "python",
   "pygments_lexer": "ipython3",
   "version": "3.11.5"
  }
 },
 "nbformat": 4,
 "nbformat_minor": 5
}
