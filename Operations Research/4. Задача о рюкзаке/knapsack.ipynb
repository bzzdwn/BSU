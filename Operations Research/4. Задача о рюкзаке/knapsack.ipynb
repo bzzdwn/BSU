{
 "cells": [
  {
   "cell_type": "code",
   "execution_count": 160,
   "id": "56df7565-6ce6-4456-bed5-80e0d74b6750",
   "metadata": {
    "tags": []
   },
   "outputs": [],
   "source": [
    "import pandas as pd\n",
    "import numpy as np\n",
    "\n",
    "def knapsack(v, weights, W):\n",
    "    n = len(weights)\n",
    "    f = np.zeros((n + 1, W + 1))\n",
    "    p = np.zeros((n + 1, W + 1))\n",
    "    for i in range(1, n + 1):\n",
    "        for w in range(1, W + 1):\n",
    "            if w >= weights[i - 1]:\n",
    "                f[i, w] = max([f[i - 1, w], f[i, w - weights[i - 1]] + v[i - 1]])\n",
    "            else:\n",
    "                f[i, w] = f[i - 1, w]\n",
    "            p[i, w] = int(f[i, w] != f[i - 1, w])\n",
    "            \n",
    "    table_list = []\n",
    "    for i in range(1, n+1):\n",
    "        table_list.append(pd.Series(f[i], name=f'f_{i}'))\n",
    "        table_list.append(pd.Series(p[i], name=f'p_{i}'))\n",
    "    table = pd.DataFrame(table_list).T\n",
    "    \n",
    "    taken_list = np.zeros_like(weights)\n",
    "    w = W\n",
    "    i = n\n",
    "    while i != 0 and w != 0:\n",
    "        if p[i, w] == 1:\n",
    "            taken_list[i - 1] += 1\n",
    "            w -= weights[i - 1]\n",
    "        else:\n",
    "            i -= 1\n",
    "    \n",
    "    return f[n, W], table, taken_list"
   ]
  },
  {
   "cell_type": "code",
   "execution_count": 159,
   "id": "a45ad4fa-0f50-4dbd-986c-94ed6971d52b",
   "metadata": {
    "tags": []
   },
   "outputs": [
    {
     "data": {
      "text/plain": [
       "(9.0,\n",
       "    f_1  p_1  f_2  p_2  f_3  p_3\n",
       " 0  0.0  0.0  0.0  0.0  0.0  0.0\n",
       " 1  0.0  0.0  0.0  0.0  0.0  0.0\n",
       " 2  1.0  1.0  3.0  1.0  3.0  0.0\n",
       " 3  1.0  1.0  3.0  1.0  4.0  1.0\n",
       " 4  2.0  1.0  6.0  1.0  6.0  0.0\n",
       " 5  2.0  1.0  6.0  1.0  7.0  1.0\n",
       " 6  3.0  1.0  9.0  1.0  9.0  0.0,\n",
       " array([0, 3, 0]))"
      ]
     },
     "execution_count": 159,
     "metadata": {},
     "output_type": "execute_result"
    }
   ],
   "source": [
    "v = [1,3,4]\n",
    "w = [2,2,3]\n",
    "W = 6\n",
    "knapsack(v, w, W)"
   ]
  },
  {
   "cell_type": "code",
   "execution_count": 161,
   "id": "7cee0b8f-e69b-4a80-8465-753d668e76fb",
   "metadata": {
    "tags": []
   },
   "outputs": [
    {
     "name": "stdout",
     "output_type": "stream",
     "text": [
      "Оптимальное решение задачи: 30.0\n",
      "     f_1  p_1   f_2  p_2   f_3  p_3\n",
      "0    0.0  0.0   0.0  0.0   0.0  0.0\n",
      "1    0.0  0.0   0.0  0.0   0.0  0.0\n",
      "2    0.0  0.0   0.0  0.0   0.0  0.0\n",
      "3    4.0  1.0   4.0  0.0   4.0  0.0\n",
      "4    4.0  1.0   8.0  1.0   8.0  0.0\n",
      "5    4.0  1.0   8.0  1.0  15.0  1.0\n",
      "6    8.0  1.0   8.0  0.0  15.0  1.0\n",
      "7    8.0  1.0  12.0  1.0  15.0  1.0\n",
      "8    8.0  1.0  16.0  1.0  19.0  1.0\n",
      "9   12.0  1.0  16.0  1.0  23.0  1.0\n",
      "10  12.0  1.0  16.0  1.0  30.0  1.0\n",
      "x_0 = 0\n",
      "x_1 = 0\n",
      "x_2 = 2\n"
     ]
    }
   ],
   "source": [
    "import pandas as pd\n",
    "import numpy as np\n",
    "\n",
    "def knapsack(v, weights, W):\n",
    "    n = len(weights)\n",
    "    f = np.zeros((n + 1, W + 1))\n",
    "    p = np.zeros((n + 1, W + 1))\n",
    "    for i in range(1, n + 1):\n",
    "        for w in range(1, W + 1):\n",
    "            if w >= weights[i - 1]:\n",
    "                f[i, w] = max([f[i - 1, w], f[i, w - weights[i - 1]] + v[i - 1]])\n",
    "            else:\n",
    "                f[i, w] = f[i - 1, w]\n",
    "            p[i, w] = int(f[i, w] != f[i - 1, w])\n",
    "            \n",
    "    table_list = []\n",
    "    for i in range(1, n+1):\n",
    "        table_list.append(pd.Series(f[i], name=f'f_{i}'))\n",
    "        table_list.append(pd.Series(p[i], name=f'p_{i}'))\n",
    "    table = pd.DataFrame(table_list).T\n",
    "    \n",
    "    taken_list = np.zeros_like(weights)\n",
    "    w = W\n",
    "    i = n\n",
    "    while i != 0 and w != 0:\n",
    "        if p[i, w] == 1:\n",
    "            taken_list[i - 1] += 1\n",
    "            w -= weights[i - 1]\n",
    "        else:\n",
    "            i -= 1\n",
    "    \n",
    "    return f[n, W], table, taken_list\n",
    "\n",
    "if __name__ == \"__main__\":\n",
    "    w = [4, 8, 15]\n",
    "    v = [3, 4, 5]\n",
    "    W = 10\n",
    "    result, table, taken_list = knapsack(w, v, W)\n",
    "    print('Оптимальное решение задачи:', result)\n",
    "    print(table)\n",
    "    for i in range(len(w)):\n",
    "        print(f'x_{i} = {taken_list[i]}')"
   ]
  },
  {
   "cell_type": "code",
   "execution_count": null,
   "id": "6a3ad78f-8bf1-4610-ab2a-57add8df8b0d",
   "metadata": {},
   "outputs": [],
   "source": []
  }
 ],
 "metadata": {
  "kernelspec": {
   "display_name": "Python 3 (ipykernel)",
   "language": "python",
   "name": "python3"
  },
  "language_info": {
   "codemirror_mode": {
    "name": "ipython",
    "version": 3
   },
   "file_extension": ".py",
   "mimetype": "text/x-python",
   "name": "python",
   "nbconvert_exporter": "python",
   "pygments_lexer": "ipython3",
   "version": "3.11.5"
  }
 },
 "nbformat": 4,
 "nbformat_minor": 5
}
