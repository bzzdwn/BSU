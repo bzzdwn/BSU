{
 "cells": [
  {
   "cell_type": "markdown",
   "id": "c48f2af4-fdce-435f-ab1a-3315b8278308",
   "metadata": {},
   "source": [
    "# Лабораторная работа 03 (проверка качества данных)"
   ]
  },
  {
   "cell_type": "code",
   "execution_count": 2,
   "id": "e18681e5-a83c-48ee-8ed5-fcc05a71dd9b",
   "metadata": {},
   "outputs": [],
   "source": [
    "import pandas as pd\n",
    "import numpy as np\n",
    "import seaborn as sns\n",
    "import matplotlib.pyplot as plt\n",
    "%matplotlib inline\n",
    "from datetime import datetime"
   ]
  },
  {
   "cell_type": "markdown",
   "id": "9b3e26e6-6a03-47f2-9ac0-d76cfdcd840f",
   "metadata": {},
   "source": [
    "# Задание 1: Проверка целостности данных.\n",
    "Используйте набор данных о продажах и проверьте, заполнены ли все необходимые поля. Если обнаружены пропущенные значения, определите, какой процент они составляют от общего количества данных. \n",
    "\n",
    "Набор данных для использования: \"Online Retail\" на Kaggle. Этот набор данных представляет собой транзакции, произошедшие в период с декабря 2010 по октябре 2011 года и зарегистрированные розничной компанией из Великобритании.\n",
    "\n",
    "Ссылка: https://www.kaggle.com/mashlyn/online-retail-ii-uci"
   ]
  },
  {
   "cell_type": "code",
   "execution_count": 4,
   "id": "ab761adb-a1db-4325-9d06-e3e2a6762ff0",
   "metadata": {},
   "outputs": [
    {
     "data": {
      "text/html": [
       "<div>\n",
       "<style scoped>\n",
       "    .dataframe tbody tr th:only-of-type {\n",
       "        vertical-align: middle;\n",
       "    }\n",
       "\n",
       "    .dataframe tbody tr th {\n",
       "        vertical-align: top;\n",
       "    }\n",
       "\n",
       "    .dataframe thead th {\n",
       "        text-align: right;\n",
       "    }\n",
       "</style>\n",
       "<table border=\"1\" class=\"dataframe\">\n",
       "  <thead>\n",
       "    <tr style=\"text-align: right;\">\n",
       "      <th></th>\n",
       "      <th>Invoice</th>\n",
       "      <th>StockCode</th>\n",
       "      <th>Description</th>\n",
       "      <th>Quantity</th>\n",
       "      <th>InvoiceDate</th>\n",
       "      <th>Price</th>\n",
       "      <th>Customer ID</th>\n",
       "      <th>Country</th>\n",
       "    </tr>\n",
       "  </thead>\n",
       "  <tbody>\n",
       "    <tr>\n",
       "      <th>0</th>\n",
       "      <td>489434</td>\n",
       "      <td>85048</td>\n",
       "      <td>15CM CHRISTMAS GLASS BALL 20 LIGHTS</td>\n",
       "      <td>12</td>\n",
       "      <td>2009-12-01 07:45:00</td>\n",
       "      <td>6.95</td>\n",
       "      <td>13085.0</td>\n",
       "      <td>United Kingdom</td>\n",
       "    </tr>\n",
       "    <tr>\n",
       "      <th>1</th>\n",
       "      <td>489434</td>\n",
       "      <td>79323P</td>\n",
       "      <td>PINK CHERRY LIGHTS</td>\n",
       "      <td>12</td>\n",
       "      <td>2009-12-01 07:45:00</td>\n",
       "      <td>6.75</td>\n",
       "      <td>13085.0</td>\n",
       "      <td>United Kingdom</td>\n",
       "    </tr>\n",
       "    <tr>\n",
       "      <th>2</th>\n",
       "      <td>489434</td>\n",
       "      <td>79323W</td>\n",
       "      <td>WHITE CHERRY LIGHTS</td>\n",
       "      <td>12</td>\n",
       "      <td>2009-12-01 07:45:00</td>\n",
       "      <td>6.75</td>\n",
       "      <td>13085.0</td>\n",
       "      <td>United Kingdom</td>\n",
       "    </tr>\n",
       "    <tr>\n",
       "      <th>3</th>\n",
       "      <td>489434</td>\n",
       "      <td>22041</td>\n",
       "      <td>RECORD FRAME 7\" SINGLE SIZE</td>\n",
       "      <td>48</td>\n",
       "      <td>2009-12-01 07:45:00</td>\n",
       "      <td>2.10</td>\n",
       "      <td>13085.0</td>\n",
       "      <td>United Kingdom</td>\n",
       "    </tr>\n",
       "    <tr>\n",
       "      <th>4</th>\n",
       "      <td>489434</td>\n",
       "      <td>21232</td>\n",
       "      <td>STRAWBERRY CERAMIC TRINKET BOX</td>\n",
       "      <td>24</td>\n",
       "      <td>2009-12-01 07:45:00</td>\n",
       "      <td>1.25</td>\n",
       "      <td>13085.0</td>\n",
       "      <td>United Kingdom</td>\n",
       "    </tr>\n",
       "  </tbody>\n",
       "</table>\n",
       "</div>"
      ],
      "text/plain": [
       "  Invoice StockCode                          Description  Quantity  \\\n",
       "0  489434     85048  15CM CHRISTMAS GLASS BALL 20 LIGHTS        12   \n",
       "1  489434    79323P                   PINK CHERRY LIGHTS        12   \n",
       "2  489434    79323W                  WHITE CHERRY LIGHTS        12   \n",
       "3  489434     22041         RECORD FRAME 7\" SINGLE SIZE         48   \n",
       "4  489434     21232       STRAWBERRY CERAMIC TRINKET BOX        24   \n",
       "\n",
       "           InvoiceDate  Price  Customer ID         Country  \n",
       "0  2009-12-01 07:45:00   6.95      13085.0  United Kingdom  \n",
       "1  2009-12-01 07:45:00   6.75      13085.0  United Kingdom  \n",
       "2  2009-12-01 07:45:00   6.75      13085.0  United Kingdom  \n",
       "3  2009-12-01 07:45:00   2.10      13085.0  United Kingdom  \n",
       "4  2009-12-01 07:45:00   1.25      13085.0  United Kingdom  "
      ]
     },
     "execution_count": 4,
     "metadata": {},
     "output_type": "execute_result"
    }
   ],
   "source": [
    "data = pd.read_csv('data/online_retail_II.csv')\n",
    "data.head()"
   ]
  },
  {
   "cell_type": "code",
   "execution_count": 5,
   "id": "091f6d4c-d85c-4286-adc7-7ee2b643c334",
   "metadata": {},
   "outputs": [
    {
     "name": "stdout",
     "output_type": "stream",
     "text": [
      "<class 'pandas.core.frame.DataFrame'>\n",
      "RangeIndex: 1067371 entries, 0 to 1067370\n",
      "Data columns (total 8 columns):\n",
      " #   Column       Non-Null Count    Dtype  \n",
      "---  ------       --------------    -----  \n",
      " 0   Invoice      1067371 non-null  object \n",
      " 1   StockCode    1067371 non-null  object \n",
      " 2   Description  1062989 non-null  object \n",
      " 3   Quantity     1067371 non-null  int64  \n",
      " 4   InvoiceDate  1067371 non-null  object \n",
      " 5   Price        1067371 non-null  float64\n",
      " 6   Customer ID  824364 non-null   float64\n",
      " 7   Country      1067371 non-null  object \n",
      "dtypes: float64(2), int64(1), object(5)\n",
      "memory usage: 65.1+ MB\n"
     ]
    }
   ],
   "source": [
    "data.info()"
   ]
  },
  {
   "cell_type": "markdown",
   "id": "f72158e1-9794-4156-8290-7fa120a39196",
   "metadata": {},
   "source": [
    "Рассмотрим количество пропущенных значений в соответствии с каждым столбцом"
   ]
  },
  {
   "cell_type": "code",
   "execution_count": 6,
   "id": "fb40a9be-3e5b-44aa-aa11-e63db4a04ffe",
   "metadata": {},
   "outputs": [
    {
     "data": {
      "text/plain": [
       "Invoice             0\n",
       "StockCode           0\n",
       "Description      4382\n",
       "Quantity            0\n",
       "InvoiceDate         0\n",
       "Price               0\n",
       "Customer ID    243007\n",
       "Country             0\n",
       "dtype: int64"
      ]
     },
     "execution_count": 6,
     "metadata": {},
     "output_type": "execute_result"
    }
   ],
   "source": [
    "null_values = data.isna().sum()\n",
    "null_values"
   ]
  },
  {
   "cell_type": "markdown",
   "id": "a2e83a61-db31-4a47-a50a-249d384d2185",
   "metadata": {},
   "source": [
    "Рассмотрим количество ненулевых значений в соответствии с каждым столбцом"
   ]
  },
  {
   "cell_type": "code",
   "execution_count": 9,
   "id": "9240ea97-4916-424f-81ae-30c2c78f0b0b",
   "metadata": {},
   "outputs": [
    {
     "data": {
      "text/plain": [
       "Invoice         0.000000\n",
       "StockCode       0.000000\n",
       "Description     0.412234\n",
       "Quantity        0.000000\n",
       "InvoiceDate     0.000000\n",
       "Price           0.000000\n",
       "Customer ID    29.478119\n",
       "Country         0.000000\n",
       "dtype: float64"
      ]
     },
     "execution_count": 9,
     "metadata": {},
     "output_type": "execute_result"
    }
   ],
   "source": [
    "null_values / data.count() * 100"
   ]
  },
  {
   "cell_type": "markdown",
   "id": "18f292b1-9bbd-47f3-a09b-3a419e8ba0b1",
   "metadata": {},
   "source": [
    "Таким образом, доля пропущенных значений в Description = $0.41\\%$, а в Customer ID = $29\\%$"
   ]
  },
  {
   "cell_type": "markdown",
   "id": "76b4f473-af63-4572-98e4-8596990cdc7b",
   "metadata": {},
   "source": [
    "# Задание 2: Проверка консистентности данных.\n",
    "Рассмотрите набор данных о климате и проверьте, соблюдаются ли форматы дат во всех записях. \n",
    "\n",
    "Набор данных для использования: \"Climate Change: Earth Surface Temperature Data\" на Kaggle. \n",
    "\n",
    "Ссылка: https://www.kaggle.com/berkeleyearth/climate-change-earth-surface-temperature-data"
   ]
  },
  {
   "cell_type": "code",
   "execution_count": 14,
   "id": "469ad15d-23d6-40c6-a7d5-9a1f693f5c51",
   "metadata": {},
   "outputs": [
    {
     "data": {
      "text/html": [
       "<div>\n",
       "<style scoped>\n",
       "    .dataframe tbody tr th:only-of-type {\n",
       "        vertical-align: middle;\n",
       "    }\n",
       "\n",
       "    .dataframe tbody tr th {\n",
       "        vertical-align: top;\n",
       "    }\n",
       "\n",
       "    .dataframe thead th {\n",
       "        text-align: right;\n",
       "    }\n",
       "</style>\n",
       "<table border=\"1\" class=\"dataframe\">\n",
       "  <thead>\n",
       "    <tr style=\"text-align: right;\">\n",
       "      <th></th>\n",
       "      <th>dt</th>\n",
       "      <th>LandAverageTemperature</th>\n",
       "      <th>LandAverageTemperatureUncertainty</th>\n",
       "      <th>LandMaxTemperature</th>\n",
       "      <th>LandMaxTemperatureUncertainty</th>\n",
       "      <th>LandMinTemperature</th>\n",
       "      <th>LandMinTemperatureUncertainty</th>\n",
       "      <th>LandAndOceanAverageTemperature</th>\n",
       "      <th>LandAndOceanAverageTemperatureUncertainty</th>\n",
       "    </tr>\n",
       "  </thead>\n",
       "  <tbody>\n",
       "    <tr>\n",
       "      <th>0</th>\n",
       "      <td>1750-01-01</td>\n",
       "      <td>3.034</td>\n",
       "      <td>3.574</td>\n",
       "      <td>NaN</td>\n",
       "      <td>NaN</td>\n",
       "      <td>NaN</td>\n",
       "      <td>NaN</td>\n",
       "      <td>NaN</td>\n",
       "      <td>NaN</td>\n",
       "    </tr>\n",
       "    <tr>\n",
       "      <th>1</th>\n",
       "      <td>1750-02-01</td>\n",
       "      <td>3.083</td>\n",
       "      <td>3.702</td>\n",
       "      <td>NaN</td>\n",
       "      <td>NaN</td>\n",
       "      <td>NaN</td>\n",
       "      <td>NaN</td>\n",
       "      <td>NaN</td>\n",
       "      <td>NaN</td>\n",
       "    </tr>\n",
       "    <tr>\n",
       "      <th>2</th>\n",
       "      <td>1750-03-01</td>\n",
       "      <td>5.626</td>\n",
       "      <td>3.076</td>\n",
       "      <td>NaN</td>\n",
       "      <td>NaN</td>\n",
       "      <td>NaN</td>\n",
       "      <td>NaN</td>\n",
       "      <td>NaN</td>\n",
       "      <td>NaN</td>\n",
       "    </tr>\n",
       "    <tr>\n",
       "      <th>3</th>\n",
       "      <td>1750-04-01</td>\n",
       "      <td>8.490</td>\n",
       "      <td>2.451</td>\n",
       "      <td>NaN</td>\n",
       "      <td>NaN</td>\n",
       "      <td>NaN</td>\n",
       "      <td>NaN</td>\n",
       "      <td>NaN</td>\n",
       "      <td>NaN</td>\n",
       "    </tr>\n",
       "    <tr>\n",
       "      <th>4</th>\n",
       "      <td>1750-05-01</td>\n",
       "      <td>11.573</td>\n",
       "      <td>2.072</td>\n",
       "      <td>NaN</td>\n",
       "      <td>NaN</td>\n",
       "      <td>NaN</td>\n",
       "      <td>NaN</td>\n",
       "      <td>NaN</td>\n",
       "      <td>NaN</td>\n",
       "    </tr>\n",
       "  </tbody>\n",
       "</table>\n",
       "</div>"
      ],
      "text/plain": [
       "           dt  LandAverageTemperature  LandAverageTemperatureUncertainty  \\\n",
       "0  1750-01-01                   3.034                              3.574   \n",
       "1  1750-02-01                   3.083                              3.702   \n",
       "2  1750-03-01                   5.626                              3.076   \n",
       "3  1750-04-01                   8.490                              2.451   \n",
       "4  1750-05-01                  11.573                              2.072   \n",
       "\n",
       "   LandMaxTemperature  LandMaxTemperatureUncertainty  LandMinTemperature  \\\n",
       "0                 NaN                            NaN                 NaN   \n",
       "1                 NaN                            NaN                 NaN   \n",
       "2                 NaN                            NaN                 NaN   \n",
       "3                 NaN                            NaN                 NaN   \n",
       "4                 NaN                            NaN                 NaN   \n",
       "\n",
       "   LandMinTemperatureUncertainty  LandAndOceanAverageTemperature  \\\n",
       "0                            NaN                             NaN   \n",
       "1                            NaN                             NaN   \n",
       "2                            NaN                             NaN   \n",
       "3                            NaN                             NaN   \n",
       "4                            NaN                             NaN   \n",
       "\n",
       "   LandAndOceanAverageTemperatureUncertainty  \n",
       "0                                        NaN  \n",
       "1                                        NaN  \n",
       "2                                        NaN  \n",
       "3                                        NaN  \n",
       "4                                        NaN  "
      ]
     },
     "execution_count": 14,
     "metadata": {},
     "output_type": "execute_result"
    }
   ],
   "source": [
    "data = pd.read_csv('data/GlobalTemperatures.csv')\n",
    "data.head()"
   ]
  },
  {
   "cell_type": "markdown",
   "id": "46b68e07-0608-4f32-bb91-af3c6a69e263",
   "metadata": {},
   "source": [
    "Определим метод для выявления некорректной даты."
   ]
  },
  {
   "cell_type": "code",
   "execution_count": 15,
   "id": "b1fe5305-b482-4606-8b79-89c7f77e0327",
   "metadata": {},
   "outputs": [
    {
     "data": {
      "text/html": [
       "<div>\n",
       "<style scoped>\n",
       "    .dataframe tbody tr th:only-of-type {\n",
       "        vertical-align: middle;\n",
       "    }\n",
       "\n",
       "    .dataframe tbody tr th {\n",
       "        vertical-align: top;\n",
       "    }\n",
       "\n",
       "    .dataframe thead th {\n",
       "        text-align: right;\n",
       "    }\n",
       "</style>\n",
       "<table border=\"1\" class=\"dataframe\">\n",
       "  <thead>\n",
       "    <tr style=\"text-align: right;\">\n",
       "      <th></th>\n",
       "      <th>dt</th>\n",
       "      <th>LandAverageTemperature</th>\n",
       "      <th>LandAverageTemperatureUncertainty</th>\n",
       "      <th>LandMaxTemperature</th>\n",
       "      <th>LandMaxTemperatureUncertainty</th>\n",
       "      <th>LandMinTemperature</th>\n",
       "      <th>LandMinTemperatureUncertainty</th>\n",
       "      <th>LandAndOceanAverageTemperature</th>\n",
       "      <th>LandAndOceanAverageTemperatureUncertainty</th>\n",
       "    </tr>\n",
       "  </thead>\n",
       "  <tbody>\n",
       "  </tbody>\n",
       "</table>\n",
       "</div>"
      ],
      "text/plain": [
       "Empty DataFrame\n",
       "Columns: [dt, LandAverageTemperature, LandAverageTemperatureUncertainty, LandMaxTemperature, LandMaxTemperatureUncertainty, LandMinTemperature, LandMinTemperatureUncertainty, LandAndOceanAverageTemperature, LandAndOceanAverageTemperatureUncertainty]\n",
       "Index: []"
      ]
     },
     "execution_count": 15,
     "metadata": {},
     "output_type": "execute_result"
    }
   ],
   "source": [
    "data['dt'] = pd.to_datetime(data['dt'], errors='coerce')\n",
    "incorrect_dates = data[data['dt'].isna()]\n",
    "\n",
    "incorrect_dates"
   ]
  },
  {
   "cell_type": "markdown",
   "id": "40ab340d-3120-4df8-83cc-5cde77357812",
   "metadata": {},
   "source": [
    "Таким образом, в датафрейме нет некорректно заданных дат."
   ]
  },
  {
   "cell_type": "markdown",
   "id": "f0f130e5-f72f-48fd-92a4-09b21175f0a3",
   "metadata": {},
   "source": [
    "Вручную были измененые некоторые даты в датафрейме. Загрузим датафрейм с некорректными датами"
   ]
  },
  {
   "cell_type": "code",
   "execution_count": 18,
   "id": "054201a6-f83a-4059-aa97-73f78be1ad4d",
   "metadata": {},
   "outputs": [
    {
     "data": {
      "text/html": [
       "<div>\n",
       "<style scoped>\n",
       "    .dataframe tbody tr th:only-of-type {\n",
       "        vertical-align: middle;\n",
       "    }\n",
       "\n",
       "    .dataframe tbody tr th {\n",
       "        vertical-align: top;\n",
       "    }\n",
       "\n",
       "    .dataframe thead th {\n",
       "        text-align: right;\n",
       "    }\n",
       "</style>\n",
       "<table border=\"1\" class=\"dataframe\">\n",
       "  <thead>\n",
       "    <tr style=\"text-align: right;\">\n",
       "      <th></th>\n",
       "      <th>dt</th>\n",
       "      <th>LandAverageTemperature</th>\n",
       "      <th>LandAverageTemperatureUncertainty</th>\n",
       "      <th>LandMaxTemperature</th>\n",
       "      <th>LandMaxTemperatureUncertainty</th>\n",
       "      <th>LandMinTemperature</th>\n",
       "      <th>LandMinTemperatureUncertainty</th>\n",
       "      <th>LandAndOceanAverageTemperature</th>\n",
       "      <th>LandAndOceanAverageTemperatureUncertainty</th>\n",
       "    </tr>\n",
       "  </thead>\n",
       "  <tbody>\n",
       "    <tr>\n",
       "      <th>0</th>\n",
       "      <td>1750-01-01</td>\n",
       "      <td>3.034</td>\n",
       "      <td>3.574</td>\n",
       "      <td>NaN</td>\n",
       "      <td>NaN</td>\n",
       "      <td>NaN</td>\n",
       "      <td>NaN</td>\n",
       "      <td>NaN</td>\n",
       "      <td>NaN</td>\n",
       "    </tr>\n",
       "    <tr>\n",
       "      <th>1</th>\n",
       "      <td>175002-01</td>\n",
       "      <td>3.083</td>\n",
       "      <td>3.702</td>\n",
       "      <td>NaN</td>\n",
       "      <td>NaN</td>\n",
       "      <td>NaN</td>\n",
       "      <td>NaN</td>\n",
       "      <td>NaN</td>\n",
       "      <td>NaN</td>\n",
       "    </tr>\n",
       "    <tr>\n",
       "      <th>2</th>\n",
       "      <td>1750-03-01</td>\n",
       "      <td>5.626</td>\n",
       "      <td>3.076</td>\n",
       "      <td>NaN</td>\n",
       "      <td>NaN</td>\n",
       "      <td>NaN</td>\n",
       "      <td>NaN</td>\n",
       "      <td>NaN</td>\n",
       "      <td>NaN</td>\n",
       "    </tr>\n",
       "    <tr>\n",
       "      <th>3</th>\n",
       "      <td>1750-04-01</td>\n",
       "      <td>8.490</td>\n",
       "      <td>2.451</td>\n",
       "      <td>NaN</td>\n",
       "      <td>NaN</td>\n",
       "      <td>NaN</td>\n",
       "      <td>NaN</td>\n",
       "      <td>NaN</td>\n",
       "      <td>NaN</td>\n",
       "    </tr>\n",
       "    <tr>\n",
       "      <th>4</th>\n",
       "      <td>1750-05-01</td>\n",
       "      <td>11.573</td>\n",
       "      <td>2.072</td>\n",
       "      <td>NaN</td>\n",
       "      <td>NaN</td>\n",
       "      <td>NaN</td>\n",
       "      <td>NaN</td>\n",
       "      <td>NaN</td>\n",
       "      <td>NaN</td>\n",
       "    </tr>\n",
       "    <tr>\n",
       "      <th>5</th>\n",
       "      <td>1750-06-01</td>\n",
       "      <td>12.937</td>\n",
       "      <td>1.724</td>\n",
       "      <td>NaN</td>\n",
       "      <td>NaN</td>\n",
       "      <td>NaN</td>\n",
       "      <td>NaN</td>\n",
       "      <td>NaN</td>\n",
       "      <td>NaN</td>\n",
       "    </tr>\n",
       "    <tr>\n",
       "      <th>6</th>\n",
       "      <td>1750-07</td>\n",
       "      <td>15.868</td>\n",
       "      <td>1.911</td>\n",
       "      <td>NaN</td>\n",
       "      <td>NaN</td>\n",
       "      <td>NaN</td>\n",
       "      <td>NaN</td>\n",
       "      <td>NaN</td>\n",
       "      <td>NaN</td>\n",
       "    </tr>\n",
       "    <tr>\n",
       "      <th>7</th>\n",
       "      <td>1750-08-01</td>\n",
       "      <td>14.750</td>\n",
       "      <td>2.231</td>\n",
       "      <td>NaN</td>\n",
       "      <td>NaN</td>\n",
       "      <td>NaN</td>\n",
       "      <td>NaN</td>\n",
       "      <td>NaN</td>\n",
       "      <td>NaN</td>\n",
       "    </tr>\n",
       "    <tr>\n",
       "      <th>8</th>\n",
       "      <td>1750-09-01</td>\n",
       "      <td>11.413</td>\n",
       "      <td>2.637</td>\n",
       "      <td>NaN</td>\n",
       "      <td>NaN</td>\n",
       "      <td>NaN</td>\n",
       "      <td>NaN</td>\n",
       "      <td>NaN</td>\n",
       "      <td>NaN</td>\n",
       "    </tr>\n",
       "    <tr>\n",
       "      <th>9</th>\n",
       "      <td>1750-10-01</td>\n",
       "      <td>6.367</td>\n",
       "      <td>2.668</td>\n",
       "      <td>NaN</td>\n",
       "      <td>NaN</td>\n",
       "      <td>NaN</td>\n",
       "      <td>NaN</td>\n",
       "      <td>NaN</td>\n",
       "      <td>NaN</td>\n",
       "    </tr>\n",
       "    <tr>\n",
       "      <th>10</th>\n",
       "      <td>19034-10-15</td>\n",
       "      <td>NaN</td>\n",
       "      <td>NaN</td>\n",
       "      <td>NaN</td>\n",
       "      <td>NaN</td>\n",
       "      <td>NaN</td>\n",
       "      <td>NaN</td>\n",
       "      <td>NaN</td>\n",
       "      <td>NaN</td>\n",
       "    </tr>\n",
       "  </tbody>\n",
       "</table>\n",
       "</div>"
      ],
      "text/plain": [
       "             dt  LandAverageTemperature  LandAverageTemperatureUncertainty  \\\n",
       "0    1750-01-01                   3.034                              3.574   \n",
       "1     175002-01                   3.083                              3.702   \n",
       "2    1750-03-01                   5.626                              3.076   \n",
       "3    1750-04-01                   8.490                              2.451   \n",
       "4    1750-05-01                  11.573                              2.072   \n",
       "5    1750-06-01                  12.937                              1.724   \n",
       "6       1750-07                  15.868                              1.911   \n",
       "7    1750-08-01                  14.750                              2.231   \n",
       "8    1750-09-01                  11.413                              2.637   \n",
       "9    1750-10-01                   6.367                              2.668   \n",
       "10  19034-10-15                     NaN                                NaN   \n",
       "\n",
       "    LandMaxTemperature  LandMaxTemperatureUncertainty  LandMinTemperature  \\\n",
       "0                  NaN                            NaN                 NaN   \n",
       "1                  NaN                            NaN                 NaN   \n",
       "2                  NaN                            NaN                 NaN   \n",
       "3                  NaN                            NaN                 NaN   \n",
       "4                  NaN                            NaN                 NaN   \n",
       "5                  NaN                            NaN                 NaN   \n",
       "6                  NaN                            NaN                 NaN   \n",
       "7                  NaN                            NaN                 NaN   \n",
       "8                  NaN                            NaN                 NaN   \n",
       "9                  NaN                            NaN                 NaN   \n",
       "10                 NaN                            NaN                 NaN   \n",
       "\n",
       "    LandMinTemperatureUncertainty  LandAndOceanAverageTemperature  \\\n",
       "0                             NaN                             NaN   \n",
       "1                             NaN                             NaN   \n",
       "2                             NaN                             NaN   \n",
       "3                             NaN                             NaN   \n",
       "4                             NaN                             NaN   \n",
       "5                             NaN                             NaN   \n",
       "6                             NaN                             NaN   \n",
       "7                             NaN                             NaN   \n",
       "8                             NaN                             NaN   \n",
       "9                             NaN                             NaN   \n",
       "10                            NaN                             NaN   \n",
       "\n",
       "    LandAndOceanAverageTemperatureUncertainty  \n",
       "0                                         NaN  \n",
       "1                                         NaN  \n",
       "2                                         NaN  \n",
       "3                                         NaN  \n",
       "4                                         NaN  \n",
       "5                                         NaN  \n",
       "6                                         NaN  \n",
       "7                                         NaN  \n",
       "8                                         NaN  \n",
       "9                                         NaN  \n",
       "10                                        NaN  "
      ]
     },
     "execution_count": 18,
     "metadata": {},
     "output_type": "execute_result"
    }
   ],
   "source": [
    "data = pd.read_csv('data/GlobalTemperaturesIncorrect.csv')\n",
    "data.head(11)"
   ]
  },
  {
   "cell_type": "code",
   "execution_count": 45,
   "id": "4a793e2b-76ad-4957-a2d4-f613fb002fce",
   "metadata": {},
   "outputs": [
    {
     "data": {
      "text/html": [
       "<div>\n",
       "<style scoped>\n",
       "    .dataframe tbody tr th:only-of-type {\n",
       "        vertical-align: middle;\n",
       "    }\n",
       "\n",
       "    .dataframe tbody tr th {\n",
       "        vertical-align: top;\n",
       "    }\n",
       "\n",
       "    .dataframe thead th {\n",
       "        text-align: right;\n",
       "    }\n",
       "</style>\n",
       "<table border=\"1\" class=\"dataframe\">\n",
       "  <thead>\n",
       "    <tr style=\"text-align: right;\">\n",
       "      <th></th>\n",
       "      <th>dt</th>\n",
       "      <th>LandAverageTemperature</th>\n",
       "      <th>LandAverageTemperatureUncertainty</th>\n",
       "      <th>LandMaxTemperature</th>\n",
       "      <th>LandMaxTemperatureUncertainty</th>\n",
       "      <th>LandMinTemperature</th>\n",
       "      <th>LandMinTemperatureUncertainty</th>\n",
       "      <th>LandAndOceanAverageTemperature</th>\n",
       "      <th>LandAndOceanAverageTemperatureUncertainty</th>\n",
       "    </tr>\n",
       "  </thead>\n",
       "  <tbody>\n",
       "    <tr>\n",
       "      <th>1</th>\n",
       "      <td>NaT</td>\n",
       "      <td>3.083</td>\n",
       "      <td>3.702</td>\n",
       "      <td>NaN</td>\n",
       "      <td>NaN</td>\n",
       "      <td>NaN</td>\n",
       "      <td>NaN</td>\n",
       "      <td>NaN</td>\n",
       "      <td>NaN</td>\n",
       "    </tr>\n",
       "    <tr>\n",
       "      <th>6</th>\n",
       "      <td>NaT</td>\n",
       "      <td>15.868</td>\n",
       "      <td>1.911</td>\n",
       "      <td>NaN</td>\n",
       "      <td>NaN</td>\n",
       "      <td>NaN</td>\n",
       "      <td>NaN</td>\n",
       "      <td>NaN</td>\n",
       "      <td>NaN</td>\n",
       "    </tr>\n",
       "    <tr>\n",
       "      <th>10</th>\n",
       "      <td>NaT</td>\n",
       "      <td>NaN</td>\n",
       "      <td>NaN</td>\n",
       "      <td>NaN</td>\n",
       "      <td>NaN</td>\n",
       "      <td>NaN</td>\n",
       "      <td>NaN</td>\n",
       "      <td>NaN</td>\n",
       "      <td>NaN</td>\n",
       "    </tr>\n",
       "  </tbody>\n",
       "</table>\n",
       "</div>"
      ],
      "text/plain": [
       "    dt  LandAverageTemperature  LandAverageTemperatureUncertainty  \\\n",
       "1  NaT                   3.083                              3.702   \n",
       "6  NaT                  15.868                              1.911   \n",
       "10 NaT                     NaN                                NaN   \n",
       "\n",
       "    LandMaxTemperature  LandMaxTemperatureUncertainty  LandMinTemperature  \\\n",
       "1                  NaN                            NaN                 NaN   \n",
       "6                  NaN                            NaN                 NaN   \n",
       "10                 NaN                            NaN                 NaN   \n",
       "\n",
       "    LandMinTemperatureUncertainty  LandAndOceanAverageTemperature  \\\n",
       "1                             NaN                             NaN   \n",
       "6                             NaN                             NaN   \n",
       "10                            NaN                             NaN   \n",
       "\n",
       "    LandAndOceanAverageTemperatureUncertainty  \n",
       "1                                         NaN  \n",
       "6                                         NaN  \n",
       "10                                        NaN  "
      ]
     },
     "execution_count": 45,
     "metadata": {},
     "output_type": "execute_result"
    }
   ],
   "source": [
    "data['dt'] = pd.to_datetime(data['dt'], errors='coerce')\n",
    "incorrect_dates = data[data['dt'].isna()]\n",
    "\n",
    "incorrect_dates"
   ]
  },
  {
   "cell_type": "markdown",
   "id": "3260593b-f4b9-4d52-8005-c71b6638c173",
   "metadata": {},
   "source": [
    "Как можно видеть, функция верно определила некорректно заданные даты."
   ]
  },
  {
   "cell_type": "markdown",
   "id": "8a26daad-0bdc-4ab7-a859-a5a907335655",
   "metadata": {},
   "source": [
    "# Задание 3: Проверка актуальности данных.\n",
    "\n",
    "Анализируя набор данных о твитах, проверьте даты публикации твитов и определите, какие из них актуальны на текущий момент.\n",
    "\n",
    "Набор данных для использования: \"COVID19 Tweets\" на Kaggle, включающий твиты о пандемии COVID-19.\n",
    "\n",
    "Ссылка: https://www.kaggle.com/gpreda/covid19-tweets"
   ]
  },
  {
   "cell_type": "code",
   "execution_count": 67,
   "id": "6a209064-0c4c-42f9-a7ad-549e6dfb66f9",
   "metadata": {},
   "outputs": [
    {
     "data": {
      "text/html": [
       "<div>\n",
       "<style scoped>\n",
       "    .dataframe tbody tr th:only-of-type {\n",
       "        vertical-align: middle;\n",
       "    }\n",
       "\n",
       "    .dataframe tbody tr th {\n",
       "        vertical-align: top;\n",
       "    }\n",
       "\n",
       "    .dataframe thead th {\n",
       "        text-align: right;\n",
       "    }\n",
       "</style>\n",
       "<table border=\"1\" class=\"dataframe\">\n",
       "  <thead>\n",
       "    <tr style=\"text-align: right;\">\n",
       "      <th></th>\n",
       "      <th>user_name</th>\n",
       "      <th>user_location</th>\n",
       "      <th>user_description</th>\n",
       "      <th>user_created</th>\n",
       "      <th>user_followers</th>\n",
       "      <th>user_friends</th>\n",
       "      <th>user_favourites</th>\n",
       "      <th>user_verified</th>\n",
       "      <th>date</th>\n",
       "      <th>text</th>\n",
       "      <th>hashtags</th>\n",
       "      <th>source</th>\n",
       "      <th>is_retweet</th>\n",
       "    </tr>\n",
       "  </thead>\n",
       "  <tbody>\n",
       "    <tr>\n",
       "      <th>0</th>\n",
       "      <td>ᏉᎥ☻լꂅϮ</td>\n",
       "      <td>astroworld</td>\n",
       "      <td>wednesday addams as a disney princess keepin i...</td>\n",
       "      <td>2017-05-26 05:46:42</td>\n",
       "      <td>624</td>\n",
       "      <td>950</td>\n",
       "      <td>18775</td>\n",
       "      <td>False</td>\n",
       "      <td>2020-07-25 12:27:21</td>\n",
       "      <td>If I smelled the scent of hand sanitizers toda...</td>\n",
       "      <td>NaN</td>\n",
       "      <td>Twitter for iPhone</td>\n",
       "      <td>False</td>\n",
       "    </tr>\n",
       "    <tr>\n",
       "      <th>1</th>\n",
       "      <td>Tom Basile 🇺🇸</td>\n",
       "      <td>New York, NY</td>\n",
       "      <td>Husband, Father, Columnist &amp; Commentator. Auth...</td>\n",
       "      <td>2009-04-16 20:06:23</td>\n",
       "      <td>2253</td>\n",
       "      <td>1677</td>\n",
       "      <td>24</td>\n",
       "      <td>True</td>\n",
       "      <td>2020-07-25 12:27:17</td>\n",
       "      <td>Hey @Yankees @YankeesPR and @MLB - wouldn't it...</td>\n",
       "      <td>NaN</td>\n",
       "      <td>Twitter for Android</td>\n",
       "      <td>False</td>\n",
       "    </tr>\n",
       "    <tr>\n",
       "      <th>2</th>\n",
       "      <td>Time4fisticuffs</td>\n",
       "      <td>Pewee Valley, KY</td>\n",
       "      <td>#Christian #Catholic #Conservative #Reagan #Re...</td>\n",
       "      <td>2009-02-28 18:57:41</td>\n",
       "      <td>9275</td>\n",
       "      <td>9525</td>\n",
       "      <td>7254</td>\n",
       "      <td>False</td>\n",
       "      <td>2020-07-25 12:27:14</td>\n",
       "      <td>@diane3443 @wdunlap @realDonaldTrump Trump nev...</td>\n",
       "      <td>['COVID19']</td>\n",
       "      <td>Twitter for Android</td>\n",
       "      <td>False</td>\n",
       "    </tr>\n",
       "    <tr>\n",
       "      <th>3</th>\n",
       "      <td>ethel mertz</td>\n",
       "      <td>Stuck in the Middle</td>\n",
       "      <td>#Browns #Indians #ClevelandProud #[]_[] #Cavs ...</td>\n",
       "      <td>2019-03-07 01:45:06</td>\n",
       "      <td>197</td>\n",
       "      <td>987</td>\n",
       "      <td>1488</td>\n",
       "      <td>False</td>\n",
       "      <td>2020-07-25 12:27:10</td>\n",
       "      <td>@brookbanktv The one gift #COVID19 has give me...</td>\n",
       "      <td>['COVID19']</td>\n",
       "      <td>Twitter for iPhone</td>\n",
       "      <td>False</td>\n",
       "    </tr>\n",
       "    <tr>\n",
       "      <th>4</th>\n",
       "      <td>DIPR-J&amp;K</td>\n",
       "      <td>Jammu and Kashmir</td>\n",
       "      <td>🖊️Official Twitter handle of Department of Inf...</td>\n",
       "      <td>2017-02-12 06:45:15</td>\n",
       "      <td>101009</td>\n",
       "      <td>168</td>\n",
       "      <td>101</td>\n",
       "      <td>False</td>\n",
       "      <td>2020-07-25 12:27:08</td>\n",
       "      <td>25 July : Media Bulletin on Novel #CoronaVirus...</td>\n",
       "      <td>['CoronaVirusUpdates', 'COVID19']</td>\n",
       "      <td>Twitter for Android</td>\n",
       "      <td>False</td>\n",
       "    </tr>\n",
       "  </tbody>\n",
       "</table>\n",
       "</div>"
      ],
      "text/plain": [
       "         user_name         user_location  \\\n",
       "0           ᏉᎥ☻լꂅϮ            astroworld   \n",
       "1    Tom Basile 🇺🇸          New York, NY   \n",
       "2  Time4fisticuffs      Pewee Valley, KY   \n",
       "3      ethel mertz  Stuck in the Middle    \n",
       "4         DIPR-J&K     Jammu and Kashmir   \n",
       "\n",
       "                                    user_description         user_created  \\\n",
       "0  wednesday addams as a disney princess keepin i...  2017-05-26 05:46:42   \n",
       "1  Husband, Father, Columnist & Commentator. Auth...  2009-04-16 20:06:23   \n",
       "2  #Christian #Catholic #Conservative #Reagan #Re...  2009-02-28 18:57:41   \n",
       "3  #Browns #Indians #ClevelandProud #[]_[] #Cavs ...  2019-03-07 01:45:06   \n",
       "4  🖊️Official Twitter handle of Department of Inf...  2017-02-12 06:45:15   \n",
       "\n",
       "   user_followers  user_friends  user_favourites  user_verified  \\\n",
       "0             624           950            18775          False   \n",
       "1            2253          1677               24           True   \n",
       "2            9275          9525             7254          False   \n",
       "3             197           987             1488          False   \n",
       "4          101009           168              101          False   \n",
       "\n",
       "                  date                                               text  \\\n",
       "0  2020-07-25 12:27:21  If I smelled the scent of hand sanitizers toda...   \n",
       "1  2020-07-25 12:27:17  Hey @Yankees @YankeesPR and @MLB - wouldn't it...   \n",
       "2  2020-07-25 12:27:14  @diane3443 @wdunlap @realDonaldTrump Trump nev...   \n",
       "3  2020-07-25 12:27:10  @brookbanktv The one gift #COVID19 has give me...   \n",
       "4  2020-07-25 12:27:08  25 July : Media Bulletin on Novel #CoronaVirus...   \n",
       "\n",
       "                            hashtags               source  is_retweet  \n",
       "0                                NaN   Twitter for iPhone       False  \n",
       "1                                NaN  Twitter for Android       False  \n",
       "2                        ['COVID19']  Twitter for Android       False  \n",
       "3                        ['COVID19']   Twitter for iPhone       False  \n",
       "4  ['CoronaVirusUpdates', 'COVID19']  Twitter for Android       False  "
      ]
     },
     "execution_count": 67,
     "metadata": {},
     "output_type": "execute_result"
    }
   ],
   "source": [
    "data = pd.read_csv('data/covid19_tweets.csv')\n",
    "data.head()"
   ]
  },
  {
   "cell_type": "code",
   "execution_count": 71,
   "id": "3ab9ac45-3ca4-46ca-924e-15ae7a5da4bc",
   "metadata": {},
   "outputs": [],
   "source": [
    "data['date'] = pd.to_datetime(data['date'], errors = 'coerce')"
   ]
  },
  {
   "cell_type": "markdown",
   "id": "8f064dae-8333-4343-9c07-1d12bb5c8a51",
   "metadata": {},
   "source": [
    "Введем переменную, отвечающую за сегодняшнюю дату"
   ]
  },
  {
   "cell_type": "code",
   "execution_count": 80,
   "id": "0051ab8f-cae9-4031-b5e4-2b5289f8db0f",
   "metadata": {},
   "outputs": [
    {
     "data": {
      "text/plain": [
       "datetime.datetime(2024, 9, 26, 18, 24, 25, 764493)"
      ]
     },
     "execution_count": 80,
     "metadata": {},
     "output_type": "execute_result"
    }
   ],
   "source": [
    "actual_date = datetime.today()\n",
    "actual_date"
   ]
  },
  {
   "cell_type": "markdown",
   "id": "3bc6f5a5-4f58-4d68-a9aa-18bd015dea73",
   "metadata": {},
   "source": [
    "Определим метод, который будет возвращать True или False  в зависимости от того, является ли дата актуальной. К примеру, установим стандартное значение актуальности даты - 30 дней."
   ]
  },
  {
   "cell_type": "code",
   "execution_count": 89,
   "id": "98958025-0478-4d82-b5bb-1537569c2323",
   "metadata": {},
   "outputs": [],
   "source": [
    "def is_actual_date(object_date, actual_date, days=30):\n",
    "    return (actual_date - object_date).days <= days"
   ]
  },
  {
   "cell_type": "markdown",
   "id": "a8e5479f-6a3c-4490-b472-4927f9f76b8f",
   "metadata": {},
   "source": [
    "Добавляем к исходным данным новый столбец, который обозначает, является ли дата актуальной"
   ]
  },
  {
   "cell_type": "code",
   "execution_count": 103,
   "id": "49fa759b-7a31-472b-b619-fecca0dde27c",
   "metadata": {},
   "outputs": [],
   "source": [
    "data['is_actual'] = data.date.apply(lambda object_date: is_actual_date(object_date, actual_date))"
   ]
  },
  {
   "cell_type": "code",
   "execution_count": 104,
   "id": "1221d5d6-24bb-438f-b56b-afc43a656b98",
   "metadata": {},
   "outputs": [
    {
     "data": {
      "text/html": [
       "<div>\n",
       "<style scoped>\n",
       "    .dataframe tbody tr th:only-of-type {\n",
       "        vertical-align: middle;\n",
       "    }\n",
       "\n",
       "    .dataframe tbody tr th {\n",
       "        vertical-align: top;\n",
       "    }\n",
       "\n",
       "    .dataframe thead th {\n",
       "        text-align: right;\n",
       "    }\n",
       "</style>\n",
       "<table border=\"1\" class=\"dataframe\">\n",
       "  <thead>\n",
       "    <tr style=\"text-align: right;\">\n",
       "      <th></th>\n",
       "      <th>user_name</th>\n",
       "      <th>user_location</th>\n",
       "      <th>user_description</th>\n",
       "      <th>user_created</th>\n",
       "      <th>user_followers</th>\n",
       "      <th>user_friends</th>\n",
       "      <th>user_favourites</th>\n",
       "      <th>user_verified</th>\n",
       "      <th>date</th>\n",
       "      <th>text</th>\n",
       "      <th>hashtags</th>\n",
       "      <th>source</th>\n",
       "      <th>is_retweet</th>\n",
       "      <th>is_actual</th>\n",
       "    </tr>\n",
       "  </thead>\n",
       "  <tbody>\n",
       "    <tr>\n",
       "      <th>0</th>\n",
       "      <td>ᏉᎥ☻լꂅϮ</td>\n",
       "      <td>astroworld</td>\n",
       "      <td>wednesday addams as a disney princess keepin i...</td>\n",
       "      <td>2017-05-26 05:46:42</td>\n",
       "      <td>624</td>\n",
       "      <td>950</td>\n",
       "      <td>18775</td>\n",
       "      <td>False</td>\n",
       "      <td>2020-07-25 12:27:21</td>\n",
       "      <td>If I smelled the scent of hand sanitizers toda...</td>\n",
       "      <td>NaN</td>\n",
       "      <td>Twitter for iPhone</td>\n",
       "      <td>False</td>\n",
       "      <td>False</td>\n",
       "    </tr>\n",
       "    <tr>\n",
       "      <th>1</th>\n",
       "      <td>Tom Basile 🇺🇸</td>\n",
       "      <td>New York, NY</td>\n",
       "      <td>Husband, Father, Columnist &amp; Commentator. Auth...</td>\n",
       "      <td>2009-04-16 20:06:23</td>\n",
       "      <td>2253</td>\n",
       "      <td>1677</td>\n",
       "      <td>24</td>\n",
       "      <td>True</td>\n",
       "      <td>2020-07-25 12:27:17</td>\n",
       "      <td>Hey @Yankees @YankeesPR and @MLB - wouldn't it...</td>\n",
       "      <td>NaN</td>\n",
       "      <td>Twitter for Android</td>\n",
       "      <td>False</td>\n",
       "      <td>False</td>\n",
       "    </tr>\n",
       "    <tr>\n",
       "      <th>2</th>\n",
       "      <td>Time4fisticuffs</td>\n",
       "      <td>Pewee Valley, KY</td>\n",
       "      <td>#Christian #Catholic #Conservative #Reagan #Re...</td>\n",
       "      <td>2009-02-28 18:57:41</td>\n",
       "      <td>9275</td>\n",
       "      <td>9525</td>\n",
       "      <td>7254</td>\n",
       "      <td>False</td>\n",
       "      <td>2020-07-25 12:27:14</td>\n",
       "      <td>@diane3443 @wdunlap @realDonaldTrump Trump nev...</td>\n",
       "      <td>['COVID19']</td>\n",
       "      <td>Twitter for Android</td>\n",
       "      <td>False</td>\n",
       "      <td>False</td>\n",
       "    </tr>\n",
       "    <tr>\n",
       "      <th>3</th>\n",
       "      <td>ethel mertz</td>\n",
       "      <td>Stuck in the Middle</td>\n",
       "      <td>#Browns #Indians #ClevelandProud #[]_[] #Cavs ...</td>\n",
       "      <td>2019-03-07 01:45:06</td>\n",
       "      <td>197</td>\n",
       "      <td>987</td>\n",
       "      <td>1488</td>\n",
       "      <td>False</td>\n",
       "      <td>2020-07-25 12:27:10</td>\n",
       "      <td>@brookbanktv The one gift #COVID19 has give me...</td>\n",
       "      <td>['COVID19']</td>\n",
       "      <td>Twitter for iPhone</td>\n",
       "      <td>False</td>\n",
       "      <td>False</td>\n",
       "    </tr>\n",
       "    <tr>\n",
       "      <th>4</th>\n",
       "      <td>DIPR-J&amp;K</td>\n",
       "      <td>Jammu and Kashmir</td>\n",
       "      <td>🖊️Official Twitter handle of Department of Inf...</td>\n",
       "      <td>2017-02-12 06:45:15</td>\n",
       "      <td>101009</td>\n",
       "      <td>168</td>\n",
       "      <td>101</td>\n",
       "      <td>False</td>\n",
       "      <td>2020-07-25 12:27:08</td>\n",
       "      <td>25 July : Media Bulletin on Novel #CoronaVirus...</td>\n",
       "      <td>['CoronaVirusUpdates', 'COVID19']</td>\n",
       "      <td>Twitter for Android</td>\n",
       "      <td>False</td>\n",
       "      <td>False</td>\n",
       "    </tr>\n",
       "  </tbody>\n",
       "</table>\n",
       "</div>"
      ],
      "text/plain": [
       "         user_name         user_location  \\\n",
       "0           ᏉᎥ☻լꂅϮ            astroworld   \n",
       "1    Tom Basile 🇺🇸          New York, NY   \n",
       "2  Time4fisticuffs      Pewee Valley, KY   \n",
       "3      ethel mertz  Stuck in the Middle    \n",
       "4         DIPR-J&K     Jammu and Kashmir   \n",
       "\n",
       "                                    user_description         user_created  \\\n",
       "0  wednesday addams as a disney princess keepin i...  2017-05-26 05:46:42   \n",
       "1  Husband, Father, Columnist & Commentator. Auth...  2009-04-16 20:06:23   \n",
       "2  #Christian #Catholic #Conservative #Reagan #Re...  2009-02-28 18:57:41   \n",
       "3  #Browns #Indians #ClevelandProud #[]_[] #Cavs ...  2019-03-07 01:45:06   \n",
       "4  🖊️Official Twitter handle of Department of Inf...  2017-02-12 06:45:15   \n",
       "\n",
       "   user_followers  user_friends  user_favourites  user_verified  \\\n",
       "0             624           950            18775          False   \n",
       "1            2253          1677               24           True   \n",
       "2            9275          9525             7254          False   \n",
       "3             197           987             1488          False   \n",
       "4          101009           168              101          False   \n",
       "\n",
       "                 date                                               text  \\\n",
       "0 2020-07-25 12:27:21  If I smelled the scent of hand sanitizers toda...   \n",
       "1 2020-07-25 12:27:17  Hey @Yankees @YankeesPR and @MLB - wouldn't it...   \n",
       "2 2020-07-25 12:27:14  @diane3443 @wdunlap @realDonaldTrump Trump nev...   \n",
       "3 2020-07-25 12:27:10  @brookbanktv The one gift #COVID19 has give me...   \n",
       "4 2020-07-25 12:27:08  25 July : Media Bulletin on Novel #CoronaVirus...   \n",
       "\n",
       "                            hashtags               source  is_retweet  \\\n",
       "0                                NaN   Twitter for iPhone       False   \n",
       "1                                NaN  Twitter for Android       False   \n",
       "2                        ['COVID19']  Twitter for Android       False   \n",
       "3                        ['COVID19']   Twitter for iPhone       False   \n",
       "4  ['CoronaVirusUpdates', 'COVID19']  Twitter for Android       False   \n",
       "\n",
       "   is_actual  \n",
       "0      False  \n",
       "1      False  \n",
       "2      False  \n",
       "3      False  \n",
       "4      False  "
      ]
     },
     "execution_count": 104,
     "metadata": {},
     "output_type": "execute_result"
    }
   ],
   "source": [
    "data.head()"
   ]
  },
  {
   "cell_type": "code",
   "execution_count": 105,
   "id": "7bf8a142-9b6d-4dc2-939b-1c460d10360e",
   "metadata": {},
   "outputs": [
    {
     "data": {
      "text/plain": [
       "is_actual\n",
       "False    179108\n",
       "Name: count, dtype: int64"
      ]
     },
     "execution_count": 105,
     "metadata": {},
     "output_type": "execute_result"
    }
   ],
   "source": [
    "data['is_actual'].value_counts()"
   ]
  },
  {
   "cell_type": "markdown",
   "id": "f259905e-71cc-44ce-b457-e59b59c05060",
   "metadata": {},
   "source": [
    "То есть все данные имеют неактуальную дату. Создадим синтетическую дату, которую будем считать сегодняшним днем."
   ]
  },
  {
   "cell_type": "code",
   "execution_count": 98,
   "id": "5687ab13-9ee0-4de3-82e6-92dd1cd13307",
   "metadata": {},
   "outputs": [
    {
     "data": {
      "text/plain": [
       "datetime.datetime(2020, 7, 25, 15, 50, 45, 342380)"
      ]
     },
     "execution_count": 98,
     "metadata": {},
     "output_type": "execute_result"
    }
   ],
   "source": [
    "synthetic_date = datetime(2020, 7, 25, 15, 50, 45, 342380)\n",
    "synthetic_date"
   ]
  },
  {
   "cell_type": "markdown",
   "id": "1a66a4d1-8242-4aed-889b-17e6d97d8793",
   "metadata": {},
   "source": [
    "Теперь попробуем определить, является ли дата актуальной, считая синтетическую дату сегодняшним днем. Будем считать, что дата будет актуальной, если отклоняется не более, чем на день, от сегодняшней даты."
   ]
  },
  {
   "cell_type": "code",
   "execution_count": 110,
   "id": "948c6306-a528-4449-9ec8-ff91e352ade9",
   "metadata": {},
   "outputs": [],
   "source": [
    "data['is_actual'] = data.date.apply(lambda object_date: is_actual_date(object_date, synthetic_date, 1))"
   ]
  },
  {
   "cell_type": "code",
   "execution_count": 111,
   "id": "b3d37ecd-2526-48f4-b226-2f951e347223",
   "metadata": {},
   "outputs": [
    {
     "data": {
      "text/plain": [
       "is_actual\n",
       "True    179108\n",
       "Name: count, dtype: int64"
      ]
     },
     "execution_count": 111,
     "metadata": {},
     "output_type": "execute_result"
    }
   ],
   "source": [
    "data['is_actual'].value_counts()"
   ]
  },
  {
   "cell_type": "markdown",
   "id": "d4026f68-26e9-4c46-95fe-fcdf14e4242a",
   "metadata": {},
   "source": [
    "То есть все данные имеют актуальную дату."
   ]
  },
  {
   "cell_type": "markdown",
   "id": "011cfd73-3eaf-4fdd-a49c-f6bf28d63df3",
   "metadata": {},
   "source": [
    "# Задание 4: Проверка полноты данных.\n",
    "\n",
    "Рассмотрите набор данных о заболеваемости раком, проанализируйте, приведены ли данные по всем странам или некоторые из них отсутствуют. \n",
    "\n",
    "Набор данных для использования: \"Global Cancer Data by Country\" на Kaggle.\n",
    "\n",
    "Ссылка: https://www.kaggle.com/datasets/ahmadjalalmasood123/global-cancer-data-by-country"
   ]
  },
  {
   "cell_type": "code",
   "execution_count": 10,
   "id": "e3e4c7f2-4482-4d72-8d2a-750348218077",
   "metadata": {},
   "outputs": [
    {
     "data": {
      "text/html": [
       "<div>\n",
       "<style scoped>\n",
       "    .dataframe tbody tr th:only-of-type {\n",
       "        vertical-align: middle;\n",
       "    }\n",
       "\n",
       "    .dataframe tbody tr th {\n",
       "        vertical-align: top;\n",
       "    }\n",
       "\n",
       "    .dataframe thead th {\n",
       "        text-align: right;\n",
       "    }\n",
       "</style>\n",
       "<table border=\"1\" class=\"dataframe\">\n",
       "  <thead>\n",
       "    <tr style=\"text-align: right;\">\n",
       "      <th></th>\n",
       "      <th>Both sexes</th>\n",
       "      <th>Number</th>\n",
       "      <th>ASR/100,000</th>\n",
       "    </tr>\n",
       "  </thead>\n",
       "  <tbody>\n",
       "    <tr>\n",
       "      <th>0</th>\n",
       "      <td>World</td>\n",
       "      <td>18,094,716</td>\n",
       "      <td>190.0</td>\n",
       "    </tr>\n",
       "    <tr>\n",
       "      <th>1</th>\n",
       "      <td>Denmark</td>\n",
       "      <td>39,996</td>\n",
       "      <td>334.9</td>\n",
       "    </tr>\n",
       "    <tr>\n",
       "      <th>2</th>\n",
       "      <td>Ireland</td>\n",
       "      <td>27,067</td>\n",
       "      <td>326.6</td>\n",
       "    </tr>\n",
       "    <tr>\n",
       "      <th>3</th>\n",
       "      <td>Belgium</td>\n",
       "      <td>74,162</td>\n",
       "      <td>322.8</td>\n",
       "    </tr>\n",
       "    <tr>\n",
       "      <th>4</th>\n",
       "      <td>Hungary</td>\n",
       "      <td>62,399</td>\n",
       "      <td>321.6</td>\n",
       "    </tr>\n",
       "  </tbody>\n",
       "</table>\n",
       "</div>"
      ],
      "text/plain": [
       "  Both sexes      Number  ASR/100,000\n",
       "0      World  18,094,716        190.0\n",
       "1    Denmark      39,996        334.9\n",
       "2    Ireland      27,067        326.6\n",
       "3    Belgium      74,162        322.8\n",
       "4    Hungary      62,399        321.6"
      ]
     },
     "execution_count": 10,
     "metadata": {},
     "output_type": "execute_result"
    }
   ],
   "source": [
    "data = pd.read_csv('data/Global Cancer data by Country.csv')\n",
    "data.head()"
   ]
  },
  {
   "cell_type": "code",
   "execution_count": 11,
   "id": "3a0a83ba-4c9a-4e92-a813-5a091dab310e",
   "metadata": {},
   "outputs": [],
   "source": [
    "#!pip install country_list"
   ]
  },
  {
   "cell_type": "markdown",
   "id": "8e65bbd4-eac7-41e9-8cad-8fabb8960c31",
   "metadata": {},
   "source": [
    "Рассмотрим число уникальных стран из набора данных"
   ]
  },
  {
   "cell_type": "code",
   "execution_count": 12,
   "id": "c472c2e3-437a-4082-96da-208e5243baed",
   "metadata": {},
   "outputs": [
    {
     "data": {
      "text/plain": [
       "186"
      ]
     },
     "execution_count": 12,
     "metadata": {},
     "output_type": "execute_result"
    }
   ],
   "source": [
    "len(data['Both sexes'].unique())"
   ]
  },
  {
   "cell_type": "markdown",
   "id": "45f3b4cc-bce0-4ad5-8107-f7d29f1fb9c8",
   "metadata": {},
   "source": [
    "Выгружаем из библиотеки список всех стран на английском."
   ]
  },
  {
   "cell_type": "code",
   "execution_count": 13,
   "id": "e5e62825-251f-4fec-b068-8157fa5f9282",
   "metadata": {},
   "outputs": [
    {
     "data": {
      "text/plain": [
       "['Afghanistan', 'Åland Islands', 'Albania', 'Algeria', 'American Samoa']"
      ]
     },
     "execution_count": 13,
     "metadata": {},
     "output_type": "execute_result"
    }
   ],
   "source": [
    "from country_list import countries_for_language\n",
    "\n",
    "countries = dict(countries_for_language('en'))\n",
    "countries_list = list(countries.values())\n",
    "countries_list[:5]"
   ]
  },
  {
   "cell_type": "markdown",
   "id": "0f38d985-dfeb-40f5-b734-e240207d9b58",
   "metadata": {},
   "source": [
    "Рассмотрим общее число стран из библиотеки"
   ]
  },
  {
   "cell_type": "code",
   "execution_count": 14,
   "id": "71fd8ee2-bcfb-4d8c-b06f-e485c2d2f07b",
   "metadata": {},
   "outputs": [
    {
     "data": {
      "text/plain": [
       "249"
      ]
     },
     "execution_count": 14,
     "metadata": {},
     "output_type": "execute_result"
    }
   ],
   "source": [
    "len(countries_list)"
   ]
  },
  {
   "cell_type": "markdown",
   "id": "b2303740-03e7-4856-a596-b74c2a91e302",
   "metadata": {},
   "source": [
    "Определим функцию, возвращающую dictionary вида {country: boolean}, где значение отвечает за то, есть ли страна в датафрейме или нет. "
   ]
  },
  {
   "cell_type": "code",
   "execution_count": 15,
   "id": "34cbd64c-d7cb-4b69-9e48-0045a29403b3",
   "metadata": {},
   "outputs": [],
   "source": [
    "def count_data_by_countries(data : pd.DataFrame):\n",
    "    library_countries = dict(countries_for_language('en'))\n",
    "    library_countries_list = list(library_countries.values())\n",
    "    dataframe_countries_list = data['Both sexes'].tolist()\n",
    "\n",
    "    all_countries_list = dataframe_countries_list + library_countries_list\n",
    "\n",
    "    countries_statistis = dict.fromkeys(countries_list, False)\n",
    "    \n",
    "    for country in dataframe_countries_list:\n",
    "        if country in all_countries_list:\n",
    "            countries_statistis[country] = True\n",
    "\n",
    "    return countries_statistis"
   ]
  },
  {
   "cell_type": "code",
   "execution_count": 16,
   "id": "240dc38a-e2c8-4880-84a3-acb5e28fcd48",
   "metadata": {},
   "outputs": [],
   "source": [
    "countries_statistic = count_data_by_countries(data)"
   ]
  },
  {
   "cell_type": "markdown",
   "id": "9548b418-06b2-4a09-a9bb-99481f6ec5bf",
   "metadata": {},
   "source": [
    "Выведем первые 5 значений полученного dictionary"
   ]
  },
  {
   "cell_type": "code",
   "execution_count": 17,
   "id": "5aa586e7-ad51-4443-8514-8e8cd5161b1c",
   "metadata": {},
   "outputs": [
    {
     "data": {
      "text/plain": [
       "{'Afghanistan': True,\n",
       " 'Åland Islands': False,\n",
       " 'Albania': True,\n",
       " 'Algeria': True,\n",
       " 'American Samoa': False}"
      ]
     },
     "execution_count": 17,
     "metadata": {},
     "output_type": "execute_result"
    }
   ],
   "source": [
    "{k: countries_statistic[k] for k in list(countries_statistic)[:5]}"
   ]
  },
  {
   "cell_type": "markdown",
   "id": "4d05b933-fbca-40a1-b3fe-677357b5ae7c",
   "metadata": {},
   "source": [
    "Рассмотрим число всех значений в полученном dictionary"
   ]
  },
  {
   "cell_type": "code",
   "execution_count": 18,
   "id": "badf7a6e-e3f4-41e6-8252-5856fd6d1ce7",
   "metadata": {},
   "outputs": [
    {
     "data": {
      "text/plain": [
       "267"
      ]
     },
     "execution_count": 18,
     "metadata": {},
     "output_type": "execute_result"
    }
   ],
   "source": [
    "len(countries_statistic.keys())"
   ]
  },
  {
   "cell_type": "code",
   "execution_count": 22,
   "id": "fe702a2c-9400-4a2a-a6a2-f90935f50c76",
   "metadata": {},
   "outputs": [
    {
     "data": {
      "text/plain": [
       "{'Afghanistan': True,\n",
       " 'Åland Islands': False,\n",
       " 'Albania': True,\n",
       " 'Algeria': True,\n",
       " 'American Samoa': False,\n",
       " 'Andorra': False,\n",
       " 'Angola': True,\n",
       " 'Anguilla': False,\n",
       " 'Antarctica': False,\n",
       " 'Antigua & Barbuda': False,\n",
       " 'Argentina': True,\n",
       " 'Armenia': True,\n",
       " 'Aruba': False,\n",
       " 'Australia': True,\n",
       " 'Austria': True,\n",
       " 'Azerbaijan': True,\n",
       " 'Bahamas': True,\n",
       " 'Bahrain': True,\n",
       " 'Bangladesh': True,\n",
       " 'Barbados': True,\n",
       " 'Belarus': True,\n",
       " 'Belgium': True,\n",
       " 'Belize': True,\n",
       " 'Benin': True,\n",
       " 'Bermuda': False,\n",
       " 'Bhutan': True,\n",
       " 'Bolivia': True,\n",
       " 'Bosnia & Herzegovina': False,\n",
       " 'Botswana': True,\n",
       " 'Bouvet Island': False,\n",
       " 'Brazil': True,\n",
       " 'British Indian Ocean Territory': False,\n",
       " 'British Virgin Islands': False,\n",
       " 'Brunei': True,\n",
       " 'Bulgaria': True,\n",
       " 'Burkina Faso': True,\n",
       " 'Burundi': True,\n",
       " 'Cambodia': True,\n",
       " 'Cameroon': True,\n",
       " 'Canada': True,\n",
       " 'Cape Verde': False,\n",
       " 'Caribbean Netherlands': False,\n",
       " 'Cayman Islands': False,\n",
       " 'Central African Republic': True,\n",
       " 'Chad': True,\n",
       " 'Chile': True,\n",
       " 'China': True,\n",
       " 'Christmas Island': False,\n",
       " 'Cocos (Keeling) Islands': False,\n",
       " 'Colombia': True,\n",
       " 'Comoros': True,\n",
       " 'Congo - Brazzaville': False,\n",
       " 'Congo - Kinshasa': False,\n",
       " 'Cook Islands': False,\n",
       " 'Costa Rica': True,\n",
       " 'Côte d’Ivoire': True,\n",
       " 'Croatia': True,\n",
       " 'Cuba': True,\n",
       " 'Curaçao': False,\n",
       " 'Cyprus': True,\n",
       " 'Czechia': True,\n",
       " 'Denmark': True,\n",
       " 'Djibouti': True,\n",
       " 'Dominica': False,\n",
       " 'Dominican Republic': True,\n",
       " 'Ecuador': True,\n",
       " 'Egypt': True,\n",
       " 'El Salvador': True,\n",
       " 'Equatorial Guinea': True,\n",
       " 'Eritrea': True,\n",
       " 'Estonia': True,\n",
       " 'Eswatini': True,\n",
       " 'Ethiopia': True,\n",
       " 'Falkland Islands': False,\n",
       " 'Faroe Islands': False,\n",
       " 'Fiji': True,\n",
       " 'Finland': True,\n",
       " 'France': True,\n",
       " 'French Guiana': True,\n",
       " 'French Polynesia': True,\n",
       " 'French Southern Territories': False,\n",
       " 'Gabon': True,\n",
       " 'Gambia': False,\n",
       " 'Georgia': True,\n",
       " 'Germany': True,\n",
       " 'Ghana': True,\n",
       " 'Gibraltar': False,\n",
       " 'Greece': True,\n",
       " 'Greenland': False,\n",
       " 'Grenada': False,\n",
       " 'Guadeloupe': False,\n",
       " 'Guam': True,\n",
       " 'Guatemala': True,\n",
       " 'Guernsey': False,\n",
       " 'Guinea': True,\n",
       " 'Guinea-Bissau': True,\n",
       " 'Guyana': True,\n",
       " 'Haiti': True,\n",
       " 'Heard & McDonald Islands': False,\n",
       " 'Honduras': True,\n",
       " 'Hong Kong SAR China': False,\n",
       " 'Hungary': True,\n",
       " 'Iceland': True,\n",
       " 'India': True,\n",
       " 'Indonesia': True,\n",
       " 'Iran': True,\n",
       " 'Iraq': True,\n",
       " 'Ireland': True,\n",
       " 'Isle of Man': False,\n",
       " 'Israel': True,\n",
       " 'Italy': True,\n",
       " 'Jamaica': True,\n",
       " 'Japan': True,\n",
       " 'Jersey': False,\n",
       " 'Jordan': True,\n",
       " 'Kazakhstan': True,\n",
       " 'Kenya': True,\n",
       " 'Kiribati': False,\n",
       " 'Kuwait': True,\n",
       " 'Kyrgyzstan': True,\n",
       " 'Laos': True,\n",
       " 'Latvia': True,\n",
       " 'Lebanon': True,\n",
       " 'Lesotho': True,\n",
       " 'Liberia': True,\n",
       " 'Libya': True,\n",
       " 'Liechtenstein': False,\n",
       " 'Lithuania': True,\n",
       " 'Luxembourg': True,\n",
       " 'Macao SAR China': False,\n",
       " 'Madagascar': True,\n",
       " 'Malawi': True,\n",
       " 'Malaysia': True,\n",
       " 'Maldives': True,\n",
       " 'Mali': True,\n",
       " 'Malta': True,\n",
       " 'Marshall Islands': False,\n",
       " 'Martinique': False,\n",
       " 'Mauritania': True,\n",
       " 'Mauritius': True,\n",
       " 'Mayotte': False,\n",
       " 'Mexico': True,\n",
       " 'Micronesia': False,\n",
       " 'Moldova': True,\n",
       " 'Monaco': False,\n",
       " 'Mongolia': True,\n",
       " 'Montenegro': True,\n",
       " 'Montserrat': False,\n",
       " 'Morocco': True,\n",
       " 'Mozambique': True,\n",
       " 'Myanmar (Burma)': False,\n",
       " 'Namibia': True,\n",
       " 'Nauru': False,\n",
       " 'Nepal': True,\n",
       " 'Netherlands': False,\n",
       " 'New Caledonia': False,\n",
       " 'New Zealand': True,\n",
       " 'Nicaragua': True,\n",
       " 'Niger': True,\n",
       " 'Nigeria': True,\n",
       " 'Niue': False,\n",
       " 'Norfolk Island': False,\n",
       " 'North Korea': True,\n",
       " 'North Macedonia': True,\n",
       " 'Northern Mariana Islands': False,\n",
       " 'Norway': True,\n",
       " 'Oman': True,\n",
       " 'Pakistan': True,\n",
       " 'Palau': False,\n",
       " 'Palestinian Territories': False,\n",
       " 'Panama': True,\n",
       " 'Papua New Guinea': True,\n",
       " 'Paraguay': True,\n",
       " 'Peru': True,\n",
       " 'Philippines': True,\n",
       " 'Pitcairn Islands': False,\n",
       " 'Poland': True,\n",
       " 'Portugal': True,\n",
       " 'Puerto Rico': True,\n",
       " 'Qatar': True,\n",
       " 'Réunion': False,\n",
       " 'Romania': True,\n",
       " 'Russia': True,\n",
       " 'Rwanda': True,\n",
       " 'Samoa': True,\n",
       " 'San Marino': False,\n",
       " 'São Tomé & Príncipe': False,\n",
       " 'Saudi Arabia': True,\n",
       " 'Senegal': True,\n",
       " 'Serbia': True,\n",
       " 'Seychelles': False,\n",
       " 'Sierra Leone': True,\n",
       " 'Singapore': True,\n",
       " 'Sint Maarten': False,\n",
       " 'Slovakia': True,\n",
       " 'Slovenia': True,\n",
       " 'Solomon Islands': True,\n",
       " 'Somalia': True,\n",
       " 'South Africa': True,\n",
       " 'South Georgia & South Sandwich Islands': False,\n",
       " 'South Korea': True,\n",
       " 'South Sudan': True,\n",
       " 'Spain': True,\n",
       " 'Sri Lanka': True,\n",
       " 'St. Barthélemy': False,\n",
       " 'St. Helena': False,\n",
       " 'St. Kitts & Nevis': False,\n",
       " 'St. Lucia': False,\n",
       " 'St. Martin': False,\n",
       " 'St. Pierre & Miquelon': False,\n",
       " 'St. Vincent & Grenadines': False,\n",
       " 'Sudan': True,\n",
       " 'Suriname': True,\n",
       " 'Svalbard & Jan Mayen': False,\n",
       " 'Sweden': True,\n",
       " 'Switzerland': True,\n",
       " 'Syria': True,\n",
       " 'Taiwan': False,\n",
       " 'Tajikistan': True,\n",
       " 'Tanzania': True,\n",
       " 'Thailand': True,\n",
       " 'Timor-Leste': True,\n",
       " 'Togo': True,\n",
       " 'Tokelau': False,\n",
       " 'Tonga': False,\n",
       " 'Trinidad & Tobago': False,\n",
       " 'Tunisia': True,\n",
       " 'Turkey': True,\n",
       " 'Turkmenistan': True,\n",
       " 'Turks & Caicos Islands': False,\n",
       " 'Tuvalu': False,\n",
       " 'U.S. Outlying Islands': False,\n",
       " 'U.S. Virgin Islands': False,\n",
       " 'Uganda': True,\n",
       " 'Ukraine': True,\n",
       " 'United Arab Emirates': True,\n",
       " 'United Kingdom': False,\n",
       " 'United States': False,\n",
       " 'Uruguay': True,\n",
       " 'Uzbekistan': True,\n",
       " 'Vanuatu': True,\n",
       " 'Vatican City': False,\n",
       " 'Venezuela': True,\n",
       " 'Vietnam': True,\n",
       " 'Wallis & Futuna': False,\n",
       " 'Western Sahara': False,\n",
       " 'Yemen': True,\n",
       " 'Zambia': True,\n",
       " 'Zimbabwe': True,\n",
       " 'World': True,\n",
       " 'The Netherlands': True,\n",
       " 'France, New Caledonia': True,\n",
       " 'US': True,\n",
       " 'UK': True,\n",
       " 'France, Guadeloupe': True,\n",
       " 'France, Martinique': True,\n",
       " 'Bosnia and Herzegovina': True,\n",
       " 'France, La Réunion': True,\n",
       " 'Trinidad and Tobago': True,\n",
       " 'Cabo Verde': True,\n",
       " 'Saint Lucia': True,\n",
       " 'Gaza Strip and West Bank': True,\n",
       " 'Myanmar': True,\n",
       " 'São Tomé and Príncipe': True,\n",
       " 'Congo, Democratic Republic of': True,\n",
       " 'Congo, Republic of': True,\n",
       " 'The Gambia': True}"
      ]
     },
     "execution_count": 22,
     "metadata": {},
     "output_type": "execute_result"
    }
   ],
   "source": [
    "countries_statistic"
   ]
  },
  {
   "cell_type": "code",
   "execution_count": 21,
   "id": "06a2e0b4-5639-4a79-88de-9345c70af266",
   "metadata": {},
   "outputs": [
    {
     "ename": "AttributeError",
     "evalue": "'dict' object has no attribute 'duplicated'",
     "output_type": "error",
     "traceback": [
      "\u001b[0;31m---------------------------------------------------------------------------\u001b[0m",
      "\u001b[0;31mAttributeError\u001b[0m                            Traceback (most recent call last)",
      "Cell \u001b[0;32mIn[21], line 1\u001b[0m\n\u001b[0;32m----> 1\u001b[0m unique_countries \u001b[38;5;241m=\u001b[39m countries_statistic[\u001b[38;5;241m~\u001b[39m\u001b[43mcountries_statistic\u001b[49m\u001b[38;5;241;43m.\u001b[39;49m\u001b[43mduplicated\u001b[49m(\u001b[38;5;124m'\u001b[39m\u001b[38;5;124mCountry\u001b[39m\u001b[38;5;124m'\u001b[39m, keep\u001b[38;5;241m=\u001b[39m\u001b[38;5;28;01mFalse\u001b[39;00m)]\u001b[38;5;241m.\u001b[39mreset_index()\n\u001b[1;32m      3\u001b[0m unique_countries\n",
      "\u001b[0;31mAttributeError\u001b[0m: 'dict' object has no attribute 'duplicated'"
     ]
    }
   ],
   "source": [
    "unique_countries = countries_statistic[~countries_statistic.duplicated('Country', keep=False)].reset_index()\n",
    "\n",
    "unique_countries"
   ]
  },
  {
   "cell_type": "markdown",
   "id": "689bb315-24fe-4585-8c55-4b0be3d02429",
   "metadata": {},
   "source": [
    "Рассмотрим количество пропущенных стран в датафрейме"
   ]
  },
  {
   "cell_type": "code",
   "execution_count": 19,
   "id": "685a5bbd-c8c2-4c3e-8d3e-2d36c82abfdd",
   "metadata": {},
   "outputs": [],
   "source": [
    "missed_countries = [country for country in countries_statistic.keys() if countries_statistic[country] == False]"
   ]
  },
  {
   "cell_type": "code",
   "execution_count": 166,
   "id": "d522da6c-9ef7-4a6f-bab0-10b6fb20cf2d",
   "metadata": {},
   "outputs": [
    {
     "data": {
      "text/plain": [
       "81"
      ]
     },
     "execution_count": 166,
     "metadata": {},
     "output_type": "execute_result"
    }
   ],
   "source": [
    "len(missed_countries)"
   ]
  }
 ],
 "metadata": {
  "kernelspec": {
   "display_name": "Python 3 (ipykernel)",
   "language": "python",
   "name": "python3"
  },
  "language_info": {
   "codemirror_mode": {
    "name": "ipython",
    "version": 3
   },
   "file_extension": ".py",
   "mimetype": "text/x-python",
   "name": "python",
   "nbconvert_exporter": "python",
   "pygments_lexer": "ipython3",
   "version": "3.12.3"
  }
 },
 "nbformat": 4,
 "nbformat_minor": 5
}
