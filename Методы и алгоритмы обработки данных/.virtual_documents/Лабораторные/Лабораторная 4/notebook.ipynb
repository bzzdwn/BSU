


import pandas as pd
import numpy as np
import matplotlib.pyplot as plt
%matplotlib inline
import seaborn as sns





data = pd.read_csv('data/car data.csv')
data.head()





X = data['Selling_Price']

sns.countplot(x=X)



