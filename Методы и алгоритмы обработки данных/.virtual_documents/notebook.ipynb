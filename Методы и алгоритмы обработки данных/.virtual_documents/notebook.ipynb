








import numpy as np # принято обозначать строго через np !!
import pandas as pd # принято обозначать строго через pd !!
import matplotlib.pyplot as plt # принято обозначать строго через plt !!
# для отображения графиков внутри ноутбука
%matplotlib inline 
import seaborn as sns # принято обозначать строго через sns !!





!pip install pandas, numpy, matplotlib, seaborn








pd.read_csv('data/train.csv')





data = pd.read_csv('data/train.csv')





data.head()








pd.read_csv('data/measurement_scales.csv').replace(r'\n',' ', regex=True) 











X = data['Fare']
X





X.mean()





X.mode()





X.median()





X.std()





X.describe()





data.describe()








Y = data['Embarked']

sns.countplot(x=Y)








sns.histplot(x=X)











from scipy import stats





X = np.random.normal(loc=0, scale=2, size=150)
Y = np.random.normal(loc=0.5, scale=2, size=150)





sns.histplot(X)
sns.histplot(Y)
plt.legend(['X', 'Y'])











t_statisitc, p_value = stats.ttest_ind(X, Y)


epsilon = 0.05
p_value > epsilon











data.info()





data.isna().sum()





data.dropna()





data.dropna().shape





data['Age'] = data['Age'].fillna(data['Age'].mean())
data['Cabin'] = data['Cabin'].fillna('NO')
data['Embarked'] = data['Embarked'].fillna('NO')





data.isna().sum()












