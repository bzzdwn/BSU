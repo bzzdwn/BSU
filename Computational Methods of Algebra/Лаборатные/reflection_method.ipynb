{
 "cells": [
  {
   "cell_type": "markdown",
   "id": "3bc88a21-210a-4287-ba61-0eda8202cb2f",
   "metadata": {},
   "source": [
    "# Алгоритм решения"
   ]
  },
  {
   "cell_type": "markdown",
   "id": "d720f21e-a585-4feb-8c93-670c56aaacdf",
   "metadata": {},
   "source": [
    "## Постановка задачи\n",
    "Пусть дана система $$Ax = b.\\quad (1)$$\n",
    "    \n",
    "Предполагаем, что задача является корректно поставленной. Нам необходимо:\n",
    "1. найти решение системы указанным методом;\n",
    "2. вычислить вектор невязки;\n",
    "3. вычислить определитель матрицы системы;\n",
    "4. найти матрицу, обратную к матрице системы;\n",
    "5. найти число обусловленности матрицы системы."
   ]
  },
  {
   "cell_type": "markdown",
   "id": "da19fb36-ccb4-40be-9da5-007ecd63fe35",
   "metadata": {},
   "source": [
    "## Метод отражений \n",
    "$\\bullet$ *Матрицей **отражения (Хаусхолдера)** называют матрицу вида $$V = E-2 \\omega \\omega^T,\\quad(2)$$ где $\\omega$ - вектор-столбец единичной длины в сферической норме, то есть $(\\omega,\\omega) = \\omega^T\\omega = 1$.*\n",
    "\n",
    "\n",
    "Можно показать, что $\\forall$ вектора $s \\ne 0$ и заданного вектора $e$ единичной длины имеет место равенство $$Vs =\\alpha e,\\quad(3)$$ где $V$ - матрица отражений (2), в которой $$\\omega = \\kappa(s-\\alpha e),\\quad \\kappa = \\dfrac{1}{\\sqrt[]{2(s, s-\\alpha e)}},\\ \\alpha = \\sqrt[]{(s,s)}.\\quad(4)$$\n",
    "\n",
    "Алгоритм метода отражения рассмотрим поэтапно, а затем запишем общую формулу."
   ]
  },
  {
   "cell_type": "markdown",
   "id": "7d7b289e-a255-4673-a16d-11aa3f24e540",
   "metadata": {},
   "source": [
    "## Первый этап. \n",
    "Используя формулу (4), образуем матрицу отражения $V^1$ по векторам $$s^1 = (a_{11}, a_{21}, \\ldots, a_{n1})^T,\\ e^1 = (1,0,\\ldots, 0)^T.$$\n",
    "\n",
    "Умножим слева исходную систему (1) на матрицу $V^1$. После умножения у нас получится система $$A^1 x = b^1,\\quad A^1 = V^1 A,\\ b^1 = V^1 b.$$\n",
    "\n",
    "Легко видеть, что в матрице $A^1$ все элементы, стоящие ниже элемента $a_{11}$ стоит 0. Запишем формулы, отражающие, что произойдет с элементами матрицы $A$:\n",
    "\t$$\\begin{cases}\n",
    "\t\ta_{11}^1 = \\alpha_1,\\\\\n",
    "\t\ta_{ij}^1 = a_{ij}-2(g_j, \\omega^1)\\omega_i^1,\\ i = \\overline{1,n},\\ j=\\overline{2,n},\\\\\n",
    "\t\tb_{i}^1 = b_i -2(b, \\omega^1)\\omega_i^1,\\ i=\\overline{1,n},\n",
    "\t\\end{cases}\\quad(5)$$\n",
    "    \n",
    "где $$g_j = (a_{1j}, a_{2j},\\ldots, a_{nj})^T.$$\n",
    "\n",
    "Скалярное произведение определим как $$(g_j, \\omega^1) - \\sum_{p=1}^{n}g_{pj}w^1_p.$$"
   ]
  },
  {
   "cell_type": "markdown",
   "id": "416b37f4-ee4a-4e48-a099-09fbfa89ef55",
   "metadata": {},
   "source": [
    "## Второй этап.\n",
    "Строим матрицу $V^2$ по векторам $$s^1 = (0, a^1_{22}, \\ldots, a^1_{n2})^T,\\ e^2 = (0,1,\\ldots, 0)^T.$$\n",
    "\t\n",
    "Тогда мы образуем систему $$A^2 x = b^2,\\quad A^2 = V^2 A^1,\\ b^2 = V^2 b^1.$$\n",
    "\n",
    "Легко увидеть, что в $A^2$ первая строка будет совпадать с $A^1$, а остальные элементы будут изменены по предыдущему алгоритму."
   ]
  },
  {
   "cell_type": "markdown",
   "id": "6083fa9f-c8fb-468e-9adf-523bc0d3bf5d",
   "metadata": {},
   "source": [
    "## Алгоритм. \n",
    "На любом $k$-ом шаге, $1\\leq k \\leq n-1$ мы строим векторы $$s^k = (0,\\ldots, 0, a_{kk}^k-1,\\ldots, a_{nk}^{k-1})^T,\\quad e^k=(0,\\ldots, 0,1,0,\\ldots, 0)^T$$ образуем матрицу $V^k$ и преобразуем систему к виду $$A^k x = b^k.\\quad(6)$$\n",
    "Запишем, как меняются коэффициенты от шага в шагу: $$\\begin{cases}\n",
    "\ta_{ij}^k = a_{ij}^{k-1},\\quad i = \\overline{1, k-1},\\ j = \\overline{1,n},\\\\\n",
    "\ta^k_{kk} = \\alpha_k, \\\\\n",
    "\ta^k_{ij} = a_{ij}^{k-1} - 2(g_j^{k-1}, \\omega^k)\\omega_i^k,\\quad i = \\overline{k,n},\\ j=\\overline{k+1,n},\\\\\n",
    "\tb_i^k = b_i^{k-1},\\quad i = \\overline{1,k-1},\\\\\n",
    "\tb_i^k = b_i^{k-1} - 2(b^{k-1},\\omega^k)\\omega_i^k,\\quad i = \\overline{k,n}.\n",
    "\t\\end{cases}\\quad(7)$$\n",
    "\tВ формуле (7) $$g_j^{k-1} = (a_{1j}^{k-1},\\ldots, a_{nj}^{k-1}),$$\n",
    "\t$$(g_j^{k-1}, \\omega^k) = \\sum_{p=k}^{n} g_{pj}^{k-1} \\omega_p^k,$$\n",
    "\t$$(b^{k-1}, \\omega^k) = \\sum_{p=k}^{n} b_p^{k-1} \\omega_p^k.$$\n",
    "После выполнения всех $n-1$ этапа мы получим матрицу $$A^{n-1}x = b^{n-1},$$ причем матрица $A^{n-1}$ является верхней треугольной. Далее после приведения к такому виду, чтобы записать решение, нам нужно записать формулы аналогичные обратному ходу метода Гаусса."
   ]
  },
  {
   "cell_type": "markdown",
   "id": "8c045fb3-24ad-4283-ba89-82194f832f98",
   "metadata": {},
   "source": [
    "## Обратный ход\n",
    "\n",
    "Обратный ход состоит в последовательном нахождении неизвестных $$x_i = \\dfrac{q_i - \\sum_{j=i+1}^{n}c_{ij}x_j}{a_{ii}},\\ i=\\overline{n-1, 1}.$$\n",
    "\t$$x_n = \\dfrac{q_n}{a_{nn}}.$$"
   ]
  },
  {
   "cell_type": "markdown",
   "id": "a6b1a4f6-e0a3-49b7-b630-b35c49087b4a",
   "metadata": {},
   "source": [
    "Число операций будет равно $Q(n) = O(n^3)$. В отличие от метода Гаусса количество умножений здесь будет в 2 раза больше. Однако, в отличие от метода Гаусса, число обусловленности мы не изменяем."
   ]
  },
  {
   "cell_type": "markdown",
   "id": "f6da5c48-4a39-4eb3-9fb3-0289b20cd86f",
   "metadata": {},
   "source": [
    "## Вычисление вектора невязки\n",
    "\n",
    "После применения обратного хода мы получаем вектор решений $x^*$. Вектор невязки определяется формулой $$r = Ax^* - b,$$ где $A$ и $b$ - матрица и вектор исходной системы."
   ]
  },
  {
   "cell_type": "markdown",
   "id": "b28dd1ff-2f44-414b-a59a-afd12736b8d6",
   "metadata": {},
   "source": [
    "## Вычисление определителя\n",
    "\n",
    "$$|A| = a^{n-1}_{11}\\cdot a^{n-1}_{22}\\cdot\\ldots\\cdot a^{n-1}_{nn}.$$"
   ]
  },
  {
   "cell_type": "markdown",
   "id": "d568cffa-8e18-4ff4-a8fc-d2f69d95de52",
   "metadata": {},
   "source": [
    "## Вычисление обратной матрицы\n",
    "\n",
    "Для вычисления обратной матрицы рассмотренным алгоритмом будем решать систему $$AX = E,$$ где столбец $X$ и будет содержать искомую обратную матрицу."
   ]
  },
  {
   "cell_type": "markdown",
   "id": "8a74c526-3141-47df-b5e6-278bebf609d8",
   "metadata": {},
   "source": [
    "## Вычисление числа обусловленности\n",
    "\n",
    "Для вычисления числа обусловленности воспользуемся формулой, определяющей его, $$\\nu(A) = | | A| | \\cdot | | A^{-1} | |.$$\n",
    "При решении будет вычислять его, используя сферическую норму матрицы."
   ]
  },
  {
   "cell_type": "markdown",
   "id": "09c2b62a-ba10-4463-80fe-13005f075a7d",
   "metadata": {},
   "source": [
    "# Листинг программы"
   ]
  },
  {
   "cell_type": "code",
   "execution_count": 1,
   "id": "7607696d-b048-4361-9481-3bd8f5b8c9a0",
   "metadata": {},
   "outputs": [],
   "source": [
    "import numpy as np\n",
    "import math"
   ]
  },
  {
   "cell_type": "markdown",
   "id": "5a99ca7b-eea1-46fb-8f4f-8ba262beab39",
   "metadata": {},
   "source": [
    "## Функция алгоритма"
   ]
  },
  {
   "cell_type": "code",
   "execution_count": 2,
   "id": "7ac2282c-5cb5-4b47-9354-f04746d0f3cd",
   "metadata": {},
   "outputs": [],
   "source": [
    "def reflection_method(A, b):\n",
    "    E = np.eye(A.shape[0]) # Единичная матрица\n",
    "    for k in range(A.shape[0] - 1): # Цикл шагов алгоритма\n",
    "        s = np.zeros(A.shape[0]) # Создаем нулевой вектор s\n",
    "        for i in range(k, A.shape[0]):\n",
    "            s[i] = A[i][k] # Вектор s на k-ом шаге принимает значение k-ого столбца исходной матрицы системы\n",
    "        e = np.array([E[i][k] for i in range(A.shape[0])]) # Вектор e равен k-ому столбцу единичной матрицы\n",
    "        alpha = np.sqrt(np.dot(s,s)) # Эта и следующие 2 строки - формула (4) справа налево \n",
    "        kappa = 1 / np.sqrt(2 * np.dot(s, s - e * alpha))\n",
    "        omega = (kappa * (s - alpha * e)).reshape(A.shape[0], 1)\n",
    "        V = E - 2 * np.dot(omega, omega.T) # Формула (2)\n",
    "        A = np.dot(V, A) # Домножаем матрицу системы на матрицу V, чтобы занулить k-ый столбец ниже главной диагонали\n",
    "        b = np.dot(V, b) # Домножаем столбец неоднородности на матрицу V\n",
    "        \n",
    "    # Вычисление определителя\n",
    "    det = 1\n",
    "    for k in range(A.shape[0]):\n",
    "        det *= A[k][k] # Произведение всех диагональных элементов получившейся треуголньой матрицы\n",
    "    \n",
    "    if len(b.shape) == 1:    # Если мы решаем систему Ax = b\n",
    "        x = np.zeros(A.shape[0]) # Заводим нулевой вектор для будущего решения системы\n",
    "        # Обратный ход метода Гаусса\n",
    "        for i in range(A.shape[0]-1, -1, -1):\n",
    "            summary = 0\n",
    "            for j in range(i+1, A.shape[0]):\n",
    "                summary += A[i][j]*x[j]\n",
    "            x[i] = (b[i] - summary) / A[i][i]\n",
    "        \n",
    "        #Вычисление вектора невязки\n",
    "        r = np.zeros(A.shape[0]) # Переменная для хранения значения вектора невязки\n",
    "        for i in range(A.shape[0]):\n",
    "            for j in range(A.shape[0]):\n",
    "                r[i] += A[i][j]*x[j]; # r+=Ax\n",
    "            r[i] -= b[i] #r-=b\n",
    "        \n",
    "        return x, r, det # Возвращаем значения решения, вектора невязки и определителя матрицы\n",
    "    \n",
    "    else: # Если решаем систему AX=E\n",
    "        x = np.zeros((A.shape[0], A.shape[0])) # Заводим нулевую матрицу для хранения будущей обратной матрицы\n",
    "        # Обратный ход метода Гаусса\n",
    "        for i in range(A.shape[0]-1, -1, -1):\n",
    "            summary = 0\n",
    "            for j in range(i+1, A.shape[0]):\n",
    "                summary += A[i][j]*x[i][j]\n",
    "            for j in range(A.shape[0]):\n",
    "                x[i][j] = (b[i][j] - summary) / A[i][i]\n",
    "        \n",
    "        return x # Возвращаем значение обратной матрицы"
   ]
  },
  {
   "cell_type": "markdown",
   "id": "72b38b9c-3bde-485e-9a11-8c3fdf3480ff",
   "metadata": {},
   "source": [
    "# Проверка результатов"
   ]
  },
  {
   "cell_type": "markdown",
   "id": "6ffe46ce-f8cb-43de-b74d-516abb60eba7",
   "metadata": {},
   "source": [
    "1. При заданном $n$ сгенерировать случайным образом квадратную матрицу размера $n\\times n$, имеющую диагональное доминирование. Элементы матрицы - действительные числа с двумя знаками после запятой."
   ]
  },
  {
   "cell_type": "code",
   "execution_count": 3,
   "id": "35f177e4-ff9b-411f-8d0b-de1b6df24194",
   "metadata": {},
   "outputs": [
    {
     "name": "stdin",
     "output_type": "stream",
     "text": [
      " 4\n"
     ]
    },
    {
     "name": "stdout",
     "output_type": "stream",
     "text": [
      "[77.9   5.46  8.44  9.89]\n",
      "[ 1.31 83.86  1.13  8.06]\n",
      "[ 9.11  2.09 74.52  6.02]\n",
      "[ 2.53  8.39  2.33 80.92]\n"
     ]
    }
   ],
   "source": [
    "from random import randint\n",
    " \n",
    "n = int(input())\n",
    " \n",
    "A = np.array([[randint(10, 1000) / 100 for _ in range(n)] for _ in range(n)]).astype(float)\n",
    "\n",
    "summary = 0\n",
    "for i in range(n):\n",
    "    for j in range(n):\n",
    "        if i != j:\n",
    "            summary += math.fabs(A[i][j])\n",
    "for i in range (n):\n",
    "    if A[i][i] <= summary:\n",
    "        A[i][i] = randint(int(summary)*100, 10000) / 100\n",
    "\n",
    "print(*A, sep='\\n')"
   ]
  },
  {
   "cell_type": "markdown",
   "id": "db797791-2d55-465b-8a02-3e2c4f7b3f9b",
   "metadata": {},
   "source": [
    "2. Сгенерировать случайным образом вектор решений $x$ (два знака после запятой)."
   ]
  },
  {
   "cell_type": "code",
   "execution_count": 4,
   "id": "295acf89-b2ea-4f95-972f-44b0d95aef77",
   "metadata": {},
   "outputs": [
    {
     "name": "stdout",
     "output_type": "stream",
     "text": [
      "0.41\n",
      "1.03\n",
      "8.76\n",
      "9.24\n"
     ]
    }
   ],
   "source": [
    "x = np.array([randint(10, 1000) / 100 for _ in range(n)]).astype(float)\n",
    "\n",
    "print(*x, sep='\\n')"
   ]
  },
  {
   "cell_type": "markdown",
   "id": "7d7bc4d4-f1ee-4309-89e9-e47a3ba0c210",
   "metadata": {},
   "source": [
    "3. По сгенерированным данным вычислить вектор $b$ свободных членов системы по формуле $b = Ax$."
   ]
  },
  {
   "cell_type": "code",
   "execution_count": 5,
   "id": "5f8fa42d-4c65-4d8c-a7ef-63f3436b99c3",
   "metadata": {},
   "outputs": [
    {
     "name": "stdout",
     "output_type": "stream",
     "text": [
      "202.88080000000002\n",
      "171.2861\n",
      "714.3077999999999\n",
      "777.7906\n"
     ]
    }
   ],
   "source": [
    "b = A.dot(x)\n",
    "\n",
    "print(*b, sep='\\n')"
   ]
  },
  {
   "cell_type": "markdown",
   "id": "282bb870-519f-47ad-b3f6-f5e964fe3a93",
   "metadata": {},
   "source": [
    "4. Для полученных данных:\n",
    "\n",
    "    a) найти решение системы указанным методом."
   ]
  },
  {
   "cell_type": "code",
   "execution_count": 6,
   "id": "2cc29817-41a5-4958-a396-cd3cd5dbe2cc",
   "metadata": {},
   "outputs": [
    {
     "name": "stdout",
     "output_type": "stream",
     "text": [
      "0.4099999999999993\n",
      "1.03\n",
      "8.760000000000002\n",
      "9.24\n"
     ]
    }
   ],
   "source": [
    "_x, r, det = reflection_method(A, b)\n",
    "\n",
    "print(*_x, sep='\\n')"
   ]
  },
  {
   "cell_type": "markdown",
   "id": "543b0070-0798-4914-b1da-cff5863cc2bb",
   "metadata": {},
   "source": [
    "Выполнить проверку путем вычисления вектора невязки."
   ]
  },
  {
   "cell_type": "code",
   "execution_count": 7,
   "id": "ab8a343c-e0ed-468d-a716-a2bb9f699eba",
   "metadata": {},
   "outputs": [
    {
     "name": "stdout",
     "output_type": "stream",
     "text": [
      "0.0 0.0 -1.1368683772161603e-13 1.1368683772161603e-13\n"
     ]
    }
   ],
   "source": [
    "print(*r)"
   ]
  },
  {
   "cell_type": "markdown",
   "id": "475ee552-5b2d-4dd3-ac67-42f0dedd112a",
   "metadata": {},
   "source": [
    "б) найти матрицу, обратную к матрице системы."
   ]
  },
  {
   "cell_type": "code",
   "execution_count": 8,
   "id": "97e26e3b-a5b8-4d62-a6cd-86ef581910fd",
   "metadata": {},
   "outputs": [
    {
     "name": "stdout",
     "output_type": "stream",
     "text": [
      "[0.01264709 0.00021268 0.00147901 0.00041075]\n",
      "[-0.00025664  0.01182182  0.0001749   0.00115111]\n",
      "[-0.00159488 -0.00026422  0.01359472  0.00029227]\n",
      "[-0.00034781 -0.00122434 -0.00033435  0.01254722]\n"
     ]
    }
   ],
   "source": [
    "A_inv = reflection_method(A, np.eye(n))\n",
    "print(*A_inv, sep='\\n')"
   ]
  },
  {
   "cell_type": "markdown",
   "id": "0d6b48b9-bcd4-4b2d-9c6a-57651e1a0ac5",
   "metadata": {},
   "source": [
    "Выполнить проверку;"
   ]
  },
  {
   "cell_type": "code",
   "execution_count": 9,
   "id": "329610a6-aea7-4ba4-b905-5f318bf7593e",
   "metadata": {},
   "outputs": [
    {
     "name": "stdout",
     "output_type": "stream",
     "text": [
      "[1. 0. 0. 0.]\n",
      "[0. 1. 0. 0.]\n",
      "[0. 0. 1. 0.]\n",
      "[0. 0. 0. 1.]\n"
     ]
    }
   ],
   "source": [
    "E = np.dot(A_inv, A)\n",
    "\n",
    "for i in range(n):\n",
    "    for j in range(n):\n",
    "        E[i,j] = round(np.absolute(E[i,j]), 0) # Преобразуем \"единичниую\" матрицу, округлив до двух знаков после запятой\n",
    "        \n",
    "print(*E, sep='\\n')"
   ]
  },
  {
   "cell_type": "markdown",
   "id": "f9500fd0-7eee-4dd8-96fe-89f2f70ebf73",
   "metadata": {},
   "source": [
    "в) вычислить определитель матрицы системы;"
   ]
  },
  {
   "cell_type": "code",
   "execution_count": 10,
   "id": "80927ed0-58e8-478c-858a-c55284d9adc0",
   "metadata": {},
   "outputs": [
    {
     "name": "stdout",
     "output_type": "stream",
     "text": [
      "-38234039.47928281\n"
     ]
    }
   ],
   "source": [
    "print(det)"
   ]
  },
  {
   "cell_type": "markdown",
   "id": "486c7c54-2e80-4453-a517-c570495b80eb",
   "metadata": {},
   "source": [
    "г) найти число обусловленности."
   ]
  },
  {
   "cell_type": "code",
   "execution_count": 11,
   "id": "a00817bc-ad3a-4454-a08e-a4409c76c849",
   "metadata": {},
   "outputs": [
    {
     "name": "stdout",
     "output_type": "stream",
     "text": [
      "1.319080323545186\n"
     ]
    }
   ],
   "source": [
    "nu = np.linalg.norm(A, 2) * np.linalg.norm(A_inv, 2)\n",
    "print(nu)"
   ]
  }
 ],
 "metadata": {
  "kernelspec": {
   "display_name": "Python 3 (ipykernel)",
   "language": "python",
   "name": "python3"
  },
  "language_info": {
   "codemirror_mode": {
    "name": "ipython",
    "version": 3
   },
   "file_extension": ".py",
   "mimetype": "text/x-python",
   "name": "python",
   "nbconvert_exporter": "python",
   "pygments_lexer": "ipython3",
   "version": "3.10.9"
  }
 },
 "nbformat": 4,
 "nbformat_minor": 5
}
