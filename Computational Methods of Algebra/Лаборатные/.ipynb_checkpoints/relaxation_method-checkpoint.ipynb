{
 "cells": [
  {
   "cell_type": "markdown",
   "id": "09ea40e4-959e-4480-8e06-13b3e69c3f47",
   "metadata": {},
   "source": [
    "# Алгоритм решения"
   ]
  },
  {
   "cell_type": "markdown",
   "id": "42423417-86da-4e4e-8749-72b715b54acd",
   "metadata": {
    "tags": []
   },
   "source": [
    "## Постановка задачи\n",
    "Пусть дана система $$Ax = b,\\quad A=A^T>0.\\quad (1)$$\n",
    "    \n",
    "Предполагаем, что задача является корректно поставленной. Нам необходимо:\n",
    "1. найти решение системы указанным методом;\n",
    "2. найти матрицу, обратную к матрице системы;\n",
    "3. б) найти матрицу, обратную к матрице системы.\n",
    "\n",
    "Решение системы мы будем искать как предел бесконечного вычислительного процесса. Когда строится последовательность $x^0, x^1,\\ldots, x^k,\\ldots$ приближения к решению $x^*$, мы должны обеспечить выполнение условия $$\\lim\\limits_{k\\to\\infty} | | x^k - x^* | | = 0.$$\n",
    "В наших обозначениях $0,1,\\ldots,k,\\ldots$ - номер итерации. И каждый элемент является $k$-ой итерацией, или $k$-ым приближением к искомому значению $x^*$."
   ]
  },
  {
   "cell_type": "markdown",
   "id": "d80ca9e2-4c6e-448f-b7f3-19f698af98dd",
   "metadata": {},
   "source": [
    "## Метод релаксации\n",
    "$$x_i^{k+1} = (1-\\omega)x_i^k - \\omega \\sum_{j=1}^{i-1} \\dfrac{a_{ij}}{a_{ii}}x_j^{k+1} - \\omega \\sum_{j=i+1}^{n} \\dfrac{a_{ij}}{a_{ii}} x_j^k + \\omega \\dfrac{b_i}{a_{ii}},\\quad i = \\overline{1,n},\\ k=0,1,\\ldots,\\ 0 < \\omega < 2.$$\n",
    "Вынесем общий множитель за скобки для сокращения числа операций:\n",
    "$$x_i^{k+1} = (1-\\omega)x_i^k - \\dfrac{\\omega}{a_{ii}}\\Big( \\sum_{j=1}^{i-1} a_{ij}x_j^{k+1} + \\sum_{j=i+1}^{n} a_{ij} x_j^k - b_i\\Big),\\quad i = \\overline{1,n},\\ k=0,1,\\ldots,\\ 0 < \\omega < 2.\\quad(2)$$\n",
    "Итерационный процесс (2) называется **методом релаксации**. Если $\\omega \\in (0,1)$, то получим **метод нижней релаксации**. Если $\\omega \\in (1,2)$, то это **метод верхней релаксации**. Если $\\omega = 1$, то получим **метод полной релаксации**. Также при $\\omega = 1$ мы получим метод Гаусса-Зейделя."
   ]
  },
  {
   "cell_type": "markdown",
   "id": "1e71a814-6caf-4b4d-8431-5cb422bcd59e",
   "metadata": {
    "tags": []
   },
   "source": [
    "# Листинг программы"
   ]
  },
  {
   "cell_type": "code",
   "execution_count": 1,
   "id": "fe7574b8-44dd-4d41-bef4-024ee63d6e5f",
   "metadata": {},
   "outputs": [],
   "source": [
    "import numpy as np\n",
    "import math"
   ]
  },
  {
   "cell_type": "markdown",
   "id": "d3ad5594-1fe3-47f3-834b-13dcee72a256",
   "metadata": {},
   "source": [
    "## Функция алгоритма"
   ]
  },
  {
   "cell_type": "code",
   "execution_count": 59,
   "id": "19a7107e-4d14-4336-be7f-eb06159b5aec",
   "metadata": {},
   "outputs": [],
   "source": [
    "def relaxation_method(A, b, w, epsilon):\n",
    "    n = A.shape[0] # Размерность матрицы\n",
    "    x_k = np.copy(b) # Вектор начального приближения x_0 = g\n",
    "    x_k1 = np.copy(b) # Вектор-переменная для хранения (k+1)-ой итерации\n",
    "                \n",
    "    # Метод релаксации\n",
    "    k = 0 # Переменная для хранения числа итераций\n",
    "    while True:\n",
    "        k += 1 # Повышаем число итераций\n",
    "        for i in range(n):\n",
    "            first_summary = 0\n",
    "            second_summary = 0\n",
    "            for j in range(i):\n",
    "                first_summary += A[i][j] * x_k1[j] # Подсчет первой суммы в формуе (2)\n",
    "            for j in range(i + 1, n):\n",
    "                first_summary += A[i][j] * x_k[j] # Подсчет второй суммы в формуе (2) \n",
    "            x_k1[i] = (1-w)*x_k[i] - w / A[i][i] * (first_summary + second_summary - b[i]) # Формула (2)\n",
    "        if np.linalg.norm(x_k1 - x_k) <= epsilon: # Проверка условия остановки итерационного процесса\n",
    "            break\n",
    "        x_k = np.copy(x_k1) # Переносим значение из (k+1)-ой итерации в k-ую\n",
    "    x = x_k1 # Сохраняем результат для возвращения из функции\n",
    "        \n",
    "    return x, k"
   ]
  },
  {
   "cell_type": "markdown",
   "id": "df70b038-aeb1-4b16-bc80-013eaeea421b",
   "metadata": {},
   "source": [
    "## Проверка результатов"
   ]
  },
  {
   "cell_type": "markdown",
   "id": "8429e1f1-14d3-4b63-8ee2-b49b1bc0c41f",
   "metadata": {},
   "source": [
    "1. При заданном $n$ сгенерирована случайным образом квадратную матрицу размера $n\\times n$, имеющая диагональное доминирование. Элементы матрицы - действительные числа с двумя знаками после запятой."
   ]
  },
  {
   "cell_type": "code",
   "execution_count": 66,
   "id": "8f310cb6-5c15-497c-be1b-b7f35b2d129a",
   "metadata": {},
   "outputs": [
    {
     "name": "stdin",
     "output_type": "stream",
     "text": [
      " 4\n"
     ]
    },
    {
     "name": "stdout",
     "output_type": "stream",
     "text": [
      "[55.93  5.41  9.45  3.27]\n",
      "[ 4.85 89.44  2.45  4.  ]\n",
      "[ 6.05  4.64 78.34  0.33]\n",
      "[ 4.11  4.6   2.04 54.06]\n"
     ]
    }
   ],
   "source": [
    "from random import randint\n",
    " \n",
    "n = int(input())\n",
    " \n",
    "A = np.array([[randint(10, 1000) / 100 for _ in range(n)] for _ in range(n)]).astype(float)\n",
    "\n",
    "summary = 0\n",
    "for i in range(n):\n",
    "    for j in range(n):\n",
    "        if i != j:\n",
    "            summary += math.fabs(A[i][j])\n",
    "for i in range (n):\n",
    "    if A[i][i] <= summary:\n",
    "        A[i][i] = randint(int(summary)*100, 10000) / 100\n",
    "\n",
    "print(*A, sep='\\n')"
   ]
  },
  {
   "cell_type": "markdown",
   "id": "1f3dfe13-9940-4adb-87a6-a3fb29a9d54d",
   "metadata": {},
   "source": [
    "Для сходимости метода проведем трансформацию Гаусса, чтобы получить симметрическую положительно определенную матрицу, то есть возьмем матрицу $$\\overline A = A^TA.$$"
   ]
  },
  {
   "cell_type": "code",
   "execution_count": 67,
   "id": "0e4abe56-fdcd-4ec0-a511-2b4fa36dc442",
   "metadata": {},
   "outputs": [
    {
     "name": "stdout",
     "output_type": "stream",
     "text": [
      "[3205.18  783.34 1022.76  426.47]\n",
      "[ 783.34 8071.47  643.13  625.66]\n",
      "[1022.76  643.13 6236.62  176.84]\n",
      "[ 426.47  625.66  176.84 2949.29]\n"
     ]
    }
   ],
   "source": [
    "A = np.dot(A.T, A)\n",
    "\n",
    "for i in range(n):\n",
    "    for j in range(n):\n",
    "        A[i, j] = round(A[i, j], 2)\n",
    "\n",
    "print(*A, sep='\\n')"
   ]
  },
  {
   "cell_type": "markdown",
   "id": "a77ecf4e-bde6-4488-b994-c7bc79069945",
   "metadata": {},
   "source": [
    "2. Сгенерировать случайным образом вектор решений $x$ (два знака после запятой)."
   ]
  },
  {
   "cell_type": "code",
   "execution_count": 68,
   "id": "947d81e1-d68e-45de-8155-e55e90fc4baa",
   "metadata": {},
   "outputs": [
    {
     "name": "stdout",
     "output_type": "stream",
     "text": [
      "3.14\n",
      "3.01\n",
      "7.7\n",
      "7.69\n"
     ]
    }
   ],
   "source": [
    "x = np.array([randint(10, 1000) / 100 for _ in range(n)]).astype(float)\n",
    "\n",
    "print(*x, sep='\\n')"
   ]
  },
  {
   "cell_type": "markdown",
   "id": "36bd7d0b-17db-409b-81fe-3ae3c458ff9e",
   "metadata": {},
   "source": [
    "3. По сгенерированным данным вычислить вектор $b$ свободных членов системы по формуле $b = Ax$."
   ]
  },
  {
   "cell_type": "code",
   "execution_count": 69,
   "id": "3fc564c4-f484-451e-8fee-677f7cb34079",
   "metadata": {},
   "outputs": [
    {
     "name": "stdout",
     "output_type": "stream",
     "text": [
      "23576.9249\n",
      "36518.2387\n",
      "54529.1613\n",
      "27264.060500000003\n"
     ]
    }
   ],
   "source": [
    "b = A.dot(x)\n",
    "\n",
    "print(*b, sep='\\n')"
   ]
  },
  {
   "cell_type": "markdown",
   "id": "6448a66a-452d-43b6-82fd-f92d1a60d1ad",
   "metadata": {},
   "source": [
    "4. В качестве условия для остановки итераций будем проверять $$| |x^{k+1} - x^k | |\\leq \\varepsilon,$$\n",
    "где зададим $\\varepsilon = 10^{-5}$."
   ]
  },
  {
   "cell_type": "code",
   "execution_count": 70,
   "id": "fbc5f2d2-612c-48d0-8ee6-0885139cc7cb",
   "metadata": {},
   "outputs": [],
   "source": [
    "epsilon = 1e-5"
   ]
  },
  {
   "cell_type": "markdown",
   "id": "e9817127-c732-4e45-9845-3b3938335522",
   "metadata": {},
   "source": [
    "5. Найдем решение системы указанным методом."
   ]
  },
  {
   "cell_type": "markdown",
   "id": "8ab8a7f5-9981-423f-bda8-7ad99a5832db",
   "metadata": {},
   "source": [
    "Зададим параметр $\\omega$"
   ]
  },
  {
   "cell_type": "code",
   "execution_count": 75,
   "id": "be196cb9-34e9-4724-9f34-cbcc18248b83",
   "metadata": {},
   "outputs": [],
   "source": [
    "w = 1.3"
   ]
  },
  {
   "cell_type": "markdown",
   "id": "67c7a468-3bec-4c70-bc91-981071a535d5",
   "metadata": {},
   "source": [
    "Решение, полученное методом релаксации, равно"
   ]
  },
  {
   "cell_type": "code",
   "execution_count": 76,
   "id": "a2bc715b-553f-4bc8-b020-56f0611d7510",
   "metadata": {},
   "outputs": [
    {
     "name": "stdout",
     "output_type": "stream",
     "text": [
      "3.1400012111933884\n",
      "3.0099998137478052\n",
      "7.699999408749417\n",
      "7.689999415146926\n"
     ]
    }
   ],
   "source": [
    "x_, iters = relaxation_method(A, b, w, epsilon)\n",
    "\n",
    "print(*x_, sep='\\n')"
   ]
  },
  {
   "cell_type": "markdown",
   "id": "862f0656-27cb-4bdf-baf2-99783210aebb",
   "metadata": {},
   "source": [
    "Число итераций равно:"
   ]
  },
  {
   "cell_type": "code",
   "execution_count": 77,
   "id": "8baa6d29-071c-45ba-8c49-815891409860",
   "metadata": {},
   "outputs": [
    {
     "name": "stdout",
     "output_type": "stream",
     "text": [
      "23\n"
     ]
    }
   ],
   "source": [
    "print(iters)"
   ]
  },
  {
   "cell_type": "markdown",
   "id": "fd978ea5-8222-48e3-a2eb-95b01f428e41",
   "metadata": {},
   "source": [
    "Выполним проверку путем вычисления вектора невязки."
   ]
  },
  {
   "cell_type": "code",
   "execution_count": 78,
   "id": "02a219b4-26d1-451e-a2ec-df9cf8a39cb5",
   "metadata": {},
   "outputs": [
    {
     "name": "stdout",
     "output_type": "stream",
     "text": [
      "0.002882064291043207\n",
      "-0.0013007229354116134\n",
      "-0.00267185485427035\n",
      "-0.0014294509855972137\n"
     ]
    }
   ],
   "source": [
    "r = np.zeros(n)\n",
    "for i in range(n):\n",
    "    for j in range(n):\n",
    "        r[i] += A[i][j]*x_[j];\n",
    "    r[i] -= b[i]\n",
    "\n",
    "print(*r, sep='\\n')"
   ]
  }
 ],
 "metadata": {
  "kernelspec": {
   "display_name": "Python 3 (ipykernel)",
   "language": "python",
   "name": "python3"
  },
  "language_info": {
   "codemirror_mode": {
    "name": "ipython",
    "version": 3
   },
   "file_extension": ".py",
   "mimetype": "text/x-python",
   "name": "python",
   "nbconvert_exporter": "python",
   "pygments_lexer": "ipython3",
   "version": "3.10.9"
  }
 },
 "nbformat": 4,
 "nbformat_minor": 5
}
