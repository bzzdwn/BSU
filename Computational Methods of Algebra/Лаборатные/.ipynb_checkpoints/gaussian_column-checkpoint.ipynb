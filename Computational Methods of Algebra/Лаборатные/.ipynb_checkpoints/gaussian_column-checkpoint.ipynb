{
 "cells": [
  {
   "cell_type": "markdown",
   "id": "57df0151-adcb-4dc6-870b-e4653745ed03",
   "metadata": {},
   "source": [
    "# Алгоритм решения"
   ]
  },
  {
   "cell_type": "markdown",
   "id": "311d01b6-045e-4611-bfb6-ea46270fda1f",
   "metadata": {},
   "source": [
    "## Постановка задачи\n",
    "Пусть дана система $$Ax = b.\\quad (1)$$\n",
    "    \n",
    "Предполагаем, что задача является корректно поставленной. Нам необходимо:\n",
    "1. найти решение системы указанным методом;\n",
    "2. вычислить вектор невязки;\n",
    "3. вычислить определитель матрицы системы;\n",
    "4. найти матрицу, обратную к матрице системы;\n",
    "5. найти число обусловленности матрицы системы."
   ]
  },
  {
   "cell_type": "markdown",
   "id": "2ee75e43-8460-46b1-8e4e-0b42379a4d29",
   "metadata": {
    "tags": []
   },
   "source": [
    "## Выбор главного элемента по строке.\n",
    "\n",
    "На каждом $k$-ом шаге прямого хода в качестве ведущего выбирается максимальный по модулю элемент в неприведенной части строки. После этого столбец расширенной матрицы соотвествующий главному элементу переставляется с $k$-ым столбцом и производится перенумерация коэффициентов при неизвестных. Для этого заводим массив индексов, в котором будем производить перестановки."
   ]
  },
  {
   "cell_type": "markdown",
   "id": "7f02cdde-240c-4784-84d5-57d109000e5b",
   "metadata": {},
   "source": [
    "Запишем систему в координатном виде:\n",
    "\t$$\\begin{cases}\n",
    "\t\ta_{11}x_1 + a_{12}x_2 + \\ldots + a_{1n}x_n = b_1,\\\\\n",
    "\t\ta_{21}x_1 + a_{22}x_2 + \\ldots + a_{2n}x_n = b_2,\\\\\n",
    "\t\t\\vdots\\\\\n",
    "\t\ta_{n1}x_1 + a_{n2}x_2 + \\ldots + a_{nn}x_n = b_n.\n",
    "\t\\end{cases}\\quad (1)$$\n",
    "    \n",
    "Предположим, что $a_{11}\\ne0$. Разделим первое уравнение системы (1) на $a_{11}$ и получим:\n",
    "$$x_1 + c_{11}x_2 + \\ldots + c_{1n}x_n = q_1 \\quad (2),$$ где $c_{1j} = \\dfrac{a_{1j}}{a_{11}}$, $j = \\overline{2,n}$, $q_1=\\dfrac{b_1}{a_{11}}$.\n",
    "С помощью уравнения $(2)$ исключим $x_1$ из всех остальных уравнений, начиная со 2-го. Таким образом, первое уравнение не поменяется, а все остальные примут вид \n",
    "    $$\\begin{cases}\n",
    "\t\ta_{22}^1x_2 +a_{23}^1x_3+ \\ldots + a_{2n}^1x_n = b_2^1,\\\\\n",
    "\t\t\\vdots\\\\\n",
    "\t\ta_{n2}^1x_2 + a_{n3}^1x_3 + \\ldots + a_{nn}^1x_n = b_n^1,\n",
    "\t\\end{cases}\\quad(3)$$\n",
    "    \n",
    "где $a_{ij}^1 = a_{ij} - c_{1j}a_{i1}$, $b_i^1 = b_i - q_1a_{i1}$, $i,j = \\overline{2,n}$.\n",
    "Мы завершили первый шаг прямого хода.\n",
    "\n",
    "$\\bullet$ Элемент $a_{11}$ называется **ведущим** элементом шага.\n",
    "\n",
    "Далее считаем, что $a_{22}$ ведущий элемент. Аналогично делим на него и исключаем $x_2$ и так далее до $x_{nn}$. Окончательно приходим к системе с верхней треугольной матрицей следующего вида \n",
    "$$\\begin{cases}\n",
    "\tx_1 + c_{12}x_2 + \\ldots + c_{1n} = q_1,\\\\\n",
    "\tx_2 + \\ldots + c_{2n} = q_2,\\\\\n",
    "\t\\vdots\\\\\n",
    "\tx_n = q_n.\n",
    "\t\\end{cases}\\quad (4)$$"
   ]
  },
  {
   "cell_type": "markdown",
   "id": "92828a21-8b9c-40aa-a426-256d1bb3f298",
   "metadata": {},
   "source": [
    "## Прямой ход.\n",
    "\n",
    "Для того, чтобы получить общие формулы вычисления матрицы, введем следующие обозначения:\n",
    "1. $a_{kj}^0 = a_{kj}, k,j=\\overline{1,n}$ - исходные элементы матрицы;\n",
    "2. $b_k^0 = b_k$, $k = \\overline{1,n}$ - компоненты вектора правых частей исходной матрицы.\n",
    "\t\n",
    "Тогда \n",
    "    $$c_{kj} = \\dfrac{a_{kj}^{k-1}}{a_{kk}^{k-1}},\\ j=\\overline{k+1,n},\\ k = \\overline{1,n-1},$$\n",
    "\t$$a_{ij}^k = a_{ij}^{k-1} - a_{ik}^{k-1}c_{kj},\\ i,j=\\overline{k+1,n},\\ k = \\overline{1,n-1},$$\n",
    "\t$$q_k = \\dfrac{b_k^{k-1}}{a_{kk}^{k-1}},\\ k=\\overline{1,n},$$\n",
    "\t$$b_i^k = b_i^{k-1} - a_{ik}^{k-1}q_k,\\ i=\\overline{k+1,n},\\ k = \\overline{1,n-1}.$$\n",
    "\t\n",
    "Метод Гаусса завершен, числа $a_{kk}^{k-1}$, $k=\\overline{1,n}$ - ведущие элементы."
   ]
  },
  {
   "cell_type": "markdown",
   "id": "69ca40bd-1217-4c5a-959b-b477bafd397a",
   "metadata": {},
   "source": [
    "## Обратный ход\n",
    "\n",
    "Обратный ход состоит в последовательном нахождении неизвестных $$x_i = \\dfrac{q_i - \\sum_{j=i+1}^{n}c_{ij}x_j}{a_{ii}},\\ i=\\overline{n-1, 1}.$$\n",
    "\t$$x_n = \\dfrac{q_n}{a_{nn}}.$$"
   ]
  },
  {
   "cell_type": "markdown",
   "id": "0721fe71-3514-457e-98de-1666126da6c4",
   "metadata": {},
   "source": [
    "## Вычисление вектора невязки\n",
    "\n",
    "После применения обратного хода мы получаем вектор решений $x^*$. Вектор невязки определяется формулой $$r = Ax^* - b,$$ где $A$ и $b$ - матрица и вектор исходной системы."
   ]
  },
  {
   "cell_type": "markdown",
   "id": "c9b3d8e7-67b4-4205-8e7f-87e0ee48272d",
   "metadata": {},
   "source": [
    "## Вычисление определителя\n",
    "\n",
    "$$|A| = (-1)^m\\cdot a^0_{11}\\cdot a^1_{22}\\cdot\\ldots\\cdot a^{n-1}_{nn},$$\n",
    "\tгде $m$ - количество перестановок, осуществленных при прямом ходе метода Гаусса."
   ]
  },
  {
   "cell_type": "markdown",
   "id": "c33012f3-2c22-4cfc-bb83-dfca4f43ba66",
   "metadata": {},
   "source": [
    "## Вычисление обратной матрицы\n",
    "\n",
    "Задача нахождения матрицы обратной матрице $A$ эквивалентна задаче решения матричного уравнения $$AX = E,$$ где $X = A^{-1}$ - искомая матрица. Если обозначить $x^{(1)}, \\ldots, x^{(n)}$ - столбцы матрицы $X$, то эта матрица может быть найдена по столбцам решения системы вида $$Ax^{(j)} = \\delta^{(j)},\\ \\delta^{(j)} = (\\delta_{1j}, \\ldots, \\delta_{nj})^T,\\ x^{(j)} = (x_{1j},\\ldots, x_{nj})^T.\\ j=\\overline{1,n}\\qquad(1)$$\n",
    "\tРешение всех $n$ систем доставит нам все столбцы обратной матрицы. Таким образом, задача нахождения обратной матрицы сводится к применению метода Гаусса $n$ раз к системе вида $(1)$."
   ]
  },
  {
   "cell_type": "markdown",
   "id": "7b05f96a-5dcd-4a7d-8fe0-bf55e4a4a825",
   "metadata": {},
   "source": [
    "## Вычисление числа обусловленности\n",
    "\n",
    "Для вычисления числа обусловленности воспользуемся формулой, определяющей его, $$\\nu(A) = | | A| | \\cdot | | A^{-1} | |.$$\n",
    "При решении будет вычислять его, используя сферическую норму матрицы."
   ]
  },
  {
   "cell_type": "markdown",
   "id": "e0cdcaa3-c6b0-467b-a089-88d99cd344b6",
   "metadata": {},
   "source": [
    "# Листинг программы"
   ]
  },
  {
   "cell_type": "code",
   "execution_count": 1,
   "id": "5ec9ee02-373f-49c3-8da1-0c5f4164514b",
   "metadata": {
    "tags": []
   },
   "outputs": [],
   "source": [
    "import numpy as np\n",
    "import math"
   ]
  },
  {
   "cell_type": "markdown",
   "id": "47f093e3-48e1-4959-b074-daf338dd3751",
   "metadata": {},
   "source": [
    "## Функция алгоритма"
   ]
  },
  {
   "cell_type": "code",
   "execution_count": 2,
   "id": "3abe9c6a-0398-4f53-b581-3e3166efffe7",
   "metadata": {},
   "outputs": [],
   "source": [
    "def gaussian(matrix, column):\n",
    "    insertions = 0 # Число перестановок\n",
    "    A = matrix.copy() # Сохраняем переданную матрицу в локальную переменную\n",
    "    b = column.copy() # Сохраняем переданный столбец в локальную переменную\n",
    "    for k in range(A.shape[0]):\n",
    "        leading_row = k # Столбец, в котором ведущий элемент, считаем равным номеру шага\n",
    "        for i in range(k, A.shape[0]): # находим максимальный по модулю элемент в столбце\n",
    "            if math.fabs(A[i][k]) > math.fabs(A[leading_row][k]):\n",
    "                leading_row = i # Номер столбца с ведущим элементом принимает значение того, ...\n",
    "                # ...в котором находится больший элемент, чем текущий ведущий элемент\n",
    "        for j in range(k, A.shape[1]): # меняем местами строку, в которой главный элемент, со строкой равной номеру шага\n",
    "            A[leading_row][j], A[k][j] =  A[k][j], A[leading_row][j]\n",
    "        insertions+=1 # повышаем число перестановок\n",
    "        \n",
    "        # Прямой ход (полностью дублирует формулу прямого хода, указанную выше)\n",
    "        q = b[k] / A[k][k]\n",
    "        for j in range(A.shape[0] - 1, k - 1, -1):\n",
    "            c = A[k][j] / A[k][k]\n",
    "            for i in range(A.shape[0] - 1, k, -1):\n",
    "                    A[i][j] = A[i][j] - A[i][k]*c\n",
    "                    if j == A.shape[0] - 1:\n",
    "                        b[i] = b[i] - A[i][k]*q\n",
    "    \n",
    "    # Обратный ход (полностью дублирует формулу обратного хода, указанную выше)\n",
    "    x=np.zeros(A.shape[0]) # Создаем итоговый вектор решений, заполненный нулями\n",
    "    for i in range(A.shape[0]-1, -1, -1):\n",
    "        summary = 0\n",
    "        for j in range(i+1, A.shape[0]):\n",
    "            summary += A[i][j]*x[j]\n",
    "        x[i] = (b[i] - summary) / A[i][i]\n",
    "        \n",
    "    #Вычисление вектора невязки\n",
    "    r = np.zeros(A.shape[0]) # Создаем вектор заполненный нулями\n",
    "    for i in range(A.shape[0]):\n",
    "        for j in range(A.shape[0]):\n",
    "            r[i] += A[i][j]*x[j]; # r += Ax\n",
    "        r[i] -= b[i] # r -= b\n",
    "    \n",
    "    # Вычисление определителя\n",
    "    determinant = (-1)**insertions # Создаем переменную, в которой содержится (-1) в степени числа перестановок\n",
    "    for k in range(A.shape[0]):\n",
    "        determinant *= A[k][k] # Перемножаем все диагональные элементы получившейся треугольной матрицы\n",
    "    \n",
    "    return x, r, determinant;"
   ]
  },
  {
   "cell_type": "markdown",
   "id": "e3c0bc5e-1463-444f-8ea7-ed857c80912e",
   "metadata": {},
   "source": [
    "## Проверка результатов"
   ]
  },
  {
   "cell_type": "markdown",
   "id": "861dcef2-7efb-457c-8f07-b476654d3dce",
   "metadata": {},
   "source": [
    "1. При заданном $n$ сгенерировать случайным образом квадратную матрицу размера $n\\times n$, имеющую диагональное доминирование. Элементы матрицы - действительные числа с двумя знаками после запятой."
   ]
  },
  {
   "cell_type": "code",
   "execution_count": 10,
   "id": "eacc50d5-0abd-44ab-8d3d-3e509193e559",
   "metadata": {},
   "outputs": [
    {
     "name": "stdin",
     "output_type": "stream",
     "text": [
      " 5\n"
     ]
    },
    {
     "name": "stdout",
     "output_type": "stream",
     "text": [
      "[98.12  5.    8.47  2.29  8.8 ]\n",
      "[ 1.79 95.05  8.96  2.    1.06]\n",
      "[ 9.11  7.92 96.34  6.7   0.7 ]\n",
      "[ 0.2   6.59  6.6  94.14  1.96]\n",
      "[ 6.54  1.56  4.41  2.73 97.27]\n"
     ]
    }
   ],
   "source": [
    "from random import randint\n",
    " \n",
    "n = int(input())\n",
    " \n",
    "A = np.array([[randint(10, 1000) / 100 for _ in range(n)] for _ in range(n)]).astype(float)\n",
    "\n",
    "summary = 0\n",
    "for i in range(n):\n",
    "    for j in range(n):\n",
    "        if i != j:\n",
    "            summary += math.fabs(A[i][j])\n",
    "for i in range (n):\n",
    "    if A[i][i] <= summary:\n",
    "        A[i][i] = randint(int(summary)*100, 10000) / 100\n",
    "\n",
    "print(*A, sep='\\n')"
   ]
  },
  {
   "cell_type": "markdown",
   "id": "b3b2efb9-8145-4308-9204-516fd66edbb1",
   "metadata": {},
   "source": [
    "2. Сгенерировать случайным образом вектор решений $x$ (два знака после запятой)."
   ]
  },
  {
   "cell_type": "code",
   "execution_count": 11,
   "id": "f519f0d1-4d40-4fc2-8aa2-ae24716b32c5",
   "metadata": {},
   "outputs": [
    {
     "name": "stdout",
     "output_type": "stream",
     "text": [
      "0.77\n",
      "3.89\n",
      "7.22\n",
      "7.07\n",
      "6.34\n"
     ]
    }
   ],
   "source": [
    "x = np.array([randint(10, 1000) / 100 for _ in range(n)]).astype(float)\n",
    "\n",
    "print(*x, sep='\\n')"
   ]
  },
  {
   "cell_type": "markdown",
   "id": "d8949b80-96ea-43e9-a667-031e81768472",
   "metadata": {},
   "source": [
    "3. По сгенерированным данным вычислить вектор $b$ свободных членов системы по формуле $b = Ax$."
   ]
  },
  {
   "cell_type": "code",
   "execution_count": 12,
   "id": "e30525fb-a793-4a9d-95b3-b53484dab35c",
   "metadata": {},
   "outputs": [
    {
     "name": "stdout",
     "output_type": "stream",
     "text": [
      "228.1381\n",
      "456.6744\n",
      "785.2053\n",
      "751.4372999999999\n",
      "678.9372999999999\n"
     ]
    }
   ],
   "source": [
    "b = A.dot(x)\n",
    "\n",
    "print(*b, sep='\\n')"
   ]
  },
  {
   "cell_type": "markdown",
   "id": "22e88cd8-cbe6-4ac9-aa3d-e3b6b152f2ab",
   "metadata": {},
   "source": [
    "4. Для полученных данных:\n",
    "\n",
    "    a) найти решение системы указанным методом."
   ]
  },
  {
   "cell_type": "code",
   "execution_count": 13,
   "id": "156bc83a-8156-4460-86fc-8e9fcc264f88",
   "metadata": {},
   "outputs": [
    {
     "name": "stdout",
     "output_type": "stream",
     "text": [
      "0.77\n",
      "3.89\n",
      "7.219999999999999\n",
      "7.069999999999999\n",
      "6.34\n"
     ]
    }
   ],
   "source": [
    "_x, r, det = gaussian(A, b)\n",
    "\n",
    "print(*_x, sep='\\n')"
   ]
  },
  {
   "cell_type": "markdown",
   "id": "c884023d-8c68-4259-a370-defe09c9e993",
   "metadata": {},
   "source": [
    "Выполнить проверку путем вычисления вектора невязки."
   ]
  },
  {
   "cell_type": "code",
   "execution_count": 14,
   "id": "98b183a0-5742-4589-be08-3a694d466889",
   "metadata": {},
   "outputs": [
    {
     "name": "stdout",
     "output_type": "stream",
     "text": [
      "0.0\n",
      "0.0\n",
      "0.0\n",
      "0.0\n",
      "0.0\n"
     ]
    }
   ],
   "source": [
    "print(*r, sep='\\n')"
   ]
  },
  {
   "cell_type": "markdown",
   "id": "85171393-6f6e-4363-b356-aa6f45f1e480",
   "metadata": {},
   "source": [
    "б) найти матрицу, обратную к матрице системы."
   ]
  },
  {
   "cell_type": "code",
   "execution_count": 15,
   "id": "110174b0-7888-4424-886f-5b644a6f2b11",
   "metadata": {},
   "outputs": [
    {
     "name": "stdout",
     "output_type": "stream",
     "text": [
      "[ 1.03371147e-02 -9.74251564e-05 -9.69361609e-04  6.63807855e-05\n",
      " -6.51373307e-04]\n",
      "[-4.49921581e-04  1.06183549e-02 -7.82067188e-04 -6.85745296e-04\n",
      " -8.53412723e-05]\n",
      "[-0.00081403 -0.00096415  0.01058521 -0.00066475 -0.00039106]\n",
      "[-0.00015725 -0.00015179 -0.00071416  0.01068881 -0.00025461]\n",
      "[-9.21267310e-04 -9.69025101e-05  3.44348379e-05 -2.09129201e-04\n",
      "  1.03484663e-02]\n"
     ]
    }
   ],
   "source": [
    "E = np.eye(n)\n",
    "A_inv = []\n",
    "for i in range(n):\n",
    "    A_inv.append(gaussian(A, E[i])[0])\n",
    "print(*A_inv, sep='\\n')"
   ]
  },
  {
   "cell_type": "markdown",
   "id": "066eab9c-94e3-40f9-9424-652271c12c3d",
   "metadata": {},
   "source": [
    "Выполнить проверку;"
   ]
  },
  {
   "cell_type": "code",
   "execution_count": 16,
   "id": "555ab983-1c9d-4f29-a3ac-4e03c80d9288",
   "metadata": {},
   "outputs": [
    {
     "name": "stdout",
     "output_type": "stream",
     "text": [
      "[1. 0. 0. 0. 0.]\n",
      "[0. 1. 0. 0. 0.]\n",
      "[0. 0. 1. 0. 0.]\n",
      "[0. 0. 0. 1. 0.]\n",
      "[0. 0. 0. 0. 1.]\n"
     ]
    }
   ],
   "source": [
    "E = np.dot(A_inv, A)\n",
    "\n",
    "for i in range(n):\n",
    "    for j in range(n):\n",
    "        E[i,j] = round(np.absolute(E[i,j]), 0) # Преобразуем \"единичниую\" матрицу, округлив до нуля знаков после запятой\n",
    "        \n",
    "print(*E, sep='\\n')"
   ]
  },
  {
   "cell_type": "markdown",
   "id": "cec196d6-112a-437a-b985-aa39116ffd0b",
   "metadata": {},
   "source": [
    "в) вычислить определитель матрицы системы;"
   ]
  },
  {
   "cell_type": "code",
   "execution_count": 17,
   "id": "041f3a2b-3dfb-487b-892f-6b70f91c3fbd",
   "metadata": {},
   "outputs": [
    {
     "name": "stdout",
     "output_type": "stream",
     "text": [
      "-7994474610.351031\n"
     ]
    }
   ],
   "source": [
    "print(det)"
   ]
  },
  {
   "cell_type": "markdown",
   "id": "120b2bfb-095b-456f-b61d-f8b3ef0cc7b3",
   "metadata": {},
   "source": [
    "г) найти число обусловленности."
   ]
  },
  {
   "cell_type": "code",
   "execution_count": 18,
   "id": "c4007cfd-f6a7-4af1-9a02-3b0b2e60090f",
   "metadata": {},
   "outputs": [
    {
     "name": "stdout",
     "output_type": "stream",
     "text": [
      "5.121401102691999\n"
     ]
    }
   ],
   "source": [
    "nu = np.linalg.norm(A) * np.linalg.norm(A_inv)\n",
    "print(nu)"
   ]
  },
  {
   "cell_type": "markdown",
   "id": "f4b8b20c-abb1-4da7-9b78-68002049a24d",
   "metadata": {},
   "source": [
    "В заключение заметим, что сложность данного алгоритма $O(n^3) = \\dfrac{2}{3}n^3 + O(n^2)$. В частности, все операции умножения и деления занимают $\\dfrac{1}{3}n(n^2+3n-1)$ действий."
   ]
  }
 ],
 "metadata": {
  "kernelspec": {
   "display_name": "Python 3 (ipykernel)",
   "language": "python",
   "name": "python3"
  },
  "language_info": {
   "codemirror_mode": {
    "name": "ipython",
    "version": 3
   },
   "file_extension": ".py",
   "mimetype": "text/x-python",
   "name": "python",
   "nbconvert_exporter": "python",
   "pygments_lexer": "ipython3",
   "version": "3.10.9"
  }
 },
 "nbformat": 4,
 "nbformat_minor": 5
}
