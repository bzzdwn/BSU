{
 "cells": [
  {
   "cell_type": "markdown",
   "id": "3bc88a21-210a-4287-ba61-0eda8202cb2f",
   "metadata": {},
   "source": [
    "# Алгоритм решения"
   ]
  },
  {
   "cell_type": "markdown",
   "id": "d720f21e-a585-4feb-8c93-670c56aaacdf",
   "metadata": {},
   "source": [
    "## Постановка задачи\n",
    "Пусть дана система $$Ax = b.\\quad (1)$$\n",
    "    \n",
    "Предполагаем, что задача является корректно поставленной. Нам необходимо:\n",
    "1. найти решение системы указанным методом;\n",
    "2. вычислить вектор невязки;\n",
    "3. вычислить определитель матрицы системы;\n",
    "4. найти матрицу, обратную к матрице системы;\n",
    "5. найти число обусловленности матрицы системы."
   ]
  },
  {
   "cell_type": "markdown",
   "id": "da19fb36-ccb4-40be-9da5-007ecd63fe35",
   "metadata": {},
   "source": [
    "## Метод вращений\n",
    "\n",
    "$\\bullet$ _**Матрицей вращения** называется матрица вида_ $$T_{ij}  = \\bordermatrix{\n",
    "\t\t\t& & & i & &j & & \\cr\n",
    "\t\t\t& 1 & \\dots & 0 & \\dots & 0 & \\dots & 0 \\cr\n",
    "\t\t\t& \\vdots & \\ddots & \\vdots & \\vdots & \\vdots & \\ddots & \\vdots \\cr\n",
    "\t\t\ti& 0 & \\dots & \\cos\\varphi & \\dots & -\\sin\\varphi & \\dots & 0 \\cr\n",
    "\t\t\t& \\vdots & \\ddots & \\vdots & \\ddots & \\vdots & \\ddots & \\vdots \\cr\n",
    "\t\t\tj & 0 & \\dots & \\sin\\varphi & \\dots & \\cos\\varphi & \\dots & 0 \\cr\n",
    "\t\t\t& \\vdots & \\ddots & \\vdots & \\vdots & \\vdots & \\ddots & \\vdots \\cr\n",
    "\t\t\t& 0 & \\dots & 0 & \\dots & 0 & \\dots & 1 \\cr}. \\quad(2)$$\n",
    "Если мы умножим матрицу $A$ на матрицу $T_{ij}$ слева, то мы получим матрицу $B = T_{ij}A$, у которой элементы $i$-ой и $j$-ой строк будут изменены $$\\begin{cases}\n",
    "\tb_{ik} = a_{ik}\\cos \\varphi - a_{jk}\\sin\\varphi,\\\\\n",
    "\tb_{jk} = a_{ik}\\sin\\varphi + a_jk\\cos\\varphi,\n",
    "\t\\end{cases}\\quad k = \\overline{1,n},\\quad(3)$$\n",
    "а остальные элементы не изменятся.\n",
    "\n",
    "Запишем формулы, обеспечивающие выбор $\\varphi$. Предположим, что нам нужно исключить $x_s$ неизвестную из $j$-ого уравнения, то есть коэффициент при этом значении должен быть равен нулю. Для этого нам необходимо в формуле (3) положить $k=s$ и приравнять этот элемент к нулю. То есть $$a_{is}\\sin \\varphi + a_{js}\\cos\\varphi = 0.$$\n",
    "Получили уравнение с одной неизвестной. Очевидно $$\\operatorname{tg}\\varphi = -\\dfrac{a_{js}}{a_{is}},\\ a_{is} \\ne 0.$$\n",
    "\tОтсюда $$\\begin{cases}\n",
    "\t\t\\cos \\varphi = \\dfrac{a_{is}}{\\sqrt{a_{is}^2 + a_{js}^2}},\\\\\n",
    "\t\t\\sin\\varphi = - \\dfrac{a_{js}}{\\sqrt{a_{is}^2 + a_{js}^2}}.\n",
    "\t\\end{cases}\\quad(4)$$\n",
    "Заметим, что в формуле (4) $a_{is}$ может быть равным нулю. Но если $a_{js} = 0$, то $T_{ij} = E$."
   ]
  },
  {
   "cell_type": "markdown",
   "id": "24af5a1e-88eb-4784-826a-73abcff4287c",
   "metadata": {},
   "source": [
    "## Алгоритм метода\n",
    "**Первый этап.**\n",
    "Последовательно будем умножать исходную систему на матрицы $$T_1 = T_{12}, T_{13},\\ldots, T_{1n}.$$\n",
    "\t При этом первая строка получится такая, какая получится, а все остальные строки будут без переменной $x_1$. Итак у нас будет количество умножений $n-1$ и для каждого $k$-ого умножения запишем формулу $$\\cos\\varphi_{1,k} = \\dfrac{a_{11}^{1,k-1}}{\\sqrt{(a_{11}^{1,k-1})^2 + (a_{k1}^{1,k-1})^2}},\\quad \\sin\\varphi_{1,k} =- \\dfrac{a_{k1}^{1,k-1}}{\\sqrt{(a_{11}^{1,k-1})^2 + (a_{k1}^{1,k-1})^2}}, \\quad k =\\overline{2,n}\\quad (5)$$\n",
    " Для пересчета ненулевых элементов запишем формулу\n",
    " $$\\begin{cases}\n",
    " \ta_{1j}^{1,k} = a_{1j}^{1,k-1}\\cos\\varphi_{1,k} -a_{kj}^{1,k-1}\\sin\\varphi_{1,k},\\quad j=\\overline{1,n},\\ k=\\overline{2,n},\\\\\n",
    " \ta_{kj}^{1,k} = a_{1j}^{1,k-1}\\sin\\varphi_{1,k} +a_{kj}^{1,k-1}\\cos\\varphi_{1,k},\\quad j=\\overline{1,n},\\ k=\\overline{2,n},\\\\\n",
    " \ta_{ij}^{1,k} = a_{ij}^{1,k-1},\\quad i\\ne 1,\\ i \\ne k.\n",
    " \\end{cases}\\quad(6)$$\n",
    " $$\\begin{cases}\n",
    " \tb_1^{1,k} = b_1^{1,k-1}\\cos\\varphi_{1,k} - b_k^{1,k-1}\\sin\\varphi_{1,k},\\\\\n",
    " \tb_k^{1,k} = b_1^{1,k-1}\\sin\\varphi_{1,k} + b_k^{1,k-1}\\cos\\varphi_{1,k},\\\\\n",
    " \tb_p^{1,k} = b^{1,k-1}_p,\\quad p\\ne 1, p\\ne k\n",
    " \\end{cases} \\quad(7)$$\n",
    "Данная формула соответствует первому этапу.\n",
    "\n",
    "По окончанию первого этапа мы получаем систему $$A^1x = b^1,\\quad A^1 = T_{1n}\\ldots T_{13}T_{12}A = T_1A, b^1 = T_1b.$$\n",
    "\n",
    "Все элементы ниже главной диагонали в полученной матрице будут равны нулю.\n",
    "\n",
    "**Второй этап.** \n",
    "\n",
    "Далее во втором этапе нам нужно домножить на матрицу $$T_2 = T_{2n}\\ldots T_{23}.$$ И так далее.\n",
    "\n",
    "**n-1 этап.** \n",
    "\n",
    "Получим систему $$A^{n-1}x = b^{n-1},\\quad A^{n-1} = T_{n-1}T_{n-2}\\ldots T_1A, b^{n-1} =  T_{n-1}T_{n-2}\\ldots T_1b,$$ матрица которой является верхней треугольной. Для того, чтобы завершить этот метод необходимо осуществить обратный ход метода Гаусса."
   ]
  },
  {
   "cell_type": "markdown",
   "id": "8c045fb3-24ad-4283-ba89-82194f832f98",
   "metadata": {
    "tags": []
   },
   "source": [
    "## Обратный ход\n",
    "\n",
    "Обратный ход состоит в последовательном нахождении неизвестных $$x_i = \\dfrac{q_i - \\sum_{j=i+1}^{n}c_{ij}x_j}{a_{ii}},\\ i=\\overline{n-1, 1}.$$\n",
    "\t$$x_n = \\dfrac{q_n}{a_{nn}}.$$"
   ]
  },
  {
   "cell_type": "markdown",
   "id": "a6b1a4f6-e0a3-49b7-b630-b35c49087b4a",
   "metadata": {},
   "source": [
    "Метод вращения является более трудоемким, чем метод отражения. Количество операций этого метода $Q(n)  = O(n^3)$, но количество умножений будет в 2 раза больше, чем у метода вращений."
   ]
  },
  {
   "cell_type": "markdown",
   "id": "f6da5c48-4a39-4eb3-9fb3-0289b20cd86f",
   "metadata": {
    "jp-MarkdownHeadingCollapsed": true,
    "tags": []
   },
   "source": [
    "## Вычисление вектора невязки\n",
    "\n",
    "После применения обратного хода мы получаем вектор решений $x^*$. Вектор невязки определяется формулой $$r = Ax^* - b,$$ где $A$ и $b$ - матрица и вектор исходной системы."
   ]
  },
  {
   "cell_type": "markdown",
   "id": "b28dd1ff-2f44-414b-a59a-afd12736b8d6",
   "metadata": {
    "jp-MarkdownHeadingCollapsed": true,
    "tags": []
   },
   "source": [
    "## Вычисление определителя\n",
    "\n",
    "$$|A| = a^{n-1}_{11}\\cdot a^{n-1}_{22}\\cdot\\ldots\\cdot a^{n-1}_{nn}.$$"
   ]
  },
  {
   "cell_type": "markdown",
   "id": "d568cffa-8e18-4ff4-a8fc-d2f69d95de52",
   "metadata": {
    "jp-MarkdownHeadingCollapsed": true,
    "tags": []
   },
   "source": [
    "## Вычисление обратной матрицы\n",
    "\n",
    "Для вычисления обратной матрицы рассмотренным алгоритмом будем решать систему $$AX = E,$$ где столбец $X$ и будет содержать искомую обратную матрицу."
   ]
  },
  {
   "cell_type": "markdown",
   "id": "8a74c526-3141-47df-b5e6-278bebf609d8",
   "metadata": {
    "jp-MarkdownHeadingCollapsed": true,
    "tags": []
   },
   "source": [
    "## Вычисление числа обусловленности\n",
    "\n",
    "Для вычисления числа обусловленности воспользуемся формулой, определяющей его, $$\\nu(A) = | | A| | \\cdot | | A^{-1} | |.$$\n",
    "При решении будет вычислять его, используя сферическую норму матрицы."
   ]
  },
  {
   "cell_type": "markdown",
   "id": "09c2b62a-ba10-4463-80fe-13005f075a7d",
   "metadata": {},
   "source": [
    "# Листинг программы"
   ]
  },
  {
   "cell_type": "code",
   "execution_count": 4,
   "id": "7607696d-b048-4361-9481-3bd8f5b8c9a0",
   "metadata": {},
   "outputs": [],
   "source": [
    "import numpy as np\n",
    "import math"
   ]
  },
  {
   "cell_type": "markdown",
   "id": "5a99ca7b-eea1-46fb-8f4f-8ba262beab39",
   "metadata": {},
   "source": [
    "## Функция алгоритма"
   ]
  },
  {
   "cell_type": "code",
   "execution_count": 64,
   "id": "7ac2282c-5cb5-4b47-9354-f04746d0f3cd",
   "metadata": {},
   "outputs": [],
   "source": [
    "def rotation_method(A, b):\n",
    "    E = np.eye(A.shape[0]) # Единичная матрица\n",
    "    for k in range(A.shape[0] - 1): # Цикл шагов алгоритма\n",
    "        T_k = np.eye(A.shape[0]) # Инициализируем матрицу T_k, на которую мы умножаем матрицу A на k-ом шаге\n",
    "        for j in range(k + 1, A.shape[0]): # Цикл для подсчета n-k матриц T_kj, из произведения которых саму матрицу T_k\n",
    "            cos_phi = A[k][k] / np.sqrt(A[k][k]**2 + A[j][k]**2) # Считаем косинус по формуле (4)\n",
    "            sin_phi = - A[j][k] / np.sqrt(A[k][k]**2 + A[j][k]**2) # Считаем синус по формуле (4)\n",
    "            T = E.copy() # Инициализируем матрицу T_kj, в k-ой и j-ой строках которой будут стоять рассчитанные синусы и косинусы...\n",
    "            # ...в соответствии с формулой (2)\n",
    "            \n",
    "            # Расставляем на нужные позиции синус и косинус как в формуле (2)\n",
    "            T[k][k] = cos_phi\n",
    "            T[k][j] = -sin_phi\n",
    "            T[j][k] = sin_phi\n",
    "            T[j][j] = cos_phi\n",
    "            \n",
    "            # Домножаем матрицу T_k на T_kj слева\n",
    "            T_k = np.dot(T, T_k)\n",
    "        # Домножаем матрицу A и столбец на матрицу вращений T_k (последняя формула в первом этапе)\n",
    "        A = np.dot(T_k, A) # A^k = T_kA^(k-1)\n",
    "        b = np.dot(T_k, b) # b^k = T_kb^(k-1)\n",
    "        \n",
    "    # Вычисление определителя\n",
    "    det = 1\n",
    "    for k in range(A.shape[0]):\n",
    "        det *= A[k][k] # Произведение всех диагональных элементов получившейся треуголньой матрицы\n",
    "    \n",
    "    if len(b.shape) == 1:    # Если мы решаем систему Ax = b\n",
    "        x = np.zeros(A.shape[0]) # Заводим нулевой вектор для будущего решения системы\n",
    "        # Обратный ход метода Гаусса\n",
    "        for i in range(A.shape[0]-1, -1, -1):\n",
    "            summary = 0\n",
    "            for j in range(i+1, A.shape[0]):\n",
    "                summary += A[i][j]*x[j]\n",
    "            x[i] = (b[i] - summary) / A[i][i]\n",
    "        \n",
    "        #Вычисление вектора невязки\n",
    "        r = np.zeros(A.shape[0]) # Переменная для хранения значения вектора невязки\n",
    "        for i in range(A.shape[0]):\n",
    "            for j in range(A.shape[0]):\n",
    "                r[i] += A[i][j]*x[j]; # r+=Ax\n",
    "            r[i] -= b[i] #r-=b\n",
    "        \n",
    "        return x, r, det # Возвращаем значения решения, вектора невязки и определителя матрицы\n",
    "    \n",
    "    else: # Если решаем систему AX=E\n",
    "        x = np.zeros((A.shape[0], A.shape[0])) # Заводим нулевую матрицу для хранения будущей обратной матрицы\n",
    "        # Обратный ход метода Гаусса\n",
    "        for i in range(A.shape[0]-1, -1, -1):\n",
    "            summary = 0\n",
    "            for j in range(i+1, A.shape[0]):\n",
    "                summary += A[i][j]*x[i][j]\n",
    "            for j in range(A.shape[0]):\n",
    "                x[i][j] = (b[i][j] - summary) / A[i][i]\n",
    "        \n",
    "        return x # Возвращаем значение обратной матрицы"
   ]
  },
  {
   "cell_type": "markdown",
   "id": "72b38b9c-3bde-485e-9a11-8c3fdf3480ff",
   "metadata": {},
   "source": [
    "# Проверка результатов"
   ]
  },
  {
   "cell_type": "markdown",
   "id": "6ffe46ce-f8cb-43de-b74d-516abb60eba7",
   "metadata": {},
   "source": [
    "1. При заданном $n$ сгенерировать случайным образом квадратную матрицу размера $n\\times n$, имеющую диагональное доминирование. Элементы матрицы - действительные числа с двумя знаками после запятой."
   ]
  },
  {
   "cell_type": "code",
   "execution_count": 65,
   "id": "35f177e4-ff9b-411f-8d0b-de1b6df24194",
   "metadata": {},
   "outputs": [
    {
     "name": "stdin",
     "output_type": "stream",
     "text": [
      " 5\n"
     ]
    },
    {
     "name": "stdout",
     "output_type": "stream",
     "text": [
      "[95.76  1.68  6.41  7.04  5.48]\n",
      "[ 1.55 98.83  9.98  1.26  0.2 ]\n",
      "[ 2.73  7.97 94.65  4.07  8.74]\n",
      "[ 2.18  0.73  7.27 96.32  5.44]\n",
      "[ 9.09  1.87  8.35  2.12 97.67]\n"
     ]
    }
   ],
   "source": [
    "from random import randint\n",
    " \n",
    "n = int(input())\n",
    " \n",
    "A = np.array([[randint(10, 1000) / 100 for _ in range(n)] for _ in range(n)]).astype(float)\n",
    "\n",
    "summary = 0\n",
    "for i in range(n):\n",
    "    for j in range(n):\n",
    "        if i != j:\n",
    "            summary += math.fabs(A[i][j])\n",
    "for i in range (n):\n",
    "    if A[i][i] <= summary:\n",
    "        A[i][i] = randint(int(summary)*100, 10000) / 100\n",
    "\n",
    "print(*A, sep='\\n')"
   ]
  },
  {
   "cell_type": "markdown",
   "id": "db797791-2d55-465b-8a02-3e2c4f7b3f9b",
   "metadata": {},
   "source": [
    "2. Сгенерировать случайным образом вектор решений $x$ (два знака после запятой)."
   ]
  },
  {
   "cell_type": "code",
   "execution_count": 66,
   "id": "295acf89-b2ea-4f95-972f-44b0d95aef77",
   "metadata": {},
   "outputs": [
    {
     "name": "stdout",
     "output_type": "stream",
     "text": [
      "2.79\n",
      "7.06\n",
      "5.03\n",
      "4.61\n",
      "5.2\n"
     ]
    }
   ],
   "source": [
    "x = np.array([randint(10, 1000) / 100 for _ in range(n)]).astype(float)\n",
    "\n",
    "print(*x, sep='\\n')"
   ]
  },
  {
   "cell_type": "markdown",
   "id": "7d7bc4d4-f1ee-4309-89e9-e47a3ba0c210",
   "metadata": {},
   "source": [
    "3. По сгенерированным данным вычислить вектор $b$ свободных членов системы по формуле $b = Ax$."
   ]
  },
  {
   "cell_type": "code",
   "execution_count": 67,
   "id": "5f8fa42d-4c65-4d8c-a7ef-63f3436b99c3",
   "metadata": {},
   "outputs": [
    {
     "name": "stdout",
     "output_type": "stream",
     "text": [
      "372.2239\n",
      "759.1122999999999\n",
      "604.1851\n",
      "520.1273\n",
      "598.221\n"
     ]
    }
   ],
   "source": [
    "b = A.dot(x)\n",
    "\n",
    "print(*b, sep='\\n')"
   ]
  },
  {
   "cell_type": "markdown",
   "id": "282bb870-519f-47ad-b3f6-f5e964fe3a93",
   "metadata": {},
   "source": [
    "4. Для полученных данных:\n",
    "\n",
    "    a) найти решение системы указанным методом."
   ]
  },
  {
   "cell_type": "code",
   "execution_count": 68,
   "id": "2cc29817-41a5-4958-a396-cd3cd5dbe2cc",
   "metadata": {},
   "outputs": [
    {
     "name": "stdout",
     "output_type": "stream",
     "text": [
      "2.7902378358701774\n",
      "7.059996605323458\n",
      "5.030221157321145\n",
      "4.609892861292224\n",
      "5.19839835189939\n"
     ]
    }
   ],
   "source": [
    "_x, r, det = rotation_method(A, b)\n",
    "\n",
    "print(*_x, sep='\\n')"
   ]
  },
  {
   "cell_type": "markdown",
   "id": "543b0070-0798-4914-b1da-cff5863cc2bb",
   "metadata": {},
   "source": [
    "Выполнить проверку путем вычисления вектора невязки."
   ]
  },
  {
   "cell_type": "code",
   "execution_count": 69,
   "id": "ab8a343c-e0ed-468d-a716-a2bb9f699eba",
   "metadata": {},
   "outputs": [
    {
     "name": "stdout",
     "output_type": "stream",
     "text": [
      "0.0 -0.00041181421318015055 -0.006474086842672477 -0.01826979519012184 -0.15324208478750734\n"
     ]
    }
   ],
   "source": [
    "print(*r)"
   ]
  },
  {
   "cell_type": "markdown",
   "id": "475ee552-5b2d-4dd3-ac67-42f0dedd112a",
   "metadata": {},
   "source": [
    "б) найти матрицу, обратную к матрице системы."
   ]
  },
  {
   "cell_type": "code",
   "execution_count": 70,
   "id": "97e26e3b-a5b8-4d62-a6cd-86ef581910fd",
   "metadata": {},
   "outputs": [
    {
     "name": "stdout",
     "output_type": "stream",
     "text": [
      "[0.01033313 0.00016726 0.00029462 0.00023536 0.00098165]\n",
      "[-2.01831591e-04  1.00538217e-02  8.00631792e-04  6.60238868e-05\n",
      "  1.55426141e-04]\n",
      "[-0.00038167 -0.00086553  0.01055053  0.00078584  0.00081007]\n",
      "[-2.18623195e-04 -1.06830727e-05 -7.88682070e-04  1.04306473e-02\n",
      "  3.89426430e-05]\n",
      "[-0.0009572  -0.00011259 -0.00083129 -0.00012176  0.01037366]\n"
     ]
    }
   ],
   "source": [
    "A_inv = rotation_method(A, np.eye(n))\n",
    "print(*A_inv, sep='\\n')"
   ]
  },
  {
   "cell_type": "markdown",
   "id": "0d6b48b9-bcd4-4b2d-9c6a-57651e1a0ac5",
   "metadata": {},
   "source": [
    "Выполнить проверку;"
   ]
  },
  {
   "cell_type": "code",
   "execution_count": 71,
   "id": "329610a6-aea7-4ba4-b905-5f318bf7593e",
   "metadata": {},
   "outputs": [
    {
     "name": "stdout",
     "output_type": "stream",
     "text": [
      "[1. 0. 0. 0. 0.]\n",
      "[0. 1. 0. 0. 0.]\n",
      "[0. 0. 1. 0. 0.]\n",
      "[0. 0. 0. 1. 0.]\n",
      "[0. 0. 0. 0. 1.]\n"
     ]
    }
   ],
   "source": [
    "E = np.dot(A_inv, A)\n",
    "\n",
    "for i in range(n):\n",
    "    for j in range(n):\n",
    "        E[i,j] = round(np.absolute(E[i,j]), 0) # Преобразуем \"единичниую\" матрицу, округлив до двух знаков после запятой\n",
    "        \n",
    "print(*E, sep='\\n')"
   ]
  },
  {
   "cell_type": "markdown",
   "id": "f9500fd0-7eee-4dd8-96fe-89f2f70ebf73",
   "metadata": {},
   "source": [
    "в) вычислить определитель матрицы системы;"
   ]
  },
  {
   "cell_type": "code",
   "execution_count": 72,
   "id": "80927ed0-58e8-478c-858a-c55284d9adc0",
   "metadata": {},
   "outputs": [
    {
     "name": "stdout",
     "output_type": "stream",
     "text": [
      "8190409292.88198\n"
     ]
    }
   ],
   "source": [
    "print(det)"
   ]
  },
  {
   "cell_type": "markdown",
   "id": "486c7c54-2e80-4453-a517-c570495b80eb",
   "metadata": {},
   "source": [
    "г) найти число обусловленности."
   ]
  },
  {
   "cell_type": "code",
   "execution_count": 73,
   "id": "a00817bc-ad3a-4454-a08e-a4409c76c849",
   "metadata": {},
   "outputs": [
    {
     "name": "stdout",
     "output_type": "stream",
     "text": [
      "5.065563118886005\n"
     ]
    }
   ],
   "source": [
    "nu = np.linalg.norm(A) * np.linalg.norm(A_inv)\n",
    "print(nu)"
   ]
  }
 ],
 "metadata": {
  "kernelspec": {
   "display_name": "Python 3 (ipykernel)",
   "language": "python",
   "name": "python3"
  },
  "language_info": {
   "codemirror_mode": {
    "name": "ipython",
    "version": 3
   },
   "file_extension": ".py",
   "mimetype": "text/x-python",
   "name": "python",
   "nbconvert_exporter": "python",
   "pygments_lexer": "ipython3",
   "version": "3.10.9"
  }
 },
 "nbformat": 4,
 "nbformat_minor": 5
}
