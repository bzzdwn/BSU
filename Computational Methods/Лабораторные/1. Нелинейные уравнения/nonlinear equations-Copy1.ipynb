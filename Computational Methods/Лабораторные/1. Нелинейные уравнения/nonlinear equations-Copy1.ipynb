{
 "cells": [
  {
   "cell_type": "code",
   "execution_count": 1,
   "id": "3da77b63-78e6-40bd-95c9-9409cdcbf40e",
   "metadata": {
    "tags": []
   },
   "outputs": [],
   "source": [
    "import math\n",
    "import numpy as np\n",
    "import matplotlib.pyplot as plt\n",
    "import pandas as pd"
   ]
  },
  {
   "cell_type": "markdown",
   "id": "836361b0-51e1-4c94-92d4-cbdda85e1e7f",
   "metadata": {
    "tags": []
   },
   "source": [
    "# Первая задача"
   ]
  },
  {
   "cell_type": "markdown",
   "id": "3d08be63-3c8b-4914-a54c-a0c194502896",
   "metadata": {},
   "source": [
    "На примере уравнения $$\\sin^2 x\\ e^{x} = 3x - 1$$ провести сравнительный анализ следующих методов решения нелинейных уравнений:\n",
    "\n",
    "1. метод простой итерации;\n",
    "\n",
    "2. метод Ньютона;\n",
    "\n",
    "3. метод секущих;\n",
    "\n",
    "4. метод Чебышева третьего порядка."
   ]
  },
  {
   "cell_type": "markdown",
   "id": "77699884-aa91-4a23-8447-32b009354914",
   "metadata": {},
   "source": [
    "Решение поставленной задачи будет состоять из двух этапов:\n",
    "\n",
    "1. отделение корней;\n",
    "\n",
    "2. отыскание приближенного решения."
   ]
  },
  {
   "cell_type": "markdown",
   "id": "f64947e6-50c8-428a-985c-d15b85573c94",
   "metadata": {
    "tags": []
   },
   "source": [
    "## Отделение корней"
   ]
  },
  {
   "cell_type": "markdown",
   "id": "77671fc9-78ac-4695-8e0a-f239be00278a",
   "metadata": {},
   "source": [
    "Пусть задана функция $f(x)$ действительного переменного $x \\in \\mathbb{R}$. Требуется найти корни уравнения $$f(x) = 0,$$\n",
    "или, что то же самое, нули функции $f(x)$. \n",
    "\n",
    "**Теорема**. *Если функция $f(x)$ непрерывна на отрезке $[a,b]$ и принимает на его концах значения разных знаков, то на этом отрезке существует по крайней мере один корень уравнения $f(x) = 0$.\n",
    "Если при этом функция $f(x)$ будет монотонной на отрезке $[a,b]$, то она может иметь только один корень.*"
   ]
  },
  {
   "cell_type": "markdown",
   "id": "e81dc719-b2b1-4403-8e6d-3fa3250b1afa",
   "metadata": {},
   "source": [
    "Приведем функцию к виду $f(x) = 0$: $$e^x\\sin^2x - 3x + 1 = 0.$$\n",
    "Следуя теореме, необходимо выбрать такой отрезок $[a,b]$, на котором функция будет иметь только один корень."
   ]
  },
  {
   "cell_type": "code",
   "execution_count": 2,
   "id": "3e07b1d0-b267-4f47-be60-6032a545b036",
   "metadata": {
    "tags": []
   },
   "outputs": [],
   "source": [
    "def f(x):\n",
    "    return np.e**x * (np.sin(x))**2 - 3*x + 1"
   ]
  },
  {
   "cell_type": "markdown",
   "id": "7bc2fb15-815a-4546-b1b7-8f4e38e4a683",
   "metadata": {},
   "source": [
    "Графически изобразим функцию $f(x)$, чтобы найти отрезки, на которых она имеет только один корень."
   ]
  },
  {
   "cell_type": "code",
   "execution_count": 3,
   "id": "f84cb340-6b76-416a-939f-214aeef1b326",
   "metadata": {
    "tags": []
   },
   "outputs": [
    {
     "data": {
      "image/png": "[encoded data removed]",
      "text/plain": [
       "<Figure size 640x480 with 1 Axes>"
      ]
     },
     "metadata": {},
     "output_type": "display_data"
    }
   ],
   "source": [
    "x = np.linspace(-5, 5, 100)\n",
    "\n",
    "fig, ax = plt.subplots()\n",
    "ax.plot(x, f(x), label='y=f(x)')\n",
    "ax.plot(x, 0*x, label='y=0')\n",
    "ax.set_xlim(-4, 4)\n",
    "ax.set_ylim(-4, 4)\n",
    "ax.set_xlabel('x')\n",
    "ax.set_ylabel('y(x)')\n",
    "plt.legend()\n",
    "plt.grid()\n",
    "plt.show()"
   ]
  },
  {
   "cell_type": "markdown",
   "id": "3f5c7295-ded3-4327-b905-65f4469df708",
   "metadata": {},
   "source": [
    "Как можно видеть на отрезке $[0;1]$ наша функция имеет не более двух нулей. Причем не совсем ясно, лежит ли правый ноль в этом отрезке или нет. Сделаем несколько шагов дихотомии для того, чтобы сузить отрезок до такой степени, чтобы там гарантировано находился единственный корень функции."
   ]
  },
  {
   "cell_type": "code",
   "execution_count": 4,
   "id": "c44c1e94-934e-455e-b74a-e09552a0bb20",
   "metadata": {
    "tags": []
   },
   "outputs": [],
   "source": [
    "a = 0\n",
    "b = 1\n",
    "eps = 1e-1\n",
    "\n",
    "table_list = [[a, b, b - a, f(a), f(b) , (a + b)/2]]\n",
    "c = 0\n",
    "while b - a > eps:\n",
    "    c = (a+b)/2\n",
    "    if f(c)*f(a) >= 0:\n",
    "        a = c\n",
    "    else:\n",
    "        b = c\n",
    "    table_list.append([a, b, b - a, f(a), f(b) , (a + b)/2])"
   ]
  },
  {
   "cell_type": "code",
   "execution_count": 5,
   "id": "ee15be62-0800-4d42-80ea-d1488898787d",
   "metadata": {
    "tags": []
   },
   "outputs": [
    {
     "data": {
      "text/html": [
       "<div>\n",
       "<style scoped>\n",
       "    .dataframe tbody tr th:only-of-type {\n",
       "        vertical-align: middle;\n",
       "    }\n",
       "\n",
       "    .dataframe tbody tr th {\n",
       "        vertical-align: top;\n",
       "    }\n",
       "\n",
       "    .dataframe thead th {\n",
       "        text-align: right;\n",
       "    }\n",
       "</style>\n",
       "<table border=\"1\" class=\"dataframe\">\n",
       "  <thead>\n",
       "    <tr style=\"text-align: right;\">\n",
       "      <th></th>\n",
       "      <th>a</th>\n",
       "      <th>b</th>\n",
       "      <th>b-a</th>\n",
       "      <th>f(a)</th>\n",
       "      <th>f(b)</th>\n",
       "      <th>(a+b)/2</th>\n",
       "    </tr>\n",
       "  </thead>\n",
       "  <tbody>\n",
       "    <tr>\n",
       "      <th>0</th>\n",
       "      <td>0.000</td>\n",
       "      <td>1.0000</td>\n",
       "      <td>1.0000</td>\n",
       "      <td>1.000000</td>\n",
       "      <td>-0.075257</td>\n",
       "      <td>0.50000</td>\n",
       "    </tr>\n",
       "    <tr>\n",
       "      <th>1</th>\n",
       "      <td>0.000</td>\n",
       "      <td>0.5000</td>\n",
       "      <td>0.5000</td>\n",
       "      <td>1.000000</td>\n",
       "      <td>-0.121043</td>\n",
       "      <td>0.25000</td>\n",
       "    </tr>\n",
       "    <tr>\n",
       "      <th>2</th>\n",
       "      <td>0.250</td>\n",
       "      <td>0.5000</td>\n",
       "      <td>0.2500</td>\n",
       "      <td>0.328594</td>\n",
       "      <td>-0.121043</td>\n",
       "      <td>0.37500</td>\n",
       "    </tr>\n",
       "    <tr>\n",
       "      <th>3</th>\n",
       "      <td>0.375</td>\n",
       "      <td>0.5000</td>\n",
       "      <td>0.1250</td>\n",
       "      <td>0.070195</td>\n",
       "      <td>-0.121043</td>\n",
       "      <td>0.43750</td>\n",
       "    </tr>\n",
       "    <tr>\n",
       "      <th>4</th>\n",
       "      <td>0.375</td>\n",
       "      <td>0.4375</td>\n",
       "      <td>0.0625</td>\n",
       "      <td>0.070195</td>\n",
       "      <td>-0.034483</td>\n",
       "      <td>0.40625</td>\n",
       "    </tr>\n",
       "  </tbody>\n",
       "</table>\n",
       "</div>"
      ],
      "text/plain": [
       "       a       b     b-a      f(a)      f(b)  (a+b)/2\n",
       "0  0.000  1.0000  1.0000  1.000000 -0.075257  0.50000\n",
       "1  0.000  0.5000  0.5000  1.000000 -0.121043  0.25000\n",
       "2  0.250  0.5000  0.2500  0.328594 -0.121043  0.37500\n",
       "3  0.375  0.5000  0.1250  0.070195 -0.121043  0.43750\n",
       "4  0.375  0.4375  0.0625  0.070195 -0.034483  0.40625"
      ]
     },
     "execution_count": 5,
     "metadata": {},
     "output_type": "execute_result"
    }
   ],
   "source": [
    "pd.DataFrame(table_list, columns = ['a', 'b', 'b-a', 'f(a)', 'f(b)', '(a+b)/2'])"
   ]
  },
  {
   "cell_type": "markdown",
   "id": "cd424c33-01d6-47ea-b879-fde8f4688438",
   "metadata": {},
   "source": [
    "Таким образом, мы имеем отрезок $[0.375; 0.4375]$, на котором существует по крайней мере один корень уравнения. Проверим, является ли этот корень единственным, исследовав функцию на монотонность на этом отрезке. Для этого рассмотрим поведение производной (она должна не менять знак)."
   ]
  },
  {
   "cell_type": "code",
   "execution_count": 6,
   "id": "8eb2d97d-2e03-486b-9b26-cf175a8a1574",
   "metadata": {
    "tags": []
   },
   "outputs": [],
   "source": [
    "def f_(x):\n",
    "    return np.e**x*((np.sin(x))**2 + np.sin(2*x)) - 3"
   ]
  },
  {
   "cell_type": "markdown",
   "id": "d859289d-7159-48bc-82cc-03fb11a9382a",
   "metadata": {},
   "source": [
    "Рассмотрим значение производной на левом конце отрезка"
   ]
  },
  {
   "cell_type": "code",
   "execution_count": 7,
   "id": "4a405e34-6750-4878-917c-e5eda3c46cd3",
   "metadata": {
    "tags": []
   },
   "outputs": [
    {
     "data": {
      "text/plain": [
       "-1.8130262601775078"
      ]
     },
     "execution_count": 7,
     "metadata": {},
     "output_type": "execute_result"
    }
   ],
   "source": [
    "f_(a)"
   ]
  },
  {
   "cell_type": "markdown",
   "id": "2fae1c64-3960-4315-9249-2a2830c6e0f2",
   "metadata": {},
   "source": [
    "Значение отрицательно. Теперь выясним, не превосходит ли нуля функция на этом отрезке:\n",
    "$$f'(x) = e^x (\\sin ^2 x + \\sin2x) - 3.$$\n",
    "На этом отрезке функция $e^x$ является положительно возрастающей, $\\sin^2 x$ положительно возрастающей и $\\sin 2x$ положительно возрастающей. То есть производная функции является комбинацией положительно возрастающих функций. Значит нам достаточно того, чтобы она и на правом конце отрезка также принимала отрицательное значение."
   ]
  },
  {
   "cell_type": "code",
   "execution_count": 8,
   "id": "95a7a458-9d6e-4052-879e-e92b5913d6fe",
   "metadata": {
    "tags": []
   },
   "outputs": [
    {
     "data": {
      "text/plain": [
       "-1.5331878965263412"
      ]
     },
     "execution_count": 8,
     "metadata": {},
     "output_type": "execute_result"
    }
   ],
   "source": [
    "f_(b)"
   ]
  },
  {
   "cell_type": "markdown",
   "id": "81d8f769-f7d6-458a-8c58-47a9cc2993a7",
   "metadata": {},
   "source": [
    "В итоге производная функции не меняет знак, значит исходная функция на этом отрезке монотонно убывает."
   ]
  },
  {
   "cell_type": "markdown",
   "id": "c009b37f-a6be-44e6-8f26-f7772fdc74fb",
   "metadata": {},
   "source": [
    "**Вывод**. На этпае отделения корней мы получили отрезок $[0.375; 0.4375]$, на котором мы имеем единственный корень уравнения. Приближенное значение этого корня мы и будем вычислять. Причем в качестве начального приближения лучше всего брать середину отрезка, то есть $x_0 = 0.0625$."
   ]
  },
  {
   "cell_type": "markdown",
   "id": "249a2de9-2568-4618-b5c0-b47bd60b818a",
   "metadata": {
    "tags": []
   },
   "source": [
    "## Отыскание приближенного решения"
   ]
  },
  {
   "cell_type": "markdown",
   "id": "d24ee8cf-cffb-4078-b075-9063fcea4cf0",
   "metadata": {},
   "source": [
    "Зададим для всех методов точность $\\varepsilon = 10^{-8}$ и условие остановки итерационного процесса $$|x^{k+1} - x^k| < \\varepsilon.$$"
   ]
  },
  {
   "cell_type": "code",
   "execution_count": 9,
   "id": "1f89c3a7-93b4-4d11-a500-466ff908464a",
   "metadata": {
    "tags": []
   },
   "outputs": [],
   "source": [
    "epsilon = 1e-8"
   ]
  },
  {
   "cell_type": "markdown",
   "id": "c86ad584-468a-4dd4-aef1-a71e0fd6178b",
   "metadata": {
    "tags": []
   },
   "source": [
    "### Метод простой итерации"
   ]
  },
  {
   "cell_type": "markdown",
   "id": "782f8b3c-070b-45b1-8af6-5749e2fbc4c5",
   "metadata": {},
   "source": [
    "В методе простой итерации итерационный процесс реализуется по формуле $$x^{k+1} = \\varphi(x^k).$$"
   ]
  },
  {
   "cell_type": "markdown",
   "id": "38e3314c-86a2-442b-8d02-acd114cca0b6",
   "metadata": {
    "tags": []
   },
   "source": [
    "Метод имеет линейную скорость сходимости. Рассмотрим условия сходимости метода."
   ]
  },
  {
   "cell_type": "markdown",
   "id": "2e0e9341-faa9-4582-96c7-6d52be276ba3",
   "metadata": {},
   "source": [
    "Для начала нужно задать формулу канонического вида итерационного процесса $x = \\varphi(x)$. Возьмем наше исходное уравнение $$f(x) = 0,$$ домножим с двух сторон на постоянную $\\lambda$ и прибавим с двух сторон $x$, то есть $$x = \\underbrace{x + \\lambda f(x)}_{\\varphi(x)}.$$ Для сходимости необходимо выполнение условия $$|\\varphi'(x)| = |1 + \\lambda f'(x)| < 1.$$\n",
    "Отсюда $$-2< \\lambda f'(x)< 0.$$ Так как производная на отрезке отрицательна, то $$0 < \\lambda < \\dfrac{2}{M},\\quad M = \\max_{[a;b]}|f'(x)|.$$"
   ]
  },
  {
   "cell_type": "code",
   "execution_count": 10,
   "id": "2d02fe72-aa3e-41dd-ae75-67de3c773e00",
   "metadata": {
    "tags": []
   },
   "outputs": [
    {
     "data": {
      "text/plain": [
       "1.8130262601775078"
      ]
     },
     "execution_count": 10,
     "metadata": {},
     "output_type": "execute_result"
    }
   ],
   "source": [
    "Delta = np.linspace(a, b, 1000)\n",
    "M = np.max(np.absolute(f_(Delta)))\n",
    "M"
   ]
  },
  {
   "cell_type": "code",
   "execution_count": 11,
   "id": "39ed74ca-a5d4-464b-bd82-cd60e7497a6d",
   "metadata": {
    "tags": []
   },
   "outputs": [
    {
     "data": {
      "text/plain": [
       "1.1031279821640234"
      ]
     },
     "execution_count": 11,
     "metadata": {},
     "output_type": "execute_result"
    }
   ],
   "source": [
    "2/M"
   ]
  },
  {
   "cell_type": "markdown",
   "id": "f21e7c15-196c-4505-806f-6e9e349844a5",
   "metadata": {},
   "source": [
    "Значит $\\lambda \\in (0; 1.1).$ Тогда возьмем $\\lambda = 0.55$"
   ]
  },
  {
   "cell_type": "code",
   "execution_count": 12,
   "id": "8d9ddedc-9a32-4896-bfcc-83b0846949d0",
   "metadata": {
    "tags": []
   },
   "outputs": [],
   "source": [
    "Lambda = 0.55"
   ]
  },
  {
   "cell_type": "code",
   "execution_count": 13,
   "id": "358d980d-6d19-4630-9c0a-408e4a373e66",
   "metadata": {
    "tags": []
   },
   "outputs": [],
   "source": [
    "def phi(x):\n",
    "    return x + Lambda * f(x)"
   ]
  },
  {
   "cell_type": "markdown",
   "id": "015ceab6-76fb-419a-bf10-a040a70e2161",
   "metadata": {},
   "source": [
    "**Исследование сходимости метода простой итерации**.\n",
    "Пусть выполняются следующие условия:\n",
    "1. функция $\\varphi(x)$ определена на отрезке $$\\Delta = |x - x^0| \\leq \\delta,$$ непрерывна на нем и удовлетворяет условию Липшица с постоянным коэффициентом меньше единицы, то есть $\\forall x, \\widetilde{x}$ $$|\\varphi(x) - \\varphi(\\widetilde{x})| \\leq q |x - \\widetilde{x}| ,\\quad 0 \\leq q < 1;$$"
   ]
  },
  {
   "cell_type": "markdown",
   "id": "e7be7cf7-5aef-49bf-acd3-703255f8debe",
   "metadata": {},
   "source": [
    "**Замечание.** Для построения сходящегося метода простой итерации в практических вычислениях условие 1 теоремы о сходимости метода простой итерации обычно заменяется более строгим требованием, а именно для всех $x$ из отрезка $|x - x^0| \\leq \\delta$ функция $\\varphi(x)$ имеет непрерывную первую производную $\\varphi'(x)$ такую, что $$|\\varphi'(x)|\\leq q <1 \\quad \\forall x \\in [x_0 - \\delta; x_0 + \\delta].$$"
   ]
  },
  {
   "cell_type": "code",
   "execution_count": 14,
   "id": "474d6754-7f22-430e-8067-484d384099eb",
   "metadata": {
    "tags": []
   },
   "outputs": [
    {
     "name": "stdout",
     "output_type": "stream",
     "text": [
      "x_0 = 0.40625\n"
     ]
    }
   ],
   "source": [
    "x_0 = (a+b) / 2\n",
    "print('x_0 =', x_0)"
   ]
  },
  {
   "cell_type": "code",
   "execution_count": 15,
   "id": "5582aa36-6cf9-4968-830c-3a5439a07a9c",
   "metadata": {
    "tags": []
   },
   "outputs": [
    {
     "data": {
      "text/plain": [
       "0.03125"
      ]
     },
     "execution_count": 15,
     "metadata": {},
     "output_type": "execute_result"
    }
   ],
   "source": [
    "delta = b - x_0\n",
    "delta"
   ]
  },
  {
   "cell_type": "markdown",
   "id": "6e805d91-89f9-4e87-91ac-6f1fb19ffc81",
   "metadata": {},
   "source": [
    "Очевидно функция определена и непрерывна на выбранном отрезке. Это уже было показано."
   ]
  },
  {
   "cell_type": "markdown",
   "id": "3e57a654-406d-4fd5-b966-e275105123dd",
   "metadata": {},
   "source": [
    "Заменим условие Липшица условием из замечания для отыскания числа $q$. Для этого продифференцируем функцию $\\varphi(x)$:\n",
    "$$\\varphi'(x) = 1+\\lambda f'(x).$$ Тогда возьмем $$q = \\max_{[a; b]} |1+\\lambda\\cdot f'(x)|.$$"
   ]
  },
  {
   "cell_type": "code",
   "execution_count": 16,
   "id": "33581d5b-e07a-43d6-8662-be16e1b6abbe",
   "metadata": {
    "tags": []
   },
   "outputs": [
    {
     "data": {
      "text/plain": [
       "0.15674665691051226"
      ]
     },
     "execution_count": 16,
     "metadata": {},
     "output_type": "execute_result"
    }
   ],
   "source": [
    "q = np.max(np.absolute(1+Lambda*f_(Delta)))\n",
    "q"
   ]
  },
  {
   "cell_type": "markdown",
   "id": "8ed87e57-9e67-47f1-bc2a-4a2924bf1170",
   "metadata": {},
   "source": [
    "2. для начального приближения $x^0$ верно неравенство $$|x^0 - \\varphi(x^0)| \\leq m;$$"
   ]
  },
  {
   "cell_type": "code",
   "execution_count": 17,
   "id": "244ce520-1f7e-4a17-8956-f4f98cfcaa74",
   "metadata": {
    "tags": []
   },
   "outputs": [
    {
     "data": {
      "text/plain": [
       "0.008618362668876889"
      ]
     },
     "execution_count": 17,
     "metadata": {},
     "output_type": "execute_result"
    }
   ],
   "source": [
    "m = np.absolute(x_0 - phi(x_0))\n",
    "m"
   ]
  },
  {
   "cell_type": "markdown",
   "id": "49792049-b578-4041-a52f-2cda0bf1c30b",
   "metadata": {},
   "source": [
    "3. числа $\\delta, q, m$ удовлетворяют условию $$\\dfrac{m}{1-q}\\leq \\delta.$$"
   ]
  },
  {
   "cell_type": "code",
   "execution_count": 18,
   "id": "97ea8a56-f10d-46d0-8235-224bdb191bed",
   "metadata": {
    "tags": []
   },
   "outputs": [
    {
     "data": {
      "text/plain": [
       "True"
      ]
     },
     "execution_count": 18,
     "metadata": {},
     "output_type": "execute_result"
    }
   ],
   "source": [
    "m / (1-q) <= delta"
   ]
  },
  {
   "cell_type": "markdown",
   "id": "20211fe6-e3e2-486e-93be-4491a2042b6e",
   "metadata": {},
   "source": [
    "Тогда\n",
    "1. уравнение $f(x) = 0$ в области $\\Delta$ имеет решение;\n",
    "2. последовательность $x^k$ построенная по правилу $x = \\varphi(x)$ принадлежит отрезку $[x^0 - \\delta, x^0 + \\delta]$, является сходящейся и ее предел удовлетворяет уравнению $f(x) = 0$: $$x^k \\xrightarrow[k\\to \\infty]{} x^*;$$"
   ]
  },
  {
   "cell_type": "markdown",
   "id": "f842082d-976a-4722-ad6e-c5b12388546b",
   "metadata": {},
   "source": [
    "#### Программная реализация итерационного процесса"
   ]
  },
  {
   "cell_type": "code",
   "execution_count": 19,
   "id": "23b9eb01-18fd-42a3-964c-fe358b23dc9f",
   "metadata": {
    "tags": []
   },
   "outputs": [
    {
     "name": "stdout",
     "output_type": "stream",
     "text": [
      "0.4148683626688769\n",
      "0.41563547950884466\n",
      "0.41571269112846776\n",
      "0.41572054377499734\n",
      "0.41572134324393467\n",
      "0.4157214246455654\n",
      "0.4157214329339385\n",
      "Число итераций: 7\n"
     ]
    }
   ],
   "source": [
    "x_k = x_0\n",
    "x_k1 = phi(x_0)\n",
    "print(x_k1)\n",
    "k = 1\n",
    "while np.absolute(x_k1 - x_k) >= epsilon:\n",
    "    x_k = x_k1\n",
    "    x_k1 = phi(x_k)\n",
    "    k+=1\n",
    "    print(x_k1)\n",
    "print('Число итераций:', k)"
   ]
  },
  {
   "cell_type": "markdown",
   "id": "ce572083-dfed-4f8a-af40-1f5378b8eac0",
   "metadata": {},
   "source": [
    "### Метод Ньютона"
   ]
  },
  {
   "cell_type": "markdown",
   "id": "58e46e10-45ef-4a43-bdf2-943bb6c34fae",
   "metadata": {},
   "source": [
    "В методе Ньютона итерационный процесс реализуется по формуле $$x^{k+1} = x^k - \\dfrac{f(x^k)}{f'(x^k)},\\quad k=0,1,\\ldots;\\quad x^0.$$ \n",
    "Метод имеет квадратичную скорость сходимости. Рассмотрим условия сходимости метода."
   ]
  },
  {
   "cell_type": "markdown",
   "id": "24180d5f-7945-4de8-9540-33191c3b3708",
   "metadata": {},
   "source": [
    "Пусть выполняются следующие условия:\n",
    "1. Функция $f(x)$ определена и дважды непрерывно дифференцируема на отрезке $$s_0 = [x^0; x^0 + 2h_0],\\quad h_0 =- \\dfrac{f(x^0)}{f'(x^0)}.$$ При этом на концах отрезка $f(x)f'(x)\\ne 0$."
   ]
  },
  {
   "cell_type": "code",
   "execution_count": 20,
   "id": "27bbdd8a-dbdd-4513-92db-f74e3e2bf0ef",
   "metadata": {
    "tags": []
   },
   "outputs": [
    {
     "name": "stdout",
     "output_type": "stream",
     "text": [
      "x_0 = 0.40625\n",
      "h_0 = 0.009351098924968344\n",
      "s_0 = [ 0.40625 ; 0.4249521978499367 ]\n"
     ]
    }
   ],
   "source": [
    "print('x_0 =', x_0) \n",
    "h_0 = - f(x_0) / f_(x_0)\n",
    "print('h_0 =', h_0) \n",
    "s_0 = np.linspace(x_0, x_0+2*h_0, 1000)\n",
    "print('s_0 = [', s_0[0], ';', s_0[-1], ']')"
   ]
  },
  {
   "cell_type": "code",
   "execution_count": 21,
   "id": "a0a5fbfb",
   "metadata": {
    "tags": []
   },
   "outputs": [
    {
     "data": {
      "text/plain": [
       "-0.02625799135004759"
      ]
     },
     "execution_count": 21,
     "metadata": {},
     "output_type": "execute_result"
    }
   ],
   "source": [
    "f(s_0[0])*f_(s_0[0])"
   ]
  },
  {
   "cell_type": "code",
   "execution_count": 22,
   "id": "3f9a4cac-7ce3-455c-9034-b3baf6b61795",
   "metadata": {
    "tags": []
   },
   "outputs": [
    {
     "data": {
      "text/plain": [
       "0.02367553765075653"
      ]
     },
     "execution_count": 22,
     "metadata": {},
     "output_type": "execute_result"
    }
   ],
   "source": [
    "f(s_0[-1])*f_(s_0[-1])"
   ]
  },
  {
   "cell_type": "markdown",
   "id": "93aa0a1a-3ee1-4820-99e3-504a8737ab5b",
   "metadata": {},
   "source": [
    "2. Для начального приближения $x^0$ выполняется неравенство $$2|h_0|M \\leq |f'(x_0)|,\\quad M = \\underset{x\\in s_0}{\\max}|f''(x)|.$$"
   ]
  },
  {
   "cell_type": "markdown",
   "id": "26119f92-d98c-4ed3-b40f-204e3de694db",
   "metadata": {},
   "source": [
    "Этот пункт требует использования второй производной от исходной функции. Вычислим ее:\n",
    "$$f''(x) = e^x ( \\sin^2x + 2\\sin2x + 2\\cos2x).$$"
   ]
  },
  {
   "cell_type": "code",
   "execution_count": 23,
   "id": "ab041bd5-4029-4f9f-bd51-fabeec2bfa27",
   "metadata": {
    "tags": []
   },
   "outputs": [],
   "source": [
    "def f__(x):\n",
    "    return np.e**x*((np.sin(x))**2 + 2*np.sin(2*x) + 2*np.cos(2*x))"
   ]
  },
  {
   "cell_type": "code",
   "execution_count": 24,
   "id": "16f0f017-67c4-4237-bd8a-3355ef31cc27",
   "metadata": {
    "tags": []
   },
   "outputs": [
    {
     "data": {
      "text/plain": [
       "4.577106627517887"
      ]
     },
     "execution_count": 24,
     "metadata": {},
     "output_type": "execute_result"
    }
   ],
   "source": [
    "M = np.max(np.absolute(f__(s_0)))\n",
    "M"
   ]
  },
  {
   "cell_type": "code",
   "execution_count": 25,
   "id": "c593e4f3-9fd0-4081-8acd-ca3d40bdb17c",
   "metadata": {
    "tags": []
   },
   "outputs": [
    {
     "data": {
      "text/plain": [
       "True"
      ]
     },
     "execution_count": 25,
     "metadata": {},
     "output_type": "execute_result"
    }
   ],
   "source": [
    "2*np.absolute(h_0)*M <= np.absolute(f_(x_0))"
   ]
  },
  {
   "cell_type": "markdown",
   "id": "8433121e-020d-4c44-81e0-f3f92b9fc282",
   "metadata": {},
   "source": [
    "Тогда справедливы следующие утверждения:\n",
    "\n",
    "1. Внутри отрезка $s_0$ уравнение $f(x) = 0$ имеет корень $x^*$ и при этом этот корень единственный.\n",
    "\n",
    "2. Последовательность приближений $x^k$, $k=1,2,\\ldots$ может быть построена по заданой формуле с заданным приближением $x^0$.\n",
    "\n",
    "3. Последовательность $x^k$ сходится к корню $x^*$, то есть $x^k \\xrightarrow[k\\to\\infty]{}x^*$."
   ]
  },
  {
   "cell_type": "markdown",
   "id": "2cd9c808-8e77-4357-9d53-997159d56801",
   "metadata": {
    "tags": []
   },
   "source": [
    "#### Программная реализация итерационного процесса"
   ]
  },
  {
   "cell_type": "code",
   "execution_count": 26,
   "id": "fd701cb5",
   "metadata": {},
   "outputs": [],
   "source": [
    "def phi(x):\n",
    "    return x - f(x) / f_(x)"
   ]
  },
  {
   "cell_type": "code",
   "execution_count": 27,
   "id": "5bb687f9-fe52-44bf-8c5b-e8a2df2e552d",
   "metadata": {
    "tags": []
   },
   "outputs": [
    {
     "name": "stdout",
     "output_type": "stream",
     "text": [
      "0.4156010989249683\n",
      "0.41572141380248107\n",
      "0.41572143387353794\n",
      "0.4157214338735385\n",
      "Число итераций: 4\n"
     ]
    }
   ],
   "source": [
    "x_k = x_0\n",
    "x_k1 = phi(x_0)\n",
    "k = 1\n",
    "print(x_k1)\n",
    "while np.absolute(x_k1 - x_k) >= epsilon:\n",
    "    x_k = x_k1\n",
    "    x_k1 = phi(x_k)\n",
    "    k+=1\n",
    "    print(x_k1)\n",
    "print('Число итераций:', k)"
   ]
  },
  {
   "cell_type": "markdown",
   "id": "efbb3c33-27cc-44d7-9d9d-036a2420b5d9",
   "metadata": {
    "tags": []
   },
   "source": [
    "### Метод секущих"
   ]
  },
  {
   "cell_type": "markdown",
   "id": "4d7cfdd1-0357-431b-9962-8309eb172cb4",
   "metadata": {},
   "source": [
    "В методе секущих терационный процесс реализуется по фомруле $$x^{k+1} = x^k - f(x^k)\\dfrac{x^k - x^{k-1}}{f(x^k) - f(x^{k-1})},\\ k = 1,2,\\ldots;\\ x^0.$$\n",
    "Скорость сходимости мтеода выше чем линейная, но ниже, чем квадратичная, а условия сходимости для него не рассматриваются. Но будем считать, что все для выбранных отрезка и начального приближения метод будет сходящимся.\n",
    "\n",
    "В данном методе нам также необходимо для запуска итерационного процесса иметь значение $x_1$. Его мы возьмем как середину отрезка $s_0$."
   ]
  },
  {
   "cell_type": "markdown",
   "id": "5ddba792-745e-40e4-afc7-6a8158559aea",
   "metadata": {},
   "source": [
    "#### Программная реализация итерационного процесса"
   ]
  },
  {
   "cell_type": "code",
   "execution_count": 28,
   "id": "31747699",
   "metadata": {},
   "outputs": [],
   "source": [
    "def phi(x_k, x_k1):\n",
    "    return x_k - f(x_k) * (x_k - x_k1) / (f(x_k) - f(x_k1))"
   ]
  },
  {
   "cell_type": "code",
   "execution_count": 29,
   "id": "fbd86255-1322-40c2-913e-50fbb4ea73f3",
   "metadata": {
    "tags": []
   },
   "outputs": [
    {
     "name": "stdout",
     "output_type": "stream",
     "text": [
      "0.4156010989249683\n",
      "0.415719879906698\n",
      "0.4157214336142926\n",
      "0.4157214338735378\n",
      "Число итераций: 4\n"
     ]
    }
   ],
   "source": [
    "x_k = x_0\n",
    "x_k1 = x_0 + h_0\n",
    "print(x_k1)\n",
    "x_k2 = phi(x_k, x_k1)\n",
    "print(x_k2)\n",
    "k = 2\n",
    "while np.absolute(x_k2 - x_k1) >= epsilon:\n",
    "    x_k = x_k1\n",
    "    x_k1 = x_k2\n",
    "    x_k2 = phi(x_k, x_k1)\n",
    "    print(x_k2)\n",
    "    k+=1\n",
    "print('Число итераций:', k)"
   ]
  },
  {
   "cell_type": "markdown",
   "id": "d4e75f3a-3614-4403-a5f3-8ce556fcc9cd",
   "metadata": {
    "tags": []
   },
   "source": [
    "### Метод Чебышева"
   ]
  },
  {
   "cell_type": "markdown",
   "id": "3581a0ec-8e69-4f46-9f09-d6d5c9f466ef",
   "metadata": {},
   "source": [
    "В методе Чебышева итерационный процесс реализуется по формуле $$x^{k+1} = x^k - \\dfrac{f(x^k)}{f'(x^k)} - \\dfrac{f^2(x^k)f''(x^k)}{2(f'(x^k))^3}.$$\n",
    "Метод имеет кубическую скорость сходимости, а условия сходимости для него не рассматриваются. Но будем считать, что все для выбранных отрезка и начального приближения метод будет сходящимся."
   ]
  },
  {
   "cell_type": "markdown",
   "id": "081a4acb-4cc0-40f4-989b-5736041b012e",
   "metadata": {},
   "source": [
    "#### Программная реализация итерационного процесса"
   ]
  },
  {
   "cell_type": "code",
   "execution_count": 30,
   "id": "61094592",
   "metadata": {},
   "outputs": [],
   "source": [
    "def phi(x):\n",
    "    return x - f(x)/f_(x) - ((f(x))**2 * f__(x)) / (2 * (f_(x))**3)"
   ]
  },
  {
   "cell_type": "code",
   "execution_count": 31,
   "id": "e9d98efe-5b26-41a1-9c63-1c61aaeeac3e",
   "metadata": {
    "tags": []
   },
   "outputs": [
    {
     "name": "stdout",
     "output_type": "stream",
     "text": [
      "0.4157179575315304\n",
      "0.4157214338735383\n",
      "0.41572143387353855\n",
      "Число итераций: 3\n"
     ]
    }
   ],
   "source": [
    "x_k = x_0\n",
    "x_k1 = phi(x_0)\n",
    "print(x_k1)\n",
    "k = 1\n",
    "while np.absolute(x_k1 - x_k) >= epsilon:\n",
    "    x_k = x_k1\n",
    "    x_k1 = phi(x_k)\n",
    "    k+=1\n",
    "    print(x_k1)\n",
    "print('Число итераций:', k)"
   ]
  },
  {
   "cell_type": "markdown",
   "id": "e2679ef0-8ef9-4a64-866b-df5d085adc18",
   "metadata": {
    "tags": []
   },
   "source": [
    "## Вывод "
   ]
  },
  {
   "cell_type": "markdown",
   "id": "01d18ac1-6d91-43ce-a3b2-fbc21eedb06c",
   "metadata": {},
   "source": [
    "Таким образом, мы смогли рассмотрели 4 метода для отыскания приближенного решения уравнения. Также мы нашли самое приближенное решение уравнения\n",
    "$$x \\approx 0.41572143$$ с точностью $10^{-8}$. Причем\n",
    "\n",
    "- метод простой итерации справился за 7 итераций;\n",
    "\n",
    "- метод Ньютона справился за 4 итерации;\n",
    "\n",
    "- метод секущих справился за 4 итерации;\n",
    "\n",
    "- метод Чебышева справился за 3 итерации.\n",
    "\n",
    "Что логично, так как скорости их сходимости соотносятся как линейная < быстрее линейной, но ниже квадратичной < квадратичная < кубическая."
   ]
  },
  {
   "cell_type": "markdown",
   "id": "68255652-c880-4451-a732-0b0f87e9af76",
   "metadata": {
    "tags": []
   },
   "source": [
    "# Вторая задача"
   ]
  },
  {
   "cell_type": "markdown",
   "id": "c7d7a4d3-f455-43b3-8cfd-929ceb147b5d",
   "metadata": {},
   "source": [
    "Найти с точностью $\\varepsilon = 10^{-6}$ наибольший по модулю корень уравнения $$\\sum\\limits_{i=0}^n a_ix^i = 0,$$ где вектор коэффициентов $a$ есть решение системы линейных алгебраических уравнений $$Aa = f$$ с $$A = \\begin{pmatrix} 15 & -2 & 0.5 & 1 & -0.1\\\\ 1 & -18 & -3.1 & 1 & 2.3 \\\\ -1 & 3 & 10 & 2& 4.6 \\\\ 0& 0.1& 2& 25& 2\\\\ 1&-2 & 0.4 & 3.2& -37 \\end{pmatrix},\\quad f =\\begin{pmatrix} 1\\\\ 0\\\\ 2\\\\ -3\\\\ 5 \\end{pmatrix}$$"
   ]
  },
  {
   "cell_type": "markdown",
   "id": "853646e6-da33-4134-8f30-03e67add96b5",
   "metadata": {},
   "source": [
    "Решение данной задачи будет состоять из трех этапов:\n",
    "\n",
    "1. решение системы линейных уравнений;\n",
    "\n",
    "2. отделение наибольшего по модулю корня;\n",
    "\n",
    "3. отыскание приближенного значения корня."
   ]
  },
  {
   "cell_type": "markdown",
   "id": "f932988d-bae5-4dac-a58d-e76be6549324",
   "metadata": {},
   "source": [
    "## Решение СЛАУ"
   ]
  },
  {
   "cell_type": "markdown",
   "id": "3944adce-fdc0-4219-964e-1ef327ec4513",
   "metadata": {},
   "source": [
    "Для решения системы линейных алгебраических уравнений воспользуемся методом Гаусса с выбором главного элемента по строке."
   ]
  },
  {
   "cell_type": "code",
   "execution_count": 32,
   "id": "cec1ad91-66d0-44be-8c2f-d4f47425646a",
   "metadata": {
    "tags": []
   },
   "outputs": [],
   "source": [
    "def gaussian(matrix_, inhomogeneity):\n",
    "    matrix = matrix_.copy() # Копируем исходную матрицу в локальную переменную\n",
    "    insertions = 0 # Число перестановок\n",
    "    indexes = [i for i in range (matrix.shape[0])] # Вектор индексов\n",
    "    unit_matrix = np.eye(matrix.shape[0]) # Единичная матрица\n",
    "    \n",
    "    # Выбор главного элемента по строке\n",
    "    for k in range(matrix.shape[0]):\n",
    "        leading_column = k # Столбец, в котором ведущий элемент, считаем равным номеру шага\n",
    "        for i in range(k, matrix.shape[0]): # находим максимальный по модулю элемент в строке\n",
    "            if math.fabs(matrix[k][i]) > math.fabs(matrix[leading_column][k]): # Если нашли в строке элемент ...\n",
    "                # ...больший, чем ведущий, то..\n",
    "                leading_column = i # Номер столбца с ведущим элементом принимает значение того, ...\n",
    "                # ...в котором находится больший элемент, чем текущий ведущий элемент\n",
    "        for j in range(k, matrix.shape[1]): # меняем местами столбец, в котором главный элемент, со столбцом равном номеру шага\n",
    "            matrix[j][leading_column], matrix[j][k] =  matrix[j][k], matrix[j][leading_column]\n",
    "        insertions+=1 # повышаем число перестановок\n",
    "        indexes[leading_column], indexes[k] = indexes[k], indexes[leading_column]\n",
    "        \n",
    "        # Прямой ход (полностью дублирует формулу прямого хода, указанную выше)\n",
    "        q = inhomogeneity[k] / matrix[k][k] \n",
    "        for j in range(matrix.shape[0] - 1, k - 1, -1):\n",
    "            c = matrix[k][j] / matrix[k][k]\n",
    "            for i in range(matrix.shape[0] - 1, k, -1):\n",
    "                matrix[i][j] = matrix[i][j] - matrix[i][k]*c\n",
    "                if j == matrix.shape[0] - 1:\n",
    "                    inhomogeneity[i] = inhomogeneity[i] - matrix[i][k]*q\n",
    "                \n",
    "    \n",
    "    # Обратный ход (полностью дублирует формулу обратного хода, указанную выше)\n",
    "    results_with_insertions = np.zeros(matrix.shape[0]) # Нулевой вектор\n",
    "    for i in range(matrix.shape[0]-1, -1, -1):\n",
    "        summary = 0\n",
    "        for j in range(i+1, matrix.shape[0]):\n",
    "            summary += matrix[i][j]*results_with_insertions[j]\n",
    "        results_with_insertions[i] = (inhomogeneity[i] - summary) / matrix[i][i]\n",
    "        \n",
    "    \n",
    "    # Перенумерация индексов в векторе решений\n",
    "    results = np.zeros(matrix.shape[0]) # Создаем итоговый вектор решений, заполненный нулями\n",
    "    for i in range(matrix.shape[0]):\n",
    "        results[indexes[i]] = results_with_insertions[i] # Переносим значения из получившегося столбца решений ...\n",
    "        # в созданный в той последовательности, в которой элементы столбца должны расоплагаться\n",
    "        \n",
    "    return results.tolist(); # Возвращаем значения решения, невязки и определителя"
   ]
  },
  {
   "cell_type": "code",
   "execution_count": 33,
   "id": "ef65c5a4-ac42-435c-8c14-4170b17723bc",
   "metadata": {
    "tags": []
   },
   "outputs": [],
   "source": [
    "A = np.array([[15, -2, 0.5, 1, -0.1],\n",
    "              [1, -18, -3.1, 1, 2.3],\n",
    "              [-1, 3, 10, 2, 4.6],\n",
    "              [0, 0.1, 2, 25, 2],\n",
    "              [1, -2, 0.4, 3.2, -37]])\n",
    "f = np.array([1, 0, 2, -3, 5])"
   ]
  },
  {
   "cell_type": "code",
   "execution_count": 34,
   "id": "936786cd-1fda-43f7-983d-90ff29b9f97e",
   "metadata": {
    "tags": []
   },
   "outputs": [
    {
     "name": "stdout",
     "output_type": "stream",
     "text": [
      "[0.056052373015507334, -0.06541307837651038, 0.2789671096129893, -0.11905063056436024, -0.07955323772234806]\n"
     ]
    }
   ],
   "source": [
    "coef = gaussian(A, f)\n",
    "print(coef)"
   ]
  },
  {
   "cell_type": "markdown",
   "id": "26ed9fd2",
   "metadata": {},
   "source": [
    "Определим функцию, которая будет задавать многочлен с соответствующими коэффициентами."
   ]
  },
  {
   "cell_type": "code",
   "execution_count": 35,
   "id": "0900629c-0276-4786-b399-c7db16a846da",
   "metadata": {
    "tags": []
   },
   "outputs": [],
   "source": [
    "def P(a, x):\n",
    "    P = 0\n",
    "    for i in range(len(a)):\n",
    "        P += x**i * a[i]\n",
    "    return P"
   ]
  },
  {
   "cell_type": "markdown",
   "id": "48797f44",
   "metadata": {},
   "source": [
    "## Отделение наибольшего по модулю корня"
   ]
  },
  {
   "cell_type": "markdown",
   "id": "052cd993-79c6-4e03-9e48-3e5d66ea8f02",
   "metadata": {
    "tags": []
   },
   "source": [
    "Изобразим график многочлена для того, чтобы найти отрезок, на котором находится искомый корень."
   ]
  },
  {
   "cell_type": "code",
   "execution_count": 36,
   "id": "8ca98bc9",
   "metadata": {},
   "outputs": [
    {
     "data": {
      "image/png": "[encoded data removed]",
      "text/plain": [
       "<Figure size 640x480 with 1 Axes>"
      ]
     },
     "metadata": {},
     "output_type": "display_data"
    }
   ],
   "source": [
    "x = np.linspace(-5, 5, 1000)\n",
    "\n",
    "fig, ax = plt.subplots()\n",
    "ax.plot(x, P(coef, x), label='y=P(x)')\n",
    "ax.plot(x, 0*x, label='y=0')\n",
    "ax.set_xlim(-5,5)\n",
    "ax.set_ylim(-5, 5)\n",
    "ax.set_xlabel('x')\n",
    "ax.set_ylabel('y(x)')\n",
    "plt.legend()\n",
    "plt.grid()\n",
    "plt.show()"
   ]
  },
  {
   "cell_type": "markdown",
   "id": "0606be27",
   "metadata": {},
   "source": [
    "Из графика следует, что, так как уравнение имеет всего 2 корня, то искомый наибольший по модулю корень находится на отрезке $[-4; -2]$. Сузим этот отрезок с помощью дихотомии."
   ]
  },
  {
   "cell_type": "code",
   "execution_count": 37,
   "id": "ec4645f8",
   "metadata": {},
   "outputs": [
    {
     "data": {
      "text/html": [
       "<div>\n",
       "<style scoped>\n",
       "    .dataframe tbody tr th:only-of-type {\n",
       "        vertical-align: middle;\n",
       "    }\n",
       "\n",
       "    .dataframe tbody tr th {\n",
       "        vertical-align: top;\n",
       "    }\n",
       "\n",
       "    .dataframe thead th {\n",
       "        text-align: right;\n",
       "    }\n",
       "</style>\n",
       "<table border=\"1\" class=\"dataframe\">\n",
       "  <thead>\n",
       "    <tr style=\"text-align: right;\">\n",
       "      <th></th>\n",
       "      <th>a</th>\n",
       "      <th>b</th>\n",
       "      <th>b-a</th>\n",
       "      <th>f(a)</th>\n",
       "      <th>f(b)</th>\n",
       "      <th>(a+b)/2</th>\n",
       "    </tr>\n",
       "  </thead>\n",
       "  <tbody>\n",
       "    <tr>\n",
       "      <th>0</th>\n",
       "      <td>-4.000</td>\n",
       "      <td>-2.0000</td>\n",
       "      <td>2.0000</td>\n",
       "      <td>-7.965210</td>\n",
       "      <td>0.982300</td>\n",
       "      <td>-3.00000</td>\n",
       "    </tr>\n",
       "    <tr>\n",
       "      <th>1</th>\n",
       "      <td>-3.000</td>\n",
       "      <td>-2.0000</td>\n",
       "      <td>1.0000</td>\n",
       "      <td>-0.466450</td>\n",
       "      <td>0.982300</td>\n",
       "      <td>-2.50000</td>\n",
       "    </tr>\n",
       "    <tr>\n",
       "      <th>2</th>\n",
       "      <td>-3.000</td>\n",
       "      <td>-2.5000</td>\n",
       "      <td>0.5000</td>\n",
       "      <td>-0.466450</td>\n",
       "      <td>0.715747</td>\n",
       "      <td>-2.75000</td>\n",
       "    </tr>\n",
       "    <tr>\n",
       "      <th>3</th>\n",
       "      <td>-3.000</td>\n",
       "      <td>-2.7500</td>\n",
       "      <td>0.2500</td>\n",
       "      <td>-0.466450</td>\n",
       "      <td>0.271747</td>\n",
       "      <td>-2.87500</td>\n",
       "    </tr>\n",
       "    <tr>\n",
       "      <th>4</th>\n",
       "      <td>-2.875</td>\n",
       "      <td>-2.7500</td>\n",
       "      <td>0.1250</td>\n",
       "      <td>-0.056089</td>\n",
       "      <td>0.271747</td>\n",
       "      <td>-2.81250</td>\n",
       "    </tr>\n",
       "    <tr>\n",
       "      <th>5</th>\n",
       "      <td>-2.875</td>\n",
       "      <td>-2.8125</td>\n",
       "      <td>0.0625</td>\n",
       "      <td>-0.056089</td>\n",
       "      <td>0.117565</td>\n",
       "      <td>-2.84375</td>\n",
       "    </tr>\n",
       "  </tbody>\n",
       "</table>\n",
       "</div>"
      ],
      "text/plain": [
       "       a       b     b-a      f(a)      f(b)  (a+b)/2\n",
       "0 -4.000 -2.0000  2.0000 -7.965210  0.982300 -3.00000\n",
       "1 -3.000 -2.0000  1.0000 -0.466450  0.982300 -2.50000\n",
       "2 -3.000 -2.5000  0.5000 -0.466450  0.715747 -2.75000\n",
       "3 -3.000 -2.7500  0.2500 -0.466450  0.271747 -2.87500\n",
       "4 -2.875 -2.7500  0.1250 -0.056089  0.271747 -2.81250\n",
       "5 -2.875 -2.8125  0.0625 -0.056089  0.117565 -2.84375"
      ]
     },
     "execution_count": 37,
     "metadata": {},
     "output_type": "execute_result"
    }
   ],
   "source": [
    "a = -4\n",
    "b = -2\n",
    "eps = 1e-1\n",
    "\n",
    "table_list = [[a, b, b - a, P(coef, a), P(coef, b) , (a + b)/2]]\n",
    "c = 0\n",
    "while b - a > eps:\n",
    "    c = (a+b)/2\n",
    "    if P(coef, c)*P(coef, a) >= 0:\n",
    "        a = c\n",
    "    else:\n",
    "        b = c\n",
    "    table_list.append([a, b, b - a, P(coef, a), P(coef, b) , (a + b)/2])\n",
    "pd.DataFrame(table_list, columns = ['a', 'b', 'b-a', 'f(a)', 'f(b)', '(a+b)/2'])"
   ]
  },
  {
   "cell_type": "markdown",
   "id": "4bb68125-2df3-4cfe-995d-f08c08994039",
   "metadata": {},
   "source": [
    "Получили отрезок $[-2.875; -2.8125]$, на котором находится искомый корень. По графику видно, что корень в этом отрезке должен быть единственным и функция на этом отрезке монотонно возрастает (так как второй корень из двух имеющихся является положительным, т.е. никак не может оказаться на этом отрезке)."
   ]
  },
  {
   "cell_type": "markdown",
   "id": "b0e9400e-f60b-4d89-992b-0d6a175fe0a2",
   "metadata": {
    "tags": []
   },
   "source": [
    "## Отыскание приближенного значения корня"
   ]
  },
  {
   "cell_type": "markdown",
   "id": "9aa53319-3acb-4557-9bd3-423c01583077",
   "metadata": {},
   "source": [
    "Для приближения значения корня воспользуемся методом Ньютона. Проверим все условия для сходимости метода:"
   ]
  },
  {
   "cell_type": "markdown",
   "id": "476a2b30-704b-4398-aa62-873ee4e36bac",
   "metadata": {},
   "source": [
    "Также зададим функции первой и второй производной многочлена, поскольку они понадобится в этом методе."
   ]
  },
  {
   "cell_type": "code",
   "execution_count": 38,
   "id": "c30f8417-607b-4ca2-9a76-15c1ec3bb8a4",
   "metadata": {
    "tags": []
   },
   "outputs": [],
   "source": [
    "def P_(a, x):\n",
    "    P = 0\n",
    "    for i in range(1, len(a)):\n",
    "        P += i*x**(i-1) * a[i]\n",
    "    return P"
   ]
  },
  {
   "cell_type": "code",
   "execution_count": 39,
   "id": "2b1410ed",
   "metadata": {},
   "outputs": [],
   "source": [
    "def P__(a, x):\n",
    "    P = 0\n",
    "    for i in range(2, len(a)):\n",
    "        P += i*(i-1)*x**(i-2) * a[i]\n",
    "    return P"
   ]
  },
  {
   "cell_type": "code",
   "execution_count": 40,
   "id": "4a2ba302",
   "metadata": {},
   "outputs": [
    {
     "name": "stdout",
     "output_type": "stream",
     "text": [
      "x_0 = -2.84375\n",
      "h_0 = -0.011968030327013178\n",
      "s_0 = [ -2.84375 ; -2.867686060654026 ]\n"
     ]
    }
   ],
   "source": [
    "x_0 = (a+b)/2\n",
    "print('x_0 =', x_0) \n",
    "h_0 = - P(coef, x_0) / P_(coef, x_0)\n",
    "print('h_0 =', h_0) \n",
    "s_0 = np.linspace(x_0, x_0 + 2*h_0, 1000)\n",
    "print('s_0 = [', s_0[0], ';', s_0[-1], ']')"
   ]
  },
  {
   "cell_type": "markdown",
   "id": "2221dfcf",
   "metadata": {},
   "source": [
    "Функция $P(x)$ определена и дважды непрерывно дифференцируема на отрезке $s_0$. Также"
   ]
  },
  {
   "cell_type": "code",
   "execution_count": 41,
   "id": "5fcef569",
   "metadata": {},
   "outputs": [
    {
     "data": {
      "text/plain": [
       "0.09234071309797807"
      ]
     },
     "execution_count": 41,
     "metadata": {},
     "output_type": "execute_result"
    }
   ],
   "source": [
    "P(coef,s_0[0])*P_(coef,s_0[0])"
   ]
  },
  {
   "cell_type": "code",
   "execution_count": 42,
   "id": "3e098452",
   "metadata": {},
   "outputs": [
    {
     "data": {
      "text/plain": [
       "-0.10076505717125879"
      ]
     },
     "execution_count": 42,
     "metadata": {},
     "output_type": "execute_result"
    }
   ],
   "source": [
    "P(coef,s_0[-1])*P_(coef,s_0[-1])"
   ]
  },
  {
   "cell_type": "code",
   "execution_count": 43,
   "id": "9d338162",
   "metadata": {},
   "outputs": [
    {
     "data": {
      "text/plain": [
       "5.244257130515324"
      ]
     },
     "execution_count": 43,
     "metadata": {},
     "output_type": "execute_result"
    }
   ],
   "source": [
    "M = np.max(np.absolute(P__(coef,s_0)))\n",
    "M"
   ]
  },
  {
   "cell_type": "code",
   "execution_count": 44,
   "id": "a6bb9077",
   "metadata": {},
   "outputs": [
    {
     "data": {
      "text/plain": [
       "True"
      ]
     },
     "execution_count": 44,
     "metadata": {},
     "output_type": "execute_result"
    }
   ],
   "source": [
    "2*np.absolute(h_0)*M <= np.absolute(P_(coef, x_0))"
   ]
  },
  {
   "cell_type": "markdown",
   "id": "4dc6f287-0700-4519-b7f7-76ae167132b9",
   "metadata": {},
   "source": [
    "Все необходимые условия сходимости выполнены. Зададим точность для метода и реализуем итерационный процесс."
   ]
  },
  {
   "cell_type": "code",
   "execution_count": 45,
   "id": "0e9a1a75",
   "metadata": {},
   "outputs": [],
   "source": [
    "epsilon = 1e-6"
   ]
  },
  {
   "cell_type": "code",
   "execution_count": 46,
   "id": "269118d7",
   "metadata": {},
   "outputs": [],
   "source": [
    "def phi(x):\n",
    "    return x - P(coef, x) / P_(coef, x)"
   ]
  },
  {
   "cell_type": "code",
   "execution_count": 47,
   "id": "115ae168",
   "metadata": {},
   "outputs": [
    {
     "name": "stdout",
     "output_type": "stream",
     "text": [
      "-2.8557180303270133\n",
      "-2.855588144333177\n",
      "-2.855588128919784\n",
      "Число итераций: 3\n"
     ]
    }
   ],
   "source": [
    "x_k = x_0\n",
    "x_k1 = phi(x_0)\n",
    "print(x_k1)\n",
    "k = 1\n",
    "while np.absolute(x_k1 - x_k) >= epsilon:\n",
    "    x_k = x_k1\n",
    "    x_k1 = phi(x_k)\n",
    "    k+=1\n",
    "    print(x_k1)\n",
    "print('Число итераций:', k)"
   ]
  },
  {
   "cell_type": "markdown",
   "id": "10de4144",
   "metadata": {},
   "source": [
    "Покажем с помощью подстановки, что найденный приближенный корень действительно является корнем данного многочлена:"
   ]
  },
  {
   "cell_type": "code",
   "execution_count": 48,
   "id": "4b6c7076",
   "metadata": {},
   "outputs": [
    {
     "data": {
      "text/plain": [
       "-8.881784197001252e-16"
      ]
     },
     "execution_count": 48,
     "metadata": {},
     "output_type": "execute_result"
    }
   ],
   "source": [
    "P(coef, x_k1)"
   ]
  },
  {
   "cell_type": "markdown",
   "id": "bed3eb51",
   "metadata": {},
   "source": [
    "## Вывод\n",
    "Таким образом, мы смогли найти наибольший по модулю корень для многочлена с точностью $10^{-6}$, и он равен $$x\\approx-2.855588.$$"
   ]
  }
 ],
 "metadata": {
  "kernelspec": {
   "display_name": "Python 3 (ipykernel)",
   "language": "python",
   "name": "python3"
  },
  "language_info": {
   "codemirror_mode": {
    "name": "ipython",
    "version": 3
   },
   "file_extension": ".py",
   "mimetype": "text/x-python",
   "name": "python",
   "nbconvert_exporter": "python",
   "pygments_lexer": "ipython3",
   "version": "3.11.5"
  }
 },
 "nbformat": 4,
 "nbformat_minor": 5
}
