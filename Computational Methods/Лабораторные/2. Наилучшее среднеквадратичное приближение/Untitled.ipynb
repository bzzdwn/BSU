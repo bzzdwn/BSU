{
 "cells": [
  {
   "cell_type": "code",
   "execution_count": 4,
   "id": "3bbeabf6",
   "metadata": {
    "tags": []
   },
   "outputs": [],
   "source": [
    "import random\n",
    "# модули для математических операций\n",
    "import math\n",
    "import numpy as np\n",
    "import system_solvers # алгоритмы из ВМА\n",
    "import scipy.integrate as integrate # вычисление интегралов\n",
    "import scipy.special as special\n",
    "# модули для визуализации\n",
    "import matplotlib.pyplot as plt\n",
    "import seaborn as sns\n",
    "# модули для работы с данными\n",
    "import pandas as pd\n",
    "pd.options.display.float_format ='{:,.7f}'.format"
   ]
  },
  {
   "cell_type": "code",
   "execution_count": 4,
   "id": "f0afcafd",
   "metadata": {
    "tags": []
   },
   "outputs": [],
   "source": [
    "def approximate_function(func, poly_degree=1, a=0, b=1, plot=True):\n",
    "    \n",
    "    n = poly_degree + 1\n",
    "    \n",
    "    def s(i, a, b):\n",
    "        return b**(i+1) / (i + 1) - a**(i+1) / (i + 1)\n",
    "\n",
    "    def S(n, a, b):\n",
    "        S = [[None]*n for _ in range(n)]\n",
    "        for i in range(n):\n",
    "            for j in range(n):\n",
    "                S[i][j] = s(i+j, a, b)\n",
    "        return S\n",
    "    \n",
    "    def m(i, a, b):\n",
    "        return integrate.quad(lambda x: x**i * func(x), a, b)\n",
    "    \n",
    "    def M(n, a, b):\n",
    "        M = [[None]*n for _ in range(n)]\n",
    "        r = [[None]*n for _ in range(n)]\n",
    "        for i in range(n):\n",
    "            M[i], r[i] = m(i, a, b)\n",
    "        return M, r\n",
    "    \n",
    "    solution = system_solvers.reflection_method(S(n, a, b), M(n, a, b)[0])\n",
    "    \n",
    "    coefficients = solution[0]\n",
    "    \n",
    "    def phi(x, coefficients):\n",
    "        phi = 0\n",
    "        n = len(coefficients)\n",
    "        for i in range(n):\n",
    "            phi += x**i * coefficients[i]\n",
    "        return phi\n",
    "    \n",
    "    if plot == True:\n",
    "        x = np.linspace(a, b, 100000)\n",
    "\n",
    "        fig, ax = plt.subplots()\n",
    "        ax.plot(x, f(x), label='real function')\n",
    "        ax.plot(x, phi(x, coefficients), label='approximation')\n",
    "        ax.set_xlabel('x')\n",
    "        ax.set_ylabel('f(x)')\n",
    "        plt.legend()\n",
    "        plt.grid()\n",
    "        plt.show()\n",
    "        \n",
    "    mse = integrate.quad(lambda x: (f(x) - phi(x, coefficients))**2, a, b)\n",
    "    \n",
    "    return solution, mse"
   ]
  },
  {
   "cell_type": "code",
   "execution_count": 21,
   "id": "fa690242-b7ec-4eee-8c63-1a0c07b03af7",
   "metadata": {
    "tags": []
   },
   "outputs": [],
   "source": [
    "def lsm(data_x, data_y, poly_degree=1, plot=True):\n",
    "    \n",
    "    n = poly_degree + 1\n",
    "    \n",
    "    def s(x, k):\n",
    "        return np.sum(x**k)\n",
    "\n",
    "    def S(x, n):\n",
    "        S = [[None]*n for _ in range(n)]\n",
    "        for i in range(n):\n",
    "            for j in range(n):\n",
    "                S[i][j] = s(x, i+j)\n",
    "        return S\n",
    "    \n",
    "    def m(x, j):\n",
    "        return np.sum(data_y * x**j)\n",
    "\n",
    "    def M(x, n):\n",
    "        M = [[None]*n for _ in range(n)]\n",
    "        for j in range(n):\n",
    "            M[j] = m(x, j)\n",
    "        return M\n",
    "    \n",
    "    solution = system_solvers.reflection_method( \n",
    "    S(data_x, n),\n",
    "    M(data_x, n))\n",
    "    \n",
    "    coefficients = solution[0]\n",
    "    \n",
    "    def phi(x, coefficients):\n",
    "        phi = 0\n",
    "        n = len(coefficients)\n",
    "        for i in range(n):\n",
    "            phi += x**i * coefficients[i]\n",
    "        return phi\n",
    "    \n",
    "    if plot == True:\n",
    "        x = np.linspace(min(data_x), max(data_x), 100000)\n",
    "\n",
    "        fig, ax = plt.subplots()\n",
    "        ax.scatter(data_x, data_y, label='coords')\n",
    "        ax.plot(x, phi(x, coefficients), label='approximation')\n",
    "        ax.set_xlabel('x')\n",
    "        ax.set_ylabel('f(x)')\n",
    "        plt.legend()\n",
    "        plt.grid()\n",
    "        plt.show()\n",
    "        \n",
    "    mse = np.sum((data_y - phi(data_x, coefficients))**2)\n",
    "    \n",
    "    return solution, mse"
   ]
  },
  {
   "cell_type": "code",
   "execution_count": 22,
   "id": "894d8585-0e9c-4bf5-9e0c-a54f309a9d05",
   "metadata": {
    "tags": []
   },
   "outputs": [
    {
     "data": {
      "image/png": "[encoded data removed]",
      "text/plain": [
       "<Figure size 640x480 with 1 Axes>"
      ]
     },
     "metadata": {},
     "output_type": "display_data"
    },
    {
     "data": {
      "text/plain": [
       "(([3.000000000001567,\n",
       "   -3.5166666666772715,\n",
       "   3.8250000000100726,\n",
       "   -1.4833333333363952,\n",
       "   0.1750000000002921],\n",
       "  [2.7284841053187847e-12,\n",
       "   2.4158453015843406e-13,\n",
       "   7.105427357601002e-14,\n",
       "   5.551115123125783e-14,\n",
       "   1.554312234475219e-14],\n",
       "  8294399.999986379),\n",
       " 8.2235229570539e-24)"
      ]
     },
     "execution_count": 22,
     "metadata": {},
     "output_type": "execute_result"
    }
   ],
   "source": [
    "lsm(np.array([0, 1, 3, 4, 5]), np.array([3, 2, 1, 0, 5]), 4, True)"
   ]
  },
  {
   "cell_type": "code",
   "execution_count": 5,
   "id": "d424f1dc",
   "metadata": {
    "tags": []
   },
   "outputs": [],
   "source": [
    "def f(x):\n",
    "    return x ** 2"
   ]
  },
  {
   "cell_type": "code",
   "execution_count": 7,
   "id": "107a92d5",
   "metadata": {
    "tags": []
   },
   "outputs": [
    {
     "data": {
      "image/png": "[encoded data removed]",
      "text/plain": [
       "<Figure size 640x480 with 1 Axes>"
      ]
     },
     "metadata": {},
     "output_type": "display_data"
    },
    {
     "data": {
      "text/plain": [
       "(([-2.166666666666666, 3.0],\n",
       "  [0.0, 2.498001805406602e-16],\n",
       "  -0.0833333333333335),\n",
       " (0.005555555555555558, 6.167905692361984e-17))"
      ]
     },
     "execution_count": 7,
     "metadata": {},
     "output_type": "execute_result"
    }
   ],
   "source": [
    "approximate_function(f, 1, 1, 2, True)"
   ]
  },
  {
   "cell_type": "code",
   "execution_count": 8,
   "id": "2ab87ef5",
   "metadata": {
    "tags": []
   },
   "outputs": [
    {
     "data": {
      "text/plain": [
       "2.1666666666666665"
      ]
     },
     "execution_count": 8,
     "metadata": {},
     "output_type": "execute_result"
    }
   ],
   "source": [
    "13/6"
   ]
  },
  {
   "cell_type": "code",
   "execution_count": 1,
   "id": "1a2139b9-d183-414b-bacf-78cdeb78b6db",
   "metadata": {},
   "outputs": [
    {
     "data": {
      "text/plain": [
       "0.1733333333333333"
      ]
     },
     "execution_count": 1,
     "metadata": {},
     "output_type": "execute_result"
    }
   ],
   "source": [
    "0.026 / (1-0.85)"
   ]
  },
  {
   "cell_type": "code",
   "execution_count": 11,
   "id": "6d07b532-fbf3-4f3f-b8ec-edb60389059a",
   "metadata": {
    "tags": []
   },
   "outputs": [
    {
     "data": {
      "text/plain": [
       "True"
      ]
     },
     "execution_count": 11,
     "metadata": {},
     "output_type": "execute_result"
    }
   ],
   "source": [
    "2*abs(math.pi / 24)*20 <= 3*math.sqrt(2) - math.pi/6 + 4"
   ]
  },
  {
   "cell_type": "code",
   "execution_count": 8,
   "id": "78f0b38a-cebb-449e-bf46-8c0dbe1b989d",
   "metadata": {
    "tags": []
   },
   "outputs": [
    {
     "data": {
      "text/plain": [
       "-0.6071278058823166"
      ]
     },
     "execution_count": 8,
     "metadata": {},
     "output_type": "execute_result"
    }
   ],
   "source": [
    "math.sqrt(2) - math.pi**2 / 144 + 4*math.pi/12 - 3"
   ]
  },
  {
   "cell_type": "code",
   "execution_count": 10,
   "id": "c371b57c-f5d3-4cc0-8819-59d66b71e9c1",
   "metadata": {
    "tags": []
   },
   "outputs": [
    {
     "data": {
      "text/plain": [
       "7.719041911520987"
      ]
     },
     "execution_count": 10,
     "metadata": {},
     "output_type": "execute_result"
    }
   ],
   "source": [
    "3*math.sqrt(2) - math.pi/6 + 4"
   ]
  },
  {
   "cell_type": "code",
   "execution_count": 23,
   "id": "36485ac3-602e-4f67-ac58-e25d6f8a9e78",
   "metadata": {
    "tags": []
   },
   "outputs": [
    {
     "data": {
      "text/plain": [
       "1.6"
      ]
     },
     "execution_count": 23,
     "metadata": {},
     "output_type": "execute_result"
    }
   ],
   "source": [
    "120/75"
   ]
  },
  {
   "cell_type": "code",
   "execution_count": 25,
   "id": "896443cb-756d-4b5e-9edc-96f38b033b09",
   "metadata": {
    "tags": []
   },
   "outputs": [
    {
     "data": {
      "text/plain": [
       "1.7099759466766968"
      ]
     },
     "execution_count": 25,
     "metadata": {},
     "output_type": "execute_result"
    }
   ],
   "source": [
    "5**(1/3)"
   ]
  },
  {
   "cell_type": "code",
   "execution_count": 26,
   "id": "90b8c01e-f208-4815-bf9c-1f672437a796",
   "metadata": {
    "tags": []
   },
   "outputs": [
    {
     "data": {
      "text/plain": [
       "1.7999999999999998"
      ]
     },
     "execution_count": 26,
     "metadata": {},
     "output_type": "execute_result"
    }
   ],
   "source": [
    "5-3.2"
   ]
  },
  {
   "cell_type": "code",
   "execution_count": 27,
   "id": "da072f65-8451-480d-9655-4931c9136dbf",
   "metadata": {
    "tags": []
   },
   "outputs": [
    {
     "data": {
      "text/plain": [
       "96.0"
      ]
     },
     "execution_count": 27,
     "metadata": {},
     "output_type": "execute_result"
    }
   ],
   "source": [
    "2*1.6*30"
   ]
  },
  {
   "cell_type": "code",
   "execution_count": 6,
   "id": "548d0689-7df0-401f-82c6-5347ac4f42ab",
   "metadata": {
    "tags": []
   },
   "outputs": [],
   "source": [
    "def prod(x):\n",
    "    product = np.cos(x)\n",
    "    for i in range(1, 2025):\n",
    "        product *= np.sin(i*x)\n",
    "    return product"
   ]
  },
  {
   "cell_type": "code",
   "execution_count": 7,
   "id": "8f4ace0e-8fd6-4afd-8928-f9d0556afc1d",
   "metadata": {},
   "outputs": [
    {
     "data": {
      "text/plain": [
       "(0.0, 0.0)"
      ]
     },
     "execution_count": 7,
     "metadata": {},
     "output_type": "execute_result"
    }
   ],
   "source": [
    "integrate.quad(lambda x: prod(x), 0, math.pi)"
   ]
  },
  {
   "cell_type": "code",
   "execution_count": null,
   "id": "52b8801e",
   "metadata": {},
   "outputs": [],
   "source": []
  }
 ],
 "metadata": {
  "kernelspec": {
   "display_name": "Python 3 (ipykernel)",
   "language": "python",
   "name": "python3"
  },
  "language_info": {
   "codemirror_mode": {
    "name": "ipython",
    "version": 3
   },
   "file_extension": ".py",
   "mimetype": "text/x-python",
   "name": "python",
   "nbconvert_exporter": "python",
   "pygments_lexer": "ipython3",
   "version": "3.11.5"
  }
 },
 "nbformat": 4,
 "nbformat_minor": 5
}
