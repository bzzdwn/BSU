{
 "cells": [
  {
   "cell_type": "code",
   "execution_count": 1,
   "id": "3bbeabf6",
   "metadata": {},
   "outputs": [],
   "source": [
    "import random\n",
    "# модули для математических операций\n",
    "import math\n",
    "import numpy as np\n",
    "import system_solvers # алгоритмы из ВМА\n",
    "import scipy.integrate as integrate # вычисление интегралов\n",
    "import scipy.special as special\n",
    "# модули для визуализации\n",
    "import matplotlib.pyplot as plt\n",
    "import seaborn as sns\n",
    "# модули для работы с данными\n",
    "import pandas as pd\n",
    "pd.options.display.float_format ='{:,.7f}'.format"
   ]
  },
  {
   "cell_type": "code",
   "execution_count": 57,
   "id": "f0afcafd",
   "metadata": {},
   "outputs": [],
   "source": [
    "def approximate_function(func, poly_degree=1, a=0, b=1, plot=True):\n",
    "    \n",
    "    n = poly_degree + 1\n",
    "    \n",
    "    def s(i, a, b):\n",
    "        return b**(i+1) / (i + 1) - a**(i+1) / (i + 1)\n",
    "\n",
    "    def S(n, a, b):\n",
    "        S = [[None]*n for _ in range(n)]\n",
    "        for i in range(n):\n",
    "            for j in range(n):\n",
    "                S[i][j] = s(i+j, a, b)\n",
    "        return S\n",
    "    \n",
    "    def m(i, a, b):\n",
    "        return integrate.quad(lambda x: x**i * func(x), a, b)\n",
    "    \n",
    "    def M(n, a, b):\n",
    "        M = [[None]*n for _ in range(n)]\n",
    "        r = [[None]*n for _ in range(n)]\n",
    "        for i in range(n):\n",
    "            M[i], r[i] = m(i, a, b)\n",
    "        return M, r\n",
    "    \n",
    "    solution = system_solvers.reflection_method(S(n, a, b), M(n, a, b)[0])\n",
    "    \n",
    "    coefficients = solution[0]\n",
    "    \n",
    "    def phi(x, coefficients):\n",
    "        phi = 0\n",
    "        n = len(coefficients)\n",
    "        for i in range(n):\n",
    "            phi += x**i * coefficients[i]\n",
    "        return phi\n",
    "    \n",
    "    if plot == True:\n",
    "        x = np.linspace(a, b, 100000)\n",
    "\n",
    "        fig, ax = plt.subplots()\n",
    "        ax.plot(x, f(x), label='real function')\n",
    "        ax.plot(x, phi(x, coefficients), label='approximation')\n",
    "        ax.set_xlabel('x')\n",
    "        ax.set_ylabel('f(x)')\n",
    "        plt.legend()\n",
    "        plt.grid()\n",
    "        plt.show()\n",
    "        \n",
    "    mse = integrate.quad(lambda x: (f(x) - phi(x, coefficients))**2, a, b)\n",
    "    \n",
    "    return solution, mse"
   ]
  },
  {
   "cell_type": "code",
   "execution_count": 58,
   "id": "d424f1dc",
   "metadata": {},
   "outputs": [],
   "source": [
    "def f(x):\n",
    "    return x * np.cos(x)"
   ]
  },
  {
   "cell_type": "code",
   "execution_count": 60,
   "id": "107a92d5",
   "metadata": {},
   "outputs": [
    {
     "data": {
      "text/plain": [
       "(([0.09229140113384739, 0.5789637790843777],\n",
       "  [0.0, 6.938893903907228e-18],\n",
       "  -0.08333333333333336),\n",
       " (0.002608035618510018, 2.895501192712333e-17))"
      ]
     },
     "execution_count": 60,
     "metadata": {},
     "output_type": "execute_result"
    }
   ],
   "source": [
    "approximate_function(f, 1, 0, 1, False)"
   ]
  },
  {
   "cell_type": "code",
   "execution_count": null,
   "id": "2ab87ef5",
   "metadata": {},
   "outputs": [],
   "source": []
  }
 ],
 "metadata": {
  "kernelspec": {
   "display_name": "Python 3 (ipykernel)",
   "language": "python",
   "name": "python3"
  },
  "language_info": {
   "codemirror_mode": {
    "name": "ipython",
    "version": 3
   },
   "file_extension": ".py",
   "mimetype": "text/x-python",
   "name": "python",
   "nbconvert_exporter": "python",
   "pygments_lexer": "ipython3",
   "version": "3.11.5"
  }
 },
 "nbformat": 4,
 "nbformat_minor": 5
}
