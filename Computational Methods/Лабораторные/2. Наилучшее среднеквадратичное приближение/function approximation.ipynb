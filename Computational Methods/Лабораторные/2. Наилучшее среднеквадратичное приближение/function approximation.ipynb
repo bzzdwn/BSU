{
 "cells": [
  {
   "cell_type": "markdown",
   "id": "31639e24-2d58-437f-acf3-a8f6ba36a37b",
   "metadata": {},
   "source": [
    "# Наилучшее среднеквадратичное приближение функции"
   ]
  },
  {
   "cell_type": "code",
   "execution_count": 1,
   "id": "7915deb8-b171-4fd6-b8fb-549daefafb3c",
   "metadata": {
    "tags": []
   },
   "outputs": [],
   "source": [
    "# модули для математических операций\n",
    "import math\n",
    "import numpy as np\n",
    "import system_solvers # алгоритмы из ВМА\n",
    "# модули для визуализации\n",
    "import matplotlib.pyplot as plt\n",
    "import seaborn as sns\n",
    "# модули для работы с данными\n",
    "import pandas as pd\n",
    "pd.options.display.float_format ='{:,.7f}'.format"
   ]
  },
  {
   "cell_type": "markdown",
   "id": "339d042c-d95e-47d9-9477-2eed6874695e",
   "metadata": {},
   "source": [
    "## Постановка задачи"
   ]
  },
  {
   "cell_type": "markdown",
   "id": "ba6d71f7-ddd8-4905-8a39-ba2d0001661c",
   "metadata": {},
   "source": [
    "Проблема наилучшего среднеквадратичного приближения формулируется следующим образом. Пусть задана функция $f(x) = x\\cos x$ на отрезке $[a,b]$. Тогда необходимо\n",
    "1. имея значения функции $f(x_i)$ в одних точках, найти значения функции в других точках;\n",
    "2. имея некоторую функцию $f(x)$, которую трудно вычислить, мы будем заменять ее другой функцией $\\varphi(x,a)$, где $a$ --- векторный параметр, которую легко вычислить."
   ]
  },
  {
   "cell_type": "code",
   "execution_count": 89,
   "id": "b9ac9609-3e56-4211-b476-77e63779484f",
   "metadata": {
    "tags": []
   },
   "outputs": [],
   "source": [
    "def f(x):\n",
    "    return x*np.cos(x)"
   ]
  },
  {
   "cell_type": "markdown",
   "id": "5add3248-c2bb-4c2b-9fd3-11d9345b62c3",
   "metadata": {},
   "source": [
    "## Общие сведения о решении задачи"
   ]
  },
  {
   "cell_type": "markdown",
   "id": "bad4b142-3ad3-4e0a-acb6-bce03e5fc11e",
   "metadata": {},
   "source": [
    "Задачи приближения функции можно классифицировать на линейные и нелинейные. Задача считается линейной, если множество, из которого мы берем функцию $\\varphi(x)$ является линейным. Соответственно при решении задачи мы будем также разделять способы построения приближения на линейные и нелинейные.\n",
    "\n",
    "Сперва рассмотрим алгоритм построения линейного наилучшего среднеквадратичного приближения. Поскольку в данном случае мы строим среднеквадратичное приближение в линейном пространстве, то в качестве такого пространства будем рассматривать гильбертово пространство $H$, так как из теории функционального анализа известно, что существует единственный элемент наилучшего приближения в таком пространстве.\n",
    "\n",
    "Пусть подпространство $\\Phi$ порождено элементами $\\varphi_0,\\varphi_1,\\ldots, \\varphi_n$. Обозначим $\\Phi_0$ --- элемент наилучшего приближения к $f$ в $\\Phi$. Поскольку $\\Phi_0 \\in \\Phi$, то он представим в виде линейной комбинации $$\\Phi_0 = \\sum_{i=0}^{n}c_i\\varphi_i.$$\n",
    " Задача отыскания $\\Phi_0$ равносильна отысканию коэффициентов $c_0,\\ldots, c_n$ таких, чтобы выполнялось равенство $$(f-\\Phi_0, \\varphi) = 0\\ \\forall \\varphi \\in \\Phi.$$\n",
    " Последнее равенство равносильно системе условий вида $$(f-\\Phi_0, \\varphi_j) = 0, j = 0,1,\\ldots, n.$$\n",
    " Эти равенства представляют собой систему линейных алгебраических уравнений вида $$\\begin{cases}\n",
    " \tc_0(\\varphi_0,\\varphi_0) + \\ldots + c_n(\\varphi_n, \\varphi_n) = (f,\\varphi_0),\\\\\n",
    " \t\\vdots\\\\\n",
    " \tc_0(\\varphi_0,\\varphi_n) + \\ldots + c_n(\\varphi_n, \\varphi_n) = (f,\\varphi_n)\n",
    " \\end{cases}$$\n",
    " \n",
    "  Таким образом, для построения элемента наилучшего приближения в гильбертовом пространстве необходимо сделать два пункта\n",
    "1. выбрать систему базисных элементов $\\varphi_0,\\ldots, \\varphi_n$ подпространства $\\Phi$;\n",
    "2. составить и решить систему указанную выше.\n",
    "\n",
    " Пусть $H = L_2(p)[a,b]$ --- пространство вещественнозначных функций интегрируемых с квадратом на отрезке $[a,b]$ по весу $p(x)$. Норма в этом пространстве задается как $$||f|| = (f,f)^{\\frac12} = \\Big(\\int\\limits_a^b p(x) f^2(x)dx\\Big)^{\\frac12}.$$\n",
    "Скалярное произведение как $$(f,g) = \\int\\limits_a^b p(x) f(x) g(x)dx.$$\n",
    "При этом вес $p(x)$ удовлетворяет условиям:\n",
    "1. $p(x) \\geq 0$ $\\forall x \\in [a,b]$;\n",
    "2. $p(x)$ обращается в ноль не более чем на множестве меры нуль."
   ]
  },
  {
   "cell_type": "markdown",
   "id": "da0048af-2e90-4b9e-b17c-e6ef823f267e",
   "metadata": {},
   "source": [
    "## Построение линейного наилучшего среднеквадратичного приближения"
   ]
  },
  {
   "cell_type": "markdown",
   "id": "084c2195-f456-4627-8180-56da989e2208",
   "metadata": {},
   "source": [
    "### Наилучшее полиномиальное среднеквадратичное приближение для непрерывно заданной функции\n",
    "#### Теоретические выкладки\n",
    "В качестве системы базисных функций возьмем функции $1, x, \\ldots, x^n$, или $\\varphi_i = x^i$, $i=\\overline{0,n}$. Обобщенный многочлен в этом случае превращается в алгебраический многочлен вида $$\\varphi = P_n(x) = \\sum_{i=0}^{n}c_ix^i,\\quad c_i \\in\\mathbb{R}$$\n",
    "Согласно общей теории существует единственный элемент $\\varphi^* = P_n^*(x)$, который дает наилучшее приближение данной функции $f$ в пространстве $H$.\n",
    "Для того, чтобы задать $P_n^*$ нужно решить систему с выбранными базисными функциями $\\varphi_i$, которая в данном случае примет следующий вид $$\\begin{cases}\n",
    " \tc_0s_0 + c_1s_1 + \\ldots + c_ns_n = m_0,\\\\\n",
    " \tc_0s_1 + c_1s_2 + \\ldots + c_ns_{n+1} = m_1,\\\\\n",
    " \t\\vdots\\\\\n",
    " \tc_0s_n + c_1s_{n+1} + \\ldots + c_ns_{2n} = m_n.\n",
    " \\end{cases}$$\n",
    " $$s_i = \\int\\limits_a^b p(x) x^i dx,\\quad m_j= \\int\\limits_a^b p(x) f(x) x^j dx,\\quad i=\\overline{0,2n}, j=\\overline{0,n}.$$"
   ]
  },
  {
   "cell_type": "markdown",
   "id": "e850d149-ce89-4d0c-8723-e2cbe186ed97",
   "metadata": {},
   "source": [
    "#### Построение приближения многочленом первой степени\n",
    "Попробуем построить приближение функции $f(x) = x\\cos x$ заданной на отрезке $[a,b]=[0, 1]$ с помощью линейной функции $$\\varphi(x) = c_0 + c_1x.$$ Возьмем вес $p(x) = 1$.\n",
    "Для построения приближающей функции нам необходимо решить систему\n",
    "$$\\begin{cases}\n",
    "c_0 s_0 + c_1 s_1 = \\int\\limits_{0}^1 x\\cos x dx,\\\\\n",
    "c_0 s_1 + c_1 s_2 = \\int\\limits_{0}^1 x^2\\cos x dx;\n",
    "\\end{cases}$$\n",
    "где $$s_i = \\int\\limits_a^b x^idx = \\dfrac{x^{i+1}}{i+1}\\Big|_0^1 = \\dfrac{1}{i+1}$$"
   ]
  },
  {
   "cell_type": "code",
   "execution_count": 73,
   "id": "3c12d833-8fac-4de0-83da-65dd0f245519",
   "metadata": {
    "tags": []
   },
   "outputs": [],
   "source": [
    "def s(i):\n",
    "    return 1 / (i + 1)"
   ]
  },
  {
   "cell_type": "markdown",
   "id": "96619170-6389-4620-8f44-d118145584e7",
   "metadata": {},
   "source": [
    "Вычислим значения каждого из интегралов\n",
    "$$\\int\\limits_{0}^1 x\\cos x dx = x\\sin x \\Big|_{0}^1 + \\cos x\\Big|_{0}^1 = \\sin1 + \\cos1 - 1,$$\n",
    "$$\\int\\limits_{0}^1 x^2\\cos x dx = (x^2-2)\\sin x \\Big|_{0}^1 +2x\\cos x\\Big|_{0}^1 = -\\sin1 +2 \\cos1.$$\n",
    "Взяв ранее построенный алгоритм метода Гаусса с выбором главного элемента по столбцу, найдем решение получившейся системы уравнений относительно $c_i$."
   ]
  },
  {
   "cell_type": "code",
   "execution_count": 71,
   "id": "cbd4b300-80bd-4ccf-bcfd-949e6c5a702f",
   "metadata": {
    "tags": []
   },
   "outputs": [
    {
     "data": {
      "text/plain": [
       "[0.09229140113384732, 0.5789637790843775]"
      ]
     },
     "execution_count": 71,
     "metadata": {},
     "output_type": "execute_result"
    }
   ],
   "source": [
    "coefficients = system_solvers.gaussian_column( \n",
    "    [[s(0), s(1)], \n",
    "    [s(1), s(2)]], \n",
    "    \n",
    "    [np.sin(1) + np.cos(1) - 1, \n",
    "    -np.sin(1) + 2*np.cos(1)])[0]\n",
    "\n",
    "coefficients"
   ]
  },
  {
   "cell_type": "markdown",
   "id": "1f5d0415-fa98-45e1-85ad-e231bcd80d09",
   "metadata": {},
   "source": [
    "Построим многочлен с соответствующими коэффициентами $$\\varphi(x) = 0.09229 + 0.57896x.$$"
   ]
  },
  {
   "cell_type": "code",
   "execution_count": 68,
   "id": "7a108437-ed72-40e8-be46-3244e1257461",
   "metadata": {
    "tags": []
   },
   "outputs": [],
   "source": [
    "def phi(x, coefficients):\n",
    "    phi = 0\n",
    "    n = len(coefficients)\n",
    "    for i in range(n):\n",
    "        phi += x**i * coefficients[i]\n",
    "    return phi"
   ]
  },
  {
   "cell_type": "markdown",
   "id": "3cf9dd8a-3df0-4a04-bdaf-938cf9411e53",
   "metadata": {},
   "source": [
    "Теперь построим график исходной функции и построенного приближения"
   ]
  },
  {
   "cell_type": "code",
   "execution_count": 69,
   "id": "3fbf6a0d-709c-4485-aae5-4994e0075221",
   "metadata": {
    "tags": []
   },
   "outputs": [
    {
     "data": {
      "image/png": "[encoded data removed]",
      "text/plain": [
       "<Figure size 640x480 with 1 Axes>"
      ]
     },
     "metadata": {},
     "output_type": "display_data"
    }
   ],
   "source": [
    "x = np.linspace(0, 1, 10000)\n",
    "\n",
    "fig, ax = plt.subplots()\n",
    "ax.plot(x, f(x), label='f(x)')\n",
    "ax.plot(x, phi(x, coefficients), label='phi(x)')\n",
    "ax.set_xlim(0, 1)\n",
    "ax.set_ylim(-1, 1)\n",
    "ax.set_xlabel('x')\n",
    "ax.set_ylabel('f(x)')\n",
    "plt.legend()\n",
    "plt.grid()\n",
    "plt.show()"
   ]
  },
  {
   "cell_type": "markdown",
   "id": "5caee849-5836-437d-a38e-4a32ca539d66",
   "metadata": {},
   "source": [
    "Рассчитаем среднеквадратичное отклонение функции от ее приближения:\n",
    "$$|| f(x) - \\varphi(x) || ^2 = \\int\\limits_0^1 x\\cos x - 0.09229 - 0.57896x\\ dx=$$ $$= x\\sin x + \\cos x - 0.09229 x - 0.57896\\dfrac{x^2}{2} \\Big|_0^1 = 3.29068\\cdot 10^{-6}.$$"
   ]
  },
  {
   "cell_type": "markdown",
   "id": "0e33480d-f408-4902-bd09-6f733706cf54",
   "metadata": {},
   "source": [
    "#### Построение приближения многочленом второй степени\n",
    "Попробуем построить приближение функции $f(x) = x\\cos x$ заданной на отрезке $[a,b]=[0, 2]$ с помощью квадратичной функции $$\\varphi(x) = c_0 + c_1x +c_2x^2.$$ Возьмем вес $p(x) = 1$.\n",
    "Для построения приближающей функции нам необходимо решить систему\n",
    "$$\\begin{cases}\n",
    "c_0 s_0 + c_1 s_1 + c_2s_2 = \\int\\limits_{0}^2 x\\cos x dx,\\\\\n",
    "c_0 s_1 + c_1 s_2 + c_2 s_3 = \\int\\limits_{0}^2 x^2\\cos x dx,\\\\\n",
    "c_0 s_2 + c_1 s_3 + c_2s_4 = \\int\\limits_{0}^2 x^3\\cos x dx;\\\\\n",
    "\\end{cases}$$\n",
    "где $$s_i = \\int\\limits_a^b x^idx = \\dfrac{x^{i+1}}{i+1}\\Big|_0^2 = \\dfrac{2^{i+1}}{i+1}$$"
   ]
  },
  {
   "cell_type": "code",
   "execution_count": 82,
   "id": "2edec7d1-e7c0-4528-847d-49a956d7a48d",
   "metadata": {
    "tags": []
   },
   "outputs": [],
   "source": [
    "def s(i):\n",
    "    return 2**(i + 1) / (i + 1)"
   ]
  },
  {
   "cell_type": "markdown",
   "id": "dade3486-b3c1-48da-915c-568b7e25a5f3",
   "metadata": {},
   "source": [
    "Предварительно построим алгоритм, который будет составлять матрицу $S$, состоящую из коэффициентов $s_i$."
   ]
  },
  {
   "cell_type": "code",
   "execution_count": 83,
   "id": "04128b1d-517f-4f16-a6d4-8c6d1837326a",
   "metadata": {
    "tags": []
   },
   "outputs": [],
   "source": [
    "def S(n):\n",
    "    S = [[None]*n for _ in range(n)]\n",
    "    for i in range(n):\n",
    "        for j in range(n):\n",
    "            S[i][j] = s(i+j)\n",
    "    return S"
   ]
  },
  {
   "cell_type": "code",
   "execution_count": 84,
   "id": "798ebc1b-72c8-4d16-a049-b3cadbbd4152",
   "metadata": {
    "tags": []
   },
   "outputs": [
    {
     "data": {
      "text/plain": [
       "[[2.0, 2.0, 2.6666666666666665],\n",
       " [2.0, 2.6666666666666665, 4.0],\n",
       " [2.6666666666666665, 4.0, 6.4]]"
      ]
     },
     "execution_count": 84,
     "metadata": {},
     "output_type": "execute_result"
    }
   ],
   "source": [
    "S(3)"
   ]
  },
  {
   "cell_type": "markdown",
   "id": "774450f4-5441-4852-88f7-915c7f8ccaad",
   "metadata": {},
   "source": [
    "Вычислим значения каждого из интегралов\n",
    "$$\\int\\limits_{0}^2 x\\cos x dx = 2\\sin2 + \\cos2 - 1,$$\n",
    "$$\\int\\limits_{0}^2 x^2\\cos x dx = 2\\sin2 +4 \\cos2,$$\n",
    "$$\\int\\limits_{0}^2 x^3\\cos x dx= x(x^2-6)\\sin x + 3(x^2-2)\\cos x = 6 - 4\\sin2 + 6\\cos2.$$\n",
    "Решим систему и найдем значения коэффициентов."
   ]
  },
  {
   "cell_type": "code",
   "execution_count": 85,
   "id": "a42de744-f953-4beb-8b19-dceed9e1e3c9",
   "metadata": {
    "tags": []
   },
   "outputs": [],
   "source": [
    "import scipy.integrate as integrate\n",
    "import scipy.special as special\n",
    "\n",
    "def m(i, a, b):\n",
    "    return integrate.quad(lambda x: x**i * f(x), a, b)"
   ]
  },
  {
   "cell_type": "code",
   "execution_count": 90,
   "id": "a3928f2f-1d56-4e4e-84b7-37b2f09c26e7",
   "metadata": {
    "tags": []
   },
   "outputs": [
    {
     "data": {
      "text/plain": [
       "[3.4088503869936346, -9.131305197641575, 4.3495939232845044]"
      ]
     },
     "execution_count": 90,
     "metadata": {},
     "output_type": "execute_result"
    }
   ],
   "source": [
    "coefficients = system_solvers.gaussian_column( \n",
    "    S(3),\n",
    "    [2*np.sin(2) + np.cos(2) - 1, \n",
    "    2*np.sin(2) + 4*np.cos(2),\n",
    "    6-4*np.sin(2) + 6*np.cos(2)])[0]\n",
    "\n",
    "coefficients"
   ]
  },
  {
   "cell_type": "code",
   "execution_count": 91,
   "id": "e2f4e155-6e63-42c2-90ce-87bba67ebe15",
   "metadata": {
    "tags": []
   },
   "outputs": [
    {
     "data": {
      "text/plain": [
       "[3.4088503869936333, -9.13130519764157, 4.349593923284502]"
      ]
     },
     "execution_count": 91,
     "metadata": {},
     "output_type": "execute_result"
    }
   ],
   "source": [
    "coefficients = system_solvers.gaussian_column( \n",
    "    S(3),\n",
    "    [m(0, 0, 2)[0], \n",
    "    m(1, 0, 2)[0],\n",
    "    m(2, 0, 2)[0]])[0]\n",
    "\n",
    "coefficients"
   ]
  },
  {
   "cell_type": "markdown",
   "id": "79883207-ba56-4afd-b54e-a6bfbf4eb6a1",
   "metadata": {},
   "source": [
    "Получаем многочлен $$\\varphi(x) = 3.40885 -9.13130x + 4.34959x^2.$$\n",
    "И график исходной функции и получившегося приближения"
   ]
  },
  {
   "cell_type": "code",
   "execution_count": 92,
   "id": "7516d342-4b3c-4cc1-848d-c8cb470d5fe0",
   "metadata": {
    "tags": []
   },
   "outputs": [
    {
     "data": {
      "image/png": "[encoded data removed]",
      "text/plain": [
       "<Figure size 640x480 with 1 Axes>"
      ]
     },
     "metadata": {},
     "output_type": "display_data"
    }
   ],
   "source": [
    "x = np.linspace(0, 2, 10000)\n",
    "\n",
    "fig, ax = plt.subplots()\n",
    "ax.plot(x, f(x), label='f(x)')\n",
    "ax.plot(x, phi(x, coefficients), label='phi(x)')\n",
    "ax.set_xlim(0, 2)\n",
    "ax.set_ylim(-1, 1)\n",
    "ax.set_xlabel('x')\n",
    "ax.set_ylabel('f(x)')\n",
    "plt.legend()\n",
    "plt.grid()\n",
    "plt.show()"
   ]
  },
  {
   "cell_type": "markdown",
   "id": "5c98c6d8-e2d7-430e-abaa-5db7d97963bb",
   "metadata": {},
   "source": [
    "### Наилучшее полиномиальное среднеквадратичное приближение для поточечно заданной функции\n",
    "\n",
    "Предположим, что нам известны значения функции $f(x)$ на конечном множестве точек отрезка $[a,b]$. Рассмотрим алгоритм построения среднеквадратичного приближения для таблично заданной функции.\n",
    "Пусть в точках $x_i$ $$a\\leq x_0 < x_1 <\\ldots x_N \\leq b$$ заданы значения функций $f(x_i)$, $i=\\overline{0,N}$. Для функций заданных таблично определим скалярное произведение следующим образом $$(f,g) = \\sum_{i=0}^{N}p(x_i)f(x_i)g(x_i).$$\n",
    "Тогда многочлен наилучшего среднеквадратичного приближения может быть построен по формуле выше, где коэффициенты $c_i$ являются решениями системы, которая в рассматриваемом случае примет вид $$\\sum_{i=0}^{n}\\Big(\\sum_{j=0}^{N}p(x_j)x_j^{i+k}\\Big) c_i = \\sum_{j=0}^{N} p(x_j) f(x_j) x_j^k,\\quad k =\\overline{0,n}.$$"
   ]
  },
  {
   "cell_type": "code",
   "execution_count": null,
   "id": "2be34c16-008f-42f0-bb87-34a971d77ea1",
   "metadata": {},
   "outputs": [],
   "source": []
  }
 ],
 "metadata": {
  "kernelspec": {
   "display_name": "Python 3 (ipykernel)",
   "language": "python",
   "name": "python3"
  },
  "language_info": {
   "codemirror_mode": {
    "name": "ipython",
    "version": 3
   },
   "file_extension": ".py",
   "mimetype": "text/x-python",
   "name": "python",
   "nbconvert_exporter": "python",
   "pygments_lexer": "ipython3",
   "version": "3.11.5"
  }
 },
 "nbformat": 4,
 "nbformat_minor": 5
}
