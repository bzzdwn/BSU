{
 "cells": [
  {
   "cell_type": "markdown",
   "id": "5a8fa857",
   "metadata": {},
   "source": [
    "# Численное интегрироование"
   ]
  },
  {
   "cell_type": "markdown",
   "id": "84b04a4d",
   "metadata": {
    "tags": []
   },
   "source": [
    "# Постановка задач"
   ]
  },
  {
   "cell_type": "markdown",
   "id": "68371bfa",
   "metadata": {},
   "source": [
    "1. Построить квадратурную формулу максимально возможной степени точности вида $$\\int\\limits_0^1 \\dfrac{f(x)}{\\sqrt{1-x}} \\approx A_0 f(x_0) + A_1 f(x_1).$$\n",
    "\n",
    "2. Определить алгебраическую степень точности указанной квадратурной формулы $$\\int\\limits_0^{+\\infty} e^{-x} f(x)dx\\approx \\dfrac{2+\\sqrt2}{4} f(2-\\sqrt2) + \\dfrac{2-\\sqrt2}{4}f(2+\\sqrt2).$$\n",
    "\n",
    "3. Используя правило Рунге, провести сравнительный анализ квадратурных формул правых прямоугольников и трапеций на примере вычисления интеграла $$I = \\int\\limits_1^3 \\dfrac{\\sin x^2}{x+1} dx.$$\n",
    "\n",
    "4. Вычислить с точностью $\\varepsilon = 10^{-4}$ интеграл $$I = \\int\\limits_0^2 \\dfrac{\\cos x^2}{\\sqrt{x(2-x)}} dx.$$\n",
    "\n",
    "5. Найти с точностью $\\varepsilon= 10^{-4}$ решение уравнения $$\\int\\limits_1^x e^{t^2}(1+t^3)dt = 1.7.$$"
   ]
  },
  {
   "cell_type": "markdown",
   "id": "fe7871bd",
   "metadata": {
    "jp-MarkdownHeadingCollapsed": true,
    "tags": []
   },
   "source": [
    "# Задача 1"
   ]
  },
  {
   "cell_type": "markdown",
   "id": "219a07ac",
   "metadata": {},
   "source": [
    "Для построения квадратурной формулы понадобятся соотношения \\begin{eqnarray}\n",
    "\\begin{cases}\n",
    "\\int\\limits_a^b \\rho(x) x^idx = \\sum\\limits_{k=0}^{n}A_kx^i_k,\\quad i=\\overline{0,m},\\\\\n",
    "\\int\\limits_a^b \\rho(x) x^{m+1}dx \\ne \\sum\\limits_{k=0}^{n}A_kx^i_k;\n",
    "\\end{cases}\n",
    "\\end{eqnarray}\n",
    "причем в этом случае говорят, что квадратурная формула **имеет алгебраическую степень точности равную m**.\n",
    "\t\n",
    "Соответственно для построения квадратурной формулы необходимо построить систему из соотношений (1), по которой мы найдем неизвестные. Затем найти следующее выражение, при котором равенство нарушается.\n",
    "\n",
    "Из условия следует, что неизвестными значениями являются $A_0, A_1$, $x_0, x_1$. Итого 4 неизвестных. Для их отыскания следует построить систему из 4-ех уравнений по формуле (1). Тогда в соответствии со степенями $x^i$ запишем систему\n",
    "$$\\begin{cases}\n",
    "\tx^0 : \\int\\limits_{0}^1 \\dfrac{1}{\\sqrt{1-x}} dx = A_0 + A_1,\\\\\n",
    "\tx^1 : \\int\\limits_{0}^1 \\dfrac{x}{\\sqrt{1-x}} dx = A_0x_0 + A_1x_1,\\\\\n",
    "\tx^2 : \\int\\limits_{0}^1 \\dfrac{x^2}{\\sqrt{1-x}} dx = A_0x_0^2 + A_1x_1^2,\\\\\n",
    "\tx^3 : \\int\\limits_{0}^1 \\dfrac{x^3}{\\sqrt{1-x}} dx = A_0x_0^3 + A_1x_1^3.\\\\\n",
    "\t\\end{cases}$$ \n",
    "Вычислим значения интегралов из левой части уравнений:\n",
    "$$\\int\\limits_{0}^1 \\dfrac{1}{\\sqrt{1-x}} dx = -\\int\\limits_0^1 (1-x)^{-\\frac12} d(1-x) = -2(1-x)^{\\frac12}\\Big|_0^1 = 2.$$\n",
    "\\begin{multline*}\\int\\limits_{0}^1 \\dfrac{x}{\\sqrt{1-x}} dx = \\left[\\begin{matrix}\\sqrt{1-x} = t, & x = 1-t^2, \\\\ x=1 \\to t=0, & x=0 \\to t = 1, \\\\ dx = -2tdt\\end{matrix}\\right] = \\int\\limits_1^0\\dfrac{1-t^2}{t} \\cdot (-2t)dt = -2\\int\\limits_1^0 1-t^2 dt = -2 \\left(t\\Big|_ 1^0 - \\dfrac{t^3}{3}\\Big|_ 1^0\\right) = \\dfrac43.\\end{multline*}\n",
    "В последующих интегралах приводится аналогичная замена.\n",
    "$$\\int\\limits_{0}^1 \\dfrac{x^2}{\\sqrt{1-x}} dx = -2\\int\\limits_1^0 (1-t^2)^2 dt =-2\\int\\limits_1^0 1 - 2t^2 + t^4 dt= -2 \\left(t\\Big|_ 1^0 - \\dfrac{2t^3}{3}\\Big|_ 1^0 + \\dfrac{t^5}{5}\\Big|_ 1^0\\right) = \\dfrac{16}{15}.$$\n",
    "$$\\int\\limits_{0}^1 \\dfrac{x^3}{\\sqrt{1-x}} dx = -2\\int\\limits_1^0 (1-t^2)^3 dt =-2\\int\\limits_1^0 1 - 3t^2 + 3t^4 -t^6 dt= -2 \\left(t\\Big|_ 1^0 - \\dfrac{3t^3}{3}\\Big|_ 1^0 + \\dfrac{3t^5}{5}\\Big|_ 1^0 - \\dfrac{t^7}{7}\\Big|_ 1^0\\right) = \\dfrac{32}{35}.$$\n",
    "\n",
    "В итоге имеем систему нелинейных уравнений $$\\begin{cases} A_0 + A_1 = 2, \\\\ A_0x_0 + A_1x_1 = \\dfrac43,\\\\ A_0x_0^2 + A_1x_1^2 = \\dfrac{16}{15}, \\\\ A_0x_0^3 + A_1x_1^3 = \\dfrac{32}{35}. \\end{cases}$$\n",
    "Первое, второе и третье уравнения домножим на $-x_0$ и прибавим ко второму, третьему и четвертому соответственно. Тогда будем иметь систему с тремя неизвестными \n",
    "$$\n",
    "\\begin{cases}\n",
    "A_1x_1 - A_1x_0 = \\dfrac43 - 2x_0,\\\\\n",
    "A_1x_1^2 - A_1x_1x_0 = \\dfrac{16}{15} - \\dfrac43x_0,\\\\\n",
    "A_1x_1^3 - A_1x_1^2x_0 = \\dfrac{32}{35} - \\dfrac{16}{15}x_0.\n",
    "\\end{cases}\n",
    "$$\n",
    "Поступаем аналогично, но умножим первое и второе уравнения на $-x_1$ и прибавим к второму и третьему соответственно. Тогда имеем более простую нелинейную систему из 2-ух уравнений \n",
    "$$\n",
    "\\begin{cases}\n",
    "x_0 + x_1 - \\dfrac32 x_0x_1 = \\dfrac45,\\\\\n",
    "x_0 + x_1 - \\dfrac54 x_0x_1 = \\dfrac67.\n",
    "\\end{cases}\n",
    "$$\n",
    "Вычтем из первого уравнения второе и получим $$\\dfrac{x_0x_1}{4} = \\dfrac{2}{35}\\Rightarrow x_0x_1 = \\dfrac{8}{35}.$$\n",
    "В предположении, что $x_1\\ne 0$ (подстановкой в исходную систему можно проверить, что это действительно так), выражаем $x_0$:\n",
    "$$x_0 = \\dfrac{8}{35x_1}.$$\n",
    "Подставляя это выражение в первое уравнение, получим $$\\dfrac{8}{35x_1} + x_1 - \\dfrac{3}{2}\\cdot \\dfrac{8}{35x_1} = \\dfrac45.$$\n",
    "Отсюда получаем квадратное уравнение $$x_1^2 - \\dfrac{8}{7} x_1 + \\dfrac{8}{35} = 0.$$\n",
    "Корнями которого являются значения $$x_1 = \\dfrac47 + \\dfrac{2\\sqrt{30}}{35},\\quad x_1 = \\dfrac47 - \\dfrac{2\\sqrt{30}}{35}.$$\n",
    "Подстановкой каждого из значений в выражение $x_0 = \\dfrac{8}{35x_1}$ можно получить, что $$x_0 = \\dfrac47 - \\dfrac{2\\sqrt{30}}{35},\\quad x_0 = \\dfrac47 +\\dfrac{2\\sqrt{30}}{35}.$$\n",
    "Таким образом, мы можем выбрать любое из двух значений. Обусловимся тем, что узлы мы строим в порядке возрастания. Поэтому в итоге выберем $$x_0 = \\dfrac47 - \\dfrac{2\\sqrt{30}}{35},\\quad x_1 = \\dfrac47 +\\dfrac{2\\sqrt{30}}{35}.$$\n",
    "Теперь, используя полученные значения, мы можем из первых двух уравнений исходной системы вычислить $A_0$ и $A_1$. Выпишем эти уравнения, подставив $x_0$, $x_1$:\n",
    "$$\\begin{cases}\n",
    "A_0 + A_1 = 2,\\\\\n",
    "\\dfrac{(20-2\\sqrt{30})A_0 + (20+2\\sqrt{30})A_1}{35}=\\dfrac43.\n",
    "\\end{cases}$$\n",
    "Выразим из первого уравнения $A_1 = 2 - A_0$ и подставим во второе:\n",
    "$$\\dfrac{20A_0-2\\sqrt{30}A_0 + 2(20+2\\sqrt{30}) - 20A_0 - 4\\sqrt{30}A_0}{35}=\\dfrac43.$$\n",
    "Преобразуем уравнение \n",
    "$$\\dfrac{-4\\sqrt{30}A_0}{35} = \\dfrac43 - \\dfrac{40}{35} - \\dfrac{2\\sqrt{30}}{35}.$$\n",
    "$$A_0 = -\\dfrac{35}{3\\sqrt{30}} + \\dfrac{10}{\\sqrt{30}} + 1 = -\\dfrac{7\\sqrt{30}}{18} + \\dfrac{\\sqrt{30}}{3} + 1=1 - \\dfrac{\\sqrt{30}}{18}.$$\n",
    "Тогда $$A_1 = 1 + \\dfrac{\\sqrt{30}}{18}.$$\n",
    "Итого имеем $$A_0 = 1-\\dfrac{\\sqrt{30}}{18},\\quad A_1 = 1+\\dfrac{\\sqrt{30}}{18},\\quad x_0 = \\dfrac47 - \\dfrac{2\\sqrt{30}}{35},\\quad x_0 = \\dfrac47 +\\dfrac{2\\sqrt{30}}{35}.$$\n",
    "В итоге получаем квадратурную формулу, имеющую алгебраическую степень точности не ниже 3. Для уточнения построим еще одно уравнение и проверим, удовлетворяют ли полученные нами данные этому уравнению:\n",
    "$$x^4 : \\int\\limits_{0}^1 \\dfrac{x^4}{\\sqrt{1-x}} dx = A_0x_0^4 + A_1x_1^4.$$\n",
    "Как и прежде, вычисляем интеграл с помощью замены:\n",
    "$$\\int\\limits_{0}^1 \\dfrac{x^4}{\\sqrt{1-x}} dx = -2\\int\\limits_1^0 (1-t^2)^4dx = -2\\int\\limits_1^0 1 - 4 t^2 + 6 t^4 - 4 t^6 + t^8dt =  -2 \\left(t\\Big|_ 1^0 - \\dfrac{4t^3}{3}\\Big|_ 1^0 + \\dfrac{6t^5}{5}\\Big|_ 1^0 - \\dfrac{4t^7}{7}\\Big|_ 1^0 + \\dfrac{t^9}{9}\\Big|_ 1^0\\right) = \\dfrac{256}{315}.$$\n",
    "Тогда $$A_0x_0^4 + A_1x_1^4 = \\dfrac{256}{315}.$$\n",
    "С помощью компьютерных вычислений посчитаем значение слева."
   ]
  },
  {
   "cell_type": "code",
   "execution_count": 1,
   "id": "796fe729",
   "metadata": {},
   "outputs": [
    {
     "data": {
      "text/plain": [
       "0.8010884353741498"
      ]
     },
     "execution_count": 1,
     "metadata": {},
     "output_type": "execute_result"
    }
   ],
   "source": [
    "import math\n",
    "A_0 = (18 - math.sqrt(30)) / 18\n",
    "A_1 = (18 + math.sqrt(30)) / 18\n",
    "x_0 = (20 - 2*math.sqrt(30)) / 35\n",
    "x_1 = (20 + 2*math.sqrt(30)) / 35\n",
    "\n",
    "A_0 * x_0**4 + A_1 * x_1**4"
   ]
  },
  {
   "cell_type": "code",
   "execution_count": 2,
   "id": "af1230cc",
   "metadata": {},
   "outputs": [
    {
     "data": {
      "text/plain": [
       "False"
      ]
     },
     "execution_count": 2,
     "metadata": {},
     "output_type": "execute_result"
    }
   ],
   "source": [
    "A_0 * x_0**4 + A_1 * x_1**4 == 256/315"
   ]
  },
  {
   "cell_type": "markdown",
   "id": "1f480e47",
   "metadata": {},
   "source": [
    "Таким образом, при степени 4 точность нарушается. Следовательно, мы построили квадратурную формулу с АСТ = 3 вида $$\\int\\limits_0^1 \\dfrac{f(x)}{\\sqrt{1-x}}dx = \\dfrac{18 - \\sqrt{30}}{18}\\cdot f\\left(\\dfrac{20 - 2\\sqrt{30}}{35}\\right) + \\dfrac{18 + \\sqrt{30}}{18}\\cdot f\\left(\\dfrac{20 + 2\\sqrt{30}}{35}\\right).$$"
   ]
  },
  {
   "cell_type": "markdown",
   "id": "f4d35329",
   "metadata": {
    "jp-MarkdownHeadingCollapsed": true,
    "tags": []
   },
   "source": [
    "# Задача 2"
   ]
  },
  {
   "cell_type": "markdown",
   "id": "df7f245b",
   "metadata": {},
   "source": [
    "Для решения задачи понадбятся соотношения (1). Таким образом необходимо строить по одному уравнению из соотношений (1) до тех пор, пока мы не получим неравенство.\n",
    "\n",
    "Теперь обратим внимание на составляющие элементы формулы (1), а именно $\\rho(x), A_k, x_k$. Квадратурная формула для нашей задачи записывается в общем случае в виде\n",
    "$$I(f) = \\int\\limits_a^b \\rho(x)f(x)dx \\approx A_0 f(x_0) + A_1 f(x_1).$$\n",
    "Из постановки задачи мы выделяем, что $$\\rho(x) = e^{-x},\\quad A_0 =\\dfrac{2+\\sqrt2}{4},\\quad x_0 =2-\\sqrt2,\\quad A_1 = \\dfrac{2-\\sqrt2}{4},\\quad x_1 = 2+\\sqrt2.$$\n",
    "Остается лишь записывать соотношения из (1) последовательно, повышая степень $i$ на каждом шаге.\n",
    "\n",
    "Причем заметим, что по формуле (1) слева мы будем получать интегралы вида $$\\int\\limits_0^{+\\infty} x^i e^{-x} dx = \\Gamma(i+1) = i!,$$ что позволяет нам уменьшить количество вычислений.\n",
    "\n",
    "Берем $i=0$:\n",
    "$$x^0 : \\int\\limits_0^{+\\infty} e^{-x}dx=0! \\overset{?}{=}  A_0 + A_1ю$$\n",
    "Тогда $$1 \\overset{?}{=} A_0 + A_1 = \\dfrac{2+\\sqrt2}{4} + \\dfrac{2-\\sqrt2}{4} = 1.$$\n",
    "Равенство выполняется.\n",
    "\n",
    "Берем $i=1$:\n",
    "$$x^1 : \\int\\limits_0^{+\\infty} xe^{-x}dx = 1!\\overset{?}{=}  A_0x_0 + A_1x_1ю$$\n",
    "Тогда $$1 \\overset{?}{=} A_0x_0 + A_1x_1 = \\dfrac{2+\\sqrt2}{4}\\cdot (2-\\sqrt2) + \\dfrac{2-\\sqrt2}{4}\\cdot (2+\\sqrt2) = 1.$$\n",
    "Равенство выполняется.\n",
    "\n",
    "Берем $i=2$:\n",
    "$$x^2 : \\int\\limits_0^{+\\infty} x^2e^{-x}dx=2! \\overset{?}{=}  A_0x_0^2 + A_1x_1^2,$$\n",
    "Тогда $$2 \\overset{?}{=} A_0x_0^2 + A_1x_1^2 = \\dfrac{2+\\sqrt2}{4}\\cdot (2-\\sqrt2)^2 + \\dfrac{2-\\sqrt2}{4}\\cdot (2+\\sqrt2)^2 = 2.$$\n",
    "Равенство выполняется.\n",
    "\n",
    "Берем $i=3$:\n",
    "$$x^3 : \\int\\limits_0^{+\\infty} x^3e^{-x}dx =3!\\overset{?}{=}  A_0x_0^3 + A_1x_1^3ю$$\n",
    "Тогда $$6 \\overset{?}{=} A_0x_0^3 + A_1x_1^3 = \\dfrac{2+\\sqrt2}{4}\\cdot (2-\\sqrt2)^3 + \\dfrac{2-\\sqrt2}{4}\\cdot (2+\\sqrt2)^3 = \\dfrac12(4-4\\sqrt2 + 2) +\\dfrac12(4+4\\sqrt2 + 2) = 6.$$\n",
    "Равенство выполняется.\n",
    "\n",
    "Берем $i=4$:\n",
    "$$x^3 : \\int\\limits_0^{+\\infty} x^4e^{-x}dx=4! \\overset{?}{=}  A_0x_0^4 + A_1x_1^4.$$\n",
    "Тогда $$24 \\overset{?}{=} A_0x_0^4 + A_1x_1^4 = \\dfrac{2+\\sqrt2}{4}\\cdot (2-\\sqrt2)^4 + \\dfrac{2-\\sqrt2}{4}\\cdot (2+\\sqrt2)^4 = \\dfrac12(4\\cdot (6-4\\sqrt2 - 2 + 6+4\\sqrt2) = 20.$$\n",
    "Равенство не выполняется.\n",
    "\n",
    "Таким образом, квадратурная формула имеет АСТ = 3."
   ]
  },
  {
   "cell_type": "markdown",
   "id": "0c892831-b102-42da-8809-a1a5a50e146b",
   "metadata": {
    "tags": []
   },
   "source": [
    "# Задача 3"
   ]
  },
  {
   "cell_type": "markdown",
   "id": "58064f63-47db-4a6c-b81e-c041a8142818",
   "metadata": {},
   "source": [
    "Импортируем все необходимые для дальнейшей работы библиотеки"
   ]
  },
  {
   "cell_type": "code",
   "execution_count": 274,
   "id": "aa734e40-c0df-4cbb-8ed5-2cb088e84c04",
   "metadata": {
    "tags": []
   },
   "outputs": [],
   "source": [
    "import numpy as np\n",
    "import pandas as pd\n",
    "import math"
   ]
  },
  {
   "cell_type": "markdown",
   "id": "afa9235e-f547-47a7-86cc-9f76bc5be7bd",
   "metadata": {},
   "source": [
    "Сперва сравним кваратурные формулы правых прямоугольников и трапеций без использования правила Рунге на примере вычисления интеграла $$I = \\int\\limits_1^3 \\dfrac{\\sin x^2}{x+1} dx.$$\n",
    "\n",
    "Обозначим подынтегральную функцию $$f(x) = \\dfrac{\\sin x^2}{x+1}$$ и определим ее компьютерно"
   ]
  },
  {
   "cell_type": "code",
   "execution_count": 409,
   "id": "5978580b-6963-46cf-a69b-b2fb26beeaf3",
   "metadata": {
    "tags": []
   },
   "outputs": [],
   "source": [
    "a, b = 1, 3\n",
    "def f(x):\n",
    "    return np.sin(x**2) / (x + 1)"
   ]
  },
  {
   "cell_type": "markdown",
   "id": "1ec1f9a6-90b1-41c0-a8f8-88fc8d06ac3e",
   "metadata": {},
   "source": [
    "## Сравнение простейших квадратурных формул"
   ]
  },
  {
   "cell_type": "markdown",
   "id": "d453ab24-c9d7-456c-8b44-e8df122f6910",
   "metadata": {},
   "source": [
    "$\\bullet$ *Формула $$I_\\text{пп}(f) = (b-a)f(b) $$ называется **простейшей квадратурной формулой правых прямоугольников***.\n",
    "\n",
    "Реализуем программно метод, вычисляющий это значение при заданных параметрах $f(x), a, b$."
   ]
  },
  {
   "cell_type": "code",
   "execution_count": 322,
   "id": "43f70d93-7dd0-4ce3-b17a-2dbd0352976f",
   "metadata": {
    "tags": []
   },
   "outputs": [],
   "source": [
    "def simple_right_rectangles(f, a, b):\n",
    "    return (b - a) * f(b)"
   ]
  },
  {
   "cell_type": "code",
   "execution_count": 324,
   "id": "73eee0bd-a740-4eb5-86be-aaa42c42ce3a",
   "metadata": {
    "tags": []
   },
   "outputs": [
    {
     "data": {
      "text/plain": [
       "0.2060592426208783"
      ]
     },
     "execution_count": 324,
     "metadata": {},
     "output_type": "execute_result"
    }
   ],
   "source": [
    "simple_right_rectangles(f, 1, 3)"
   ]
  },
  {
   "cell_type": "markdown",
   "id": "f64d8b38-2e23-41c7-823c-9f9d6b19a9f2",
   "metadata": {},
   "source": [
    "$\\bullet$ *Формула $$R_\\text{пп}(f) = -\\dfrac{(b-a)^2}{2}f'(\\eta),\\quad \\eta\\in [a,b]$$ определяет **остаток простейшей квадратурной формулы правых прямоугольников**.*\n",
    "\n",
    "С помощью этой формулы оценим погрешность квадратурной формулы как \n",
    "$$|R(f)| \\leq \\left| \\dfrac{(b-a)^2}{2}\\right| \\max_{x\\in [a,b]} |f'(x)|,$$\n",
    "причем $$f'(x) = \\dfrac{\\cos x^2 \\cdot 2x \\cdot (x+1) - \\sin x^2}{(x+1)^2}.$$\n",
    "Это значение можно грубо оценить как $$|f'(x)| \\leq \\left|\\dfrac{\\cos x^2 \\cdot 2x \\cdot (x+1)}{(x+1)^2}\\right| + \\left|\\dfrac{\\sin x^2}{(x+1)^2}\\right|\\leq \\left|\\dfrac{2x \\cdot (x+1)}{(x+1)^2}\\right| \\underset{x=3}{\\leq} 1.5.$$\n",
    "\n",
    "Тогда $$|R(f)|\\leq 3.$$\n",
    "\n",
    "Иначе с помощью компьютерных методов можно получить максимальное значение производной:"
   ]
  },
  {
   "cell_type": "code",
   "execution_count": 415,
   "id": "5f5336b5-eaa7-4d6f-a47c-22be12084303",
   "metadata": {
    "tags": []
   },
   "outputs": [
    {
     "data": {
      "text/plain": [
       "1.4304946135850696"
      ]
     },
     "execution_count": 415,
     "metadata": {},
     "output_type": "execute_result"
    }
   ],
   "source": [
    "def derivative_f(x):\n",
    "    return (np.cos(x**2) * 2 * x * (x+1) - np.sin(x**2)) / (x+1)**2\n",
    "\n",
    "M_1 = np.max(np.absolute(derivative_f(np.linspace(1, 3, 10000))))\n",
    "M_1"
   ]
  },
  {
   "cell_type": "markdown",
   "id": "0dc6023d-0880-4ff3-8233-635b3772d73f",
   "metadata": {},
   "source": [
    "Тогда оценка для остатка:"
   ]
  },
  {
   "cell_type": "code",
   "execution_count": 411,
   "id": "a834ea21-630d-4004-8e5b-180d8c16496b",
   "metadata": {
    "tags": []
   },
   "outputs": [
    {
     "data": {
      "text/plain": [
       "2.860989227170139"
      ]
     },
     "execution_count": 411,
     "metadata": {},
     "output_type": "execute_result"
    }
   ],
   "source": [
    "abs((b - a) ** 2 / 2) * M"
   ]
  },
  {
   "cell_type": "markdown",
   "id": "24be9414-6c29-4aa3-b692-f086285c4398",
   "metadata": {},
   "source": [
    "Что является достаточно высокой погрешностью."
   ]
  },
  {
   "cell_type": "markdown",
   "id": "122115dd-6cf0-4687-9925-0431b5909904",
   "metadata": {},
   "source": [
    "$\\bullet$ *Формула $$I_\\text{тп} (f)= \\dfrac{b-a}{2}\\left(f(a) + f(b)\\right)$$ называется **простейшей квадратурной формулой трапеций.***\n",
    "\n",
    "Реализуем программно метод, вычисляющий это значение при заданных параметрах $f(x), a, b$."
   ]
  },
  {
   "cell_type": "code",
   "execution_count": 321,
   "id": "9e0280f7-dc1e-478a-80c1-5739c84a34da",
   "metadata": {
    "tags": []
   },
   "outputs": [],
   "source": [
    "def simple_trapeziods(f, a, b):\n",
    "    return (b - a) / 2 * (f(a) + f(b))"
   ]
  },
  {
   "cell_type": "code",
   "execution_count": 325,
   "id": "c812270f-e22c-4328-b01a-8c5e703b1350",
   "metadata": {
    "tags": []
   },
   "outputs": [
    {
     "data": {
      "text/plain": [
       "0.5237651137143874"
      ]
     },
     "execution_count": 325,
     "metadata": {},
     "output_type": "execute_result"
    }
   ],
   "source": [
    "simple_trapeziods(f, 1, 3)"
   ]
  },
  {
   "cell_type": "markdown",
   "id": "cfc047b0-0316-4e30-bdb6-8deaa7075970",
   "metadata": {},
   "source": [
    "$\\bullet$ *Формула $$R_\\text{тп}(f) = -\\dfrac{(b-a)^3}{12}f''(\\eta), \\quad \\eta\\in [a,b]$$ определяет **остаток простейшей квадратурной формулы трапеций.***\n",
    "\n",
    "С помощью этой формулы оценим погрешность квадратурной формулы как \n",
    "$$|R(f)| \\leq \\left| \\dfrac{(b-a)^3}{12}\\right| \\max_{x\\in [a,b]} |f''(x)|,$$\n",
    "причем $$f''(x) = \\dfrac{2\\sin x^2}{(x+1)^3} - \\dfrac{4x\\cos x^2}{(x+1)^2} + \\dfrac{2\\cos x^2 - 4x^2\\sin x^2}{x+1}.$$\n",
    "C помощью компьютерных методов можно получить максимальное значение производной:"
   ]
  },
  {
   "cell_type": "code",
   "execution_count": 416,
   "id": "815a6161-ac2a-495f-874e-d1b0dad0470f",
   "metadata": {
    "tags": []
   },
   "outputs": [
    {
     "data": {
      "text/plain": [
       "8.236183308630338"
      ]
     },
     "execution_count": 416,
     "metadata": {},
     "output_type": "execute_result"
    }
   ],
   "source": [
    "def second_derivative_f(x):\n",
    "    return 2 * np.sin(x**2) / (x+1)**3 - 4 * x * np.cos(x**2) / (x+1)**2 + (2 * np.cos(x**2) - 4 * x**2 * np.sin(x**2)) / (x+1)\n",
    "\n",
    "M_2 = np.max(np.absolute(second_derivative_f(np.linspace(1, 3, 10000))))\n",
    "M_2"
   ]
  },
  {
   "cell_type": "markdown",
   "id": "bbbc2454-e584-4c26-975c-e899ae69d750",
   "metadata": {
    "tags": []
   },
   "source": [
    "Тогда оценка погрешности:"
   ]
  },
  {
   "cell_type": "code",
   "execution_count": 414,
   "id": "f1644b20-564b-45a6-8c2f-2517369bda3f",
   "metadata": {
    "tags": []
   },
   "outputs": [
    {
     "data": {
      "text/plain": [
       "5.490788872420225"
      ]
     },
     "execution_count": 414,
     "metadata": {},
     "output_type": "execute_result"
    }
   ],
   "source": [
    "abs((b - a) ** 3 / 12) * M"
   ]
  },
  {
   "cell_type": "markdown",
   "id": "f65d6aa9-efdc-4184-9906-a6cb70a9ca4f",
   "metadata": {},
   "source": [
    "Что является еще более высоким значением, чем в предыдущем случае. \n",
    "\n",
    "Таким образом, более хорошая оценка (но все равно очень грубая) была получена с помощью метода правых прямоугольников. Однако такой результат вычисления значения интеграла нас в любом случае не устраивает, поэтому перейдем к методу Рунге.\n",
    "\n",
    "Но сперва, используя те формулы, которые у нас есть, попробуем априорно оценить то, насколько частей нам нужно будет разбить отрезок интегрирования при применении правила Рунге с помощью формул:\n",
    "\n",
    "$$N_\\text{пс}\\geq \\dfrac{(b-a)^2}{2\\varepsilon}\\cdot M_1,\\quad M_1 = \\underset{x\\in[a,b]}{\\max}|f'(x)|,$$\n",
    "$$N_\\text{т} \\geq \\sqrt{\\dfrac{(b-a)^3}{12\\varepsilon}M_2},\\quad M_2 = \\underset{x\\in[a,b]}{\\max}|f''(x)|.$$\n",
    "\n",
    "Посмотрим, чему будут равны эти значения при $\\varepsilon = 10^{-3}$:"
   ]
  },
  {
   "cell_type": "code",
   "execution_count": 418,
   "id": "ed56aa06-f654-4543-8282-928563d62dfc",
   "metadata": {
    "tags": []
   },
   "outputs": [],
   "source": [
    "epsilon = 1e-3\n",
    "N_1 = (b - a) ** 2 / (2 * epsilon) * M_1\n",
    "N_2 = math.sqrt((b - a) ** 3 / (12 * epsilon) * M_2)"
   ]
  },
  {
   "cell_type": "code",
   "execution_count": 419,
   "id": "5cfd366a-378d-414b-aab7-a12896e466d9",
   "metadata": {
    "tags": []
   },
   "outputs": [
    {
     "data": {
      "text/plain": [
       "2860.989227170139"
      ]
     },
     "execution_count": 419,
     "metadata": {},
     "output_type": "execute_result"
    }
   ],
   "source": [
    "N_1"
   ]
  },
  {
   "cell_type": "code",
   "execution_count": 420,
   "id": "aba5ee63-0f62-43af-8fc8-c78dcdc66a1c",
   "metadata": {
    "tags": []
   },
   "outputs": [
    {
     "data": {
      "text/plain": [
       "74.09985743859582"
      ]
     },
     "execution_count": 420,
     "metadata": {},
     "output_type": "execute_result"
    }
   ],
   "source": [
    "N_2"
   ]
  },
  {
   "cell_type": "markdown",
   "id": "5f0565fb-3601-419f-8d0d-54e37698b464",
   "metadata": {},
   "source": [
    "При формуле правых прямоугольников мы получили достаточно большое значение для числа разбиений, при формуле трапеций сильно меньше. Теперь смоделируем вычисление интеграла по правилу Рунге и проверим, такие ли получатся разбиения."
   ]
  },
  {
   "cell_type": "markdown",
   "id": "1dc62531-ec78-4cdf-903f-f45beea5a512",
   "metadata": {},
   "source": [
    "## Правило Рунге\n",
    "Пусть имеет место разложение остатка составной квадратурной формулы $$R(h,f) = c h^m + o(h^{m+1}),\\quad c = \\operatorname{const}.$$\n",
    "Обозначим точное значение интеграла через $I$, а через $I_h$ --- приближенное значение соответствующее составной квадратурной формуле с шагом $h$. По предположению $$I = I_h + ch^m + O(h^{m+1})\\approx I_h + ch^m.$$\n",
    "Применим составную квадратурную формулу при разных параметрах: возьмем два значения $h_1$ и $h_2$ и найдем $I_{h_1}, I_{h_2}$. Тогда $$\\begin{cases}\n",
    "I\\approx I_{h_1} + c\\cdot h_1^m,\\\\\n",
    "I\\approx I_{h_2} + c\\cdot h_2^m.\n",
    "\\end{cases}$$\n",
    "Отсюда легко найти главную часть погрешности равную $$R(h,f)\\approx \\dfrac{I_{h_2}-I_{h_1}}{h_1^m - h_2^m}h_1^m = \\dfrac{I_{h_2}-I_{h_1}}{1 - \\left(\\frac{h_2}{h_1}\\right)^m}.$$\n",
    "Эта формула дает выражение для главной части остатка квадратурной формулы. Таким образом, мы можем указать алгоритм апостериорной оценки: мы подбираем шаги $h_1$ и $h_2$ таким образом, чтобы $$|R(h,f)|\\leq \\varepsilon,$$ тогда интеграл будет считаться вычисленным с заданной точностью.\n",
    "     \n",
    "Вычисленная величина главной части остатка позволяет уточнить приближенное значение интеграла $$I\\approx I_{h_1} + \\dfrac{I_{h_2}-I_{h_1}}{1 - \\left(\\frac{h_2}{h_1}\\right)^m}.$$\n",
    "Таким образом, мы повысим точность.\n",
    "\n",
    "При проведении расчетов обычно вычисляются интегралы с выбранным шагом $h_1$ и шагом $h_2 = \\dfrac{h_1}2$. Такой способ задания изменения параметров позволяет учесть уже сделанные вычисления и таким образом оптимизировать процесс вычисления интеграла с точки зрения арифметических операций."
   ]
  },
  {
   "cell_type": "markdown",
   "id": "deee666f-b486-4adf-a612-0edd81a4407c",
   "metadata": {},
   "source": [
    "Теперь весь описанный алгоритм реализуем компьютерно. Причем в начале выбирем $h_1 = b-a$, а $h_2 = \\dfrac{h_1}{2}$. \n",
    "\n",
    "Построенная компьютерная функция приниамет на вход следующие параметры:\n",
    "\n",
    "- $m$ -- алгебраическая степень точности метода;\n",
    "\n",
    "- compound_quadrature_formula -- составная квадратурная формула, которую алгоритм будет использовать для вычислений интеграла;\n",
    "\n",
    "- $f(x)$ -- подынтегральная функция;\n",
    "\n",
    "- $a, b$ -- концы отрезка интегрирования;\n",
    "\n",
    "- $\\varepsilon$ -- точность, с которой должен быть вычислен интеграл;\n",
    "\n",
    "- $N_{divisions} \\in \\{0,1\\}$ -- переменная, которая отвечает за то, чтобы возвращать или не возвращать число делений отрезка проделанных алгоритмом. "
   ]
  },
  {
   "cell_type": "code",
   "execution_count": 298,
   "id": "8e44eb26-250f-4545-9267-a8e7d6608f27",
   "metadata": {
    "tags": []
   },
   "outputs": [],
   "source": [
    "def runge_rule(m, compound_quadrature_formula, f, a, b, epsilon, N_divisions=False):\n",
    "    h_1 = b-a\n",
    "    h_2 = h_1 / 2\n",
    "    iterations = 1\n",
    "    I_h1 = compound_quadrature_formula(f, a, b, h_1)\n",
    "    I_h2 = compound_quadrature_formula(f, a, b, h_2)\n",
    "    R = (I_h2 - I_h1) / (1 - (h_2/h_1)**m)\n",
    "    I = I_h1 + R\n",
    "    while abs(R) >= epsilon:\n",
    "        h_1 = h_2\n",
    "        h_2 = h_1 / 2\n",
    "        I_h1 = compound_quadrature_formula(f, a, b, h_1)\n",
    "        I_h2 = compound_quadrature_formula(f, a, b, h_2)\n",
    "        R = (I_h2 - I_h1) / (1 - (h_2/h_1)**m)\n",
    "        I = I_h1 + R\n",
    "        iterations += 1\n",
    "    if N_divisions:\n",
    "        return I, iterations\n",
    "    return I"
   ]
  },
  {
   "cell_type": "markdown",
   "id": "dd8d7b98-36d4-44b1-8587-2c63351c91bd",
   "metadata": {},
   "source": [
    "## Сравнение составных квадратурных формул"
   ]
  },
  {
   "cell_type": "markdown",
   "id": "14733203-056c-4596-bf94-87ff80ef7554",
   "metadata": {},
   "source": [
    "Теперь определим составные квадратурные формулы, которые мы будем использовать для вычисления.\n",
    "\n",
    "\n",
    "$\\bullet$ *Формула $$I_\\text{пс}(f) = h\\sum_{k=0}^{N-1}f(x_{k+1}) = h\\sum_{k=0}^{N-1}f(a+(k+1)h)$$ называется **составной квадратурной формулой правых прямоугольников**.*\n",
    "\n",
    "Она имеет алгебраическую степень точности равную 1.\n",
    "\n",
    "Реализуем программно метод, вычисляющий эту сумму при заданных параметрах $f(x), a, b, h$."
   ]
  },
  {
   "cell_type": "code",
   "execution_count": 209,
   "id": "390d60bf-e080-41b7-86e5-d6b018f05227",
   "metadata": {
    "tags": []
   },
   "outputs": [],
   "source": [
    "def right_rectangles(f, a, b, h):\n",
    "    I = 0\n",
    "    N = int((b-a)/h)\n",
    "    for k in range(N):\n",
    "        I += f(a + (k+1)*h)\n",
    "    I *= h\n",
    "    return I"
   ]
  },
  {
   "cell_type": "markdown",
   "id": "a7ddefde-9a06-4c3f-b97c-e8d28bb64f4b",
   "metadata": {},
   "source": [
    "$\\bullet$ *Формула $$I_\\text{тс}(f) = \\dfrac{h}{2}\\sum_{k=0}^{N-1}(f(x_k) + f(x_{k+1})) = h\\left[\\dfrac{f(a)+f(b)}{2} + \\sum_{k=0}^{N-1}f(x_k)\\right]$$ называется **составной квадратурной формулой трапеций**.*\n",
    "\n",
    "Она имеет алгебраическую степень точности равную 2.\n",
    "\n",
    "Реализуем программно метод, вычисляющий эту сумму при заданных параметрах $f(x), a, b, h$."
   ]
  },
  {
   "cell_type": "code",
   "execution_count": 428,
   "id": "38282032-24dc-4cb0-bc92-5118274e552b",
   "metadata": {
    "tags": []
   },
   "outputs": [],
   "source": [
    "def trapezoids(f, a, b, h):\n",
    "    I = (f(a) + f(b))/2\n",
    "    N = int((b-a)/h)\n",
    "    x_k = a\n",
    "    for k in range(N):\n",
    "        I += f(a + k * h)\n",
    "    I *= h\n",
    "    return I"
   ]
  },
  {
   "cell_type": "markdown",
   "id": "b64541ab-5533-4389-b360-4feef73be874",
   "metadata": {},
   "source": [
    "Итак, задавая обеим формулам одни и те же значения точности $\\varepsilon$, мы можем сравнивать для них скорость число делений отрезка $[a,b]$ и время работы алгоритма для каждой из формул.\n",
    "\n",
    "Возьмем $\\varepsilon = 10^{-3}$:"
   ]
  },
  {
   "cell_type": "code",
   "execution_count": 335,
   "id": "55dccfd3-2552-4baf-a45b-32a9b079e8ad",
   "metadata": {
    "tags": []
   },
   "outputs": [],
   "source": [
    "eps = 1e-3"
   ]
  },
  {
   "cell_type": "code",
   "execution_count": 336,
   "id": "63973243-ea7a-41df-80c4-585fce808ab6",
   "metadata": {
    "tags": []
   },
   "outputs": [
    {
     "name": "stdout",
     "output_type": "stream",
     "text": [
      "CPU times: total: 0 ns\n",
      "Wall time: 15.7 ms\n"
     ]
    },
    {
     "data": {
      "text/plain": [
       "(0.19700179295145, 10)"
      ]
     },
     "execution_count": 336,
     "metadata": {},
     "output_type": "execute_result"
    }
   ],
   "source": [
    "%%time\n",
    "runge_rule(1, right_rectangles, f, 1, 3, eps, True)"
   ]
  },
  {
   "cell_type": "code",
   "execution_count": 337,
   "id": "99de4484-4cff-446b-bd62-ff71e76f574c",
   "metadata": {
    "tags": []
   },
   "outputs": [
    {
     "name": "stdout",
     "output_type": "stream",
     "text": [
      "CPU times: total: 0 ns\n",
      "Wall time: 29.2 ms\n"
     ]
    },
    {
     "data": {
      "text/plain": [
       "(0.1972746142085038, 11)"
      ]
     },
     "execution_count": 337,
     "metadata": {},
     "output_type": "execute_result"
    }
   ],
   "source": [
    "%%time\n",
    "runge_rule(2, trapezoids, f, 1, 3, eps, True)"
   ]
  },
  {
   "cell_type": "markdown",
   "id": "4a8d4a66-0fde-469f-927f-2a7b0ec08b9b",
   "metadata": {},
   "source": [
    "Оба алгоритма отработали достаточно быстро. Алгоритм правых прямоугольников проделал меньше делений отрезка.\n",
    "\n",
    "Причем заметим, что число разбиений отрезка между методами отличается на единицу. К тому же оба значения сильно меньше тех, которые мы вычислили априорно."
   ]
  },
  {
   "cell_type": "markdown",
   "id": "08c1277c-9beb-4a19-8f92-88720f70cbc0",
   "metadata": {
    "tags": []
   },
   "source": [
    "Возьмем $\\varepsilon = 10^{-4}$:"
   ]
  },
  {
   "cell_type": "code",
   "execution_count": 370,
   "id": "f90f4e20-6aa5-4168-9722-44eea70fbc36",
   "metadata": {
    "tags": []
   },
   "outputs": [],
   "source": [
    "eps = 1e-4"
   ]
  },
  {
   "cell_type": "code",
   "execution_count": 392,
   "id": "0969a295-7dcc-4ccc-8694-39e50f439ce6",
   "metadata": {
    "tags": []
   },
   "outputs": [
    {
     "name": "stdout",
     "output_type": "stream",
     "text": [
      "CPU times: total: 93.8 ms\n",
      "Wall time: 192 ms\n"
     ]
    },
    {
     "data": {
      "text/plain": [
       "(0.19700071498242178, 13)"
      ]
     },
     "execution_count": 392,
     "metadata": {},
     "output_type": "execute_result"
    }
   ],
   "source": [
    "%%time\n",
    "runge_rule(1, right_rectangles, f, 1, 3, eps, True)"
   ]
  },
  {
   "cell_type": "code",
   "execution_count": 393,
   "id": "7eeefd5b-c276-4fdc-a1dc-2ac6a20385b9",
   "metadata": {
    "tags": []
   },
   "outputs": [
    {
     "name": "stdout",
     "output_type": "stream",
     "text": [
      "CPU times: total: 266 ms\n",
      "Wall time: 373 ms\n"
     ]
    },
    {
     "data": {
      "text/plain": [
       "(0.19703493741405975, 14)"
      ]
     },
     "execution_count": 393,
     "metadata": {},
     "output_type": "execute_result"
    }
   ],
   "source": [
    "%%time\n",
    "runge_rule(2, trapezoids, f, 1, 3, eps, True)"
   ]
  },
  {
   "cell_type": "markdown",
   "id": "4cf40182-4caf-456e-a472-c1bf5299ba28",
   "metadata": {},
   "source": [
    "Алгоритм с методом трапеций отработал медленнее, чем с правыми прямоугольниками. Также алгоритм правых прямоугольников проделал меньше делений отрезка.\n",
    "\n",
    "Возьмем $\\varepsilon = 10^{-5}$:"
   ]
  },
  {
   "cell_type": "code",
   "execution_count": 394,
   "id": "1c33a61a-c890-4917-b1bc-503c3e4d3210",
   "metadata": {
    "tags": []
   },
   "outputs": [],
   "source": [
    "eps = 1e-5"
   ]
  },
  {
   "cell_type": "code",
   "execution_count": 395,
   "id": "d728cd49-abfd-4d02-8a76-34175bf47506",
   "metadata": {
    "tags": []
   },
   "outputs": [
    {
     "name": "stdout",
     "output_type": "stream",
     "text": [
      "CPU times: total: 609 ms\n",
      "Wall time: 932 ms\n"
     ]
    },
    {
     "data": {
      "text/plain": [
       "(0.1970006981393843, 16)"
      ]
     },
     "execution_count": 395,
     "metadata": {},
     "output_type": "execute_result"
    }
   ],
   "source": [
    "%%time\n",
    "runge_rule(1, right_rectangles, f, 1, 3, eps, True)"
   ]
  },
  {
   "cell_type": "code",
   "execution_count": 396,
   "id": "783b6395-8c99-4a58-a371-71894b17cd80",
   "metadata": {
    "tags": []
   },
   "outputs": [
    {
     "name": "stdout",
     "output_type": "stream",
     "text": [
      "CPU times: total: 891 ms\n",
      "Wall time: 1.75 s\n"
     ]
    },
    {
     "data": {
      "text/plain": [
       "(0.19700497781478454, 17)"
      ]
     },
     "execution_count": 396,
     "metadata": {},
     "output_type": "execute_result"
    }
   ],
   "source": [
    "%%time\n",
    "runge_rule(2, trapezoids, f, 1, 3, eps, True)"
   ]
  },
  {
   "cell_type": "markdown",
   "id": "ef211e6d-320c-4675-b8f7-34e2d75b9ee8",
   "metadata": {},
   "source": [
    "Алгоритм с методом трапеций снова показал себя медленнее. Деление отрезка интегрирования между методами до сих пор отличается на единицу.\n",
    "\n",
    "Возьмем $\\varepsilon = 10^{-6}$:"
   ]
  },
  {
   "cell_type": "code",
   "execution_count": 359,
   "id": "0aa6fff3-9cf1-4c01-8356-410fef0b07c1",
   "metadata": {
    "tags": []
   },
   "outputs": [],
   "source": [
    "eps = 1e-6"
   ]
  },
  {
   "cell_type": "code",
   "execution_count": 360,
   "id": "0c4435f9-a9c9-48dd-8a86-7603cb8dc7a8",
   "metadata": {
    "tags": []
   },
   "outputs": [
    {
     "name": "stdout",
     "output_type": "stream",
     "text": [
      "CPU times: total: 11.3 s\n",
      "Wall time: 14.5 s\n"
     ]
    },
    {
     "data": {
      "text/plain": [
       "(0.19700069787304852, 20)"
      ]
     },
     "execution_count": 360,
     "metadata": {},
     "output_type": "execute_result"
    }
   ],
   "source": [
    "%%time\n",
    "runge_rule(1, right_rectangles, f, 1, 3, eps, True)"
   ]
  },
  {
   "cell_type": "code",
   "execution_count": 361,
   "id": "facf7fd0-150b-4be8-8d39-b0b9798e9d14",
   "metadata": {
    "tags": []
   },
   "outputs": [
    {
     "name": "stdout",
     "output_type": "stream",
     "text": [
      "CPU times: total: 20.8 s\n",
      "Wall time: 27.2 s\n"
     ]
    },
    {
     "data": {
      "text/plain": [
       "(0.19700096536845976, 21)"
      ]
     },
     "execution_count": 361,
     "metadata": {},
     "output_type": "execute_result"
    }
   ],
   "source": [
    "%%time\n",
    "runge_rule(2, trapezoids, f, 1, 3, eps, True)"
   ]
  },
  {
   "cell_type": "markdown",
   "id": "ab15b27a-bbe4-45d5-985b-9bc1bc30ed5f",
   "metadata": {},
   "source": [
    "Можно заметить, что оба метода стали работать гораздо медленее (от 10 секунд). Также метод трапеций оказался уже в 2 раза медленнее метода правых прямоугольников. Разбиение отрезка все также отличается на единицу.\n",
    "\n",
    "Возьмем $\\varepsilon = 10^{-7}$:"
   ]
  },
  {
   "cell_type": "code",
   "execution_count": 421,
   "id": "3ffd42d7-49c4-4ba9-90be-7158bc02e866",
   "metadata": {
    "tags": []
   },
   "outputs": [],
   "source": [
    "eps = 1e-7"
   ]
  },
  {
   "cell_type": "code",
   "execution_count": 422,
   "id": "3433aa8a-1f2a-4232-992f-8b396aa2ca77",
   "metadata": {
    "tags": []
   },
   "outputs": [
    {
     "name": "stdout",
     "output_type": "stream",
     "text": [
      "CPU times: total: 1min 10s\n",
      "Wall time: 1min 55s\n"
     ]
    },
    {
     "data": {
      "text/plain": [
       "(0.1970006978720108, 23)"
      ]
     },
     "execution_count": 422,
     "metadata": {},
     "output_type": "execute_result"
    }
   ],
   "source": [
    "%%time\n",
    "runge_rule(1, right_rectangles, f, 1, 3, eps, True)"
   ]
  },
  {
   "cell_type": "code",
   "execution_count": 423,
   "id": "a5e15aac-2684-4ded-86b1-262ea55a31d1",
   "metadata": {
    "tags": []
   },
   "outputs": [
    {
     "name": "stdout",
     "output_type": "stream",
     "text": [
      "CPU times: total: 2min 11s\n",
      "Wall time: 3min 41s\n"
     ]
    },
    {
     "data": {
      "text/plain": [
       "(0.19700073130912935, 24)"
      ]
     },
     "execution_count": 423,
     "metadata": {},
     "output_type": "execute_result"
    }
   ],
   "source": [
    "%%time\n",
    "runge_rule(2, trapezoids, f, 1, 3, eps, True)"
   ]
  },
  {
   "cell_type": "markdown",
   "id": "2cd0f926-d60e-46ad-9ea0-4475bd257e5b",
   "metadata": {},
   "source": [
    "Результаты оказались не самыми радостными. Алгоритм основанный на метода правых прямоугольников отработал за минуту, а алгоритм с методом трапеций за 2 минуты. Поскольку уже при такой точности вычисления оказываются достаточно долгими, то более высокую точность мы проверять уже не будем."
   ]
  },
  {
   "cell_type": "markdown",
   "id": "6018e7af-60fe-4742-b7dc-3bcbc442e1f4",
   "metadata": {},
   "source": [
    "Таким образом, по результатам тестирования можно считать, что алгоритм Рунге с использованием метода правых прямоугольников оказался лучше алгоритма, использующего метод трапеций, по крайней мере по скорости работы. Причем заметно, что чем выше точность, тем более явно проявляется тенденция, что алгоритм с методом трапеций работает в 2 раза медленнее алгоритма с методом правых прямоугольников."
   ]
  },
  {
   "cell_type": "markdown",
   "id": "15546d13-6f2e-4126-ab73-eaacad2200a3",
   "metadata": {},
   "source": [
    "Также можно стоит заметить еще одну особенность. Все эти вычисления очень сильно зависят от отрезка интегрирования. Например, увеличив отрезок до $[0,3]$, мы можем наблюдать совершенно иные результаты: алгоритм с методом трапеций показывает себя гораздо лучше, чем метод правых прямоугольников."
   ]
  },
  {
   "cell_type": "code",
   "execution_count": 459,
   "id": "68d98b4a-b705-4cd0-99a3-470c4d15eb10",
   "metadata": {
    "tags": []
   },
   "outputs": [],
   "source": [
    "eps = 1e-7"
   ]
  },
  {
   "cell_type": "code",
   "execution_count": 461,
   "id": "6e5a7c38-dbef-4214-bce1-59a614bcd19a",
   "metadata": {
    "tags": []
   },
   "outputs": [
    {
     "name": "stdout",
     "output_type": "stream",
     "text": [
      "CPU times: total: 33.9 s\n",
      "Wall time: 59.2 s\n"
     ]
    },
    {
     "data": {
      "text/plain": [
       "(0.37779030175803663, 22)"
      ]
     },
     "execution_count": 461,
     "metadata": {},
     "output_type": "execute_result"
    }
   ],
   "source": [
    "%%time\n",
    "runge_rule(1, right_rectangles, f, 0, 3, eps, True)"
   ]
  },
  {
   "cell_type": "code",
   "execution_count": 460,
   "id": "cd4a7188-20da-43bc-9376-7e0ed246fcb6",
   "metadata": {
    "tags": []
   },
   "outputs": [
    {
     "name": "stdout",
     "output_type": "stream",
     "text": [
      "CPU times: total: 78.1 ms\n",
      "Wall time: 115 ms\n"
     ]
    },
    {
     "data": {
      "text/plain": [
       "(0.3777903017578938, 13)"
      ]
     },
     "execution_count": 460,
     "metadata": {},
     "output_type": "execute_result"
    }
   ],
   "source": [
    "%%time\n",
    "runge_rule(2, trapezoids, f, 0, 3, eps, True)"
   ]
  },
  {
   "cell_type": "markdown",
   "id": "05f176c4-9821-467b-91cc-b520a061d588",
   "metadata": {
    "tags": []
   },
   "source": [
    "В данном случае алгоритму с методом трапеций понадобилось несколько милисекунд и сильно меньше разбиений отрезка, чем алгоритму с методом правых прямоугольников. В то время, как на отрезке $[1,3]$ у алгоритма с методом трапеций на достижение точности $10^{-7}$ ушло 2 минуты, на отрезке $[0,3]$ же у него ушло не более одной секунды, при этом это оказалось еще и быстрее, чем для метода правых прямоугольников."
   ]
  },
  {
   "cell_type": "markdown",
   "id": "82eda9f2-9eea-418e-bf73-b316c1e47992",
   "metadata": {},
   "source": [
    "В итоге мы можем сделать определенный вывод: то, какой метод для алгоритма Рунге выбирать, сильно зависит от отрезка интегрирования, на котором мы строим квадратурные формулы. Мы на примере убедились, что при разных выборах отрезка методы ведут себя совершенно по-разному даже при одинаковой точности."
   ]
  },
  {
   "cell_type": "markdown",
   "id": "5a0177b2-28dd-44b4-8e40-919b339ed3ce",
   "metadata": {
    "tags": []
   },
   "source": [
    "# Задача 4"
   ]
  },
  {
   "cell_type": "markdown",
   "id": "cdd5a04e-d344-466d-affe-95c5830e059c",
   "metadata": {},
   "source": [
    "Имеем интеграл $$I = \\int\\limits_0^2 \\dfrac{\\cos x^2}{\\sqrt{x(2-x)}} dx$$\n",
    "и точность $\\varepsilon = 10^{-4}$. Для вычисления значения интеграла воспользуемся квадратурными формулами наивысшей алгебраической степени точности, или квадратурные формулы типа Гаусса.\n",
    "\n",
    "Но без дополнительных преобразований применить к вычислению данного интеграла квадратурные формулы типа Гаусса невозможно. Из теории квадратур следует, что для применения формул Гаусса или Эрмита в случае произвольного отрезка $[a,b]$ необходимо использовать линейное преобразование $$x = \\dfrac{b-a}{2}t + \\dfrac{a+b}{2},\\quad x' \\in [-1,1].$$\n",
    "Тогда $x$ будет изменяться на отрезке $[a,b]$. Остаток квадратурной формулы для промежутка $[a,b]$ выражается через остаток на отрезке $[-1,1]$ следующим образом: $$R_n(f) = \\left(\\dfrac{b-a}{2}\\right)^{2n+3}R_n(f).$$\n",
    "\n",
    "Таким образом, в нашем случае применима замена вида\n",
    "$$x = t + 1,\\quad t \\in [-1,1].$$\n",
    "Отсюда $$t = x-1, \\quad x \\in [0,2].$$\n",
    "Подставим эту замену в рассматриваемый интеграл и получим $$I = \\int\\limits_{-1}^1\\dfrac{\\cos (t+1)^2}{\\sqrt{1-t^2}}dt.$$\n",
    "\n",
    "$\\bullet$ *Формула $$I(f) = \\int\\limits_{-1}^1\\dfrac{1}{\\sqrt{1-x^2}}f(x)dx \\approx \\sum_{k=0}^{n}A_k f(x_k)$$ с узлами $$x_k = \\cos\\dfrac{2k+1}{2n+2}\\pi,\\quad k = \\overline{0,n} $$ и коэффициентами $$A_k = \\dfrac{\\pi}{n+1},\\quad k=\\overline{0,n}$$ и называется **квадратурной формулой Эрмита***.\n",
    "\n",
    "Можно получить выражение для остатка этой формулы $$R_n(f) = \\dfrac{\\pi}{2^{2n+1}(2n+2)!}\\cdot f^{(2n+2)}(\\eta),\\quad \\eta\\in [-1,1].$$\n",
    "\n",
    "Таким образом, конечная квадратурная формула в общем виде для вычисления данного интеграла записывается как\n",
    "$$I(f) = \\int\\limits_{-1}^1\\dfrac{1}{\\sqrt{1-x^2}}f(x)dx \\approx \\dfrac{\\pi}{n+1} \\sum_{k=0}^{n} f\\left(\\cos\\dfrac{2k+1}{2n+2}\\pi\\right).$$\n",
    "\n",
    "Причем в нашем интеграле также задано $f(x) = \\cos(x + 1)^2$. В итоге для конкретно нашего случая квадратурная формула выглядит следующим образом:\n",
    "$$I(f) = \\int\\limits_{-1}^1\\dfrac{1}{\\sqrt{1-x^2}}f(x)dx \\approx \\dfrac{\\pi}{n+1} \\sum_{k=0}^{n} \\cos\\left(\\cos\\dfrac{2k+1}{2n+2}\\pi + 1\\right)^2.\\eqno(1)$$\n",
    "\n",
    "C учетом сделанной замены остаток выражается как $$R_n(f) = \\left(\\dfrac{b-a}{2}\\right)^{2n+3}R_n(f) = 1^{2n+3}R_n(f) =\\dfrac{\\pi}{2^{2n+1}(2n+2)!}\\cdot f^{(2n+2)}(\\eta),\\quad \\eta\\in [-1,1].$$\n",
    "\n",
    "Но нам нужно еще оценить это значение:\n",
    "$$|R_n(f)| \\leq \\left|\\dfrac{\\pi}{2^{2n+1}(2n+2)!}\\cdot f^{(2n+2)}(\\eta)\\right| \\leq M\\cdot \\left|\\dfrac{\\pi}{2^{2n+1}(2n+2)!}\\right|,\\quad \\eta\\in [-1,1],$$\n",
    "где $$M = \\max_{\\eta \\in [-1,1]}|f^{(2n+2)}(\\eta)| = \\max_{\\eta \\in [-1,1]}|\\cos^{(2n+2)}(\\eta+1)^2|.$$\n",
    "\n",
    "К великому огорчению, аналитически рассчитывать это значение будет сложно. Поэтому предлагается использовать в качестве аналога для значения погрешности значение $$\\Delta = |I(f, n) - I(f, n-1)| < \\varepsilon.\\eqno(2)$$ То есть погрешность мы будем оценивать как разность приближенных значений интеграла при $n$ и $n-1$ узлах.\n",
    "\n",
    "Таким образом, нам остается лишь реализовать программно процесс вычисления интеграла по формуле (1), оценивая погрешность по формуле (2). Но нам не задано количество узлов $n$, поэтому, перебирая $n=1,2,\\ldots$, мы будем оценивать прогрешность вычисления интеграла на каждой итерации. Перебор будем производить до тех пор, пока не достигнем заданной точности."
   ]
  },
  {
   "cell_type": "markdown",
   "id": "a851df26-2dcd-4733-a6b6-8da2114bb5ab",
   "metadata": {},
   "source": [
    "Реализуем компьютерный алгоритм, который принимает на вход функцию $f(x)$ и точность $\\varepsilon$ и возвращает приближенное значение интеграла и число узлов, которое понадобилось для достижения заданной точности."
   ]
  },
  {
   "cell_type": "code",
   "execution_count": 96,
   "id": "bbfb1c65-1115-4a05-b44d-61717fb6198f",
   "metadata": {
    "tags": []
   },
   "outputs": [],
   "source": [
    "epsilon = 10e-4\n",
    "\n",
    "def f(x):\n",
    "    return np.cos((x + 1)**2)"
   ]
  },
  {
   "cell_type": "code",
   "execution_count": 97,
   "id": "cdfe057d-4a76-45bb-a506-00ceefdea472",
   "metadata": {
    "tags": []
   },
   "outputs": [],
   "source": [
    "def hermite_quadrature_formula(f, epsilon):\n",
    "    n = 1\n",
    "    I_new = np.inf\n",
    "    I_last = 0\n",
    "    while abs(I_new - I_last) >= epsilon:\n",
    "        I_last = I_new\n",
    "        I_new = 0\n",
    "        for k in range(n+1):\n",
    "            x_k = np.cos((2 * k + 1) / (2 * n + 2) * np.pi)\n",
    "            A_k = np.pi / (n + 1)\n",
    "            I_new += A_k * f(x_k)\n",
    "        n += 1\n",
    "    return I_new, n"
   ]
  },
  {
   "cell_type": "code",
   "execution_count": 98,
   "id": "56c21da8-2824-4a1f-8d49-10a258214dc6",
   "metadata": {
    "tags": []
   },
   "outputs": [
    {
     "data": {
      "text/plain": [
       "(0.5819553507290072, 6)"
      ]
     },
     "execution_count": 98,
     "metadata": {},
     "output_type": "execute_result"
    }
   ],
   "source": [
    "hermite_quadrature_formula(f, epsilon)"
   ]
  },
  {
   "cell_type": "markdown",
   "id": "c6ac8b0d-6749-4915-b552-c75b5a59b192",
   "metadata": {},
   "source": [
    "Таким образом, мы вычислили приближенное значение интеграла, и оно равно $$I \\approx 0.5819.$$ Для этого нам понадобилось выбрать на отрезке $n=6$ узлов."
   ]
  },
  {
   "cell_type": "markdown",
   "id": "aaccc534-27db-4f2f-8dc2-d74cc3a43fd6",
   "metadata": {
    "tags": []
   },
   "source": [
    "# Задача 5"
   ]
  },
  {
   "cell_type": "markdown",
   "id": "696a7ad4-a8fc-4f0b-ab27-2f83cb74414a",
   "metadata": {},
   "source": [
    "По условию нам дано уравнение $$\\int\\limits_1^x e^{t^2}(1+t^3)dt = 1.7.$$\n",
    "Введем обозначение $$f(x) = \\int\\limits_1^x e^{t^2}(1+t^3)dt - 1.7$$\n",
    "Тогда поставленная задача сводится к отысканию решения нелинейного уравнения $$f(x) = 0.$$\n",
    "Решением подобного рода задач мы занимались ранее, поэтому все подробные выкладки из теории, касающиеся нелинейных уравнений, теперь будут опускаться."
   ]
  },
  {
   "cell_type": "markdown",
   "id": "c4df34df-c040-4506-ae84-4525cea60589",
   "metadata": {
    "tags": []
   },
   "source": [
    "## Отделение корня"
   ]
  },
  {
   "cell_type": "markdown",
   "id": "920e59ad-788c-4f48-811a-38a51b4f3cdd",
   "metadata": {},
   "source": [
    "Прежде чем находить приближенное значение корня, нам необходимо провести процедуру отделения корня. Вспомним, что на отрезке $[a,b]$ существует единственный корень уравнения $f(x) = 0$, если\n",
    "\n",
    "- функция $f(x)$ на концах отрезка имеет разные по знаку значения;\n",
    "\n",
    "- функция $f(x)$ на отрезке монотонна.\n",
    "\n",
    "### Монотонность функции\n",
    "Начнем со второго пункта, так как его можно быстро обосновать. Рассмотрим производную функции $$f'(x) = e^{x^2}(1+x^3)$$ как производная интеграла с переменным верхним пределом (по теореме Барроу). Функция $f'(x)$ состоит из функций $e^{x^2}$ и $(1+x^3)$, которые, в свою очередь, являются строго положительными на множестве $[1, +\\infty)$. Тогда $$f'(x) > 0,\\quad x \\in [1, +\\infty),$$\n",
    "а значит исходная функция монотонна на этом множестве.\n",
    "\n",
    "Перейдем к первому пункту. Чтобы определять знак значения функции $f(x)$ в точке, нам необходимо вычислять интеграл, который присутствует в функции. Поэтому далее мы отдельно рассмотрим алгоритм вычисления подобных интегралов."
   ]
  },
  {
   "cell_type": "markdown",
   "id": "5842bad7-5503-453e-a95b-5a7a947c0b8d",
   "metadata": {},
   "source": [
    "### Приближенное вычисление интеграла $\\int\\limits_1^x e^{t^2}(1+t^3)dt$"
   ]
  },
  {
   "cell_type": "markdown",
   "id": "f5dd976f-2e2c-4c64-9049-cf6b60562bd6",
   "metadata": {},
   "source": [
    "Сперва определим метод для вычисления значения подынтегральной функции $g(t) = e^{t^2}(1+t^3)$:"
   ]
  },
  {
   "cell_type": "code",
   "execution_count": 249,
   "id": "23e5e644-3060-4cb6-9b4c-0c40ed81283e",
   "metadata": {
    "tags": []
   },
   "outputs": [],
   "source": [
    "def g(t):\n",
    "    return np.e**(t**2) * (1 + t**3)"
   ]
  },
  {
   "cell_type": "markdown",
   "id": "d9a67e77-a206-4052-9b67-f12d8814e909",
   "metadata": {},
   "source": [
    "Для вычисления интеграла при заданной точности воспользуемся правилом Рунге для составных формул средних прямоугольников и Симпсона (поскольку они не были реализованы в предыдущих заданиях) и сравним по времени: какая из формул быстрее будет вычислять значение интеграла, такую и будем дальше применять.\n",
    "\n",
    "$\\bullet$ *Формула $$I_\\text{сс}(f) = h\\sum_{k=0}^{N-1}f\\left(\\dfrac{x_k+x_{k+1}}{2}\\right) = h\\sum_{k=0}^{N-1}f\\left(a+\\left(k+\\dfrac12\\right)h\\right)$$ называется **составной квадратурной формулой средних прямоугольников**.\n",
    "\n",
    "Реализуем программно метод, вычисляющий сумму при заданных параметрах $f(x), a, b, h$."
   ]
  },
  {
   "cell_type": "code",
   "execution_count": 254,
   "id": "65b52379-e313-41b1-a4d8-254564a333d1",
   "metadata": {
    "tags": []
   },
   "outputs": [],
   "source": [
    "def avg_rectangles(f, a, b, h):\n",
    "    I = 0\n",
    "    N = int((b-a)/h)\n",
    "    for k in range(N):\n",
    "        I += f(a + (k+1/2)*h)\n",
    "    I *= h\n",
    "    return I"
   ]
  },
  {
   "cell_type": "markdown",
   "id": "35bda64c-3e42-4447-9a1c-f444dbd38b3a",
   "metadata": {},
   "source": [
    "$\\bullet$ *Формула $$I_\\text{симп с}(f) = \\dfrac{h}{3}\\big(f_0 + f_N + 2(f_2 + f_4 + \\ldots + f_{N-2}) + 4(f_1 + f_3 + \\ldots + f_{N-1})\\big),\\quad f_i = f(x_i)$$ называется **составной квадратурной формулой Симпсона**.*\n",
    "\n",
    "Реализуем программно метод, вычисляющий сумму при заданных параметрах $f(x), a, b, h$."
   ]
  },
  {
   "cell_type": "code",
   "execution_count": 255,
   "id": "c85278c0-7349-4a32-9552-c6617f7fbf6c",
   "metadata": {
    "tags": []
   },
   "outputs": [],
   "source": [
    "def simpson(f, a, b, h):\n",
    "    x_k = a\n",
    "    I = f(x_k)\n",
    "    N = int((b-a)/h)\n",
    "    for i in range(1, N):\n",
    "        x_k += h\n",
    "        if i % 2 == 1:\n",
    "            I += 4 * f(x_k)\n",
    "        else:\n",
    "            I += 2 * f(x_k)\n",
    "    I += f(x_k + h)\n",
    "    I *= h/3\n",
    "    return I"
   ]
  },
  {
   "cell_type": "markdown",
   "id": "a481934c-c6b3-48f4-913e-29a58099307a",
   "metadata": {
    "tags": []
   },
   "source": [
    "Сравним работу двух квадратурных формул на примере вычисления значения интеграла $$I = \\int\\limits_1^2 e^{t^2}(1+t^3)dt$$ с точностью $\\varepsilon = 10^{-7}$."
   ]
  },
  {
   "cell_type": "code",
   "execution_count": 299,
   "id": "53beb9b4-ead0-4344-8818-7a247a739d21",
   "metadata": {
    "tags": []
   },
   "outputs": [
    {
     "name": "stdout",
     "output_type": "stream",
     "text": [
      "CPU times: total: 359 ms\n",
      "Wall time: 567 ms\n"
     ]
    },
    {
     "data": {
      "text/plain": [
       "96.88720108193561"
      ]
     },
     "execution_count": 299,
     "metadata": {},
     "output_type": "execute_result"
    }
   ],
   "source": [
    "%%time\n",
    "runge_rule(1, avg_rectangles, g, 1, 2, 1e-7)"
   ]
  },
  {
   "cell_type": "code",
   "execution_count": 300,
   "id": "49bd95b7-c1f3-457d-928a-4519cb18a9fd",
   "metadata": {
    "tags": []
   },
   "outputs": [
    {
     "name": "stdout",
     "output_type": "stream",
     "text": [
      "CPU times: total: 0 ns\n",
      "Wall time: 6.51 ms\n"
     ]
    },
    {
     "data": {
      "text/plain": [
       "96.88720106881728"
      ]
     },
     "execution_count": 300,
     "metadata": {},
     "output_type": "execute_result"
    }
   ],
   "source": [
    "%%time\n",
    "runge_rule(3, simpson, g, 1, 2, 1e-7)"
   ]
  },
  {
   "cell_type": "markdown",
   "id": "3a1ad6b6-22da-4538-bde9-c3581e139d4b",
   "metadata": {},
   "source": [
    "Как можно заметить, алгоритм с методом Симпсона в качестве квадратурной формулы отработал гораздо быстрее алгоритма с формулой средних прямоугольников. Следовательно, для дальнейших вычислений отдадим предпочтение алгоритму с использованием метода Симпсона."
   ]
  },
  {
   "cell_type": "markdown",
   "id": "1d78f590-9cc4-4518-983a-fc56bc5c6273",
   "metadata": {},
   "source": [
    "### Вычисление значений интеграла на концах отрезка"
   ]
  },
  {
   "cell_type": "markdown",
   "id": "2b9e55d0-9582-4cb2-b65e-1b78518c0a2a",
   "metadata": {},
   "source": [
    "Напомним, что нас интересует отрезок, на котором функция $$f(x) = \\int\\limits_1^x e^{t^2}(1+t^3)dt - 1.7$$ будет иметь на концах разные по знаку значения.\n",
    "\n",
    "Определим компьютерный метод, который будет применять построенный ранее алгоритм Симпсона при заданной точности для вычисления значения функции $f(x)$ в заданной точке."
   ]
  },
  {
   "cell_type": "code",
   "execution_count": 301,
   "id": "9fd224d6-41e3-467c-ba50-361653dd5a17",
   "metadata": {
    "tags": []
   },
   "outputs": [],
   "source": [
    "def f(x, epsilon):\n",
    "    return runge_rule(3, simpson, g, 1, x, epsilon) - 1.7"
   ]
  },
  {
   "cell_type": "markdown",
   "id": "e491bf4c-5a39-41e6-bdb5-4e947ecdecfb",
   "metadata": {
    "tags": []
   },
   "source": [
    "Пусть значение интеграла в функции $f(x)$ будет вычисляться с точностью $\\varepsilon=10^{-9}$, чтобы остался еще запас по погрешности для дальнейших вычислений."
   ]
  },
  {
   "cell_type": "code",
   "execution_count": 302,
   "id": "c0b016ab-237a-4a54-92d8-69438c3b4bc9",
   "metadata": {
    "tags": []
   },
   "outputs": [],
   "source": [
    "epsilon = 1e-9"
   ]
  },
  {
   "cell_type": "markdown",
   "id": "423ee5d0-5268-4780-8e65-778c1a8482ca",
   "metadata": {},
   "source": [
    "Возьмем точку $x = 2$ и рассмотрим значение в ней:"
   ]
  },
  {
   "cell_type": "code",
   "execution_count": 303,
   "id": "a9daaea8-5c58-4c09-960e-50b66eeb4c28",
   "metadata": {
    "tags": []
   },
   "outputs": [
    {
     "data": {
      "text/plain": [
       "95.18720106928501"
      ]
     },
     "execution_count": 303,
     "metadata": {},
     "output_type": "execute_result"
    }
   ],
   "source": [
    "f(2, epsilon)"
   ]
  },
  {
   "cell_type": "markdown",
   "id": "be1847fb-5499-40e7-8b6c-e3c0e7522c40",
   "metadata": {},
   "source": [
    "То есть $$f(2) > 0.$$\n",
    "Поскольку подынтегральная функция монотонно возрастающая на $[1, +\\infty)$, все значения которые справа точно дадут положительный результат.\n",
    "\n",
    "Возьмем значения из промежутка $(1, 2)$. Например, $x = 1.2$."
   ]
  },
  {
   "cell_type": "code",
   "execution_count": 304,
   "id": "0643f51f-f6cd-41a4-8847-7bb3b4792eb3",
   "metadata": {
    "tags": []
   },
   "outputs": [
    {
     "data": {
      "text/plain": [
       "-0.09305154183023401"
      ]
     },
     "execution_count": 304,
     "metadata": {},
     "output_type": "execute_result"
    }
   ],
   "source": [
    "f(1.2, epsilon)"
   ]
  },
  {
   "cell_type": "markdown",
   "id": "29bb7deb-ee97-4f67-99e5-54cad3035895",
   "metadata": {},
   "source": [
    "Таким образом, $$f(1.2) < 0.$$\n",
    "В итоге мы определили отрезок $[1.2, 2]$, на котором функция имеет различные значения на концах и монотонна. Следовательно, на этом отрезке находится единственный корень исследуемого уравнения.\n",
    "\n",
    "Также заметим, что из-за монотонности подынтегральной функции, функция $f(x)$ больше нигде кроме выбранного отрезка менять знак не будет. То есть то решение уравнения, которое мы найдем на данном отрезке, будет единственным на всем множестве."
   ]
  },
  {
   "cell_type": "markdown",
   "id": "f5470d5d-a3ec-4039-8c15-cb79294f005a",
   "metadata": {},
   "source": [
    "На этом процедуру отделения корня мы не закончим. Мы уточним отрезок, применив к нему **метод дихотомии** (метод деления отрезка пополам). Сильно увлекаться не будем, и уточним лишь до значения $\\varepsilon_2 = 10^{-1}$."
   ]
  },
  {
   "cell_type": "code",
   "execution_count": 305,
   "id": "de1e1ddc-c891-41cc-8c08-a76ac5928af0",
   "metadata": {
    "tags": []
   },
   "outputs": [
    {
     "data": {
      "text/html": [
       "<div>\n",
       "<style scoped>\n",
       "    .dataframe tbody tr th:only-of-type {\n",
       "        vertical-align: middle;\n",
       "    }\n",
       "\n",
       "    .dataframe tbody tr th {\n",
       "        vertical-align: top;\n",
       "    }\n",
       "\n",
       "    .dataframe thead th {\n",
       "        text-align: right;\n",
       "    }\n",
       "</style>\n",
       "<table border=\"1\" class=\"dataframe\">\n",
       "  <thead>\n",
       "    <tr style=\"text-align: right;\">\n",
       "      <th></th>\n",
       "      <th>a</th>\n",
       "      <th>b</th>\n",
       "      <th>b-a</th>\n",
       "      <th>f(a)</th>\n",
       "      <th>f(b)</th>\n",
       "      <th>(a+b)/2</th>\n",
       "    </tr>\n",
       "  </thead>\n",
       "  <tbody>\n",
       "    <tr>\n",
       "      <th>0</th>\n",
       "      <td>1.2</td>\n",
       "      <td>2.0</td>\n",
       "      <td>0.8</td>\n",
       "      <td>-0.093052</td>\n",
       "      <td>95.187201</td>\n",
       "      <td>1.60</td>\n",
       "    </tr>\n",
       "    <tr>\n",
       "      <th>1</th>\n",
       "      <td>1.2</td>\n",
       "      <td>1.6</td>\n",
       "      <td>0.4</td>\n",
       "      <td>-0.093052</td>\n",
       "      <td>12.100835</td>\n",
       "      <td>1.40</td>\n",
       "    </tr>\n",
       "    <tr>\n",
       "      <th>2</th>\n",
       "      <td>1.2</td>\n",
       "      <td>1.4</td>\n",
       "      <td>0.2</td>\n",
       "      <td>-0.093052</td>\n",
       "      <td>3.485919</td>\n",
       "      <td>1.30</td>\n",
       "    </tr>\n",
       "    <tr>\n",
       "      <th>3</th>\n",
       "      <td>1.2</td>\n",
       "      <td>1.3</td>\n",
       "      <td>0.1</td>\n",
       "      <td>-0.093052</td>\n",
       "      <td>1.326833</td>\n",
       "      <td>1.25</td>\n",
       "    </tr>\n",
       "  </tbody>\n",
       "</table>\n",
       "</div>"
      ],
      "text/plain": [
       "     a    b  b-a      f(a)       f(b)  (a+b)/2\n",
       "0  1.2  2.0  0.8 -0.093052  95.187201     1.60\n",
       "1  1.2  1.6  0.4 -0.093052  12.100835     1.40\n",
       "2  1.2  1.4  0.2 -0.093052   3.485919     1.30\n",
       "3  1.2  1.3  0.1 -0.093052   1.326833     1.25"
      ]
     },
     "execution_count": 305,
     "metadata": {},
     "output_type": "execute_result"
    }
   ],
   "source": [
    "a, b = 1.2, 2\n",
    "epsilon_2 = 1e-1\n",
    "\n",
    "dichotomy_table = [[a, b, b - a, f(a, epsilon), f(b, epsilon) , (a + b)/2]]\n",
    "c = 0\n",
    "while b - a > epsilon_2:\n",
    "    c = (a + b) / 2\n",
    "    if f(c, epsilon) * f(a, epsilon) >= 0:\n",
    "        a = c\n",
    "    else:\n",
    "        b = c\n",
    "    dichotomy_table.append([a, b, b - a, f(a, epsilon), f(b, epsilon) , (a + b) / 2])\n",
    "    \n",
    "pd.DataFrame(dichotomy_table, columns = ['a', 'b', 'b-a', 'f(a)', 'f(b)', '(a+b)/2'])"
   ]
  },
  {
   "cell_type": "markdown",
   "id": "9c9deae4-7b58-4b84-9715-238560c6463c",
   "metadata": {},
   "source": [
    "Таким образом, применив метод дихотомии, мы получили уточненный отрезок $[1.2, 1.3]$, на котором находится корень исследуемого уравнения.\n",
    "\n",
    "Теперь мы можем применять методы решения нелинейных уравнений для уточнения приближенного значения корня."
   ]
  },
  {
   "cell_type": "markdown",
   "id": "ab21046f-f08f-4b4a-acc1-ff278b517a06",
   "metadata": {},
   "source": [
    "## Метод Ньютона "
   ]
  },
  {
   "cell_type": "markdown",
   "id": "9077f64e-c5b5-4c77-9654-e31e21720944",
   "metadata": {},
   "source": [
    "Формула этого метода имеет следующий вид $$x^{k+1} = x^k - \\dfrac{f(x^k)}{f'(x^0)},\\quad k=0,1,\\ldots;\\quad x^0.$$\n",
    "\n",
    "**Условия сходимости метода:**\n",
    "\n",
    "Необходимо выбрать начальное приближение $x_0$ так, чтобы выполнялись условия:\n",
    "\n",
    "1. Функция $f(x)$ определена и дважды непрерывно дифференцируема на отрезке $$s_0 = [x^0; x^0 + 2h_0],\\quad h_0 =- \\dfrac{f(x^0)}{f'(x^0)}.$$ При этом на концах отрезка $f(x)f'(x)\\ne 0$.\n",
    "\n",
    "2. Для начального приближения $x^0$ выполняется неравенство $$2|h_0|M \\leq |f'(x^0)|,\\quad M = \\underset{x\\in s_0}{\\max}|f''(x)|.$$"
   ]
  },
  {
   "cell_type": "markdown",
   "id": "f42973a2-a482-49ee-99b7-fd938cdf0689",
   "metadata": {},
   "source": [
    "Итак, на данный момент в нашем случае мы имеем следующие значения:\n",
    "\n",
    "- $f(x) = \\int\\limits_1^x e^{t^2}(1+t^3)dt - 1.7;$\n",
    "\n",
    "- $f'(x) = g(x) = e^{x^2}(1+x^3);$\n",
    "\n",
    "- $x^* \\in [1.2, 1.3]$."
   ]
  },
  {
   "cell_type": "markdown",
   "id": "e890e0dc-7e6d-4a91-80ce-b69901fce971",
   "metadata": {},
   "source": [
    "Выбираем $x^0 = 1.2$. Проверим выполнение первого условия:"
   ]
  },
  {
   "cell_type": "code",
   "execution_count": 279,
   "id": "2189e999-b238-40df-9162-4b72a3ebc6df",
   "metadata": {
    "tags": []
   },
   "outputs": [
    {
     "name": "stdout",
     "output_type": "stream",
     "text": [
      "x_0 = 1.2\n",
      "h_0 = 0.008081559108413874\n",
      "s_0 = [ 1.2 ; 1.2161631182168278 ]\n"
     ]
    }
   ],
   "source": [
    "x_0 = 1.2\n",
    "print('x_0 =', x_0) \n",
    "h_0 = - f(x_0, epsilon) / g(x_0)\n",
    "print('h_0 =', h_0) \n",
    "s_0 = np.linspace(x_0, x_0 + 2*h_0, 10000)\n",
    "print('s_0 = [', s_0[0], ';', s_0[-1], ']')"
   ]
  },
  {
   "cell_type": "markdown",
   "id": "b5794878-5bda-465d-b1e1-6fb1f4397638",
   "metadata": {
    "tags": []
   },
   "source": [
    "Проверяем, чтобы на концах отрезка значение функции и ее производной не обращались в ноль одновременно:"
   ]
  },
  {
   "cell_type": "code",
   "execution_count": 284,
   "id": "5ba1d018-d257-4150-9844-aafd3383d718",
   "metadata": {
    "tags": []
   },
   "outputs": [
    {
     "data": {
      "text/plain": [
       "-1.071400867187763"
      ]
     },
     "execution_count": 284,
     "metadata": {},
     "output_type": "execute_result"
    }
   ],
   "source": [
    "f(s_0[0], epsilon)*g(s_0[0])"
   ]
  },
  {
   "cell_type": "code",
   "execution_count": 285,
   "id": "67cd4db3-5150-4d9d-951b-3b4c6d1b0d96",
   "metadata": {
    "tags": []
   },
   "outputs": [
    {
     "data": {
      "text/plain": [
       "1.2183901898251424"
      ]
     },
     "execution_count": 285,
     "metadata": {},
     "output_type": "execute_result"
    }
   ],
   "source": [
    "f(s_0[-1], epsilon)*g(s_0[-1])"
   ]
  },
  {
   "cell_type": "markdown",
   "id": "ed50f91f-05da-4cb0-97d5-3e450f1374f6",
   "metadata": {},
   "source": [
    "Значения в ноль не обращаются, условие выполнено. \n",
    "\n",
    "Проверим второе условие сходимости. Для него нам нужна вторая производная $f''(x)$ или же $g'(x)$:\n",
    "$$f''(x) = g'(x) = e^{x^2}x(2+3x+2x^3).$$\n",
    "Получившаяся функция является линейной комбинацией монотонно возрастающих непрерывных на выбранном отрезке функций, а следовательно, сама является непрерывной и монотонно возрастающей на этом отрезке. Тогда ее наибольшее значение достигается на правом конце рассматриваемого отрезка."
   ]
  },
  {
   "cell_type": "code",
   "execution_count": 292,
   "id": "8f29266d-c5e0-4cd2-a12b-47237e46bd17",
   "metadata": {
    "tags": []
   },
   "outputs": [],
   "source": [
    "def derivative_g(x):\n",
    "    return np.e ** (x ** 2) * x * (2 + 3 * x + 2 * x ** 3)"
   ]
  },
  {
   "cell_type": "markdown",
   "id": "34ef3450-ffa2-453c-a908-743374696b5a",
   "metadata": {},
   "source": [
    "Применяя компьютерные методы, найдем число $M$, которое требуется во втором условии сходимости:"
   ]
  },
  {
   "cell_type": "code",
   "execution_count": 293,
   "id": "f3116473-c649-400c-8408-4a2e8687d2fd",
   "metadata": {
    "tags": []
   },
   "outputs": [
    {
     "data": {
      "text/plain": [
       "49.35049095614719"
      ]
     },
     "execution_count": 293,
     "metadata": {},
     "output_type": "execute_result"
    }
   ],
   "source": [
    "M = np.max(np.absolute(derivative_g(s_0)))\n",
    "M"
   ]
  },
  {
   "cell_type": "markdown",
   "id": "2fb4faea-22e0-43a7-b950-dfb66f96f9fa",
   "metadata": {},
   "source": [
    "Также с помощью компьютерных методов проверяем выполнение самого условия:"
   ]
  },
  {
   "cell_type": "code",
   "execution_count": 306,
   "id": "bc0799c6-7ab6-4d47-abe7-3535404a9dcd",
   "metadata": {
    "tags": []
   },
   "outputs": [
    {
     "data": {
      "text/plain": [
       "True"
      ]
     },
     "execution_count": 306,
     "metadata": {},
     "output_type": "execute_result"
    }
   ],
   "source": [
    "2 * np.absolute(h_0) * M <= np.absolute(g(x_0))"
   ]
  },
  {
   "cell_type": "markdown",
   "id": "7740f1a5-0306-4b11-b467-c1c769419700",
   "metadata": {},
   "source": [
    "Итого оба условия сходимости выполнены, следовательно, построенный нами по методу Ньютона итерационный процесс будет сходиться к нашему искомому корню.\n",
    "\n",
    "Теперь компьютерно реализуем сам итерационный процесс. Введем заданную по условию точность $\\epsilon_3 = 10^{-4}$:"
   ]
  },
  {
   "cell_type": "code",
   "execution_count": 308,
   "id": "cf76dc6f-3ecb-43c1-a1a1-832abf0886b3",
   "metadata": {
    "tags": []
   },
   "outputs": [],
   "source": [
    "epsilon_3 = 1e-4"
   ]
  },
  {
   "cell_type": "markdown",
   "id": "bd5cc030-a384-4617-84f1-02b6d785e14a",
   "metadata": {},
   "source": [
    "Определим функцию $$\\varphi(x) = x - \\dfrac{f(x)}{f'(x)}$$"
   ]
  },
  {
   "cell_type": "code",
   "execution_count": 309,
   "id": "f6b1cd47-0c2c-428c-af5f-2768007212f3",
   "metadata": {
    "tags": []
   },
   "outputs": [],
   "source": [
    "def phi(x):\n",
    "    return x - f(x, epsilon) / g(x)"
   ]
  },
  {
   "cell_type": "markdown",
   "id": "b9603136-d62b-4d78-8000-d6d2ccd45de6",
   "metadata": {},
   "source": [
    "С помощью цикла реализуем итерационный процесс по формуле $$x^{k+1} = \\varphi(x^k),\\ \\texttt{while}\\ |x_{k+1} - x_k| > \\varepsilon,\\ k=0,1,\\ldots$$\n",
    "Выпишем в виде таблицы итоговый результат."
   ]
  },
  {
   "cell_type": "code",
   "execution_count": 311,
   "id": "5e080481-3482-4a7a-a035-508817d7b96d",
   "metadata": {
    "tags": []
   },
   "outputs": [],
   "source": [
    "x_k = x_0\n",
    "x_k1 = phi(x_0)\n",
    "iterations = [[x_k1, np.absolute(x_k1 - x_k)]]\n",
    "while np.absolute(x_k1 - x_k) >= epsilon_3:\n",
    "    x_k = x_k1\n",
    "    x_k1 = phi(x_k)\n",
    "    iterations.append([x_k1, np.absolute(x_k1 - x_k)])"
   ]
  },
  {
   "cell_type": "code",
   "execution_count": 312,
   "id": "99714c9b-07ac-4bf1-94c5-cb1e910f6a46",
   "metadata": {
    "tags": []
   },
   "outputs": [
    {
     "data": {
      "text/html": [
       "<div>\n",
       "<style scoped>\n",
       "    .dataframe tbody tr th:only-of-type {\n",
       "        vertical-align: middle;\n",
       "    }\n",
       "\n",
       "    .dataframe tbody tr th {\n",
       "        vertical-align: top;\n",
       "    }\n",
       "\n",
       "    .dataframe thead tr th {\n",
       "        text-align: left;\n",
       "    }\n",
       "</style>\n",
       "<table border=\"1\" class=\"dataframe\">\n",
       "  <thead>\n",
       "    <tr>\n",
       "      <th>Назание метода</th>\n",
       "      <th colspan=\"2\" halign=\"left\">Метод Ньютона</th>\n",
       "    </tr>\n",
       "    <tr>\n",
       "      <th></th>\n",
       "      <th>x_k</th>\n",
       "      <th>|x_k+1 - x_k|</th>\n",
       "    </tr>\n",
       "  </thead>\n",
       "  <tbody>\n",
       "    <tr>\n",
       "      <th>0</th>\n",
       "      <td>1.208082</td>\n",
       "      <td>8.081559e-03</td>\n",
       "    </tr>\n",
       "    <tr>\n",
       "      <th>1</th>\n",
       "      <td>1.207954</td>\n",
       "      <td>1.275051e-04</td>\n",
       "    </tr>\n",
       "    <tr>\n",
       "      <th>2</th>\n",
       "      <td>1.207954</td>\n",
       "      <td>3.253135e-08</td>\n",
       "    </tr>\n",
       "  </tbody>\n",
       "</table>\n",
       "</div>"
      ],
      "text/plain": [
       "Назание метода Метод Ньютона              \n",
       "                         x_k |x_k+1 - x_k|\n",
       "0                   1.208082  8.081559e-03\n",
       "1                   1.207954  1.275051e-04\n",
       "2                   1.207954  3.253135e-08"
      ]
     },
     "execution_count": 312,
     "metadata": {},
     "output_type": "execute_result"
    }
   ],
   "source": [
    "newton_table = pd.DataFrame(iterations, columns=[('Метод Ньютона', 'x_k'), ('Метод Ньютона', '|x_k+1 - x_k|')])\n",
    "newton_table.columns = pd.MultiIndex.from_tuples(newton_table.columns, names=['Назание метода', ''])\n",
    "newton_table"
   ]
  },
  {
   "cell_type": "markdown",
   "id": "bfc8a6d8-e114-44c0-8c03-d1d66915990e",
   "metadata": {
    "tags": []
   },
   "source": [
    "Итак, мы достигли заданной точности за 3 итерации. Причем полученная в итоге погрешность оказалась гораздо меньше, чем нам нужна была. \n",
    "\n",
    "Таким образом, мы нашли корень уравнения $$f(x) = \\int\\limits_1^x e^{t^2}(1+t^3)dt - 1.7 = 0$$ с точностью $10^{-4}$. Убедимся в том, что это действительно корень:"
   ]
  },
  {
   "cell_type": "code",
   "execution_count": 317,
   "id": "68a53148-0e39-4171-8064-b5880a4276b3",
   "metadata": {
    "tags": []
   },
   "outputs": [
    {
     "data": {
      "text/plain": [
       "-0.0006420042354140509"
      ]
     },
     "execution_count": 317,
     "metadata": {},
     "output_type": "execute_result"
    }
   ],
   "source": [
    "f(1.2079, epsilon)"
   ]
  },
  {
   "cell_type": "markdown",
   "id": "9a8cdf55-e5c6-49fb-841b-a76a6de0e8bb",
   "metadata": {},
   "source": [
    "То есть полученное значение действительно оказалось корнем уравнения точности $\\varepsilon_3 = 10^{-4}$.\n",
    "\n",
    "Также можно заметить, что, подставив значение $x_{k+1}$ из последней итерации, мы получим"
   ]
  },
  {
   "cell_type": "code",
   "execution_count": 318,
   "id": "af21727e-a76e-478f-b54a-27b6e0cab039",
   "metadata": {
    "tags": []
   },
   "outputs": [
    {
     "data": {
      "text/plain": [
       "4.218847493575595e-14"
      ]
     },
     "execution_count": 318,
     "metadata": {},
     "output_type": "execute_result"
    }
   ],
   "source": [
    "f(x_k1, epsilon)"
   ]
  },
  {
   "cell_type": "markdown",
   "id": "dc909f41-e8b5-456e-b134-5980a8889801",
   "metadata": {
    "tags": []
   },
   "source": [
    "То есть, несмотря на поставленное условие, за 3 итерации мы смогли достичь достаточно хорошей точности для корня уравнения. Получившийся корень имеет вид:"
   ]
  },
  {
   "cell_type": "code",
   "execution_count": 319,
   "id": "e733a324-f8cf-4be5-abb8-e519873625cd",
   "metadata": {
    "tags": []
   },
   "outputs": [
    {
     "data": {
      "text/plain": [
       "1.2079540214679276"
      ]
     },
     "execution_count": 319,
     "metadata": {},
     "output_type": "execute_result"
    }
   ],
   "source": [
    "x_k1"
   ]
  },
  {
   "cell_type": "markdown",
   "id": "3faf499e-d086-41a4-8f8b-c796deeba2ba",
   "metadata": {},
   "source": [
    "Корень исходного уравнения приблизительно равен $$x^* \\approx 1.2079540214679276.$$"
   ]
  }
 ],
 "metadata": {
  "kernelspec": {
   "display_name": "Python 3 (ipykernel)",
   "language": "python",
   "name": "python3"
  },
  "language_info": {
   "codemirror_mode": {
    "name": "ipython",
    "version": 3
   },
   "file_extension": ".py",
   "mimetype": "text/x-python",
   "name": "python",
   "nbconvert_exporter": "python",
   "pygments_lexer": "ipython3",
   "version": "3.11.5"
  }
 },
 "nbformat": 4,
 "nbformat_minor": 5
}
