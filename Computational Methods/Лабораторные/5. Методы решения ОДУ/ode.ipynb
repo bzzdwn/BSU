{
 "cells": [
  {
   "cell_type": "markdown",
   "id": "ed13cfe1-b7c2-4f5e-a5b7-4ef5df5f6e29",
   "metadata": {},
   "source": [
    "# Методы решения обыкновенных дифференциальных уравнений"
   ]
  },
  {
   "cell_type": "markdown",
   "id": "bd26c6ed-7f22-4319-b0b5-6235bd3321e1",
   "metadata": {
    "tags": []
   },
   "source": [
    "# Постановка задач"
   ]
  },
  {
   "cell_type": "markdown",
   "id": "5b04d50e-9db2-4add-af7a-c4761a994b87",
   "metadata": {},
   "source": [
    "1. Используя способ последовательного повышения порядка точности, построить метод третьего порядка точности, отличный от методов \"3/4\" и \"аналога формулы Симпсона\".\n",
    "\n",
    "2. Определить порядок метода $$y_{j+1} = y_j + \\tau \\dfrac{\\exp \\left(\\tau\\dfrac{\\partial f(t_j,y_j)}{\\partial y}\\right) - 1}{\\tau\\dfrac{\\partial f(t_j,y_j)}{\\partial y}} f\\left(t_j + \\dfrac\\tau2, y_j\\right).$$\n",
    "\n",
    "3. Найти интервал устойчивости метода $$y_{j+1} = y_j + \\tau \\left(f_j + \\dfrac12 \\Delta f_{j-1} + \\dfrac13 \\Delta^2 f_{j-1}\\right).$$\n",
    "\n",
    "4. С заданной точностью $\\varepsilon = 10^{-4}$ найти решение задачи Коши с помощью:\n",
    "\n",
    "    1. явного метода трапеций;\n",
    "\n",
    "    2. явного метода Рунге-Кутта третьего порядка;\n",
    "\n",
    "    3. интерполяционного метода Адамса четвертого порядка\n",
    "$$\\begin{cases} \n",
    "u_1'(x) = -10 u_1^2(x) + 4u_1(x) + 3u_2^2(x) + 0.875,\\\\\n",
    "u_2'(x) = 11 u_2^2(x) + (- 20u_1(x) + 4)\\cdot u_2(x) - 7.25,\\\\\n",
    "u_1(0) = 0.2,\\\\\n",
    "u_2(0) = 0.\n",
    "\\end{cases}$$"
   ]
  },
  {
   "cell_type": "markdown",
   "id": "921c367b-30c0-4c00-9cce-83c8b73f9fe9",
   "metadata": {
    "jp-MarkdownHeadingCollapsed": true,
    "tags": []
   },
   "source": [
    "# Задача 1"
   ]
  },
  {
   "cell_type": "markdown",
   "id": "6f7a76b1-c593-4cf2-954d-02ebfc01517d",
   "metadata": {},
   "source": [
    "## Теоретические сводки, которые применяются для решения задачи\n",
    "По способу последовательного повышения порядка точности метод для решения задачи Коши строится на основе приближенного равенства\n",
    "$$u(x_j+h)\\approx u(x_j) +\\tau \\sum_{i=0}^{q}A_if(t_j + \\alpha_i \\tau, u(t_j + \\alpha_i \\tau)),$$\n",
    "где неизвестные $A_i$ и $\\alpha_i$ можно найти из системы уравнений\n",
    "$$\\begin{cases}\n",
    "\t\t\\sum\\limits_{i=0}^{q}A_i = 1,\\\\\n",
    "\t\\sum\\limits_{i=0}^{q} A_i\\alpha_i ^p =\\dfrac{1}{p+1},\\quad p = 1,2,\\ldots, k-1,\n",
    "\t\\end{cases}$$\n",
    "где значение $k$ соответствует порядку уравнения. Также по методу последовательного повышения порядка точности для построения метода третьего порядка нам нужно использовать методы второго и первого порядков. Тогда\n",
    "- в качестве метода первого порядка используем явный метод Эйлера \n",
    "$$\\overset{[2]}{y}_{j+1} = \\overset{[2]}{y}_{j} + \\tau \\overset{[2]}{f}_j.$$\n",
    "- в качестве метода второго порядка используем метод \n",
    "$$\\begin{cases}\n",
    "\\overset{[3]}{y}_{j+1} = \\overset{[3]}{y}_j + \\tau \\overset{[3]}{f}_{j + \\frac12},\\\\\n",
    "\\overset{[2]}{y}_{j+\\frac12} = \\overset{[3]}{y}_j +\\tau \\overset{[3]}{f}_{j}.\n",
    "\\end{cases}$$"
   ]
  },
  {
   "cell_type": "markdown",
   "id": "d7b53dc1-319c-44cd-9f5f-3b2a76ac5522",
   "metadata": {
    "jp-MarkdownHeadingCollapsed": true,
    "tags": []
   },
   "source": [
    "## Построение метода\n",
    "Поскольку нам нужно построить метод третьего порядка, то выбираем $k=3$ и получаем систему уравнений для коэффициентов\n",
    "$$\n",
    "\\sum_{i=0}^q A_i = 1,\\quad \\sum_{i=0}^q A_i \\alpha_i = \\dfrac12,\\quad \\sum_{i=0}^q A_i\\alpha_i^2 = \\dfrac13.\n",
    "$$\n",
    "Так как $q$ можно выбирать произвольно, то выберем $q=2$. Тогда имеем систему\n",
    "$$\\begin{cases}\n",
    "A_0 + A_1 = 1,\\\\\n",
    "A_0\\alpha_0 + A_1\\alpha_1 = \\dfrac12,\\\\\n",
    "A_0 \\alpha_0^2 + A_1\\alpha_1^2 = \\dfrac13.\n",
    "\\end{cases}$$\n",
    "Мы имеем систему из 3 уравнений с 4 неизвестными. Это позволяет нам произвольно задать одну из неизвестных. К примеру, возьмем $\\alpha_0 = \\dfrac14$. Тогда система примет вид\n",
    "$$\\begin{cases}\n",
    "A_0 + A_1 = 1,\\\\\n",
    "\\dfrac{A_0}{4} + A_1\\alpha_1 = \\dfrac12,\\\\\n",
    "\\dfrac{A_0}{16} + A_1\\alpha_1^2 = \\dfrac13.\n",
    "\\end{cases}$$\n",
    "Вычтем из второго и третьего уравнений первое и получим\n",
    "$$\\begin{cases}\n",
    "A_0 + A_1 = 1,\\\\\n",
    "4A_1\\alpha_1 - A_1= 1,\\\\\n",
    "16A_1\\alpha_1^2 - A_1 = \\dfrac{13}{3};\n",
    "\\end{cases}\n",
    "\\Rightarrow\n",
    "\\begin{cases}\n",
    "A_0 + A_1 = 1,\\\\\n",
    "A_1(4\\alpha_1 - 1) = 1,\\\\\n",
    "A_1(16\\alpha_1^2 - 1) = \\dfrac{13}{3}.\n",
    "\\end{cases}$$\n",
    "Разделим третье уравнение на второе и получим $$4\\alpha_1+1 =\\dfrac{13}{3}.$$\n",
    "Тогда $$\\alpha_1 = \\dfrac56.$$\n",
    "Из уравнения $$A_1(4\\alpha_1 - 1)= 1,$$ подставляя $\\alpha_1 = \\dfrac56$, получаем $$A_1 = \\dfrac37.$$\n",
    "Подставляя это в первое уравнение исходной системы, имеем $$A_0 = \\dfrac47.$$\n",
    "Итого $$A_0 = \\dfrac47, \\ A_1 = \\dfrac37,\\ \\alpha_0 = \\dfrac14,\\ \\alpha_1 = \\dfrac56.$$\n",
    "Теперь, подставляя найденные коэффициенты в формулу метода $$y_{j+1} = y_j + \\tau \\sum_{i=0}^{q}A_if(t_j + \\alpha_i \\tau, y(t_j + \\alpha_i \\tau)),$$\n",
    "получим неявный метод третьего порядка (локально четвертого)\n",
    "$$\\overset{[4]}{y}_{j+1} = \\overset{[4]}{y}_j + \\dfrac\\tau 7 \\left(4\\overset{[4]}{f}_{j+\\frac14} + 3\\overset{[4]}{f}_{j+\\frac56}\\right).$$\n",
    "Дополним этот метод методами более низкого порядка, чтобы сделать метод явным. Для понижения порядка $(\\overset{[4]}{f}_{j+\\frac14})$, заменив в нем $\\tau = \\dfrac14\\tau$, добавим указанный ранее метод 2-ого порядка\n",
    "$$\\begin{cases}\n",
    "\\overset{[3]}{y}_{j+\\frac14} = \\overset{[4]}{y}_j + \\dfrac\\tau 4 \\overset{[2]}{f}_{j + \\frac18},\\\\\n",
    "\\overset{[2]}{y}_{j+\\frac18} = \\overset{[4]}{y}_j + \\dfrac\\tau 8 \\overset{[4]}{f}_{j}.\n",
    "\\end{cases}$$\n",
    "(в конце имеем $\\overset{[4]}{f}_{j}$, потому что это минимальный порядок локальной погрешности, который мы можем получить в этом методе).\n",
    "Для понижения порядка $\\overset{[4]}{f}_{j+\\frac56}$ добавим указанный ранее метод 2-ого порядка, заменив в нем $\\tau = \\dfrac56\\tau$,\n",
    "$$\\begin{cases}\n",
    "\\overset{[3]}{y}_{j+\\frac56} = \\overset{[4]}{y}_j + \\dfrac56\\tau \\overset{[2]}{f}_{j + \\frac13},\\\\\n",
    "\\overset{[2]}{y}_{j+\\frac{5}{12}} = \\overset{[4]}{y}_j + \\dfrac{5}{12}\\tau \\overset{[4]}{f}_{j}.\n",
    "\\end{cases}$$\n",
    "В итоге, собрав все построенные методы в одну систему, получим явный метод третьего порядка\n",
    "$$\n",
    "\\begin{cases}\n",
    "\\overset{[4]}{y}_{j+1} = \\overset{[4]}{y}_j + \\dfrac\\tau 7 \\left(4\\overset{[2]}{f}_{j+\\frac14} + 3\\overset{[2]}{f}_{j+\\frac56}\\right),\\\\\n",
    "\\overset{[3]}{y}_{j+\\frac14} = \\overset{[4]}{y}_j + \\dfrac\\tau 4 \\overset{[2]}{f}_{j + \\frac18},\\\\\n",
    "\\overset{[3]}{y}_{j+\\frac56} = \\overset{[4]}{y}_j + \\dfrac56\\tau \\overset{[2]}{f}_{j + \\frac13},\\\\\n",
    "\\overset{[2]}{y}_{j+\\frac18} = \\overset{[4]}{y}_j + \\dfrac\\tau 8 \\overset{[4]}{f}_{j},\\\\\n",
    "\\overset{[2]}{y}_{j+\\frac{5}{12}} = \\overset{[4]}{y}_j + \\dfrac{5}{12}\\tau \\overset{[4]}{f}_{j}.\n",
    "\\end{cases}\n",
    "$$"
   ]
  },
  {
   "cell_type": "markdown",
   "id": "78960f2c-7adc-4c26-8bc8-e81891ab6073",
   "metadata": {
    "jp-MarkdownHeadingCollapsed": true,
    "tags": []
   },
   "source": [
    "# Задача 2"
   ]
  },
  {
   "cell_type": "markdown",
   "id": "dec5e807-27e6-4996-8446-84e69b4b4f68",
   "metadata": {},
   "source": [
    "У нас имеется метод вида $$y_{j+1} = y_j + \\tau \\dfrac{\\exp \\left(\\tau\\dfrac{\\partial f(t_j,y_j)}{\\partial y}\\right) - 1}{\\tau\\dfrac{\\partial f(t_j,y_j)}{\\partial y}} f\\left(t_j + \\dfrac\\tau2, y_j\\right).$$"
   ]
  },
  {
   "cell_type": "markdown",
   "id": "a623133a-1d7a-4164-ba2a-21f0eb790eb2",
   "metadata": {},
   "source": [
    "## Теоретические сводки, которые применяются для решения задачи\n",
    "\n",
    "Большинство численных методов решения задачи Коши $$u'(x) = f(x, u(x)),\\quad u\\big|_{x=x_0} = u_0$$ можно записать в виде $$y_{j+1} = F(y_{j-q}, y_{j-q+1},\\ldots, y_j, y_{j+1},\\ldots, y_{j+s}),$$ где $F$ --- некоторая определяемая функция.\n",
    "\n",
    "**Локальной погрешностью** численного метода будем называть невязку этого метода над точным решением задачи, а именно $$r(x_j, h) = u(x_{j+1}) - F\\big(u(x_{j-q}),\\ldots, u(x_j), u(x_{j+1}),\\ldots,u(x_{j+s})\\big).$$\n",
    "\n",
    "**Погрешностью аппроксимации дифференциальной задачи** в таком случае будем называть величину $$\\psi(x_j, h)=\\dfrac{r(x_j, h)}{h}.$$\n",
    "\n",
    "Если величина $\\psi(x_j, h)$ представима в виде $$ \\psi(x_j, h)= O(h^p),\\quad p\\geq 1$$ то численный метод называют **методом $p$-ого порядка аппроксимации**.\n",
    "\n",
    "Собственно порядок аппроксимации, или же глобальная погрешность метода, нас и интересует."
   ]
  },
  {
   "cell_type": "markdown",
   "id": "f8099631-3dad-4d69-9367-83cdb0ece48d",
   "metadata": {},
   "source": [
    "## Определение порядка точности метода\n",
    "\n",
    "Для того, чтобы определить порядок точности метода, оценим локальную погрешность этого метода. В данном случае локальную погрешность метода можно записать как\n",
    "$$r(t_j,\\tau) = u(t_{j+1}) - u(t_j) - \\tau \\dfrac{\\exp \\left(\\tau\\dfrac{\\partial f(t_j,u(t_j))}{\\partial u}\\right) - 1}{\\tau\\dfrac{\\partial f(t_j,u(t_j))}{\\partial u}} f\\left(t_j + \\dfrac\\tau2, u(t_j)\\right).$$\n",
    "Для оценки погрешности разложим функции по степеням $\\tau$ (ограничимся второй степенью; при необходимости добавим больше членов разложения):\n",
    "$$u(t_{j+1}) = u(t_j + \\tau) = u(t_j) + \\dfrac{\\tau}{1!} u'(t_j) + \\dfrac{\\tau^2}{2!} u''(t_j) + O(\\tau^3),$$\n",
    "$$\\exp \\left(\\tau\\dfrac{\\partial f(t_j,u(t_j))}{\\partial u}\\right) = 1+\\tau \\dfrac{\\partial f(t_j,u(t_j))}{\\partial u} + \\dfrac{\\tau^2}{2!} \\left(\\dfrac{\\partial f(t_j,u(t_j))}{\\partial u}\\right)^2 + O(\\tau^3),$$\n",
    "$$f\\left(t_j + \\dfrac\\tau2, u(t_j)\\right) = f(t_j, u(t_j)) + \\dfrac{\\tau}{2\\cdot 1!} \\dfrac{\\partial f(t_j,u(t_j)}{\\partial t} + \\dfrac{\\tau^2}{2^2\\cdot 2!} \\dfrac{\\partial^2 f(t_j,u(t_j)}{\\partial t^2} + O(\\tau^3).$$\n",
    "Теперь все построенные разложения подставим в представление локальной погрешности:\n",
    "\\begin{multline}\n",
    "r(t_j,\\tau) = u(t_j) + \\dfrac{\\tau}{1!} u'(t_j) + \\dfrac{\\tau^2}{2!} u''(t_j) - u(t_j)-\\\\ - \\tau \\dfrac{1+\\tau \\dfrac{\\partial f(t_j,u(t_j))}{\\partial u} + \\dfrac{\\tau^2}{2!} \\left(\\dfrac{\\partial f(t_j,u(t_j))}{\\partial u}\\right)^2 - 1}{\\tau\\dfrac{\\partial f(t_j,u(t_j))}{\\partial u}} \\left(f(t_j, u(t_j)) + \\dfrac{\\tau}{2\\cdot 1!} \\dfrac{\\partial f(t_j,u(t_j))}{\\partial t} + \\dfrac{\\tau^2}{2^2\\cdot 2!} \\dfrac{\\partial^2 f(t_j,u(t_j))}{\\partial t^2}\\right) + O(\\tau^3)=\\\\=\\dfrac{\\tau}{1!} u'(t_j) + \\dfrac{\\tau^2}{2!}u''(t_j) - \\left(\\tau + \\dfrac{\\tau^2}{2} \\dfrac{\\partial f(t_j,u(t_j))}{\\partial u}\\right) \\left(f(t_j, u(t_j)) + \\dfrac{\\tau}{2} \\dfrac{\\partial f(t_j,u(t_j))}{\\partial t} + \\dfrac{\\tau^2}{8} \\dfrac{\\partial^2 f(t_j,u(t_j))}{\\partial t^2}\\right) + O(\\tau^3)=\\\\= \\dfrac{\\tau}{1!} u'(t_j) + \\dfrac{\\tau^2}{2!}u''(t_j) - \\tau f(t_j, u(t_j)) - \\dfrac{\\tau^2}{2} \\dfrac{\\partial f(t_j,u(t_j))}{\\partial t} - \\dfrac{\\tau^3}{8} \\dfrac{\\partial^2 f(t_j,u(t_j))}{\\partial t^2} -\\\\- \\dfrac{\\tau^2}{2} \\dfrac{\\partial f(t_j,u(t_j))}{\\partial u}f(t_j, u(t_j)) - \\dfrac{\\tau^3}{4} \\dfrac{\\partial f(t_j,u(t_j))}{\\partial u}\\dfrac{\\partial f(t_j,u(t_j))}{\\partial t} -\\dfrac{\\tau^4}{16} \\dfrac{\\partial f(t_j,u(t_j))}{\\partial u}\\dfrac{\\partial^2 f(t_j,u(t_j))}{\\partial t^2} + O(\\tau^3).\n",
    "\\end{multline}\n",
    "Все члены со степенями $t^3$ и выше заносим под $O(\\tau^3)$, а также используем из постановки задачи Коши тот факт, что $u'(t_j) = f(t_j, u(t_j)).$ Тогда\n",
    "\\begin{multline}\n",
    "r(t_j, \\tau) = \\tau u'(t_j) + \\dfrac{\\tau^2}{2}u''(t_j) - \\tau u'(t_j) - \\dfrac{\\tau^2}{2}u''(t_j) - \\dfrac{\\tau^2}{2} \\dfrac{\\partial f(t_j,u(t_j))}{\\partial u}u'(t_j) + O(\\tau^3) =\\\\= - \\dfrac{\\tau^2}{2} \\dfrac{\\partial f(t_j,u(t_j))}{\\partial u}u'(t_j) + O(\\tau^3) = O(\\tau^2).\n",
    "\\end{multline}\n",
    "\n",
    "В итоге имеем локальную погрешность метода $r(t_j, \\tau) = O(\\tau^2)$. Тогда глобальшая погрешность метода $$\\psi(t_j, \\tau) = \\dfrac{O(\\tau^2)}{\\tau} = O(\\tau).$$\n",
    "А отсюда получаем тот факт, что метод первого порядка точности."
   ]
  },
  {
   "cell_type": "markdown",
   "id": "b2dc7f37-6ce6-426e-910f-68117dc56a7b",
   "metadata": {
    "jp-MarkdownHeadingCollapsed": true,
    "tags": []
   },
   "source": [
    "# Задача 3"
   ]
  },
  {
   "cell_type": "markdown",
   "id": "4962eca3-f36a-4e9c-9adf-a1360be10067",
   "metadata": {},
   "source": [
    "У нас имеется метод вида $$y_{j+1} = y_j + \\tau \\left(f_j + \\dfrac12 \\Delta f_{j-1} + \\dfrac13 \\Delta^2 f_{j-1}\\right).$$\n",
    "Как можно заметить, в формуле метода использованы конечные разности. Приведем метод к более удобному для исследования устойчивости виду."
   ]
  },
  {
   "cell_type": "markdown",
   "id": "0967636e-34c6-4947-8fa8-11c57561f32b",
   "metadata": {},
   "source": [
    "## Приведение метода к более удобному виду\n",
    "Для этого распишем конечные разности\n",
    "$$\\Delta f_{j-1} = f_j - f_{j-1},$$\n",
    "$$\\Delta^2 f_{j-1} = \\Delta f_j - \\Delta f_{j-1} = f_{j+1} - f_j - (f_{j} - f_{j-1}) = f_{j+1} - 2f_j + f_{j-1}.$$\n",
    "Подставим эти выражения в формулу метода и получим\n",
    "$$y_{j+1} = y_j + \\tau \\left(f_j + \\dfrac12 f_j - \\dfrac12f_{j-1} + \\dfrac13 f_{j+1} - \\dfrac23f_j + \\dfrac13f_{j-1}\\right).$$\n",
    "После преобразований получим метод вида $$y_{j+1} = y_j + \\tau \\left(\\dfrac13 f_{j+1} + \\dfrac56f_j - \\dfrac16f_{j-1}\\right).$$\n",
    "Далее введем необходимые для исследования определения. "
   ]
  },
  {
   "cell_type": "markdown",
   "id": "fde4183c-2379-4bb1-8052-4552be9aaf63",
   "metadata": {},
   "source": [
    "## Теоретические сводки, которые применяются для решения задачи\n",
    "\n",
    "Во-первых, определим модельное уравнение $$u'(x) = \\lambda u(x),\\quad \\lambda \\in \\mathbb C,\\ \\operatorname{Re} \\lambda < 0,\\quad (1)$$ для которого известно, что задача Коши является устойчивой.\n",
    "\n",
    "Во-вторых, численный метод решения задачи Коши будем называть **устойчивым при некотором значении $z = \\lambda \\tau$**, если при данном значении устойчиво соответствующее разностное уравнение, получающееся вследствие применения этого метода к решению модельного уравнения.\n",
    "\n",
    "В-третьих, для того, чтобы **метод был устойчивым**, достаточно того, чтобы все корни соответствующего характеристического уравнения по модулю не превосходили единицы.\n",
    "\n",
    "В-четвертых, **областью устойчивости** численного метода будем называть множество всех точек $z$ комплексной плоскости, для которых данный метод устойчив, а **интервалом устойчивости** численного метода будем называть пересечение области устойчивости с вещественной осью координат.\n",
    "\n",
    "Таким образом, мы по сути определили алгоритм исследования метода на устойчивость:\n",
    "\n",
    "1. применяя исследуемый метод к модельному уравнению, получаем разностное уравнение, которому удовлетворяет приближенное решение;\n",
    "\n",
    "2. записываем соответствующее характеристическое уравнение;\n",
    "\n",
    "3. находим корни этого уравнения $q_i$, $i=\\overline{0,k}$;\n",
    "\n",
    "4. решая систему неравенств $|q_i| \\leq 1$, $i=\\overline{0,k}$, определяем область и интервал устойчивости метода.\n",
    "\n",
    "Если мы рассмотрим любую точку $z \\in \\mathbb C$, то эта точка будет принадлежать границе области устойчивости, если при данном значении $z$ выполняется равенство $$\\underset{i}{\\max}|q_i| = 1 = |q^*|,$$\n",
    "причем обозначим $q^* = e^{i\\varphi},\\ \\varphi \\in [0, 2\\pi].$ Решая записанное характеристическое уравнение относительно $z$, мы получаем множество точек, составляющих границу области устойчивости. Поскольку нас интересует не сама область устойчивости, а лишь ее пересечение с вещественной осью координат, то задача упрощается до того, что нам достаточно найти значения в точках $\\varphi = \\{0, \\pi\\},$ эти значения и будут составлять интервал устойчивости."
   ]
  },
  {
   "cell_type": "markdown",
   "id": "cb330968-9c52-4510-bd04-25ded5924475",
   "metadata": {},
   "source": [
    "## Исследование устойчивости метода\n",
    "\n",
    "Применим модельное уравнение (1) к нашему методу в виде $$y_{j+1} = y_j + \\tau \\left(\\dfrac13 f_{j+1} + \\dfrac56f_j - \\dfrac16f_{j-1}\\right).$$. Мы учтем обозначения, принятые в методах решения ОДУ $$u(x_j) = y_j,\\quad u'(x_j) = f(x_j, u(x_j)) = f_j.$$\n",
    "Тогда модельное уравнение (1) может быть переписано в виде $$f_j = \\lambda y_j.$$\n",
    "Используя данное выражение, запишем все $f_k$, $k=j-1, j, j+1$ через $y_k$. Тогда \n",
    "$$y_{j+1} = y_j + \\tau \\left(\\dfrac13 \\lambda y_{j+1} + \\dfrac56\\lambda y_j - \\dfrac16\\lambda y_{j-1}\\right).$$\n",
    "Перенесем все слагаемые в левую сторону\n",
    "$$y_{j+1} - y_j - \\dfrac13\\tau  \\lambda y_{j+1} - \\dfrac56\\tau \\lambda y_j + \\dfrac16\\tau \\lambda y_{j-1} = 0.$$\n",
    "Введем замену $z = \\tau\\lambda$ и вынесем общие множители за скобки\n",
    "$$\\left(1 - \\dfrac13z\\right)y_{j+1} - \\left(1+\\dfrac56 z\\right)y_j + \\dfrac16 z y_{j-1} = 0.$$\n",
    "Таким образом, мы получили разностное уравнение второго порядка относительно $y_j.$ Запишем для этого уравнения характеристическое уравнение\n",
    "$$\\left(1 - \\dfrac13z\\right)q^2 - \\left(1+\\dfrac56 z\\right)q + \\dfrac16 z = 0.$$\n",
    "Мы не будем решать данное уравнение относительно $q$. Куда проще будет выразить из него $z$:\n",
    "$$q^2 - \\dfrac13 zq^2 - q - \\dfrac56 zq + \\dfrac16z = 0,$$\n",
    "$$z \\left(-\\dfrac13 q^2 - \\dfrac56 q + \\dfrac16\\right) = -(q^2 - q),$$\n",
    "$$z = 6\\dfrac{q^2 - q}{2q^2 + 5q - 1}.$$\n",
    "Теперь обозначим $q = e^{i\\varphi}$ и тогда получим выражение для кривой $$z = z(\\varphi) = 6\\dfrac{e^{2i\\varphi} - e^{i\\varphi}}{2e^{2i\\varphi} + 5e^{i\\varphi} - 1},\\ \\varphi \\in [0, 2\\pi].$$\n",
    "Имеем $$z(0) = 0, \\quad z (\\pi) = 6 \\dfrac{\\cos 2\\pi - \\cos \\pi}{2 \\cos 2 \\pi + 5 \\cos \\pi - 1} = 6\\cdot \\dfrac{2}{-4} = -3.$$\n",
    "В итоге интервал устойчивости для данного метода равен $$[-3, 0].$$"
   ]
  },
  {
   "cell_type": "markdown",
   "id": "dd2941e1-6cdf-4af0-8585-7d6156707003",
   "metadata": {
    "tags": []
   },
   "source": [
    "# Задача 4"
   ]
  },
  {
   "cell_type": "markdown",
   "id": "896c94aa-fa59-4d8d-a068-2283dd4ab6fd",
   "metadata": {},
   "source": [
    "Дана задача Коши\n",
    "$$\\begin{cases} \n",
    "u_1'(t) = -10 u_1^2(t) + 4u_1(t) + 3u_2^2(t) + 0.875,\\\\\n",
    "u_2'(t) = 11 u_2^2(t) + (- 20u_1(t) + 4)\\cdot u_2(t) - 7.25,\\\\\n",
    "u_1(0) = 0.2,\\\\\n",
    "u_2(0) = 0.\n",
    "\\end{cases}$$\n",
    "\n",
    "Составим компьютерную модель данной задачи Коши."
   ]
  },
  {
   "cell_type": "code",
   "execution_count": 28,
   "id": "9d50fe77-726b-44fa-822a-ad5b1df09d7b",
   "metadata": {
    "tags": []
   },
   "outputs": [],
   "source": [
    "import numpy as np\n",
    "import matplotlib.pyplot as plt\n",
    "\n",
    "# Дифференциальная модель\n",
    "def model(u, t):\n",
    "    u_1, u_2 = u\n",
    "    du_1dt = -10*u_1**2 + 4*u_1 + 3*u_2**2 + 0.875\n",
    "    du_2dt = 11*u_2**2 + (-20*u_1 + 4)*u_2 - 7.25\n",
    "    return np.array([du_1dt, du_2dt])\n",
    "\n",
    "# Задача Коши\n",
    "u0_1 = 0.2\n",
    "u0_2 = 0"
   ]
  },
  {
   "cell_type": "markdown",
   "id": "0a408f47-8553-463e-a2cf-523fb03d3c2f",
   "metadata": {},
   "source": [
    "По условию сетка узлов не задана, так же как и не заданы границы отрезка интегрирования. Зададим сетку следующим образом:"
   ]
  },
  {
   "cell_type": "code",
   "execution_count": 29,
   "id": "da0760ec-4f14-4dd3-aae5-08eb31ce3a08",
   "metadata": {
    "tags": []
   },
   "outputs": [],
   "source": [
    "# Сетка узлов\n",
    "t_start = 0 # начало отрезка\n",
    "t_end = 1 # конец отрезка\n",
    "N = 1000 # число узлов\n",
    "t = np.linspace(t_start, t_end, N) # переменная для сетки"
   ]
  },
  {
   "cell_type": "markdown",
   "id": "c06a070a-29fa-4a98-8f9d-1b99c248c437",
   "metadata": {},
   "source": [
    "Хотя с учетом того, что для достижения нужной точности шаг будет выбираться адаптивно, априорно заданная сетка узлов нам, вообще говоря, не нужна. Нас интересуют лишь начало и конец отрезка интегрирования.\n",
    "\n",
    "Данная задача Коши имеет аналитическое решение\n",
    "$$\n",
    "\\begin{cases}\n",
    "u_1(t) = 0.2 - 4.2\\tanh(-7 t) + 3.75 \\tanh (-7.5 t),\\\\\n",
    "u_2(t) = -7\\tanh(-7t) + 7.5\\tanh(-7.5t).\n",
    "\\end{cases}\n",
    "$$\n",
    "Зададим компьютерно функцию, которая будет вычислять значение этого решения в заданных точках."
   ]
  },
  {
   "cell_type": "code",
   "execution_count": 30,
   "id": "cc307d90-ea81-4ff1-ad2e-3c2cee15195d",
   "metadata": {
    "tags": []
   },
   "outputs": [],
   "source": [
    "def real_solution(nodes):\n",
    "    t = np.array(nodes)\n",
    "    y1 = 0.2 - 4.2*np.tanh(-7.*t) + 3.75 * np.tanh(-7.5*t)\n",
    "    y2 = -7. * np.tanh(-7.*t) + 7.5*np.tanh(-7.5*t)\n",
    "    return np.array([y1, y2]).T"
   ]
  },
  {
   "cell_type": "markdown",
   "id": "901ac450-85fa-4f20-81bd-3f7174b48662",
   "metadata": {},
   "source": [
    "Построим график этого решения на размеченной ранее сетке узлов."
   ]
  },
  {
   "cell_type": "code",
   "execution_count": 31,
   "id": "4025ea5b-0a38-48cb-bbf7-56135c1b5f39",
   "metadata": {
    "tags": []
   },
   "outputs": [
    {
     "data": {
      "image/png": "[encoded data removed]",
      "text/plain": [
       "<Figure size 1600x800 with 1 Axes>"
      ]
     },
     "metadata": {},
     "output_type": "display_data"
    }
   ],
   "source": [
    "plt.figure(figsize=(16, 8))\n",
    "plt.plot(t, real_solution(t)[:, 0], label='u_1(t)')\n",
    "plt.plot(t, real_solution(t)[:, 1], label='u_2(t)')\n",
    "plt.grid(True)\n",
    "plt.xlabel('t')\n",
    "plt.ylabel('u(t)')\n",
    "plt.legend()\n",
    "plt.show()"
   ]
  },
  {
   "cell_type": "markdown",
   "id": "7299549e-82f6-4295-8871-61da32a5f6cd",
   "metadata": {
    "tags": []
   },
   "source": [
    "## Описание алгоритма"
   ]
  },
  {
   "cell_type": "markdown",
   "id": "0796624d-ee73-4f88-8b99-d69b73db9258",
   "metadata": {},
   "source": [
    "Явный метод трапеций и метод Рунге-Кутты будут реализованы по следующему алгоритму. Сперва мы берем начальное значение $t = t_0 = 0$ и задаем шаг $$h_1 = h = \\sqrt[m]\\varepsilon,$$\n",
    "где $m$ --- порядок точности метода. С этим шагом мы применяем формулу метода для отыскания $y^h_{j+1}$. После этого мы берем новый шаг $$h_2 = \\dfrac{h}{2}.$$\n",
    "С этим шагом мы снова применяем формулу метода и получаем $y^{\\frac h2}_{j+1}$. После этого мы проверяем выполнение условия $$\\dfrac{y^{h_2}_{j+1} - y^{h_1}_{j+1}}{1 - \\left(\\frac{h_2}{h_1}\\right)^m}\\leq \\varepsilon.$$\n",
    "Если условие не выполнено, то берем новый шаг $h_3 = \\dfrac{h_2}{2}$, вычисляем $y^{\\frac h4}_{j+1}$, а затем снова проверяем условие. И так далее.\n",
    "\n",
    "Если условие выполнено, то записываем текущее значение $y_{j+1} = y^{h_2}_{j+1}$, текущий узел $t_{j+1} = t_j + h_2$. Проверяем, не оказалось ли $t_{j+1}$ больше, чем правый край отрезка интегрирования. Если нет, то считаем следующее $y_{j+1}$, начиная с шага $h_{new} = 1.05 h_{last}$ (1.005 для ускорения работы алгоритма). Если оказалось больше, то дописываем последнее $t_{j+1} = b - t_j$ и возвращаем сетку узлов и приближенные значения функций."
   ]
  },
  {
   "cell_type": "markdown",
   "id": "d5e768d4-14d7-43f2-8bcc-bb789026541a",
   "metadata": {
    "tags": []
   },
   "source": [
    "## Явный метод трапеций\n",
    "Формула явного метода трапеций записывается в следующем виде\n",
    "$$\\begin{cases}\n",
    "{y}_{j+1} = {y}_j + h{f}_j,\\\\\n",
    "{y}_{j+1} = {y}_j + \\dfrac{h}{2}\\left({f}_j + {f}_{j+1}\\right). \n",
    "\\end{cases}$$\n",
    "Реализуем по описанному выше алгоритму данный метод:"
   ]
  },
  {
   "cell_type": "code",
   "execution_count": 35,
   "id": "fec29dc1-c7bc-404c-9643-5347a86743e9",
   "metadata": {
    "tags": []
   },
   "outputs": [],
   "source": [
    "def adaptive_trapezoids_integrate(f, y0, t, epsilon):\n",
    "    y = [np.array(y0)] # Массив значений y\n",
    "    t_current = t[0]  # Текущее значение t\n",
    "    t_new = [t[0]] # Массив для новой сетки узлов\n",
    "    j = 0 # Переменная для индексации\n",
    "    h_current = epsilon**(1/2) # Текущее значение шага\n",
    "    k = 1.05\n",
    "    while True:\n",
    "         \n",
    "        while True:\n",
    "            # Вычисление y_j+1 с шагом h по формуле метода\n",
    "            y_high = y[j] + h_current * f(y[j], t_current)\n",
    "            y_high = y[j] + h_current/2 * (f(y[j], t_current) + f(y_high, t_current+h_current))\n",
    "            \n",
    "            h_half = 0.5 * h_current # деление шага пополам\n",
    "            \n",
    "            # Вычисление y_j+1 с шагом h/2 по формуле метода\n",
    "            y_low = y[j] + h_half * f(y[j], t_current)\n",
    "            y_low = y[j] + h_half/2 * (f(y[j], t_current) + f(y_low, t_current+h_current))\n",
    "            \n",
    "            # Значение погрешности на шаге h\n",
    "            error = np.max(y_low - y_high) / (1 - (h_half / h_current)**2)\n",
    "            \n",
    "            if error < epsilon: # Если значение погрешности ниже заданного, то...\n",
    "                y.append(y_high) # ... добавляем в массив y текущее значение y_j+1\n",
    "                break # выходим из бесконечного цикла\n",
    "            else: # Иначе..\n",
    "                h_current *= 0.5 # делим шаг пополам и повторяем процедуру\n",
    "                \n",
    "        j += 1 # Повышаем значение для индекса\n",
    "        if t_current + h_current > t[-1]: # Если t + h > правый край отрезка интегрирования..\n",
    "            t_new.append(t[-1]) # ... добавляем в новую сетку правый край отрезка интегрирования (не учитывая шаг)\n",
    "            break # выходим из бесконечного цикла\n",
    "        else: # Иначе..\n",
    "            t_current += h_current # ... прибавляем t+h\n",
    "            t_new.append(t_current) # добавляем значение t+h в массив для новой сетки узлов\n",
    "            h_current *= k\n",
    "    \n",
    "    return np.stack(y, axis=0), t_new # Возвращаем вектор приближенных решений и новую сетку узлов"
   ]
  },
  {
   "cell_type": "markdown",
   "id": "d61bff88-5414-4a41-a4c5-92989c92cb76",
   "metadata": {},
   "source": [
    "Вычислим по построенному методу решение задачи Коши"
   ]
  },
  {
   "cell_type": "code",
   "execution_count": 36,
   "id": "e02e40cb-7774-4217-834f-aabfc7ede696",
   "metadata": {
    "tags": []
   },
   "outputs": [],
   "source": [
    "u0 = [u0_1, u0_2]\n",
    "solution, nodes = adaptive_trapezoids_integrate(model, u0, t, 1e-4)"
   ]
  },
  {
   "cell_type": "markdown",
   "id": "ab491abe-ed70-4e43-8dd7-dc733dea7239",
   "metadata": {},
   "source": [
    "Посмотрим, сколько узлов содержит новая сетка"
   ]
  },
  {
   "cell_type": "code",
   "execution_count": 37,
   "id": "67506062-8b6f-4110-9c01-7ad322919a34",
   "metadata": {
    "tags": []
   },
   "outputs": [
    {
     "data": {
      "text/plain": [
       "5615"
      ]
     },
     "execution_count": 37,
     "metadata": {},
     "output_type": "execute_result"
    }
   ],
   "source": [
    "len(nodes)"
   ]
  },
  {
   "cell_type": "markdown",
   "id": "0203da3f-5a4d-45b4-84dc-f47099e551c8",
   "metadata": {},
   "source": [
    "Вычислим максимальное отклонение аналитического решения от приближенного решения."
   ]
  },
  {
   "cell_type": "code",
   "execution_count": 38,
   "id": "9fe923f0-8ec9-4de3-b7b5-951bee3606a1",
   "metadata": {
    "tags": []
   },
   "outputs": [
    {
     "data": {
      "text/plain": [
       "5.19633365096972e-05"
      ]
     },
     "execution_count": 38,
     "metadata": {},
     "output_type": "execute_result"
    }
   ],
   "source": [
    "np.max(np.absolute(solution - real_solution(nodes)))"
   ]
  },
  {
   "cell_type": "markdown",
   "id": "55edc7bb-4dff-4059-bf3d-b682cb69346b",
   "metadata": {},
   "source": [
    "Построим график полученного решения"
   ]
  },
  {
   "cell_type": "code",
   "execution_count": 39,
   "id": "24b6deb2-0040-418f-83d6-d6250d305899",
   "metadata": {
    "tags": []
   },
   "outputs": [
    {
     "data": {
      "image/png": "[encoded data removed]",
      "text/plain": [
       "<Figure size 1600x800 with 1 Axes>"
      ]
     },
     "metadata": {},
     "output_type": "display_data"
    }
   ],
   "source": [
    "plt.figure(figsize=(16, 8))\n",
    "plt.plot(nodes, solution[:, 0], label='u_1(t)')\n",
    "plt.plot(nodes, solution[:, 1], label='u_2(t)')\n",
    "plt.grid(True)\n",
    "plt.xlabel('t')\n",
    "plt.ylabel('u(t)')\n",
    "plt.legend()\n",
    "plt.show()"
   ]
  },
  {
   "cell_type": "markdown",
   "id": "25d1650a-0af4-4bc1-9c6a-605f0e8940a3",
   "metadata": {
    "tags": []
   },
   "source": [
    "## Метод Рунге-Кутта 3-его порядка\n",
    "Формула метода записывается в виде\n",
    "$$\\begin{cases}\n",
    "y_{j+1} = y_j + \\dfrac14 (\\varphi_0 + 3\\varphi_2),\\\\\n",
    "\\varphi_0 = hf(x_j, y_j),\\\\\n",
    "\\varphi_1 = hf\\left(x_j + \\dfrac13h, y_j + \\dfrac13 \\varphi_0\\right),\\\\\n",
    "\\varphi_2 = hf\\left(x_j + \\dfrac23h, y_j + \\dfrac23\\varphi_1\\right).\n",
    "\\end{cases}$$\n",
    "Реализуем по описанному выше алгоритму данный метод:"
   ]
  },
  {
   "cell_type": "code",
   "execution_count": 40,
   "id": "c820b04c-816a-4f97-aafb-2c261141fa53",
   "metadata": {
    "tags": []
   },
   "outputs": [],
   "source": [
    "def adaptive_third_order_runge_kutta(f, y0, t, epsilon):\n",
    "    y = [np.array(y0)]\n",
    "    t_current = t[0]\n",
    "    t_new = [t[0]]\n",
    "    j = 0\n",
    "    h_current = epsilon**(1/2)\n",
    "    k = 1.05\n",
    "    while True:\n",
    "        \n",
    "        while True:\n",
    "            phi_0 = h_current * f(y[j], t_current)\n",
    "            phi_1 = h_current * f(y[j] + 1/3 * phi_0, t_current + 1/3 * h_current)\n",
    "            phi_2 = h_current * f(y[j] + 2/3 * phi_1, t_current + 2/3 * h_current)\n",
    "            y_high = y[j] + 1/4 * (phi_0 + 3*phi_2)\n",
    "            \n",
    "            h_half = 0.5 * h_current\n",
    "            phi_0_low = h_half * f(y[j], t_current)\n",
    "            phi_1_low = h_half * f(y[j] + 1/3 * phi_0_low, t_current + 1/3 * h_half)\n",
    "            phi_2_low = h_half * f(y[j] + 2/3 * phi_1_low, t_current + 2/3 * h_half)\n",
    "            y_low = y[j] + 1/4 * (phi_0_low + 3*phi_2_low)\n",
    "            \n",
    "            error = np.max(y_low - y_high) / (1 - (h_half / h_current)**3)\n",
    "            \n",
    "            if error <= epsilon:\n",
    "                y.append(y_high)\n",
    "                break\n",
    "            else:\n",
    "                h_current *= 0.5\n",
    "                \n",
    "        j += 1\n",
    "        if t_current + h_current > t[-1]:\n",
    "            t_new.append(t[-1])\n",
    "            break\n",
    "        else:\n",
    "            t_current += h_current\n",
    "            t_new.append(t_current)\n",
    "            h_current *= k\n",
    "    \n",
    "    return np.stack(y, axis=0), t_new"
   ]
  },
  {
   "cell_type": "markdown",
   "id": "4543560a-b250-4bdd-b6f1-d9e269d9471e",
   "metadata": {},
   "source": [
    "Вычислим по построенному методу решение задачи Коши"
   ]
  },
  {
   "cell_type": "code",
   "execution_count": 11,
   "id": "378a97e5-39d8-40b6-8a95-a0692e75e4e5",
   "metadata": {
    "tags": []
   },
   "outputs": [],
   "source": [
    "u0 = [u0_1, u0_2]\n",
    "solution, nodes = adaptive_third_order_runge_kutta(model, u0, t, 1e-4)"
   ]
  },
  {
   "cell_type": "markdown",
   "id": "20eff2a8-2d14-48d2-af3b-b02e3d7b875c",
   "metadata": {},
   "source": [
    "Посмотрим, сколько узлов содержит новая сетка"
   ]
  },
  {
   "cell_type": "code",
   "execution_count": 12,
   "id": "2e4a1a04-37de-4afd-b0ba-c68d2f327a71",
   "metadata": {
    "tags": []
   },
   "outputs": [
    {
     "data": {
      "text/plain": [
       "4833"
      ]
     },
     "execution_count": 12,
     "metadata": {},
     "output_type": "execute_result"
    }
   ],
   "source": [
    "len(nodes)"
   ]
  },
  {
   "cell_type": "markdown",
   "id": "41ca06b6-9cba-43e0-979b-7c501fb6e6dd",
   "metadata": {},
   "source": [
    "Вычислим максимальное отклонение аналитического решения от приближенного решения."
   ]
  },
  {
   "cell_type": "code",
   "execution_count": 13,
   "id": "afd5a8cf-b571-49d2-b712-ba1b3d1066d9",
   "metadata": {
    "tags": []
   },
   "outputs": [
    {
     "data": {
      "text/plain": [
       "1.7562879911503515e-06"
      ]
     },
     "execution_count": 13,
     "metadata": {},
     "output_type": "execute_result"
    }
   ],
   "source": [
    "np.max(np.absolute(solution - real_solution(nodes)))"
   ]
  },
  {
   "cell_type": "markdown",
   "id": "31f4e5ff-f6b7-4fac-82c2-2a0f3e0d6cec",
   "metadata": {},
   "source": [
    "Построим график полученного решения"
   ]
  },
  {
   "cell_type": "code",
   "execution_count": 14,
   "id": "5c20595c-9254-4668-acc5-41492a4ae0dc",
   "metadata": {
    "tags": []
   },
   "outputs": [
    {
     "data": {
      "image/png": "[encoded data removed]",
      "text/plain": [
       "<Figure size 1600x800 with 1 Axes>"
      ]
     },
     "metadata": {},
     "output_type": "display_data"
    }
   ],
   "source": [
    "plt.figure(figsize=(16, 8))\n",
    "plt.plot(nodes, solution[:, 0], label='u_1(t)')\n",
    "plt.plot(nodes, solution[:, 1], label='u_2(t)')\n",
    "plt.grid(True)\n",
    "plt.xlabel('t')\n",
    "plt.ylabel('u(t)')\n",
    "plt.legend()\n",
    "plt.show()"
   ]
  },
  {
   "cell_type": "markdown",
   "id": "8fb61f02-d7a9-4ad2-a38a-68155fd66017",
   "metadata": {},
   "source": [
    "## Интерполяционный метод Адамса 4-ого порядка"
   ]
  },
  {
   "cell_type": "markdown",
   "id": "a79bb46e-d3b4-49f8-994d-33c59911898f",
   "metadata": {},
   "source": [
    "Формула метода записывается в виде $$y_{j+1} = y_j + \\dfrac{\\tau}{24}\\left(9 f_{j+1} + 19 f_j - 5f_{j-1} + f_{j-2}\\right); \\ y_0, y_1, y_2.$$\n",
    "Реализация данного метода требует от нас дополнительных усилий. Так как метод требует точки $y_0, y_1, y_2$, то сперва методом 4-ого порядка мы должны построить эти точки. К примеру, возьмем метод Рунге-Кутты 4-ого порядка $$\\begin{cases}\n",
    "\t\t\ty_{j+1} = y_j + \\dfrac16 (\\varphi_0 + 2\\varphi_1 + 2\\varphi_2 + \\varphi_3),\\\\\n",
    "\t\t\t\\varphi_0 = hf_j,\\\\\n",
    "\t\t\t\\varphi_1 = hf\\left(x_j + \\dfrac12h, y_j + \\dfrac12\\varphi_0\\right),\\\\\n",
    "\t\t\t\\varphi_2 = hf\\left(x_j + \\dfrac 12h, y_j + \\dfrac12 \\varphi_1\\right),\\\\\n",
    "\t\t\t\\varphi_3 = hf(x_j + h, y_j + \\varphi_2).\n",
    "\t\t\\end{cases}$$ \n",
    "\n",
    "А из-за того, что метод неявный, мы будем вычислять с помощью МПИ $$y^{k+1}_{j+1} = y_j + \\dfrac{\\tau}{24}\\left(9 f(t_{j+1}, y_{j+1}^k) + 19 f_j - 5f_{j-1} + f_{j-2}\\right)\\quad \\texttt{while}\\quad |y_{j+1}^{k+1} - y_{j+1}^k| > \\varepsilon.$$\n",
    "Реализуем по описанному выше алгоритму данный метод.\n",
    "\n",
    "Начнем с реализации метода Рунге-Кутты для вычисления $y_1, y_2$:"
   ]
  },
  {
   "cell_type": "code",
   "execution_count": 50,
   "id": "4ad92ea4-4026-414a-80b5-3b1ba3e12d70",
   "metadata": {},
   "outputs": [],
   "source": [
    "def adaptive_fourth_order_runge_kutta(f, y0, t, epsilon):\n",
    "    y = [np.array(y0)]\n",
    "    t_current = t[0]\n",
    "    t_new = [t[0]]\n",
    "    j = 0\n",
    "    h_current = epsilon**(1/2)\n",
    "    k = 1.05\n",
    "    while True:\n",
    "        \n",
    "        while True:\n",
    "            phi_0 = h_current * f(y[j], t_current)\n",
    "            phi_1 = h_current * f(y[j] + 1/2 * phi_0, t_current + 1/2 * h_current)\n",
    "            phi_2 = h_current * f(y[j] + 1/2 * phi_1, t_current + 1/2 * h_current)\n",
    "            phi_3 = h_current * f(y[j] + phi_1, t_current + h_current)\n",
    "            y_high = y[j] + 1/6 * (phi_0 + 2*phi_1 + 2*phi_2 + phi_3)\n",
    "            \n",
    "            h_half = 0.5 * h_current\n",
    "            phi_0_low = h_half * f(y[j], t_current)\n",
    "            phi_1_low = h_half * f(y[j] + 1/2 * phi_0_low, t_current + 1/2 * h_half)\n",
    "            phi_2_low = h_half * f(y[j] + 1/2 * phi_1_low, t_current + 1/2 * h_half)\n",
    "            phi_3_low = h_half * f(y[j] + phi_1_low, t_current + h_half)\n",
    "            y_low = y[j] + 1/6 * (phi_0_low + 2*phi_1_low + 2*phi_2_low + phi_3_low)\n",
    "            \n",
    "            error = np.max(y_low - y_high) / (1 - (h_half / h_current)**4)\n",
    "            \n",
    "            if error <= epsilon:\n",
    "                y.append(y_high)\n",
    "                break\n",
    "            else:\n",
    "                h_current *= 0.5\n",
    "                \n",
    "        j += 1\n",
    "        t_current += h_current\n",
    "        t_new.append(t_current)\n",
    "        h_current *= k\n",
    "        if j  == 2:\n",
    "            break\n",
    "    \n",
    "    return np.stack(y, axis=0), t_new"
   ]
  },
  {
   "cell_type": "markdown",
   "id": "ed6c483e-e00b-425b-9586-aea736526094",
   "metadata": {},
   "source": [
    "Вычислим по построенному методу решение задачи Коши"
   ]
  },
  {
   "cell_type": "code",
   "execution_count": 51,
   "id": "b120f0d3-fb74-4846-8335-28569a23b0ff",
   "metadata": {
    "tags": []
   },
   "outputs": [],
   "source": [
    "u0 = [u0_1, u0_2]\n",
    "y0, t0 = adaptive_fourth_order_runge_kutta(model, u0, t, 1e-4)"
   ]
  },
  {
   "cell_type": "markdown",
   "id": "34c96bc7-d5ac-468a-bddb-c2dd0b81b770",
   "metadata": {},
   "source": [
    "Выведем узлы и значения приближенного решения, полученные из метода Рунге-Кутты"
   ]
  },
  {
   "cell_type": "code",
   "execution_count": 52,
   "id": "885896bf-8760-455b-8173-f3c7f747a245",
   "metadata": {
    "tags": []
   },
   "outputs": [
    {
     "data": {
      "text/plain": [
       "array([[ 2.00000000e-01,  0.00000000e+00],\n",
       "       [ 2.00024902e-01, -1.41601561e-04],\n",
       "       [ 2.00051050e-01, -2.90283187e-04]])"
      ]
     },
     "execution_count": 52,
     "metadata": {},
     "output_type": "execute_result"
    }
   ],
   "source": [
    "y0"
   ]
  },
  {
   "cell_type": "code",
   "execution_count": 53,
   "id": "61f87a67-4aa9-4b43-8607-e2f7ef5a2144",
   "metadata": {
    "tags": []
   },
   "outputs": [
    {
     "data": {
      "text/plain": [
       "[0.0, 1.953125e-05, 4.00390625e-05]"
      ]
     },
     "execution_count": 53,
     "metadata": {},
     "output_type": "execute_result"
    }
   ],
   "source": [
    "t0"
   ]
  },
  {
   "cell_type": "markdown",
   "id": "da926f9e-f0e2-4323-a674-86091ac44270",
   "metadata": {},
   "source": [
    "Реализуем метод Адамса:"
   ]
  },
  {
   "cell_type": "code",
   "execution_count": 54,
   "id": "0f8be227-d9fe-4da5-ac8c-712eac867eac",
   "metadata": {
    "tags": []
   },
   "outputs": [],
   "source": [
    "def adaptive_fourth_order_adams(f, y0, t0, t, epsilon):\n",
    "    y = y0.tolist() \n",
    "    t_new = t0\n",
    "    j = 2\n",
    "    h_current = epsilon**(1/2)\n",
    "    k = 1.05\n",
    "    while True:\n",
    "        while True:\n",
    "            # Реализация метода простой итерации на шаге h\n",
    "            y_high_k = y[j]\n",
    "            y_high = y[j]\n",
    "            while True:\n",
    "                y_high = y[j] + h_current / 24 * (9 * f(y_high_k, t_new[j]+h_current) + 19 * f(y[j], t_new[j]) - 5 * f(y[j-1], t_new[j-1]) + f(y[j-2], t_new[j-2]))\n",
    "                if np.max(np.absolute(y_high - y_high_k)) < epsilon * 1e-3:\n",
    "                    break\n",
    "                y_high_k = y_high\n",
    "            \n",
    "            h_half = 0.5 * h_current\n",
    "            \n",
    "            # Реализация метода простой итерации на шаге h/2\n",
    "            y_low_k = y[j]\n",
    "            y_low = y[j]\n",
    "            while True:\n",
    "                y_low = y[j] + h_half / 24 * (9 * f(y_low_k, t_new[j]+h_half) + 19 * f(y[j], t_new[j]) - 5 * f(y[j-1], t_new[j-1]) + f(y[j-2], t_new[j-2]))\n",
    "                if np.max(np.absolute(y_low - y_low_k)) < epsilon * 1e-3:\n",
    "                    break\n",
    "                y_low_k = y_low\n",
    "            \n",
    "            error = np.max(y_low - y_high) / (1 - (h_half / h_current)**4)\n",
    "            \n",
    "            if error <= epsilon:\n",
    "                y.append(y_high)\n",
    "                break\n",
    "            else:\n",
    "                h_current *= 0.5\n",
    "                \n",
    "        j += 1\n",
    "        if t_new[j-1] + h_current > t[-1]:\n",
    "            t_new.append(t[-1])\n",
    "            break\n",
    "        else:\n",
    "            t_current = t_new[j-1] + h_current\n",
    "            t_new.append(t_current)\n",
    "            h_current *= k\n",
    "    \n",
    "    return np.stack(y, axis=0), t_new"
   ]
  },
  {
   "cell_type": "markdown",
   "id": "e91382eb-9a49-4055-9651-ee12f8a66c34",
   "metadata": {},
   "source": [
    "Вычислим по построенному методу решение задачи Коши"
   ]
  },
  {
   "cell_type": "code",
   "execution_count": 55,
   "id": "5be23c92-e13f-4f73-962b-94611f6b3ca9",
   "metadata": {
    "tags": []
   },
   "outputs": [],
   "source": [
    "solution, nodes = adaptive_fourth_order_adams(model, y0, t0, t, 1e-4)"
   ]
  },
  {
   "cell_type": "markdown",
   "id": "eda7de0f-52c1-4e7c-ab9e-fa5e39fc7812",
   "metadata": {},
   "source": [
    "Посмотрим, сколько узлов содержит новая сетка"
   ]
  },
  {
   "cell_type": "code",
   "execution_count": 56,
   "id": "4fcda53e-cf2f-4479-95bc-fe4aa513fa1c",
   "metadata": {
    "tags": []
   },
   "outputs": [
    {
     "data": {
      "text/plain": [
       "4508"
      ]
     },
     "execution_count": 56,
     "metadata": {},
     "output_type": "execute_result"
    }
   ],
   "source": [
    "len(nodes)"
   ]
  },
  {
   "cell_type": "markdown",
   "id": "13637aa1-0870-44b8-8da8-13ea8637ba0f",
   "metadata": {},
   "source": [
    "Вычислим максимальное отклонение аналитического решения от приближенного решения."
   ]
  },
  {
   "cell_type": "code",
   "execution_count": 57,
   "id": "ff044eb9-0b2e-4d54-bd92-a21dbfca7b23",
   "metadata": {
    "tags": []
   },
   "outputs": [
    {
     "data": {
      "text/plain": [
       "1.3264966326254068e-05"
      ]
     },
     "execution_count": 57,
     "metadata": {},
     "output_type": "execute_result"
    }
   ],
   "source": [
    "np.max(np.absolute(solution - real_solution(nodes))) "
   ]
  },
  {
   "cell_type": "markdown",
   "id": "d50158a5-c4d1-4dbd-b707-32eef57bdeff",
   "metadata": {},
   "source": [
    "Построим график полученного решения"
   ]
  },
  {
   "cell_type": "code",
   "execution_count": 58,
   "id": "598bc3d4-2877-46e0-ae92-853f939e0da9",
   "metadata": {
    "tags": []
   },
   "outputs": [
    {
     "data": {
      "image/png": "[encoded data removed]",
      "text/plain": [
       "<Figure size 1600x800 with 1 Axes>"
      ]
     },
     "metadata": {},
     "output_type": "display_data"
    }
   ],
   "source": [
    "plt.figure(figsize=(16, 8))\n",
    "plt.plot(nodes, solution[:, 0], label='u_1(t)')\n",
    "plt.plot(nodes, solution[:, 1], label='u_2(t)')\n",
    "plt.grid(True)\n",
    "plt.xlabel('t')\n",
    "plt.ylabel('u(t)')\n",
    "plt.legend()\n",
    "plt.show()"
   ]
  }
 ],
 "metadata": {
  "kernelspec": {
   "display_name": "Python 3 (ipykernel)",
   "language": "python",
   "name": "python3"
  },
  "language_info": {
   "codemirror_mode": {
    "name": "ipython",
    "version": 3
   },
   "file_extension": ".py",
   "mimetype": "text/x-python",
   "name": "python",
   "nbconvert_exporter": "python",
   "pygments_lexer": "ipython3",
   "version": "3.11.5"
  }
 },
 "nbformat": 4,
 "nbformat_minor": 5
}
