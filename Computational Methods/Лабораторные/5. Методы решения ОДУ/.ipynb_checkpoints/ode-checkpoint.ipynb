{
 "cells": [
  {
   "cell_type": "markdown",
   "id": "ed13cfe1-b7c2-4f5e-a5b7-4ef5df5f6e29",
   "metadata": {},
   "source": [
    "# Методы решения обыкновенных дифференциальных уравнений"
   ]
  },
  {
   "cell_type": "markdown",
   "id": "bd26c6ed-7f22-4319-b0b5-6235bd3321e1",
   "metadata": {},
   "source": [
    "# Постановка задач"
   ]
  },
  {
   "cell_type": "markdown",
   "id": "5b04d50e-9db2-4add-af7a-c4761a994b87",
   "metadata": {},
   "source": [
    "1. Используя способ последовательного повышения порядка точности, построить метод третьего порядка точности, отличный от методов \"3/4\" и \"аналога формулы Симпсона\".\n",
    "\n",
    "2. Определить порядок метода $$y_{j+1} = y_j + \\tau \\dfrac{\\exp \\left(\\tau\\dfrac{\\partial f(t_j,y_j)}{\\partial y}\\right) - 1}{\\tau\\dfrac{\\partial f(t_j,y_j)}{\\partial y}} f\\left(t_j + \\dfrac\\tau2, y_j\\right).$$\n",
    "\n",
    "3. Найти интервал устойчивости метода $$y_{j+1} = y_j + \\tau \\left(f_j + \\dfrac12 \\Delta f_{j-1} + \\dfrac13 \\Delta^2 f_{j-1}\\right).$$\n",
    "\n",
    "4. С заданной точностью $\\varepsilon = 10^{-4}$ найти решение задачи Коши с помощью:\n",
    "\n",
    "    1. явного метода трапеций;\n",
    "\n",
    "    2. явного метода Рунге-Кутта третьего порядка;\n",
    "\n",
    "    3. интерполяционного метода Адамса четвертого порядка\n",
    "$$\\begin{cases} \n",
    "u_1'(x) = -10 u_1^2(x) + 4u_1(x) + 3u_2^2(x) + 0.875,\\\\\n",
    "u_2'(x) = 11 u_2^2(x) + (- 20u_1(x) + 4)\\cdot u_2(x) - 7.25,\\\\\n",
    "u_1(0) = 0.2,\\\\\n",
    "u_2(0) = 0.\n",
    "\\end{cases}$$"
   ]
  },
  {
   "cell_type": "markdown",
   "id": "921c367b-30c0-4c00-9cce-83c8b73f9fe9",
   "metadata": {
    "jp-MarkdownHeadingCollapsed": true,
    "tags": []
   },
   "source": [
    "# Задача 1"
   ]
  },
  {
   "cell_type": "markdown",
   "id": "6f7a76b1-c593-4cf2-954d-02ebfc01517d",
   "metadata": {},
   "source": [
    "## Теоретические сводки, которые применяются для решения задачи\n",
    "По способу последовательного повышения порядка точности метод для решения задачи Коши строится на основе приближенного равенства\n",
    "$$u(x_j+h)\\approx u(x_j) +\\tau \\sum_{i=0}^{q}A_if(t_j + \\alpha_i \\tau, u(t_j + \\alpha_i \\tau)),$$\n",
    "где неизвестные $A_i$ и $\\alpha_i$ можно найти из системы уравнений\n",
    "$$\\begin{cases}\n",
    "\t\t\\sum\\limits_{i=0}^{q}A_i = 1,\\\\\n",
    "\t\\sum\\limits_{i=0}^{q} A_i\\alpha_i ^p =\\dfrac{1}{p+1},\\quad p = 1,2,\\ldots, k-1,\n",
    "\t\\end{cases}$$\n",
    "где значение $k$ соответствует порядку уравнения. Также по методу последовательного повышения порядка точности для построения метода третьего порядка нам нужно использовать методы второго и первого порядков. Тогда\n",
    "- в качестве метода первого порядка используем явный метод Ньютона \n",
    "$$\\overset{[2]}{y}_{j+1} = \\overset{[2]}{y}_{j} + \\tau \\overset{[2]}{f}_j.$$\n",
    "- в качестве метода второго порядка используем метод \n",
    "$$\\begin{cases}\n",
    "\\overset{[3]}{y}_{j+1} = \\overset{[3]}{y}_j + \\tau \\overset{[3]}{f}_{j + \\frac12},\\\\\n",
    "\\overset{[2]}{y}_{j+\\frac12} = \\overset{[3]}{y}_j +\\tau \\overset{[3]}{f}_{j}.\n",
    "\\end{cases}$$"
   ]
  },
  {
   "cell_type": "markdown",
   "id": "d7b53dc1-319c-44cd-9f5f-3b2a76ac5522",
   "metadata": {},
   "source": [
    "## Построение метода\n",
    "Поскольку нам нужно построить метод третьего порядка, то выбираем $k=3$ и получаем систему уравнений для коэффициентов\n",
    "$$\n",
    "\\sum_{i=0}^q A_i = 1,\\quad \\sum_{i=0}^q A_i \\alpha_i = \\dfrac12,\\quad \\sum_{i=0}^q A_i\\alpha_i^2 = \\dfrac13.\n",
    "$$\n",
    "Так как $q$ можно выбирать произвольно, то выберем $q=2$. Тогда имеем систему\n",
    "$$\\begin{cases}\n",
    "A_0 + A_1 = 1,\\\\\n",
    "A_0\\alpha_0 + A_1\\alpha_1 = \\dfrac12,\\\\\n",
    "A_0 \\alpha_0^2 + A_1\\alpha_1^2 = \\dfrac13.\n",
    "\\end{cases}$$\n",
    "Мы имеем систему из 3 уравнений с 4 неизвестными. Это позволяет нам произвольно задать одну из неизвестных. К примеру, возьмем $\\alpha_0 = 1$. Тогда система примет вид\n",
    "$$\\begin{cases}\n",
    "A_0 + A_1 = 1,\\\\\n",
    "A_0 + A_1\\alpha_1 = \\dfrac12,\\\\\n",
    "A_0 + A_1\\alpha_1^2 = \\dfrac13.\n",
    "\\end{cases}$$\n",
    "Вычтем из второго и третьего уравнений первое и получим\n",
    "$$\\begin{cases}\n",
    "A_0 + A_1 = 1,\\\\\n",
    "A_1(\\alpha_1 - 1)= -\\dfrac12,\\\\\n",
    "A_1(\\alpha_1^2 - 1) = -\\dfrac23.\n",
    "\\end{cases}$$\n",
    "Разделим третье уравнение на второе и получим $$\\alpha_1 + 1 = \\dfrac43.$$\n",
    "Тогда $$\\alpha_1 =\\dfrac13.$$\n",
    "Из уравнения $$A_1(\\alpha_1 - 1)= -\\dfrac12,$$ подставляя $\\alpha_1 = \\dfrac13$, получаем $$A_1 = \\dfrac34.$$\n",
    "Подставляя это в первое уравнение исходной системы, имеем $$A_0 = \\dfrac14.$$\n",
    "Итого $$A_0 = \\dfrac14, \\ A_1 = \\dfrac34,\\ \\alpha_0 = 1,\\ \\alpha_1 = \\dfrac13.$$\n",
    "Теперь, подставляя найденные коэффициенты в формулу метода $$y_{j+1} = y_j + \\tau \\sum_{i=0}^{q}A_if(t_j + \\alpha_i \\tau, u(t_j + \\alpha_i \\tau)),$$\n",
    "получим неявный метод третьего порядка (локально четвертого)\n",
    "$$\\overset{[4]}{y}_{j+1} = \\overset{[4]}{y}_j + \\dfrac\\tau 4 \\left(\\overset{[4]}{f}_{j+1} + \\overset{[4]}{f}_{j+\\frac13}\\right).$$\n",
    "Дополним этот метод методами более низкого порядка, чтобы сделать метод явным. Для понижения порядка $(\\overset{[4]}{f}_{j+1}$ добавим указанный ранее метод 2-ого порядка\n",
    "$$\\begin{cases}\n",
    "\\overset{[3]}{y}_{j+1} = \\overset{[4]}{y}_j + \\tau \\overset{[2]}{f}_{j + \\frac12},\\\\\n",
    "\\overset{[2]}{y}_{j+\\frac12} = \\overset{[4]}{y}_j + \\tau \\overset{[4]}{f}_{j}.\n",
    "\\end{cases}$$\n",
    "(в конце имеем $\\overset{[4]}{f}_{j}$, потому что это минимальный порядок локальной погрешности, который мы можем получить в этом методе).\n",
    "Для понижения порядка $\\overset{[4]}{f}_{j+\\frac13}$ добавим указанный ранее метод 2-ого порядка, заменив в тем $\\tau = \\dfrac23\\tau$,\n",
    "$$\\begin{cases}\n",
    "\\overset{[3]}{y}_{j+\\frac23} = \\overset{[4]}{y}_j + \\dfrac23\\tau \\overset{[2]}{f}_{j + \\frac13},\\\\\n",
    "\\overset{[2]}{y}_{j+\\frac13} = \\overset{[4]}{y}_j + \\tau \\overset{[4]}{f}_{j}.\n",
    "\\end{cases}$$\n",
    "В итоге, собрав все построенные методы в одну систему, получим явный метод третьего порядка\n",
    "$$\n",
    "\\begin{cases}\n",
    "\\overset{[4]}{y}_{j+1} = \\overset{[4]}{y}_j + \\dfrac\\tau 4 \\left(\\overset{[3]}{f}_{j+1} + \\overset{[3]}{f}_{j+\\frac13}\\right),\\\\\n",
    "\\overset{[3]}{y}_{j+1} = \\overset{[4]}{y}_j + \\tau \\overset{[2]}{f}_{j + \\frac12},\\\\\n",
    "\\overset{[3]}{y}_{j+\\frac23} = \\overset{[4]}{y}_j + \\dfrac23\\tau \\overset{[2]}{f}_{j + \\frac13},\\\\\n",
    "\\overset{[2]}{y}_{j+\\frac12} = \\overset{[4]}{y}_j + \\tau \\overset{[4]}{f}_{j},\\\\\n",
    "\\overset{[2]}{y}_{j+\\frac13} = \\overset{[4]}{y}_j + \\tau \\overset{[4]}{f}_{j}.\n",
    "\\end{cases}\n",
    "$$"
   ]
  },
  {
   "cell_type": "markdown",
   "id": "78960f2c-7adc-4c26-8bc8-e81891ab6073",
   "metadata": {
    "jp-MarkdownHeadingCollapsed": true,
    "tags": []
   },
   "source": [
    "# Задача 2"
   ]
  },
  {
   "cell_type": "markdown",
   "id": "dec5e807-27e6-4996-8446-84e69b4b4f68",
   "metadata": {},
   "source": [
    "У нас имеется метод вида $$y_{j+1} = y_j + \\tau \\dfrac{\\exp \\left(\\tau\\dfrac{\\partial f(t_j,y_j)}{\\partial y}\\right) - 1}{\\tau\\dfrac{\\partial f(t_j,y_j)}{\\partial y}} f\\left(t_j + \\dfrac\\tau2, y_j\\right).$$"
   ]
  },
  {
   "cell_type": "markdown",
   "id": "a623133a-1d7a-4164-ba2a-21f0eb790eb2",
   "metadata": {},
   "source": [
    "## Теоретические сводки, которые применяются для решения задачи\n",
    "\n",
    "Большинство численных методов решения задачи Коши $$u'(x) = f(x, u(x)),\\quad u\\big|_{x=x_0} = u_0$$ можно записать в виде $$y_{j+1} = F(y_{j-q}, y_{j-q+1},\\ldots, y_j, y_{j+1},\\ldots, y_{j+s}),$$ где $F$ --- некоторая определяемая функция.\n",
    "\n",
    "**Локальной погрешностью** численного метода будем называть невязку этого метода над точным решением задачи, а именно $$r(x_j, h) = u(x_{j+1}) - F\\big(u(x_{j-q}),\\ldots, u(x_j), u(x_{j+1}),\\ldots,u(x_{j+s})\\big).$$\n",
    "\n",
    "**Погрешностью аппроксимации дифференциальной задачи** в таком случае будем называть величину $$\\psi(x_j, h)=\\dfrac{r(x_j, h)}{h}.$$\n",
    "\n",
    "Если величина $\\psi(x_j, h)$ представима в виде $$ \\psi(x_j, h)= O(h^p),\\quad p\\geq 1$$ то численный метод называют **методом $p$-ого порядка аппроксимации**.\n",
    "\n",
    "Собственно порядок аппроксимации, или же глобальная погрешность метода, нас и интересует."
   ]
  },
  {
   "cell_type": "markdown",
   "id": "f8099631-3dad-4d69-9367-83cdb0ece48d",
   "metadata": {},
   "source": [
    "## Определение порядка точности метода\n",
    "\n",
    "Для того, чтобы определить порядок точности метода, оценим локальную погрешность этого метода. В данном случае локальную погрешность метода можно записать как\n",
    "$$r(t_j,\\tau) = u(t_{j+1}) - u(t_j) - \\tau \\dfrac{\\exp \\left(\\tau\\dfrac{\\partial f(t_j,u(t_j))}{\\partial u}\\right) - 1}{\\tau\\dfrac{\\partial f(t_j,u(t_j))}{\\partial u}} f\\left(t_j + \\dfrac\\tau2, u(t_j)\\right).$$\n",
    "Для оценки погрешности разложим функции по степеням $\\tau$ (ограничимся второй степенью; при необходимости добавим больше членов разложения):\n",
    "$$u(t_{j+1}) = u(t_j + \\tau) = u(t_j) + \\dfrac{\\tau}{1!} u'(t_j) + \\dfrac{\\tau^2}{2!} u''(t_j) + O(\\tau^3),$$\n",
    "$$\\exp \\left(\\tau\\dfrac{\\partial f(t_j,u(t_j))}{\\partial u}\\right) = 1+\\tau \\dfrac{\\partial f(t_j,u(t_j))}{\\partial u} + \\dfrac{\\tau^2}{2!} \\left(\\dfrac{\\partial f(t_j,u(t_j))}{\\partial u}\\right)^2 + O(\\tau^3),$$\n",
    "$$f\\left(t_j + \\dfrac\\tau2, u(t_j)\\right) = f(t_j, u(t_j)) + \\dfrac{\\tau}{2\\cdot 1!} \\dfrac{\\partial f(t_j,u(t_j)}{\\partial t} + \\dfrac{\\tau^2}{2^2\\cdot 2!} \\dfrac{\\partial^2 f(t_j,u(t_j)}{\\partial t^2} + O(\\tau^3).$$\n",
    "Теперь все построенные разложения подставим в представление локальной погрешности:\n",
    "\\begin{multline}\n",
    "r(t_j,\\tau) = u(t_j) + \\dfrac{\\tau}{1!} u'(t_j) + \\dfrac{\\tau^2}{2!} u''(t_j) - u(t_j)-\\\\ - \\tau \\dfrac{1+\\tau \\dfrac{\\partial f(t_j,u(t_j))}{\\partial u} + \\dfrac{\\tau^2}{2!} \\left(\\dfrac{\\partial f(t_j,u(t_j))}{\\partial u}\\right)^2 - 1}{\\tau\\dfrac{\\partial f(t_j,u(t_j))}{\\partial u}} \\left(f(t_j, u(t_j)) + \\dfrac{\\tau}{2\\cdot 1!} \\dfrac{\\partial f(t_j,u(t_j))}{\\partial t} + \\dfrac{\\tau^2}{2^2\\cdot 2!} \\dfrac{\\partial^2 f(t_j,u(t_j))}{\\partial t^2}\\right) + O(\\tau^3)=\\\\=\\dfrac{\\tau}{1!} u'(t_j) + \\dfrac{\\tau^2}{2!}u''(t_j) - \\left(\\tau + \\dfrac{\\tau^2}{2} \\dfrac{\\partial f(t_j,u(t_j))}{\\partial u}\\right) \\left(f(t_j, u(t_j)) + \\dfrac{\\tau}{2} \\dfrac{\\partial f(t_j,u(t_j))}{\\partial t} + \\dfrac{\\tau^2}{8} \\dfrac{\\partial^2 f(t_j,u(t_j))}{\\partial t^2}\\right) + O(\\tau^3)=\\\\= \\dfrac{\\tau}{1!} u'(t_j) + \\dfrac{\\tau^2}{2!}u''(t_j) - \\tau f(t_j, u(t_j)) - \\dfrac{\\tau^2}{2} \\dfrac{\\partial f(t_j,u(t_j))}{\\partial t} - \\dfrac{\\tau^3}{8} \\dfrac{\\partial^2 f(t_j,u(t_j))}{\\partial t^2} -\\\\- \\dfrac{\\tau^2}{2} \\dfrac{\\partial f(t_j,u(t_j))}{\\partial u}f(t_j, u(t_j)) - \\dfrac{\\tau^3}{4} \\dfrac{\\partial f(t_j,u(t_j))}{\\partial u}\\dfrac{\\partial f(t_j,u(t_j))}{\\partial t} -\\dfrac{\\tau^4}{16} \\dfrac{\\partial f(t_j,u(t_j))}{\\partial u}\\dfrac{\\partial^2 f(t_j,u(t_j))}{\\partial t^2} + O(\\tau^3).\n",
    "\\end{multline}\n",
    "Все члены со степенями $t^3$ и выше заносим под $O(\\tau^3)$, а также используем из постановки задачи Коши тот факт, что $u'(t_j) = f(t_j, u(t_j)).$ Тогда\n",
    "\\begin{multline}\n",
    "r(t_j, \\tau) = \\tau u'(t_j) + \\dfrac{\\tau^2}{2}u''(t_j) - \\tau u'(t_j) - \\dfrac{\\tau^2}{2}u''(t_j) - \\dfrac{\\tau^2}{2} \\dfrac{\\partial f(t_j,u(t_j))}{\\partial u}u'(t_j) + O(\\tau^3) =\\\\= - \\dfrac{\\tau^2}{2} \\dfrac{\\partial f(t_j,u(t_j))}{\\partial u}u'(t_j) + O(\\tau^3) = O(\\tau^2).\n",
    "\\end{multline}\n",
    "\n",
    "В итоге имеем локальную погрешность метода $r(t_j, \\tau) = O(\\tau^2)$. Тогда глобальшая погрешность метода $$\\psi(t_j, \\tau) = \\dfrac{O(\\tau^2)}{\\tau} = O(\\tau).$$\n",
    "А отсюда получаем тот факт, что метод первого порядка точности."
   ]
  },
  {
   "cell_type": "markdown",
   "id": "b2dc7f37-6ce6-426e-910f-68117dc56a7b",
   "metadata": {
    "jp-MarkdownHeadingCollapsed": true,
    "tags": []
   },
   "source": [
    "# Задача 3"
   ]
  },
  {
   "cell_type": "markdown",
   "id": "4962eca3-f36a-4e9c-9adf-a1360be10067",
   "metadata": {},
   "source": [
    "У нас имеется метод вида $$y_{j+1} = y_j + \\tau \\left(f_j + \\dfrac12 \\Delta f_{j-1} + \\dfrac13 \\Delta^2 f_{j-1}\\right).$$\n",
    "Как можно заметить, в формуле метода использованы конечные разности. Приведем метод к более удобному для исследования устойчивости виду."
   ]
  },
  {
   "cell_type": "markdown",
   "id": "0967636e-34c6-4947-8fa8-11c57561f32b",
   "metadata": {},
   "source": [
    "## Приведение метода к более удобному виду\n",
    "Для этого распишем конечные разности\n",
    "$$\\Delta f_{j-1} = f_j - f_{j-1},$$\n",
    "$$\\Delta^2 f_{j-1} = \\Delta f_j - \\Delta f_{j-1} = f_{j+1} - f_j - (f_{j} - f_{j-1}) = f_{j+1} - 2f_j + f_{j-1}.$$\n",
    "Подставим эти выражения в формулу метода и получим\n",
    "$$y_{j+1} = y_j + \\tau \\left(f_j + \\dfrac12 f_j - \\dfrac12f_{j-1} + \\dfrac13 f_{j+1} - \\dfrac23f_j + \\dfrac13f_{j-1}\\right).$$\n",
    "После преобразований получим метод вида $$y_{j+1} = y_j + \\tau \\left(\\dfrac13 f_{j+1} + \\dfrac56f_j - \\dfrac16f_{j-1}\\right).$$\n",
    "Далее введем необходимые для исследования определения. "
   ]
  },
  {
   "cell_type": "markdown",
   "id": "fde4183c-2379-4bb1-8052-4552be9aaf63",
   "metadata": {},
   "source": [
    "## Теоретические сводки, которые применяются для решения задачи\n",
    "\n",
    "Во-первых, определим модельное уравнение $$u'(x) = \\lambda u(x),\\quad \\lambda \\in \\mathbb C,\\ \\operatorname{Re} \\lambda < 0,\\quad (1)$$ для которого известно, что задача Коши является устойчивой.\n",
    "\n",
    "Во-вторых, численный метод решения задачи Коши будем называть **устойчивым при некотором значении $z = \\lambda \\tau$**, если при данном значении устойчиво соответствующее разностное уравнение, получающееся вследствие применения этого метода к решению модельного уравнения.\n",
    "\n",
    "В-третьих, для того, чтобы **метод был устойчивым**, достаточно того, чтобы все корни соответствующего характеристического уравнения по модулю не превосходили единицы.\n",
    "\n",
    "В-четвертых, **областью устойчивости** численного метода будем называть множество всех точек $z$ комплексной плоскости, для которых данный метод устойчив, а **интервалом устойчивости** численного метода будем называть пересечение области устойчивости с вещественной осью координат.\n",
    "\n",
    "Таким образом, мы по сути определили алгоритм исследования метода на устойчивость:\n",
    "\n",
    "1. применяя исследуемый метод к модельному уравнению, получаем разностное уравнение, которому удовлетворяет приближенное решение;\n",
    "\n",
    "2. записываем соответствующее характеристическое уравнение;\n",
    "\n",
    "3. находим корни этого уравнения $q_i$, $i=\\overline{0,k}$;\n",
    "\n",
    "4. решая систему неравенств $|q_i| \\leq 1$, $i=\\overline{0,k}$, определяем область и интервал устойчивости метода.\n",
    "\n",
    "Если мы рассмотрим любую точку $z \\in \\mathbb C$, то эта точка будет принадлежать границе области устойчивости, если при данном значении $z$ выполняется равенство $$\\underset{i}{\\max}|q_i| = 1 = |q^*|,$$\n",
    "причем обозначим $q^* = e^{i\\varphi},\\ \\varphi \\in [0, 2\\pi].$ Решая записанное характеристическое уравнение относительно $z$, мы получаем множество точек, составляющих границу области устойчивости. Поскольку нас интересует не сама область устойчивости, а лишь ее пересечение с вещественной осью координат, то задача упрощается до того, что нам достаточно найти значения в точках $\\varphi = \\{0, \\pi\\},$ эти значения и будут составлять интервал устойчивости."
   ]
  },
  {
   "cell_type": "markdown",
   "id": "cb330968-9c52-4510-bd04-25ded5924475",
   "metadata": {},
   "source": [
    "## Исследование устойчивости метода\n",
    "\n",
    "Применим модельное уравнение (1) к нашему методу в виде $$y_{j+1} = y_j + \\tau \\left(\\dfrac13 f_{j+1} + \\dfrac56f_j - \\dfrac16f_{j-1}\\right).$$. Мы учтем обозначения, принятые в методах решения ОДУ $$u(x_j) = y_j,\\quad u'(x_j) = f(x_j, u(x_j)) = f_j.$$\n",
    "Тогда модельное уравнение (1) может быть переписано в виде $$f_j = \\lambda y_j.$$\n",
    "Используя данное выражение, запишем все $f_k$, $k=j-1, j, j+1$ через $y_k$. Тогда \n",
    "$$y_{j+1} = y_j + \\tau \\left(\\dfrac13 \\lambda y_{j+1} + \\dfrac56\\lambda y_j - \\dfrac16\\lambda y_{j-1}\\right).$$\n",
    "Перенесем все слагаемые в левую сторону\n",
    "$$y_{j+1} - y_j - \\dfrac13\\tau  \\lambda y_{j+1} - \\dfrac56\\tau \\lambda y_j + \\dfrac16\\tau \\lambda y_{j-1} = 0.$$\n",
    "Введем замену $z = \\tau\\lambda$ и вынесем общие множители за скобки\n",
    "$$\\left(1 - \\dfrac13z\\right)y_{j+1} - \\left(1+\\dfrac56 z\\right)y_j + \\dfrac16 z y_{j-1} = 0.$$\n",
    "Таким образом, мы получили разностное уравнение второго порядка относительно $y_j.$ Запишем для этого уравнения характеристическое уравнение\n",
    "$$\\left(1 - \\dfrac13z\\right)q^2 - \\left(1+\\dfrac56 z\\right)q + \\dfrac16 z = 0.$$\n",
    "Мы не будем решать данное уравнение относительно $q$. Куда проще будет выразить из него $z$:\n",
    "$$q^2 - \\dfrac13 zq^2 - q - \\dfrac56 zq + \\dfrac16z = 0,$$\n",
    "$$z \\left(-\\dfrac13 q^2 - \\dfrac56 q + \\dfrac16\\right) = -(q^2 - q),$$\n",
    "$$z = 6\\dfrac{q^2 - q}{2q^2 + 5q - 1}.$$\n",
    "Теперь обозначим $q = e^{i\\varphi}$ и тогда получим выражение для кривой $$z = z(\\varphi) = 6\\dfrac{e^{2i\\varphi} - e^{i\\varphi}}{2e^{2i\\varphi} + 5e^{i\\varphi} - 1},\\ \\varphi \\in [0, 2\\pi].$$\n",
    "Имеем $$z(0) = 0, \\quad z (\\pi) = 6 \\dfrac{\\cos 2\\pi - \\cos \\pi}{2 \\cos 2 \\pi + 5 \\cos \\pi - 1} = 6\\cdot \\dfrac{2}{-4} = -3.$$\n",
    "В итоге интервал устойчивости для данного метода равен $$[-3, 0].$$"
   ]
  },
  {
   "cell_type": "markdown",
   "id": "dd2941e1-6cdf-4af0-8585-7d6156707003",
   "metadata": {},
   "source": [
    "# Задача 4"
   ]
  },
  {
   "cell_type": "markdown",
   "id": "896c94aa-fa59-4d8d-a068-2283dd4ab6fd",
   "metadata": {},
   "source": [
    "Дана задача Коши\n",
    "$$\\begin{cases} \n",
    "u_1'(t) = -10 u_1^2(t) + 4u_1(t) + 3u_2^2(t) + 0.875,\\\\\n",
    "u_2'(t) = 11 u_2^2(t) + (- 20u_1(t) + 4)\\cdot u_2(t) - 7.25,\\\\\n",
    "u_1(0) = 0.2,\\\\\n",
    "u_2(0) = 0.\n",
    "\\end{cases}$$"
   ]
  },
  {
   "cell_type": "code",
   "execution_count": 192,
   "id": "9d50fe77-726b-44fa-822a-ad5b1df09d7b",
   "metadata": {
    "tags": []
   },
   "outputs": [],
   "source": [
    "import numpy as np\n",
    "\n",
    "# Дифференциальная модель\n",
    "def model(u, t):\n",
    "    u_1, u_2 = u\n",
    "    du_1dt = -10*u_1**2 + 4*u_1 + 3*u_2**2 + 0.875\n",
    "    du_2dt = 11*u_2**2 + (-20*u_1 + 4)*u_2 - 7.25\n",
    "    return np.array([du_1dt, du_2dt])\n",
    "\n",
    "# Задача Коши\n",
    "u0_1 = 0.2\n",
    "u0_2 = 0\n",
    "\n",
    "# Сетка узлов\n",
    "t_start = 0\n",
    "t_end = 1\n",
    "N = 100\n",
    "t = np.linspace(t_start, t_end, N)"
   ]
  },
  {
   "cell_type": "markdown",
   "id": "d5e768d4-14d7-43f2-8bcc-bb789026541a",
   "metadata": {
    "tags": []
   },
   "source": [
    "## Явный метод трапеций\n",
    "Формула явного метода трапеций записывается в следующем виде\n",
    "$$\\begin{cases}\n",
    "{y}_{j+1} = {y}_j + h{f}_j,\\\\\n",
    "{y}_{j+1} = {y}_j + \\dfrac{h}{2}\\left({f}_j + {f}_{j+1}\\right). \n",
    "\\end{cases}$$"
   ]
  },
  {
   "cell_type": "code",
   "execution_count": 193,
   "id": "9cdc251d-2777-432e-9e2c-89aea6486888",
   "metadata": {
    "tags": []
   },
   "outputs": [],
   "source": [
    "def trapezoids_integrate(f, y0, t):\n",
    "    d = len(f(y0, t[0]))\n",
    "    N = t.size\n",
    "    y = np.zeros((N, d))\n",
    "    y[0] = y0\n",
    "    for j in range(N-1):\n",
    "        h = t[j+1] - t[j]\n",
    "        y[j+1] = y[j] + h * f(y[j], t[j])\n",
    "        y[j+1] = y[j] + h/2 * (f(y[j], t[j]) + f(y[j+1], t[j+1]))\n",
    "    return y"
   ]
  },
  {
   "cell_type": "code",
   "execution_count": 194,
   "id": "e02e40cb-7774-4217-834f-aabfc7ede696",
   "metadata": {
    "tags": []
   },
   "outputs": [],
   "source": [
    "u0 = [u0_1, u0_2]\n",
    "sol = trapezoids_integrate(model, u0, t)"
   ]
  },
  {
   "cell_type": "code",
   "execution_count": 198,
   "id": "24b6deb2-0040-418f-83d6-d6250d305899",
   "metadata": {
    "tags": []
   },
   "outputs": [
    {
     "data": {
      "image/png": "[encoded data removed]",
      "text/plain": [
       "<Figure size 1600x800 with 1 Axes>"
      ]
     },
     "metadata": {},
     "output_type": "display_data"
    }
   ],
   "source": [
    "plt.figure(figsize=(16, 8))\n",
    "plt.plot(t, sol[:, 0], label='u_1(t)')\n",
    "plt.plot(t, sol[:, 1], label='u_2(t)')\n",
    "plt.grid(True)\n",
    "plt.xlabel('t')\n",
    "plt.ylabel('u(t)')\n",
    "plt.legend()\n",
    "plt.show()"
   ]
  },
  {
   "cell_type": "markdown",
   "id": "25d1650a-0af4-4bc1-9c6a-605f0e8940a3",
   "metadata": {},
   "source": [
    "## Метод Рунге-Кутта 3-его порядка\n",
    "Формула метода записывается в виде\n",
    "$$\\begin{cases}\n",
    "y_{j+1} = y_j + \\dfrac14 (\\varphi_0 + 3\\varphi_2),\\\\\n",
    "\\varphi_0 = hf(x_j, y_j),\\\\\n",
    "\\varphi_1 = hf\\left(x_j + \\dfrac13h, y_j + \\dfrac13 \\varphi_0\\right),\\\\\n",
    "\\varphi_2 = hf\\left(x_j + \\dfrac23h, y_j + \\dfrac23\\varphi_1\\right).\n",
    "\\end{cases}$$"
   ]
  },
  {
   "cell_type": "markdown",
   "id": "a79bb46e-d3b4-49f8-994d-33c59911898f",
   "metadata": {},
   "source": [
    "Выпишем формулы методов, с помощью которых необходимо найти решение задачи Коши\n",
    "- явный метод трапеций $$\\begin{cases}\n",
    "\t\t\t\t\\overset{[3]}{y}_{j+1} = \\overset{[3]}{y}_j + \\dfrac{h}{2}\\left(\\overset{[3]}{f}_j + \\overset{[2]}{f}_{j+1}\\right),\\\\ \n",
    "\t\t\t\t\\overset{[2]}{y}_{j+1} = \\overset{[3]}{y}_j + h\\overset{[3]}{f}_j.\n",
    "\t\t\t\\end{cases}$$\n",
    "- метод Рунге-Кутта 3-ого порядка\n",
    "$$\\begin{cases}\n",
    "\t\t\t\ty_{j+1} = y_j + \\dfrac14 (\\varphi_0 + 3\\varphi_2),\\\\\n",
    "\t\t\t\t\\varphi_0 = hf(x_j, y_j),\\\\\n",
    "\t\t\t\t\\varphi_1 = hf\\left(x_j + \\dfrac13h, y_j + \\dfrac13 \\varphi_0\\right),\\\\\n",
    "\t\t\t\t\\varphi_2 = hf\\left(x_j + \\dfrac23h, y_j + \\dfrac23\\varphi_1\\right).\n",
    "\t\t\t\\end{cases}$$\n",
    "- интерполяционный метод Адамса $k$-ого порядка\n",
    "$$y_{j+1} = y_j + h\\sum_{i=-1}^{k}A_i f(x_{j-i}. y_{j-i})$$\n",
    "$$A_i = \\dfrac{(-1)^{i+1}}{(i+1)! (k-i)!}\\int\\limits_0^1 \\dfrac{(\\alpha-1)\\alpha(\\alpha+1)\\ldots(\\alpha+k)}{\\alpha+i}d\\alpha$$"
   ]
  },
  {
   "cell_type": "code",
   "execution_count": null,
   "id": "4ad92ea4-4026-414a-80b5-3b1ba3e12d70",
   "metadata": {},
   "outputs": [],
   "source": []
  }
 ],
 "metadata": {
  "kernelspec": {
   "display_name": "Python 3 (ipykernel)",
   "language": "python",
   "name": "python3"
  },
  "language_info": {
   "codemirror_mode": {
    "name": "ipython",
    "version": 3
   },
   "file_extension": ".py",
   "mimetype": "text/x-python",
   "name": "python",
   "nbconvert_exporter": "python",
   "pygments_lexer": "ipython3",
   "version": "3.11.5"
  }
 },
 "nbformat": 4,
 "nbformat_minor": 5
}
