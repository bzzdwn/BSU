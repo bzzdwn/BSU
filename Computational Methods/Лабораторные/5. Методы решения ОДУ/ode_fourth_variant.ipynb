{
 "cells": [
  {
   "cell_type": "markdown",
   "id": "921c367b-30c0-4c00-9cce-83c8b73f9fe9",
   "metadata": {
    "jp-MarkdownHeadingCollapsed": true,
    "tags": []
   },
   "source": [
    "# 1"
   ]
  },
  {
   "cell_type": "markdown",
   "id": "b5b4cc62-0b4d-46d4-b7d0-9d1dffe2af0c",
   "metadata": {},
   "source": [
    "Построить метод вида $$y_{j+1} = A_0y_j + A_1 y_{j-1} + \\tau (B_0f_j + B_1f_{j-1})$$ максимально возможного порядка точности."
   ]
  },
  {
   "cell_type": "markdown",
   "id": "3367d392-75bf-4ee9-9011-1b793d55c9ca",
   "metadata": {},
   "source": [
    "Для того, чтобы построить метод такого вида максимального порядка точности, нам нужно разложить значения $y_{i}$ и $f_{i}$ по степеням $\\tau$. Мы ограничимся разложением до 3-ей степени, но при необходимости можно добавить еще членов разложения.\n",
    "\n",
    "Итак, $$y_{j+1} = u(t_j + \\tau) = u(t_j) + \\dfrac{\\tau}{1!}u'(t_j) + \\dfrac{\\tau^2}{2!}u''(t_j) + \\dfrac{\\tau^3}{3!}u'''(t_j) + O(\\tau^4) = u + \\tau u' + \\dfrac\\tau2 u'' + \\dfrac{\\tau^2}{6} u''' + O(\\tau^4);$$\n",
    "$$y_{j} = u(t_j) = u;$$\n",
    "$$y_{j-1} = u(t_j - \\tau) = u(t_j) - \\dfrac{\\tau}{1!}u'(t_j) + \\dfrac{\\tau^2}{2!}u''(t_j) - \\dfrac{\\tau^3}{3!}u'''(t_j) + O(\\tau^4) = u - \\tau u' + \\dfrac\\tau2 u'' - \\dfrac{\\tau^2}{6} u''' + O(\\tau^4);$$\n",
    "$$\\tau f_j = \\tau u'(t_j) = \\tau u';$$\n",
    "$$\\tau f_{j-1} = \\tau u'(t_j - \\tau) = \\tau \\left(u'(t_j) - \\dfrac{\\tau}{1!}u''(t_j) + \\dfrac{\\tau^2}{2!}u'''(t_j) + O(\\tau^3)\\right) = \\tau u' - \\tau^2u'' + \\dfrac{\\tau^3}{2}u''' + O(\\tau^4).$$\n",
    "Теперь подставим эти разложения в исходное уравнение для метода:\n",
    "\\begin{multline*}\n",
    "u + \\tau u' + \\dfrac\\tau2 u'' + \\dfrac{\\tau^2}{6} u''' + O(\\tau^4) = A_0 u + A_1 \\left(u - \\tau u' + \\dfrac\\tau2 u'' - \\dfrac{\\tau^2}{6} u'''\\right) + B_0 \\tau u' + B_1\\left(\\tau u'(t_j) - \\tau^2u'' + \\dfrac{\\tau^3}{2}u'''\\right).\n",
    "\\end{multline*}\n",
    "Приравняем коэффициенты при соответствующих степенях $u$:\n",
    "$$\n",
    "\\begin{cases}\n",
    "u: 1 = A_0 + A_1,\\\\\n",
    "u': \\tau = - \\tau A_1 + \\tau B_0 + \\tau B_1,\\\\\n",
    "u'': \\dfrac{\\tau^2}{2} = \\dfrac{\\tau^2}{2} A_1 - \\tau^2 B_1,\\\\\n",
    "u''': \\dfrac{\\tau^3}{6} = -\\dfrac{\\tau^3}{6} A_1 + \\dfrac{\\tau^3}{2} B_1.\n",
    "\\end{cases}\n",
    "$$\n",
    "Сократим на общие множители и получим систему\n",
    "$$\n",
    "\\begin{cases}\n",
    "1 = A_0 + A_1,\\\\\n",
    "1 = - A_1 + B_0 + B_1,\\\\\n",
    "1 = A_1 - 2 B_1,\\\\\n",
    "1= - A_1 + 3 B_1.\n",
    "\\end{cases}\n",
    "$$\n",
    "Сложим нижние два уравнения и получим\n",
    "$$B_1 = 2.$$\n",
    "Подставляя это значнеие в последнее уравнение и получим $$A_1 = 5.$$\n",
    "Из второго уравнения получим $$B_0=4.$$\n",
    "Из первого уравнения получим $$A_0 = -4.$$\n",
    "Подставляя эти значения в формулу для метода, получим метод вида\n",
    "$$y_{j+1} = -4y_j + 5 y_{j-1} + \\tau (4f_j + 2f_{j-1}).$$ "
   ]
  },
  {
   "cell_type": "markdown",
   "id": "78960f2c-7adc-4c26-8bc8-e81891ab6073",
   "metadata": {
    "jp-MarkdownHeadingCollapsed": true,
    "tags": []
   },
   "source": [
    "# 2"
   ]
  },
  {
   "cell_type": "markdown",
   "id": "c2920531-79ff-48e4-9458-ec61781f63bf",
   "metadata": {},
   "source": [
    "Определить порядок метода \n",
    "$$\n",
    "\\begin{cases}\n",
    "{y}_{j+1} = {y}_j + \\dfrac{\\tau}{6}\\left({f}_j + 4{f}_{j+\\frac12} + {f}_{j+1}\\right),\\\\\n",
    "{y}_{j+1} = {y}_j + \\tau{f}_{j+\\frac12},\\\\\n",
    "{y}_{j+\\frac12} = {y}_j + \\dfrac{\\tau}2{f}_{j}.\n",
    "\\end{cases}\n",
    "$$"
   ]
  },
  {
   "cell_type": "markdown",
   "id": "0fad1e7b-2dcb-4d4d-81e9-834b38207cff",
   "metadata": {},
   "source": [
    "Начиная с последнего уравнения, будем вычислять значение локальной погрешности, а для этого будем раскладывать обе часть равенства по степеням $\\tau$.\n",
    "\n",
    "Для третьего уравнения\n",
    "$$r(t_j,\\tau) = u\\left(t_j + \\dfrac\\tau 2\\right) - u(t_j) + \\dfrac\\tau2 u'(t_j) = u(t_j) + \\dfrac\\tau2 u'(t_j)  - u(t_j) - \\dfrac\\tau2 u(t_j) + O(\\tau^2) = O(\\tau^2).$$\n",
    "Для втрого уравнения\n",
    "$$r(t_j,\\tau) = u(t_j + \\tau) - u(t_j) - \\tau u'\\left(t_j + \\dfrac\\tau2\\right) = u(t_j) + \\tau u'(t_j) + \\dfrac{\\tau^2}{2} u''(t_j) - u(t_j) - \\tau u'(t_j) -\\dfrac{\\tau^2}{2}u''(t_j) + O(\\tau^3) = O(\\tau^3).$$\n",
    "Для первого уравнения\n",
    "\\begin{multline*}\n",
    "r(t_j,\\tau) = u(t_j + \\tau) - u(t_j) - \\dfrac\\tau6\\left(u'(t_j) + 4u'\\left(t_j + \\dfrac\\tau2\\right) + u'(t_j + \\tau)\\right) = \\\\ =\n",
    "u(t_j) + \\tau u'(t_j) + \\dfrac{\\tau^2}{2} u''(t_j) + \\dfrac{\\tau^3}{6} u'''(t_j) - u(t_j) - \\dfrac\\tau6 u'(t_j) - \\dfrac{4\\tau}{6} u'(t_j) - \\dfrac{4\\tau^2}{12} u''(t_j) -\\\\- \\dfrac{4\\tau^3}{48} u'''(t_j) - \\dfrac\\tau6 u'(t_j) - \\dfrac{\\tau^2}{6} u''(t_j) - \\dfrac{\\tau^3}{12} u'''(t_j) + O(\\tau^3)+ O(\\tau^4) = O(\\tau^3).\n",
    "\\end{multline*}\n",
    "\n",
    "Таким образом, метод имеет локальный порядок погрешности $r(t_j,\\tau) = O(\\tau^3)$, а погрешность метода $$\\psi(t_j, \\tau) = \\dfrac{r(t_j, \\tau)}{\\tau} = O(\\tau^2).$$"
   ]
  },
  {
   "cell_type": "markdown",
   "id": "b2dc7f37-6ce6-426e-910f-68117dc56a7b",
   "metadata": {
    "jp-MarkdownHeadingCollapsed": true,
    "tags": []
   },
   "source": [
    "# 3"
   ]
  },
  {
   "cell_type": "markdown",
   "id": "4962eca3-f36a-4e9c-9adf-a1360be10067",
   "metadata": {},
   "source": [
    "Найти интервал устойчивости метода \n",
    "$$\n",
    "\\begin{cases}\n",
    "{y}_{j+1} = {y}_j + \\dfrac{\\tau}{6}\\left({f}_j + 4{f}_{j+\\frac12} + {f}_{j+1}\\right),\\\\\n",
    "{y}_{j+1} = {y}_j + \\tau{f}_{j+\\frac12},\\\\\n",
    "{y}_{j+\\frac12} = {y}_j + \\dfrac{\\tau}2{f}_{j}.\n",
    "\\end{cases}\n",
    "$$"
   ]
  },
  {
   "cell_type": "markdown",
   "id": "da50fd7d-76f5-4ee5-a6b3-ccfde2bb4fd2",
   "metadata": {},
   "source": [
    "Для того, чтобы найти интервал устойчивости метода, воспользуемся модельным уравнением $$u'(t) = \\lambda u(t),\\ \\operatorname{Re}\\lambda < 0,\\ \\lambda \\in \\mathbb C.$$\n",
    "Тогда из него следует, что $$f_j = \\lambda y_{j}.$$\n",
    "Начиная с нижнего уравнения, подставляем эту замену в систему, также заменяя $z = \\lambda \\tau$, и получим\n",
    "$$y_{j+\\frac12} = y_j + \\dfrac\\tau 2 \\lambda y_j = y_j\\left(1 + \\dfrac z2\\right),$$\n",
    "$$y_{j+1} = y_j + \\tau \\lambda y_{j+\\frac12} = y_j + z y_j\\left(1 + \\dfrac z2\\right) = y_j \\left(1 + z + \\dfrac{z^2}{2}\\right),$$\n",
    "$$y_{j+1} = y_j + \\dfrac\\tau 6(\\lambda y_j + 4\\lambda y_{j+\\frac12} + \\lambda y_{j+1}) = y_j + \\dfrac z 6 y_j + \\dfrac{4z}{6} y_j\\left(1 + \\dfrac z2\\right) + \\dfrac z6 y_j \\left(1 + z + \\dfrac{z^2}{2}\\right) = y_j\\left(1 + z + \\dfrac{z^2}{2} + \\dfrac{z^3}{12}\\right).$$\n",
    "Для торго, чтобы метод был устойчив, необходимо выполнение условия $$\\left|1 + z + \\dfrac{z^2}{2} + \\dfrac{z^3}{12}\\right|<1.$$\n",
    "Раскрываем модуль и получаем систему неравенств\n",
    "$$\n",
    "\\begin{cases}\n",
    "1 + z + \\dfrac{z^2}{2} + \\dfrac{z^3}{12} < 1,\\\\\n",
    "1 + z + \\dfrac{z^2}{2} + \\dfrac{z^3}{12} > -1.\n",
    "\\end{cases}\n",
    "$$\n",
    "Найдем решение первого неравенства:\n",
    "$$1 + z + \\dfrac{z^2}{2} + \\dfrac{z^3}{12} < 1 \\Rightarrow z(z^2 + 6z + 12) < 0.$$\n",
    "Левая часть неравенства обращается в ноль при $z=0$, а множитель $(z^2 + 6z + 12)>0$. Тогда для выполнения неравенства необходимо, чтобы $$z<0.$$\n",
    "Найдем решение второго неравенства:\n",
    "$$1 + z + \\dfrac{z^2}{2} + \\dfrac{z^3}{12} > -1 \\Rightarrow z^3 + 6z^2 +12z + 24 > 0\\Rightarrow (z+2)^3 + 16 > 0 \\Rightarrow (z+2)^3 >-  16.$$\n",
    "Тогда, извлекая кубический корень и оставляя слева только $z$, получаем $$z > 2 - 2\\sqrt[3]2.$$\n",
    "Таким образом, интервал устойчивости метода равен $$z \\in ( 2 - 2\\sqrt[3]2, 0).$$"
   ]
  },
  {
   "cell_type": "markdown",
   "id": "dd2941e1-6cdf-4af0-8585-7d6156707003",
   "metadata": {
    "tags": []
   },
   "source": [
    "# 4"
   ]
  },
  {
   "cell_type": "markdown",
   "id": "896c94aa-fa59-4d8d-a068-2283dd4ab6fd",
   "metadata": {},
   "source": [
    "С заданной точностью $\\varepsilon = 10^{-4}$ найти решение задачи Коши с помощью:\n",
    "\n",
    "1. неявного метода трапеций;\n",
    "\n",
    "2. явного метода Рунге-Кутта второго порядка;\n",
    "\n",
    "3. экстраполяционного метода Адамса третьего порядка\n",
    "$$\\begin{cases} \n",
    "u_1'(x) = -10 u_1^2(x) + 4u_1(x) + 3u_2^2(x) + 0.875,\\\\\n",
    "u_2'(x) = 11 u_2^2(x) + (- 20u_1(x) + 4)\\cdot u_2(x) - 7.25,\\\\\n",
    "u_1(0) = 0.2,\\\\\n",
    "u_2(0) = 0.\n",
    "\\end{cases}$$"
   ]
  },
  {
   "cell_type": "code",
   "execution_count": 1,
   "id": "3f959fe7-3790-438a-b8c6-54fd6ca3222e",
   "metadata": {
    "tags": []
   },
   "outputs": [
    {
     "data": {
      "image/png": "[encoded data removed]",
      "text/plain": [
       "<Figure size 640x480 with 1 Axes>"
      ]
     },
     "metadata": {},
     "output_type": "display_data"
    }
   ],
   "source": [
    "import numpy as np\n",
    "import matplotlib.pyplot as plt\n",
    "\n",
    "def f(u, t):\n",
    "    u_1, u_2 = u\n",
    "    du_1dt = -10*u_1**2 + 4*u_1 + 3*u_2**2 + 0.875\n",
    "    du_2dt = 11*u_2**2 + (-20*u_1 + 4)*u_2 - 7.25\n",
    "    return np.array([du_1dt, du_2dt])\n",
    "\n",
    "u0 = [0.2, 0]\n",
    "t_start = 0\n",
    "t_end = 10\n",
    "\n",
    "def solution(t):\n",
    "    t = np.array(t)\n",
    "    y1 = 0.2 - 4.2*np.tanh(-7.*t) + 3.75 * np.tanh(-7.5*t)\n",
    "    y2 = -7. * np.tanh(-7.*t) + 7.5*np.tanh(-7.5*t)\n",
    "    return np.array([y1, y2]).T\n",
    "\n",
    "t = np.linspace(t_start, t_end, 1000)\n",
    "\n",
    "plt.plot(t, solution(t)[:, 0], label='u_1(t)')\n",
    "plt.plot(t, solution(t)[:, 1], label='u_2(t)')\n",
    "plt.grid(True)\n",
    "plt.xlabel('t')\n",
    "plt.ylabel('u(t)')\n",
    "plt.legend()\n",
    "plt.show()"
   ]
  },
  {
   "cell_type": "markdown",
   "id": "d5e768d4-14d7-43f2-8bcc-bb789026541a",
   "metadata": {
    "tags": []
   },
   "source": [
    "Неявный метод трапеций:\n",
    "$$y_{j+1} = y_j + \\dfrac h2 (f_j + f_{j+1}).$$\n",
    "По МПИ\n",
    "$$y^{k+1}_{j+1} = y_j + \\dfrac h2 (f_j + f(t_j + h, y_{j+1}^k)),\\ y^0_{j+1} = y_j.$$"
   ]
  },
  {
   "cell_type": "code",
   "execution_count": 2,
   "id": "fec29dc1-c7bc-404c-9643-5347a86743e9",
   "metadata": {
    "tags": []
   },
   "outputs": [
    {
     "name": "stdout",
     "output_type": "stream",
     "text": [
      "Отклонение от аналитического решения: 3.2954440454258105e-07\n"
     ]
    },
    {
     "data": {
      "image/png": "[encoded data removed]",
      "text/plain": [
       "<Figure size 640x480 with 1 Axes>"
      ]
     },
     "metadata": {},
     "output_type": "display_data"
    }
   ],
   "source": [
    "def trapezoids(f, y0, t_start, t_end, epsilon):\n",
    "    y = [np.array(y0)]\n",
    "    t = t_start\n",
    "    nodes = [t_start]\n",
    "    j = 0\n",
    "    h1 = epsilon**(1/2)\n",
    "    k = 1.005\n",
    "    while True:\n",
    "         \n",
    "        while True:\n",
    "            y_h1_k = y[j]\n",
    "            y_h1 = y[j]\n",
    "            while True:\n",
    "                y_h1 = y[j] + h1/2 * (f(y[j], t) + f(y_h1_k, t+h1))\n",
    "                if np.max(np.absolute(y_h1 - y_h1_k)) < epsilon * 1e-2:\n",
    "                    break\n",
    "                y_h1_k = y_h1\n",
    "            \n",
    "            h2 = h1/2\n",
    "            y_h2_k = y[j]\n",
    "            y_h2 = y[j]\n",
    "            while True:\n",
    "                y_h2 = y[j] + h2/2 * (f(y[j], t) + f(y_h2_k, t+h2))\n",
    "                if np.max(np.absolute(y_h2 - y_h2_k)) < epsilon * 1e-2:\n",
    "                    break\n",
    "                y_h2_k = y_h2\n",
    "            \n",
    "            if np.max(y_h2 - y_h1) / (1 - (h2 / h1)**2) < epsilon:\n",
    "                y.append(y_h1)\n",
    "                break \n",
    "            else:\n",
    "                h1 /= 2\n",
    "                \n",
    "        j += 1\n",
    "        if t + h1 > t_end: \n",
    "            nodes.append(t_end) \n",
    "            break\n",
    "        else:\n",
    "            t += h1 \n",
    "            nodes.append(t)\n",
    "            h1 *= k\n",
    "    \n",
    "    return np.stack(y, axis=0), nodes\n",
    "\n",
    "sol, nodes = trapezoids(f, u0, t_start, t_end, 1e-4)\n",
    "\n",
    "print('Отклонение от аналитического решения:', np.max(np.absolute(sol - solution(nodes))))\n",
    "\n",
    "plt.plot(nodes, sol[:, 0], label='u_1(t)')\n",
    "plt.plot(nodes, sol[:, 1], label='u_2(t)')\n",
    "plt.grid(True)\n",
    "plt.xlabel('t')\n",
    "plt.ylabel('u(t)')\n",
    "plt.legend()\n",
    "plt.show()"
   ]
  },
  {
   "cell_type": "markdown",
   "id": "25d1650a-0af4-4bc1-9c6a-605f0e8940a3",
   "metadata": {},
   "source": [
    "Метод Рунге-Кутта 2-го порядка\n",
    "$$\\begin{cases}\n",
    "\t\t\t\ty_{j+1} = y_j + \\dfrac14 (\\varphi_0 + 3\\varphi_1),\\\\\n",
    "\t\t\t\t\\varphi_0 = hf_j,\\\\\n",
    "\t\t\t\t\\varphi_1 = hf\\left(x_j + \\dfrac23 h, y_j + \\dfrac23 \\varphi_0\\right);\n",
    "\t\t\t\\end{cases}$$"
   ]
  },
  {
   "cell_type": "code",
   "execution_count": 3,
   "id": "68f3bb1e-f956-4902-977e-cac8394718eb",
   "metadata": {
    "tags": []
   },
   "outputs": [
    {
     "name": "stdout",
     "output_type": "stream",
     "text": [
      "Отклонение от аналитического решения: 9.573832315767916e-05\n"
     ]
    },
    {
     "data": {
      "image/png": "[encoded data removed]",
      "text/plain": [
       "<Figure size 640x480 with 1 Axes>"
      ]
     },
     "metadata": {},
     "output_type": "display_data"
    }
   ],
   "source": [
    "def runge_kutta2(f, y0, t_start, t_end, epsilon):\n",
    "    y = [np.array(y0)]\n",
    "    t = t_start\n",
    "    nodes = [t_start]\n",
    "    j = 0\n",
    "    h_current = epsilon**(1/2)\n",
    "    k = 1.005\n",
    "    while True:\n",
    "        \n",
    "        while True:\n",
    "            phi_0 = h_current * f(y[j], t)\n",
    "            phi_1 = h_current * f(y[j] + 2/3 * phi_0, t + 2/3 * h_current)\n",
    "            y_current = y[j] + 1/4 * (phi_0 + 3*phi_1)\n",
    "            \n",
    "            h_new = h_current / 2\n",
    "            phi_0_new = h_new * f(y[j], t)\n",
    "            phi_1_new = h_new * f(y[j] + 2/3 * phi_0_new, t + 2/3 * h_new)\n",
    "            y_new = y[j] + 1/4 * (phi_0 + 3*phi_1)\n",
    "            \n",
    "            if np.max(y_new - y_current) / (1 - (h_new / h_current)**2) < epsilon:\n",
    "                y.append(y_current)\n",
    "                break \n",
    "            else:\n",
    "                h_current /= 2\n",
    "                \n",
    "        j += 1\n",
    "        if t + h_current > t_end: \n",
    "            nodes.append(t_end) \n",
    "            break\n",
    "        else:\n",
    "            t += h_current \n",
    "            nodes.append(t)\n",
    "            h_current *= k\n",
    "    \n",
    "    return np.stack(y, axis=0), nodes\n",
    "\n",
    "sol, nodes = runge_kutta2(f, u0, t_start, t_end, 1e-5)\n",
    "\n",
    "print('Отклонение от аналитического решения:', np.max(np.absolute(sol - solution(nodes))))\n",
    "\n",
    "plt.plot(nodes, sol[:, 0], label='u_1(t)')\n",
    "plt.plot(nodes, sol[:, 1], label='u_2(t)')\n",
    "plt.grid(True)\n",
    "plt.xlabel('t')\n",
    "plt.ylabel('u(t)')\n",
    "plt.legend()\n",
    "plt.show()"
   ]
  },
  {
   "cell_type": "markdown",
   "id": "d7103364-ca36-462d-bbd2-96aa9e11102f",
   "metadata": {},
   "source": [
    "Экстраполяционный метод Адамса 3-его порядка\n",
    "$$y_{j+1} = y_j + \\dfrac{h}{12} (23 f_j - 16 f_{j-1} +5f_{j-2}),$$\n",
    "$y_1, y_2$ возьмем из метода Рунге-Кутты 3-его порядка $$\\begin{cases}\n",
    "y_{j+1} = y_j + \\dfrac14 (\\varphi_0 + 3\\varphi_2),\\\\\n",
    "\\varphi_0 = hf(x_j, y_j),\\\\\n",
    "\\varphi_1 = hf\\left(x_j + \\dfrac13h, y_j + \\dfrac13 \\varphi_0\\right),\\\\\n",
    "\\varphi_2 = hf\\left(x_j + \\dfrac23h, y_j + \\dfrac23\\varphi_1\\right).\n",
    "\\end{cases}$$"
   ]
  },
  {
   "cell_type": "code",
   "execution_count": 4,
   "id": "c17395ff-b8e5-4a51-a623-ade13ae44a4e",
   "metadata": {
    "tags": []
   },
   "outputs": [
    {
     "name": "stdout",
     "output_type": "stream",
     "text": [
      "Отклонение от аналитического решения: 1.9319114963334272e-07\n"
     ]
    },
    {
     "data": {
      "image/png": "[encoded data removed]",
      "text/plain": [
       "<Figure size 640x480 with 1 Axes>"
      ]
     },
     "metadata": {},
     "output_type": "display_data"
    }
   ],
   "source": [
    "def runge_kutta3(f, y0, t_start, t_end, epsilon):\n",
    "    y = [np.array(y0)]\n",
    "    t = t_start\n",
    "    nodes = [t_start]\n",
    "    j = 0\n",
    "    h1 = epsilon**(1/2)\n",
    "    k = 1.005\n",
    "    while True:\n",
    "        \n",
    "        while True:\n",
    "            phi_0 = h1 * f(y[j], t)\n",
    "            phi_1 = h1 * f(y[j] + 1/3 * phi_0, t + 1/3 * h1)\n",
    "            phi_2 = h1 * f(y[j] + 2/3 * phi_1, t + 2/3 * h1)\n",
    "            y_h1 = y[j] + 1/4 * (phi_0 + 3*phi_2)\n",
    "            \n",
    "            h2 = h1 / 2\n",
    "            phi_0 = h2 * f(y[j], t)\n",
    "            phi_1 = h2 * f(y[j] + 1/3 * phi_0, t + 1/3 * h2)\n",
    "            phi_2 = h2 * f(y[j] + 2/3 * phi_1, t + 2/3 * h2)\n",
    "            y_h2 = y[j] + 1/4 * (phi_0 + 3*phi_2)\n",
    "            \n",
    "            if np.max(y_h2 - y_h1) / (1 - (h2 / h1)**3) < epsilon:\n",
    "                y.append(y_h1)\n",
    "                break \n",
    "            else:\n",
    "                h1 /= 2\n",
    "                \n",
    "        j += 1\n",
    "        if t + h1 > t_end: \n",
    "            nodes.append(t_end) \n",
    "            break\n",
    "        else:\n",
    "            t += h1 \n",
    "            nodes.append(t)\n",
    "            h1 *= k\n",
    "    \n",
    "    return np.stack(y, axis=0), nodes\n",
    "\n",
    "def adams(f, y0, t_start, t_end, epsilon):\n",
    "    y = y0.tolist()\n",
    "    t = t_start[-1]\n",
    "    nodes = t_start\n",
    "    j = 3\n",
    "    h1 = epsilon**(1/2)\n",
    "    k = 1.005\n",
    "    while True:\n",
    "        \n",
    "        while True:\n",
    "            y_h1 = y[j] + h1 / 12 * (23 * f(y[j], nodes[j]) - 16 * f(y[j-1], nodes[j-1]) + 5 * f(y[j-2], nodes[j-2]))\n",
    "            \n",
    "            h2 = h1 / 2\n",
    "            \n",
    "            y_h2 = y[j] + h2 / 12 * (23 * f(y[j], nodes[j]) - 16 * f(y[j-1], nodes[j-1]) + 5 * f(y[j-2], nodes[j-2]))\n",
    "\n",
    "            if np.max(y_h2 - y_h1) / (1 - (h2 / h1)**4) < epsilon:\n",
    "                y.append(y_h1)\n",
    "                break \n",
    "            else:\n",
    "                h1 /= 2\n",
    "                \n",
    "        j += 1\n",
    "        if t + h1 > t_end: \n",
    "            nodes.append(t_end) \n",
    "            break\n",
    "        else:\n",
    "            t += h1 \n",
    "            nodes.append(t)\n",
    "            h1 *= k\n",
    "    \n",
    "    return np.stack(y, axis=0), nodes\n",
    "\n",
    "sol, nodes = runge_kutta3(f, u0, t_start, t_end, 1e-4)\n",
    "sol2, nodes2 = adams(f, sol[:4], nodes[:4], t_end, 1e-4)\n",
    "print('Отклонение от аналитического решения:', np.max(np.absolute(sol2 - solution(nodes2))))\n",
    "\n",
    "plt.plot(nodes2, sol2[:, 0], label='u_1(t)')\n",
    "plt.plot(nodes2, sol2[:, 1], label='u_2(t)')\n",
    "plt.grid(True)\n",
    "plt.xlabel('t')\n",
    "plt.ylabel('u(t)')\n",
    "plt.legend()\n",
    "plt.show()"
   ]
  }
 ],
 "metadata": {
  "kernelspec": {
   "display_name": "Python 3 (ipykernel)",
   "language": "python",
   "name": "python3"
  },
  "language_info": {
   "codemirror_mode": {
    "name": "ipython",
    "version": 3
   },
   "file_extension": ".py",
   "mimetype": "text/x-python",
   "name": "python",
   "nbconvert_exporter": "python",
   "pygments_lexer": "ipython3",
   "version": "3.11.5"
  }
 },
 "nbformat": 4,
 "nbformat_minor": 5
}
