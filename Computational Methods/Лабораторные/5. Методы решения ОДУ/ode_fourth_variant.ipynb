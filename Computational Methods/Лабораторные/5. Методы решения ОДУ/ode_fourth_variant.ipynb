{
 "cells": [
  {
   "cell_type": "markdown",
   "id": "ed13cfe1-b7c2-4f5e-a5b7-4ef5df5f6e29",
   "metadata": {},
   "source": [
    "# Методы решения обыкновенных дифференциальных уравнений"
   ]
  },
  {
   "cell_type": "markdown",
   "id": "921c367b-30c0-4c00-9cce-83c8b73f9fe9",
   "metadata": {
    "jp-MarkdownHeadingCollapsed": true,
    "tags": []
   },
   "source": [
    "# Задача 1"
   ]
  },
  {
   "cell_type": "markdown",
   "id": "b5b4cc62-0b4d-46d4-b7d0-9d1dffe2af0c",
   "metadata": {},
   "source": [
    "Построить метод вида $$y_{j+1} = A_0y_j + A_1 y_{j-1} + \\tau (B_0f_j + B_1f_{j-1})$$ максимально возможного порядка точности."
   ]
  },
  {
   "cell_type": "markdown",
   "id": "3367d392-75bf-4ee9-9011-1b793d55c9ca",
   "metadata": {},
   "source": [
    "Для того, чтобы построить метод такого вида максимального порядка точности, нам нужно разложить значения $y_{i}$ и $f_{i}$ по степеням $\\tau$. Мы ограничимся разложением до 3-ей степени, но при необходимости можно добавить еще членов разложения.\n",
    "\n",
    "Итак, $$y_{j+1} = u(t_j + \\tau) = u(t_j) + \\dfrac{\\tau}{1!}u'(t_j) + \\dfrac{\\tau^2}{2!}u''(t_j) + \\dfrac{\\tau^3}{3!}u'''(t_j) + O(\\tau^4) = u + \\tau u' + \\dfrac\\tau2 u'' + \\dfrac{\\tau^2}{6} u''' + O(\\tau^4);$$\n",
    "$$y_{j} = u(t_j) = u;$$\n",
    "$$y_{j-1} = u(t_j - \\tau) = u(t_j) - \\dfrac{\\tau}{1!}u'(t_j) + \\dfrac{\\tau^2}{2!}u''(t_j) - \\dfrac{\\tau^3}{3!}u'''(t_j) + O(\\tau^4) = u - \\tau u' + \\dfrac\\tau2 u'' - \\dfrac{\\tau^2}{6} u''' + O(\\tau^4);$$\n",
    "$$\\tau f_j = \\tau u'(t_j) = \\tau u';$$\n",
    "$$\\tau f_{j-1} = \\tau u'(t_j - \\tau) = \\tau \\left(u'(t_j) - \\dfrac{\\tau}{1!}u''(t_j) + \\dfrac{\\tau^2}{2!}u'''(t_j) + O(\\tau^3)\\right) = \\tau u' - \\tau^2u'' + \\dfrac{\\tau^3}{2}u''' + O(\\tau^4).$$\n",
    "Теперь подставим эти разложения в исходное уравнение для метода:\n",
    "\\begin{multline*}\n",
    "u + \\tau u' + \\dfrac\\tau2 u'' + \\dfrac{\\tau^2}{6} u''' + O(\\tau^4) = A_0 u + A_1 \\left(u - \\tau u' + \\dfrac\\tau2 u'' - \\dfrac{\\tau^2}{6} u'''\\right) + B_0 \\tau u' + B_1\\left(\\tau u'(t_j) - \\tau^2u'' + \\dfrac{\\tau^3}{2}u'''\\right).\n",
    "\\end{multline*}\n",
    "Приравняем коэффициенты при соответствующих степенях $u$:\n",
    "$$\n",
    "\\begin{cases}\n",
    "u: 1 = A_0 + A_1,\\\\\n",
    "u': \\tau = - \\tau A_1 + \\tau B_0 + \\tau B_1,\\\\\n",
    "u'': \\dfrac{\\tau^2}{2} = \\dfrac{\\tau^2}{2} A_1 - \\tau^2 B_1,\\\\\n",
    "u''': \\dfrac{\\tau^3}{6} = -\\dfrac{\\tau^3}{6} A_1 + \\dfrac{\\tau^3}{2} B_1.\n",
    "\\end{cases}\n",
    "$$\n",
    "Сократим на общие множители и получим систему\n",
    "$$\n",
    "\\begin{cases}\n",
    "1 = A_0 + A_1,\\\\\n",
    "1 = - A_1 + B_0 + B_1,\\\\\n",
    "1 = A_1 - 2 B_1,\\\\\n",
    "1= - A_1 + 3 B_1.\n",
    "\\end{cases}\n",
    "$$\n",
    "Сложим нижние два уравнения и получим\n",
    "$$B_1 = 2.$$\n",
    "Подставляя это значнеие в последнее уравнение и получим $$A_1 = 5.$$\n",
    "Из второго уравнения получим $$B_0=4.$$\n",
    "Из первого уравнения получим $$A_0 = -4.$$\n",
    "Подставляя эти значения в формулу для метода, получим метод вида\n",
    "$$y_{j+1} = -4y_j + 5 y_{j-1} + \\tau (4f_j + 2f_{j-1}).$$ "
   ]
  },
  {
   "cell_type": "markdown",
   "id": "78960f2c-7adc-4c26-8bc8-e81891ab6073",
   "metadata": {
    "jp-MarkdownHeadingCollapsed": true,
    "tags": []
   },
   "source": [
    "# Задача 2"
   ]
  },
  {
   "cell_type": "markdown",
   "id": "c2920531-79ff-48e4-9458-ec61781f63bf",
   "metadata": {},
   "source": [
    "Определить порядок метода \n",
    "$$\n",
    "\\begin{cases}\n",
    "{y}_{j+1} = {y}_j + \\dfrac{\\tau}{6}\\left({f}_j + 4{f}_{j+\\frac12} + {f}_{j+1}\\right),\\\\\n",
    "{y}_{j+1} = {y}_j + \\tau{f}_{j+\\frac12},\\\\\n",
    "{y}_{j+\\frac12} = {y}_j + \\dfrac{\\tau}2{f}_{j}.\n",
    "\\end{cases}\n",
    "$$"
   ]
  },
  {
   "cell_type": "markdown",
   "id": "0fad1e7b-2dcb-4d4d-81e9-834b38207cff",
   "metadata": {},
   "source": [
    "Начиная с последнего уравнения, будем вычислять значение локальной погрешности, а для этого будем раскладывать обе часть равенства по степеням $\\tau$.\n",
    "\n",
    "Для третьего уравнения\n",
    "$$r(t_j,\\tau) = u\\left(t_j + \\dfrac\\tau 2\\right) - u(t_j) + \\dfrac\\tau2 u'(t_j) = u(t_j) + \\dfrac\\tau2 u'(t_j)  - u(t_j) - \\dfrac\\tau2 u(t_j) + O(\\tau^2) = O(\\tau^2).$$\n",
    "Для втрого уравнения\n",
    "$$r(t_j,\\tau) = u(t_j + \\tau) - u(t_j) - \\tau u'\\left(t_j + \\dfrac\\tau2\\right) = u(t_j) + \\tau u'(t_j) + \\dfrac{\\tau^2}{2} u''(t_j) - u(t_j) - \\tau u'(t_j) -\\dfrac{\\tau^2}{2}u''(t_j) + O(\\tau^3) = O(\\tau^3).$$\n",
    "Для первого уравнения\n",
    "\\begin{multline*}\n",
    "r(t_j,\\tau) = u(t_j + \\tau) - u(t_j) - \\dfrac\\tau6\\left(u'(t_j) + 4u'\\left(t_j + \\dfrac\\tau2\\right) + u'(t_j + \\tau)\\right) = \\\\ =\n",
    "u(t_j) + \\tau u'(t_j) + \\dfrac{\\tau^2}{2} u''(t_j) + \\dfrac{\\tau^3}{6} u'''(t_j) - u(t_j) - \\dfrac\\tau6 u'(t_j) - \\dfrac{4\\tau}{6} u'(t_j) - \\dfrac{4\\tau^2}{12} u''(t_j) -\\\\- \\dfrac{4\\tau^3}{48} u'''(t_j) - \\dfrac\\tau6 u'(t_j) - \\dfrac{\\tau^2}{6} u''(t_j) - \\dfrac{\\tau^3}{12} u'''(t_j) + O(\\tau^3)+ O(\\tau^4) = O(\\tau^3).\n",
    "\\end{multline*}\n",
    "\n",
    "Таким образом, метод имеет локальный порядок погрешности $r(t_j,\\tau) = O(\\tau^3)$, а погрешность метода $$\\psi(t_j, \\tau) = \\dfrac{r(t_j, \\tau)}{\\tau} = O(\\tau^2).$$"
   ]
  },
  {
   "cell_type": "markdown",
   "id": "b2dc7f37-6ce6-426e-910f-68117dc56a7b",
   "metadata": {
    "jp-MarkdownHeadingCollapsed": true,
    "tags": []
   },
   "source": [
    "# Задача 3"
   ]
  },
  {
   "cell_type": "markdown",
   "id": "4962eca3-f36a-4e9c-9adf-a1360be10067",
   "metadata": {},
   "source": [
    "Найти интервал устойчивости метода \n",
    "$$\n",
    "\\begin{cases}\n",
    "{y}_{j+1} = {y}_j + \\dfrac{\\tau}{6}\\left({f}_j + 4{f}_{j+\\frac12} + {f}_{j+1}\\right),\\\\\n",
    "{y}_{j+1} = {y}_j + \\tau{f}_{j+\\frac12},\\\\\n",
    "{y}_{j+\\frac12} = {y}_j + \\dfrac{\\tau}2{f}_{j}.\n",
    "\\end{cases}\n",
    "$$"
   ]
  },
  {
   "cell_type": "markdown",
   "id": "da50fd7d-76f5-4ee5-a6b3-ccfde2bb4fd2",
   "metadata": {},
   "source": [
    "Для того, чтобы найти интервал устойчивости метода, воспользуемся модельным уравнением $$u'(t) = \\lambda u(t),\\ \\operatorname{Re}\\lambda < 0,\\ \\lambda \\in \\mathbb C.$$\n",
    "Тогда из него следует, что $$f_j = \\lambda y_{j}.$$\n",
    "Начиная с нижнего уравнения, подставляем эту замену в систему, также заменяя $z = \\lambda \\tau$, и получим\n",
    "$$y_{j+\\frac12} = y_j + \\dfrac\\tau 2 \\lambda y_j = y_j\\left(1 + \\dfrac z2\\right),$$\n",
    "$$y_{j+1} = y_j + \\tau \\lambda y_{j+\\frac12} = y_j + z y_j\\left(1 + \\dfrac z2\\right) = y_j \\left(1 + z + \\dfrac{z^2}{2}\\right),$$\n",
    "$$y_{j+1} = y_j + \\dfrac\\tau 6(\\lambda y_j + 4\\lambda y_{j+\\frac12} + \\lambda y_{j+1}) = y_j + \\dfrac z 6 y_j + \\dfrac{4z}{6} y_j\\left(1 + \\dfrac z2\\right) + \\dfrac z6 y_j \\left(1 + z + \\dfrac{z^2}{2}\\right) = y_j\\left(1 + z + \\dfrac{z^2}{2} + \\dfrac{z^3}{12}\\right).$$\n",
    "Для торго, чтобы метод был устойчив, необходимо выполнение условия $$\\left|1 + z + \\dfrac{z^2}{2} + \\dfrac{z^3}{12}\\right|<1.$$\n",
    "Раскрываем модуль и получаем систему неравенств\n",
    "$$\n",
    "\\begin{cases}\n",
    "1 + z + \\dfrac{z^2}{2} + \\dfrac{z^3}{12} < 1,\\\\\n",
    "1 + z + \\dfrac{z^2}{2} + \\dfrac{z^3}{12} > -1.\n",
    "\\end{cases}\n",
    "$$\n",
    "Найдем решение первого неравенства:\n",
    "$$1 + z + \\dfrac{z^2}{2} + \\dfrac{z^3}{12} < 1 \\Rightarrow z(z^2 + 6z + 12) < 0.$$\n",
    "Левая часть неравенства обращается в ноль при $z=0$, а множитель $(z^2 + 6z + 12)>0$. Тогда для выполнения неравенства необходимо, чтобы $$z<0.$$\n",
    "Найдем решение второго неравенства:\n",
    "$$1 + z + \\dfrac{z^2}{2} + \\dfrac{z^3}{12} > -1 \\Rightarrow z^3 + 6z^2 +12z + 24 > 0\\Rightarrow (z+2)^3 + 16 > 0 \\Rightarrow (z+2)^3 >-  16.$$\n",
    "Тогда, извлекая кубический корень и оставляя слева только $z$, получаем $$z > 2 - 2\\sqrt[3]2.$$\n",
    "Таким образом, интервал устойчивости метода равен $$z \\in ( 2 - 2\\sqrt[3]2, 0).$$"
   ]
  },
  {
   "cell_type": "markdown",
   "id": "dd2941e1-6cdf-4af0-8585-7d6156707003",
   "metadata": {
    "tags": []
   },
   "source": [
    "# Задача 4"
   ]
  },
  {
   "cell_type": "markdown",
   "id": "896c94aa-fa59-4d8d-a068-2283dd4ab6fd",
   "metadata": {},
   "source": [
    "С заданной точностью $\\varepsilon = 10^{-4}$ найти решение задачи Коши с помощью:\n",
    "\n",
    "1. неявного метода трапеций;\n",
    "\n",
    "2. явного метода Рунге-Кутта второго порядка;\n",
    "\n",
    "3. экстраполяционного метода Адамса третьего порядка\n",
    "$$\\begin{cases} \n",
    "u_1'(x) = -10 u_1^2(x) + 4u_1(x) + 3u_2^2(x) + 0.875,\\\\\n",
    "u_2'(x) = 11 u_2^2(x) + (- 20u_1(x) + 4)\\cdot u_2(x) - 7.25,\\\\\n",
    "u_1(0) = 0.2,\\\\\n",
    "u_2(0) = 0.\n",
    "\\end{cases}$$"
   ]
  },
  {
   "cell_type": "code",
   "execution_count": 273,
   "id": "9d50fe77-726b-44fa-822a-ad5b1df09d7b",
   "metadata": {
    "tags": []
   },
   "outputs": [],
   "source": [
    "import numpy as np\n",
    "\n",
    "# Дифференциальная модель\n",
    "def model(u, t):\n",
    "    u_1, u_2 = u\n",
    "    du_1dt = -10*u_1**2 + 4*u_1 + 3*u_2**2 + 0.875\n",
    "    du_2dt = 11*u_2**2 + (-20*u_1 + 4)*u_2 - 7.25\n",
    "    return np.array([du_1dt, du_2dt])\n",
    "\n",
    "# Задача Коши\n",
    "u0_1 = 0.2\n",
    "u0_2 = 0\n",
    "\n",
    "# Сетка узлов\n",
    "t_start = 0\n",
    "t_end = 1\n",
    "N = 100\n",
    "t = np.linspace(t_start, t_end, N)"
   ]
  },
  {
   "cell_type": "markdown",
   "id": "d5e768d4-14d7-43f2-8bcc-bb789026541a",
   "metadata": {
    "tags": []
   },
   "source": [
    "## Явный метод трапеций\n",
    "Формула явного метода трапеций записывается в следующем виде\n",
    "$$\\begin{cases}\n",
    "{y}_{j+1} = {y}_j + h{f}_j,\\\\\n",
    "{y}_{j+1} = {y}_j + \\dfrac{h}{2}\\left({f}_j + {f}_{j+1}\\right). \n",
    "\\end{cases}$$"
   ]
  },
  {
   "cell_type": "code",
   "execution_count": 300,
   "id": "fec29dc1-c7bc-404c-9643-5347a86743e9",
   "metadata": {
    "tags": []
   },
   "outputs": [],
   "source": [
    "def adaptive_trapezoids_integrate(f, y0, t, epsilon):\n",
    "    d = len(f(y0, t[0]))\n",
    "    N = t.size\n",
    "    y = np.zeros((N, d))\n",
    "    y[0] = y0\n",
    "    h = t[1] - t[0]  # Исходный шаг\n",
    "    for j in range(N-1):\n",
    "        # Текущий шаг\n",
    "        h_current = h\n",
    "        while True:\n",
    "            # Расчет значений по методу трапеций с текущим шагом\n",
    "            y_high = y[j] + h_current * f(y[j], t[j])\n",
    "            y_high = y[j] + h_current/2 * (f(y[j], t[j]) + f(y_high, t[j+1]))\n",
    "            \n",
    "            # Расчет значений по методу трапеций с половинным шагом\n",
    "            h_half = 0.5 * h_current\n",
    "            y_low = y[j] + h_half * f(y[j], t[j])\n",
    "            y_low = y[j] + h_half/2 * (f(y[j], t[j]) + f(y_low, t[j+1]))\n",
    "            \n",
    "            # Оценка погрешности\n",
    "            error = np.max(np.abs(y_high - y_low))\n",
    "            \n",
    "            # Проверка достижения заданной точности\n",
    "            if error <= epsilon:\n",
    "                # Принимаем решение с текущим шагом\n",
    "                y[j+1] = y_high\n",
    "                break\n",
    "            else:\n",
    "                # Уменьшаем шаг и повторяем расчеты\n",
    "                h_current *= 0.5\n",
    "        \n",
    "        # Обновление шага для следующей итерации\n",
    "        h = h_current\n",
    "    \n",
    "    return y"
   ]
  },
  {
   "cell_type": "code",
   "execution_count": 295,
   "id": "9cdc251d-2777-432e-9e2c-89aea6486888",
   "metadata": {
    "tags": []
   },
   "outputs": [],
   "source": [
    "def trapezoids_integrate(f, y0, t):\n",
    "    d = len(f(y0, t[0]))\n",
    "    N = t.size\n",
    "    y = np.zeros((N, d))\n",
    "    y[0] = y0\n",
    "    for j in range(N-1):\n",
    "        h = t[j+1] - t[j]\n",
    "        y[j+1] = y[j] + h * f(y[j], t[j])\n",
    "        y[j+1] = y[j] + h/2 * (f(y[j], t[j]) + f(y[j+1], t[j+1]))\n",
    "    return y"
   ]
  },
  {
   "cell_type": "code",
   "execution_count": 301,
   "id": "e02e40cb-7774-4217-834f-aabfc7ede696",
   "metadata": {
    "tags": []
   },
   "outputs": [],
   "source": [
    "u0 = [u0_1, u0_2]\n",
    "sol = adaptive_trapezoids_integrate(model, u0, t, 1e-4)"
   ]
  },
  {
   "cell_type": "code",
   "execution_count": 302,
   "id": "24b6deb2-0040-418f-83d6-d6250d305899",
   "metadata": {
    "tags": []
   },
   "outputs": [
    {
     "data": {
      "image/png": "[encoded data removed]",
      "text/plain": [
       "<Figure size 1600x800 with 1 Axes>"
      ]
     },
     "metadata": {},
     "output_type": "display_data"
    }
   ],
   "source": [
    "plt.figure(figsize=(16, 8))\n",
    "plt.plot(t, sol[:, 0], label='u_1(t)')\n",
    "plt.plot(t, sol[:, 1], label='u_2(t)')\n",
    "plt.grid(True)\n",
    "plt.xlabel('t')\n",
    "plt.ylabel('u(t)')\n",
    "plt.legend()\n",
    "plt.show()"
   ]
  },
  {
   "cell_type": "markdown",
   "id": "25d1650a-0af4-4bc1-9c6a-605f0e8940a3",
   "metadata": {},
   "source": [
    "## Метод Рунге-Кутта 3-его порядка\n",
    "Формула метода записывается в виде\n",
    "$$\\begin{cases}\n",
    "y_{j+1} = y_j + \\dfrac14 (\\varphi_0 + 3\\varphi_2),\\\\\n",
    "\\varphi_0 = hf(x_j, y_j),\\\\\n",
    "\\varphi_1 = hf\\left(x_j + \\dfrac13h, y_j + \\dfrac13 \\varphi_0\\right),\\\\\n",
    "\\varphi_2 = hf\\left(x_j + \\dfrac23h, y_j + \\dfrac23\\varphi_1\\right).\n",
    "\\end{cases}$$"
   ]
  },
  {
   "cell_type": "code",
   "execution_count": 230,
   "id": "8c438e0c-fb0e-483b-9a77-a5815466636f",
   "metadata": {
    "tags": []
   },
   "outputs": [],
   "source": [
    "def third_order_runge_kutta(f, y0, t, epsilon):\n",
    "    d = len(f(y0, t[0]))\n",
    "    N = t.size\n",
    "    y = np.zeros((N, d))\n",
    "    y[0] = y0\n",
    "    h = t[1] - t[0]\n",
    "    \n",
    "    for j in range(N-1):\n",
    "        h_current = h\n",
    "        \n",
    "        while True:\n",
    "            phi_0 = h_current * f(y[j], t[j])\n",
    "            phi_1 = h_current * f(y[j] + 1/3 * phi_0, t[j] + 1/3 * h)\n",
    "            phi_2 = h_current * f(y[j] + 2/3 * phi_1, t[j] + 2/3 * h)\n",
    "            y_current = y[j] + 1/4 * (phi_0 + 3*phi_2)\n",
    "\n",
    "            h_new = h_current / 2\n",
    "            phi_0_new = h_new * f(y[j], t[j])\n",
    "            phi_1_new = h_new * f(y[j] + 1/3 * phi_0_new, t[j] + 1/3 * h_new)\n",
    "            phi_2_new = h_new * f(y[j] + 2/3 * phi_1_new, t[j] + 2/3 * h_new)\n",
    "            y_new = y[j] + 1/4 * (phi_0 + 3*phi_2)\n",
    "        \n",
    "            error = np.max(np.abs(y_current - y_new))\n",
    "\n",
    "            if error <= epsilon:\n",
    "                y[j+1] = y_current\n",
    "                break\n",
    "            else:\n",
    "                h_current = h_current / 2\n",
    "\n",
    "        h = h_current\n",
    "    return y"
   ]
  },
  {
   "cell_type": "code",
   "execution_count": 292,
   "id": "378a97e5-39d8-40b6-8a95-a0692e75e4e5",
   "metadata": {
    "tags": []
   },
   "outputs": [],
   "source": [
    "u0 = [u0_1, u0_2]\n",
    "sol = third_order_runge_kutta(model, u0, t, 1e-4)"
   ]
  },
  {
   "cell_type": "code",
   "execution_count": 293,
   "id": "5c20595c-9254-4668-acc5-41492a4ae0dc",
   "metadata": {
    "tags": []
   },
   "outputs": [
    {
     "data": {
      "image/png": "[encoded data removed]",
      "text/plain": [
       "<Figure size 1600x800 with 1 Axes>"
      ]
     },
     "metadata": {},
     "output_type": "display_data"
    }
   ],
   "source": [
    "plt.figure(figsize=(16, 8))\n",
    "plt.plot(t, sol[:, 0], label='u_1(t)')\n",
    "plt.plot(t, sol[:, 1], label='u_2(t)')\n",
    "plt.grid(True)\n",
    "plt.xlabel('t')\n",
    "plt.ylabel('u(t)')\n",
    "plt.legend()\n",
    "plt.show()"
   ]
  },
  {
   "cell_type": "markdown",
   "id": "a79bb46e-d3b4-49f8-994d-33c59911898f",
   "metadata": {},
   "source": [
    "интерполяционный метод Адамса $k$-ого порядка\n",
    "$$y_{j+1} = y_j + h\\sum_{i=-1}^{k}A_i f(x_{j-i}. y_{j-i})$$\n",
    "$$A_i = \\dfrac{(-1)^{i+1}}{(i+1)! (k-i)!}\\int\\limits_0^1 \\dfrac{(\\alpha-1)\\alpha(\\alpha+1)\\ldots(\\alpha+k)}{\\alpha+i}d\\alpha$$"
   ]
  },
  {
   "cell_type": "code",
   "execution_count": null,
   "id": "4ad92ea4-4026-414a-80b5-3b1ba3e12d70",
   "metadata": {},
   "outputs": [],
   "source": []
  }
 ],
 "metadata": {
  "kernelspec": {
   "display_name": "Python 3 (ipykernel)",
   "language": "python",
   "name": "python3"
  },
  "language_info": {
   "codemirror_mode": {
    "name": "ipython",
    "version": 3
   },
   "file_extension": ".py",
   "mimetype": "text/x-python",
   "name": "python",
   "nbconvert_exporter": "python",
   "pygments_lexer": "ipython3",
   "version": "3.11.5"
  }
 },
 "nbformat": 4,
 "nbformat_minor": 5
}
