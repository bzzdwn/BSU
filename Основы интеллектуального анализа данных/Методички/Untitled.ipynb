{
 "cells": [
  {
   "cell_type": "code",
   "execution_count": 136,
   "id": "c2bce934-8aee-43e9-b66b-dc4d7fd8e4e5",
   "metadata": {},
   "outputs": [],
   "source": [
    "import pandas as pd\n",
    "import numpy as np\n",
    "import matplotlib.pyplot as plt\n",
    "from scipy import stats\n",
    "from math import sqrt"
   ]
  },
  {
   "cell_type": "code",
   "execution_count": 79,
   "id": "c50f2862-aa64-4d48-8784-8c45f5ea7ba1",
   "metadata": {},
   "outputs": [],
   "source": [
    "def generate_coords(n_points=10, a=0, b=1):\n",
    "    data = {}\n",
    "    x = np.linspace(a, b, num=1000)\n",
    "    data['x'] = np.round(np.random.choice(x, size=n_points, replace=True), 2) \n",
    "    data['y'] = np.round(data['x']*0.7 + 0.5 + np.random.normal(scale=0.2, size=10), 2)\n",
    "    return data"
   ]
  },
  {
   "cell_type": "code",
   "execution_count": 80,
   "id": "7e399cc7-8e2b-419a-ab8b-2544698b9373",
   "metadata": {},
   "outputs": [
    {
     "data": {
      "text/html": [
       "<div>\n",
       "<style scoped>\n",
       "    .dataframe tbody tr th:only-of-type {\n",
       "        vertical-align: middle;\n",
       "    }\n",
       "\n",
       "    .dataframe tbody tr th {\n",
       "        vertical-align: top;\n",
       "    }\n",
       "\n",
       "    .dataframe thead th {\n",
       "        text-align: right;\n",
       "    }\n",
       "</style>\n",
       "<table border=\"1\" class=\"dataframe\">\n",
       "  <thead>\n",
       "    <tr style=\"text-align: right;\">\n",
       "      <th></th>\n",
       "      <th>x</th>\n",
       "      <th>y</th>\n",
       "    </tr>\n",
       "  </thead>\n",
       "  <tbody>\n",
       "    <tr>\n",
       "      <th>0</th>\n",
       "      <td>1.29</td>\n",
       "      <td>1.11</td>\n",
       "    </tr>\n",
       "    <tr>\n",
       "      <th>1</th>\n",
       "      <td>4.51</td>\n",
       "      <td>3.53</td>\n",
       "    </tr>\n",
       "    <tr>\n",
       "      <th>2</th>\n",
       "      <td>2.69</td>\n",
       "      <td>2.42</td>\n",
       "    </tr>\n",
       "    <tr>\n",
       "      <th>3</th>\n",
       "      <td>1.80</td>\n",
       "      <td>1.99</td>\n",
       "    </tr>\n",
       "    <tr>\n",
       "      <th>4</th>\n",
       "      <td>4.28</td>\n",
       "      <td>3.18</td>\n",
       "    </tr>\n",
       "    <tr>\n",
       "      <th>5</th>\n",
       "      <td>3.83</td>\n",
       "      <td>3.31</td>\n",
       "    </tr>\n",
       "    <tr>\n",
       "      <th>6</th>\n",
       "      <td>3.51</td>\n",
       "      <td>2.90</td>\n",
       "    </tr>\n",
       "    <tr>\n",
       "      <th>7</th>\n",
       "      <td>2.30</td>\n",
       "      <td>2.27</td>\n",
       "    </tr>\n",
       "    <tr>\n",
       "      <th>8</th>\n",
       "      <td>4.80</td>\n",
       "      <td>4.09</td>\n",
       "    </tr>\n",
       "    <tr>\n",
       "      <th>9</th>\n",
       "      <td>4.60</td>\n",
       "      <td>3.47</td>\n",
       "    </tr>\n",
       "  </tbody>\n",
       "</table>\n",
       "</div>"
      ],
      "text/plain": [
       "      x     y\n",
       "0  1.29  1.11\n",
       "1  4.51  3.53\n",
       "2  2.69  2.42\n",
       "3  1.80  1.99\n",
       "4  4.28  3.18\n",
       "5  3.83  3.31\n",
       "6  3.51  2.90\n",
       "7  2.30  2.27\n",
       "8  4.80  4.09\n",
       "9  4.60  3.47"
      ]
     },
     "execution_count": 80,
     "metadata": {},
     "output_type": "execute_result"
    }
   ],
   "source": [
    "data = pd.DataFrame(generate_coords(10, 1, 5))\n",
    "data"
   ]
  },
  {
   "cell_type": "code",
   "execution_count": 134,
   "id": "cf9362d4-495a-4853-85c8-cd6fd9bf30a3",
   "metadata": {},
   "outputs": [],
   "source": [
    "data.to_csv('test_data.csv')"
   ]
  },
  {
   "cell_type": "code",
   "execution_count": 81,
   "id": "86b40a3c-1c14-4cea-b618-785c3b45bf70",
   "metadata": {},
   "outputs": [
    {
     "data": {
      "image/png": "[encoded data removed]",
      "text/plain": [
       "<Figure size 640x480 with 1 Axes>"
      ]
     },
     "metadata": {},
     "output_type": "display_data"
    }
   ],
   "source": [
    "x = np.linspace(1, 5, 10000)\n",
    "\n",
    "fig, ax = plt.subplots()\n",
    "plt.plot(x, x*0.7+0.5, 'b--', alpha=0.5, label='real func')\n",
    "ax.scatter(data['x'], data['y'], label='coords')\n",
    "ax.set_xlabel('x')\n",
    "ax.set_ylabel('y')\n",
    "plt.legend()\n",
    "plt.grid()\n",
    "plt.show()"
   ]
  },
  {
   "cell_type": "code",
   "execution_count": 82,
   "id": "bdb92a40-94a0-4d13-8853-2917e0a8a4e6",
   "metadata": {},
   "outputs": [
    {
     "data": {
      "text/html": [
       "<div>\n",
       "<style scoped>\n",
       "    .dataframe tbody tr th:only-of-type {\n",
       "        vertical-align: middle;\n",
       "    }\n",
       "\n",
       "    .dataframe tbody tr th {\n",
       "        vertical-align: top;\n",
       "    }\n",
       "\n",
       "    .dataframe thead th {\n",
       "        text-align: right;\n",
       "    }\n",
       "</style>\n",
       "<table border=\"1\" class=\"dataframe\">\n",
       "  <thead>\n",
       "    <tr style=\"text-align: right;\">\n",
       "      <th></th>\n",
       "      <th>0</th>\n",
       "      <th>1</th>\n",
       "      <th>2</th>\n",
       "      <th>3</th>\n",
       "      <th>4</th>\n",
       "      <th>5</th>\n",
       "      <th>6</th>\n",
       "      <th>7</th>\n",
       "      <th>8</th>\n",
       "      <th>9</th>\n",
       "    </tr>\n",
       "  </thead>\n",
       "  <tbody>\n",
       "    <tr>\n",
       "      <th>x</th>\n",
       "      <td>1.29</td>\n",
       "      <td>4.51</td>\n",
       "      <td>2.69</td>\n",
       "      <td>1.80</td>\n",
       "      <td>4.28</td>\n",
       "      <td>3.83</td>\n",
       "      <td>3.51</td>\n",
       "      <td>2.30</td>\n",
       "      <td>4.80</td>\n",
       "      <td>4.60</td>\n",
       "    </tr>\n",
       "    <tr>\n",
       "      <th>y</th>\n",
       "      <td>1.11</td>\n",
       "      <td>3.53</td>\n",
       "      <td>2.42</td>\n",
       "      <td>1.99</td>\n",
       "      <td>3.18</td>\n",
       "      <td>3.31</td>\n",
       "      <td>2.90</td>\n",
       "      <td>2.27</td>\n",
       "      <td>4.09</td>\n",
       "      <td>3.47</td>\n",
       "    </tr>\n",
       "  </tbody>\n",
       "</table>\n",
       "</div>"
      ],
      "text/plain": [
       "      0     1     2     3     4     5     6     7     8     9\n",
       "x  1.29  4.51  2.69  1.80  4.28  3.83  3.51  2.30  4.80  4.60\n",
       "y  1.11  3.53  2.42  1.99  3.18  3.31  2.90  2.27  4.09  3.47"
      ]
     },
     "execution_count": 82,
     "metadata": {},
     "output_type": "execute_result"
    }
   ],
   "source": [
    "data.T"
   ]
  },
  {
   "cell_type": "code",
   "execution_count": 117,
   "id": "db6d123c-127d-498e-8f2c-2003627f4140",
   "metadata": {},
   "outputs": [
    {
     "data": {
      "text/plain": [
       "3.3609999999999998"
      ]
     },
     "execution_count": 117,
     "metadata": {},
     "output_type": "execute_result"
    }
   ],
   "source": [
    "x_mean = data.x.mean()\n",
    "x_mean"
   ]
  },
  {
   "cell_type": "code",
   "execution_count": 118,
   "id": "b4b88598-2bdf-4333-91fb-2bfd351b5ed3",
   "metadata": {},
   "outputs": [
    {
     "data": {
      "text/plain": [
       "2.827"
      ]
     },
     "execution_count": 118,
     "metadata": {},
     "output_type": "execute_result"
    }
   ],
   "source": [
    "y_mean = data.y.mean()\n",
    "y_mean"
   ]
  },
  {
   "cell_type": "code",
   "execution_count": 126,
   "id": "61bcf3c1-c889-46f3-a4c9-abff2eb4a6b9",
   "metadata": {},
   "outputs": [
    {
     "data": {
      "text/plain": [
       "10.472570000000001"
      ]
     },
     "execution_count": 126,
     "metadata": {},
     "output_type": "execute_result"
    }
   ],
   "source": [
    "xy_mean = np.mean(data.x*data.y)\n",
    "xy_mean"
   ]
  },
  {
   "cell_type": "code",
   "execution_count": 128,
   "id": "68b1a4f1-d6e5-4ca7-aa07-35ab8d42ac75",
   "metadata": {},
   "outputs": [
    {
     "data": {
      "text/plain": [
       "12.727769999999998"
      ]
     },
     "execution_count": 128,
     "metadata": {},
     "output_type": "execute_result"
    }
   ],
   "source": [
    "xx_mean = np.mean(data.x*data.x)\n",
    "xx_mean"
   ]
  },
  {
   "cell_type": "code",
   "execution_count": 129,
   "id": "45ac7d42-a99d-4c67-85c3-fddb6af50cc9",
   "metadata": {},
   "outputs": [
    {
     "data": {
      "text/plain": [
       "8.69099"
      ]
     },
     "execution_count": 129,
     "metadata": {},
     "output_type": "execute_result"
    }
   ],
   "source": [
    "yy_mean = np.mean(data.y*data.y)\n",
    "yy_mean"
   ]
  },
  {
   "cell_type": "code",
   "execution_count": 130,
   "id": "ab78a5bc-fe97-4751-81e9-84a49e019fc2",
   "metadata": {},
   "outputs": [
    {
     "data": {
      "text/plain": [
       "1.4314489999999989"
      ]
     },
     "execution_count": 130,
     "metadata": {},
     "output_type": "execute_result"
    }
   ],
   "source": [
    "xx_mean - x_mean**2"
   ]
  },
  {
   "cell_type": "code",
   "execution_count": 131,
   "id": "141f53cf-045d-4916-bb7f-922e3d767ce4",
   "metadata": {},
   "outputs": [
    {
     "data": {
      "text/plain": [
       "0.6990609999999995"
      ]
     },
     "execution_count": 131,
     "metadata": {},
     "output_type": "execute_result"
    }
   ],
   "source": [
    "yy_mean - y_mean**2"
   ]
  },
  {
   "cell_type": "code",
   "execution_count": 132,
   "id": "8525b6fc-65ba-463c-b942-1e39dbda8242",
   "metadata": {},
   "outputs": [
    {
     "data": {
      "text/plain": [
       "0.9710230000000024"
      ]
     },
     "execution_count": 132,
     "metadata": {},
     "output_type": "execute_result"
    }
   ],
   "source": [
    "xy_mean - x_mean*y_mean"
   ]
  },
  {
   "cell_type": "code",
   "execution_count": 133,
   "id": "1e995d73-2619-4278-8b67-38ebc10ae5e4",
   "metadata": {},
   "outputs": [
    {
     "data": {
      "text/plain": [
       "0.9706977885056612"
      ]
     },
     "execution_count": 133,
     "metadata": {},
     "output_type": "execute_result"
    }
   ],
   "source": [
    "(xy_mean - x_mean*y_mean) / (np.sqrt(xx_mean - x_mean**2) * np.sqrt(yy_mean - y_mean**2))"
   ]
  },
  {
   "cell_type": "code",
   "execution_count": 141,
   "id": "fc655bd3-c484-4adc-8fd3-f6d010570cce",
   "metadata": {},
   "outputs": [
    {
     "data": {
      "text/plain": [
       "True"
      ]
     },
     "execution_count": 141,
     "metadata": {},
     "output_type": "execute_result"
    }
   ],
   "source": [
    "sqrt(0.699 * (1- 0.971**2)) < 0.67 * sqrt(0.699)"
   ]
  },
  {
   "cell_type": "code",
   "execution_count": 142,
   "id": "ee78533d-2783-4896-9af7-9b4dcfea3be6",
   "metadata": {},
   "outputs": [
    {
     "data": {
      "text/plain": [
       "0.9422541966097754"
      ]
     },
     "execution_count": 142,
     "metadata": {},
     "output_type": "execute_result"
    }
   ],
   "source": [
    "r**2"
   ]
  },
  {
   "cell_type": "code",
   "execution_count": 143,
   "id": "0d19a8d5-dce7-4c1d-be7f-b4b3168a6291",
   "metadata": {},
   "outputs": [],
   "source": [
    "def f(x):\n",
    "    return 0.679*x + 0.484"
   ]
  },
  {
   "cell_type": "code",
   "execution_count": 144,
   "id": "ca274107-27ea-4468-bdf4-6bd0406f1836",
   "metadata": {},
   "outputs": [
    {
     "data": {
      "text/plain": [
       "0.2513562445899999"
      ]
     },
     "execution_count": 144,
     "metadata": {},
     "output_type": "execute_result"
    }
   ],
   "source": [
    "np.mean((data.y - f(data.y))**2)"
   ]
  },
  {
   "cell_type": "code",
   "execution_count": 146,
   "id": "e18ee8a3-8439-4995-9a99-4b3c3eb06953",
   "metadata": {},
   "outputs": [
    {
     "data": {
      "text/plain": [
       "0.5016200825899999"
      ]
     },
     "execution_count": 146,
     "metadata": {},
     "output_type": "execute_result"
    }
   ],
   "source": [
    "np.mean((f(data.y)-data.y.mean())**2)"
   ]
  },
  {
   "cell_type": "code",
   "execution_count": null,
   "id": "0e6d5f7d-2a24-4600-9c1e-f94b256a0496",
   "metadata": {},
   "outputs": [],
   "source": []
  }
 ],
 "metadata": {
  "kernelspec": {
   "display_name": "Python 3 (ipykernel)",
   "language": "python",
   "name": "python3"
  },
  "language_info": {
   "codemirror_mode": {
    "name": "ipython",
    "version": 3
   },
   "file_extension": ".py",
   "mimetype": "text/x-python",
   "name": "python",
   "nbconvert_exporter": "python",
   "pygments_lexer": "ipython3",
   "version": "3.12.3"
  }
 },
 "nbformat": 4,
 "nbformat_minor": 5
}
