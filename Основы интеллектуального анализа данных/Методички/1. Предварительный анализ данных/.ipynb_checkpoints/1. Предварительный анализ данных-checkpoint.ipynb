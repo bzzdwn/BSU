{
 "cells": [
  {
   "cell_type": "markdown",
   "id": "72fa46fc-d798-4207-8e21-636b193eb5af",
   "metadata": {},
   "source": [
    "# Предварительный анализ данных\n",
    "Автор: Тима Бовт"
   ]
  },
  {
   "cell_type": "markdown",
   "id": "649ac00f-056b-49dd-842f-e603ea08ce72",
   "metadata": {},
   "source": [
    "В рамках методичек по ОИАД я не буду конкретно останавливаться на том, что делает та или иная команда. Так как это было проделано в рамках методичек по МиАОД. Здесь же мы будем рассматривать конкретные шаги, которые мы должны проделать на пути решения задачи по анализу данных."
   ]
  },
  {
   "cell_type": "code",
   "execution_count": 3,
   "id": "f789003b-c9e8-4074-ba93-3149c352ddb2",
   "metadata": {},
   "outputs": [],
   "source": [
    "import pandas as pd\n",
    "import numpy as np\n",
    "import matplotlib.pyplot as plt\n",
    "%matplotlib inline\n",
    "import seaborn as sns"
   ]
  },
  {
   "cell_type": "markdown",
   "id": "88c2a2b1-9bf1-4a45-af22-c1a2bebd8ae4",
   "metadata": {},
   "source": [
    "## Постановка задачи"
   ]
  },
  {
   "cell_type": "markdown",
   "id": "3df7f13e-7a38-4545-83b8-3ceebc12056c",
   "metadata": {},
   "source": [
    "Пусть нам заданы входные данные в виде следующего датасета про пингвинов."
   ]
  },
  {
   "cell_type": "code",
   "execution_count": 4,
   "id": "bd5bfb35-6524-4411-8791-f0da7e0bcce9",
   "metadata": {},
   "outputs": [
    {
     "data": {
      "text/html": [
       "<div>\n",
       "<style scoped>\n",
       "    .dataframe tbody tr th:only-of-type {\n",
       "        vertical-align: middle;\n",
       "    }\n",
       "\n",
       "    .dataframe tbody tr th {\n",
       "        vertical-align: top;\n",
       "    }\n",
       "\n",
       "    .dataframe thead th {\n",
       "        text-align: right;\n",
       "    }\n",
       "</style>\n",
       "<table border=\"1\" class=\"dataframe\">\n",
       "  <thead>\n",
       "    <tr style=\"text-align: right;\">\n",
       "      <th></th>\n",
       "      <th>species</th>\n",
       "      <th>island</th>\n",
       "      <th>bill_length_mm</th>\n",
       "      <th>bill_depth_mm</th>\n",
       "      <th>flipper_length_mm</th>\n",
       "      <th>body_mass_g</th>\n",
       "      <th>sex</th>\n",
       "    </tr>\n",
       "  </thead>\n",
       "  <tbody>\n",
       "    <tr>\n",
       "      <th>0</th>\n",
       "      <td>Adelie</td>\n",
       "      <td>Torgersen</td>\n",
       "      <td>39.1</td>\n",
       "      <td>18.7</td>\n",
       "      <td>181.0</td>\n",
       "      <td>3750.0</td>\n",
       "      <td>Male</td>\n",
       "    </tr>\n",
       "    <tr>\n",
       "      <th>1</th>\n",
       "      <td>Adelie</td>\n",
       "      <td>Torgersen</td>\n",
       "      <td>39.5</td>\n",
       "      <td>17.4</td>\n",
       "      <td>186.0</td>\n",
       "      <td>3800.0</td>\n",
       "      <td>Female</td>\n",
       "    </tr>\n",
       "    <tr>\n",
       "      <th>2</th>\n",
       "      <td>Adelie</td>\n",
       "      <td>Torgersen</td>\n",
       "      <td>40.3</td>\n",
       "      <td>18.0</td>\n",
       "      <td>195.0</td>\n",
       "      <td>3250.0</td>\n",
       "      <td>Female</td>\n",
       "    </tr>\n",
       "    <tr>\n",
       "      <th>3</th>\n",
       "      <td>Adelie</td>\n",
       "      <td>Torgersen</td>\n",
       "      <td>NaN</td>\n",
       "      <td>NaN</td>\n",
       "      <td>NaN</td>\n",
       "      <td>NaN</td>\n",
       "      <td>NaN</td>\n",
       "    </tr>\n",
       "    <tr>\n",
       "      <th>4</th>\n",
       "      <td>Adelie</td>\n",
       "      <td>Torgersen</td>\n",
       "      <td>36.7</td>\n",
       "      <td>19.3</td>\n",
       "      <td>193.0</td>\n",
       "      <td>3450.0</td>\n",
       "      <td>Female</td>\n",
       "    </tr>\n",
       "    <tr>\n",
       "      <th>...</th>\n",
       "      <td>...</td>\n",
       "      <td>...</td>\n",
       "      <td>...</td>\n",
       "      <td>...</td>\n",
       "      <td>...</td>\n",
       "      <td>...</td>\n",
       "      <td>...</td>\n",
       "    </tr>\n",
       "    <tr>\n",
       "      <th>339</th>\n",
       "      <td>Gentoo</td>\n",
       "      <td>Biscoe</td>\n",
       "      <td>NaN</td>\n",
       "      <td>NaN</td>\n",
       "      <td>NaN</td>\n",
       "      <td>NaN</td>\n",
       "      <td>NaN</td>\n",
       "    </tr>\n",
       "    <tr>\n",
       "      <th>340</th>\n",
       "      <td>Gentoo</td>\n",
       "      <td>Biscoe</td>\n",
       "      <td>46.8</td>\n",
       "      <td>14.3</td>\n",
       "      <td>215.0</td>\n",
       "      <td>4850.0</td>\n",
       "      <td>Female</td>\n",
       "    </tr>\n",
       "    <tr>\n",
       "      <th>341</th>\n",
       "      <td>Gentoo</td>\n",
       "      <td>Biscoe</td>\n",
       "      <td>50.4</td>\n",
       "      <td>15.7</td>\n",
       "      <td>222.0</td>\n",
       "      <td>5750.0</td>\n",
       "      <td>Male</td>\n",
       "    </tr>\n",
       "    <tr>\n",
       "      <th>342</th>\n",
       "      <td>Gentoo</td>\n",
       "      <td>Biscoe</td>\n",
       "      <td>45.2</td>\n",
       "      <td>14.8</td>\n",
       "      <td>212.0</td>\n",
       "      <td>5200.0</td>\n",
       "      <td>Female</td>\n",
       "    </tr>\n",
       "    <tr>\n",
       "      <th>343</th>\n",
       "      <td>Gentoo</td>\n",
       "      <td>Biscoe</td>\n",
       "      <td>49.9</td>\n",
       "      <td>16.1</td>\n",
       "      <td>213.0</td>\n",
       "      <td>5400.0</td>\n",
       "      <td>Male</td>\n",
       "    </tr>\n",
       "  </tbody>\n",
       "</table>\n",
       "<p>344 rows × 7 columns</p>\n",
       "</div>"
      ],
      "text/plain": [
       "    species     island  bill_length_mm  bill_depth_mm  flipper_length_mm  \\\n",
       "0    Adelie  Torgersen            39.1           18.7              181.0   \n",
       "1    Adelie  Torgersen            39.5           17.4              186.0   \n",
       "2    Adelie  Torgersen            40.3           18.0              195.0   \n",
       "3    Adelie  Torgersen             NaN            NaN                NaN   \n",
       "4    Adelie  Torgersen            36.7           19.3              193.0   \n",
       "..      ...        ...             ...            ...                ...   \n",
       "339  Gentoo     Biscoe             NaN            NaN                NaN   \n",
       "340  Gentoo     Biscoe            46.8           14.3              215.0   \n",
       "341  Gentoo     Biscoe            50.4           15.7              222.0   \n",
       "342  Gentoo     Biscoe            45.2           14.8              212.0   \n",
       "343  Gentoo     Biscoe            49.9           16.1              213.0   \n",
       "\n",
       "     body_mass_g     sex  \n",
       "0         3750.0    Male  \n",
       "1         3800.0  Female  \n",
       "2         3250.0  Female  \n",
       "3            NaN     NaN  \n",
       "4         3450.0  Female  \n",
       "..           ...     ...  \n",
       "339          NaN     NaN  \n",
       "340       4850.0  Female  \n",
       "341       5750.0    Male  \n",
       "342       5200.0  Female  \n",
       "343       5400.0    Male  \n",
       "\n",
       "[344 rows x 7 columns]"
      ]
     },
     "execution_count": 4,
     "metadata": {},
     "output_type": "execute_result"
    }
   ],
   "source": [
    "sns.load_dataset('penguins')"
   ]
  },
  {
   "cell_type": "markdown",
   "id": "61e2d3b8-a21b-4bb7-881b-e5230f5b28b6",
   "metadata": {},
   "source": [
    "где\n",
    "- species -- вид пингвина;\n",
    "- island -- остров обитания пингвина;\n",
    "- bill_length_mm -- длина клюва, мм;\n",
    "- bill_depth_mm -- ширина клюва, мм;\n",
    "- flipper_length_mm -- длина ласта, мм;\n",
    "- body_mass_g -- масса тела, г;\n",
    "- sex -- пол.\n",
    "\n",
    "Необходимо провести предварительный анализ входных данных и сделать соответствующие выводы."
   ]
  },
  {
   "cell_type": "markdown",
   "id": "a57810ee-70f9-4adf-9097-8e98eeba0657",
   "metadata": {},
   "source": [
    "## Подготовка данных"
   ]
  },
  {
   "cell_type": "markdown",
   "id": "a125a74d-5312-40d8-b5e7-48f73df390b0",
   "metadata": {},
   "source": [
    "На данном этапе мы должны проверить, есть ли среди наших данных пропущенные значения. При наличии мы должны каким-то образом заменить пропущенные значения на другие данные."
   ]
  },
  {
   "cell_type": "code",
   "execution_count": 5,
   "id": "544ab757-7b02-43af-9ccc-6e21acfb2b81",
   "metadata": {},
   "outputs": [
    {
     "data": {
      "text/html": [
       "<div>\n",
       "<style scoped>\n",
       "    .dataframe tbody tr th:only-of-type {\n",
       "        vertical-align: middle;\n",
       "    }\n",
       "\n",
       "    .dataframe tbody tr th {\n",
       "        vertical-align: top;\n",
       "    }\n",
       "\n",
       "    .dataframe thead th {\n",
       "        text-align: right;\n",
       "    }\n",
       "</style>\n",
       "<table border=\"1\" class=\"dataframe\">\n",
       "  <thead>\n",
       "    <tr style=\"text-align: right;\">\n",
       "      <th></th>\n",
       "      <th>species</th>\n",
       "      <th>island</th>\n",
       "      <th>bill_length_mm</th>\n",
       "      <th>bill_depth_mm</th>\n",
       "      <th>flipper_length_mm</th>\n",
       "      <th>body_mass_g</th>\n",
       "      <th>sex</th>\n",
       "    </tr>\n",
       "  </thead>\n",
       "  <tbody>\n",
       "    <tr>\n",
       "      <th>0</th>\n",
       "      <td>Adelie</td>\n",
       "      <td>Torgersen</td>\n",
       "      <td>39.1</td>\n",
       "      <td>18.7</td>\n",
       "      <td>181.0</td>\n",
       "      <td>3750.0</td>\n",
       "      <td>Male</td>\n",
       "    </tr>\n",
       "    <tr>\n",
       "      <th>1</th>\n",
       "      <td>Adelie</td>\n",
       "      <td>Torgersen</td>\n",
       "      <td>39.5</td>\n",
       "      <td>17.4</td>\n",
       "      <td>186.0</td>\n",
       "      <td>3800.0</td>\n",
       "      <td>Female</td>\n",
       "    </tr>\n",
       "    <tr>\n",
       "      <th>2</th>\n",
       "      <td>Adelie</td>\n",
       "      <td>Torgersen</td>\n",
       "      <td>40.3</td>\n",
       "      <td>18.0</td>\n",
       "      <td>195.0</td>\n",
       "      <td>3250.0</td>\n",
       "      <td>Female</td>\n",
       "    </tr>\n",
       "    <tr>\n",
       "      <th>3</th>\n",
       "      <td>Adelie</td>\n",
       "      <td>Torgersen</td>\n",
       "      <td>NaN</td>\n",
       "      <td>NaN</td>\n",
       "      <td>NaN</td>\n",
       "      <td>NaN</td>\n",
       "      <td>NaN</td>\n",
       "    </tr>\n",
       "    <tr>\n",
       "      <th>4</th>\n",
       "      <td>Adelie</td>\n",
       "      <td>Torgersen</td>\n",
       "      <td>36.7</td>\n",
       "      <td>19.3</td>\n",
       "      <td>193.0</td>\n",
       "      <td>3450.0</td>\n",
       "      <td>Female</td>\n",
       "    </tr>\n",
       "  </tbody>\n",
       "</table>\n",
       "</div>"
      ],
      "text/plain": [
       "  species     island  bill_length_mm  bill_depth_mm  flipper_length_mm  \\\n",
       "0  Adelie  Torgersen            39.1           18.7              181.0   \n",
       "1  Adelie  Torgersen            39.5           17.4              186.0   \n",
       "2  Adelie  Torgersen            40.3           18.0              195.0   \n",
       "3  Adelie  Torgersen             NaN            NaN                NaN   \n",
       "4  Adelie  Torgersen            36.7           19.3              193.0   \n",
       "\n",
       "   body_mass_g     sex  \n",
       "0       3750.0    Male  \n",
       "1       3800.0  Female  \n",
       "2       3250.0  Female  \n",
       "3          NaN     NaN  \n",
       "4       3450.0  Female  "
      ]
     },
     "execution_count": 5,
     "metadata": {},
     "output_type": "execute_result"
    }
   ],
   "source": [
    "data = sns.load_dataset('penguins')\n",
    "data.head()"
   ]
  },
  {
   "cell_type": "markdown",
   "id": "248fe911-18ca-4339-9032-8faf4092eae1",
   "metadata": {},
   "source": [
    "Уже с первого взгляда можно заметить, что пропущенные данные у нас имеются. Причем заметим, что у 4-ого объекта пропущены вообще вся информация, кроме вида и острова обитания. Рассмотрим подробнее информацию о пропущенных значениях."
   ]
  },
  {
   "cell_type": "code",
   "execution_count": 6,
   "id": "028b2254-7d11-43ee-8e03-34805af169b6",
   "metadata": {},
   "outputs": [
    {
     "name": "stdout",
     "output_type": "stream",
     "text": [
      "<class 'pandas.core.frame.DataFrame'>\n",
      "RangeIndex: 344 entries, 0 to 343\n",
      "Data columns (total 7 columns):\n",
      " #   Column             Non-Null Count  Dtype  \n",
      "---  ------             --------------  -----  \n",
      " 0   species            344 non-null    object \n",
      " 1   island             344 non-null    object \n",
      " 2   bill_length_mm     342 non-null    float64\n",
      " 3   bill_depth_mm      342 non-null    float64\n",
      " 4   flipper_length_mm  342 non-null    float64\n",
      " 5   body_mass_g        342 non-null    float64\n",
      " 6   sex                333 non-null    object \n",
      "dtypes: float64(4), object(3)\n",
      "memory usage: 18.9+ KB\n"
     ]
    }
   ],
   "source": [
    "data.info()"
   ]
  },
  {
   "cell_type": "code",
   "execution_count": 7,
   "id": "5949d9f9-9090-45e2-8642-12d7e3fcfd86",
   "metadata": {},
   "outputs": [
    {
     "data": {
      "text/plain": [
       "species               0\n",
       "island                0\n",
       "bill_length_mm        2\n",
       "bill_depth_mm         2\n",
       "flipper_length_mm     2\n",
       "body_mass_g           2\n",
       "sex                  11\n",
       "dtype: int64"
      ]
     },
     "execution_count": 7,
     "metadata": {},
     "output_type": "execute_result"
    }
   ],
   "source": [
    "data.isna().sum()"
   ]
  },
  {
   "cell_type": "markdown",
   "id": "3c6bcc55-a1a2-423f-9afd-f3387b71f0b5",
   "metadata": {},
   "source": [
    "Видно, что у нас есть всего 2 пингвина, о которых нет никакой информации кроме вида и острова обитания. Поскольку всего у нас 344 пингвина, то в данном случае на наших данных не сильно отразилось бы, если бы мы выбросили двух пингвинов. \n",
    "\n",
    "Другое дело со столбцом sex. Выкинув двух пустых пингвинов, у нас останется еще 9 небинарных пингвинов. Сильно жертвовать данными также не стоит. Поэтому в данном случае имеет место заменить пропущенные значения на какие-то другие.\n",
    "\n",
    "И, на самом деле, уже здесь встает вопрос о том, как корректно заменить данные, не потеряв слишком много полезной информации? Например, для каждого вида пингвина определим наиболее часто встречающийся пол и установим всем небинарным пингвинам этот пол."
   ]
  },
  {
   "cell_type": "code",
   "execution_count": 8,
   "id": "4ab59246-8271-47e2-8dc3-564a5711069d",
   "metadata": {},
   "outputs": [
    {
     "data": {
      "text/plain": [
       "species    sex   \n",
       "Adelie     Female    73\n",
       "           Male      73\n",
       "Chinstrap  Female    34\n",
       "           Male      34\n",
       "Gentoo     Female    58\n",
       "           Male      61\n",
       "Name: species, dtype: int64"
      ]
     },
     "execution_count": 8,
     "metadata": {},
     "output_type": "execute_result"
    }
   ],
   "source": [
    "data.groupby(['species', 'sex'])[\"species\"].count()"
   ]
  },
  {
   "cell_type": "markdown",
   "id": "ac892369-5c6b-4071-a5c5-5dcee130c23d",
   "metadata": {},
   "source": [
    "Мы столкнулись с проблемой того, что пингвинов разного пола примерно поровну, поэтому нам нет особой разницы, каким из двух вариантов мы будем заполнять пропущеные значения.\n",
    "\n",
    "Для простоты воспользуемся трансформером из библиотеки sklearn"
   ]
  },
  {
   "cell_type": "code",
   "execution_count": 9,
   "id": "e11223f1-7b0d-46bf-9452-51b900e852e4",
   "metadata": {},
   "outputs": [],
   "source": [
    "from sklearn.impute import SimpleImputer\n",
    "\n",
    "imputer = SimpleImputer(strategy='most_frequent')\n",
    "data.iloc[:,:] = imputer.fit_transform(data)"
   ]
  },
  {
   "cell_type": "code",
   "execution_count": 10,
   "id": "fd8d8507-2aea-4575-8166-f4757a2877c7",
   "metadata": {},
   "outputs": [
    {
     "data": {
      "text/plain": [
       "species    sex   \n",
       "Adelie     Female    73\n",
       "           Male      79\n",
       "Chinstrap  Female    34\n",
       "           Male      34\n",
       "Gentoo     Female    58\n",
       "           Male      66\n",
       "Name: species, dtype: int64"
      ]
     },
     "execution_count": 10,
     "metadata": {},
     "output_type": "execute_result"
    }
   ],
   "source": [
    "data.groupby(['species', 'sex'])[\"species\"].count()"
   ]
  },
  {
   "cell_type": "code",
   "execution_count": 11,
   "id": "67d671ab-6d04-4969-a02f-bdd0cedcdd41",
   "metadata": {},
   "outputs": [
    {
     "data": {
      "text/plain": [
       "species              0\n",
       "island               0\n",
       "bill_length_mm       0\n",
       "bill_depth_mm        0\n",
       "flipper_length_mm    0\n",
       "body_mass_g          0\n",
       "sex                  0\n",
       "dtype: int64"
      ]
     },
     "execution_count": 11,
     "metadata": {},
     "output_type": "execute_result"
    }
   ],
   "source": [
    "data.isna().sum()"
   ]
  },
  {
   "cell_type": "markdown",
   "id": "cea07fc2-2de3-4b3f-99fc-25d47c632a29",
   "metadata": {},
   "source": [
    "Итак, мы избавились от пропущенных значений в нашем датасете. Теперь мы можем приступать к полноценной работе с нашими данными."
   ]
  },
  {
   "cell_type": "markdown",
   "id": "b133eb1d-9922-402a-9fd0-aef04704cda0",
   "metadata": {},
   "source": [
    "## Статистические характеристики выборки"
   ]
  },
  {
   "cell_type": "markdown",
   "id": "b2ae2c05-af52-4ebd-a241-15e8307b3360",
   "metadata": {},
   "source": [
    "Пусть $X = \\{x_1,\\ldots, x_n\\}$ -- случайная выборка из некоторого распределения.\n",
    "\n",
    "Сводные статистические характеристики — это дополнительные или альтернативные описатели гистограмм и кумулятивных распределений.\n",
    "\n",
    "Статистические характеристики — это сводные значения, которые рассчитывается на основе выборки наблюдений, которые обычно, но необязательно является оценкой некоторого параметра совокупности.\n",
    "\n",
    "Как правило сводная статистика подразделяются на три категории:\n",
    "\n",
    "1. меры местоположения или центрированности (если распределение симметричное все три характеристики равны друг другу)\n",
    "- Математическое ожидание\n",
    "$$\\mu = \\dfrac1n \\sum\\limits_{i=1}^n x_i;$$\n",
    "- Медиана (не подвержена \"выбросам\", инструмент для избавления от \"выбросов\")\n",
    "$$M = F^{-1}_X(0.5),\\ \\text{где } F_X(x) \\text{ - это функция распределения выборки } X;$$\n",
    "- Мода\n",
    "$$m = \\underset{i=1,\\ldots,n}{\\operatorname{argmax}}P(X = x_i), \\text{ где } P(X=x_i) \\text{ - вероятность (в дискретном случае это частотая появления числа)}$$\n",
    "2. меры разброса или рассеивания/местоположения\n",
    "- Дисперсия случайной величины - средний квадрат от среднего, так как квадратичная мера наименее надежна (как среднее не явл. устойчивой характеристикой так и дисперсия, \"выбросы сказываются\" на дисперсии)\n",
    "$$DX = \\dfrac{\\sum\\limits_{i=1}^n (x_i - \\mu)^2}{n};$$\n",
    "- Среднеквадратическое отклонение (практически равна дисперсии)\n",
    "$$\\sigma = \\sqrt{DX} = \\sqrt{\\dfrac{\\sum\\limits_{i=1}^n (x_i - \\mu)^2}{n}}$$\n",
    "- Минимум, Максимум(экстремальные значения)\n",
    "$$\\min X = \\underset{i=1,\\ldots,n}\\min x_i,\\ \\max X = \\underset{i=1,\\ldots,n}\\max x_i,$$\n",
    "- Интерквантильный размах\n",
    "$$IQR = Q_3 - Q_1,\\ \\text{где } Q_3 = F_X^{-1}(0.75), Q_1 =F_X^{-1}(0.25)$$\n",
    "3. меры формы\n",
    "- Коэффициент асимметрии\n",
    "$$A_s = \\dfrac{1}{n\\sigma^3}\\sum\\limits_{i=1}^n (x_i-\\mu)^3$$\n",
    "- Коэффициент эксцесса\n",
    "$$\\gamma_2 = \\dfrac{1}{n\\sigma^4}\\sum\\limits_{i=1}^n (x_i-\\mu)^4 - 3.$$"
   ]
  },
  {
   "cell_type": "markdown",
   "id": "8c8624fb-7b2e-4956-8ea5-ae1467c82e1d",
   "metadata": {},
   "source": [
    "Итак, наша цель -- вычислить все эти значения для нашей выборки. Известно, что большинство из этих статистик для числовых признаков мы можем сразу определить всего одной командой"
   ]
  },
  {
   "cell_type": "code",
   "execution_count": 12,
   "id": "10fb6853-d987-438d-8139-b8e86bcdcda4",
   "metadata": {},
   "outputs": [
    {
     "data": {
      "text/html": [
       "<div>\n",
       "<style scoped>\n",
       "    .dataframe tbody tr th:only-of-type {\n",
       "        vertical-align: middle;\n",
       "    }\n",
       "\n",
       "    .dataframe tbody tr th {\n",
       "        vertical-align: top;\n",
       "    }\n",
       "\n",
       "    .dataframe thead th {\n",
       "        text-align: right;\n",
       "    }\n",
       "</style>\n",
       "<table border=\"1\" class=\"dataframe\">\n",
       "  <thead>\n",
       "    <tr style=\"text-align: right;\">\n",
       "      <th></th>\n",
       "      <th>bill_length_mm</th>\n",
       "      <th>bill_depth_mm</th>\n",
       "      <th>flipper_length_mm</th>\n",
       "      <th>body_mass_g</th>\n",
       "    </tr>\n",
       "  </thead>\n",
       "  <tbody>\n",
       "    <tr>\n",
       "      <th>count</th>\n",
       "      <td>344.000000</td>\n",
       "      <td>344.000000</td>\n",
       "      <td>344.000000</td>\n",
       "      <td>344.000000</td>\n",
       "    </tr>\n",
       "    <tr>\n",
       "      <th>mean</th>\n",
       "      <td>43.905523</td>\n",
       "      <td>17.150291</td>\n",
       "      <td>200.851744</td>\n",
       "      <td>4199.418605</td>\n",
       "    </tr>\n",
       "    <tr>\n",
       "      <th>std</th>\n",
       "      <td>5.447882</td>\n",
       "      <td>1.969061</td>\n",
       "      <td>14.045266</td>\n",
       "      <td>800.197923</td>\n",
       "    </tr>\n",
       "    <tr>\n",
       "      <th>min</th>\n",
       "      <td>32.100000</td>\n",
       "      <td>13.100000</td>\n",
       "      <td>172.000000</td>\n",
       "      <td>2700.000000</td>\n",
       "    </tr>\n",
       "    <tr>\n",
       "      <th>25%</th>\n",
       "      <td>39.275000</td>\n",
       "      <td>15.600000</td>\n",
       "      <td>190.000000</td>\n",
       "      <td>3550.000000</td>\n",
       "    </tr>\n",
       "    <tr>\n",
       "      <th>50%</th>\n",
       "      <td>44.250000</td>\n",
       "      <td>17.300000</td>\n",
       "      <td>197.000000</td>\n",
       "      <td>4025.000000</td>\n",
       "    </tr>\n",
       "    <tr>\n",
       "      <th>75%</th>\n",
       "      <td>48.500000</td>\n",
       "      <td>18.700000</td>\n",
       "      <td>213.000000</td>\n",
       "      <td>4750.000000</td>\n",
       "    </tr>\n",
       "    <tr>\n",
       "      <th>max</th>\n",
       "      <td>59.600000</td>\n",
       "      <td>21.500000</td>\n",
       "      <td>231.000000</td>\n",
       "      <td>6300.000000</td>\n",
       "    </tr>\n",
       "  </tbody>\n",
       "</table>\n",
       "</div>"
      ],
      "text/plain": [
       "       bill_length_mm  bill_depth_mm  flipper_length_mm  body_mass_g\n",
       "count      344.000000     344.000000         344.000000   344.000000\n",
       "mean        43.905523      17.150291         200.851744  4199.418605\n",
       "std          5.447882       1.969061          14.045266   800.197923\n",
       "min         32.100000      13.100000         172.000000  2700.000000\n",
       "25%         39.275000      15.600000         190.000000  3550.000000\n",
       "50%         44.250000      17.300000         197.000000  4025.000000\n",
       "75%         48.500000      18.700000         213.000000  4750.000000\n",
       "max         59.600000      21.500000         231.000000  6300.000000"
      ]
     },
     "execution_count": 12,
     "metadata": {},
     "output_type": "execute_result"
    }
   ],
   "source": [
    "data.describe()"
   ]
  },
  {
   "cell_type": "markdown",
   "id": "02f21805-ee7f-4c87-8876-c2a365379852",
   "metadata": {},
   "source": [
    "Можно также рассмотреть эти же статистики для всех столбцов датасета"
   ]
  },
  {
   "cell_type": "code",
   "execution_count": 13,
   "id": "8a3fff6c-bd89-48b4-9dbe-2a7c2b268d72",
   "metadata": {},
   "outputs": [
    {
     "data": {
      "text/html": [
       "<div>\n",
       "<style scoped>\n",
       "    .dataframe tbody tr th:only-of-type {\n",
       "        vertical-align: middle;\n",
       "    }\n",
       "\n",
       "    .dataframe tbody tr th {\n",
       "        vertical-align: top;\n",
       "    }\n",
       "\n",
       "    .dataframe thead th {\n",
       "        text-align: right;\n",
       "    }\n",
       "</style>\n",
       "<table border=\"1\" class=\"dataframe\">\n",
       "  <thead>\n",
       "    <tr style=\"text-align: right;\">\n",
       "      <th></th>\n",
       "      <th>species</th>\n",
       "      <th>island</th>\n",
       "      <th>bill_length_mm</th>\n",
       "      <th>bill_depth_mm</th>\n",
       "      <th>flipper_length_mm</th>\n",
       "      <th>body_mass_g</th>\n",
       "      <th>sex</th>\n",
       "    </tr>\n",
       "  </thead>\n",
       "  <tbody>\n",
       "    <tr>\n",
       "      <th>count</th>\n",
       "      <td>344</td>\n",
       "      <td>344</td>\n",
       "      <td>344.000000</td>\n",
       "      <td>344.000000</td>\n",
       "      <td>344.000000</td>\n",
       "      <td>344.000000</td>\n",
       "      <td>344</td>\n",
       "    </tr>\n",
       "    <tr>\n",
       "      <th>unique</th>\n",
       "      <td>3</td>\n",
       "      <td>3</td>\n",
       "      <td>NaN</td>\n",
       "      <td>NaN</td>\n",
       "      <td>NaN</td>\n",
       "      <td>NaN</td>\n",
       "      <td>2</td>\n",
       "    </tr>\n",
       "    <tr>\n",
       "      <th>top</th>\n",
       "      <td>Adelie</td>\n",
       "      <td>Biscoe</td>\n",
       "      <td>NaN</td>\n",
       "      <td>NaN</td>\n",
       "      <td>NaN</td>\n",
       "      <td>NaN</td>\n",
       "      <td>Male</td>\n",
       "    </tr>\n",
       "    <tr>\n",
       "      <th>freq</th>\n",
       "      <td>152</td>\n",
       "      <td>168</td>\n",
       "      <td>NaN</td>\n",
       "      <td>NaN</td>\n",
       "      <td>NaN</td>\n",
       "      <td>NaN</td>\n",
       "      <td>179</td>\n",
       "    </tr>\n",
       "    <tr>\n",
       "      <th>mean</th>\n",
       "      <td>NaN</td>\n",
       "      <td>NaN</td>\n",
       "      <td>43.905523</td>\n",
       "      <td>17.150291</td>\n",
       "      <td>200.851744</td>\n",
       "      <td>4199.418605</td>\n",
       "      <td>NaN</td>\n",
       "    </tr>\n",
       "    <tr>\n",
       "      <th>std</th>\n",
       "      <td>NaN</td>\n",
       "      <td>NaN</td>\n",
       "      <td>5.447882</td>\n",
       "      <td>1.969061</td>\n",
       "      <td>14.045266</td>\n",
       "      <td>800.197923</td>\n",
       "      <td>NaN</td>\n",
       "    </tr>\n",
       "    <tr>\n",
       "      <th>min</th>\n",
       "      <td>NaN</td>\n",
       "      <td>NaN</td>\n",
       "      <td>32.100000</td>\n",
       "      <td>13.100000</td>\n",
       "      <td>172.000000</td>\n",
       "      <td>2700.000000</td>\n",
       "      <td>NaN</td>\n",
       "    </tr>\n",
       "    <tr>\n",
       "      <th>25%</th>\n",
       "      <td>NaN</td>\n",
       "      <td>NaN</td>\n",
       "      <td>39.275000</td>\n",
       "      <td>15.600000</td>\n",
       "      <td>190.000000</td>\n",
       "      <td>3550.000000</td>\n",
       "      <td>NaN</td>\n",
       "    </tr>\n",
       "    <tr>\n",
       "      <th>50%</th>\n",
       "      <td>NaN</td>\n",
       "      <td>NaN</td>\n",
       "      <td>44.250000</td>\n",
       "      <td>17.300000</td>\n",
       "      <td>197.000000</td>\n",
       "      <td>4025.000000</td>\n",
       "      <td>NaN</td>\n",
       "    </tr>\n",
       "    <tr>\n",
       "      <th>75%</th>\n",
       "      <td>NaN</td>\n",
       "      <td>NaN</td>\n",
       "      <td>48.500000</td>\n",
       "      <td>18.700000</td>\n",
       "      <td>213.000000</td>\n",
       "      <td>4750.000000</td>\n",
       "      <td>NaN</td>\n",
       "    </tr>\n",
       "    <tr>\n",
       "      <th>max</th>\n",
       "      <td>NaN</td>\n",
       "      <td>NaN</td>\n",
       "      <td>59.600000</td>\n",
       "      <td>21.500000</td>\n",
       "      <td>231.000000</td>\n",
       "      <td>6300.000000</td>\n",
       "      <td>NaN</td>\n",
       "    </tr>\n",
       "  </tbody>\n",
       "</table>\n",
       "</div>"
      ],
      "text/plain": [
       "       species  island  bill_length_mm  bill_depth_mm  flipper_length_mm  \\\n",
       "count      344     344      344.000000     344.000000         344.000000   \n",
       "unique       3       3             NaN            NaN                NaN   \n",
       "top     Adelie  Biscoe             NaN            NaN                NaN   \n",
       "freq       152     168             NaN            NaN                NaN   \n",
       "mean       NaN     NaN       43.905523      17.150291         200.851744   \n",
       "std        NaN     NaN        5.447882       1.969061          14.045266   \n",
       "min        NaN     NaN       32.100000      13.100000         172.000000   \n",
       "25%        NaN     NaN       39.275000      15.600000         190.000000   \n",
       "50%        NaN     NaN       44.250000      17.300000         197.000000   \n",
       "75%        NaN     NaN       48.500000      18.700000         213.000000   \n",
       "max        NaN     NaN       59.600000      21.500000         231.000000   \n",
       "\n",
       "        body_mass_g   sex  \n",
       "count    344.000000   344  \n",
       "unique          NaN     2  \n",
       "top             NaN  Male  \n",
       "freq            NaN   179  \n",
       "mean    4199.418605   NaN  \n",
       "std      800.197923   NaN  \n",
       "min     2700.000000   NaN  \n",
       "25%     3550.000000   NaN  \n",
       "50%     4025.000000   NaN  \n",
       "75%     4750.000000   NaN  \n",
       "max     6300.000000   NaN  "
      ]
     },
     "execution_count": 13,
     "metadata": {},
     "output_type": "execute_result"
    }
   ],
   "source": [
    "data.describe(include='all')"
   ]
  },
  {
   "cell_type": "markdown",
   "id": "b3f62de8-52cf-4bbf-a3a2-f2e80ec9fe7d",
   "metadata": {},
   "source": [
    "Однако нам не так интересна та информация, которую мы получили для первых двух столбцов. Поэтому вернемся к предыдущей таблице характеристик. Как можно видеть, в ней не хватает информации о моде, медиане, IQR, ассиметрии и эксцессе. Рассчитаем все эти значения отдельно и добавим к нашей таблице"
   ]
  },
  {
   "cell_type": "code",
   "execution_count": 14,
   "id": "c3cc456f-fa7e-4450-8393-b05d6284c905",
   "metadata": {},
   "outputs": [
    {
     "data": {
      "text/html": [
       "<div>\n",
       "<style scoped>\n",
       "    .dataframe tbody tr th:only-of-type {\n",
       "        vertical-align: middle;\n",
       "    }\n",
       "\n",
       "    .dataframe tbody tr th {\n",
       "        vertical-align: top;\n",
       "    }\n",
       "\n",
       "    .dataframe thead th {\n",
       "        text-align: right;\n",
       "    }\n",
       "</style>\n",
       "<table border=\"1\" class=\"dataframe\">\n",
       "  <thead>\n",
       "    <tr style=\"text-align: right;\">\n",
       "      <th></th>\n",
       "      <th>bill_length_mm</th>\n",
       "      <th>bill_depth_mm</th>\n",
       "      <th>flipper_length_mm</th>\n",
       "      <th>body_mass_g</th>\n",
       "    </tr>\n",
       "  </thead>\n",
       "  <tbody>\n",
       "    <tr>\n",
       "      <th>0</th>\n",
       "      <td>39.1</td>\n",
       "      <td>18.7</td>\n",
       "      <td>181.0</td>\n",
       "      <td>3750.0</td>\n",
       "    </tr>\n",
       "    <tr>\n",
       "      <th>1</th>\n",
       "      <td>39.5</td>\n",
       "      <td>17.4</td>\n",
       "      <td>186.0</td>\n",
       "      <td>3800.0</td>\n",
       "    </tr>\n",
       "    <tr>\n",
       "      <th>2</th>\n",
       "      <td>40.3</td>\n",
       "      <td>18.0</td>\n",
       "      <td>195.0</td>\n",
       "      <td>3250.0</td>\n",
       "    </tr>\n",
       "    <tr>\n",
       "      <th>3</th>\n",
       "      <td>41.1</td>\n",
       "      <td>17.0</td>\n",
       "      <td>190.0</td>\n",
       "      <td>3800.0</td>\n",
       "    </tr>\n",
       "    <tr>\n",
       "      <th>4</th>\n",
       "      <td>36.7</td>\n",
       "      <td>19.3</td>\n",
       "      <td>193.0</td>\n",
       "      <td>3450.0</td>\n",
       "    </tr>\n",
       "    <tr>\n",
       "      <th>...</th>\n",
       "      <td>...</td>\n",
       "      <td>...</td>\n",
       "      <td>...</td>\n",
       "      <td>...</td>\n",
       "    </tr>\n",
       "    <tr>\n",
       "      <th>339</th>\n",
       "      <td>41.1</td>\n",
       "      <td>17.0</td>\n",
       "      <td>190.0</td>\n",
       "      <td>3800.0</td>\n",
       "    </tr>\n",
       "    <tr>\n",
       "      <th>340</th>\n",
       "      <td>46.8</td>\n",
       "      <td>14.3</td>\n",
       "      <td>215.0</td>\n",
       "      <td>4850.0</td>\n",
       "    </tr>\n",
       "    <tr>\n",
       "      <th>341</th>\n",
       "      <td>50.4</td>\n",
       "      <td>15.7</td>\n",
       "      <td>222.0</td>\n",
       "      <td>5750.0</td>\n",
       "    </tr>\n",
       "    <tr>\n",
       "      <th>342</th>\n",
       "      <td>45.2</td>\n",
       "      <td>14.8</td>\n",
       "      <td>212.0</td>\n",
       "      <td>5200.0</td>\n",
       "    </tr>\n",
       "    <tr>\n",
       "      <th>343</th>\n",
       "      <td>49.9</td>\n",
       "      <td>16.1</td>\n",
       "      <td>213.0</td>\n",
       "      <td>5400.0</td>\n",
       "    </tr>\n",
       "  </tbody>\n",
       "</table>\n",
       "<p>344 rows × 4 columns</p>\n",
       "</div>"
      ],
      "text/plain": [
       "     bill_length_mm  bill_depth_mm  flipper_length_mm  body_mass_g\n",
       "0              39.1           18.7              181.0       3750.0\n",
       "1              39.5           17.4              186.0       3800.0\n",
       "2              40.3           18.0              195.0       3250.0\n",
       "3              41.1           17.0              190.0       3800.0\n",
       "4              36.7           19.3              193.0       3450.0\n",
       "..              ...            ...                ...          ...\n",
       "339            41.1           17.0              190.0       3800.0\n",
       "340            46.8           14.3              215.0       4850.0\n",
       "341            50.4           15.7              222.0       5750.0\n",
       "342            45.2           14.8              212.0       5200.0\n",
       "343            49.9           16.1              213.0       5400.0\n",
       "\n",
       "[344 rows x 4 columns]"
      ]
     },
     "execution_count": 14,
     "metadata": {},
     "output_type": "execute_result"
    }
   ],
   "source": [
    "numerical_features = data.iloc[:, 2:-1]\n",
    "numerical_features"
   ]
  },
  {
   "cell_type": "code",
   "execution_count": 15,
   "id": "6c0dc74f-baa6-4b6c-9c8a-1e3b7836be09",
   "metadata": {},
   "outputs": [],
   "source": [
    "from scipy.stats import skew, kurtosis\n",
    "\n",
    "descriptive_statistics = numerical_features.describe()\n",
    "descriptive_statistics.loc['median'] = numerical_features.median()\n",
    "descriptive_statistics.loc['mode'] = numerical_features.mode().loc[0]\n",
    "descriptive_statistics.loc['IQR'] = descriptive_statistics.loc[['75%']].iloc[0] - descriptive_statistics.loc[['25%']].iloc[0]\n",
    "descriptive_statistics.loc['skewness'] = skew(numerical_features, bias=False)\n",
    "descriptive_statistics.loc['kurtosis'] = kurtosis(numerical_features, bias=False)"
   ]
  },
  {
   "cell_type": "code",
   "execution_count": 16,
   "id": "0defa2f6-c0a7-4dbb-a05e-603c1cb38a8a",
   "metadata": {},
   "outputs": [
    {
     "data": {
      "text/html": [
       "<div>\n",
       "<style scoped>\n",
       "    .dataframe tbody tr th:only-of-type {\n",
       "        vertical-align: middle;\n",
       "    }\n",
       "\n",
       "    .dataframe tbody tr th {\n",
       "        vertical-align: top;\n",
       "    }\n",
       "\n",
       "    .dataframe thead th {\n",
       "        text-align: right;\n",
       "    }\n",
       "</style>\n",
       "<table border=\"1\" class=\"dataframe\">\n",
       "  <thead>\n",
       "    <tr style=\"text-align: right;\">\n",
       "      <th></th>\n",
       "      <th>bill_length_mm</th>\n",
       "      <th>bill_depth_mm</th>\n",
       "      <th>flipper_length_mm</th>\n",
       "      <th>body_mass_g</th>\n",
       "    </tr>\n",
       "  </thead>\n",
       "  <tbody>\n",
       "    <tr>\n",
       "      <th>count</th>\n",
       "      <td>344.000000</td>\n",
       "      <td>344.000000</td>\n",
       "      <td>344.000000</td>\n",
       "      <td>344.000000</td>\n",
       "    </tr>\n",
       "    <tr>\n",
       "      <th>mean</th>\n",
       "      <td>43.905523</td>\n",
       "      <td>17.150291</td>\n",
       "      <td>200.851744</td>\n",
       "      <td>4199.418605</td>\n",
       "    </tr>\n",
       "    <tr>\n",
       "      <th>std</th>\n",
       "      <td>5.447882</td>\n",
       "      <td>1.969061</td>\n",
       "      <td>14.045266</td>\n",
       "      <td>800.197923</td>\n",
       "    </tr>\n",
       "    <tr>\n",
       "      <th>min</th>\n",
       "      <td>32.100000</td>\n",
       "      <td>13.100000</td>\n",
       "      <td>172.000000</td>\n",
       "      <td>2700.000000</td>\n",
       "    </tr>\n",
       "    <tr>\n",
       "      <th>25%</th>\n",
       "      <td>39.275000</td>\n",
       "      <td>15.600000</td>\n",
       "      <td>190.000000</td>\n",
       "      <td>3550.000000</td>\n",
       "    </tr>\n",
       "    <tr>\n",
       "      <th>50%</th>\n",
       "      <td>44.250000</td>\n",
       "      <td>17.300000</td>\n",
       "      <td>197.000000</td>\n",
       "      <td>4025.000000</td>\n",
       "    </tr>\n",
       "    <tr>\n",
       "      <th>75%</th>\n",
       "      <td>48.500000</td>\n",
       "      <td>18.700000</td>\n",
       "      <td>213.000000</td>\n",
       "      <td>4750.000000</td>\n",
       "    </tr>\n",
       "    <tr>\n",
       "      <th>max</th>\n",
       "      <td>59.600000</td>\n",
       "      <td>21.500000</td>\n",
       "      <td>231.000000</td>\n",
       "      <td>6300.000000</td>\n",
       "    </tr>\n",
       "    <tr>\n",
       "      <th>median</th>\n",
       "      <td>44.250000</td>\n",
       "      <td>17.300000</td>\n",
       "      <td>197.000000</td>\n",
       "      <td>4025.000000</td>\n",
       "    </tr>\n",
       "    <tr>\n",
       "      <th>mode</th>\n",
       "      <td>41.100000</td>\n",
       "      <td>17.000000</td>\n",
       "      <td>190.000000</td>\n",
       "      <td>3800.000000</td>\n",
       "    </tr>\n",
       "    <tr>\n",
       "      <th>IQR</th>\n",
       "      <td>9.225000</td>\n",
       "      <td>3.100000</td>\n",
       "      <td>23.000000</td>\n",
       "      <td>1200.000000</td>\n",
       "    </tr>\n",
       "    <tr>\n",
       "      <th>skewness</th>\n",
       "      <td>0.061420</td>\n",
       "      <td>-0.142528</td>\n",
       "      <td>0.355745</td>\n",
       "      <td>0.478723</td>\n",
       "    </tr>\n",
       "    <tr>\n",
       "      <th>kurtosis</th>\n",
       "      <td>-0.869083</td>\n",
       "      <td>-0.894901</td>\n",
       "      <td>-0.978163</td>\n",
       "      <td>-0.706568</td>\n",
       "    </tr>\n",
       "  </tbody>\n",
       "</table>\n",
       "</div>"
      ],
      "text/plain": [
       "          bill_length_mm  bill_depth_mm  flipper_length_mm  body_mass_g\n",
       "count         344.000000     344.000000         344.000000   344.000000\n",
       "mean           43.905523      17.150291         200.851744  4199.418605\n",
       "std             5.447882       1.969061          14.045266   800.197923\n",
       "min            32.100000      13.100000         172.000000  2700.000000\n",
       "25%            39.275000      15.600000         190.000000  3550.000000\n",
       "50%            44.250000      17.300000         197.000000  4025.000000\n",
       "75%            48.500000      18.700000         213.000000  4750.000000\n",
       "max            59.600000      21.500000         231.000000  6300.000000\n",
       "median         44.250000      17.300000         197.000000  4025.000000\n",
       "mode           41.100000      17.000000         190.000000  3800.000000\n",
       "IQR             9.225000       3.100000          23.000000  1200.000000\n",
       "skewness        0.061420      -0.142528           0.355745     0.478723\n",
       "kurtosis       -0.869083      -0.894901          -0.978163    -0.706568"
      ]
     },
     "execution_count": 16,
     "metadata": {},
     "output_type": "execute_result"
    }
   ],
   "source": [
    "descriptive_statistics"
   ]
  },
  {
   "cell_type": "markdown",
   "id": "3296949d-2fb6-4f64-8f58-632d5fbf27b2",
   "metadata": {},
   "source": [
    "Итак, мы собрали все наши характеристики. Далее можно пытаться их более подробно анализировать. \n",
    "\n",
    "Например, проанализируем признак bill_lentgh_mm. Можно увидеть, что среднее, медиана и мода приблизительно равны между собой. Следовательно, в распределении этого признака отсутствуют значительные аномальные наблюдения. Минимальное и максимальное значения не сильно отклоняются от квартилей, следовательно, вряд ли в выборке есть выбросы. Коэффициент ассиметрии близок к нулю, значит график будет симметричным, а эксцесс отрицательный и близок к 1, значит вершина графика распределения будет чуть более острая, чем у нормального распределения.\n",
    "\n",
    "Здесь опять же нужно понимать, чего мы добиваемся. Общая информация о данных, конечно, неплоха, однако все это куда полезнее в случае однородных данных. В нашем же примере данные неоднородны, поскольку у нас присутствует три различных класса. Поэтому логичнее заниматься исследованием характеристик каждого отдельного вида пингвинов."
   ]
  },
  {
   "cell_type": "code",
   "execution_count": 17,
   "id": "4ee35fa9-b4a6-4218-9ea2-1646f7b8319d",
   "metadata": {},
   "outputs": [],
   "source": [
    "def calculate_statistics(numerical_features):\n",
    "    descriptive_statistics = numerical_features.describe()\n",
    "    descriptive_statistics.loc['median'] = numerical_features.median()\n",
    "    descriptive_statistics.loc['mode'] = numerical_features.mode().loc[0]\n",
    "    descriptive_statistics.loc['IQR'] = descriptive_statistics.loc[['75%']].iloc[0] - descriptive_statistics.loc[['25%']].iloc[0]\n",
    "    descriptive_statistics.loc['skewness'] = skew(numerical_features, bias=False)\n",
    "    descriptive_statistics.loc['kurtosis'] = kurtosis(numerical_features, bias=False)\n",
    "    return descriptive_statistics"
   ]
  },
  {
   "cell_type": "code",
   "execution_count": 18,
   "id": "9bc99f68-5382-493d-b9eb-f04360a4e8cb",
   "metadata": {},
   "outputs": [],
   "source": [
    "adelie_penguins = data[data.species=='Adelie']\n",
    "chistrap_penguins = data[data.species=='Chinstrap']\n",
    "gentoo_penguins = data[data.species=='Gentoo']"
   ]
  },
  {
   "cell_type": "markdown",
   "id": "09e451f1-aa18-48e3-84f5-08f00d2b54ce",
   "metadata": {},
   "source": [
    "Статистики для вида Adelie"
   ]
  },
  {
   "cell_type": "code",
   "execution_count": 19,
   "id": "6f0e395f-9bc2-42e1-9d1d-dc3ec86b0452",
   "metadata": {},
   "outputs": [
    {
     "data": {
      "text/html": [
       "<div>\n",
       "<style scoped>\n",
       "    .dataframe tbody tr th:only-of-type {\n",
       "        vertical-align: middle;\n",
       "    }\n",
       "\n",
       "    .dataframe tbody tr th {\n",
       "        vertical-align: top;\n",
       "    }\n",
       "\n",
       "    .dataframe thead th {\n",
       "        text-align: right;\n",
       "    }\n",
       "</style>\n",
       "<table border=\"1\" class=\"dataframe\">\n",
       "  <thead>\n",
       "    <tr style=\"text-align: right;\">\n",
       "      <th></th>\n",
       "      <th>bill_length_mm</th>\n",
       "      <th>bill_depth_mm</th>\n",
       "      <th>flipper_length_mm</th>\n",
       "      <th>body_mass_g</th>\n",
       "    </tr>\n",
       "  </thead>\n",
       "  <tbody>\n",
       "    <tr>\n",
       "      <th>count</th>\n",
       "      <td>152.000000</td>\n",
       "      <td>152.000000</td>\n",
       "      <td>152.000000</td>\n",
       "      <td>152.000000</td>\n",
       "    </tr>\n",
       "    <tr>\n",
       "      <th>mean</th>\n",
       "      <td>38.806579</td>\n",
       "      <td>18.337500</td>\n",
       "      <td>189.953947</td>\n",
       "      <td>3701.315789</td>\n",
       "    </tr>\n",
       "    <tr>\n",
       "      <th>std</th>\n",
       "      <td>2.661167</td>\n",
       "      <td>1.217522</td>\n",
       "      <td>6.517769</td>\n",
       "      <td>457.116190</td>\n",
       "    </tr>\n",
       "    <tr>\n",
       "      <th>min</th>\n",
       "      <td>32.100000</td>\n",
       "      <td>15.500000</td>\n",
       "      <td>172.000000</td>\n",
       "      <td>2850.000000</td>\n",
       "    </tr>\n",
       "    <tr>\n",
       "      <th>25%</th>\n",
       "      <td>36.775000</td>\n",
       "      <td>17.475000</td>\n",
       "      <td>186.000000</td>\n",
       "      <td>3350.000000</td>\n",
       "    </tr>\n",
       "    <tr>\n",
       "      <th>50%</th>\n",
       "      <td>38.800000</td>\n",
       "      <td>18.400000</td>\n",
       "      <td>190.000000</td>\n",
       "      <td>3700.000000</td>\n",
       "    </tr>\n",
       "    <tr>\n",
       "      <th>75%</th>\n",
       "      <td>40.800000</td>\n",
       "      <td>19.000000</td>\n",
       "      <td>195.000000</td>\n",
       "      <td>4000.000000</td>\n",
       "    </tr>\n",
       "    <tr>\n",
       "      <th>max</th>\n",
       "      <td>46.000000</td>\n",
       "      <td>21.500000</td>\n",
       "      <td>210.000000</td>\n",
       "      <td>4775.000000</td>\n",
       "    </tr>\n",
       "    <tr>\n",
       "      <th>median</th>\n",
       "      <td>38.800000</td>\n",
       "      <td>18.400000</td>\n",
       "      <td>190.000000</td>\n",
       "      <td>3700.000000</td>\n",
       "    </tr>\n",
       "    <tr>\n",
       "      <th>mode</th>\n",
       "      <td>41.100000</td>\n",
       "      <td>18.500000</td>\n",
       "      <td>190.000000</td>\n",
       "      <td>3800.000000</td>\n",
       "    </tr>\n",
       "    <tr>\n",
       "      <th>IQR</th>\n",
       "      <td>4.025000</td>\n",
       "      <td>1.525000</td>\n",
       "      <td>9.000000</td>\n",
       "      <td>650.000000</td>\n",
       "    </tr>\n",
       "    <tr>\n",
       "      <th>skewness</th>\n",
       "      <td>0.148026</td>\n",
       "      <td>0.331440</td>\n",
       "      <td>0.087477</td>\n",
       "      <td>0.281850</td>\n",
       "    </tr>\n",
       "    <tr>\n",
       "      <th>kurtosis</th>\n",
       "      <td>-0.166847</td>\n",
       "      <td>-0.069209</td>\n",
       "      <td>0.354064</td>\n",
       "      <td>-0.560617</td>\n",
       "    </tr>\n",
       "  </tbody>\n",
       "</table>\n",
       "</div>"
      ],
      "text/plain": [
       "          bill_length_mm  bill_depth_mm  flipper_length_mm  body_mass_g\n",
       "count         152.000000     152.000000         152.000000   152.000000\n",
       "mean           38.806579      18.337500         189.953947  3701.315789\n",
       "std             2.661167       1.217522           6.517769   457.116190\n",
       "min            32.100000      15.500000         172.000000  2850.000000\n",
       "25%            36.775000      17.475000         186.000000  3350.000000\n",
       "50%            38.800000      18.400000         190.000000  3700.000000\n",
       "75%            40.800000      19.000000         195.000000  4000.000000\n",
       "max            46.000000      21.500000         210.000000  4775.000000\n",
       "median         38.800000      18.400000         190.000000  3700.000000\n",
       "mode           41.100000      18.500000         190.000000  3800.000000\n",
       "IQR             4.025000       1.525000           9.000000   650.000000\n",
       "skewness        0.148026       0.331440           0.087477     0.281850\n",
       "kurtosis       -0.166847      -0.069209           0.354064    -0.560617"
      ]
     },
     "execution_count": 19,
     "metadata": {},
     "output_type": "execute_result"
    }
   ],
   "source": [
    "calculate_statistics(adelie_penguins.iloc[:, 2:-1])"
   ]
  },
  {
   "cell_type": "markdown",
   "id": "4bb0b6e7-aee3-48df-b689-5a70fc1ab893",
   "metadata": {},
   "source": [
    "Статистики для вида Chinstrap"
   ]
  },
  {
   "cell_type": "code",
   "execution_count": 20,
   "id": "134e958f-7586-40b7-9d31-fe88b6b9dfd0",
   "metadata": {},
   "outputs": [
    {
     "data": {
      "text/html": [
       "<div>\n",
       "<style scoped>\n",
       "    .dataframe tbody tr th:only-of-type {\n",
       "        vertical-align: middle;\n",
       "    }\n",
       "\n",
       "    .dataframe tbody tr th {\n",
       "        vertical-align: top;\n",
       "    }\n",
       "\n",
       "    .dataframe thead th {\n",
       "        text-align: right;\n",
       "    }\n",
       "</style>\n",
       "<table border=\"1\" class=\"dataframe\">\n",
       "  <thead>\n",
       "    <tr style=\"text-align: right;\">\n",
       "      <th></th>\n",
       "      <th>bill_length_mm</th>\n",
       "      <th>bill_depth_mm</th>\n",
       "      <th>flipper_length_mm</th>\n",
       "      <th>body_mass_g</th>\n",
       "    </tr>\n",
       "  </thead>\n",
       "  <tbody>\n",
       "    <tr>\n",
       "      <th>count</th>\n",
       "      <td>68.000000</td>\n",
       "      <td>68.000000</td>\n",
       "      <td>68.000000</td>\n",
       "      <td>68.000000</td>\n",
       "    </tr>\n",
       "    <tr>\n",
       "      <th>mean</th>\n",
       "      <td>48.833824</td>\n",
       "      <td>18.420588</td>\n",
       "      <td>195.823529</td>\n",
       "      <td>3733.088235</td>\n",
       "    </tr>\n",
       "    <tr>\n",
       "      <th>std</th>\n",
       "      <td>3.339256</td>\n",
       "      <td>1.135395</td>\n",
       "      <td>7.131894</td>\n",
       "      <td>384.335081</td>\n",
       "    </tr>\n",
       "    <tr>\n",
       "      <th>min</th>\n",
       "      <td>40.900000</td>\n",
       "      <td>16.400000</td>\n",
       "      <td>178.000000</td>\n",
       "      <td>2700.000000</td>\n",
       "    </tr>\n",
       "    <tr>\n",
       "      <th>25%</th>\n",
       "      <td>46.350000</td>\n",
       "      <td>17.500000</td>\n",
       "      <td>191.000000</td>\n",
       "      <td>3487.500000</td>\n",
       "    </tr>\n",
       "    <tr>\n",
       "      <th>50%</th>\n",
       "      <td>49.550000</td>\n",
       "      <td>18.450000</td>\n",
       "      <td>196.000000</td>\n",
       "      <td>3700.000000</td>\n",
       "    </tr>\n",
       "    <tr>\n",
       "      <th>75%</th>\n",
       "      <td>51.075000</td>\n",
       "      <td>19.400000</td>\n",
       "      <td>201.000000</td>\n",
       "      <td>3950.000000</td>\n",
       "    </tr>\n",
       "    <tr>\n",
       "      <th>max</th>\n",
       "      <td>58.000000</td>\n",
       "      <td>20.800000</td>\n",
       "      <td>212.000000</td>\n",
       "      <td>4800.000000</td>\n",
       "    </tr>\n",
       "    <tr>\n",
       "      <th>median</th>\n",
       "      <td>49.550000</td>\n",
       "      <td>18.450000</td>\n",
       "      <td>196.000000</td>\n",
       "      <td>3700.000000</td>\n",
       "    </tr>\n",
       "    <tr>\n",
       "      <th>mode</th>\n",
       "      <td>51.300000</td>\n",
       "      <td>17.300000</td>\n",
       "      <td>187.000000</td>\n",
       "      <td>3400.000000</td>\n",
       "    </tr>\n",
       "    <tr>\n",
       "      <th>IQR</th>\n",
       "      <td>4.725000</td>\n",
       "      <td>1.900000</td>\n",
       "      <td>10.000000</td>\n",
       "      <td>462.500000</td>\n",
       "    </tr>\n",
       "    <tr>\n",
       "      <th>skewness</th>\n",
       "      <td>-0.090575</td>\n",
       "      <td>0.006879</td>\n",
       "      <td>-0.009472</td>\n",
       "      <td>0.247433</td>\n",
       "    </tr>\n",
       "    <tr>\n",
       "      <th>kurtosis</th>\n",
       "      <td>0.035860</td>\n",
       "      <td>-0.874796</td>\n",
       "      <td>0.046358</td>\n",
       "      <td>0.593379</td>\n",
       "    </tr>\n",
       "  </tbody>\n",
       "</table>\n",
       "</div>"
      ],
      "text/plain": [
       "          bill_length_mm  bill_depth_mm  flipper_length_mm  body_mass_g\n",
       "count          68.000000      68.000000          68.000000    68.000000\n",
       "mean           48.833824      18.420588         195.823529  3733.088235\n",
       "std             3.339256       1.135395           7.131894   384.335081\n",
       "min            40.900000      16.400000         178.000000  2700.000000\n",
       "25%            46.350000      17.500000         191.000000  3487.500000\n",
       "50%            49.550000      18.450000         196.000000  3700.000000\n",
       "75%            51.075000      19.400000         201.000000  3950.000000\n",
       "max            58.000000      20.800000         212.000000  4800.000000\n",
       "median         49.550000      18.450000         196.000000  3700.000000\n",
       "mode           51.300000      17.300000         187.000000  3400.000000\n",
       "IQR             4.725000       1.900000          10.000000   462.500000\n",
       "skewness       -0.090575       0.006879          -0.009472     0.247433\n",
       "kurtosis        0.035860      -0.874796           0.046358     0.593379"
      ]
     },
     "execution_count": 20,
     "metadata": {},
     "output_type": "execute_result"
    }
   ],
   "source": [
    "calculate_statistics(chistrap_penguins.iloc[:, 2:-1])"
   ]
  },
  {
   "cell_type": "markdown",
   "id": "d69a7f1e-a132-49dd-9063-a695e8d19a8d",
   "metadata": {},
   "source": [
    "Статистики для вида Gentoo"
   ]
  },
  {
   "cell_type": "code",
   "execution_count": 21,
   "id": "54064413-58aa-4e49-857e-612aaef2940e",
   "metadata": {},
   "outputs": [
    {
     "data": {
      "text/html": [
       "<div>\n",
       "<style scoped>\n",
       "    .dataframe tbody tr th:only-of-type {\n",
       "        vertical-align: middle;\n",
       "    }\n",
       "\n",
       "    .dataframe tbody tr th {\n",
       "        vertical-align: top;\n",
       "    }\n",
       "\n",
       "    .dataframe thead th {\n",
       "        text-align: right;\n",
       "    }\n",
       "</style>\n",
       "<table border=\"1\" class=\"dataframe\">\n",
       "  <thead>\n",
       "    <tr style=\"text-align: right;\">\n",
       "      <th></th>\n",
       "      <th>bill_length_mm</th>\n",
       "      <th>bill_depth_mm</th>\n",
       "      <th>flipper_length_mm</th>\n",
       "      <th>body_mass_g</th>\n",
       "    </tr>\n",
       "  </thead>\n",
       "  <tbody>\n",
       "    <tr>\n",
       "      <th>count</th>\n",
       "      <td>124.000000</td>\n",
       "      <td>124.000000</td>\n",
       "      <td>124.000000</td>\n",
       "      <td>124.000000</td>\n",
       "    </tr>\n",
       "    <tr>\n",
       "      <th>mean</th>\n",
       "      <td>47.453226</td>\n",
       "      <td>14.998387</td>\n",
       "      <td>216.967742</td>\n",
       "      <td>5065.725806</td>\n",
       "    </tr>\n",
       "    <tr>\n",
       "      <th>std</th>\n",
       "      <td>3.122732</td>\n",
       "      <td>0.993882</td>\n",
       "      <td>6.904618</td>\n",
       "      <td>514.973633</td>\n",
       "    </tr>\n",
       "    <tr>\n",
       "      <th>min</th>\n",
       "      <td>40.900000</td>\n",
       "      <td>13.100000</td>\n",
       "      <td>190.000000</td>\n",
       "      <td>3800.000000</td>\n",
       "    </tr>\n",
       "    <tr>\n",
       "      <th>25%</th>\n",
       "      <td>45.275000</td>\n",
       "      <td>14.200000</td>\n",
       "      <td>212.000000</td>\n",
       "      <td>4700.000000</td>\n",
       "    </tr>\n",
       "    <tr>\n",
       "      <th>50%</th>\n",
       "      <td>47.250000</td>\n",
       "      <td>15.000000</td>\n",
       "      <td>216.000000</td>\n",
       "      <td>5000.000000</td>\n",
       "    </tr>\n",
       "    <tr>\n",
       "      <th>75%</th>\n",
       "      <td>49.525000</td>\n",
       "      <td>15.725000</td>\n",
       "      <td>221.000000</td>\n",
       "      <td>5500.000000</td>\n",
       "    </tr>\n",
       "    <tr>\n",
       "      <th>max</th>\n",
       "      <td>59.600000</td>\n",
       "      <td>17.300000</td>\n",
       "      <td>231.000000</td>\n",
       "      <td>6300.000000</td>\n",
       "    </tr>\n",
       "    <tr>\n",
       "      <th>median</th>\n",
       "      <td>47.250000</td>\n",
       "      <td>15.000000</td>\n",
       "      <td>216.000000</td>\n",
       "      <td>5000.000000</td>\n",
       "    </tr>\n",
       "    <tr>\n",
       "      <th>mode</th>\n",
       "      <td>45.200000</td>\n",
       "      <td>15.000000</td>\n",
       "      <td>215.000000</td>\n",
       "      <td>5000.000000</td>\n",
       "    </tr>\n",
       "    <tr>\n",
       "      <th>IQR</th>\n",
       "      <td>4.250000</td>\n",
       "      <td>1.525000</td>\n",
       "      <td>9.000000</td>\n",
       "      <td>800.000000</td>\n",
       "    </tr>\n",
       "    <tr>\n",
       "      <th>skewness</th>\n",
       "      <td>0.599865</td>\n",
       "      <td>0.328645</td>\n",
       "      <td>-0.083157</td>\n",
       "      <td>0.000011</td>\n",
       "    </tr>\n",
       "    <tr>\n",
       "      <th>kurtosis</th>\n",
       "      <td>1.228246</td>\n",
       "      <td>-0.606467</td>\n",
       "      <td>0.888933</td>\n",
       "      <td>-0.613518</td>\n",
       "    </tr>\n",
       "  </tbody>\n",
       "</table>\n",
       "</div>"
      ],
      "text/plain": [
       "          bill_length_mm  bill_depth_mm  flipper_length_mm  body_mass_g\n",
       "count         124.000000     124.000000         124.000000   124.000000\n",
       "mean           47.453226      14.998387         216.967742  5065.725806\n",
       "std             3.122732       0.993882           6.904618   514.973633\n",
       "min            40.900000      13.100000         190.000000  3800.000000\n",
       "25%            45.275000      14.200000         212.000000  4700.000000\n",
       "50%            47.250000      15.000000         216.000000  5000.000000\n",
       "75%            49.525000      15.725000         221.000000  5500.000000\n",
       "max            59.600000      17.300000         231.000000  6300.000000\n",
       "median         47.250000      15.000000         216.000000  5000.000000\n",
       "mode           45.200000      15.000000         215.000000  5000.000000\n",
       "IQR             4.250000       1.525000           9.000000   800.000000\n",
       "skewness        0.599865       0.328645          -0.083157     0.000011\n",
       "kurtosis        1.228246      -0.606467           0.888933    -0.613518"
      ]
     },
     "execution_count": 21,
     "metadata": {},
     "output_type": "execute_result"
    }
   ],
   "source": [
    "calculate_statistics(gentoo_penguins.iloc[:, 2:-1])"
   ]
  },
  {
   "cell_type": "markdown",
   "id": "7c774b61-4b6b-4326-bbbe-eee97e17c89a",
   "metadata": {},
   "source": [
    "Далее можно уже подробнее исследовать характеристики каждого из видов пингвинов."
   ]
  },
  {
   "cell_type": "markdown",
   "id": "14ce5c0d-df05-49f4-94c2-32902386dce6",
   "metadata": {},
   "source": [
    "## Ящик с усами / Boxplot"
   ]
  },
  {
   "cell_type": "markdown",
   "id": "2872519d-5c97-42f4-bc59-370481450533",
   "metadata": {},
   "source": [
    "Какую информацию отображает Boxplot?\n",
    "\n",
    "**Медиана (Q2)** – это значение элемента в центре ранжированного ряда. Медиана меньше подвержена влиянию выбросов, поэтому в центре отображается именно она, а не среднеарифметическое.\n",
    "\n",
    "**Верхний квартиль (Q1)**– это значение, выше которого только 25% оценок.\n",
    "\n",
    "**Нижний квартиль (Q3)** – это значение, ниже которого только 25% оценок.\n",
    "\n",
    "**Межквартильный размах (IQR)** – это разница между 75% и 25% квартилем. Внутри этого диапазона лежит 50% наблюдений. Если диапазон узкий, значит члены подгруппы единогласны в своих оценках. Если широкий – значит однородного мнения нет.\n",
    "\n",
    "**Выбросы** – это нетипичные наблюдения. Что именно считать нетипичным? Зависит от контекста, но можно прибегнуть к следующем расчетам:\n",
    "\n",
    "Выбросы – это значения за пределами:\n",
    "\n",
    "- 25% перцентили + 1.5IQR\n",
    "- 75% перцентили - 1.5IQR\n"
   ]
  },
  {
   "cell_type": "markdown",
   "id": "afc08fb4-7369-45e8-a8bb-4fbf63b845b1",
   "metadata": {},
   "source": [
    "Итак, вернемся к общему исследованию характеристик пингвинов, не останавливаясь подробно на каждом из видов. Для всех числовых характеристик построим boxplot"
   ]
  },
  {
   "cell_type": "code",
   "execution_count": 22,
   "id": "07a00958-d22f-4cc3-a785-54251803e76c",
   "metadata": {},
   "outputs": [
    {
     "data": {
      "text/plain": [
       "<Axes: >"
      ]
     },
     "execution_count": 22,
     "metadata": {},
     "output_type": "execute_result"
    },
    {
     "data": {
      "image/png": "[encoded data removed]",
      "text/plain": [
       "<Figure size 640x480 with 1 Axes>"
      ]
     },
     "metadata": {},
     "output_type": "display_data"
    }
   ],
   "source": [
    "sns.boxplot(numerical_features)"
   ]
  },
  {
   "cell_type": "markdown",
   "id": "9c59b3a6-6501-451e-917e-94ee182b54db",
   "metadata": {},
   "source": [
    "Результат не самый удовлетворительный, потому что данные измерены в разных шкалах. Для того, чтобы извлечь больше информации, есть два варианта:\n",
    "\n",
    "- стандартизировать все признаки\n",
    "- построить разные boxplots для разных измерительных шкал\n",
    "\n",
    "Остановимся на втором варианте"
   ]
  },
  {
   "cell_type": "code",
   "execution_count": 23,
   "id": "498185eb-6201-4b8b-aead-3f76ec9a26e1",
   "metadata": {},
   "outputs": [
    {
     "data": {
      "text/plain": [
       "<Axes: >"
      ]
     },
     "execution_count": 23,
     "metadata": {},
     "output_type": "execute_result"
    },
    {
     "data": {
      "image/png": "[encoded data removed]",
      "text/plain": [
       "<Figure size 640x480 with 1 Axes>"
      ]
     },
     "metadata": {},
     "output_type": "display_data"
    }
   ],
   "source": [
    "sns.boxplot(numerical_features.iloc[:, :-1])"
   ]
  },
  {
   "cell_type": "markdown",
   "id": "93cc6455-394f-44ec-b1a0-16586b5d8de8",
   "metadata": {},
   "source": [
    "Уже получше. Как можно видеть, ширина клюва у пингвинов не сильно разнится. Длина клюва разнится чуть больше, а длина плавника имеет еще больший размах. Самое главное -- мы не наблюдаем здесь выбросов, то есть все пингвины у нас более менее однородны между собой."
   ]
  },
  {
   "cell_type": "markdown",
   "id": "35ed8976-4f8c-4a28-b9cb-4426dbac08a2",
   "metadata": {},
   "source": [
    "Допустим, к нам в выборку попал какой-то пингвин-мутант (точнее для него просто были неправильно измерены характеристики)."
   ]
  },
  {
   "cell_type": "code",
   "execution_count": 24,
   "id": "7c5ebef5-094e-4fb8-b3e1-286c3bcff8cb",
   "metadata": {},
   "outputs": [],
   "source": [
    "mutant_penguin = ['Gentoo', 'Biscoe',\t80,\t49.1,\t2130,\t540.0,\t'Male']\n",
    "data.loc[344] = mutant_penguin"
   ]
  },
  {
   "cell_type": "code",
   "execution_count": 25,
   "id": "5a43abea-a511-4446-aa3d-b66c2a91a23d",
   "metadata": {},
   "outputs": [
    {
     "data": {
      "text/plain": [
       "<Axes: >"
      ]
     },
     "execution_count": 25,
     "metadata": {},
     "output_type": "execute_result"
    },
    {
     "data": {
      "image/png": "[encoded data removed]",
      "text/plain": [
       "<Figure size 640x480 with 1 Axes>"
      ]
     },
     "metadata": {},
     "output_type": "display_data"
    }
   ],
   "source": [
    "sns.boxplot(data.iloc[:, 2:-1])"
   ]
  },
  {
   "cell_type": "markdown",
   "id": "503e1308-64e3-4afa-8061-30769428950d",
   "metadata": {},
   "source": [
    "Таким образом, мы можем увидеть, как выглядят аномальные значения на boxplot. Появившиеся точки и соответствуют аномальным характеристикам нашего подброшенного пингвина.\n",
    "\n",
    "Выбросим из выборки пингвина-мутанта."
   ]
  },
  {
   "cell_type": "code",
   "execution_count": 26,
   "id": "ffd1caaf-1864-4534-afc6-78b45e568e2c",
   "metadata": {},
   "outputs": [
    {
     "data": {
      "text/html": [
       "<div>\n",
       "<style scoped>\n",
       "    .dataframe tbody tr th:only-of-type {\n",
       "        vertical-align: middle;\n",
       "    }\n",
       "\n",
       "    .dataframe tbody tr th {\n",
       "        vertical-align: top;\n",
       "    }\n",
       "\n",
       "    .dataframe thead th {\n",
       "        text-align: right;\n",
       "    }\n",
       "</style>\n",
       "<table border=\"1\" class=\"dataframe\">\n",
       "  <thead>\n",
       "    <tr style=\"text-align: right;\">\n",
       "      <th></th>\n",
       "      <th>species</th>\n",
       "      <th>island</th>\n",
       "      <th>bill_length_mm</th>\n",
       "      <th>bill_depth_mm</th>\n",
       "      <th>flipper_length_mm</th>\n",
       "      <th>body_mass_g</th>\n",
       "      <th>sex</th>\n",
       "    </tr>\n",
       "  </thead>\n",
       "  <tbody>\n",
       "    <tr>\n",
       "      <th>0</th>\n",
       "      <td>Adelie</td>\n",
       "      <td>Torgersen</td>\n",
       "      <td>39.1</td>\n",
       "      <td>18.7</td>\n",
       "      <td>181.0</td>\n",
       "      <td>3750.0</td>\n",
       "      <td>Male</td>\n",
       "    </tr>\n",
       "    <tr>\n",
       "      <th>1</th>\n",
       "      <td>Adelie</td>\n",
       "      <td>Torgersen</td>\n",
       "      <td>39.5</td>\n",
       "      <td>17.4</td>\n",
       "      <td>186.0</td>\n",
       "      <td>3800.0</td>\n",
       "      <td>Female</td>\n",
       "    </tr>\n",
       "    <tr>\n",
       "      <th>2</th>\n",
       "      <td>Adelie</td>\n",
       "      <td>Torgersen</td>\n",
       "      <td>40.3</td>\n",
       "      <td>18.0</td>\n",
       "      <td>195.0</td>\n",
       "      <td>3250.0</td>\n",
       "      <td>Female</td>\n",
       "    </tr>\n",
       "    <tr>\n",
       "      <th>3</th>\n",
       "      <td>Adelie</td>\n",
       "      <td>Torgersen</td>\n",
       "      <td>41.1</td>\n",
       "      <td>17.0</td>\n",
       "      <td>190.0</td>\n",
       "      <td>3800.0</td>\n",
       "      <td>Male</td>\n",
       "    </tr>\n",
       "    <tr>\n",
       "      <th>4</th>\n",
       "      <td>Adelie</td>\n",
       "      <td>Torgersen</td>\n",
       "      <td>36.7</td>\n",
       "      <td>19.3</td>\n",
       "      <td>193.0</td>\n",
       "      <td>3450.0</td>\n",
       "      <td>Female</td>\n",
       "    </tr>\n",
       "    <tr>\n",
       "      <th>...</th>\n",
       "      <td>...</td>\n",
       "      <td>...</td>\n",
       "      <td>...</td>\n",
       "      <td>...</td>\n",
       "      <td>...</td>\n",
       "      <td>...</td>\n",
       "      <td>...</td>\n",
       "    </tr>\n",
       "    <tr>\n",
       "      <th>339</th>\n",
       "      <td>Gentoo</td>\n",
       "      <td>Biscoe</td>\n",
       "      <td>41.1</td>\n",
       "      <td>17.0</td>\n",
       "      <td>190.0</td>\n",
       "      <td>3800.0</td>\n",
       "      <td>Male</td>\n",
       "    </tr>\n",
       "    <tr>\n",
       "      <th>340</th>\n",
       "      <td>Gentoo</td>\n",
       "      <td>Biscoe</td>\n",
       "      <td>46.8</td>\n",
       "      <td>14.3</td>\n",
       "      <td>215.0</td>\n",
       "      <td>4850.0</td>\n",
       "      <td>Female</td>\n",
       "    </tr>\n",
       "    <tr>\n",
       "      <th>341</th>\n",
       "      <td>Gentoo</td>\n",
       "      <td>Biscoe</td>\n",
       "      <td>50.4</td>\n",
       "      <td>15.7</td>\n",
       "      <td>222.0</td>\n",
       "      <td>5750.0</td>\n",
       "      <td>Male</td>\n",
       "    </tr>\n",
       "    <tr>\n",
       "      <th>342</th>\n",
       "      <td>Gentoo</td>\n",
       "      <td>Biscoe</td>\n",
       "      <td>45.2</td>\n",
       "      <td>14.8</td>\n",
       "      <td>212.0</td>\n",
       "      <td>5200.0</td>\n",
       "      <td>Female</td>\n",
       "    </tr>\n",
       "    <tr>\n",
       "      <th>343</th>\n",
       "      <td>Gentoo</td>\n",
       "      <td>Biscoe</td>\n",
       "      <td>49.9</td>\n",
       "      <td>16.1</td>\n",
       "      <td>213.0</td>\n",
       "      <td>5400.0</td>\n",
       "      <td>Male</td>\n",
       "    </tr>\n",
       "  </tbody>\n",
       "</table>\n",
       "<p>344 rows × 7 columns</p>\n",
       "</div>"
      ],
      "text/plain": [
       "    species     island  bill_length_mm  bill_depth_mm  flipper_length_mm  \\\n",
       "0    Adelie  Torgersen            39.1           18.7              181.0   \n",
       "1    Adelie  Torgersen            39.5           17.4              186.0   \n",
       "2    Adelie  Torgersen            40.3           18.0              195.0   \n",
       "3    Adelie  Torgersen            41.1           17.0              190.0   \n",
       "4    Adelie  Torgersen            36.7           19.3              193.0   \n",
       "..      ...        ...             ...            ...                ...   \n",
       "339  Gentoo     Biscoe            41.1           17.0              190.0   \n",
       "340  Gentoo     Biscoe            46.8           14.3              215.0   \n",
       "341  Gentoo     Biscoe            50.4           15.7              222.0   \n",
       "342  Gentoo     Biscoe            45.2           14.8              212.0   \n",
       "343  Gentoo     Biscoe            49.9           16.1              213.0   \n",
       "\n",
       "     body_mass_g     sex  \n",
       "0         3750.0    Male  \n",
       "1         3800.0  Female  \n",
       "2         3250.0  Female  \n",
       "3         3800.0    Male  \n",
       "4         3450.0  Female  \n",
       "..           ...     ...  \n",
       "339       3800.0    Male  \n",
       "340       4850.0  Female  \n",
       "341       5750.0    Male  \n",
       "342       5200.0  Female  \n",
       "343       5400.0    Male  \n",
       "\n",
       "[344 rows x 7 columns]"
      ]
     },
     "execution_count": 26,
     "metadata": {},
     "output_type": "execute_result"
    }
   ],
   "source": [
    "data.drop(index=344)"
   ]
  },
  {
   "cell_type": "code",
   "execution_count": 27,
   "id": "a24398b4-2706-442b-9f2b-9375485ac52d",
   "metadata": {},
   "outputs": [],
   "source": [
    "data = data.drop(index=344)"
   ]
  },
  {
   "cell_type": "markdown",
   "id": "970e09d2-fd3c-41c7-ad26-45dcf7d21b02",
   "metadata": {},
   "source": [
    "## Выборочная функция распределения"
   ]
  },
  {
   "cell_type": "markdown",
   "id": "a5c236ab-b8f1-4ae3-a0c0-3f2f21c98822",
   "metadata": {},
   "source": [
    "Пусть $X = \\{x_1,\\ldots, x_n\\}$ есть случайная выборка. Выборочная функция распределения задается формулой\n",
    "$$F_n(x) = \\dfrac1n \\sum\\limits_{i=1}^n \\mathbb I (x_i - x),$$\n",
    "где $\\mathbb I$ -- индикаторная функция Хевисайда. Таким образом, значение функции $F_n$ в точке $x$ равно относительной частоте элементов выборки, не превосходящих значение \n",
    "$x$."
   ]
  },
  {
   "cell_type": "markdown",
   "id": "c45fb749-d26f-4c62-8778-3f64a0e8d43d",
   "metadata": {},
   "source": [
    "Построим график выборочной функции распределения для длинны клюва пингвинов вида Gentoo"
   ]
  },
  {
   "cell_type": "code",
   "execution_count": 28,
   "id": "a45f1c55-f101-4c83-b3b9-c6c568608268",
   "metadata": {},
   "outputs": [],
   "source": [
    "def plot_empirical_cdf(data):\n",
    "    hist, edges = np.histogram(data, bins=len(data))\n",
    "    Y = hist.cumsum()\n",
    "    for i in range(len(Y)):\n",
    "        plt.plot([edges[i], edges[i+1]],[Y[i], Y[i]], c=\"blue\")\n",
    "    plt.show()"
   ]
  },
  {
   "cell_type": "code",
   "execution_count": 29,
   "id": "75a3a7d4-2960-4db2-9b1f-842833d353ca",
   "metadata": {},
   "outputs": [
    {
     "data": {
      "image/png": "[encoded data removed]",
      "text/plain": [
       "<Figure size 640x480 with 1 Axes>"
      ]
     },
     "metadata": {},
     "output_type": "display_data"
    }
   ],
   "source": [
    "plot_empirical_cdf(gentoo_penguins.bill_length_mm)"
   ]
  },
  {
   "cell_type": "markdown",
   "id": "5cdeaaa0-8df9-4ab8-a61d-74b1e9dc5c51",
   "metadata": {},
   "source": [
    "Обычно выборочная функция распределения имеет именно такой ступенчатый вид. Однако иногда используется также и ее сглаженный аналог"
   ]
  },
  {
   "cell_type": "code",
   "execution_count": 30,
   "id": "98bd367f-9a45-4319-8430-24ed98bebd50",
   "metadata": {},
   "outputs": [
    {
     "data": {
      "text/plain": [
       "<Axes: xlabel='bill_length_mm', ylabel='Density'>"
      ]
     },
     "execution_count": 30,
     "metadata": {},
     "output_type": "execute_result"
    },
    {
     "data": {
      "image/png": "[encoded data removed]",
      "text/plain": [
       "<Figure size 640x480 with 1 Axes>"
      ]
     },
     "metadata": {},
     "output_type": "display_data"
    }
   ],
   "source": [
    "sns.kdeplot(gentoo_penguins.bill_length_mm, cumulative=True)"
   ]
  },
  {
   "cell_type": "markdown",
   "id": "b2f40d9c-a1bd-493d-b938-aa180cf2c569",
   "metadata": {},
   "source": [
    "## Гистограмма и ядерная оценка плотности"
   ]
  },
  {
   "cell_type": "markdown",
   "id": "72c41163-5409-4999-bd02-95dec46d5638",
   "metadata": {},
   "source": [
    "Самый базовый график во всем анализе данных. По гистограмме мы в принципе можем оценивать, какое распределение будет имеет рассматриваемая случайная величина. \n",
    "\n",
    "Kernel density estimation (ядерная оценка плотности) -- сглаженный аналог гистограмм (если говорить простыми словами).\n",
    "\n",
    "Рассмотрим оба графика на примере длины клюва пингвинов вида Adelie"
   ]
  },
  {
   "cell_type": "code",
   "execution_count": 31,
   "id": "8935ca4e-5d39-4bcf-9dbc-1a0b01b313c5",
   "metadata": {},
   "outputs": [
    {
     "data": {
      "text/plain": [
       "<Axes: xlabel='bill_length_mm', ylabel='Count'>"
      ]
     },
     "execution_count": 31,
     "metadata": {},
     "output_type": "execute_result"
    },
    {
     "data": {
      "image/png": "[encoded data removed]",
      "text/plain": [
       "<Figure size 640x480 with 1 Axes>"
      ]
     },
     "metadata": {},
     "output_type": "display_data"
    }
   ],
   "source": [
    "sns.histplot(adelie_penguins.bill_length_mm, kde=True)"
   ]
  },
  {
   "cell_type": "markdown",
   "id": "8255d143-7bf6-4ebd-8323-9098fcf0f5a0",
   "metadata": {},
   "source": [
    "Какие выводы можно сделать из гистограммы и kde? В данном случае распределение схоже с графиком нормального распределения, однако вершина слишком плоская. Мы не наблюдаем аномальных значений (за пределами границ трех сигм) и резких скачков. Гистограмма унимодальная. Отсутствует ярко выраженная ассиметрия. Хвосты гистограммы также не выходят за пределы границы трех сигм.\n",
    "\n",
    "Иногда может быть необходимость сравнить распределение между всеми присутствующими классами. На примере длинны плавника рассмотрим, как это можно сделать"
   ]
  },
  {
   "cell_type": "code",
   "execution_count": 32,
   "id": "b96d290f-3986-4fbc-8395-777b049e69a5",
   "metadata": {},
   "outputs": [
    {
     "data": {
      "text/plain": [
       "<seaborn.axisgrid.FacetGrid at 0x7faac8442390>"
      ]
     },
     "execution_count": 32,
     "metadata": {},
     "output_type": "execute_result"
    },
    {
     "data": {
      "image/png": "[encoded data removed]",
      "text/plain": [
       "<Figure size 717x600 with 1 Axes>"
      ]
     },
     "metadata": {},
     "output_type": "display_data"
    }
   ],
   "source": [
    "sns.FacetGrid(data, hue='species', height=6).map(sns.histplot, 'flipper_length_mm').add_legend()"
   ]
  },
  {
   "cell_type": "code",
   "execution_count": 33,
   "id": "e4fabe96-cf97-41cb-98f0-e43650191284",
   "metadata": {},
   "outputs": [
    {
     "data": {
      "text/plain": [
       "<seaborn.axisgrid.FacetGrid at 0x7faac8613d10>"
      ]
     },
     "execution_count": 33,
     "metadata": {},
     "output_type": "execute_result"
    },
    {
     "data": {
      "image/png": "[encoded data removed]",
      "text/plain": [
       "<Figure size 717x600 with 1 Axes>"
      ]
     },
     "metadata": {},
     "output_type": "display_data"
    }
   ],
   "source": [
    "sns.FacetGrid(data, hue='species', height=6).map(sns.kdeplot, 'flipper_length_mm').add_legend()"
   ]
  },
  {
   "cell_type": "markdown",
   "id": "3b6bc6f7-cd2e-4f80-83b2-5174b422d644",
   "metadata": {},
   "source": [
    "Выводы по аналогии можете сделать самостоятельно."
   ]
  },
  {
   "cell_type": "markdown",
   "id": "a60248f7-311c-40cb-9a06-71be25b10ccc",
   "metadata": {},
   "source": [
    "## Quantile-quantile plot"
   ]
  },
  {
   "cell_type": "markdown",
   "id": "f636b673-fc8a-485f-8a73-07e975fdeb27",
   "metadata": {},
   "source": [
    "В статистике QQPlot представляет собой график вероятностей, графический метод сравнения двух распределений вероятностей путем построения их квантилей друг против друга. Точка на графике соответствует одному из квантилей второго распределения, построенному против того же квантиля первого распределения.\n",
    "\n",
    "В основном QQPlot позволяет оценить степень отклонения данных от теоретического распределения. В частности он зачастую используется для того, чтобы определить, является ли распределение нормальным.\n",
    "\n",
    "Построим сразу навороченный график, на котором отобразим для каждого из вида пингвинов QQPlot величины flipper_length_mm."
   ]
  },
  {
   "cell_type": "code",
   "execution_count": 34,
   "id": "31482290-cd60-4548-98a5-fe949f2af212",
   "metadata": {},
   "outputs": [
    {
     "data": {
      "text/plain": [
       "<seaborn.axisgrid.PairGrid at 0x7faac84d5f40>"
      ]
     },
     "execution_count": 34,
     "metadata": {},
     "output_type": "execute_result"
    },
    {
     "data": {
      "image/png": "[encoded data removed]",
      "text/plain": [
       "<Figure size 1200x600 with 1 Axes>"
      ]
     },
     "metadata": {},
     "output_type": "display_data"
    }
   ],
   "source": [
    "from seaborn_qqplot import pplot\n",
    "from scipy.stats import gamma\n",
    "\n",
    "pplot(data, x=\"flipper_length_mm\", y=gamma, hue=\"species\", kind='qq', height=6, aspect=2, display_kws={\"identity\":False, \"fit\":True, \"reg\":True, \"ci\":0.025})"
   ]
  },
  {
   "cell_type": "markdown",
   "id": "f861b2a1-6adb-4021-9c0f-4645c016a52f",
   "metadata": {},
   "source": [
    "Допустим для вида Gentoo мы можем увидеть, что точки сильно отклоняются от теоретической прямой на концах. Однако посередине точки достаточно хорошо аппроксимируют теоретическую прямую. Следовательно, у нас есть некоторые причины утверждать, что, возможно, распределение этой случайной величины может быть нормальным.\n",
    "\n",
    "Аналогичным образом можно проанализировать и остальные случайные величины."
   ]
  },
  {
   "cell_type": "markdown",
   "id": "361b9d3b-5bef-4625-9deb-fc3df1995cee",
   "metadata": {},
   "source": [
    "## Проверка статистических гипотез"
   ]
  },
  {
   "cell_type": "markdown",
   "id": "90966f22-1be3-4eeb-bd6f-ebaecb6d3811",
   "metadata": {},
   "source": [
    "Пусть $X$ -- случайная величина flipper_length_mm для пингвинов вида Adelie. Гистограмма и QQ-plot свидетельствуют в пользу того, что данная случайная величина имеет нормальное распределение. Тогда выдвинем гипотезу\n",
    "$$H_0: X \\text{ имеет нормальное распределение},$$\n",
    "с альтернативой \n",
    "$$H_1: X \\text{ распределена не нормальным образом}.$$\n",
    "Для проверки этой статистической гипотезы воспользуемся критерием согласия Шапиро-Уилка. Подробно вдаваться в его суть не будем (можно найти в интернете). Нам важно, что если мы возьмем пороговое значение $\\varepsilon = 0.05$, то при Р-значении критерия $<\\varepsilon$ мы имеем право отклонить гипотезу $H_0$ в пользу гипотезы $H_1$. Иначе мы не отклоянем нулевую гипотезу."
   ]
  },
  {
   "cell_type": "code",
   "execution_count": 49,
   "id": "3bdb9439-96f2-49b8-8923-42655290082a",
   "metadata": {},
   "outputs": [],
   "source": [
    "from scipy.stats import shapiro"
   ]
  },
  {
   "cell_type": "markdown",
   "id": "c8fd80d0-71ff-4b54-96d6-fa38052287c8",
   "metadata": {},
   "source": [
    "Определим случайную величину $X$"
   ]
  },
  {
   "cell_type": "code",
   "execution_count": 36,
   "id": "f2299a49-3dc2-4a54-967a-e686e9aae308",
   "metadata": {},
   "outputs": [],
   "source": [
    "X = adelie_penguins.flipper_length_mm"
   ]
  },
  {
   "cell_type": "markdown",
   "id": "71fc6bde-2a5e-41b8-b4dd-08a56d99c49a",
   "metadata": {},
   "source": [
    "Рассмотрим результаты применения критерия Шапиро-Уилка по отношению к этой случайной величине:"
   ]
  },
  {
   "cell_type": "code",
   "execution_count": 47,
   "id": "954c734d-77d5-457a-bf3f-f3635b10880c",
   "metadata": {},
   "outputs": [
    {
     "data": {
      "text/plain": [
       "ShapiroResult(statistic=0.9930594562357195, pvalue=0.6769197037690992)"
      ]
     },
     "execution_count": 47,
     "metadata": {},
     "output_type": "execute_result"
    }
   ],
   "source": [
    "shapiro(X)"
   ]
  },
  {
   "cell_type": "markdown",
   "id": "3e722c98-c482-499a-b79c-76f6ef9a1933",
   "metadata": {},
   "source": [
    "В результате мы получили Р-значение $> 0.05$, а это значит, что мы не отклоняем гипотезу $H_0$. Таким образом, мы можем утверждать, что случайная величина $X$ имеет нормальное распределение, параметры которого мы можем легко вычислить:"
   ]
  },
  {
   "cell_type": "code",
   "execution_count": 50,
   "id": "837c0172-ad17-4961-bc90-90126166548d",
   "metadata": {},
   "outputs": [
    {
     "data": {
      "text/plain": [
       "189.95394736842104"
      ]
     },
     "execution_count": 50,
     "metadata": {},
     "output_type": "execute_result"
    }
   ],
   "source": [
    "X.mean()"
   ]
  },
  {
   "cell_type": "code",
   "execution_count": 51,
   "id": "88ccca04-3755-48c1-ba99-7f6a0d44b90e",
   "metadata": {},
   "outputs": [
    {
     "data": {
      "text/plain": [
       "6.517768699363581"
      ]
     },
     "execution_count": 51,
     "metadata": {},
     "output_type": "execute_result"
    }
   ],
   "source": [
    "X.std()"
   ]
  },
  {
   "cell_type": "markdown",
   "id": "2ab7a06c-863f-47d6-a645-e37b2670ada4",
   "metadata": {},
   "source": [
    "То есть $$X \\sim \\mathcal N (189.95, 6.41).$$"
   ]
  },
  {
   "cell_type": "markdown",
   "id": "ac2353cc-35c6-48ec-95e9-11f161d2e16f",
   "metadata": {},
   "source": [
    "## Итог"
   ]
  },
  {
   "cell_type": "markdown",
   "id": "3994c544-2066-468e-ae79-056d78d51aa5",
   "metadata": {},
   "source": [
    "Используя все возможности предварительного анализа данных, мы можем выявить характер распределения выборки.\n",
    "\n",
    "Что происходит дальше? Дальше исследователь пытается построить математическую вероятностную модель, которая может наилучшим образом описывать поведение полученных данных. И поэтому наибольший интерес представляют нормально распределенные данные, для которых изобретено множество способов вероятностного моделирования (самый простейший -- линейная регрессия/линейная аппроксимация). В соответствии с этим фактом, на этапе предварительного анализа исследователь пытается выяснить, является ли распределение данных нормальным. После того, как будет построена статистически значимая вероятностная модель, мы можем прогнозировать поведение того или иного показателя при поступлении новых данных (например, можно прогнозировать вид пингвина, основываясь на информации о его клюве и плавнике)."
   ]
  }
 ],
 "metadata": {
  "kernelspec": {
   "display_name": "Python 3 (ipykernel)",
   "language": "python",
   "name": "python3"
  },
  "language_info": {
   "codemirror_mode": {
    "name": "ipython",
    "version": 3
   },
   "file_extension": ".py",
   "mimetype": "text/x-python",
   "name": "python",
   "nbconvert_exporter": "python",
   "pygments_lexer": "ipython3",
   "version": "3.12.3"
  }
 },
 "nbformat": 4,
 "nbformat_minor": 5
}
