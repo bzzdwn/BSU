{
 "cells": [
  {
   "cell_type": "code",
   "execution_count": 1,
   "id": "e7bb33a5-37b4-41d5-abe5-b61354afa5d4",
   "metadata": {},
   "outputs": [],
   "source": [
    "import pandas as pd\n",
    "import numpy as np\n",
    "import matplotlib.pyplot as plt\n",
    "%matplotlib inline\n",
    "import seaborn as sns"
   ]
  },
  {
   "cell_type": "code",
   "execution_count": 11,
   "id": "facd8305-e226-4cfa-ba67-b22d787a1808",
   "metadata": {},
   "outputs": [
    {
     "data": {
      "text/html": [
       "<div>\n",
       "<style scoped>\n",
       "    .dataframe tbody tr th:only-of-type {\n",
       "        vertical-align: middle;\n",
       "    }\n",
       "\n",
       "    .dataframe tbody tr th {\n",
       "        vertical-align: top;\n",
       "    }\n",
       "\n",
       "    .dataframe thead th {\n",
       "        text-align: right;\n",
       "    }\n",
       "</style>\n",
       "<table border=\"1\" class=\"dataframe\">\n",
       "  <thead>\n",
       "    <tr style=\"text-align: right;\">\n",
       "      <th></th>\n",
       "      <th>Site</th>\n",
       "      <th>Observer</th>\n",
       "      <th>Subpoint</th>\n",
       "      <th>VOR</th>\n",
       "      <th>PDB</th>\n",
       "      <th>DBHt</th>\n",
       "      <th>PW</th>\n",
       "      <th>WHt</th>\n",
       "      <th>PE</th>\n",
       "      <th>EHt</th>\n",
       "      <th>PA</th>\n",
       "      <th>AHt</th>\n",
       "      <th>PH</th>\n",
       "      <th>HHt</th>\n",
       "      <th>PL</th>\n",
       "      <th>LHt</th>\n",
       "      <th>PB</th>\n",
       "    </tr>\n",
       "  </thead>\n",
       "  <tbody>\n",
       "    <tr>\n",
       "      <th>0</th>\n",
       "      <td>BunkerHill27</td>\n",
       "      <td>RA</td>\n",
       "      <td>1</td>\n",
       "      <td>6.0</td>\n",
       "      <td>3</td>\n",
       "      <td>5.2</td>\n",
       "      <td>0</td>\n",
       "      <td>0.0</td>\n",
       "      <td>4</td>\n",
       "      <td>2.9</td>\n",
       "      <td>0</td>\n",
       "      <td>0.0</td>\n",
       "      <td>4</td>\n",
       "      <td>3.0</td>\n",
       "      <td>0</td>\n",
       "      <td>0.0</td>\n",
       "      <td>0</td>\n",
       "    </tr>\n",
       "    <tr>\n",
       "      <th>1</th>\n",
       "      <td>BunkerHill27</td>\n",
       "      <td>RA</td>\n",
       "      <td>2</td>\n",
       "      <td>4.5</td>\n",
       "      <td>2</td>\n",
       "      <td>3.1</td>\n",
       "      <td>3</td>\n",
       "      <td>4.7</td>\n",
       "      <td>3</td>\n",
       "      <td>4.1</td>\n",
       "      <td>0</td>\n",
       "      <td>0.0</td>\n",
       "      <td>3</td>\n",
       "      <td>3.5</td>\n",
       "      <td>2</td>\n",
       "      <td>1.0</td>\n",
       "      <td>0</td>\n",
       "    </tr>\n",
       "    <tr>\n",
       "      <th>2</th>\n",
       "      <td>BunkerHill27</td>\n",
       "      <td>RA</td>\n",
       "      <td>3</td>\n",
       "      <td>2.0</td>\n",
       "      <td>4</td>\n",
       "      <td>5.5</td>\n",
       "      <td>1</td>\n",
       "      <td>5.8</td>\n",
       "      <td>3</td>\n",
       "      <td>3.9</td>\n",
       "      <td>0</td>\n",
       "      <td>0.0</td>\n",
       "      <td>3</td>\n",
       "      <td>7.5</td>\n",
       "      <td>0</td>\n",
       "      <td>0.0</td>\n",
       "      <td>0</td>\n",
       "    </tr>\n",
       "    <tr>\n",
       "      <th>3</th>\n",
       "      <td>BunkerHill27</td>\n",
       "      <td>RA</td>\n",
       "      <td>4</td>\n",
       "      <td>2.5</td>\n",
       "      <td>3</td>\n",
       "      <td>6.2</td>\n",
       "      <td>0</td>\n",
       "      <td>0.0</td>\n",
       "      <td>3</td>\n",
       "      <td>4.0</td>\n",
       "      <td>0</td>\n",
       "      <td>0.0</td>\n",
       "      <td>4</td>\n",
       "      <td>5.0</td>\n",
       "      <td>0</td>\n",
       "      <td>0.0</td>\n",
       "      <td>0</td>\n",
       "    </tr>\n",
       "    <tr>\n",
       "      <th>4</th>\n",
       "      <td>BunkerHill27</td>\n",
       "      <td>RA</td>\n",
       "      <td>5</td>\n",
       "      <td>4.0</td>\n",
       "      <td>4</td>\n",
       "      <td>5.4</td>\n",
       "      <td>0</td>\n",
       "      <td>0.0</td>\n",
       "      <td>3</td>\n",
       "      <td>3.5</td>\n",
       "      <td>0</td>\n",
       "      <td>0.0</td>\n",
       "      <td>4</td>\n",
       "      <td>3.7</td>\n",
       "      <td>0</td>\n",
       "      <td>0.0</td>\n",
       "      <td>0</td>\n",
       "    </tr>\n",
       "  </tbody>\n",
       "</table>\n",
       "</div>"
      ],
      "text/plain": [
       "           Site Observer  Subpoint  VOR  PDB  DBHt  PW  WHt  PE  EHt  PA  AHt  \\\n",
       "0  BunkerHill27       RA         1  6.0    3   5.2   0  0.0   4  2.9   0  0.0   \n",
       "1  BunkerHill27       RA         2  4.5    2   3.1   3  4.7   3  4.1   0  0.0   \n",
       "2  BunkerHill27       RA         3  2.0    4   5.5   1  5.8   3  3.9   0  0.0   \n",
       "3  BunkerHill27       RA         4  2.5    3   6.2   0  0.0   3  4.0   0  0.0   \n",
       "4  BunkerHill27       RA         5  4.0    4   5.4   0  0.0   3  3.5   0  0.0   \n",
       "\n",
       "   PH  HHt  PL  LHt  PB  \n",
       "0   4  3.0   0  0.0   0  \n",
       "1   3  3.5   2  1.0   0  \n",
       "2   3  7.5   0  0.0   0  \n",
       "3   4  5.0   0  0.0   0  \n",
       "4   4  3.7   0  0.0   0  "
      ]
     },
     "execution_count": 11,
     "metadata": {},
     "output_type": "execute_result"
    }
   ],
   "source": [
    "dataset = pd.read_csv('avianHabitat.csv')\n",
    "dataset.head()"
   ]
  },
  {
   "cell_type": "code",
   "execution_count": 12,
   "id": "c3e23798-42b4-45b0-bc95-c7e33a0f1b32",
   "metadata": {},
   "outputs": [
    {
     "data": {
      "text/plain": [
       "0       0.0\n",
       "1       0.0\n",
       "2       0.0\n",
       "3       0.0\n",
       "4       0.0\n",
       "       ... \n",
       "1065    0.0\n",
       "1066    0.0\n",
       "1067    0.0\n",
       "1068    0.0\n",
       "1069    0.0\n",
       "Name: AHt, Length: 1070, dtype: float64"
      ]
     },
     "execution_count": 12,
     "metadata": {},
     "output_type": "execute_result"
    }
   ],
   "source": [
    "data = dataset['AHt']\n",
    "data"
   ]
  },
  {
   "cell_type": "code",
   "execution_count": 13,
   "id": "76ae1487-b832-4385-85c6-44a90ca353a0",
   "metadata": {},
   "outputs": [
    {
     "data": {
      "text/plain": [
       "0       3.0\n",
       "1       3.5\n",
       "2       7.5\n",
       "3       5.0\n",
       "4       3.7\n",
       "       ... \n",
       "1065    3.3\n",
       "1066    5.4\n",
       "1067    2.6\n",
       "1068    2.2\n",
       "1069    2.3\n",
       "Name: HHt, Length: 1070, dtype: float64"
      ]
     },
     "execution_count": 13,
     "metadata": {},
     "output_type": "execute_result"
    }
   ],
   "source": [
    "another_variant_data = dataset['HHt']\n",
    "another_variant_data"
   ]
  },
  {
   "cell_type": "code",
   "execution_count": 14,
   "id": "6a966ce8-8c42-4582-a4db-24a583769d6d",
   "metadata": {},
   "outputs": [
    {
     "data": {
      "text/plain": [
       "0"
      ]
     },
     "execution_count": 14,
     "metadata": {},
     "output_type": "execute_result"
    }
   ],
   "source": [
    "data.isna().sum()"
   ]
  },
  {
   "cell_type": "code",
   "execution_count": 15,
   "id": "6dcd7485-6995-4925-8695-9428c2b7a5c6",
   "metadata": {},
   "outputs": [
    {
     "data": {
      "text/plain": [
       "0     31.5\n",
       "1     28.5\n",
       "2     11.7\n",
       "3      5.5\n",
       "4     10.4\n",
       "5      9.7\n",
       "6      7.8\n",
       "7     19.2\n",
       "8     27.0\n",
       "9     28.0\n",
       "10    19.5\n",
       "11     0.2\n",
       "Name: AHt, dtype: float64"
      ]
     },
     "execution_count": 15,
     "metadata": {},
     "output_type": "execute_result"
    }
   ],
   "source": [
    "data = data[data != 0].reset_index(drop=True)\n",
    "data"
   ]
  },
  {
   "cell_type": "code",
   "execution_count": 16,
   "id": "34f8f940-12ba-4a34-90b4-cc31ef9291c5",
   "metadata": {},
   "outputs": [
    {
     "data": {
      "text/plain": [
       "count    12.000000\n",
       "mean     16.583333\n",
       "std      10.429751\n",
       "min       0.200000\n",
       "25%       9.225000\n",
       "50%      15.450000\n",
       "75%      27.250000\n",
       "max      31.500000\n",
       "Name: AHt, dtype: float64"
      ]
     },
     "execution_count": 16,
     "metadata": {},
     "output_type": "execute_result"
    }
   ],
   "source": [
    "data.describe()"
   ]
  },
  {
   "cell_type": "code",
   "execution_count": 17,
   "id": "a75df234-979a-4e5b-939c-fbe99fe69f57",
   "metadata": {},
   "outputs": [],
   "source": [
    "from scipy.stats import skew, kurtosis\n",
    "\n",
    "def calculate_statistics(numerical_features):\n",
    "    descriptive_statistics = numerical_features.describe()\n",
    "    descriptive_statistics.loc['median'] = numerical_features.median()\n",
    "    descriptive_statistics.loc['mode'] = numerical_features.mode().loc[0]\n",
    "    descriptive_statistics.loc['IQR'] = descriptive_statistics.loc[['75%']].iloc[0] - descriptive_statistics.loc[['25%']].iloc[0]\n",
    "    descriptive_statistics.loc['skewness'] = skew(numerical_features, bias=False)\n",
    "    descriptive_statistics.loc['kurtosis'] = kurtosis(numerical_features, bias=False)\n",
    "    return descriptive_statistics"
   ]
  },
  {
   "cell_type": "code",
   "execution_count": 18,
   "id": "25ca70f5-2888-422f-81e8-e077b98a0b2e",
   "metadata": {},
   "outputs": [
    {
     "data": {
      "text/plain": [
       "count       12.000000\n",
       "mean        16.583333\n",
       "std         10.429751\n",
       "min          0.200000\n",
       "25%          9.225000\n",
       "50%         15.450000\n",
       "75%         27.250000\n",
       "max         31.500000\n",
       "median      15.450000\n",
       "mode         0.200000\n",
       "IQR         18.025000\n",
       "skewness     0.053536\n",
       "kurtosis    -1.424349\n",
       "Name: AHt, dtype: float64"
      ]
     },
     "execution_count": 18,
     "metadata": {},
     "output_type": "execute_result"
    }
   ],
   "source": [
    "calculate_statistics(data)"
   ]
  },
  {
   "cell_type": "code",
   "execution_count": 25,
   "id": "899c4f2b-ccee-4c86-8af6-60e61080678c",
   "metadata": {},
   "outputs": [
    {
     "data": {
      "text/plain": [
       "<Axes: >"
      ]
     },
     "execution_count": 25,
     "metadata": {},
     "output_type": "execute_result"
    },
    {
     "data": {
      "image/png": "[encoded data removed]",
      "text/plain": [
       "<Figure size 640x480 with 1 Axes>"
      ]
     },
     "metadata": {},
     "output_type": "display_data"
    }
   ],
   "source": [
    "sns.boxplot([data, another_variant_data])"
   ]
  },
  {
   "cell_type": "code",
   "execution_count": 20,
   "id": "091dd7c2-b69f-408e-844c-9db52e9d4669",
   "metadata": {},
   "outputs": [],
   "source": [
    "def plot_empirical_cdf(data):\n",
    "    hist, edges = np.histogram(data, bins=len(data))\n",
    "    Y = hist.cumsum()\n",
    "    for i in range(len(Y)):\n",
    "        plt.plot([edges[i], edges[i+1]],[Y[i], Y[i]], c=\"blue\")\n",
    "    plt.show()"
   ]
  },
  {
   "cell_type": "code",
   "execution_count": 21,
   "id": "5a0fbb38-1d67-44c0-9fbf-f7454362f5ca",
   "metadata": {},
   "outputs": [
    {
     "data": {
      "image/png": "[encoded data removed]",
      "text/plain": [
       "<Figure size 640x480 with 1 Axes>"
      ]
     },
     "metadata": {},
     "output_type": "display_data"
    }
   ],
   "source": [
    "plot_empirical_cdf(data)"
   ]
  },
  {
   "cell_type": "code",
   "execution_count": 22,
   "id": "50fc452b-ad20-41c6-98ec-ec3ed2477ed9",
   "metadata": {},
   "outputs": [
    {
     "data": {
      "text/plain": [
       "<Axes: xlabel='AHt', ylabel='Density'>"
      ]
     },
     "execution_count": 22,
     "metadata": {},
     "output_type": "execute_result"
    },
    {
     "data": {
      "image/png": "[encoded data removed]",
      "text/plain": [
       "<Figure size 640x480 with 1 Axes>"
      ]
     },
     "metadata": {},
     "output_type": "display_data"
    }
   ],
   "source": [
    "sns.kdeplot(data, cumulative=True)"
   ]
  },
  {
   "cell_type": "code",
   "execution_count": 23,
   "id": "1273274d-841b-47ca-9ef7-3ce2e19fef7b",
   "metadata": {},
   "outputs": [
    {
     "data": {
      "text/plain": [
       "<Axes: xlabel='AHt', ylabel='Count'>"
      ]
     },
     "execution_count": 23,
     "metadata": {},
     "output_type": "execute_result"
    },
    {
     "data": {
      "image/png": "[encoded data removed]",
      "text/plain": [
       "<Figure size 640x480 with 1 Axes>"
      ]
     },
     "metadata": {},
     "output_type": "display_data"
    }
   ],
   "source": [
    "sns.histplot(data, kde=True)"
   ]
  },
  {
   "cell_type": "code",
   "execution_count": 24,
   "id": "b6b1abcb-9d87-418f-87e2-501cb1c6da2e",
   "metadata": {},
   "outputs": [
    {
     "data": {
      "image/png": "[encoded data removed]",
      "text/plain": [
       "<Figure size 640x480 with 1 Axes>"
      ]
     },
     "metadata": {},
     "output_type": "display_data"
    }
   ],
   "source": [
    "import statsmodels.api as sm \n",
    "import pylab as py  \n",
    "\n",
    "sm.qqplot(data, line ='45') \n",
    "py.show() "
   ]
  },
  {
   "cell_type": "code",
   "execution_count": null,
   "id": "641373ff-c0cd-47d9-b2e3-caccaef8bea0",
   "metadata": {},
   "outputs": [],
   "source": []
  }
 ],
 "metadata": {
  "kernelspec": {
   "display_name": "Python 3 (ipykernel)",
   "language": "python",
   "name": "python3"
  },
  "language_info": {
   "codemirror_mode": {
    "name": "ipython",
    "version": 3
   },
   "file_extension": ".py",
   "mimetype": "text/x-python",
   "name": "python",
   "nbconvert_exporter": "python",
   "pygments_lexer": "ipython3",
   "version": "3.12.3"
  }
 },
 "nbformat": 4,
 "nbformat_minor": 5
}
