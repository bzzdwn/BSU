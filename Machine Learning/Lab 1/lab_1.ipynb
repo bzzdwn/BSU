{
  "cells": [
    {
      "cell_type": "code",
      "execution_count": 2,
      "id": "d77f6a91-1f03-42be-aa94-d754cb517b1f",
      "metadata": {
        "tags": [],
        "colab": {
          "base_uri": "https://localhost:8080/"
        },
        "id": "d77f6a91-1f03-42be-aa94-d754cb517b1f",
        "outputId": "29ca224c-fd78-4efe-f7eb-d396e0d218fc"
      },
      "outputs": [
        {
          "output_type": "stream",
          "name": "stderr",
          "text": [
            "[nltk_data] Downloading package wordnet to /root/nltk_data...\n",
            "[nltk_data]   Package wordnet is already up-to-date!\n",
            "[nltk_data] Downloading package punkt to /root/nltk_data...\n",
            "[nltk_data]   Package punkt is already up-to-date!\n"
          ]
        },
        {
          "output_type": "execute_result",
          "data": {
            "text/plain": [
              "True"
            ]
          },
          "metadata": {},
          "execution_count": 2
        }
      ],
      "source": [
        "import pandas as pd\n",
        "import numpy as np\n",
        "\n",
        "%matplotlib inline\n",
        "import matplotlib.pyplot as plt\n",
        "import seaborn as sns\n",
        "\n",
        "from sklearn.model_selection import train_test_split\n",
        "from sklearn.linear_model import LogisticRegression\n",
        "from sklearn.svm import SVC\n",
        "from sklearn.naive_bayes import MultinomialNB\n",
        "from sklearn.linear_model import SGDClassifier\n",
        "from sklearn.tree import plot_tree, DecisionTreeClassifier\n",
        "from sklearn.neighbors import KNeighborsClassifier\n",
        "from sklearn.ensemble import RandomForestClassifier\n",
        "from sklearn.metrics import accuracy_score\n",
        "from sklearn.metrics import precision_score\n",
        "from sklearn.metrics import recall_score\n",
        "from sklearn.metrics import confusion_matrix\n",
        "from sklearn.model_selection import GridSearchCV\n",
        "from sklearn.feature_extraction.text import CountVectorizer\n",
        "\n",
        "import re\n",
        "import nltk\n",
        "import string\n",
        "nltk.download('wordnet')\n",
        "from nltk.stem import SnowballStemmer\n",
        "nltk.download('punkt')"
      ]
    },
    {
      "cell_type": "code",
      "execution_count": 3,
      "id": "b325f065-32fe-4d93-a8b9-6279c53486ba",
      "metadata": {
        "tags": [],
        "id": "b325f065-32fe-4d93-a8b9-6279c53486ba"
      },
      "outputs": [],
      "source": [
        "import os\n",
        "from urllib.request import urlretrieve\n",
        "import tarfile\n",
        "import shutil\n",
        "import glob\n",
        "\n",
        "DATASETS_DIR = 'datasets'\n",
        "MODELS_DIR = 'models'\n",
        "TAR_DIR = os.path.join(DATASETS_DIR, 'tar')\n",
        "\n",
        "SPAM_1_URL = 'https://spamassassin.apache.org/old/publiccorpus/20030228_spam.tar.bz2'\n",
        "SPAM_2_URL = 'https://spamassassin.apache.org/old/publiccorpus/20030228_spam_2.tar.bz2'\n",
        "EASY_HAM_1_URL = 'https://spamassassin.apache.org/old/publiccorpus/20030228_easy_ham.tar.bz2'\n",
        "EASY_HAM_2_URL = 'https://spamassassin.apache.org/old/publiccorpus/20030228_easy_ham_2.tar.bz2'\n",
        "HARD_HAM_URL = 'https://spamassassin.apache.org/old/publiccorpus/20030228_hard_ham.tar.bz2'\n",
        "\n",
        "def download_dataset(url):\n",
        "    \"\"\"download and unzip data from a url into the specified path\"\"\"\n",
        "\n",
        "    if not os.path.isdir(TAR_DIR):\n",
        "        os.makedirs(TAR_DIR)\n",
        "\n",
        "    filename = url.rsplit('/', 1)[-1]\n",
        "    tarpath = os.path.join(TAR_DIR, filename)\n",
        "\n",
        "    try:\n",
        "        tarfile.open(tarpath)\n",
        "    except:\n",
        "        urlretrieve(url, tarpath)\n",
        "\n",
        "    with tarfile.open(tarpath) as tar:\n",
        "        dirname = os.path.join(DATASETS_DIR, tar.getnames()[0])\n",
        "        if os.path.isdir(dirname):\n",
        "            shutil.rmtree(dirname)\n",
        "        tar.extractall(path=DATASETS_DIR)\n",
        "\n",
        "        cmds_path = os.path.join(dirname, 'cmds')\n",
        "        if os.path.isfile(cmds_path):\n",
        "            os.remove(cmds_path)\n",
        "\n",
        "    return dirname\n",
        "\n",
        "def load_dataset(dirpath):\n",
        "    \"\"\"load emails from the specified directory\"\"\"\n",
        "\n",
        "    files = []\n",
        "    filepaths = glob.glob(dirpath + '/*')\n",
        "    for path in filepaths:\n",
        "        with open(path, 'rb') as f:\n",
        "            byte_content = f.read()\n",
        "            str_content = byte_content.decode('utf-8', errors='ignore')\n",
        "            files.append(str_content)\n",
        "    return files\n",
        "\n",
        "spam_1_dir = download_dataset(SPAM_1_URL)\n",
        "spam_2_dir = download_dataset(SPAM_2_URL)\n",
        "easy_ham_1_dir = download_dataset(EASY_HAM_1_URL)\n",
        "easy_ham_2_dir = download_dataset(EASY_HAM_2_URL)\n",
        "hard_ham_dir = download_dataset(HARD_HAM_URL)\n",
        "\n",
        "spam_1 = load_dataset(spam_1_dir)\n",
        "spam_2 = load_dataset(spam_2_dir)\n",
        "easy_ham_1 = load_dataset(easy_ham_1_dir)\n",
        "easy_ham_2 = load_dataset(easy_ham_2_dir)\n",
        "hard_ham = load_dataset(hard_ham_dir)"
      ]
    },
    {
      "cell_type": "code",
      "execution_count": 4,
      "id": "32bcb399-8079-4b1e-8a5c-71a3ece4adcc",
      "metadata": {
        "tags": [],
        "colab": {
          "base_uri": "https://localhost:8080/"
        },
        "id": "32bcb399-8079-4b1e-8a5c-71a3ece4adcc",
        "outputId": "a4d5e526-9107-4daa-ced3-832ea296446b"
      },
      "outputs": [
        {
          "output_type": "stream",
          "name": "stdout",
          "text": [
            "From ilug-admin@linux.ie  Mon Sep  2 13:12:53 2002\n",
            "Return-Path: <ilug-admin@linux.ie>\n",
            "Delivered-To: zzzz@localhost.netnoteinc.com\n",
            "Received: from localhost (localhost [127.0.0.1])\n",
            "\tby phobos.labs.netnoteinc.com (Postfix) with ESMTP id 0046D47C84\n",
            "\tfor <zzzz@localhost>; Mon,  2 Sep 2002 07:44:57 -0400 (EDT)\n",
            "Received: from phobos [127.0.0.1]\n",
            "\tby localhost with IMAP (fetchmail-5.9.0)\n",
            "\tfor zzzz@localhost (single-drop); Mon, 02 Sep 2002 12:44:57 +0100 (IST)\n",
            "Received: from lugh.tuatha.org (root@lugh.tuatha.org [194.125.145.45]) by\n",
            "    dogma.slashnull.org (8.11.6/8.11.6) with ESMTP id g82B72Z30034 for\n",
            "    <zzzz-ilug@spamassassin.taint.org>; Mon, 2 Sep 2002 12:07:02 +0100\n",
            "Received: from lugh (root@localhost [127.0.0.1]) by lugh.tuatha.org\n",
            "    (8.9.3/8.9.3) with ESMTP id MAA00554; Mon, 2 Sep 2002 12:05:51 +0100\n",
            "Received: from dspsrv.com (vir.dspsrv.com [193.120.211.34]) by\n",
            "    lugh.tuatha.org (8.9.3/8.9.3) with ESMTP id MAA00506 for <ilug@linux.ie>;\n",
            "    Mon, 2 Sep 2002 12:05:31 +0100\n",
            "X-Authentication-Warning: lugh.tuatha.org: Host vir.dspsrv.com\n",
            "    [193.120.211.34] claimed to be dspsrv.com\n",
            "Received: from itg-gw.cr008.cwt.esat.net ([193.120.242.226]\n",
            "    helo=waider.ie) by dspsrv.com with asmtp (Exim 3.35 #1) id\n",
            "    17lp1O-0004xK-00; Mon, 02 Sep 2002 12:05:30 +0100\n",
            "Message-Id: <3D7344D7.6010702@waider.ie>\n",
            "Date: Mon, 02 Sep 2002 12:00:39 +0100\n",
            "From: Waider <waider@waider.ie>\n",
            "User-Agent: Mozilla/5.0 (X11; U; Linux i686; en-US; rv:1.1) Gecko/20020827\n",
            "X-Accept-Language: en-us, en\n",
            "MIME-Version: 1.0\n",
            "To: vincent@cunniffe.net\n",
            "Cc: ilug@linux.ie\n",
            "Subject: Re: [ILUG] Email list management howto\n",
            "References: <OFEGLPGPCHPACFLJPAILOEICECAA.macarthy@iol.ie>\n",
            "    <3D7344E1.8010309@diva.ie>\n",
            "X-Enigmail-Version: 0.65.2.0\n",
            "X-Enigmail-Supports: pgp-inline, pgp-mime\n",
            "Content-Type: text/plain; charset=us-ascii; format=flowed\n",
            "Content-Transfer-Encoding: 7bit\n",
            "Sender: ilug-admin@linux.ie\n",
            "Errors-To: ilug-admin@linux.ie\n",
            "X-Mailman-Version: 1.1\n",
            "Precedence: bulk\n",
            "List-Id: Irish Linux Users' Group <ilug.linux.ie>\n",
            "X-Beenthere: ilug@linux.ie\n",
            "\n",
            "-----BEGIN PGP SIGNED MESSAGE-----\n",
            "\n",
            "Vincent Cunniffe wrote:\n",
            "| Justin MacCarthy wrote:\n",
            "|\n",
            "|> I think I'll ask this question again, as I sent on friday afternoon.\n",
            "  :-)\n",
            "|\n",
            "|\n",
            "| Mailman ;-)\n",
            "|\n",
            "| Trust me, you do *not* want to running your own mailing lists\n",
            "| on your own software.\n",
            "|\n",
            "| You'll wind up crying in a dark room looking for something\n",
            "| high-voltage to stick your fingers into.\n",
            "\n",
            "All things considered, I get that effect with Mailman, but the viable\n",
            "alternatives are ezmlm, which is loonware and I'm avoiding on principle,\n",
            "and majordomo, which seems to have stagnated. Oh, and there's apparently\n",
            "something called SmartList which is a bitch to set up.\n",
            "\n",
            "Waider.\n",
            "- --\n",
            "waider@waider.ie / Yes, it /is/ very personal of me\n",
            "-----BEGIN PGP SIGNATURE-----\n",
            "Version: GnuPG v1.0.6 (GNU/Linux)\n",
            "Comment: Using GnuPG with Mozilla - http://enigmail.mozdev.org\n",
            "\n",
            "iQEVAwUBPXNE16HbXyzZsAb3AQH2KQf/XqeOMaHNXAlzbmgd5iYd9VQaAgWAR2DQ\n",
            "kdpz0NbECR2OS7PJoLY9lsPKgNshpJcDZIRsxJvXmfp5YRNq0AyP0HGGwRvWgjgB\n",
            "0N9HG/Rgez7S5RhU79RAuhpFb9XO1XzMI0gSkDHSGefQsUOAZ69vZVLLsiRiyHFy\n",
            "4u+vrPVTP0rYR7haX41JXu42GVWfT2K2DDFftAimqGCsJnu2MXcMI/Ptq1rtxhXD\n",
            "WZhxCR+FAwirEk8Yz9Drl8+gJL0YJQFSoWumQzqLKKutx1lJvv7OS4yDjGRaQpxm\n",
            "Jmq8lifudZayccbixx7ZcXMSlpP4C45Wj5XJSYW8RCjU1bgxTqhMbQ==\n",
            "=eG8X\n",
            "-----END PGP SIGNATURE-----\n",
            "\n",
            "\n",
            "-- \n",
            "Irish Linux Users' Group: ilug@linux.ie\n",
            "http://www.linux.ie/mailman/listinfo/ilug for (un)subscription information.\n",
            "List maintainer: listmaster@linux.ie\n",
            "\n",
            "\n"
          ]
        }
      ],
      "source": [
        "print(easy_ham_1[0])"
      ]
    },
    {
      "cell_type": "code",
      "execution_count": 5,
      "id": "fa9d1269-1150-4cd6-9a17-6c871bbb50b5",
      "metadata": {
        "tags": [],
        "colab": {
          "base_uri": "https://localhost:8080/"
        },
        "id": "fa9d1269-1150-4cd6-9a17-6c871bbb50b5",
        "outputId": "f3a7ae05-ee6a-4454-811b-ba611a4f7192"
      },
      "outputs": [
        {
          "output_type": "execute_result",
          "data": {
            "text/plain": [
              "6047"
            ]
          },
          "metadata": {},
          "execution_count": 5
        }
      ],
      "source": [
        "X = easy_ham_1 + easy_ham_2 + hard_ham + spam_1 + spam_2\n",
        "len(X)"
      ]
    },
    {
      "cell_type": "code",
      "execution_count": 6,
      "id": "0da2697f-ad6a-4c3b-911e-1dc364c68a9f",
      "metadata": {
        "tags": [],
        "colab": {
          "base_uri": "https://localhost:8080/"
        },
        "id": "0da2697f-ad6a-4c3b-911e-1dc364c68a9f",
        "outputId": "bcecae88-ab3b-428b-8a2c-5658e548af06"
      },
      "outputs": [
        {
          "output_type": "execute_result",
          "data": {
            "text/plain": [
              "(6047,)"
            ]
          },
          "metadata": {},
          "execution_count": 6
        }
      ],
      "source": [
        "y = np.concatenate((np.zeros(len(easy_ham_1 + easy_ham_2 + hard_ham)), np.ones(len(spam_1 + spam_2))))\n",
        "y.shape"
      ]
    },
    {
      "cell_type": "code",
      "execution_count": 7,
      "id": "39496286-51f7-4d23-b853-2b1d5d666402",
      "metadata": {
        "tags": [],
        "id": "39496286-51f7-4d23-b853-2b1d5d666402"
      },
      "outputs": [],
      "source": [
        "def remove_headers(messages):\n",
        "    header_pattern = re.compile(r'^From .*?\\n\\n', re.MULTILINE | re.DOTALL)\n",
        "\n",
        "    cleaned_messages = []\n",
        "    for message in messages:\n",
        "        cleaned_message = re.sub(header_pattern, '', message)\n",
        "        cleaned_messages.append(cleaned_message)\n",
        "\n",
        "    return cleaned_messages"
      ]
    },
    {
      "cell_type": "code",
      "execution_count": 8,
      "id": "628a09e8-e4d1-47d7-bbaa-fe5566d27994",
      "metadata": {
        "tags": [],
        "id": "628a09e8-e4d1-47d7-bbaa-fe5566d27994"
      },
      "outputs": [],
      "source": [
        "def replace_urls_with_word(messages):\n",
        "    url_pattern = re.compile(r'http[s]?://(?:[a-zA-Z]|[0-9]|[$-_@.&+]|[!*\\\\(\\\\),]|(?:%[0-9a-fA-F][0-9a-fA-F]))+')\n",
        "\n",
        "    replaced_messages = []\n",
        "    for message in messages:\n",
        "        replaced_message = re.sub(url_pattern, \"URL\", message)\n",
        "        replaced_messages.append(replaced_message)\n",
        "\n",
        "    return replaced_messages"
      ]
    },
    {
      "cell_type": "code",
      "execution_count": 9,
      "id": "7696b0d1-9155-45b9-ab73-dec28154985c",
      "metadata": {
        "tags": [],
        "id": "7696b0d1-9155-45b9-ab73-dec28154985c"
      },
      "outputs": [],
      "source": [
        "def convert_to_lowercase(messages):\n",
        "    lowercase_messages = []\n",
        "\n",
        "    for message in messages:\n",
        "        lowercase_message = message.lower()\n",
        "        lowercase_messages.append(lowercase_message)\n",
        "\n",
        "    return lowercase_messages"
      ]
    },
    {
      "cell_type": "code",
      "execution_count": 10,
      "id": "6bf9150f-f056-4d21-ac93-08be472444d2",
      "metadata": {
        "tags": [],
        "id": "6bf9150f-f056-4d21-ac93-08be472444d2"
      },
      "outputs": [],
      "source": [
        "def replace_numbers_with_word(messages, replacement=\"NUM\"):\n",
        "    number_pattern = re.compile(r'\\d+')\n",
        "\n",
        "    replaced_messages = []\n",
        "    for message in messages:\n",
        "        replaced_message = re.sub(number_pattern, replacement, message)\n",
        "        replaced_messages.append(replaced_message)\n",
        "\n",
        "    return replaced_messages"
      ]
    },
    {
      "cell_type": "code",
      "execution_count": 11,
      "id": "dcf01ef1-40c6-4ac4-8e45-70e0aa3d29eb",
      "metadata": {
        "tags": [],
        "id": "dcf01ef1-40c6-4ac4-8e45-70e0aa3d29eb"
      },
      "outputs": [],
      "source": [
        "from nltk.stem import WordNetLemmatizer\n",
        "\n",
        "def remove_word_endings(messages):\n",
        "    lemmatizer = WordNetLemmatizer()\n",
        "    processed_messages = []\n",
        "\n",
        "    for message in messages:\n",
        "        words = nltk.word_tokenize(message)\n",
        "        processed_words = [lemmatizer.lemmatize(word) for word in words]\n",
        "        processed_message = ' '.join(processed_words)\n",
        "        processed_messages.append(processed_message)\n",
        "\n",
        "    return processed_messages"
      ]
    },
    {
      "cell_type": "code",
      "execution_count": 12,
      "id": "1cd38836-49e9-412b-907f-1589933b2bba",
      "metadata": {
        "tags": [],
        "id": "1cd38836-49e9-412b-907f-1589933b2bba"
      },
      "outputs": [],
      "source": [
        "import string\n",
        "\n",
        "def remove_punctuation(messages):\n",
        "    translator = str.maketrans(\"\", \"\", string.punctuation)\n",
        "    processed_messages = []\n",
        "\n",
        "    for message in messages:\n",
        "        processed_message = message.translate(translator)\n",
        "        processed_messages.append(processed_message)\n",
        "\n",
        "    return processed_messages"
      ]
    },
    {
      "cell_type": "code",
      "execution_count": 13,
      "id": "2b5320df-7500-483c-b2f3-18074f3a96b9",
      "metadata": {
        "tags": [],
        "id": "2b5320df-7500-483c-b2f3-18074f3a96b9"
      },
      "outputs": [],
      "source": [
        "new_X = remove_punctuation(\n",
        "    convert_to_lowercase(\n",
        "        remove_word_endings(\n",
        "            replace_numbers_with_word(\n",
        "                replace_urls_with_word(\n",
        "                    remove_headers(X))))))"
      ]
    },
    {
      "cell_type": "code",
      "execution_count": 14,
      "id": "55f1cd3a-f0fc-42ff-8a1a-697bc176ff73",
      "metadata": {
        "tags": [],
        "colab": {
          "base_uri": "https://localhost:8080/"
        },
        "id": "55f1cd3a-f0fc-42ff-8a1a-697bc176ff73",
        "outputId": "582963d0-e9bf-445f-f2fc-29664f641e17"
      },
      "outputs": [
        {
          "output_type": "stream",
          "name": "stdout",
          "text": [
            "  begin pgp signed message    vincent cunniffe wrote   justin maccarthy wrote     i think i ll ask this question again  a i sent on friday afternoon        mailman      trust me  you do  not  want to running your own mailing list  on your own software    you ll wind up cry in a dark room looking for something  highvoltage to stick your finger into  all thing considered  i get that effect with mailman  but the viable alternative are ezmlm  which is loonware and i m avoiding on principle  and majordomo  which seems to have stagnated  oh  and there s apparently something called smartlist which is a bitch to set up  waider    waider  waiderie  yes  it is very personal of me   begin pgp signature    version  gnupg vnumnumnum  gnulinux  comment  using gnupg with mozilla  url iqevawubpxnenumhbxyzzsabnumaqhnumkqfxqeomahnxalzbmgdnumiydnumvqaagwarnumdq kdpznumnbecrnumosnumpjolynumlspkgnshpjcdzirsxjvxmfpnumyrnqnumaypnumhggwrvwgjgb numnnumhgrgeznumsnumrhunumrauhpfbnumxonumxzminumgskdhsgefqsuoaznumvzvllsiriyhfy numuvrpvtpnumryrnumhaxnumjxunumgvwftnumknumddfftaimqgcsjnunummxcmiptqnumrtxhxd wzhxcrfawireknumyznumdrlnumgjlnumyjqfsowumqzqlkkutxnumljvvnumosnumydjgraqpxm jmqnumlifudzayccbixxnumzcxmslppnumcnumwjnumxjsywnumrcjunumbgxtqhmbq egnumx   end pgp signature     irish linux users  group  ilug  linuxie url for  un  subscription information  list maintainer  listmaster  linuxie\n"
          ]
        }
      ],
      "source": [
        "print(new_X[0])"
      ]
    },
    {
      "cell_type": "code",
      "execution_count": 15,
      "id": "44ff2e76-296f-4018-b33e-8cb7cce661c1",
      "metadata": {
        "tags": [],
        "id": "44ff2e76-296f-4018-b33e-8cb7cce661c1"
      },
      "outputs": [],
      "source": [
        "vectorizer = CountVectorizer()\n",
        "data_count_matrix = vectorizer.fit_transform(new_X)\n",
        "data_feature_matrix = data_count_matrix.toarray()\n",
        "X_vectorized = pd.DataFrame(data=data_feature_matrix,columns = vectorizer.get_feature_names_out())"
      ]
    },
    {
      "cell_type": "code",
      "execution_count": 16,
      "id": "25edb45a-c6fd-4031-b2f1-e2bcd562691e",
      "metadata": {
        "tags": [],
        "colab": {
          "base_uri": "https://localhost:8080/",
          "height": 461
        },
        "id": "25edb45a-c6fd-4031-b2f1-e2bcd562691e",
        "outputId": "12bd7fa9-4d0a-4932-c721-a3c1cbccc72e"
      },
      "outputs": [
        {
          "output_type": "execute_result",
          "data": {
            "text/plain": [
              "      aa  aaa  aaaaaa  aaaaaaaa  \\\n",
              "0      0    0       0         0   \n",
              "1      0    0       0         0   \n",
              "2      0    0       0         0   \n",
              "3      0    0       0         0   \n",
              "4      0    0       0         0   \n",
              "...   ..  ...     ...       ...   \n",
              "6042   0    0       0         0   \n",
              "6043   0    0       0         0   \n",
              "6044   0    0       0         0   \n",
              "6045   0    0       0         0   \n",
              "6046   0    0       0         0   \n",
              "\n",
              "      aaaaaaaaaaaaaaaaaaaaaaaaaaaaaaaaaaaaaaaaaaaaaaaaaaaaaaaaaaaaaa  \\\n",
              "0                                                     0                \n",
              "1                                                     0                \n",
              "2                                                     0                \n",
              "3                                                     0                \n",
              "4                                                     0                \n",
              "...                                                 ...                \n",
              "6042                                                  0                \n",
              "6043                                                  0                \n",
              "6044                                                  0                \n",
              "6045                                                  0                \n",
              "6046                                                  0                \n",
              "\n",
              "      aaaaaaaaaaaaaaaaaaaaaaaaaaaaaaaaaaaaaaaaaaaaaaaaaaaaaaaaaaaaaaaaaaaaaaaaaaaa  \\\n",
              "0                                                     0                              \n",
              "1                                                     0                              \n",
              "2                                                     0                              \n",
              "3                                                     0                              \n",
              "4                                                     0                              \n",
              "...                                                 ...                              \n",
              "6042                                                  0                              \n",
              "6043                                                  0                              \n",
              "6044                                                  0                              \n",
              "6045                                                  0                              \n",
              "6046                                                  0                              \n",
              "\n",
              "      aaaaaaaaaaaaaaaaaaaaaaaaaaaaaaaaaaaaaaaaaaaaaaaaaaaaaaaaaaaaaaaaaaaaaqaaaaia  \\\n",
              "0                                                     0                              \n",
              "1                                                     0                              \n",
              "2                                                     0                              \n",
              "3                                                     0                              \n",
              "4                                                     0                              \n",
              "...                                                 ...                              \n",
              "6042                                                  0                              \n",
              "6043                                                  0                              \n",
              "6044                                                  0                              \n",
              "6045                                                  0                              \n",
              "6046                                                  0                              \n",
              "\n",
              "      aaaaaaaaaaaaaaaaaaaaaaaaaaaaaaaaaaaaaaaaaaaaaaaaaaaaaaaaaaaaaaaaaaaacqaaayqb  \\\n",
              "0                                                     0                              \n",
              "1                                                     0                              \n",
              "2                                                     0                              \n",
              "3                                                     0                              \n",
              "4                                                     0                              \n",
              "...                                                 ...                              \n",
              "6042                                                  0                              \n",
              "6043                                                  0                              \n",
              "6044                                                  0                              \n",
              "6045                                                  0                              \n",
              "6046                                                  0                              \n",
              "\n",
              "      aaaaaaaaaaaaaaaaaaaaaaaaaaaaaaaaaaaaaaaaaaaaaaaaaaaaaaaaaaaaaaaaaaghoawnumajwa  \\\n",
              "0                                                     0                                \n",
              "1                                                     0                                \n",
              "2                                                     0                                \n",
              "3                                                     0                                \n",
              "4                                                     0                                \n",
              "...                                                 ...                                \n",
              "6042                                                  0                                \n",
              "6043                                                  0                                \n",
              "6044                                                  0                                \n",
              "6045                                                  0                                \n",
              "6046                                                  0                                \n",
              "\n",
              "      aaaaaaaaaaaaaaaaaaaaaaaaaaaaaaaaaaaaaaaaaaaaaaaaaaaaaaaaaaaaaaaaagwakgbjacoa  \\\n",
              "0                                                     0                              \n",
              "1                                                     0                              \n",
              "2                                                     0                              \n",
              "3                                                     0                              \n",
              "4                                                     0                              \n",
              "...                                                 ...                              \n",
              "6042                                                  0                              \n",
              "6043                                                  0                              \n",
              "6044                                                  0                              \n",
              "6045                                                  0                              \n",
              "6046                                                  0                              \n",
              "\n",
              "      ...  隊x  隊xun  隊xunum  뷽ݵi  죺ʹҵʾչ  쵥λsponsors  ﵽvawry  ﵽvīgρaggyipﵽġc  \\\n",
              "0     ...   0     0       0    0      0           0       0               0   \n",
              "1     ...   0     0       0    0      0           0       0               0   \n",
              "2     ...   0     0       0    0      0           0       0               0   \n",
              "3     ...   0     0       0    0      0           0       0               0   \n",
              "4     ...   0     0       0    0      0           0       0               0   \n",
              "...   ...  ..   ...     ...  ...    ...         ...     ...             ...   \n",
              "6042  ...   0     0       0    0      0           0       0               0   \n",
              "6043  ...   0     0       0    0      0           0       0               0   \n",
              "6044  ...   0     0       0    0      0           0       0               0   \n",
              "6045  ...   0     0       0    0      0           0       0               0   \n",
              "6046  ...   0     0       0    0      0           0       0               0   \n",
              "\n",
              "      𬣡b  𬣤jӡa  \n",
              "0      0     0  \n",
              "1      0     0  \n",
              "2      0     0  \n",
              "3      0     0  \n",
              "4      0     0  \n",
              "...   ..   ...  \n",
              "6042   0     0  \n",
              "6043   0     0  \n",
              "6044   0     0  \n",
              "6045   0     0  \n",
              "6046   0     0  \n",
              "\n",
              "[6047 rows x 90994 columns]"
            ],
            "text/html": [
              "\n",
              "  <div id=\"df-dd22942b-b78a-44d5-b4ff-583f205f1c23\" class=\"colab-df-container\">\n",
              "    <div>\n",
              "<style scoped>\n",
              "    .dataframe tbody tr th:only-of-type {\n",
              "        vertical-align: middle;\n",
              "    }\n",
              "\n",
              "    .dataframe tbody tr th {\n",
              "        vertical-align: top;\n",
              "    }\n",
              "\n",
              "    .dataframe thead th {\n",
              "        text-align: right;\n",
              "    }\n",
              "</style>\n",
              "<table border=\"1\" class=\"dataframe\">\n",
              "  <thead>\n",
              "    <tr style=\"text-align: right;\">\n",
              "      <th></th>\n",
              "      <th>aa</th>\n",
              "      <th>aaa</th>\n",
              "      <th>aaaaaa</th>\n",
              "      <th>aaaaaaaa</th>\n",
              "      <th>aaaaaaaaaaaaaaaaaaaaaaaaaaaaaaaaaaaaaaaaaaaaaaaaaaaaaaaaaaaaaa</th>\n",
              "      <th>aaaaaaaaaaaaaaaaaaaaaaaaaaaaaaaaaaaaaaaaaaaaaaaaaaaaaaaaaaaaaaaaaaaaaaaaaaaa</th>\n",
              "      <th>aaaaaaaaaaaaaaaaaaaaaaaaaaaaaaaaaaaaaaaaaaaaaaaaaaaaaaaaaaaaaaaaaaaaaqaaaaia</th>\n",
              "      <th>aaaaaaaaaaaaaaaaaaaaaaaaaaaaaaaaaaaaaaaaaaaaaaaaaaaaaaaaaaaaaaaaaaaacqaaayqb</th>\n",
              "      <th>aaaaaaaaaaaaaaaaaaaaaaaaaaaaaaaaaaaaaaaaaaaaaaaaaaaaaaaaaaaaaaaaaaghoawnumajwa</th>\n",
              "      <th>aaaaaaaaaaaaaaaaaaaaaaaaaaaaaaaaaaaaaaaaaaaaaaaaaaaaaaaaaaaaaaaaagwakgbjacoa</th>\n",
              "      <th>...</th>\n",
              "      <th>隊x</th>\n",
              "      <th>隊xun</th>\n",
              "      <th>隊xunum</th>\n",
              "      <th>뷽ݵi</th>\n",
              "      <th>죺ʹҵʾչ</th>\n",
              "      <th>쵥λsponsors</th>\n",
              "      <th>ﵽvawry</th>\n",
              "      <th>ﵽvīgρaggyipﵽġc</th>\n",
              "      <th>𬣡b</th>\n",
              "      <th>𬣤jӡa</th>\n",
              "    </tr>\n",
              "  </thead>\n",
              "  <tbody>\n",
              "    <tr>\n",
              "      <th>0</th>\n",
              "      <td>0</td>\n",
              "      <td>0</td>\n",
              "      <td>0</td>\n",
              "      <td>0</td>\n",
              "      <td>0</td>\n",
              "      <td>0</td>\n",
              "      <td>0</td>\n",
              "      <td>0</td>\n",
              "      <td>0</td>\n",
              "      <td>0</td>\n",
              "      <td>...</td>\n",
              "      <td>0</td>\n",
              "      <td>0</td>\n",
              "      <td>0</td>\n",
              "      <td>0</td>\n",
              "      <td>0</td>\n",
              "      <td>0</td>\n",
              "      <td>0</td>\n",
              "      <td>0</td>\n",
              "      <td>0</td>\n",
              "      <td>0</td>\n",
              "    </tr>\n",
              "    <tr>\n",
              "      <th>1</th>\n",
              "      <td>0</td>\n",
              "      <td>0</td>\n",
              "      <td>0</td>\n",
              "      <td>0</td>\n",
              "      <td>0</td>\n",
              "      <td>0</td>\n",
              "      <td>0</td>\n",
              "      <td>0</td>\n",
              "      <td>0</td>\n",
              "      <td>0</td>\n",
              "      <td>...</td>\n",
              "      <td>0</td>\n",
              "      <td>0</td>\n",
              "      <td>0</td>\n",
              "      <td>0</td>\n",
              "      <td>0</td>\n",
              "      <td>0</td>\n",
              "      <td>0</td>\n",
              "      <td>0</td>\n",
              "      <td>0</td>\n",
              "      <td>0</td>\n",
              "    </tr>\n",
              "    <tr>\n",
              "      <th>2</th>\n",
              "      <td>0</td>\n",
              "      <td>0</td>\n",
              "      <td>0</td>\n",
              "      <td>0</td>\n",
              "      <td>0</td>\n",
              "      <td>0</td>\n",
              "      <td>0</td>\n",
              "      <td>0</td>\n",
              "      <td>0</td>\n",
              "      <td>0</td>\n",
              "      <td>...</td>\n",
              "      <td>0</td>\n",
              "      <td>0</td>\n",
              "      <td>0</td>\n",
              "      <td>0</td>\n",
              "      <td>0</td>\n",
              "      <td>0</td>\n",
              "      <td>0</td>\n",
              "      <td>0</td>\n",
              "      <td>0</td>\n",
              "      <td>0</td>\n",
              "    </tr>\n",
              "    <tr>\n",
              "      <th>3</th>\n",
              "      <td>0</td>\n",
              "      <td>0</td>\n",
              "      <td>0</td>\n",
              "      <td>0</td>\n",
              "      <td>0</td>\n",
              "      <td>0</td>\n",
              "      <td>0</td>\n",
              "      <td>0</td>\n",
              "      <td>0</td>\n",
              "      <td>0</td>\n",
              "      <td>...</td>\n",
              "      <td>0</td>\n",
              "      <td>0</td>\n",
              "      <td>0</td>\n",
              "      <td>0</td>\n",
              "      <td>0</td>\n",
              "      <td>0</td>\n",
              "      <td>0</td>\n",
              "      <td>0</td>\n",
              "      <td>0</td>\n",
              "      <td>0</td>\n",
              "    </tr>\n",
              "    <tr>\n",
              "      <th>4</th>\n",
              "      <td>0</td>\n",
              "      <td>0</td>\n",
              "      <td>0</td>\n",
              "      <td>0</td>\n",
              "      <td>0</td>\n",
              "      <td>0</td>\n",
              "      <td>0</td>\n",
              "      <td>0</td>\n",
              "      <td>0</td>\n",
              "      <td>0</td>\n",
              "      <td>...</td>\n",
              "      <td>0</td>\n",
              "      <td>0</td>\n",
              "      <td>0</td>\n",
              "      <td>0</td>\n",
              "      <td>0</td>\n",
              "      <td>0</td>\n",
              "      <td>0</td>\n",
              "      <td>0</td>\n",
              "      <td>0</td>\n",
              "      <td>0</td>\n",
              "    </tr>\n",
              "    <tr>\n",
              "      <th>...</th>\n",
              "      <td>...</td>\n",
              "      <td>...</td>\n",
              "      <td>...</td>\n",
              "      <td>...</td>\n",
              "      <td>...</td>\n",
              "      <td>...</td>\n",
              "      <td>...</td>\n",
              "      <td>...</td>\n",
              "      <td>...</td>\n",
              "      <td>...</td>\n",
              "      <td>...</td>\n",
              "      <td>...</td>\n",
              "      <td>...</td>\n",
              "      <td>...</td>\n",
              "      <td>...</td>\n",
              "      <td>...</td>\n",
              "      <td>...</td>\n",
              "      <td>...</td>\n",
              "      <td>...</td>\n",
              "      <td>...</td>\n",
              "      <td>...</td>\n",
              "    </tr>\n",
              "    <tr>\n",
              "      <th>6042</th>\n",
              "      <td>0</td>\n",
              "      <td>0</td>\n",
              "      <td>0</td>\n",
              "      <td>0</td>\n",
              "      <td>0</td>\n",
              "      <td>0</td>\n",
              "      <td>0</td>\n",
              "      <td>0</td>\n",
              "      <td>0</td>\n",
              "      <td>0</td>\n",
              "      <td>...</td>\n",
              "      <td>0</td>\n",
              "      <td>0</td>\n",
              "      <td>0</td>\n",
              "      <td>0</td>\n",
              "      <td>0</td>\n",
              "      <td>0</td>\n",
              "      <td>0</td>\n",
              "      <td>0</td>\n",
              "      <td>0</td>\n",
              "      <td>0</td>\n",
              "    </tr>\n",
              "    <tr>\n",
              "      <th>6043</th>\n",
              "      <td>0</td>\n",
              "      <td>0</td>\n",
              "      <td>0</td>\n",
              "      <td>0</td>\n",
              "      <td>0</td>\n",
              "      <td>0</td>\n",
              "      <td>0</td>\n",
              "      <td>0</td>\n",
              "      <td>0</td>\n",
              "      <td>0</td>\n",
              "      <td>...</td>\n",
              "      <td>0</td>\n",
              "      <td>0</td>\n",
              "      <td>0</td>\n",
              "      <td>0</td>\n",
              "      <td>0</td>\n",
              "      <td>0</td>\n",
              "      <td>0</td>\n",
              "      <td>0</td>\n",
              "      <td>0</td>\n",
              "      <td>0</td>\n",
              "    </tr>\n",
              "    <tr>\n",
              "      <th>6044</th>\n",
              "      <td>0</td>\n",
              "      <td>0</td>\n",
              "      <td>0</td>\n",
              "      <td>0</td>\n",
              "      <td>0</td>\n",
              "      <td>0</td>\n",
              "      <td>0</td>\n",
              "      <td>0</td>\n",
              "      <td>0</td>\n",
              "      <td>0</td>\n",
              "      <td>...</td>\n",
              "      <td>0</td>\n",
              "      <td>0</td>\n",
              "      <td>0</td>\n",
              "      <td>0</td>\n",
              "      <td>0</td>\n",
              "      <td>0</td>\n",
              "      <td>0</td>\n",
              "      <td>0</td>\n",
              "      <td>0</td>\n",
              "      <td>0</td>\n",
              "    </tr>\n",
              "    <tr>\n",
              "      <th>6045</th>\n",
              "      <td>0</td>\n",
              "      <td>0</td>\n",
              "      <td>0</td>\n",
              "      <td>0</td>\n",
              "      <td>0</td>\n",
              "      <td>0</td>\n",
              "      <td>0</td>\n",
              "      <td>0</td>\n",
              "      <td>0</td>\n",
              "      <td>0</td>\n",
              "      <td>...</td>\n",
              "      <td>0</td>\n",
              "      <td>0</td>\n",
              "      <td>0</td>\n",
              "      <td>0</td>\n",
              "      <td>0</td>\n",
              "      <td>0</td>\n",
              "      <td>0</td>\n",
              "      <td>0</td>\n",
              "      <td>0</td>\n",
              "      <td>0</td>\n",
              "    </tr>\n",
              "    <tr>\n",
              "      <th>6046</th>\n",
              "      <td>0</td>\n",
              "      <td>0</td>\n",
              "      <td>0</td>\n",
              "      <td>0</td>\n",
              "      <td>0</td>\n",
              "      <td>0</td>\n",
              "      <td>0</td>\n",
              "      <td>0</td>\n",
              "      <td>0</td>\n",
              "      <td>0</td>\n",
              "      <td>...</td>\n",
              "      <td>0</td>\n",
              "      <td>0</td>\n",
              "      <td>0</td>\n",
              "      <td>0</td>\n",
              "      <td>0</td>\n",
              "      <td>0</td>\n",
              "      <td>0</td>\n",
              "      <td>0</td>\n",
              "      <td>0</td>\n",
              "      <td>0</td>\n",
              "    </tr>\n",
              "  </tbody>\n",
              "</table>\n",
              "<p>6047 rows × 90994 columns</p>\n",
              "</div>\n",
              "    <div class=\"colab-df-buttons\">\n",
              "\n",
              "  <div class=\"colab-df-container\">\n",
              "    <button class=\"colab-df-convert\" onclick=\"convertToInteractive('df-dd22942b-b78a-44d5-b4ff-583f205f1c23')\"\n",
              "            title=\"Convert this dataframe to an interactive table.\"\n",
              "            style=\"display:none;\">\n",
              "\n",
              "  <svg xmlns=\"http://www.w3.org/2000/svg\" height=\"24px\" viewBox=\"0 -960 960 960\">\n",
              "    <path d=\"M120-120v-720h720v720H120Zm60-500h600v-160H180v160Zm220 220h160v-160H400v160Zm0 220h160v-160H400v160ZM180-400h160v-160H180v160Zm440 0h160v-160H620v160ZM180-180h160v-160H180v160Zm440 0h160v-160H620v160Z\"/>\n",
              "  </svg>\n",
              "    </button>\n",
              "\n",
              "  <style>\n",
              "    .colab-df-container {\n",
              "      display:flex;\n",
              "      gap: 12px;\n",
              "    }\n",
              "\n",
              "    .colab-df-convert {\n",
              "      background-color: #E8F0FE;\n",
              "      border: none;\n",
              "      border-radius: 50%;\n",
              "      cursor: pointer;\n",
              "      display: none;\n",
              "      fill: #1967D2;\n",
              "      height: 32px;\n",
              "      padding: 0 0 0 0;\n",
              "      width: 32px;\n",
              "    }\n",
              "\n",
              "    .colab-df-convert:hover {\n",
              "      background-color: #E2EBFA;\n",
              "      box-shadow: 0px 1px 2px rgba(60, 64, 67, 0.3), 0px 1px 3px 1px rgba(60, 64, 67, 0.15);\n",
              "      fill: #174EA6;\n",
              "    }\n",
              "\n",
              "    .colab-df-buttons div {\n",
              "      margin-bottom: 4px;\n",
              "    }\n",
              "\n",
              "    [theme=dark] .colab-df-convert {\n",
              "      background-color: #3B4455;\n",
              "      fill: #D2E3FC;\n",
              "    }\n",
              "\n",
              "    [theme=dark] .colab-df-convert:hover {\n",
              "      background-color: #434B5C;\n",
              "      box-shadow: 0px 1px 3px 1px rgba(0, 0, 0, 0.15);\n",
              "      filter: drop-shadow(0px 1px 2px rgba(0, 0, 0, 0.3));\n",
              "      fill: #FFFFFF;\n",
              "    }\n",
              "  </style>\n",
              "\n",
              "    <script>\n",
              "      const buttonEl =\n",
              "        document.querySelector('#df-dd22942b-b78a-44d5-b4ff-583f205f1c23 button.colab-df-convert');\n",
              "      buttonEl.style.display =\n",
              "        google.colab.kernel.accessAllowed ? 'block' : 'none';\n",
              "\n",
              "      async function convertToInteractive(key) {\n",
              "        const element = document.querySelector('#df-dd22942b-b78a-44d5-b4ff-583f205f1c23');\n",
              "        const dataTable =\n",
              "          await google.colab.kernel.invokeFunction('convertToInteractive',\n",
              "                                                    [key], {});\n",
              "        if (!dataTable) return;\n",
              "\n",
              "        const docLinkHtml = 'Like what you see? Visit the ' +\n",
              "          '<a target=\"_blank\" href=https://colab.research.google.com/notebooks/data_table.ipynb>data table notebook</a>'\n",
              "          + ' to learn more about interactive tables.';\n",
              "        element.innerHTML = '';\n",
              "        dataTable['output_type'] = 'display_data';\n",
              "        await google.colab.output.renderOutput(dataTable, element);\n",
              "        const docLink = document.createElement('div');\n",
              "        docLink.innerHTML = docLinkHtml;\n",
              "        element.appendChild(docLink);\n",
              "      }\n",
              "    </script>\n",
              "  </div>\n",
              "\n",
              "\n",
              "<div id=\"df-31df17ae-4250-437a-81cf-3258e49b2f76\">\n",
              "  <button class=\"colab-df-quickchart\" onclick=\"quickchart('df-31df17ae-4250-437a-81cf-3258e49b2f76')\"\n",
              "            title=\"Suggest charts\"\n",
              "            style=\"display:none;\">\n",
              "\n",
              "<svg xmlns=\"http://www.w3.org/2000/svg\" height=\"24px\"viewBox=\"0 0 24 24\"\n",
              "     width=\"24px\">\n",
              "    <g>\n",
              "        <path d=\"M19 3H5c-1.1 0-2 .9-2 2v14c0 1.1.9 2 2 2h14c1.1 0 2-.9 2-2V5c0-1.1-.9-2-2-2zM9 17H7v-7h2v7zm4 0h-2V7h2v10zm4 0h-2v-4h2v4z\"/>\n",
              "    </g>\n",
              "</svg>\n",
              "  </button>\n",
              "\n",
              "<style>\n",
              "  .colab-df-quickchart {\n",
              "      --bg-color: #E8F0FE;\n",
              "      --fill-color: #1967D2;\n",
              "      --hover-bg-color: #E2EBFA;\n",
              "      --hover-fill-color: #174EA6;\n",
              "      --disabled-fill-color: #AAA;\n",
              "      --disabled-bg-color: #DDD;\n",
              "  }\n",
              "\n",
              "  [theme=dark] .colab-df-quickchart {\n",
              "      --bg-color: #3B4455;\n",
              "      --fill-color: #D2E3FC;\n",
              "      --hover-bg-color: #434B5C;\n",
              "      --hover-fill-color: #FFFFFF;\n",
              "      --disabled-bg-color: #3B4455;\n",
              "      --disabled-fill-color: #666;\n",
              "  }\n",
              "\n",
              "  .colab-df-quickchart {\n",
              "    background-color: var(--bg-color);\n",
              "    border: none;\n",
              "    border-radius: 50%;\n",
              "    cursor: pointer;\n",
              "    display: none;\n",
              "    fill: var(--fill-color);\n",
              "    height: 32px;\n",
              "    padding: 0;\n",
              "    width: 32px;\n",
              "  }\n",
              "\n",
              "  .colab-df-quickchart:hover {\n",
              "    background-color: var(--hover-bg-color);\n",
              "    box-shadow: 0 1px 2px rgba(60, 64, 67, 0.3), 0 1px 3px 1px rgba(60, 64, 67, 0.15);\n",
              "    fill: var(--button-hover-fill-color);\n",
              "  }\n",
              "\n",
              "  .colab-df-quickchart-complete:disabled,\n",
              "  .colab-df-quickchart-complete:disabled:hover {\n",
              "    background-color: var(--disabled-bg-color);\n",
              "    fill: var(--disabled-fill-color);\n",
              "    box-shadow: none;\n",
              "  }\n",
              "\n",
              "  .colab-df-spinner {\n",
              "    border: 2px solid var(--fill-color);\n",
              "    border-color: transparent;\n",
              "    border-bottom-color: var(--fill-color);\n",
              "    animation:\n",
              "      spin 1s steps(1) infinite;\n",
              "  }\n",
              "\n",
              "  @keyframes spin {\n",
              "    0% {\n",
              "      border-color: transparent;\n",
              "      border-bottom-color: var(--fill-color);\n",
              "      border-left-color: var(--fill-color);\n",
              "    }\n",
              "    20% {\n",
              "      border-color: transparent;\n",
              "      border-left-color: var(--fill-color);\n",
              "      border-top-color: var(--fill-color);\n",
              "    }\n",
              "    30% {\n",
              "      border-color: transparent;\n",
              "      border-left-color: var(--fill-color);\n",
              "      border-top-color: var(--fill-color);\n",
              "      border-right-color: var(--fill-color);\n",
              "    }\n",
              "    40% {\n",
              "      border-color: transparent;\n",
              "      border-right-color: var(--fill-color);\n",
              "      border-top-color: var(--fill-color);\n",
              "    }\n",
              "    60% {\n",
              "      border-color: transparent;\n",
              "      border-right-color: var(--fill-color);\n",
              "    }\n",
              "    80% {\n",
              "      border-color: transparent;\n",
              "      border-right-color: var(--fill-color);\n",
              "      border-bottom-color: var(--fill-color);\n",
              "    }\n",
              "    90% {\n",
              "      border-color: transparent;\n",
              "      border-bottom-color: var(--fill-color);\n",
              "    }\n",
              "  }\n",
              "</style>\n",
              "\n",
              "  <script>\n",
              "    async function quickchart(key) {\n",
              "      const quickchartButtonEl =\n",
              "        document.querySelector('#' + key + ' button');\n",
              "      quickchartButtonEl.disabled = true;  // To prevent multiple clicks.\n",
              "      quickchartButtonEl.classList.add('colab-df-spinner');\n",
              "      try {\n",
              "        const charts = await google.colab.kernel.invokeFunction(\n",
              "            'suggestCharts', [key], {});\n",
              "      } catch (error) {\n",
              "        console.error('Error during call to suggestCharts:', error);\n",
              "      }\n",
              "      quickchartButtonEl.classList.remove('colab-df-spinner');\n",
              "      quickchartButtonEl.classList.add('colab-df-quickchart-complete');\n",
              "    }\n",
              "    (() => {\n",
              "      let quickchartButtonEl =\n",
              "        document.querySelector('#df-31df17ae-4250-437a-81cf-3258e49b2f76 button');\n",
              "      quickchartButtonEl.style.display =\n",
              "        google.colab.kernel.accessAllowed ? 'block' : 'none';\n",
              "    })();\n",
              "  </script>\n",
              "</div>\n",
              "    </div>\n",
              "  </div>\n"
            ],
            "application/vnd.google.colaboratory.intrinsic+json": {
              "type": "dataframe",
              "variable_name": "X_vectorized"
            }
          },
          "metadata": {},
          "execution_count": 16
        }
      ],
      "source": [
        "X_vectorized"
      ]
    },
    {
      "cell_type": "code",
      "execution_count": 17,
      "id": "8475f3a1-486c-45ca-b2f6-dc5377aa34af",
      "metadata": {
        "tags": [],
        "id": "8475f3a1-486c-45ca-b2f6-dc5377aa34af"
      },
      "outputs": [],
      "source": [
        "X_train, X_test, y_train, y_test = train_test_split(X_vectorized, y, test_size=0.2, random_state=42)"
      ]
    },
    {
      "cell_type": "code",
      "execution_count": 18,
      "id": "8abba0f0-3062-48a1-b402-08b74ca03228",
      "metadata": {
        "tags": [],
        "colab": {
          "base_uri": "https://localhost:8080/"
        },
        "id": "8abba0f0-3062-48a1-b402-08b74ca03228",
        "outputId": "b0a6256e-8383-434a-c606-336d3fc796f5"
      },
      "outputs": [
        {
          "output_type": "execute_result",
          "data": {
            "text/plain": [
              "(4837, 90994)"
            ]
          },
          "metadata": {},
          "execution_count": 18
        }
      ],
      "source": [
        "X_train.shape"
      ]
    },
    {
      "cell_type": "code",
      "execution_count": 19,
      "id": "de03d5e2-e2fc-4aec-9fe2-c174a5b6adec",
      "metadata": {
        "tags": [],
        "colab": {
          "base_uri": "https://localhost:8080/"
        },
        "id": "de03d5e2-e2fc-4aec-9fe2-c174a5b6adec",
        "outputId": "2a03ae22-9d54-4127-c4cd-5adc6fbe524e"
      },
      "outputs": [
        {
          "output_type": "execute_result",
          "data": {
            "text/plain": [
              "(4837,)"
            ]
          },
          "metadata": {},
          "execution_count": 19
        }
      ],
      "source": [
        "y_train.shape"
      ]
    },
    {
      "cell_type": "code",
      "execution_count": null,
      "id": "d703c7d3-6d37-4901-b850-2a978544a08a",
      "metadata": {
        "tags": [],
        "id": "d703c7d3-6d37-4901-b850-2a978544a08a"
      },
      "outputs": [],
      "source": [
        "svc = SVC()\n",
        "svc.fit(X_train,y_train)\n",
        "y_pred = svc.predict(X_test)\n",
        "precision = precision_score(y_test, y_pred)\n",
        "recall = recall_score(y_test, y_pred)"
      ]
    },
    {
      "cell_type": "code",
      "execution_count": null,
      "id": "f56fb1d1-d36f-4048-82e8-86a0568d1fcc",
      "metadata": {
        "tags": [],
        "id": "f56fb1d1-d36f-4048-82e8-86a0568d1fcc",
        "outputId": "05b638d5-ae2f-4112-c4d6-73eb143d8ab7"
      },
      "outputs": [
        {
          "name": "stdout",
          "output_type": "stream",
          "text": [
            "Precision:  0.9565217391304348\n",
            "Recall:  0.4230769230769231\n"
          ]
        }
      ],
      "source": [
        "print(\"Precision: \", precision)\n",
        "print(\"Recall: \", recall)"
      ]
    },
    {
      "cell_type": "code",
      "execution_count": 30,
      "id": "c3a3795d-b342-4abf-a12a-4aad9ad267c0",
      "metadata": {
        "tags": [],
        "id": "c3a3795d-b342-4abf-a12a-4aad9ad267c0"
      },
      "outputs": [],
      "source": [
        "sgd = SGDClassifier(alpha=1e-7)\n",
        "sgd.fit(X_train,y_train)\n",
        "y_pred = sgd.predict(X_test)\n",
        "precision = precision_score(y_test, y_pred)\n",
        "recall = recall_score(y_test, y_pred)"
      ]
    },
    {
      "cell_type": "code",
      "execution_count": 31,
      "id": "36e5bd06-b616-4760-9726-445da38da018",
      "metadata": {
        "tags": [],
        "colab": {
          "base_uri": "https://localhost:8080/"
        },
        "id": "36e5bd06-b616-4760-9726-445da38da018",
        "outputId": "b5aeea24-168b-402f-a435-40abe5e7e4c2"
      },
      "outputs": [
        {
          "output_type": "stream",
          "name": "stdout",
          "text": [
            "Precision:  0.9597855227882037\n",
            "Recall:  0.9445910290237467\n"
          ]
        }
      ],
      "source": [
        "print(\"Precision: \", precision)\n",
        "print(\"Recall: \", recall)"
      ]
    },
    {
      "cell_type": "code",
      "execution_count": 32,
      "id": "df7c2869-cb4c-4b96-9f44-b489bc1487e5",
      "metadata": {
        "tags": [],
        "id": "df7c2869-cb4c-4b96-9f44-b489bc1487e5"
      },
      "outputs": [],
      "source": [
        "dtc = DecisionTreeClassifier()\n",
        "dtc.fit(X_train,y_train)\n",
        "y_pred = dtc.predict(X_test)\n",
        "precision = precision_score(y_test, y_pred)\n",
        "recall = recall_score(y_test, y_pred)"
      ]
    },
    {
      "cell_type": "code",
      "execution_count": 33,
      "id": "a5f06c8b-2d1a-41af-8bf9-ccb3dc35a132",
      "metadata": {
        "tags": [],
        "colab": {
          "base_uri": "https://localhost:8080/"
        },
        "id": "a5f06c8b-2d1a-41af-8bf9-ccb3dc35a132",
        "outputId": "c398e143-9173-4c70-85d0-5819f2839cc5"
      },
      "outputs": [
        {
          "output_type": "stream",
          "name": "stdout",
          "text": [
            "Precision:  0.9261213720316622\n",
            "Recall:  0.9261213720316622\n"
          ]
        }
      ],
      "source": [
        "print(\"Precision: \", precision)\n",
        "print(\"Recall: \", recall)"
      ]
    },
    {
      "cell_type": "code",
      "execution_count": 24,
      "id": "b765b01f-f149-4607-81fc-f7c3c08f33b9",
      "metadata": {
        "tags": [],
        "id": "b765b01f-f149-4607-81fc-f7c3c08f33b9"
      },
      "outputs": [],
      "source": [
        "mnb = MultinomialNB()\n",
        "mnb.fit(X_train,y_train)\n",
        "y_pred = mnb.predict(X_test)\n",
        "precision = precision_score(y_test, y_pred)\n",
        "recall = recall_score(y_test, y_pred)"
      ]
    },
    {
      "cell_type": "code",
      "execution_count": 25,
      "id": "82634da1-57fa-4b48-9d9b-d1fa9dfec6b3",
      "metadata": {
        "tags": [],
        "colab": {
          "base_uri": "https://localhost:8080/"
        },
        "id": "82634da1-57fa-4b48-9d9b-d1fa9dfec6b3",
        "outputId": "1ea4d8ef-6f13-434e-ca7a-fa41a075d0a3"
      },
      "outputs": [
        {
          "output_type": "stream",
          "name": "stdout",
          "text": [
            "Precision:  0.9777158774373259\n",
            "Recall:  0.9261213720316622\n"
          ]
        }
      ],
      "source": [
        "print(\"Precision: \", precision)\n",
        "print(\"Recall: \", recall)"
      ]
    },
    {
      "cell_type": "code",
      "execution_count": 28,
      "id": "20fd8974-e462-4bfe-84d8-47a2728fcd0a",
      "metadata": {
        "tags": [],
        "id": "20fd8974-e462-4bfe-84d8-47a2728fcd0a"
      },
      "outputs": [],
      "source": [
        "rfc = RandomForestClassifier(n_estimators = 100, random_state = 42)\n",
        "rfc.fit(X_train,y_train)\n",
        "y_pred = rfc.predict(X_test)\n",
        "precision = precision_score(y_test, y_pred)\n",
        "recall = recall_score(y_test, y_pred)"
      ]
    },
    {
      "cell_type": "code",
      "execution_count": 29,
      "id": "8c963d0e-e1b1-4878-9821-6284d71d4c9b",
      "metadata": {
        "tags": [],
        "colab": {
          "base_uri": "https://localhost:8080/"
        },
        "id": "8c963d0e-e1b1-4878-9821-6284d71d4c9b",
        "outputId": "e5a992aa-debe-4b95-e256-8d14459ccd1d"
      },
      "outputs": [
        {
          "output_type": "stream",
          "name": "stdout",
          "text": [
            "Precision:  0.9755434782608695\n",
            "Recall:  0.9472295514511874\n"
          ]
        }
      ],
      "source": [
        "print(\"Precision: \", precision)\n",
        "print(\"Recall: \", recall)"
      ]
    },
    {
      "cell_type": "code",
      "execution_count": null,
      "id": "d0bbb0b9-5508-48fc-b408-e8ee1a60f8a1",
      "metadata": {
        "id": "d0bbb0b9-5508-48fc-b408-e8ee1a60f8a1"
      },
      "outputs": [],
      "source": []
    }
  ],
  "metadata": {
    "kernelspec": {
      "display_name": "Python 3 (ipykernel)",
      "language": "python",
      "name": "python3"
    },
    "language_info": {
      "codemirror_mode": {
        "name": "ipython",
        "version": 3
      },
      "file_extension": ".py",
      "mimetype": "text/x-python",
      "name": "python",
      "nbconvert_exporter": "python",
      "pygments_lexer": "ipython3",
      "version": "3.11.5"
    },
    "colab": {
      "provenance": []
    }
  },
  "nbformat": 4,
  "nbformat_minor": 5
}