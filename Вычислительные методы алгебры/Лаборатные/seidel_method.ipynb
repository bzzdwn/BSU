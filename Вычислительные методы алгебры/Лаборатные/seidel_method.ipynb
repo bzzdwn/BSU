{
 "cells": [
  {
   "cell_type": "markdown",
   "id": "09ea40e4-959e-4480-8e06-13b3e69c3f47",
   "metadata": {},
   "source": [
    "# Алгоритм решения"
   ]
  },
  {
   "cell_type": "markdown",
   "id": "42423417-86da-4e4e-8749-72b715b54acd",
   "metadata": {},
   "source": [
    "## Постановка задачи\n",
    "Пусть дана система $$Ax = b$$ или в координатной форме \n",
    "$$\\begin{cases}\n",
    "\t\ta_{11}x_1 + a_{12}x_2 + \\ldots + a_{1n}x_n = b_1,\\\\\n",
    "\t\ta_{21}x_1 + a_{22}x_2 + \\ldots + a_{2n}x_n = b_2,\\\\\n",
    "\t\t\\vdots\\\\\n",
    "\t\ta_{n1}x_1 + a_{n2}x_2 + \\ldots + a_{nn}x_n = b_n.\n",
    "\t\\end{cases}.$$\n",
    "    \n",
    "Предполагаем, что задача является корректно поставленной. Нам необходимо:\n",
    "1. найти решение системы указанным методом;\n",
    "2. вычислить вектор невязки;\n",
    "3. найти матрицу, обратную к матрице системы;\n",
    "4. найти число обусловленности матрицы системы.\n",
    "\n",
    "Решение системы мы будем искать как предел бесконечного вычислительного процесса. Когда строится последовательность $x^0, x^1,\\ldots, x^k,\\ldots$ приближения к решению $x^*$, мы должны обеспечить выполнение условия $$\\lim\\limits_{k\\to\\infty} | | x^k - x^* | | = 0.$$\n",
    "В наших обозначениях $0,1,\\ldots,k,\\ldots$ - номер итерации. И каждый элемент является $k$-ой итерацией, или $k$-ым приближением к искомому значению $x^*$."
   ]
  },
  {
   "cell_type": "markdown",
   "id": "6516a015-e039-4667-9b3b-332be54c82d5",
   "metadata": {
    "tags": []
   },
   "source": [
    "## Метод Зейделя\n",
    "Метод простой итерации в координатной форме можно записать как $$x_i^{k+1} = \\sum_{j=1}^{n} b_{ij}x^k_j + g_i,\\ i=1,\\ldots,n,\\ k = 0,1,\\ldots;\\quad x_0 = g$$\n",
    "\tгде $i$ - координата искомого вектора. Опишем метод использования вычисленных координат вектора $x^{k+1}$ для вычисления других координат этого вектора."
   ]
  },
  {
   "cell_type": "markdown",
   "id": "d80ca9e2-4c6e-448f-b7f3-19f698af98dd",
   "metadata": {},
   "source": [
    "Фиксируем порядок вычисления компонент вектора $x^{k+1}$ в порядке возрастания номеров от $1$ до $n$ и при вычислении каждой последующей координаты будем использовать уточненные ранее предыдущей координаты. Запишем это в виде формулы \n",
    "\t$$\\begin{cases}\n",
    "\t\tx_1^{k+1} = b_{11}x_1^k + b_{12}x_2^k + \\ldots + b_{1n}x_n^k + g_1,\\\\\n",
    "\t\tx_2^{k+1} = b_{21}x\n",
    "        _1^{k+1} + b_{12}x_2^k + \\ldots + b_{2n}x_n^k + g_2,\\\\\n",
    "\t\t\\vdots\\\\\n",
    "\t\tx_n^{k+1} = b_{n1}x_1^{k+1} + b_{n2}x_2^{k+1} + \\ldots + b_{nn}x_n^k + g_n\n",
    "\t\\end{cases}\\quad (1)$$\n",
    "Запишем это в более компактном виде $$x_i^{k+1} = \\sum_{j=1}^{i-1}b_{ij}x_j^{k+1} + \\sum_{j=i}^{n} b_{ij} x_j^k + g_i,\\ i = \\overline{1,n}, k=0,1\\ldots;\\quad x_0\\quad(2)$$\n",
    "\n",
    "Итерационный метод (1) или (2) называется методом Зейделя. Для исследования его сходимости запишем формулу (2) в матричном виде. Введем в рассмотрение матрицы \n",
    "\t$$H = \\begin{pmatrix}\n",
    "\t\t0 & 0 & \\ldots & 0 & 0\\\\\n",
    "\t\tb_{21} & 0 & \\ldots & 0 & 0\\\\\n",
    "\t\t\\vdots & \\vdots & \\ddots & \\vdots & \\vdots \\\\\n",
    "\t\tb_{n1} & b_{n2} & \\dots & b_{nn-1} & 0\n",
    "\t\\end{pmatrix},\\quad F = \\begin{pmatrix}\n",
    "\tb_{11} & b_{12}& \\ldots & b_{1n-1} & b_{1n}\\\\\n",
    "\t0 & b_{22} & \\dots &b_{2n-1}& b_{2n}\\\\\n",
    "\t\\vdots & \\vdots & \\ddots & \\vdots & \\vdots\\\\\n",
    "\t0 & 0& \\dots & 0 & b_{nn}\n",
    "\t\\end{pmatrix}$$\n",
    "    \n",
    "Очевидно $B = H+F$. Тогда вместо формулы (2) мы можем записать метод Зейделя в матричном виде $$x^{k+1} = Hx^{k+1} + Fx^k + g,\\ k=0,1\\ldots \\quad(3)$$\n",
    "\n",
    "Для отыскания обратной матрицы вместо исходного уравнения будем решать уравнение $$AX = E,$$ где значение $X$, которое мы вычислим с помощью метода Зейделя, и будет являться матрицей обратной к матрице $A$."
   ]
  },
  {
   "cell_type": "markdown",
   "id": "f4f96719-01c8-4348-9407-b724788fcea4",
   "metadata": {},
   "source": [
    "## Вычисление числа обусловленности\n",
    "\n",
    "Для вычисления числа обусловленности воспользуемся формулой, определяющей его, $$\\nu(A) = | | A| | \\cdot | | A^{-1} | |.$$\n",
    "При решении будет вычислять его, используя сферическую норму матрицы."
   ]
  },
  {
   "cell_type": "markdown",
   "id": "1e71a814-6caf-4b4d-8431-5cb422bcd59e",
   "metadata": {
    "tags": []
   },
   "source": [
    "# Листинг программы"
   ]
  },
  {
   "cell_type": "code",
   "execution_count": 1,
   "id": "fe7574b8-44dd-4d41-bef4-024ee63d6e5f",
   "metadata": {},
   "outputs": [],
   "source": [
    "import numpy as np\n",
    "import math"
   ]
  },
  {
   "cell_type": "markdown",
   "id": "5ebdb3e3-bffe-47cd-9f75-fd23786435c0",
   "metadata": {},
   "source": [
    "## Функция алгоритма"
   ]
  },
  {
   "cell_type": "code",
   "execution_count": 2,
   "id": "19a7107e-4d14-4336-be7f-eb06159b5aec",
   "metadata": {},
   "outputs": [],
   "source": [
    "def seidel_method(B, g, epsilon):\n",
    "    x_k = np.copy(g) # Начальное приближение x_0 = g\n",
    "    H, F = np.zeros((B.shape[0], B.shape[0])), np.zeros((B.shape[0], B.shape[0])) # Матрицы H и F инициализируем нулями\n",
    "    x_k1 = np.zeros(x_k.shape[0]) # Столбец, отвечающий за k+1-ый шаг\n",
    "    \n",
    "    # Разбиение матрицы B = H + F\n",
    "    for i in range(B.shape[0]):\n",
    "        for j in range(B.shape[0]):\n",
    "            if j < i: # Если находимся ниже главной диагонали\n",
    "                H[i, j] = B[i, j] # Заполнение матрицы H значениями\n",
    "            elif j >= i: # Если находимся на главной диагонали и выше\n",
    "                F[i, j] = B[i, j] # Заполнение матрицы B значениями\n",
    "                \n",
    "    # Метод Зейделя в матричной форме\n",
    "    iterations = 0 # Переменная для хранения числа итераций\n",
    "    while True: # Пускаем цикл до тех пор, пока не выполнится условие остановки цикла\n",
    "        iterations += 1 # Повышаем число итераций\n",
    "        x_k1 = np.dot(H, x_k1) + np.dot(F, x_k) + g # Формула (3)\n",
    "        if np.linalg.norm(x_k1 - x_k) <= epsilon: # Проверка условия остановки итерационного процесса\n",
    "            break # Прерываем цикл\n",
    "        x_k = np.copy(x_k1) # Переносим значение из (k+1)-ой итерации в k-ую\n",
    "        \n",
    "    return x_k1, iterations # Возвращаем значения k+1-ого шага и числа итераций"
   ]
  },
  {
   "cell_type": "markdown",
   "id": "df70b038-aeb1-4b16-bc80-013eaeea421b",
   "metadata": {},
   "source": [
    "## Проверка результатов"
   ]
  },
  {
   "cell_type": "markdown",
   "id": "8429e1f1-14d3-4b63-8ee2-b49b1bc0c41f",
   "metadata": {},
   "source": [
    "1. При заданном $n$ сгенерировать случайным образом квадратную матрицу размера $n\\times n$, имеющую диагональное доминирование. Элементы матрицы - действительные числа с двумя знаками после запятой."
   ]
  },
  {
   "cell_type": "code",
   "execution_count": 3,
   "id": "8f310cb6-5c15-497c-be1b-b7f35b2d129a",
   "metadata": {},
   "outputs": [
    {
     "name": "stdin",
     "output_type": "stream",
     "text": [
      " 4\n"
     ]
    },
    {
     "name": "stdout",
     "output_type": "stream",
     "text": [
      "[96.56  5.84  1.21  6.91]\n",
      "[ 8.9  91.73  0.96  1.24]\n",
      "[ 0.49  7.28 72.22  2.07]\n",
      "[ 5.26  7.57  0.4  63.95]\n"
     ]
    }
   ],
   "source": [
    "from random import randint\n",
    " \n",
    "n = int(input())\n",
    " \n",
    "A = np.array([[randint(10, 1000) / 100 for _ in range(n)] for _ in range(n)]).astype(float)\n",
    "\n",
    "summary = 0\n",
    "for i in range(n):\n",
    "    for j in range(n):\n",
    "        if i != j:\n",
    "            summary += math.fabs(A[i][j])\n",
    "for i in range (n):\n",
    "    if A[i][i] <= summary:\n",
    "        A[i][i] = randint(int(summary)*100, 10000) / 100\n",
    "\n",
    "print(*A, sep='\\n')"
   ]
  },
  {
   "cell_type": "markdown",
   "id": "a77ecf4e-bde6-4488-b994-c7bc79069945",
   "metadata": {},
   "source": [
    "2. Сгенерировать случайным образом вектор решений $x$ (два знака после запятой)."
   ]
  },
  {
   "cell_type": "code",
   "execution_count": 4,
   "id": "947d81e1-d68e-45de-8155-e55e90fc4baa",
   "metadata": {},
   "outputs": [
    {
     "name": "stdout",
     "output_type": "stream",
     "text": [
      "1.84\n",
      "5.5\n",
      "5.17\n",
      "3.85\n"
     ]
    }
   ],
   "source": [
    "x = np.array([randint(10, 1000) / 100 for _ in range(n)]).astype(float)\n",
    "\n",
    "print(*x, sep='\\n')"
   ]
  },
  {
   "cell_type": "markdown",
   "id": "36bd7d0b-17db-409b-81fe-3ae3c458ff9e",
   "metadata": {},
   "source": [
    "3. По сгенерированным данным вычислить вектор $b$ свободных членов системы по формуле $b = Ax$."
   ]
  },
  {
   "cell_type": "code",
   "execution_count": 5,
   "id": "3fc564c4-f484-451e-8fee-677f7cb34079",
   "metadata": {},
   "outputs": [
    {
     "name": "stdout",
     "output_type": "stream",
     "text": [
      "242.6496\n",
      "530.6282\n",
      "422.28849999999994\n",
      "299.5889\n"
     ]
    }
   ],
   "source": [
    "b = A.dot(x)\n",
    "\n",
    "print(*b, sep='\\n')"
   ]
  },
  {
   "cell_type": "markdown",
   "id": "6448a66a-452d-43b6-82fd-f92d1a60d1ad",
   "metadata": {},
   "source": [
    "4. В качестве условия для остановки итераций будем проверять $$| |x^{k+1} - x^k | |\\leq \\varepsilon,$$\n",
    "где зададим $\\varepsilon = 10^{-5}$."
   ]
  },
  {
   "cell_type": "code",
   "execution_count": 6,
   "id": "fbc5f2d2-612c-48d0-8ee6-0885139cc7cb",
   "metadata": {},
   "outputs": [],
   "source": [
    "epsilon = 1e-5"
   ]
  },
  {
   "cell_type": "markdown",
   "id": "42e7548f-8a8c-4d8c-b738-43490d5901cf",
   "metadata": {},
   "source": [
    "Введем в рассмотрение лемму и теорему:\n",
    "\n",
    "**Лемма.** Модуль каждого собственного значения матриц не превосходит любой из ее норм, то есть $|\\lambda_i(A)|\\leq | | A | |.$\n",
    "\n",
    "**Теорема**. Для сходимости метода простой итерации при любом начальном приближении $x^0$ необходимо и достаточно, чтобы все собственные значения матрицы $B$ были по модулю меньше единицы, то есть $|\\lambda_i(B)| < 1$."
   ]
  },
  {
   "cell_type": "markdown",
   "id": "5fe5266f-ce21-4047-8403-3a8982bfcf52",
   "metadata": {},
   "source": [
    "5. Для использования итерационного метода приведем исходную матрицу к виду $$x = Bx + g.$$ Для этого зададим $$B = E - \\tau A,\\quad g = \\tau b.$$\n",
    "Причем выберем $$\\tau = \\dfrac{1}{| |A| |}.$$ Потому как $$|\\lambda_i(B)| = 1 - \\dfrac{\\lambda_i(A)}{| |A| |},\\quad |\\lambda_i(A)|\\leq | |A| |,$$\n",
    "то есть метод будем сходящимся по критерию сходимости метода простой итерации."
   ]
  },
  {
   "cell_type": "code",
   "execution_count": 7,
   "id": "67f25c82-52be-48ea-9a4f-4e8663308f47",
   "metadata": {},
   "outputs": [
    {
     "name": "stdout",
     "output_type": "stream",
     "text": [
      "[ 0.41613954 -0.03531219 -0.0073164  -0.04178206]\n",
      "[-0.05381481  0.44534466 -0.00580474 -0.00749779]\n",
      "[-0.00296284 -0.04401931  0.56331398 -0.01251648]\n",
      "[-0.03180516 -0.04577282 -0.00241864  0.61331943]\n"
     ]
    }
   ],
   "source": [
    "tau = 1 / np.linalg.norm(A)\n",
    "B = np.eye(n) - A * tau\n",
    "\n",
    "print(*B, sep='\\n')"
   ]
  },
  {
   "cell_type": "code",
   "execution_count": 8,
   "id": "00b7142d-0463-4e6a-b09c-9c90509a9439",
   "metadata": {},
   "outputs": [
    {
     "name": "stdout",
     "output_type": "stream",
     "text": [
      "1.4672069810923134\n",
      "3.2085006503387943\n",
      "2.5534129676496535\n",
      "1.8114966006033681\n"
     ]
    }
   ],
   "source": [
    "g = b * tau\n",
    "print(*g, sep='\\n')"
   ]
  },
  {
   "cell_type": "markdown",
   "id": "e9817127-c732-4e45-9845-3b3938335522",
   "metadata": {},
   "source": [
    "6. Для полученных данных:\n",
    "\n",
    "    a) найти решение системы указанным методом."
   ]
  },
  {
   "cell_type": "code",
   "execution_count": 9,
   "id": "a2bc715b-553f-4bc8-b020-56f0611d7510",
   "metadata": {},
   "outputs": [
    {
     "name": "stdout",
     "output_type": "stream",
     "text": [
      "1.8400023813288533\n",
      "5.499999726278026\n",
      "5.170000698352625\n",
      "3.849988701889629\n"
     ]
    }
   ],
   "source": [
    "x_, iters = seidel_method(B, g, epsilon)\n",
    "\n",
    "print(*x_, sep='\\n')"
   ]
  },
  {
   "cell_type": "markdown",
   "id": "862f0656-27cb-4bdf-baf2-99783210aebb",
   "metadata": {},
   "source": [
    "Число итераций равно:"
   ]
  },
  {
   "cell_type": "code",
   "execution_count": 10,
   "id": "8baa6d29-071c-45ba-8c49-815891409860",
   "metadata": {},
   "outputs": [
    {
     "name": "stdout",
     "output_type": "stream",
     "text": [
      "24\n"
     ]
    }
   ],
   "source": [
    "print(iters)"
   ]
  },
  {
   "cell_type": "markdown",
   "id": "fd978ea5-8222-48e3-a2eb-95b01f428e41",
   "metadata": {},
   "source": [
    "Выполнить проверку путем вычисления вектора невязки."
   ]
  },
  {
   "cell_type": "code",
   "execution_count": 11,
   "id": "02a219b4-26d1-451e-a2ec-df9cf8a39cb5",
   "metadata": {},
   "outputs": [
    {
     "name": "stdout",
     "output_type": "stream",
     "text": [
      "0.00015111764176367615\n",
      "-1.725392826301686e-05\n",
      "2.6222093367778143e-05\n",
      "-0.0007117811027796961\n"
     ]
    }
   ],
   "source": [
    "r = np.zeros(n)\n",
    "for i in range(n):\n",
    "    for j in range(n):\n",
    "        r[i] += A[i][j]*x_[j];\n",
    "    r[i] -= b[i]\n",
    "\n",
    "print(*r, sep='\\n')"
   ]
  },
  {
   "cell_type": "markdown",
   "id": "a533ce44-f5be-48dc-866e-c301532ca145",
   "metadata": {},
   "source": [
    "б) найти матрицу, обратную к матрице системы.\n",
    "\n",
    "Для этого в метод Зейделя в качестве параметров передадим матрицу $B$ вычисленную ранее и матрицу $$G = \\tau E.$$"
   ]
  },
  {
   "cell_type": "code",
   "execution_count": 12,
   "id": "3b395c77-375e-4eeb-8db9-ec48a5d1d374",
   "metadata": {},
   "outputs": [
    {
     "name": "stdout",
     "output_type": "stream",
     "text": [
      "[0.00604661 0.         0.         0.        ]\n",
      "[0.         0.00604661 0.         0.        ]\n",
      "[0.         0.         0.00604661 0.        ]\n",
      "[0.         0.         0.         0.00604661]\n"
     ]
    }
   ],
   "source": [
    "G = np.eye(n) * tau\n",
    "print(*G, sep='\\n')"
   ]
  },
  {
   "cell_type": "markdown",
   "id": "06cc7582-7237-420f-8544-4e7b7b3552e7",
   "metadata": {},
   "source": [
    "Тогда матрица $A^{-1}$ имеет вид"
   ]
  },
  {
   "cell_type": "code",
   "execution_count": 13,
   "id": "b06accd7-d0a6-4fea-a126-cb98ae7f2205",
   "metadata": {},
   "outputs": [
    {
     "name": "stdout",
     "output_type": "stream",
     "text": [
      "[ 0.01046926 -0.00056234 -0.00016168 -0.00111275]\n",
      "[-0.00100615  0.01098401 -0.00012851 -0.00010036]\n",
      "[ 5.11049862e-05 -1.06702060e-03  1.38596725e-02 -4.31514919e-04]\n",
      "[-7.41020925e-04 -1.24398489e-03 -5.80674949e-05  1.57317314e-02]\n"
     ]
    }
   ],
   "source": [
    "A_, iters = seidel_method(B, G, epsilon)\n",
    "\n",
    "print(*A_, sep='\\n')"
   ]
  },
  {
   "cell_type": "markdown",
   "id": "fe715db6-f407-4a94-bd01-8278198d15d7",
   "metadata": {},
   "source": [
    "Проверим, выполняется ли $$A^{-1} A = E.$$"
   ]
  },
  {
   "cell_type": "code",
   "execution_count": 16,
   "id": "d764644b-f1e3-4ca4-b80c-83542536a3d3",
   "metadata": {},
   "outputs": [
    {
     "name": "stdout",
     "output_type": "stream",
     "text": [
      "[ 9.99974718e-01 -4.32862789e-05  6.14605950e-06  1.50042693e-04]\n",
      "[ 1.26694517e-05  9.99991697e-01  5.83498494e-06 -1.66597395e-05]\n",
      "[-4.03148249e-05  5.25013073e-05  9.99810440e-01  1.24172953e-04]\n",
      "[9.60081178e-05 2.28178965e-04 8.19726435e-06 9.99261028e-01]\n"
     ]
    }
   ],
   "source": [
    "E = np.dot(A_, A)\n",
    "\n",
    "\n",
    "        \n",
    "print(*E, sep='\\n')"
   ]
  },
  {
   "cell_type": "markdown",
   "id": "443f5e4d-6ed5-4bb2-8bd4-378ccd8a1b62",
   "metadata": {},
   "source": [
    "в) найти число обусловленности."
   ]
  },
  {
   "cell_type": "code",
   "execution_count": 17,
   "id": "81f3d5df-68fe-4cff-9958-f69cdf08a132",
   "metadata": {},
   "outputs": [
    {
     "name": "stdout",
     "output_type": "stream",
     "text": [
      "1.6568156362565543\n"
     ]
    }
   ],
   "source": [
    "nu = np.linalg.norm(A, 2) * np.linalg.norm(A_, 2)\n",
    "print(nu)"
   ]
  },
  {
   "cell_type": "code",
   "execution_count": null,
   "id": "6205c948-28c5-4652-a3d7-1472584135f8",
   "metadata": {},
   "outputs": [],
   "source": []
  }
 ],
 "metadata": {
  "kernelspec": {
   "display_name": "Python 3 (ipykernel)",
   "language": "python",
   "name": "python3"
  },
  "language_info": {
   "codemirror_mode": {
    "name": "ipython",
    "version": 3
   },
   "file_extension": ".py",
   "mimetype": "text/x-python",
   "name": "python",
   "nbconvert_exporter": "python",
   "pygments_lexer": "ipython3",
   "version": "3.11.5"
  }
 },
 "nbformat": 4,
 "nbformat_minor": 5
}
