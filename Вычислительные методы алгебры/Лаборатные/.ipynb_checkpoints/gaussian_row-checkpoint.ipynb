{
 "cells": [
  {
   "cell_type": "markdown",
   "id": "57df0151-adcb-4dc6-870b-e4653745ed03",
   "metadata": {},
   "source": [
    "# Алгоритм решения"
   ]
  },
  {
   "cell_type": "markdown",
   "id": "311d01b6-045e-4611-bfb6-ea46270fda1f",
   "metadata": {},
   "source": [
    "## Постановка задачи\n",
    "Пусть дана система $$Ax = b.\\quad (1)$$\n",
    "    \n",
    "Предполагаем, что задача является корректно поставленной. Нам необходимо:\n",
    "1. найти решение системы указанным методом;\n",
    "2. вычислить вектор невязки;\n",
    "3. вычислить определитель матрицы системы;\n",
    "4. найти матрицу, обратную к матрице системы;\n",
    "5. найти число обусловленности матрицы системы."
   ]
  },
  {
   "cell_type": "markdown",
   "id": "2ee75e43-8460-46b1-8e4e-0b42379a4d29",
   "metadata": {
    "tags": []
   },
   "source": [
    "## Выбор главного элемента по строке.\n",
    "\n",
    "На каждом $k$-ом шаге прямого хода в качестве ведущего выбирается максимальный по модулю элемент в неприведенной части строки. После этого столбец расширенной матрицы соотвествующий главному элементу переставляется с $k$-ым столбцом и производится перенумерация коэффициентов при неизвестных. Для этого заводим массив индексов, в котором будем производить перестановки."
   ]
  },
  {
   "cell_type": "markdown",
   "id": "7f02cdde-240c-4784-84d5-57d109000e5b",
   "metadata": {},
   "source": [
    "Запишем систему в координатном виде:\n",
    "\t$$\\begin{cases}\n",
    "\t\ta_{11}x_1 + a_{12}x_2 + \\ldots + a_{1n}x_n = b_1,\\\\\n",
    "\t\ta_{21}x_1 + a_{22}x_2 + \\ldots + a_{2n}x_n = b_2,\\\\\n",
    "\t\t\\vdots\\\\\n",
    "\t\ta_{n1}x_1 + a_{n2}x_2 + \\ldots + a_{nn}x_n = b_n.\n",
    "\t\\end{cases}\\quad (1)$$\n",
    "    \n",
    "Предположим, что $a_{11}\\ne0$. Разделим первое уравнение системы (1) на $a_{11}$ и получим:\n",
    "$$x_1 + c_{11}x_2 + \\ldots + c_{1n}x_n = q_1 \\quad (2),$$ где $c_{1j} = \\dfrac{a_{1j}}{a_{11}}$, $j = \\overline{2,n}$, $q_1=\\dfrac{b_1}{a_{11}}$.\n",
    "С помощью уравнения $(2)$ исключим $x_1$ из всех остальных уравнений, начиная со 2-го. Таким образом, первое уравнение не поменяется, а все остальные примут вид \n",
    "    $$\\begin{cases}\n",
    "\t\ta_{22}^1x_2 +a_{23}^1x_3+ \\ldots + a_{2n}^1x_n = b_2^1,\\\\\n",
    "\t\t\\vdots\\\\\n",
    "\t\ta_{n2}^1x_2 + a_{n3}^1x_3 + \\ldots + a_{nn}^1x_n = b_n^1,\n",
    "\t\\end{cases}\\quad(3)$$\n",
    "    \n",
    "где $a_{ij}^1 = a_{ij} - c_{1j}a_{i1}$, $b_i^1 = b_i - q_1a_{i1}$, $i,j = \\overline{2,n}$.\n",
    "Мы завершили первый шаг прямого хода.\n",
    "\n",
    "$\\bullet$ Элемент $a_{11}$ называется **ведущим** элементом шага.\n",
    "\n",
    "Далее считаем, что $a_{22}$ ведущий элемент. Аналогично делим на него и исключаем $x_2$ и так далее до $x_{nn}$. Окончательно приходим к системе с верхней треугольной матрицей следующего вида \n",
    "$$\\begin{cases}\n",
    "\tx_1 + c_{12}x_2 + \\ldots + c_{1n} = q_1,\\\\\n",
    "\tx_2 + \\ldots + c_{2n} = q_2,\\\\\n",
    "\t\\vdots\\\\\n",
    "\tx_n = q_n.\n",
    "\t\\end{cases}\\quad (4)$$"
   ]
  },
  {
   "cell_type": "markdown",
   "id": "92828a21-8b9c-40aa-a426-256d1bb3f298",
   "metadata": {},
   "source": [
    "## Прямой ход.\n",
    "\n",
    "Для того, чтобы получить общие формулы вычисления матрицы, введем следующие обозначения:\n",
    "1. $a_{kj}^0 = a_{kj}, k,j=\\overline{1,n}$ - исходные элементы матрицы;\n",
    "2. $b_k^0 = b_k$, $k = \\overline{1,n}$ - компоненты вектора правых частей исходной матрицы.\n",
    "\t\n",
    "Тогда \n",
    "    $$c_{kj} = \\dfrac{a_{kj}^{k-1}}{a_{kk}^{k-1}},\\ j=\\overline{k+1,n},\\ k = \\overline{1,n-1},$$\n",
    "\t$$a_{ij}^k = a_{ij}^{k-1} - a_{ik}^{k-1}c_{kj},\\ i,j=\\overline{k+1,n},\\ k = \\overline{1,n-1},$$\n",
    "\t$$q_k = \\dfrac{b_k^{k-1}}{a_{kk}^{k-1}},\\ k=\\overline{1,n},$$\n",
    "\t$$b_i^k = b_i^{k-1} - a_{ik}^{k-1}q_k,\\ i=\\overline{k+1,n},\\ k = \\overline{1,n-1}.$$\n",
    "\t\n",
    "Метод Гаусса завершен, числа $a_{kk}^{k-1}$, $k=\\overline{1,n}$ - ведущие элементы."
   ]
  },
  {
   "cell_type": "markdown",
   "id": "69ca40bd-1217-4c5a-959b-b477bafd397a",
   "metadata": {},
   "source": [
    "## Обратный ход\n",
    "\n",
    "Обратный ход состоит в последовательном нахождении неизвестных $$x_i = \\dfrac{q_i - \\sum_{j=i+1}^{n}c_{ij}x_j}{a_{ii}},\\ i=\\overline{n-1, 1}.$$\n",
    "\t$$x_n = \\dfrac{q_n}{a_{nn}}.$$"
   ]
  },
  {
   "cell_type": "markdown",
   "id": "0721fe71-3514-457e-98de-1666126da6c4",
   "metadata": {},
   "source": [
    "## Вычисление вектора невязки\n",
    "\n",
    "После применения обратного хода мы получаем вектор решений $x^*$. Вектор невязки определяется формулой $$r = Ax^* - b,$$ где $A$ и $b$ - матрица и вектор исходной системы."
   ]
  },
  {
   "cell_type": "markdown",
   "id": "c9b3d8e7-67b4-4205-8e7f-87e0ee48272d",
   "metadata": {},
   "source": [
    "## Вычисление определителя\n",
    "\n",
    "$$|A| = (-1)^m\\cdot a^0_{11}\\cdot a^1_{22}\\cdot\\ldots\\cdot a^{n-1}_{nn},$$\n",
    "\tгде $m$ - количество перестановок, осуществленных при прямом ходе метода Гаусса."
   ]
  },
  {
   "cell_type": "markdown",
   "id": "c33012f3-2c22-4cfc-bb83-dfca4f43ba66",
   "metadata": {},
   "source": [
    "## Вычисление обратной матрицы\n",
    "\n",
    "Задача нахождения матрицы обратной матрице $A$ эквивалентна задаче решения матричного уравнения $$AX = E,$$ где $X = A^{-1}$ - искомая матрица. Если обозначить $x^{(1)}, \\ldots, x^{(n)}$ - столбцы матрицы $X$, то эта матрица может быть найдена по столбцам решения системы вида $$Ax^{(j)} = \\delta^{(j)},\\ \\delta^{(j)} = (\\delta_{1j}, \\ldots, \\delta_{nj})^T,\\ x^{(j)} = (x_{1j},\\ldots, x_{nj})^T.\\ j=\\overline{1,n}\\qquad(1)$$\n",
    "\tРешение всех $n$ систем доставит нам все столбцы обратной матрицы. Таким образом, задача нахождения обратной матрицы сводится к применению метода Гаусса $n$ раз к системе вида $(1)$."
   ]
  },
  {
   "cell_type": "markdown",
   "id": "7b05f96a-5dcd-4a7d-8fe0-bf55e4a4a825",
   "metadata": {},
   "source": [
    "## Вычисление числа обусловленности\n",
    "\n",
    "Для вычисления числа обусловленности воспользуемся формулой, определяющей его, $$\\nu(A) = | | A| | \\cdot | | A^{-1} | |.$$\n",
    "При решении будет вычислять его, используя сферическую норму матрицы."
   ]
  },
  {
   "cell_type": "markdown",
   "id": "e0cdcaa3-c6b0-467b-a089-88d99cd344b6",
   "metadata": {},
   "source": [
    "# Листинг программы"
   ]
  },
  {
   "cell_type": "code",
   "execution_count": 1,
   "id": "5ec9ee02-373f-49c3-8da1-0c5f4164514b",
   "metadata": {
    "tags": []
   },
   "outputs": [],
   "source": [
    "import numpy as np\n",
    "import math"
   ]
  },
  {
   "cell_type": "markdown",
   "id": "47f093e3-48e1-4959-b074-daf338dd3751",
   "metadata": {},
   "source": [
    "## Функция алгоритма"
   ]
  },
  {
   "cell_type": "code",
   "execution_count": 2,
   "id": "3abe9c6a-0398-4f53-b581-3e3166efffe7",
   "metadata": {},
   "outputs": [],
   "source": [
    "def gaussian(matrix_, inhomogeneity):\n",
    "    matrix = matrix_.copy() # Копируем исходную матрицу в локальную переменную\n",
    "    insertions = 0 # Число перестановок\n",
    "    indexes = [i for i in range (matrix.shape[0])] # Вектор индексов\n",
    "    unit_matrix = np.eye(matrix.shape[0]) # Единичная матрица\n",
    "    \n",
    "    # Выбор главного элемента по строке\n",
    "    for k in range(matrix.shape[0]):\n",
    "        leading_column = k # Столбец, в котором ведущий элемент, считаем равным номеру шага\n",
    "        for i in range(k, matrix.shape[0]): # находим максимальный по модулю элемент в строке\n",
    "            if math.fabs(matrix[k][i]) > math.fabs(matrix[leading_column][k]): # Если нашли в строке элемент ...\n",
    "                # ...больший, чем ведущий, то..\n",
    "                leading_column = i # Номер столбца с ведущим элементом принимает значение того, ...\n",
    "                # ...в котором находится больший элемент, чем текущий ведущий элемент\n",
    "        for j in range(k, matrix.shape[1]): # меняем местами столбец, в котором главный элемент, со столбцом равном номеру шага\n",
    "            matrix[j][leading_column], matrix[j][k] =  matrix[j][k], matrix[j][leading_column]\n",
    "        insertions+=1 # повышаем число перестановок\n",
    "        indexes[leading_column], indexes[k] = indexes[k], indexes[leading_column]\n",
    "        \n",
    "        # Прямой ход (полностью дублирует формулу прямого хода, указанную выше)\n",
    "        q = inhomogeneity[k] / matrix[k][k] \n",
    "        for j in range(matrix.shape[0] - 1, k - 1, -1):\n",
    "            c = matrix[k][j] / matrix[k][k]\n",
    "            for i in range(matrix.shape[0] - 1, k, -1):\n",
    "                matrix[i][j] = matrix[i][j] - matrix[i][k]*c\n",
    "                if j == matrix.shape[0] - 1:\n",
    "                    inhomogeneity[i] = inhomogeneity[i] - matrix[i][k]*q\n",
    "                \n",
    "    \n",
    "    # Обратный ход (полностью дублирует формулу обратного хода, указанную выше)\n",
    "    results_with_insertions = np.zeros(matrix.shape[0]) # Нулевой вектор\n",
    "    for i in range(matrix.shape[0]-1, -1, -1):\n",
    "        summary = 0\n",
    "        for j in range(i+1, matrix.shape[0]):\n",
    "            summary += matrix[i][j]*results_with_insertions[j]\n",
    "        results_with_insertions[i] = (inhomogeneity[i] - summary) / matrix[i][i]\n",
    "        \n",
    "    \n",
    "    # Перенумерация индексов в векторе решений\n",
    "    results = np.zeros(matrix.shape[0]) # Создаем итоговый вектор решений, заполненный нулями\n",
    "    for i in range(matrix.shape[0]):\n",
    "        results[indexes[i]] = results_with_insertions[i] # Переносим значения из получившегося столбца решений ...\n",
    "        # в созданный в той последовательности, в которой элементы столбца должны расоплагаться\n",
    "        \n",
    "    #Вычисление вектора невязки\n",
    "    discrepancy_vector = np.zeros(matrix.shape[0]) # Создаем вектор заполненный нулями\n",
    "    for i in range(matrix.shape[0]):\n",
    "        for j in range(matrix.shape[0]):\n",
    "            discrepancy_vector[i] += matrix[i][j]*results[j]; # r += Ax\n",
    "        discrepancy_vector[i] -= inhomogeneity[i] # r -= b\n",
    "    \n",
    "    # Вычисление определителя\n",
    "    determinant = (-1)**insertions # Создаем переменную, в которой содержится (-1) в степени числа перестановок\n",
    "    for k in range(matrix.shape[0]):\n",
    "        determinant *= matrix[k][k] # Перемножаем все диагональные элементы получившейся треугольной матрицы\n",
    "        \n",
    "    return results, discrepancy_vector, determinant; # Возвращаем значения решения, невязки и определителя"
   ]
  },
  {
   "cell_type": "markdown",
   "id": "e3c0bc5e-1463-444f-8ea7-ed857c80912e",
   "metadata": {},
   "source": [
    "## Проверка результатов"
   ]
  },
  {
   "cell_type": "markdown",
   "id": "861dcef2-7efb-457c-8f07-b476654d3dce",
   "metadata": {},
   "source": [
    "1. При заданном $n$ сгенерировать случайным образом квадратную матрицу размера $n\\times n$, имеющую диагональное доминирование. Элементы матрицы - действительные числа с двумя знаками после запятой."
   ]
  },
  {
   "cell_type": "code",
   "execution_count": 14,
   "id": "eacc50d5-0abd-44ab-8d3d-3e509193e559",
   "metadata": {},
   "outputs": [
    {
     "name": "stdin",
     "output_type": "stream",
     "text": [
      " 4\n"
     ]
    },
    {
     "name": "stdout",
     "output_type": "stream",
     "text": [
      "[67.37  4.64  2.42  1.47]\n",
      "[ 9.05 75.03  5.27  6.29]\n",
      "[ 2.01  5.65 88.83  0.65]\n",
      "[ 4.68  4.57  3.27 57.79]\n"
     ]
    }
   ],
   "source": [
    "from random import randint\n",
    " \n",
    "n = int(input())\n",
    " \n",
    "A = np.array([[randint(10, 1000) / 100 for _ in range(n)] for _ in range(n)]).astype(float)\n",
    "\n",
    "summary = 0\n",
    "for i in range(n):\n",
    "    for j in range(n):\n",
    "        if i != j:\n",
    "            summary += math.fabs(A[i][j])\n",
    "for i in range (n):\n",
    "    if A[i][i] <= summary:\n",
    "        A[i][i] = randint(int(summary)*100, 10000) / 100\n",
    "\n",
    "print(*A, sep='\\n')"
   ]
  },
  {
   "cell_type": "markdown",
   "id": "b3b2efb9-8145-4308-9204-516fd66edbb1",
   "metadata": {},
   "source": [
    "2. Сгенерировать случайным образом вектор решений $x$ (два знака после запятой)."
   ]
  },
  {
   "cell_type": "code",
   "execution_count": 15,
   "id": "f519f0d1-4d40-4fc2-8aa2-ae24716b32c5",
   "metadata": {},
   "outputs": [
    {
     "name": "stdout",
     "output_type": "stream",
     "text": [
      "7.61\n",
      "3.22\n",
      "4.36\n",
      "0.64\n"
     ]
    }
   ],
   "source": [
    "x = np.array([randint(10, 1000) / 100 for _ in range(n)]).astype(float)\n",
    "\n",
    "print(*x, sep='\\n')"
   ]
  },
  {
   "cell_type": "markdown",
   "id": "d8949b80-96ea-43e9-a667-031e81768472",
   "metadata": {},
   "source": [
    "3. По сгенерированным данным вычислить вектор $b$ свободных членов системы по формуле $b = Ax$."
   ]
  },
  {
   "cell_type": "code",
   "execution_count": 16,
   "id": "e30525fb-a793-4a9d-95b3-b53484dab35c",
   "metadata": {},
   "outputs": [
    {
     "name": "stdout",
     "output_type": "stream",
     "text": [
      "539.1185000000002\n",
      "337.46990000000005\n",
      "421.20390000000003\n",
      "101.57300000000001\n"
     ]
    }
   ],
   "source": [
    "b = A.dot(x)\n",
    "\n",
    "print(*b, sep='\\n')"
   ]
  },
  {
   "cell_type": "markdown",
   "id": "22e88cd8-cbe6-4ac9-aa3d-e3b6b152f2ab",
   "metadata": {},
   "source": [
    "4. Для полученных данных:\n",
    "\n",
    "    a) найти решение системы указанным методом."
   ]
  },
  {
   "cell_type": "code",
   "execution_count": 17,
   "id": "156bc83a-8156-4460-86fc-8e9fcc264f88",
   "metadata": {},
   "outputs": [
    {
     "name": "stdout",
     "output_type": "stream",
     "text": [
      "7.610000000000001\n",
      "3.2200000000000006\n",
      "4.359999999999999\n",
      "0.64\n"
     ]
    }
   ],
   "source": [
    "_x, r, det = gaussian(A, b)\n",
    "\n",
    "print(*_x, sep='\\n')"
   ]
  },
  {
   "cell_type": "markdown",
   "id": "c884023d-8c68-4259-a370-defe09c9e993",
   "metadata": {},
   "source": [
    "Выполнить проверку путем вычисления вектора невязки."
   ]
  },
  {
   "cell_type": "code",
   "execution_count": 18,
   "id": "98b183a0-5742-4589-be08-3a694d466889",
   "metadata": {},
   "outputs": [
    {
     "name": "stdout",
     "output_type": "stream",
     "text": [
      "-1.1368683772161603e-13\n",
      "0.0\n",
      "0.0\n",
      "0.0\n"
     ]
    }
   ],
   "source": [
    "print(*r, sep='\\n')"
   ]
  },
  {
   "cell_type": "markdown",
   "id": "85171393-6f6e-4363-b356-aa6f45f1e480",
   "metadata": {},
   "source": [
    "б) найти матрицу, обратную к матрице системы."
   ]
  },
  {
   "cell_type": "code",
   "execution_count": 8,
   "id": "110174b0-7888-4424-886f-5b644a6f2b11",
   "metadata": {},
   "outputs": [
    {
     "name": "stdout",
     "output_type": "stream",
     "text": [
      "[ 1.23606647e-02 -1.02530450e-03 -1.12416097e-03  7.35057736e-05]\n",
      "[-0.00025908  0.01132105 -0.00089068 -0.00071391]\n",
      "[-0.00078568 -0.00055531  0.01066571 -0.00097246]\n",
      "[-1.19258651e-03 -8.21598119e-04  8.37274400e-05  1.00704261e-02]\n"
     ]
    }
   ],
   "source": [
    "E = np.eye(n)\n",
    "A_inv = []\n",
    "for i in range(n):\n",
    "    A_inv.append(gaussian(A, E[i])[0])\n",
    "print(*A_inv, sep='\\n')"
   ]
  },
  {
   "cell_type": "markdown",
   "id": "066eab9c-94e3-40f9-9424-652271c12c3d",
   "metadata": {},
   "source": [
    "Выполнить проверку;"
   ]
  },
  {
   "cell_type": "code",
   "execution_count": 9,
   "id": "555ab983-1c9d-4f29-a3ac-4e03c80d9288",
   "metadata": {},
   "outputs": [
    {
     "name": "stdout",
     "output_type": "stream",
     "text": [
      "[1. 0. 0. 0.]\n",
      "[0. 1. 0. 0.]\n",
      "[0. 0. 1. 0.]\n",
      "[0. 0. 0. 1.]\n"
     ]
    }
   ],
   "source": [
    "E = np.dot(A_inv, A)\n",
    "\n",
    "for i in range(n):\n",
    "    for j in range(n):\n",
    "        E[i,j] = round(np.absolute(E[i,j]), 0) # Преобразуем \"единичниую\" матрицу, округлив до нуля знаков после запятой\n",
    "        \n",
    "print(*E, sep='\\n')"
   ]
  },
  {
   "cell_type": "markdown",
   "id": "cec196d6-112a-437a-b985-aa39116ffd0b",
   "metadata": {},
   "source": [
    "в) вычислить определитель матрицы системы;"
   ]
  },
  {
   "cell_type": "code",
   "execution_count": 10,
   "id": "041f3a2b-3dfb-487b-892f-6b70f91c3fbd",
   "metadata": {},
   "outputs": [
    {
     "name": "stdout",
     "output_type": "stream",
     "text": [
      "67835141.89020617\n"
     ]
    }
   ],
   "source": [
    "print(det)"
   ]
  },
  {
   "cell_type": "markdown",
   "id": "120b2bfb-095b-456f-b61d-f8b3ef0cc7b3",
   "metadata": {},
   "source": [
    "г) найти число обусловленности."
   ]
  },
  {
   "cell_type": "code",
   "execution_count": 11,
   "id": "c4007cfd-f6a7-4af1-9a02-3b0b2e60090f",
   "metadata": {},
   "outputs": [
    {
     "name": "stdout",
     "output_type": "stream",
     "text": [
      "1.4507429722667433\n"
     ]
    }
   ],
   "source": [
    "nu = np.linalg.norm(A, 2) * np.linalg.norm(A_inv, 2)\n",
    "print(nu)"
   ]
  }
 ],
 "metadata": {
  "kernelspec": {
   "display_name": "Python 3 (ipykernel)",
   "language": "python",
   "name": "python3"
  },
  "language_info": {
   "codemirror_mode": {
    "name": "ipython",
    "version": 3
   },
   "file_extension": ".py",
   "mimetype": "text/x-python",
   "name": "python",
   "nbconvert_exporter": "python",
   "pygments_lexer": "ipython3",
   "version": "3.10.9"
  }
 },
 "nbformat": 4,
 "nbformat_minor": 5
}
