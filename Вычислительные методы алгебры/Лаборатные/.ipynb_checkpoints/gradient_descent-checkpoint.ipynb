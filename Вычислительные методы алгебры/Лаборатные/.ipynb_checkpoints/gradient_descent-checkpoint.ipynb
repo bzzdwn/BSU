{
 "cells": [
  {
   "cell_type": "markdown",
   "id": "09ea40e4-959e-4480-8e06-13b3e69c3f47",
   "metadata": {},
   "source": [
    "# Алгоритм решения"
   ]
  },
  {
   "cell_type": "markdown",
   "id": "42423417-86da-4e4e-8749-72b715b54acd",
   "metadata": {
    "jp-MarkdownHeadingCollapsed": true,
    "tags": []
   },
   "source": [
    "## Постановка задачи\n",
    "Пусть дана система $$Ax = b,\\quad A=A^T>0.\\quad (1)$$\n",
    "    \n",
    "Предполагаем, что задача является корректно поставленной. Нам необходимо:\n",
    "1. найти решение системы указанным методом;\n",
    "2. вычислить вектор невязки;\n",
    "3. найти матрицу, обратную к матрице системы;\n",
    "4. найти число обусловленности матрицы системы.\n",
    "\n",
    "Решение системы мы будем искать как предел бесконечного вычислительного процесса. Когда строится последовательность $x^0, x^1,\\ldots, x^k,\\ldots$ приближения к решению $x^*$, мы должны обеспечить выполнение условия $$\\lim\\limits_{k\\to\\infty} | | x^k - x^* | | = 0.$$\n",
    "В наших обозначениях $0,1,\\ldots,k,\\ldots$ - номер итерации. И каждый элемент является $k$-ой итерацией, или $k$-ым приближением к искомому значению $x^*$."
   ]
  },
  {
   "cell_type": "markdown",
   "id": "6516a015-e039-4667-9b3b-332be54c82d5",
   "metadata": {
    "tags": []
   },
   "source": [
    "## Метод градиентного спуска\n",
    "Наряду с задачей (1) будем рассматривать функционал $$F(x)=(Ax, x) - 2(b,x)$$ который называется **квадратичным функционалом ошибки**, являющийся многочленом второй степени от $x$. Очевидно, что он сопряжен с системой (1) посредством наличия тех же коэффициентов, то есть $$F(x) = \\sum_{i,j = 1}^{n}a_{ij}x_{ij} - 2\\sum_{i=1}^{n}b_ix_i.\\quad(2)$$\n",
    "Ввиду того, что $A$ положительно определенная, многочлен (2) имеет единственный минимум. Покажем, что решение задачи $$x^* = A^{-1}b$$ доставляет минимум функционала (2). Если мы установим соответствие между (1) и (2), то минимум функционала (2), т.е. решение задачи минимизации функционала (2), доставит нам решение исходной задачи. Для этого докажем две теоремы.\n",
    "\n",
    "**Теорема.** Если в некоторой точке $x = (x_1,\\ldots, x_n)$ многочлен $(2)$ имеет минимум, то координаты этой точки удовлетворяют системе $(1)$.\n",
    "\n",
    "**Теорема.** Если $x$ - решение уравнения $(1)$, то многочлен $(2)$ имеет в точке $x$ абсолютный минимум во всем пространстве."
   ]
  },
  {
   "cell_type": "markdown",
   "id": "d80ca9e2-4c6e-448f-b7f3-19f698af98dd",
   "metadata": {},
   "source": [
    "$\\bullet$ **Градиентом функции** $F(x_1,\\ldots, x_n)$ называется вектор с координатами $$\\operatorname{grad}F(x)=\\Big(\\dfrac{\\partial F}{\\partial x_1},\\ldots, \\dfrac{\\partial F}{\\partial x_n}\\Big)^T.$$\n",
    "\tПусть известно начальное приближение $x^0 = (x_1^0,\\ldots, x_n^0).$ Из этой точки будем двигаться в направлении $-\\operatorname{grad}F(x^0)$. Тогда путь, по которому мы будем перемещаться, имеет вид уравнения $$x = x^0 - t\\operatorname{grad} F(x^0),\\quad t\\geq 0.$$\n",
    "\tБудем двигаться до тех пор, пока функция $F$ не достигнет своего минимума. Отсюда запишем **общий метод итерационного процесса градиентного спуска**. Для этого введем обозначение невязки $r = Ax - b$. Тогда $$x^{k+1} = x^k - \\dfrac{(r^k, r^k)}{(Ar^k, r^k)}r^k,\\quad r^k = Ax^k - b.\\quad(4)$$\n",
    "Покажем сходимость метода.\n",
    "\n",
    "**Теорема**. Если $A=A^T > 0$, то метод градиентного спуска $(4)$ сходится.\n",
    "\n",
    "Обратную матрицу вычислим, изменив параметры в алгоритме градиентного спуска. Обратная матрица к $A$ является решением уравнения $$AX = E.$$\n",
    "Тогда алгоритм (4) преобразуется в \n",
    "$$X^{k+1} = X^k - \\dfrac{R^k(R^k)^T}{AR^k(R^k)^T}R^k,\\quad R^k = AX^k - E,\\quad(5)$$\n",
    "где $X^k$ и $R^k$ теперь матрицы."
   ]
  },
  {
   "cell_type": "markdown",
   "id": "1e71a814-6caf-4b4d-8431-5cb422bcd59e",
   "metadata": {
    "tags": []
   },
   "source": [
    "# Листинг программы"
   ]
  },
  {
   "cell_type": "code",
   "execution_count": 1,
   "id": "fe7574b8-44dd-4d41-bef4-024ee63d6e5f",
   "metadata": {},
   "outputs": [],
   "source": [
    "import numpy as np\n",
    "import math"
   ]
  },
  {
   "cell_type": "markdown",
   "id": "d3ad5594-1fe3-47f3-834b-13dcee72a256",
   "metadata": {},
   "source": [
    "## Функция алгоритма"
   ]
  },
  {
   "cell_type": "code",
   "execution_count": 2,
   "id": "19a7107e-4d14-4336-be7f-eb06159b5aec",
   "metadata": {},
   "outputs": [],
   "source": [
    "def gradient_descent(A, b, epsilon):\n",
    "    x_k = np.copy(b) # Начальное приближение x_0 = g\n",
    "    r_k = np.dot(A, x_k) - b # Вектор невязки\n",
    "    x_k1 = np.zeros(x_k.shape[0]) # Переменная для хранения (k+1)-ой итерации\n",
    "                \n",
    "    # Метод градиентного спуска\n",
    "    k = 0 # Переменная для хранения числа итераций\n",
    "    while True:\n",
    "        k += 1 # Повышаем число итераций\n",
    "        x_k1 = x_k - np.dot(r_k, r_k.T) / np.dot(np.dot(A, r_k), r_k.T) * r_k # Формула (4)\n",
    "        if np.linalg.norm(x_k1 - x_k) <= epsilon: # Проверка условия остановки итерационного процесса\n",
    "            break # Прерываем цикл\n",
    "        x_k = np.copy(x_k1) # Переносим значение из (k+1)-ой итерации в k-ую\n",
    "        r_k = np.dot(A, x_k) - b # Считаем значение невязки для k-ой итерации\n",
    "    x = x_k1 # Сохраняем результат для возвращения из функции\n",
    "        \n",
    "    return x, k # Возвращаем значение текущего приближения и числа итераций"
   ]
  },
  {
   "cell_type": "markdown",
   "id": "df70b038-aeb1-4b16-bc80-013eaeea421b",
   "metadata": {},
   "source": [
    "## Проверка результатов"
   ]
  },
  {
   "cell_type": "markdown",
   "id": "8429e1f1-14d3-4b63-8ee2-b49b1bc0c41f",
   "metadata": {},
   "source": [
    "1. При заданном $n$ сгенерировать случайным образом квадратную матрицу размера $n\\times n$, имеющую диагональное доминирование. Элементы матрицы - действительные числа с двумя знаками после запятой."
   ]
  },
  {
   "cell_type": "code",
   "execution_count": 3,
   "id": "8f310cb6-5c15-497c-be1b-b7f35b2d129a",
   "metadata": {},
   "outputs": [
    {
     "name": "stdin",
     "output_type": "stream",
     "text": [
      " 4\n"
     ]
    },
    {
     "name": "stdout",
     "output_type": "stream",
     "text": [
      "[80.29  7.28  7.81  3.52]\n",
      "[ 9.41 84.59  1.44  7.59]\n",
      "[ 7.25  6.24 81.69  6.17]\n",
      "[ 1.75  3.89  5.09 81.94]\n"
     ]
    }
   ],
   "source": [
    "from random import randint\n",
    " \n",
    "n = int(input())\n",
    " \n",
    "A = np.array([[randint(10, 1000) / 100 for _ in range(n)] for _ in range(n)]).astype(float)\n",
    "\n",
    "summary = 0\n",
    "for i in range(n):\n",
    "    for j in range(n):\n",
    "        if i != j:\n",
    "            summary += math.fabs(A[i][j])\n",
    "for i in range (n):\n",
    "    if A[i][i] <= summary:\n",
    "        A[i][i] = randint(int(summary)*100, 10000) / 100\n",
    "\n",
    "print(*A, sep='\\n')"
   ]
  },
  {
   "cell_type": "markdown",
   "id": "1f3dfe13-9940-4adb-87a6-a3fb29a9d54d",
   "metadata": {},
   "source": [
    "Для сходимости метода проведем трансформацию Гаусса, чтобы получить симметрическую положительно определенную матрицу, то есть возьмем матрицу $$\\overline A = A^TA.$$"
   ]
  },
  {
   "cell_type": "code",
   "execution_count": 4,
   "id": "0e4abe56-fdcd-4ec0-a511-2b4fa36dc442",
   "metadata": {},
   "outputs": [
    {
     "name": "stdout",
     "output_type": "stream",
     "text": [
      "[6590.66 1432.55 1241.78  542.17]\n",
      "[1432.55 7262.54  708.21 1024.91]\n",
      "[1241.78  708.21 6762.23  959.52]\n",
      "[ 542.17 1024.91  959.52 6822.23]\n"
     ]
    }
   ],
   "source": [
    "A = np.dot(A.T, A)\n",
    "\n",
    "for i in range(n):\n",
    "    for j in range(n):\n",
    "        A[i, j] = round(A[i, j], 2)\n",
    "\n",
    "print(*A, sep='\\n')"
   ]
  },
  {
   "cell_type": "markdown",
   "id": "a77ecf4e-bde6-4488-b994-c7bc79069945",
   "metadata": {},
   "source": [
    "2. Сгенерировать случайным образом вектор решений $x$ (два знака после запятой)."
   ]
  },
  {
   "cell_type": "code",
   "execution_count": 5,
   "id": "947d81e1-d68e-45de-8155-e55e90fc4baa",
   "metadata": {},
   "outputs": [
    {
     "name": "stdout",
     "output_type": "stream",
     "text": [
      "2.55\n",
      "3.91\n",
      "3.83\n",
      "3.31\n"
     ]
    }
   ],
   "source": [
    "x = np.array([randint(10, 1000) / 100 for _ in range(n)]).astype(float)\n",
    "\n",
    "print(*x, sep='\\n')"
   ]
  },
  {
   "cell_type": "markdown",
   "id": "36bd7d0b-17db-409b-81fe-3ae3c458ff9e",
   "metadata": {},
   "source": [
    "3. По сгенерированным данным вычислить вектор $b$ свободных членов системы по формуле $b = Ax$."
   ]
  },
  {
   "cell_type": "code",
   "execution_count": 6,
   "id": "3fc564c4-f484-451e-8fee-677f7cb34079",
   "metadata": {},
   "outputs": [
    {
     "name": "stdout",
     "output_type": "stream",
     "text": [
      "28958.0536\n",
      "38154.4303\n",
      "35010.9922\n",
      "31646.474499999997\n"
     ]
    }
   ],
   "source": [
    "b = A.dot(x)\n",
    "\n",
    "print(*b, sep='\\n')"
   ]
  },
  {
   "cell_type": "markdown",
   "id": "6448a66a-452d-43b6-82fd-f92d1a60d1ad",
   "metadata": {},
   "source": [
    "4. В качестве условия для остановки итераций будем проверять $$| |x^{k+1} - x^k | |\\leq \\varepsilon,$$\n",
    "где зададим $\\varepsilon = 10^{-5}$."
   ]
  },
  {
   "cell_type": "code",
   "execution_count": 22,
   "id": "fbc5f2d2-612c-48d0-8ee6-0885139cc7cb",
   "metadata": {},
   "outputs": [],
   "source": [
    "epsilon = 1e-6"
   ]
  },
  {
   "cell_type": "markdown",
   "id": "e9817127-c732-4e45-9845-3b3938335522",
   "metadata": {},
   "source": [
    "4. Для полученных данных:\n",
    "\n",
    "    a) найти решение системы указанным методом."
   ]
  },
  {
   "cell_type": "code",
   "execution_count": 23,
   "id": "a2bc715b-553f-4bc8-b020-56f0611d7510",
   "metadata": {},
   "outputs": [
    {
     "name": "stdout",
     "output_type": "stream",
     "text": [
      "2.5499999087477248\n",
      "3.909999993822787\n",
      "3.830000006613991\n",
      "3.3099999447958\n"
     ]
    }
   ],
   "source": [
    "x_, iters = gradient_descent(A, b, epsilon)\n",
    "\n",
    "print(*x_, sep='\\n')"
   ]
  },
  {
   "cell_type": "markdown",
   "id": "862f0656-27cb-4bdf-baf2-99783210aebb",
   "metadata": {},
   "source": [
    "Число итераций равно:"
   ]
  },
  {
   "cell_type": "code",
   "execution_count": 24,
   "id": "8baa6d29-071c-45ba-8c49-815891409860",
   "metadata": {},
   "outputs": [
    {
     "name": "stdout",
     "output_type": "stream",
     "text": [
      "19\n"
     ]
    }
   ],
   "source": [
    "print(iters)"
   ]
  },
  {
   "cell_type": "markdown",
   "id": "fd978ea5-8222-48e3-a2eb-95b01f428e41",
   "metadata": {},
   "source": [
    "Выполнить проверку путем вычисления вектора невязки."
   ]
  },
  {
   "cell_type": "code",
   "execution_count": 25,
   "id": "02a219b4-26d1-451e-a2ec-df9cf8a39cb5",
   "metadata": {},
   "outputs": [
    {
     "name": "stdout",
     "output_type": "stream",
     "text": [
      "-0.000631978822639212\n",
      "-0.00022748094488633797\n",
      "-0.00012593421706696972\n",
      "-0.0004260748210072052\n"
     ]
    }
   ],
   "source": [
    "r = np.zeros(n)\n",
    "for i in range(n):\n",
    "    for j in range(n):\n",
    "        r[i] += A[i][j]*x_[j];\n",
    "    r[i] -= b[i]\n",
    "\n",
    "print(*r, sep='\\n')"
   ]
  },
  {
   "cell_type": "markdown",
   "id": "23c19bed-6385-48eb-8eca-86d0b189ae8f",
   "metadata": {},
   "source": [
    "б) найти матрицу, обратную к матрице системы."
   ]
  },
  {
   "cell_type": "code",
   "execution_count": 11,
   "id": "3078ed1e-2279-4c51-ab11-e491e9af182c",
   "metadata": {},
   "outputs": [
    {
     "name": "stdout",
     "output_type": "stream",
     "text": [
      "[ 1.63348934e-04 -2.88426549e-05 -2.62677761e-05 -4.93846532e-06]\n",
      "[-2.89568846e-05  1.46725675e-04 -7.39498247e-06 -1.87078334e-05]\n",
      "[-2.83824950e-05  8.98849238e-07  1.56288811e-04 -1.89127483e-05]\n",
      "[-4.95808080e-06 -1.86282086e-05 -1.87614470e-05  1.52420461e-04]\n"
     ]
    }
   ],
   "source": [
    "A_, iters = gradient_descent(A, np.eye(n), epsilon)\n",
    "\n",
    "print(*A_, sep='\\n')"
   ]
  },
  {
   "cell_type": "code",
   "execution_count": 12,
   "id": "8c569879-e843-4659-ac1a-fbb04d343226",
   "metadata": {},
   "outputs": [
    {
     "name": "stdout",
     "output_type": "stream",
     "text": [
      "[1. 0. 0. 0.]\n",
      "[0. 1. 0. 0.]\n",
      "[0. 0. 1. 0.]\n",
      "[0. 0. 0. 1.]\n"
     ]
    }
   ],
   "source": [
    "E = np.dot(A_, A)\n",
    "\n",
    "for i in range(n):\n",
    "    for j in range(n):\n",
    "        E[i,j] = round(np.absolute(E[i,j]), 0) # Преобразуем \"единичниую\" матрицу, округлив до двух знаков после запятой\n",
    "        \n",
    "print(*E, sep='\\n')"
   ]
  },
  {
   "cell_type": "markdown",
   "id": "94410354-b639-411a-9718-9cb723037d3b",
   "metadata": {},
   "source": [
    "в) найти число обусловленности.\n",
    "\n",
    "Вычислим число обусловленности $$\\nu(A) = | | A| | \\cdot | | A^{-1} | |,$$\n",
    "используя сферическую норму матрицы."
   ]
  },
  {
   "cell_type": "code",
   "execution_count": 13,
   "id": "5cbe0a4b-c0a0-47f0-861b-6e4c4c0dc19d",
   "metadata": {},
   "outputs": [
    {
     "name": "stdout",
     "output_type": "stream",
     "text": [
      "1.97687356430038\n"
     ]
    }
   ],
   "source": [
    "nu = np.linalg.norm(A, 2) * np.linalg.norm(A_, 2)\n",
    "print(nu)"
   ]
  }
 ],
 "metadata": {
  "kernelspec": {
   "display_name": "Python 3 (ipykernel)",
   "language": "python",
   "name": "python3"
  },
  "language_info": {
   "codemirror_mode": {
    "name": "ipython",
    "version": 3
   },
   "file_extension": ".py",
   "mimetype": "text/x-python",
   "name": "python",
   "nbconvert_exporter": "python",
   "pygments_lexer": "ipython3",
   "version": "3.10.9"
  }
 },
 "nbformat": 4,
 "nbformat_minor": 5
}
